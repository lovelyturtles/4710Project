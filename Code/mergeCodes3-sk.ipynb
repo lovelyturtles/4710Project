{
 "cells": [
  {
   "cell_type": "code",
   "execution_count": 16,
   "metadata": {
    "pycharm": {
     "name": "#%%\n"
    }
   },
   "outputs": [],
   "source": [
    "import pandas as pd"
   ]
  },
  {
   "cell_type": "code",
   "execution_count": 17,
   "metadata": {
    "pycharm": {
     "name": "#%%\n"
    }
   },
   "outputs": [],
   "source": [
    "df = pd.read_csv(\"../Data/InclMidnightData.csv\", low_memory=False)"
   ]
  },
  {
   "cell_type": "code",
   "execution_count": 18,
   "metadata": {
    "pycharm": {
     "name": "#%%\n"
    }
   },
   "outputs": [],
   "source": [
    "mask = df['Violation Code'].str.startswith('MP')\n",
    "df.loc[mask, 'Violation Code'] = df.loc[mask, 'Violation Code'].str.slice(start=2)\n",
    "\n",
    "mask = df['Violation Code'].str.startswith('P')\n",
    "df.loc[mask, 'Violation Code'] = df.loc[mask, 'Violation Code'].str.slice(start=1)\n",
    "mask = df['Violation Code'].str.startswith('M')\n",
    "df.loc[mask, 'Violation Code'] = df.loc[mask, 'Violation Code'].str.slice(start=1)\n",
    "\n",
    "mask = df['Violation Code'].str.startswith('0')\n",
    "df.loc[mask, 'Violation Code'] = df.loc[mask, 'Violation Code'].str.slice(start=1)\n",
    "\n",
    "df['Time Range'] = df['Time Range'].replace({'Overnight 1 (11:00pm-12:00am)': 'Overnight (11:00pm-5:30am)', 'Overnight 2 (12:00am-5:30am)': 'Overnight (11:00pm-5:30am)'})\n",
    "df['Time Range'] = df['Time Range'].fillna('Overnight (11:00pm-5:30am)')"
   ]
  },
  {
   "cell_type": "code",
   "execution_count": 19,
   "metadata": {
    "pycharm": {
     "name": "#%%\n"
    }
   },
   "outputs": [
    {
     "data": {
      "text/plain": "              Date             Street             Location   Fine  \\\n0       2021-11-15         Mayfair PL  (49.8822, -97.1381)   70.0   \n1       2021-11-15       Wentworth ST  (49.8714, -97.1612)   70.0   \n2       2021-11-15  LOT128-960 THOMAS  (49.8987, -97.0846)   70.0   \n3       2021-11-15           Lloyd ST   (49.873, -97.1171)  100.0   \n4       2021-11-15        Haggart AVE  (49.9497, -97.2169)   70.0   \n...            ...                ...                  ...    ...   \n590058  2023-01-02        Balmoral ST  (49.8823, -97.1546)  100.0   \n590059  2023-01-02         Carlton ST  (49.8914, -97.1446)  100.0   \n590060  2022-12-08          Olivia ST  (49.9025, -97.1583)   60.0   \n590061  2022-12-09        Lombard AVE  (49.8962, -97.1376)   70.0   \n590062  2023-02-05        Sinclair ST   (49.954, -97.1327)  100.0   \n\n        Discounted Fine Violation Code        Violation Description  \\\n0                  52.5             17  Too close to a traffic sign   \n1                  52.5             17  Too close to a traffic sign   \n2                  52.5             16                      No Park   \n3                  75.0             13                 Fire Hydrant   \n4                  52.5              4            Oversized Vehicle   \n...                 ...            ...                          ...   \n590058             75.0             69          Annual Winter Route   \n590059             75.0             69          Annual Winter Route   \n590060             45.0              1                Meter Expired   \n590061             52.5             12                 L/Z Overtime   \n590062             75.0             69          Annual Winter Route   \n\n                        Time Range  \n0       Overnight (11:00pm-5:30am)  \n1       Overnight (11:00pm-5:30am)  \n2       Overnight (11:00pm-5:30am)  \n3       Overnight (11:00pm-5:30am)  \n4       Overnight (11:00pm-5:30am)  \n...                            ...  \n590058  Overnight (11:00pm-5:30am)  \n590059  Overnight (11:00pm-5:30am)  \n590060  Overnight (11:00pm-5:30am)  \n590061  Overnight (11:00pm-5:30am)  \n590062  Overnight (11:00pm-5:30am)  \n\n[590063 rows x 8 columns]",
      "text/html": "<div>\n<style scoped>\n    .dataframe tbody tr th:only-of-type {\n        vertical-align: middle;\n    }\n\n    .dataframe tbody tr th {\n        vertical-align: top;\n    }\n\n    .dataframe thead th {\n        text-align: right;\n    }\n</style>\n<table border=\"1\" class=\"dataframe\">\n  <thead>\n    <tr style=\"text-align: right;\">\n      <th></th>\n      <th>Date</th>\n      <th>Street</th>\n      <th>Location</th>\n      <th>Fine</th>\n      <th>Discounted Fine</th>\n      <th>Violation Code</th>\n      <th>Violation Description</th>\n      <th>Time Range</th>\n    </tr>\n  </thead>\n  <tbody>\n    <tr>\n      <th>0</th>\n      <td>2021-11-15</td>\n      <td>Mayfair PL</td>\n      <td>(49.8822, -97.1381)</td>\n      <td>70.0</td>\n      <td>52.5</td>\n      <td>17</td>\n      <td>Too close to a traffic sign</td>\n      <td>Overnight (11:00pm-5:30am)</td>\n    </tr>\n    <tr>\n      <th>1</th>\n      <td>2021-11-15</td>\n      <td>Wentworth ST</td>\n      <td>(49.8714, -97.1612)</td>\n      <td>70.0</td>\n      <td>52.5</td>\n      <td>17</td>\n      <td>Too close to a traffic sign</td>\n      <td>Overnight (11:00pm-5:30am)</td>\n    </tr>\n    <tr>\n      <th>2</th>\n      <td>2021-11-15</td>\n      <td>LOT128-960 THOMAS</td>\n      <td>(49.8987, -97.0846)</td>\n      <td>70.0</td>\n      <td>52.5</td>\n      <td>16</td>\n      <td>No Park</td>\n      <td>Overnight (11:00pm-5:30am)</td>\n    </tr>\n    <tr>\n      <th>3</th>\n      <td>2021-11-15</td>\n      <td>Lloyd ST</td>\n      <td>(49.873, -97.1171)</td>\n      <td>100.0</td>\n      <td>75.0</td>\n      <td>13</td>\n      <td>Fire Hydrant</td>\n      <td>Overnight (11:00pm-5:30am)</td>\n    </tr>\n    <tr>\n      <th>4</th>\n      <td>2021-11-15</td>\n      <td>Haggart AVE</td>\n      <td>(49.9497, -97.2169)</td>\n      <td>70.0</td>\n      <td>52.5</td>\n      <td>4</td>\n      <td>Oversized Vehicle</td>\n      <td>Overnight (11:00pm-5:30am)</td>\n    </tr>\n    <tr>\n      <th>...</th>\n      <td>...</td>\n      <td>...</td>\n      <td>...</td>\n      <td>...</td>\n      <td>...</td>\n      <td>...</td>\n      <td>...</td>\n      <td>...</td>\n    </tr>\n    <tr>\n      <th>590058</th>\n      <td>2023-01-02</td>\n      <td>Balmoral ST</td>\n      <td>(49.8823, -97.1546)</td>\n      <td>100.0</td>\n      <td>75.0</td>\n      <td>69</td>\n      <td>Annual Winter Route</td>\n      <td>Overnight (11:00pm-5:30am)</td>\n    </tr>\n    <tr>\n      <th>590059</th>\n      <td>2023-01-02</td>\n      <td>Carlton ST</td>\n      <td>(49.8914, -97.1446)</td>\n      <td>100.0</td>\n      <td>75.0</td>\n      <td>69</td>\n      <td>Annual Winter Route</td>\n      <td>Overnight (11:00pm-5:30am)</td>\n    </tr>\n    <tr>\n      <th>590060</th>\n      <td>2022-12-08</td>\n      <td>Olivia ST</td>\n      <td>(49.9025, -97.1583)</td>\n      <td>60.0</td>\n      <td>45.0</td>\n      <td>1</td>\n      <td>Meter Expired</td>\n      <td>Overnight (11:00pm-5:30am)</td>\n    </tr>\n    <tr>\n      <th>590061</th>\n      <td>2022-12-09</td>\n      <td>Lombard AVE</td>\n      <td>(49.8962, -97.1376)</td>\n      <td>70.0</td>\n      <td>52.5</td>\n      <td>12</td>\n      <td>L/Z Overtime</td>\n      <td>Overnight (11:00pm-5:30am)</td>\n    </tr>\n    <tr>\n      <th>590062</th>\n      <td>2023-02-05</td>\n      <td>Sinclair ST</td>\n      <td>(49.954, -97.1327)</td>\n      <td>100.0</td>\n      <td>75.0</td>\n      <td>69</td>\n      <td>Annual Winter Route</td>\n      <td>Overnight (11:00pm-5:30am)</td>\n    </tr>\n  </tbody>\n</table>\n<p>590063 rows × 8 columns</p>\n</div>"
     },
     "execution_count": 19,
     "metadata": {},
     "output_type": "execute_result"
    }
   ],
   "source": [
    "df.to_csv(\"../Data/MidnightCleanedData2.csv\", index=False)\n",
    "df"
   ]
  },
  {
   "cell_type": "code",
   "execution_count": 19,
   "metadata": {
    "pycharm": {
     "name": "#%%\n"
    }
   },
   "outputs": [],
   "source": []
  }
 ],
 "metadata": {
  "kernelspec": {
   "display_name": "Python 3",
   "language": "python",
   "name": "python3"
  },
  "language_info": {
   "codemirror_mode": {
    "name": "ipython",
    "version": 3
   },
   "file_extension": ".py",
   "mimetype": "text/x-python",
   "name": "python",
   "nbconvert_exporter": "python",
   "pygments_lexer": "ipython3",
   "version": "3.11.2"
  },
  "orig_nbformat": 4
 },
 "nbformat": 4,
 "nbformat_minor": 2
}