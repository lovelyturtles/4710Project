{
 "cells": [
  {
   "cell_type": "code",
   "execution_count": 1,
   "metadata": {},
   "outputs": [],
   "source": [
    "import pandas as pd"
   ]
  },
  {
   "cell_type": "code",
   "execution_count": 16,
   "metadata": {},
   "outputs": [],
   "source": [
    "df = pd.read_csv(\"../Data/timeRangedData.csv\", low_memory=False)"
   ]
  },
  {
   "cell_type": "code",
   "execution_count": 3,
   "metadata": {},
   "outputs": [],
   "source": [
    "clean_violation = pd.DataFrame(columns=['Violation Code'])\n",
    "merged_range = pd.DataFrame(columns=['Time Range'])"
   ]
  },
  {
   "cell_type": "code",
   "execution_count": 19,
   "metadata": {},
   "outputs": [],
   "source": [
    "df = df.sample(n=10, random_state=1,ignore_index=True)"
   ]
  },
  {
   "cell_type": "code",
   "execution_count": 21,
   "metadata": {},
   "outputs": [],
   "source": [
    "for row in range(len(df['Violation Code'])):\n",
    "    code = str(df['Violation Code'][row])\n",
    "    range = str(df['Time Range'][row])\n",
    "    if 'MP' in code:\n",
    "        clean_code = code[2:]\n",
    "        clean_code = clean_code.lstrip('0')\n",
    "        clean_violation.loc[row] = clean_code\n",
    "\n",
    "    elif 'P' in code:\n",
    "        clean_code = code[1:]\n",
    "        clean_code = clean_code.lstrip('0')\n",
    "        clean_violation.loc[row] = clean_code\n",
    "\n",
    "    elif 'M' in code:\n",
    "        clean_code = code[1:]\n",
    "        clean_code = clean_code.lstrip('0')\n",
    "        clean_violation.loc[row] = clean_code\n",
    "\n",
    "    elif code[0] == '0':\n",
    "        clean_violation.loc[row] = code[1:]\n",
    "\n",
    "    else:\n",
    "        clean_violation.loc[row] = code\n",
    "    \n",
    "    if range ==\"Overnight 2 (12:00am-5:30am)\" or range == \"Overnight 1 (11:00pm-12:00am)\":        \n",
    "        merged_range.loc[row] = \"Overnight (11:00pm-5:30am)\"\n",
    "    else:\n",
    "        merged_range.loc[row] = range\n"
   ]
  },
  {
   "cell_type": "code",
   "execution_count": 22,
   "metadata": {},
   "outputs": [],
   "source": [
    "df['Violation Code'] = clean_violation['Violation Code']\n",
    "df['Time Range'] = merged_range[\"Time Range\"]\n",
    "df.to_csv(\"../Data/2016_and_on_codesMerged.csv\", index=False)"
   ]
  },
  {
   "cell_type": "code",
   "execution_count": null,
   "metadata": {},
   "outputs": [],
   "source": []
  }
 ],
 "metadata": {
  "kernelspec": {
   "display_name": "Python 3",
   "language": "python",
   "name": "python3"
  },
  "language_info": {
   "codemirror_mode": {
    "name": "ipython",
    "version": 3
   },
   "file_extension": ".py",
   "mimetype": "text/x-python",
   "name": "python",
   "nbconvert_exporter": "python",
   "pygments_lexer": "ipython3",
   "version": "3.11.2"
  },
  "orig_nbformat": 4
 },
 "nbformat": 4,
 "nbformat_minor": 2
}
