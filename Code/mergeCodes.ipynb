{
 "cells": [
  {
   "cell_type": "code",
   "execution_count": 1,
   "metadata": {
    "pycharm": {
     "name": "#%%\n"
    }
   },
   "outputs": [],
   "source": [
    "import pandas as pd"
   ]
  },
  {
   "cell_type": "code",
   "execution_count": 2,
   "metadata": {
    "pycharm": {
     "name": "#%%\n"
    }
   },
   "outputs": [],
   "source": [
    "df = pd.read_csv(\"../Data/InclMidnightData.csv\", low_memory=False)"
   ]
  },
  {
   "cell_type": "code",
   "execution_count": 3,
   "metadata": {
    "pycharm": {
     "name": "#%%\n"
    }
   },
   "outputs": [],
   "source": [
    "mask = df['Violation Code'].str.startswith('MP')\n",
    "df.loc[mask, 'Violation Code'] = df.loc[mask, 'Violation Code'].str.slice(start=2)\n",
    "\n",
    "mask = df['Violation Code'].str.startswith('P')\n",
    "df.loc[mask, 'Violation Code'] = df.loc[mask, 'Violation Code'].str.slice(start=1)\n",
    "mask = df['Violation Code'].str.startswith('M')\n",
    "df.loc[mask, 'Violation Code'] = df.loc[mask, 'Violation Code'].str.slice(start=1)\n",
    "\n",
    "mask = df['Violation Code'].str.startswith('0')\n",
    "df.loc[mask, 'Violation Code'] = df.loc[mask, 'Violation Code'].str.slice(start=1)\n",
    "\n",
    "df['Time Range'] = df['Time Range'].replace({'Overnight 1 (11:00pm-12:00am)': 'Overnight (11:00pm-5:30am)', 'Overnight 2 (12:00am-5:30am)': 'Overnight (11:00pm-5:30am)'})\n",
    "df['Time Range'] = df['Time Range'].fillna('Overnight (11:00pm-5:30am)')"
   ]
  },
  {
   "cell_type": "code",
   "execution_count": 4,
   "metadata": {
    "pycharm": {
     "name": "#%%\n"
    }
   },
   "outputs": [
    {
     "data": {
      "text/html": [
       "<div>\n",
       "<style scoped>\n",
       "    .dataframe tbody tr th:only-of-type {\n",
       "        vertical-align: middle;\n",
       "    }\n",
       "\n",
       "    .dataframe tbody tr th {\n",
       "        vertical-align: top;\n",
       "    }\n",
       "\n",
       "    .dataframe thead th {\n",
       "        text-align: right;\n",
       "    }\n",
       "</style>\n",
       "<table border=\"1\" class=\"dataframe\">\n",
       "  <thead>\n",
       "    <tr style=\"text-align: right;\">\n",
       "      <th></th>\n",
       "      <th>Date</th>\n",
       "      <th>Street</th>\n",
       "      <th>Location</th>\n",
       "      <th>Fine</th>\n",
       "      <th>Discounted Fine</th>\n",
       "      <th>Violation Code</th>\n",
       "      <th>Violation Description</th>\n",
       "      <th>Time Range</th>\n",
       "    </tr>\n",
       "  </thead>\n",
       "  <tbody>\n",
       "    <tr>\n",
       "      <th>0</th>\n",
       "      <td>2021-11-15</td>\n",
       "      <td>Mayfair PL</td>\n",
       "      <td>(49.8822, -97.1381)</td>\n",
       "      <td>70.0</td>\n",
       "      <td>52.5</td>\n",
       "      <td>17</td>\n",
       "      <td>Too close to a traffic sign</td>\n",
       "      <td>Overnight (11:00pm-5:30am)</td>\n",
       "    </tr>\n",
       "    <tr>\n",
       "      <th>1</th>\n",
       "      <td>2021-11-15</td>\n",
       "      <td>Wentworth ST</td>\n",
       "      <td>(49.8714, -97.1612)</td>\n",
       "      <td>70.0</td>\n",
       "      <td>52.5</td>\n",
       "      <td>17</td>\n",
       "      <td>Too close to a traffic sign</td>\n",
       "      <td>Overnight (11:00pm-5:30am)</td>\n",
       "    </tr>\n",
       "    <tr>\n",
       "      <th>2</th>\n",
       "      <td>2021-11-15</td>\n",
       "      <td>LOT128-960 THOMAS</td>\n",
       "      <td>(49.8987, -97.0846)</td>\n",
       "      <td>70.0</td>\n",
       "      <td>52.5</td>\n",
       "      <td>16</td>\n",
       "      <td>No Park</td>\n",
       "      <td>Overnight (11:00pm-5:30am)</td>\n",
       "    </tr>\n",
       "    <tr>\n",
       "      <th>3</th>\n",
       "      <td>2021-11-15</td>\n",
       "      <td>Lloyd ST</td>\n",
       "      <td>(49.873, -97.1171)</td>\n",
       "      <td>100.0</td>\n",
       "      <td>75.0</td>\n",
       "      <td>13</td>\n",
       "      <td>Fire Hydrant</td>\n",
       "      <td>Overnight (11:00pm-5:30am)</td>\n",
       "    </tr>\n",
       "    <tr>\n",
       "      <th>4</th>\n",
       "      <td>2021-11-15</td>\n",
       "      <td>Haggart AVE</td>\n",
       "      <td>(49.9497, -97.2169)</td>\n",
       "      <td>70.0</td>\n",
       "      <td>52.5</td>\n",
       "      <td>4</td>\n",
       "      <td>Oversized Vehicle</td>\n",
       "      <td>Overnight (11:00pm-5:30am)</td>\n",
       "    </tr>\n",
       "    <tr>\n",
       "      <th>...</th>\n",
       "      <td>...</td>\n",
       "      <td>...</td>\n",
       "      <td>...</td>\n",
       "      <td>...</td>\n",
       "      <td>...</td>\n",
       "      <td>...</td>\n",
       "      <td>...</td>\n",
       "      <td>...</td>\n",
       "    </tr>\n",
       "    <tr>\n",
       "      <th>592596</th>\n",
       "      <td>2022-12-21</td>\n",
       "      <td>Graham AVE</td>\n",
       "      <td>(49.8905, -97.1489)</td>\n",
       "      <td>70.0</td>\n",
       "      <td>52.5</td>\n",
       "      <td>12</td>\n",
       "      <td>L/Z Overtime</td>\n",
       "      <td>Overnight (11:00pm-5:30am)</td>\n",
       "    </tr>\n",
       "    <tr>\n",
       "      <th>592597</th>\n",
       "      <td>2022-12-21</td>\n",
       "      <td>Good ST</td>\n",
       "      <td>(49.8895, -97.1515)</td>\n",
       "      <td>60.0</td>\n",
       "      <td>45.0</td>\n",
       "      <td>1</td>\n",
       "      <td>Meter Expired</td>\n",
       "      <td>Overnight (11:00pm-5:30am)</td>\n",
       "    </tr>\n",
       "    <tr>\n",
       "      <th>592598</th>\n",
       "      <td>2022-12-21</td>\n",
       "      <td>Lombard AVE</td>\n",
       "      <td>(49.8958, -97.1362)</td>\n",
       "      <td>60.0</td>\n",
       "      <td>45.0</td>\n",
       "      <td>1</td>\n",
       "      <td>Meter Expired</td>\n",
       "      <td>Overnight (11:00pm-5:30am)</td>\n",
       "    </tr>\n",
       "    <tr>\n",
       "      <th>592599</th>\n",
       "      <td>2023-02-26</td>\n",
       "      <td>Edison AVE</td>\n",
       "      <td>(49.9344, -97.0692)</td>\n",
       "      <td>100.0</td>\n",
       "      <td>75.0</td>\n",
       "      <td>69</td>\n",
       "      <td>Annual Winter Route</td>\n",
       "      <td>Overnight (11:00pm-5:30am)</td>\n",
       "    </tr>\n",
       "    <tr>\n",
       "      <th>592600</th>\n",
       "      <td>2023-02-26</td>\n",
       "      <td>St Mary AVE</td>\n",
       "      <td>(49.8902, -97.1441)</td>\n",
       "      <td>100.0</td>\n",
       "      <td>75.0</td>\n",
       "      <td>69</td>\n",
       "      <td>Annual Winter Route</td>\n",
       "      <td>Overnight (11:00pm-5:30am)</td>\n",
       "    </tr>\n",
       "  </tbody>\n",
       "</table>\n",
       "<p>592601 rows × 8 columns</p>\n",
       "</div>"
      ],
      "text/plain": [
       "              Date             Street             Location   Fine  \\\n",
       "0       2021-11-15         Mayfair PL  (49.8822, -97.1381)   70.0   \n",
       "1       2021-11-15       Wentworth ST  (49.8714, -97.1612)   70.0   \n",
       "2       2021-11-15  LOT128-960 THOMAS  (49.8987, -97.0846)   70.0   \n",
       "3       2021-11-15           Lloyd ST   (49.873, -97.1171)  100.0   \n",
       "4       2021-11-15        Haggart AVE  (49.9497, -97.2169)   70.0   \n",
       "...            ...                ...                  ...    ...   \n",
       "592596  2022-12-21         Graham AVE  (49.8905, -97.1489)   70.0   \n",
       "592597  2022-12-21            Good ST  (49.8895, -97.1515)   60.0   \n",
       "592598  2022-12-21        Lombard AVE  (49.8958, -97.1362)   60.0   \n",
       "592599  2023-02-26         Edison AVE  (49.9344, -97.0692)  100.0   \n",
       "592600  2023-02-26        St Mary AVE  (49.8902, -97.1441)  100.0   \n",
       "\n",
       "        Discounted Fine Violation Code        Violation Description  \\\n",
       "0                  52.5             17  Too close to a traffic sign   \n",
       "1                  52.5             17  Too close to a traffic sign   \n",
       "2                  52.5             16                      No Park   \n",
       "3                  75.0             13                 Fire Hydrant   \n",
       "4                  52.5              4            Oversized Vehicle   \n",
       "...                 ...            ...                          ...   \n",
       "592596             52.5             12                 L/Z Overtime   \n",
       "592597             45.0              1                Meter Expired   \n",
       "592598             45.0              1                Meter Expired   \n",
       "592599             75.0             69          Annual Winter Route   \n",
       "592600             75.0             69          Annual Winter Route   \n",
       "\n",
       "                        Time Range  \n",
       "0       Overnight (11:00pm-5:30am)  \n",
       "1       Overnight (11:00pm-5:30am)  \n",
       "2       Overnight (11:00pm-5:30am)  \n",
       "3       Overnight (11:00pm-5:30am)  \n",
       "4       Overnight (11:00pm-5:30am)  \n",
       "...                            ...  \n",
       "592596  Overnight (11:00pm-5:30am)  \n",
       "592597  Overnight (11:00pm-5:30am)  \n",
       "592598  Overnight (11:00pm-5:30am)  \n",
       "592599  Overnight (11:00pm-5:30am)  \n",
       "592600  Overnight (11:00pm-5:30am)  \n",
       "\n",
       "[592601 rows x 8 columns]"
      ]
     },
     "execution_count": 4,
     "metadata": {},
     "output_type": "execute_result"
    }
   ],
   "source": [
    "df.to_csv(\"../Data/MidnightCleanedData3.csv\", index=False)\n",
    "df"
   ]
  },
  {
   "cell_type": "code",
   "execution_count": null,
   "metadata": {
    "pycharm": {
     "name": "#%%\n"
    }
   },
   "outputs": [],
   "source": []
  }
 ],
 "metadata": {
  "kernelspec": {
   "display_name": "Python 3",
   "language": "python",
   "name": "python3"
  },
  "language_info": {
   "codemirror_mode": {
    "name": "ipython",
    "version": 3
   },
   "file_extension": ".py",
   "mimetype": "text/x-python",
   "name": "python",
   "nbconvert_exporter": "python",
   "pygments_lexer": "ipython3",
   "version": "3.9.13"
  },
  "orig_nbformat": 4
 },
 "nbformat": 4,
 "nbformat_minor": 2
}
