{
 "cells": [
  {
   "cell_type": "code",
   "execution_count": 7,
   "metadata": {},
   "outputs": [],
   "source": [
    "import pandas as pd\n",
    "import numpy as np\n",
    "import matplotlib as plt\n",
    "import seaborn as sns\n",
    "sns.set()\n",
    "from sklearn.preprocessing import OneHotEncoder, StandardScaler\n",
    "from sklearn.cluster import DBSCAN"
   ]
  },
  {
   "cell_type": "code",
   "execution_count": 10,
   "metadata": {},
   "outputs": [],
   "source": [
    "df = pd.read_csv(\"../Data/cleanedSample.csv\",low_memory=False)\n",
    "dfNoMidnight = pd.read_csv(\"../Data/cleanedSampleNoMidnight.csv\",low_memory=False)"
   ]
  },
  {
   "cell_type": "code",
   "execution_count": 9,
   "metadata": {},
   "outputs": [
    {
     "data": {
      "text/html": [
       "<div>\n",
       "<style scoped>\n",
       "    .dataframe tbody tr th:only-of-type {\n",
       "        vertical-align: middle;\n",
       "    }\n",
       "\n",
       "    .dataframe tbody tr th {\n",
       "        vertical-align: top;\n",
       "    }\n",
       "\n",
       "    .dataframe thead th {\n",
       "        text-align: right;\n",
       "    }\n",
       "</style>\n",
       "<table border=\"1\" class=\"dataframe\">\n",
       "  <thead>\n",
       "    <tr style=\"text-align: right;\">\n",
       "      <th></th>\n",
       "      <th>Longitude</th>\n",
       "      <th>Latitude</th>\n",
       "      <th>Street</th>\n",
       "      <th>Day</th>\n",
       "      <th>Violation Code</th>\n",
       "    </tr>\n",
       "  </thead>\n",
       "  <tbody>\n",
       "    <tr>\n",
       "      <th>0</th>\n",
       "      <td>49.889043</td>\n",
       "      <td>-97.213038</td>\n",
       "      <td>Marjorie ST</td>\n",
       "      <td>Monday</td>\n",
       "      <td>37</td>\n",
       "    </tr>\n",
       "    <tr>\n",
       "      <th>1</th>\n",
       "      <td>49.889800</td>\n",
       "      <td>-97.145800</td>\n",
       "      <td>Edmonton ST</td>\n",
       "      <td>Friday</td>\n",
       "      <td>1</td>\n",
       "    </tr>\n",
       "    <tr>\n",
       "      <th>2</th>\n",
       "      <td>49.895800</td>\n",
       "      <td>-97.146300</td>\n",
       "      <td>Hargrave ST</td>\n",
       "      <td>Monday</td>\n",
       "      <td>2</td>\n",
       "    </tr>\n",
       "    <tr>\n",
       "      <th>3</th>\n",
       "      <td>49.889883</td>\n",
       "      <td>-97.147008</td>\n",
       "      <td>St Mary AVE</td>\n",
       "      <td>Thursday</td>\n",
       "      <td>1</td>\n",
       "    </tr>\n",
       "    <tr>\n",
       "      <th>4</th>\n",
       "      <td>49.889843</td>\n",
       "      <td>-97.136936</td>\n",
       "      <td>Fort ST</td>\n",
       "      <td>Wednesday</td>\n",
       "      <td>1</td>\n",
       "    </tr>\n",
       "    <tr>\n",
       "      <th>...</th>\n",
       "      <td>...</td>\n",
       "      <td>...</td>\n",
       "      <td>...</td>\n",
       "      <td>...</td>\n",
       "      <td>...</td>\n",
       "    </tr>\n",
       "    <tr>\n",
       "      <th>99995</th>\n",
       "      <td>49.892040</td>\n",
       "      <td>-97.139610</td>\n",
       "      <td>Garry ST</td>\n",
       "      <td>Friday</td>\n",
       "      <td>1</td>\n",
       "    </tr>\n",
       "    <tr>\n",
       "      <th>99996</th>\n",
       "      <td>49.899393</td>\n",
       "      <td>-97.140131</td>\n",
       "      <td>King ST</td>\n",
       "      <td>Friday</td>\n",
       "      <td>1</td>\n",
       "    </tr>\n",
       "    <tr>\n",
       "      <th>99997</th>\n",
       "      <td>49.904600</td>\n",
       "      <td>-97.157500</td>\n",
       "      <td>William AVE</td>\n",
       "      <td>Friday</td>\n",
       "      <td>3</td>\n",
       "    </tr>\n",
       "    <tr>\n",
       "      <th>99998</th>\n",
       "      <td>49.886800</td>\n",
       "      <td>-97.145800</td>\n",
       "      <td>Kennedy ST</td>\n",
       "      <td>Tuesday</td>\n",
       "      <td>1</td>\n",
       "    </tr>\n",
       "    <tr>\n",
       "      <th>99999</th>\n",
       "      <td>49.892128</td>\n",
       "      <td>-97.152480</td>\n",
       "      <td>Balmoral ST</td>\n",
       "      <td>Wednesday</td>\n",
       "      <td>1</td>\n",
       "    </tr>\n",
       "  </tbody>\n",
       "</table>\n",
       "<p>100000 rows × 5 columns</p>\n",
       "</div>"
      ],
      "text/plain": [
       "       Longitude   Latitude       Street        Day  Violation Code\n",
       "0      49.889043 -97.213038  Marjorie ST     Monday              37\n",
       "1      49.889800 -97.145800  Edmonton ST     Friday               1\n",
       "2      49.895800 -97.146300  Hargrave ST     Monday               2\n",
       "3      49.889883 -97.147008  St Mary AVE   Thursday               1\n",
       "4      49.889843 -97.136936      Fort ST  Wednesday               1\n",
       "...          ...        ...          ...        ...             ...\n",
       "99995  49.892040 -97.139610     Garry ST     Friday               1\n",
       "99996  49.899393 -97.140131      King ST     Friday               1\n",
       "99997  49.904600 -97.157500  William AVE     Friday               3\n",
       "99998  49.886800 -97.145800   Kennedy ST    Tuesday               1\n",
       "99999  49.892128 -97.152480  Balmoral ST  Wednesday               1\n",
       "\n",
       "[100000 rows x 5 columns]"
      ]
     },
     "execution_count": 9,
     "metadata": {},
     "output_type": "execute_result"
    }
   ],
   "source": [
    "df"
   ]
  },
  {
   "cell_type": "code",
   "execution_count": 11,
   "metadata": {},
   "outputs": [
    {
     "data": {
      "text/html": [
       "<div>\n",
       "<style scoped>\n",
       "    .dataframe tbody tr th:only-of-type {\n",
       "        vertical-align: middle;\n",
       "    }\n",
       "\n",
       "    .dataframe tbody tr th {\n",
       "        vertical-align: top;\n",
       "    }\n",
       "\n",
       "    .dataframe thead th {\n",
       "        text-align: right;\n",
       "    }\n",
       "</style>\n",
       "<table border=\"1\" class=\"dataframe\">\n",
       "  <thead>\n",
       "    <tr style=\"text-align: right;\">\n",
       "      <th></th>\n",
       "      <th>Longitude</th>\n",
       "      <th>Latitude</th>\n",
       "      <th>Street</th>\n",
       "      <th>Day</th>\n",
       "      <th>Violation Code</th>\n",
       "      <th>Time Range</th>\n",
       "    </tr>\n",
       "  </thead>\n",
       "  <tbody>\n",
       "    <tr>\n",
       "      <th>0</th>\n",
       "      <td>49.890180</td>\n",
       "      <td>-97.142286</td>\n",
       "      <td>Donald ST</td>\n",
       "      <td>Friday</td>\n",
       "      <td>1</td>\n",
       "      <td>Daytime (9:00am-3:30pm)</td>\n",
       "    </tr>\n",
       "    <tr>\n",
       "      <th>1</th>\n",
       "      <td>49.897200</td>\n",
       "      <td>-97.134900</td>\n",
       "      <td>Bannatyne AVE</td>\n",
       "      <td>Thursday</td>\n",
       "      <td>1</td>\n",
       "      <td>Daytime (9:00am-3:30pm)</td>\n",
       "    </tr>\n",
       "    <tr>\n",
       "      <th>2</th>\n",
       "      <td>49.884645</td>\n",
       "      <td>-97.144515</td>\n",
       "      <td>Kennedy ST</td>\n",
       "      <td>Monday</td>\n",
       "      <td>13</td>\n",
       "      <td>Evening (5:00pm-11:00pm)</td>\n",
       "    </tr>\n",
       "    <tr>\n",
       "      <th>3</th>\n",
       "      <td>49.890795</td>\n",
       "      <td>-97.140983</td>\n",
       "      <td>St Mary AVE</td>\n",
       "      <td>Tuesday</td>\n",
       "      <td>1</td>\n",
       "      <td>Daytime (9:00am-3:30pm)</td>\n",
       "    </tr>\n",
       "    <tr>\n",
       "      <th>4</th>\n",
       "      <td>49.863078</td>\n",
       "      <td>-97.144373</td>\n",
       "      <td>Osborne ST</td>\n",
       "      <td>Wednesday</td>\n",
       "      <td>1</td>\n",
       "      <td>Daytime (9:00am-3:30pm)</td>\n",
       "    </tr>\n",
       "    <tr>\n",
       "      <th>...</th>\n",
       "      <td>...</td>\n",
       "      <td>...</td>\n",
       "      <td>...</td>\n",
       "      <td>...</td>\n",
       "      <td>...</td>\n",
       "      <td>...</td>\n",
       "    </tr>\n",
       "    <tr>\n",
       "      <th>99995</th>\n",
       "      <td>49.889663</td>\n",
       "      <td>-97.148775</td>\n",
       "      <td>Vaughan ST</td>\n",
       "      <td>Wednesday</td>\n",
       "      <td>13</td>\n",
       "      <td>Daytime (9:00am-3:30pm)</td>\n",
       "    </tr>\n",
       "    <tr>\n",
       "      <th>99996</th>\n",
       "      <td>49.887138</td>\n",
       "      <td>-97.144040</td>\n",
       "      <td>Edmonton ST</td>\n",
       "      <td>Thursday</td>\n",
       "      <td>1</td>\n",
       "      <td>Rush Hour Morning (7:30am-9:00am)</td>\n",
       "    </tr>\n",
       "    <tr>\n",
       "      <th>99997</th>\n",
       "      <td>49.904600</td>\n",
       "      <td>-97.157400</td>\n",
       "      <td>William AVE</td>\n",
       "      <td>Wednesday</td>\n",
       "      <td>3</td>\n",
       "      <td>Rush Hour Morning (7:30am-9:00am)</td>\n",
       "    </tr>\n",
       "    <tr>\n",
       "      <th>99998</th>\n",
       "      <td>49.894165</td>\n",
       "      <td>-97.136211</td>\n",
       "      <td>Pioneer AVE</td>\n",
       "      <td>Tuesday</td>\n",
       "      <td>1</td>\n",
       "      <td>Rush Hour Evening (3:30pm-5:00pm)</td>\n",
       "    </tr>\n",
       "    <tr>\n",
       "      <th>99999</th>\n",
       "      <td>49.887327</td>\n",
       "      <td>-97.145835</td>\n",
       "      <td>Kennedy ST</td>\n",
       "      <td>Thursday</td>\n",
       "      <td>1</td>\n",
       "      <td>Daytime (9:00am-3:30pm)</td>\n",
       "    </tr>\n",
       "  </tbody>\n",
       "</table>\n",
       "<p>100000 rows × 6 columns</p>\n",
       "</div>"
      ],
      "text/plain": [
       "       Longitude   Latitude         Street        Day  Violation Code  \\\n",
       "0      49.890180 -97.142286      Donald ST     Friday               1   \n",
       "1      49.897200 -97.134900  Bannatyne AVE   Thursday               1   \n",
       "2      49.884645 -97.144515     Kennedy ST     Monday              13   \n",
       "3      49.890795 -97.140983    St Mary AVE    Tuesday               1   \n",
       "4      49.863078 -97.144373     Osborne ST  Wednesday               1   \n",
       "...          ...        ...            ...        ...             ...   \n",
       "99995  49.889663 -97.148775     Vaughan ST  Wednesday              13   \n",
       "99996  49.887138 -97.144040    Edmonton ST   Thursday               1   \n",
       "99997  49.904600 -97.157400    William AVE  Wednesday               3   \n",
       "99998  49.894165 -97.136211    Pioneer AVE    Tuesday               1   \n",
       "99999  49.887327 -97.145835     Kennedy ST   Thursday               1   \n",
       "\n",
       "                              Time Range  \n",
       "0                Daytime (9:00am-3:30pm)  \n",
       "1                Daytime (9:00am-3:30pm)  \n",
       "2               Evening (5:00pm-11:00pm)  \n",
       "3                Daytime (9:00am-3:30pm)  \n",
       "4                Daytime (9:00am-3:30pm)  \n",
       "...                                  ...  \n",
       "99995            Daytime (9:00am-3:30pm)  \n",
       "99996  Rush Hour Morning (7:30am-9:00am)  \n",
       "99997  Rush Hour Morning (7:30am-9:00am)  \n",
       "99998  Rush Hour Evening (3:30pm-5:00pm)  \n",
       "99999            Daytime (9:00am-3:30pm)  \n",
       "\n",
       "[100000 rows x 6 columns]"
      ]
     },
     "execution_count": 11,
     "metadata": {},
     "output_type": "execute_result"
    }
   ],
   "source": [
    "dfNoMidnight"
   ]
  },
  {
   "cell_type": "code",
   "execution_count": 12,
   "metadata": {},
   "outputs": [],
   "source": [
    "numericalCols = [\"Longitude\",\"Latitude\"]\n",
    "numericalData = df[numericalCols]\n",
    "\n",
    "# standardize the numerical data to have a mean of 0 and a variance of 1\n",
    "scaler = StandardScaler()\n",
    "numericalDataScaled = scaler.fit_transform(numericalData)\n",
    "df[numericalCols] = numericalDataScaled\n",
    "\n",
    "numericalDataScaled2 = scaler.fit_transform(numericalData)\n",
    "dfNoMidnight[numericalCols] = numericalDataScaled2\n"
   ]
  },
  {
   "cell_type": "code",
   "execution_count": 13,
   "metadata": {},
   "outputs": [
    {
     "name": "stderr",
     "output_type": "stream",
     "text": [
      "C:\\Users\\User\\AppData\\Local\\Temp\\ipykernel_16452\\1467450142.py:1: FutureWarning: The default value of numeric_only in DataFrame.corr is deprecated. In a future version, it will default to False. Select only valid columns or specify the value of numeric_only to silence this warning.\n",
      "  corr_matrix = df.corr()\n"
     ]
    },
    {
     "data": {
      "text/plain": [
       "<Axes: >"
      ]
     },
     "execution_count": 13,
     "metadata": {},
     "output_type": "execute_result"
    },
    {
     "data": {
      "image/png": "[encoded data removed]",
      "text/plain": [
       "<Figure size 640x480 with 2 Axes>"
      ]
     },
     "metadata": {},
     "output_type": "display_data"
    }
   ],
   "source": [
    "corr_matrix = df.corr()\n",
    "sns.heatmap(corr_matrix, cmap=\"coolwarm\", annot=True)"
   ]
  },
  {
   "cell_type": "code",
   "execution_count": 14,
   "metadata": {},
   "outputs": [
    {
     "name": "stderr",
     "output_type": "stream",
     "text": [
      "C:\\Users\\User\\AppData\\Local\\Temp\\ipykernel_16452\\1303294192.py:1: FutureWarning: The default value of numeric_only in DataFrame.corr is deprecated. In a future version, it will default to False. Select only valid columns or specify the value of numeric_only to silence this warning.\n",
      "  corr_matrix2 = dfNoMidnight.corr()\n"
     ]
    },
    {
     "data": {
      "text/plain": [
       "<Axes: >"
      ]
     },
     "execution_count": 14,
     "metadata": {},
     "output_type": "execute_result"
    },
    {
     "data": {
      "image/png": "[encoded data removed]",
      "text/plain": [
       "<Figure size 640x480 with 2 Axes>"
      ]
     },
     "metadata": {},
     "output_type": "display_data"
    }
   ],
   "source": [
    "corr_matrix2 = dfNoMidnight.corr()\n",
    "sns.heatmap(corr_matrix2, cmap=\"coolwarm\", annot=True)"
   ]
  },
  {
   "cell_type": "code",
   "execution_count": null,
   "metadata": {},
   "outputs": [],
   "source": []
  }
 ],
 "metadata": {
  "kernelspec": {
   "display_name": "Python 3",
   "language": "python",
   "name": "python3"
  },
  "language_info": {
   "codemirror_mode": {
    "name": "ipython",
    "version": 3
   },
   "file_extension": ".py",
   "mimetype": "text/x-python",
   "name": "python",
   "nbconvert_exporter": "python",
   "pygments_lexer": "ipython3",
   "version": "3.11.2"
  },
  "orig_nbformat": 4
 },
 "nbformat": 4,
 "nbformat_minor": 2
}
