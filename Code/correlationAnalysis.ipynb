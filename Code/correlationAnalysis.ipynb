{
 "cells": [
  {
   "cell_type": "code",
   "execution_count": 1,
   "metadata": {},
   "outputs": [],
   "source": [
    "import pandas as pd\n",
    "import numpy as np\n",
    "import matplotlib as plt\n",
    "import seaborn as sns\n",
    "sns.set()\n",
    "from sklearn.preprocessing import OneHotEncoder, StandardScaler\n",
    "from sklearn.cluster import DBSCAN"
   ]
  },
  {
   "cell_type": "code",
   "execution_count": 6,
   "metadata": {},
   "outputs": [],
   "source": [
    "df = pd.read_csv(\"../Data/cleanedSample.csv\",low_memory=False)"
   ]
  },
  {
   "cell_type": "code",
   "execution_count": 7,
   "metadata": {},
   "outputs": [],
   "source": [
    "# Select the columns to encode\n",
    "columns_to_encode = ['Day', 'Violation Code', 'Street',\"Time Range\"]\n",
    "\n",
    "# Create the OneHotEncoder object\n",
    "encoder = OneHotEncoder(sparse_output=False, handle_unknown='ignore',dtype=np.bool_)\n",
    "\n",
    "# Fit the encoder to the data\n",
    "encoder.fit(df[columns_to_encode])\n",
    "\n",
    "# Transform the data\n",
    "encoded_data = encoder.transform(df[columns_to_encode])\n",
    "\n",
    "# Create column names for the encoded data\n",
    "encoded_columns = encoder.get_feature_names_out(columns_to_encode)\n",
    "\n",
    "encoded_columns_df = pd.DataFrame(encoded_data, columns=encoded_columns)\n",
    "\n",
    "encoded_columns_df = encoded_columns_df.astype(np.bool_)\n"
   ]
  },
  {
   "cell_type": "code",
   "execution_count": 9,
   "metadata": {},
   "outputs": [],
   "source": [
    "encoded_columns_df[\"Latitude\"] = df[\"Latitude\"]\n",
    "encoded_columns_df[\"Longitude\"] = df[\"Longitude\"]"
   ]
  },
  {
   "cell_type": "code",
   "execution_count": 10,
   "metadata": {},
   "outputs": [],
   "source": [
    "df = encoded_columns_df"
   ]
  },
  {
   "cell_type": "code",
   "execution_count": 11,
   "metadata": {},
   "outputs": [],
   "source": [
    "numericalCols = [\"Longitude\",\"Latitude\"]\n",
    "numericalData = df[numericalCols]\n",
    "\n",
    "# standardize the numerical data to have a mean of 0 and a variance of 1\n",
    "scaler = StandardScaler()\n",
    "numericalDataScaled = scaler.fit_transform(numericalData)\n",
    "df[numericalCols] = numericalDataScaled\n"
   ]
  },
  {
   "cell_type": "code",
   "execution_count": 12,
   "metadata": {},
   "outputs": [
    {
     "data": {
      "text/plain": [
       "<Axes: >"
      ]
     },
     "execution_count": 12,
     "metadata": {},
     "output_type": "execute_result"
    }
   ],
   "source": [
    "corr_matrix = df.corr()\n",
    "sns.heatmap(corr_matrix, cmap=\"coolwarm\", annot=True)"
   ]
  },
  {
   "cell_type": "code",
   "execution_count": null,
   "metadata": {},
   "outputs": [],
   "source": []
  }
 ],
 "metadata": {
  "kernelspec": {
   "display_name": "Python 3",
   "language": "python",
   "name": "python3"
  },
  "language_info": {
   "codemirror_mode": {
    "name": "ipython",
    "version": 3
   },
   "file_extension": ".py",
   "mimetype": "text/x-python",
   "name": "python",
   "nbconvert_exporter": "python",
   "pygments_lexer": "ipython3",
   "version": "3.11.2"
  },
  "orig_nbformat": 4
 },
 "nbformat": 4,
 "nbformat_minor": 2
}
