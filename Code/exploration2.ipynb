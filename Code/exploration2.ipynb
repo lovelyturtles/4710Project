{
 "cells": [
  {
   "cell_type": "code",
   "execution_count": 50,
   "metadata": {
    "pycharm": {
     "name": "#%%\n"
    }
   },
   "outputs": [],
   "source": [
    "import pandas as pd"
   ]
  },
  {
   "cell_type": "code",
   "execution_count": 51,
   "metadata": {
    "pycharm": {
     "name": "#%%\n"
    }
   },
   "outputs": [],
   "source": [
    "df = pd.read_csv(\"../Data/2016_and_on.csv\")"
   ]
  },
  {
   "cell_type": "code",
   "execution_count": 52,
   "metadata": {
    "pycharm": {
     "name": "#%%\n"
    }
   },
   "outputs": [
    {
     "name": "stdout",
     "output_type": "stream",
     "text": [
      "0:00:00     97040\n",
      "15:32:46       60\n",
      "15:33:10       59\n",
      "15:32:58       57\n",
      "15:32:40       57\n",
      "            ...  \n",
      "5:37:48         1\n",
      "22:13:55        1\n",
      "19:09:20        1\n",
      "19:04:20        1\n",
      "17:22:05        1\n",
      "Name: Time, Length: 76434, dtype: int64\n"
     ]
    }
   ],
   "source": [
    "counts = df['Time'].value_counts()\n",
    "\n",
    "# print the counts\n",
    "print(counts)"
   ]
  },
  {
   "cell_type": "code",
   "execution_count": 53,
   "metadata": {
    "pycharm": {
     "name": "#%%\n"
    }
   },
   "outputs": [
    {
     "name": "stdout",
     "output_type": "stream",
     "text": [
      "0:00:00     97040\n",
      "15:32:46       60\n",
      "15:33:10       59\n",
      "15:32:58       57\n",
      "15:32:40       57\n",
      "            ...  \n",
      "5:37:48         1\n",
      "22:13:55        1\n",
      "19:09:20        1\n",
      "19:04:20        1\n",
      "17:22:05        1\n",
      "Name: Time, Length: 76434, dtype: int64\n"
     ]
    }
   ],
   "source": [
    "#df = df[df['Time'] != '00:00:00']\n",
    "#df = df[df['Time'] != '0:00:00']\n",
    "counts = df['Time'].value_counts()\n",
    "\n",
    "# print the counts\n",
    "print(counts)"
   ]
  },
  {
   "cell_type": "code",
   "execution_count": 54,
   "metadata": {
    "pycharm": {
     "name": "#%%\n"
    }
   },
   "outputs": [],
   "source": [
    "# convert the 'time' column to a datetime format\n",
    "df['Time'] = pd.to_datetime(df['Time'], format='%H:%M:%S')\n"
   ]
  },
  {
   "cell_type": "code",
   "execution_count": 55,
   "metadata": {
    "pycharm": {
     "name": "#%%\n"
    }
   },
   "outputs": [
    {
     "data": {
      "text/plain": "Timestamp('1900-01-01 00:00:00')"
     },
     "execution_count": 55,
     "metadata": {},
     "output_type": "execute_result"
    }
   ],
   "source": [
    "df['Time'].min()"
   ]
  },
  {
   "cell_type": "code",
   "execution_count": 56,
   "metadata": {
    "pycharm": {
     "name": "#%%\n"
    }
   },
   "outputs": [
    {
     "data": {
      "text/plain": "Timestamp('1900-01-01 23:59:59')"
     },
     "execution_count": 56,
     "metadata": {},
     "output_type": "execute_result"
    }
   ],
   "source": [
    "df['Time'].max()"
   ]
  },
  {
   "cell_type": "code",
   "execution_count": 57,
   "metadata": {
    "pycharm": {
     "name": "#%%\n"
    }
   },
   "outputs": [
    {
     "data": {
      "text/plain": "        Unnamed: 0        Date       Time             Street  \\\n0                0  2021-11-15 1900-01-01         Mayfair PL   \n1                1  2021-11-15 1900-01-01       Wentworth ST   \n2                2  2021-11-15 1900-01-01  LOT128-960 THOMAS   \n3                3  2021-11-15 1900-01-01           Lloyd ST   \n4                4  2021-11-15 1900-01-01        Haggart AVE   \n...            ...         ...        ...                ...   \n590058      909912  2023-01-02 1900-01-01        Balmoral ST   \n590059      909913  2023-01-02 1900-01-01         Carlton ST   \n590060      909914  2022-12-08 1900-01-01          Olivia ST   \n590061      909915  2022-12-09 1900-01-01        Lombard AVE   \n590062      909916  2023-02-05 1900-01-01        Sinclair ST   \n\n                   Location   Fine  Discounted Fine Violation Code  \\\n0       (49.8822, -97.1381)   70.0             52.5            P17   \n1       (49.8714, -97.1612)   70.0             52.5            P17   \n2       (49.8987, -97.0846)   70.0             52.5            P16   \n3        (49.873, -97.1171)  100.0             75.0            P13   \n4       (49.9497, -97.2169)   70.0             52.5            P04   \n...                     ...    ...              ...            ...   \n590058  (49.8823, -97.1546)  100.0             75.0            P69   \n590059  (49.8914, -97.1446)  100.0             75.0            P69   \n590060  (49.9025, -97.1583)   60.0             45.0            P01   \n590061  (49.8962, -97.1376)   70.0             52.5            P12   \n590062   (49.954, -97.1327)  100.0             75.0            P69   \n\n              Violation Description  \n0       Too close to a traffic sign  \n1       Too close to a traffic sign  \n2                           No Park  \n3                      Fire Hydrant  \n4                 Oversized Vehicle  \n...                             ...  \n590058          Annual Winter Route  \n590059          Annual Winter Route  \n590060                Meter Expired  \n590061                 L/Z Overtime  \n590062          Annual Winter Route  \n\n[590063 rows x 9 columns]",
      "text/html": "<div>\n<style scoped>\n    .dataframe tbody tr th:only-of-type {\n        vertical-align: middle;\n    }\n\n    .dataframe tbody tr th {\n        vertical-align: top;\n    }\n\n    .dataframe thead th {\n        text-align: right;\n    }\n</style>\n<table border=\"1\" class=\"dataframe\">\n  <thead>\n    <tr style=\"text-align: right;\">\n      <th></th>\n      <th>Unnamed: 0</th>\n      <th>Date</th>\n      <th>Time</th>\n      <th>Street</th>\n      <th>Location</th>\n      <th>Fine</th>\n      <th>Discounted Fine</th>\n      <th>Violation Code</th>\n      <th>Violation Description</th>\n    </tr>\n  </thead>\n  <tbody>\n    <tr>\n      <th>0</th>\n      <td>0</td>\n      <td>2021-11-15</td>\n      <td>1900-01-01</td>\n      <td>Mayfair PL</td>\n      <td>(49.8822, -97.1381)</td>\n      <td>70.0</td>\n      <td>52.5</td>\n      <td>P17</td>\n      <td>Too close to a traffic sign</td>\n    </tr>\n    <tr>\n      <th>1</th>\n      <td>1</td>\n      <td>2021-11-15</td>\n      <td>1900-01-01</td>\n      <td>Wentworth ST</td>\n      <td>(49.8714, -97.1612)</td>\n      <td>70.0</td>\n      <td>52.5</td>\n      <td>P17</td>\n      <td>Too close to a traffic sign</td>\n    </tr>\n    <tr>\n      <th>2</th>\n      <td>2</td>\n      <td>2021-11-15</td>\n      <td>1900-01-01</td>\n      <td>LOT128-960 THOMAS</td>\n      <td>(49.8987, -97.0846)</td>\n      <td>70.0</td>\n      <td>52.5</td>\n      <td>P16</td>\n      <td>No Park</td>\n    </tr>\n    <tr>\n      <th>3</th>\n      <td>3</td>\n      <td>2021-11-15</td>\n      <td>1900-01-01</td>\n      <td>Lloyd ST</td>\n      <td>(49.873, -97.1171)</td>\n      <td>100.0</td>\n      <td>75.0</td>\n      <td>P13</td>\n      <td>Fire Hydrant</td>\n    </tr>\n    <tr>\n      <th>4</th>\n      <td>4</td>\n      <td>2021-11-15</td>\n      <td>1900-01-01</td>\n      <td>Haggart AVE</td>\n      <td>(49.9497, -97.2169)</td>\n      <td>70.0</td>\n      <td>52.5</td>\n      <td>P04</td>\n      <td>Oversized Vehicle</td>\n    </tr>\n    <tr>\n      <th>...</th>\n      <td>...</td>\n      <td>...</td>\n      <td>...</td>\n      <td>...</td>\n      <td>...</td>\n      <td>...</td>\n      <td>...</td>\n      <td>...</td>\n      <td>...</td>\n    </tr>\n    <tr>\n      <th>590058</th>\n      <td>909912</td>\n      <td>2023-01-02</td>\n      <td>1900-01-01</td>\n      <td>Balmoral ST</td>\n      <td>(49.8823, -97.1546)</td>\n      <td>100.0</td>\n      <td>75.0</td>\n      <td>P69</td>\n      <td>Annual Winter Route</td>\n    </tr>\n    <tr>\n      <th>590059</th>\n      <td>909913</td>\n      <td>2023-01-02</td>\n      <td>1900-01-01</td>\n      <td>Carlton ST</td>\n      <td>(49.8914, -97.1446)</td>\n      <td>100.0</td>\n      <td>75.0</td>\n      <td>P69</td>\n      <td>Annual Winter Route</td>\n    </tr>\n    <tr>\n      <th>590060</th>\n      <td>909914</td>\n      <td>2022-12-08</td>\n      <td>1900-01-01</td>\n      <td>Olivia ST</td>\n      <td>(49.9025, -97.1583)</td>\n      <td>60.0</td>\n      <td>45.0</td>\n      <td>P01</td>\n      <td>Meter Expired</td>\n    </tr>\n    <tr>\n      <th>590061</th>\n      <td>909915</td>\n      <td>2022-12-09</td>\n      <td>1900-01-01</td>\n      <td>Lombard AVE</td>\n      <td>(49.8962, -97.1376)</td>\n      <td>70.0</td>\n      <td>52.5</td>\n      <td>P12</td>\n      <td>L/Z Overtime</td>\n    </tr>\n    <tr>\n      <th>590062</th>\n      <td>909916</td>\n      <td>2023-02-05</td>\n      <td>1900-01-01</td>\n      <td>Sinclair ST</td>\n      <td>(49.954, -97.1327)</td>\n      <td>100.0</td>\n      <td>75.0</td>\n      <td>P69</td>\n      <td>Annual Winter Route</td>\n    </tr>\n  </tbody>\n</table>\n<p>590063 rows × 9 columns</p>\n</div>"
     },
     "execution_count": 57,
     "metadata": {},
     "output_type": "execute_result"
    }
   ],
   "source": [
    "df"
   ]
  },
  {
   "cell_type": "code",
   "execution_count": 58,
   "metadata": {
    "pycharm": {
     "name": "#%%\n"
    }
   },
   "outputs": [
    {
     "data": {
      "text/plain": "        Unnamed: 0        Date       Time             Street  \\\n0                0  2021-11-15 1900-01-01         Mayfair PL   \n1                1  2021-11-15 1900-01-01       Wentworth ST   \n2                2  2021-11-15 1900-01-01  LOT128-960 THOMAS   \n3                3  2021-11-15 1900-01-01           Lloyd ST   \n4                4  2021-11-15 1900-01-01        Haggart AVE   \n...            ...         ...        ...                ...   \n590058      909912  2023-01-02 1900-01-01        Balmoral ST   \n590059      909913  2023-01-02 1900-01-01         Carlton ST   \n590060      909914  2022-12-08 1900-01-01          Olivia ST   \n590061      909915  2022-12-09 1900-01-01        Lombard AVE   \n590062      909916  2023-02-05 1900-01-01        Sinclair ST   \n\n                   Location   Fine  Discounted Fine Violation Code  \\\n0       (49.8822, -97.1381)   70.0             52.5            P17   \n1       (49.8714, -97.1612)   70.0             52.5            P17   \n2       (49.8987, -97.0846)   70.0             52.5            P16   \n3        (49.873, -97.1171)  100.0             75.0            P13   \n4       (49.9497, -97.2169)   70.0             52.5            P04   \n...                     ...    ...              ...            ...   \n590058  (49.8823, -97.1546)  100.0             75.0            P69   \n590059  (49.8914, -97.1446)  100.0             75.0            P69   \n590060  (49.9025, -97.1583)   60.0             45.0            P01   \n590061  (49.8962, -97.1376)   70.0             52.5            P12   \n590062   (49.954, -97.1327)  100.0             75.0            P69   \n\n              Violation Description Time Range  \n0       Too close to a traffic sign        NaN  \n1       Too close to a traffic sign        NaN  \n2                           No Park        NaN  \n3                      Fire Hydrant        NaN  \n4                 Oversized Vehicle        NaN  \n...                             ...        ...  \n590058          Annual Winter Route        NaN  \n590059          Annual Winter Route        NaN  \n590060                Meter Expired        NaN  \n590061                 L/Z Overtime        NaN  \n590062          Annual Winter Route        NaN  \n\n[590063 rows x 10 columns]",
      "text/html": "<div>\n<style scoped>\n    .dataframe tbody tr th:only-of-type {\n        vertical-align: middle;\n    }\n\n    .dataframe tbody tr th {\n        vertical-align: top;\n    }\n\n    .dataframe thead th {\n        text-align: right;\n    }\n</style>\n<table border=\"1\" class=\"dataframe\">\n  <thead>\n    <tr style=\"text-align: right;\">\n      <th></th>\n      <th>Unnamed: 0</th>\n      <th>Date</th>\n      <th>Time</th>\n      <th>Street</th>\n      <th>Location</th>\n      <th>Fine</th>\n      <th>Discounted Fine</th>\n      <th>Violation Code</th>\n      <th>Violation Description</th>\n      <th>Time Range</th>\n    </tr>\n  </thead>\n  <tbody>\n    <tr>\n      <th>0</th>\n      <td>0</td>\n      <td>2021-11-15</td>\n      <td>1900-01-01</td>\n      <td>Mayfair PL</td>\n      <td>(49.8822, -97.1381)</td>\n      <td>70.0</td>\n      <td>52.5</td>\n      <td>P17</td>\n      <td>Too close to a traffic sign</td>\n      <td>NaN</td>\n    </tr>\n    <tr>\n      <th>1</th>\n      <td>1</td>\n      <td>2021-11-15</td>\n      <td>1900-01-01</td>\n      <td>Wentworth ST</td>\n      <td>(49.8714, -97.1612)</td>\n      <td>70.0</td>\n      <td>52.5</td>\n      <td>P17</td>\n      <td>Too close to a traffic sign</td>\n      <td>NaN</td>\n    </tr>\n    <tr>\n      <th>2</th>\n      <td>2</td>\n      <td>2021-11-15</td>\n      <td>1900-01-01</td>\n      <td>LOT128-960 THOMAS</td>\n      <td>(49.8987, -97.0846)</td>\n      <td>70.0</td>\n      <td>52.5</td>\n      <td>P16</td>\n      <td>No Park</td>\n      <td>NaN</td>\n    </tr>\n    <tr>\n      <th>3</th>\n      <td>3</td>\n      <td>2021-11-15</td>\n      <td>1900-01-01</td>\n      <td>Lloyd ST</td>\n      <td>(49.873, -97.1171)</td>\n      <td>100.0</td>\n      <td>75.0</td>\n      <td>P13</td>\n      <td>Fire Hydrant</td>\n      <td>NaN</td>\n    </tr>\n    <tr>\n      <th>4</th>\n      <td>4</td>\n      <td>2021-11-15</td>\n      <td>1900-01-01</td>\n      <td>Haggart AVE</td>\n      <td>(49.9497, -97.2169)</td>\n      <td>70.0</td>\n      <td>52.5</td>\n      <td>P04</td>\n      <td>Oversized Vehicle</td>\n      <td>NaN</td>\n    </tr>\n    <tr>\n      <th>...</th>\n      <td>...</td>\n      <td>...</td>\n      <td>...</td>\n      <td>...</td>\n      <td>...</td>\n      <td>...</td>\n      <td>...</td>\n      <td>...</td>\n      <td>...</td>\n      <td>...</td>\n    </tr>\n    <tr>\n      <th>590058</th>\n      <td>909912</td>\n      <td>2023-01-02</td>\n      <td>1900-01-01</td>\n      <td>Balmoral ST</td>\n      <td>(49.8823, -97.1546)</td>\n      <td>100.0</td>\n      <td>75.0</td>\n      <td>P69</td>\n      <td>Annual Winter Route</td>\n      <td>NaN</td>\n    </tr>\n    <tr>\n      <th>590059</th>\n      <td>909913</td>\n      <td>2023-01-02</td>\n      <td>1900-01-01</td>\n      <td>Carlton ST</td>\n      <td>(49.8914, -97.1446)</td>\n      <td>100.0</td>\n      <td>75.0</td>\n      <td>P69</td>\n      <td>Annual Winter Route</td>\n      <td>NaN</td>\n    </tr>\n    <tr>\n      <th>590060</th>\n      <td>909914</td>\n      <td>2022-12-08</td>\n      <td>1900-01-01</td>\n      <td>Olivia ST</td>\n      <td>(49.9025, -97.1583)</td>\n      <td>60.0</td>\n      <td>45.0</td>\n      <td>P01</td>\n      <td>Meter Expired</td>\n      <td>NaN</td>\n    </tr>\n    <tr>\n      <th>590061</th>\n      <td>909915</td>\n      <td>2022-12-09</td>\n      <td>1900-01-01</td>\n      <td>Lombard AVE</td>\n      <td>(49.8962, -97.1376)</td>\n      <td>70.0</td>\n      <td>52.5</td>\n      <td>P12</td>\n      <td>L/Z Overtime</td>\n      <td>NaN</td>\n    </tr>\n    <tr>\n      <th>590062</th>\n      <td>909916</td>\n      <td>2023-02-05</td>\n      <td>1900-01-01</td>\n      <td>Sinclair ST</td>\n      <td>(49.954, -97.1327)</td>\n      <td>100.0</td>\n      <td>75.0</td>\n      <td>P69</td>\n      <td>Annual Winter Route</td>\n      <td>NaN</td>\n    </tr>\n  </tbody>\n</table>\n<p>590063 rows × 10 columns</p>\n</div>"
     },
     "execution_count": 58,
     "metadata": {},
     "output_type": "execute_result"
    }
   ],
   "source": [
    "time_ranges = [pd.to_datetime('00:00:00', format='%H:%M:%S'),\n",
    "               pd.to_datetime('05:30:00', format='%H:%M:%S'),\n",
    "               pd.to_datetime('07:30:00', format='%H:%M:%S'),\n",
    "               pd.to_datetime('09:00:00', format='%H:%M:%S'),\n",
    "               pd.to_datetime('15:30:00', format='%H:%M:%S'),\n",
    "               pd.to_datetime('17:00:00', format='%H:%M:%S'),\n",
    "               pd.to_datetime('23:00:00', format='%H:%M:%S'),\n",
    "               pd.to_datetime('23:59:59', format='%H:%M:%S')]\n",
    "\n",
    "# create a new column with the time ranges\n",
    "df['Time Range'] = pd.cut(df['Time'], bins=time_ranges, labels=['Overnight 2 (12:00am-5:30am)','Early Morning (5:30am-7:30am)','Rush Hour Morning (7:30am-9:00am)', 'Daytime (9:00am-3:30pm)','Rush Hour Evening (3:30pm-5:00pm)', 'Evening (5:00pm-11:00pm)', 'Overnight 1 (11:00pm-12:00am)'])\n",
    "df"
   ]
  },
  {
   "cell_type": "code",
   "execution_count": 59,
   "metadata": {
    "pycharm": {
     "name": "#%%\n"
    }
   },
   "outputs": [
    {
     "data": {
      "text/plain": "              Date             Street             Location   Fine  \\\n0       2021-11-15         Mayfair PL  (49.8822, -97.1381)   70.0   \n1       2021-11-15       Wentworth ST  (49.8714, -97.1612)   70.0   \n2       2021-11-15  LOT128-960 THOMAS  (49.8987, -97.0846)   70.0   \n3       2021-11-15           Lloyd ST   (49.873, -97.1171)  100.0   \n4       2021-11-15        Haggart AVE  (49.9497, -97.2169)   70.0   \n...            ...                ...                  ...    ...   \n590058  2023-01-02        Balmoral ST  (49.8823, -97.1546)  100.0   \n590059  2023-01-02         Carlton ST  (49.8914, -97.1446)  100.0   \n590060  2022-12-08          Olivia ST  (49.9025, -97.1583)   60.0   \n590061  2022-12-09        Lombard AVE  (49.8962, -97.1376)   70.0   \n590062  2023-02-05        Sinclair ST   (49.954, -97.1327)  100.0   \n\n        Discounted Fine Violation Code        Violation Description Time Range  \n0                  52.5            P17  Too close to a traffic sign        NaN  \n1                  52.5            P17  Too close to a traffic sign        NaN  \n2                  52.5            P16                      No Park        NaN  \n3                  75.0            P13                 Fire Hydrant        NaN  \n4                  52.5            P04            Oversized Vehicle        NaN  \n...                 ...            ...                          ...        ...  \n590058             75.0            P69          Annual Winter Route        NaN  \n590059             75.0            P69          Annual Winter Route        NaN  \n590060             45.0            P01                Meter Expired        NaN  \n590061             52.5            P12                 L/Z Overtime        NaN  \n590062             75.0            P69          Annual Winter Route        NaN  \n\n[590063 rows x 8 columns]",
      "text/html": "<div>\n<style scoped>\n    .dataframe tbody tr th:only-of-type {\n        vertical-align: middle;\n    }\n\n    .dataframe tbody tr th {\n        vertical-align: top;\n    }\n\n    .dataframe thead th {\n        text-align: right;\n    }\n</style>\n<table border=\"1\" class=\"dataframe\">\n  <thead>\n    <tr style=\"text-align: right;\">\n      <th></th>\n      <th>Date</th>\n      <th>Street</th>\n      <th>Location</th>\n      <th>Fine</th>\n      <th>Discounted Fine</th>\n      <th>Violation Code</th>\n      <th>Violation Description</th>\n      <th>Time Range</th>\n    </tr>\n  </thead>\n  <tbody>\n    <tr>\n      <th>0</th>\n      <td>2021-11-15</td>\n      <td>Mayfair PL</td>\n      <td>(49.8822, -97.1381)</td>\n      <td>70.0</td>\n      <td>52.5</td>\n      <td>P17</td>\n      <td>Too close to a traffic sign</td>\n      <td>NaN</td>\n    </tr>\n    <tr>\n      <th>1</th>\n      <td>2021-11-15</td>\n      <td>Wentworth ST</td>\n      <td>(49.8714, -97.1612)</td>\n      <td>70.0</td>\n      <td>52.5</td>\n      <td>P17</td>\n      <td>Too close to a traffic sign</td>\n      <td>NaN</td>\n    </tr>\n    <tr>\n      <th>2</th>\n      <td>2021-11-15</td>\n      <td>LOT128-960 THOMAS</td>\n      <td>(49.8987, -97.0846)</td>\n      <td>70.0</td>\n      <td>52.5</td>\n      <td>P16</td>\n      <td>No Park</td>\n      <td>NaN</td>\n    </tr>\n    <tr>\n      <th>3</th>\n      <td>2021-11-15</td>\n      <td>Lloyd ST</td>\n      <td>(49.873, -97.1171)</td>\n      <td>100.0</td>\n      <td>75.0</td>\n      <td>P13</td>\n      <td>Fire Hydrant</td>\n      <td>NaN</td>\n    </tr>\n    <tr>\n      <th>4</th>\n      <td>2021-11-15</td>\n      <td>Haggart AVE</td>\n      <td>(49.9497, -97.2169)</td>\n      <td>70.0</td>\n      <td>52.5</td>\n      <td>P04</td>\n      <td>Oversized Vehicle</td>\n      <td>NaN</td>\n    </tr>\n    <tr>\n      <th>...</th>\n      <td>...</td>\n      <td>...</td>\n      <td>...</td>\n      <td>...</td>\n      <td>...</td>\n      <td>...</td>\n      <td>...</td>\n      <td>...</td>\n    </tr>\n    <tr>\n      <th>590058</th>\n      <td>2023-01-02</td>\n      <td>Balmoral ST</td>\n      <td>(49.8823, -97.1546)</td>\n      <td>100.0</td>\n      <td>75.0</td>\n      <td>P69</td>\n      <td>Annual Winter Route</td>\n      <td>NaN</td>\n    </tr>\n    <tr>\n      <th>590059</th>\n      <td>2023-01-02</td>\n      <td>Carlton ST</td>\n      <td>(49.8914, -97.1446)</td>\n      <td>100.0</td>\n      <td>75.0</td>\n      <td>P69</td>\n      <td>Annual Winter Route</td>\n      <td>NaN</td>\n    </tr>\n    <tr>\n      <th>590060</th>\n      <td>2022-12-08</td>\n      <td>Olivia ST</td>\n      <td>(49.9025, -97.1583)</td>\n      <td>60.0</td>\n      <td>45.0</td>\n      <td>P01</td>\n      <td>Meter Expired</td>\n      <td>NaN</td>\n    </tr>\n    <tr>\n      <th>590061</th>\n      <td>2022-12-09</td>\n      <td>Lombard AVE</td>\n      <td>(49.8962, -97.1376)</td>\n      <td>70.0</td>\n      <td>52.5</td>\n      <td>P12</td>\n      <td>L/Z Overtime</td>\n      <td>NaN</td>\n    </tr>\n    <tr>\n      <th>590062</th>\n      <td>2023-02-05</td>\n      <td>Sinclair ST</td>\n      <td>(49.954, -97.1327)</td>\n      <td>100.0</td>\n      <td>75.0</td>\n      <td>P69</td>\n      <td>Annual Winter Route</td>\n      <td>NaN</td>\n    </tr>\n  </tbody>\n</table>\n<p>590063 rows × 8 columns</p>\n</div>"
     },
     "execution_count": 59,
     "metadata": {},
     "output_type": "execute_result"
    }
   ],
   "source": [
    "df = df.drop(['Unnamed: 0', 'Time'], axis=1)\n",
    "df"
   ]
  },
  {
   "cell_type": "code",
   "execution_count": 60,
   "metadata": {
    "pycharm": {
     "name": "#%%\n"
    }
   },
   "outputs": [],
   "source": [
    "df.to_csv(\"../Data/InclMidnightData.csv\",index=False)"
   ]
  },
  {
   "cell_type": "code",
   "execution_count": 60,
   "metadata": {
    "pycharm": {
     "name": "#%%\n"
    }
   },
   "outputs": [],
   "source": []
  }
 ],
 "metadata": {
  "kernelspec": {
   "display_name": "Python 3",
   "language": "python",
   "name": "python3"
  },
  "language_info": {
   "codemirror_mode": {
    "name": "ipython",
    "version": 3
   },
   "file_extension": ".py",
   "mimetype": "text/x-python",
   "name": "python",
   "nbconvert_exporter": "python",
   "pygments_lexer": "ipython3",
   "version": "3.11.2"
  },
  "orig_nbformat": 4
 },
 "nbformat": 4,
 "nbformat_minor": 2
}