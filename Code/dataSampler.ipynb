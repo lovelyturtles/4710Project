{
 "cells": [
  {
   "cell_type": "code",
   "execution_count": 23,
   "metadata": {},
   "outputs": [],
   "source": [
    "import pandas as pd\n",
    "import numpy as np"
   ]
  },
  {
   "cell_type": "code",
   "execution_count": 24,
   "metadata": {},
   "outputs": [],
   "source": [
    "df = pd.read_csv('../Data/mergedCodesandRangesCleanedData.csv',low_memory=False)"
   ]
  },
  {
   "cell_type": "code",
   "execution_count": 25,
   "metadata": {},
   "outputs": [],
   "source": [
    "df = df.sample(n=100000, random_state=1)"
   ]
  },
  {
   "cell_type": "code",
   "execution_count": 26,
   "metadata": {},
   "outputs": [],
   "source": [
    "df['Date'] = pd.to_datetime(df['Date'])\n",
    "df['Day'] = df['Date'].dt.day_name()\n",
    "df[['Longitude', 'Latitude']] = df['Location'].str.split(',', n=1, expand=True)\n",
    "df['Longitude'] = df['Longitude'].str[1:]\n",
    "df['Latitude'] = df['Latitude'].str[:-1]"
   ]
  },
  {
   "cell_type": "code",
   "execution_count": 27,
   "metadata": {},
   "outputs": [],
   "source": [
    "df[\"Violation Code\"] = df[\"Violation Code\"].astype(str)"
   ]
  },
  {
   "cell_type": "code",
   "execution_count": 28,
   "metadata": {},
   "outputs": [],
   "source": [
    "df = df[[\"Longitude\",\"Latitude\",\"Street\",\"Day\",\"Violation Code\",\"Time Range\"]]"
   ]
  },
  {
   "cell_type": "code",
   "execution_count": 29,
   "metadata": {},
   "outputs": [],
   "source": [
    "df.to_csv(\"../Data/cleanedSample.csv\",index=False)"
   ]
  },
  {
   "cell_type": "code",
   "execution_count": 30,
   "metadata": {},
   "outputs": [
    {
     "data": {
      "text/html": [
       "<div>\n",
       "<style scoped>\n",
       "    .dataframe tbody tr th:only-of-type {\n",
       "        vertical-align: middle;\n",
       "    }\n",
       "\n",
       "    .dataframe tbody tr th {\n",
       "        vertical-align: top;\n",
       "    }\n",
       "\n",
       "    .dataframe thead th {\n",
       "        text-align: right;\n",
       "    }\n",
       "</style>\n",
       "<table border=\"1\" class=\"dataframe\">\n",
       "  <thead>\n",
       "    <tr style=\"text-align: right;\">\n",
       "      <th></th>\n",
       "      <th>Longitude</th>\n",
       "      <th>Latitude</th>\n",
       "      <th>Street</th>\n",
       "      <th>Day</th>\n",
       "      <th>Violation Code</th>\n",
       "      <th>Time Range</th>\n",
       "    </tr>\n",
       "  </thead>\n",
       "  <tbody>\n",
       "    <tr>\n",
       "      <th>34799</th>\n",
       "      <td>49.89018</td>\n",
       "      <td>-97.142286</td>\n",
       "      <td>Donald ST</td>\n",
       "      <td>Friday</td>\n",
       "      <td>1</td>\n",
       "      <td>Daytime (9:00am-3:30pm)</td>\n",
       "    </tr>\n",
       "    <tr>\n",
       "      <th>58048</th>\n",
       "      <td>49.8972</td>\n",
       "      <td>-97.1349</td>\n",
       "      <td>Bannatyne AVE</td>\n",
       "      <td>Thursday</td>\n",
       "      <td>1</td>\n",
       "      <td>Daytime (9:00am-3:30pm)</td>\n",
       "    </tr>\n",
       "    <tr>\n",
       "      <th>4273</th>\n",
       "      <td>49.884645</td>\n",
       "      <td>-97.144515</td>\n",
       "      <td>Kennedy ST</td>\n",
       "      <td>Monday</td>\n",
       "      <td>13</td>\n",
       "      <td>Evening (5:00pm-11:00pm)</td>\n",
       "    </tr>\n",
       "    <tr>\n",
       "      <th>487104</th>\n",
       "      <td>49.890795</td>\n",
       "      <td>-97.140983</td>\n",
       "      <td>St Mary AVE</td>\n",
       "      <td>Tuesday</td>\n",
       "      <td>1</td>\n",
       "      <td>Daytime (9:00am-3:30pm)</td>\n",
       "    </tr>\n",
       "    <tr>\n",
       "      <th>339722</th>\n",
       "      <td>49.8630783</td>\n",
       "      <td>-97.144373</td>\n",
       "      <td>Osborne ST</td>\n",
       "      <td>Wednesday</td>\n",
       "      <td>1</td>\n",
       "      <td>Daytime (9:00am-3:30pm)</td>\n",
       "    </tr>\n",
       "    <tr>\n",
       "      <th>...</th>\n",
       "      <td>...</td>\n",
       "      <td>...</td>\n",
       "      <td>...</td>\n",
       "      <td>...</td>\n",
       "      <td>...</td>\n",
       "      <td>...</td>\n",
       "    </tr>\n",
       "    <tr>\n",
       "      <th>207481</th>\n",
       "      <td>49.8896633</td>\n",
       "      <td>-97.148775</td>\n",
       "      <td>Vaughan ST</td>\n",
       "      <td>Wednesday</td>\n",
       "      <td>13</td>\n",
       "      <td>Daytime (9:00am-3:30pm)</td>\n",
       "    </tr>\n",
       "    <tr>\n",
       "      <th>346576</th>\n",
       "      <td>49.8871383</td>\n",
       "      <td>-97.14404</td>\n",
       "      <td>Edmonton ST</td>\n",
       "      <td>Thursday</td>\n",
       "      <td>1</td>\n",
       "      <td>Rush Hour Morning (7:30am-9:00am)</td>\n",
       "    </tr>\n",
       "    <tr>\n",
       "      <th>63693</th>\n",
       "      <td>49.9046</td>\n",
       "      <td>-97.1574</td>\n",
       "      <td>William AVE</td>\n",
       "      <td>Wednesday</td>\n",
       "      <td>3</td>\n",
       "      <td>Rush Hour Morning (7:30am-9:00am)</td>\n",
       "    </tr>\n",
       "    <tr>\n",
       "      <th>472832</th>\n",
       "      <td>49.894165</td>\n",
       "      <td>-97.136211</td>\n",
       "      <td>Pioneer AVE</td>\n",
       "      <td>Tuesday</td>\n",
       "      <td>1</td>\n",
       "      <td>Rush Hour Evening (3:30pm-5:00pm)</td>\n",
       "    </tr>\n",
       "    <tr>\n",
       "      <th>160734</th>\n",
       "      <td>49.8873266</td>\n",
       "      <td>-97.145835</td>\n",
       "      <td>Kennedy ST</td>\n",
       "      <td>Thursday</td>\n",
       "      <td>1</td>\n",
       "      <td>Daytime (9:00am-3:30pm)</td>\n",
       "    </tr>\n",
       "  </tbody>\n",
       "</table>\n",
       "<p>100000 rows × 6 columns</p>\n",
       "</div>"
      ],
      "text/plain": [
       "         Longitude     Latitude         Street        Day Violation Code  \\\n",
       "34799     49.89018   -97.142286      Donald ST     Friday              1   \n",
       "58048      49.8972     -97.1349  Bannatyne AVE   Thursday              1   \n",
       "4273     49.884645   -97.144515     Kennedy ST     Monday             13   \n",
       "487104   49.890795   -97.140983    St Mary AVE    Tuesday              1   \n",
       "339722  49.8630783   -97.144373     Osborne ST  Wednesday              1   \n",
       "...            ...          ...            ...        ...            ...   \n",
       "207481  49.8896633   -97.148775     Vaughan ST  Wednesday             13   \n",
       "346576  49.8871383    -97.14404    Edmonton ST   Thursday              1   \n",
       "63693      49.9046     -97.1574    William AVE  Wednesday              3   \n",
       "472832   49.894165   -97.136211    Pioneer AVE    Tuesday              1   \n",
       "160734  49.8873266   -97.145835     Kennedy ST   Thursday              1   \n",
       "\n",
       "                               Time Range  \n",
       "34799             Daytime (9:00am-3:30pm)  \n",
       "58048             Daytime (9:00am-3:30pm)  \n",
       "4273             Evening (5:00pm-11:00pm)  \n",
       "487104            Daytime (9:00am-3:30pm)  \n",
       "339722            Daytime (9:00am-3:30pm)  \n",
       "...                                   ...  \n",
       "207481            Daytime (9:00am-3:30pm)  \n",
       "346576  Rush Hour Morning (7:30am-9:00am)  \n",
       "63693   Rush Hour Morning (7:30am-9:00am)  \n",
       "472832  Rush Hour Evening (3:30pm-5:00pm)  \n",
       "160734            Daytime (9:00am-3:30pm)  \n",
       "\n",
       "[100000 rows x 6 columns]"
      ]
     },
     "execution_count": 30,
     "metadata": {},
     "output_type": "execute_result"
    }
   ],
   "source": [
    "df"
   ]
  },
  {
   "cell_type": "code",
   "execution_count": null,
   "metadata": {},
   "outputs": [],
   "source": []
  }
 ],
 "metadata": {
  "kernelspec": {
   "display_name": "Python 3",
   "language": "python",
   "name": "python3"
  },
  "language_info": {
   "codemirror_mode": {
    "name": "ipython",
    "version": 3
   },
   "file_extension": ".py",
   "mimetype": "text/x-python",
   "name": "python",
   "nbconvert_exporter": "python",
   "pygments_lexer": "ipython3",
   "version": "3.11.2"
  },
  "orig_nbformat": 4
 },
 "nbformat": 4,
 "nbformat_minor": 2
}
