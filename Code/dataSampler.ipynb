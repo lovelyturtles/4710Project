{
 "cells": [
  {
   "cell_type": "code",
   "execution_count": 1,
   "metadata": {},
   "outputs": [],
   "source": [
    "import pandas as pd\n",
    "import numpy as np"
   ]
  },
  {
   "cell_type": "code",
   "execution_count": 7,
   "metadata": {},
   "outputs": [],
   "source": [
    "df = pd.read_csv('../Data/mergedCodesandRangesCleanedData.csv',low_memory=False)"
   ]
  },
  {
   "cell_type": "code",
   "execution_count": 8,
   "metadata": {},
   "outputs": [],
   "source": [
    "df = df.sample(n=100000, random_state=1)"
   ]
  },
  {
   "cell_type": "code",
   "execution_count": 9,
   "metadata": {},
   "outputs": [],
   "source": [
    "df['Date'] = pd.to_datetime(df['Date'])\n",
    "df['Day'] = df['Date'].dt.day_name()\n",
    "df[['Longitude', 'Latitude']] = df['Location'].str.split(',', n=1, expand=True)\n",
    "df['Longitude'] = df['Longitude'].str[1:]\n",
    "df['Latitude'] = df['Latitude'].str[:-1]"
   ]
  },
  {
   "cell_type": "code",
   "execution_count": 10,
   "metadata": {},
   "outputs": [],
   "source": [
    "df[\"Violation Code\"] = df[\"Violation Code\"].astype(str)"
   ]
  },
  {
   "cell_type": "code",
   "execution_count": 11,
   "metadata": {},
   "outputs": [],
   "source": [
    "df = df[[\"Longitude\",\"Latitude\",\"Street\",\"Day\",\"Violation Code\"]]"
   ]
  },
  {
   "cell_type": "code",
   "execution_count": 12,
   "metadata": {},
   "outputs": [],
   "source": [
    "df.to_csv(\"../Data/cleanedSample.csv\",index=False)"
   ]
  },
  {
   "cell_type": "code",
   "execution_count": 13,
   "metadata": {},
   "outputs": [
    {
     "data": {
      "text/html": [
       "<div>\n",
       "<style scoped>\n",
       "    .dataframe tbody tr th:only-of-type {\n",
       "        vertical-align: middle;\n",
       "    }\n",
       "\n",
       "    .dataframe tbody tr th {\n",
       "        vertical-align: top;\n",
       "    }\n",
       "\n",
       "    .dataframe thead th {\n",
       "        text-align: right;\n",
       "    }\n",
       "</style>\n",
       "<table border=\"1\" class=\"dataframe\">\n",
       "  <thead>\n",
       "    <tr style=\"text-align: right;\">\n",
       "      <th></th>\n",
       "      <th>Longitude</th>\n",
       "      <th>Latitude</th>\n",
       "      <th>Street</th>\n",
       "      <th>Day</th>\n",
       "      <th>Violation Code</th>\n",
       "    </tr>\n",
       "  </thead>\n",
       "  <tbody>\n",
       "    <tr>\n",
       "      <th>73190</th>\n",
       "      <td>49.8926</td>\n",
       "      <td>-97.1536</td>\n",
       "      <td>Spence ST</td>\n",
       "      <td>Tuesday</td>\n",
       "      <td>nan</td>\n",
       "    </tr>\n",
       "    <tr>\n",
       "      <th>23062</th>\n",
       "      <td>49.8893</td>\n",
       "      <td>-97.1476</td>\n",
       "      <td>St Mary AVE</td>\n",
       "      <td>Tuesday</td>\n",
       "      <td>nan</td>\n",
       "    </tr>\n",
       "    <tr>\n",
       "      <th>223349</th>\n",
       "      <td>49.839515</td>\n",
       "      <td>-97.151106</td>\n",
       "      <td>LOT72-1360 PEMBINA</td>\n",
       "      <td>Tuesday</td>\n",
       "      <td>nan</td>\n",
       "    </tr>\n",
       "    <tr>\n",
       "      <th>494862</th>\n",
       "      <td>49.89369</td>\n",
       "      <td>-97.15387</td>\n",
       "      <td>Spence ST</td>\n",
       "      <td>Wednesday</td>\n",
       "      <td>nan</td>\n",
       "    </tr>\n",
       "    <tr>\n",
       "      <th>1662</th>\n",
       "      <td>49.8987</td>\n",
       "      <td>-97.1334</td>\n",
       "      <td>James AVE</td>\n",
       "      <td>Friday</td>\n",
       "      <td>nan</td>\n",
       "    </tr>\n",
       "    <tr>\n",
       "      <th>...</th>\n",
       "      <td>...</td>\n",
       "      <td>...</td>\n",
       "      <td>...</td>\n",
       "      <td>...</td>\n",
       "      <td>...</td>\n",
       "    </tr>\n",
       "    <tr>\n",
       "      <th>145534</th>\n",
       "      <td>49.9037</td>\n",
       "      <td>-97.1661</td>\n",
       "      <td>Notre Dame AVE</td>\n",
       "      <td>Monday</td>\n",
       "      <td>nan</td>\n",
       "    </tr>\n",
       "    <tr>\n",
       "      <th>555353</th>\n",
       "      <td>49.8917</td>\n",
       "      <td>-97.1428</td>\n",
       "      <td>Donald ST</td>\n",
       "      <td>Tuesday</td>\n",
       "      <td>nan</td>\n",
       "    </tr>\n",
       "    <tr>\n",
       "      <th>59694</th>\n",
       "      <td>49.8852</td>\n",
       "      <td>-97.1419</td>\n",
       "      <td>Carlton ST</td>\n",
       "      <td>Tuesday</td>\n",
       "      <td>nan</td>\n",
       "    </tr>\n",
       "    <tr>\n",
       "      <th>76446</th>\n",
       "      <td>49.8928</td>\n",
       "      <td>-97.1549</td>\n",
       "      <td>Ellice AVE</td>\n",
       "      <td>Thursday</td>\n",
       "      <td>nan</td>\n",
       "    </tr>\n",
       "    <tr>\n",
       "      <th>526841</th>\n",
       "      <td>49.8931433</td>\n",
       "      <td>-97.154835</td>\n",
       "      <td>Young ST</td>\n",
       "      <td>Tuesday</td>\n",
       "      <td>nan</td>\n",
       "    </tr>\n",
       "  </tbody>\n",
       "</table>\n",
       "<p>100000 rows × 5 columns</p>\n",
       "</div>"
      ],
      "text/plain": [
       "         Longitude     Latitude              Street        Day Violation Code\n",
       "73190      49.8926     -97.1536           Spence ST    Tuesday            nan\n",
       "23062      49.8893     -97.1476         St Mary AVE    Tuesday            nan\n",
       "223349   49.839515   -97.151106  LOT72-1360 PEMBINA    Tuesday            nan\n",
       "494862    49.89369    -97.15387           Spence ST  Wednesday            nan\n",
       "1662       49.8987     -97.1334           James AVE     Friday            nan\n",
       "...            ...          ...                 ...        ...            ...\n",
       "145534     49.9037     -97.1661      Notre Dame AVE     Monday            nan\n",
       "555353     49.8917     -97.1428           Donald ST    Tuesday            nan\n",
       "59694      49.8852     -97.1419          Carlton ST    Tuesday            nan\n",
       "76446      49.8928     -97.1549          Ellice AVE   Thursday            nan\n",
       "526841  49.8931433   -97.154835            Young ST    Tuesday            nan\n",
       "\n",
       "[100000 rows x 5 columns]"
      ]
     },
     "execution_count": 13,
     "metadata": {},
     "output_type": "execute_result"
    }
   ],
   "source": [
    "df"
   ]
  },
  {
   "cell_type": "code",
   "execution_count": null,
   "metadata": {},
   "outputs": [],
   "source": []
  }
 ],
 "metadata": {
  "kernelspec": {
   "display_name": "Python 3",
   "language": "python",
   "name": "python3"
  },
  "language_info": {
   "codemirror_mode": {
    "name": "ipython",
    "version": 3
   },
   "file_extension": ".py",
   "mimetype": "text/x-python",
   "name": "python",
   "nbconvert_exporter": "python",
   "pygments_lexer": "ipython3",
   "version": "3.11.2"
  },
  "orig_nbformat": 4
 },
 "nbformat": 4,
 "nbformat_minor": 2
}
