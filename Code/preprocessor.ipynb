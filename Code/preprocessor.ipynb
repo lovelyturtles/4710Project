{
 "cells": [
  {
   "cell_type": "code",
   "execution_count": 1,
   "metadata": {},
   "outputs": [],
   "source": [
    "import pandas as pd"
   ]
  },
  {
   "cell_type": "code",
   "execution_count": 2,
   "metadata": {},
   "outputs": [],
   "source": [
    "# use the data.rar file and extract it to data.csv file\n",
    "# needs to be done manually, make sure data.csv file is in the Data folder\n",
    "df = pd.read_csv(\"../Data/data.csv\",low_memory=False)"
   ]
  },
  {
   "cell_type": "code",
   "execution_count": 3,
   "metadata": {},
   "outputs": [
    {
     "name": "stdout",
     "output_type": "stream",
     "text": [
      "                              Violation             Street  \\\n",
      "0        P17Too close to a traffic sign         Mayfair PL   \n",
      "1        P17Too close to a traffic sign       Wentworth ST   \n",
      "2                            P16No Park  LOT128-960 THOMAS   \n",
      "3                       P13Fire Hydrant           Lloyd ST   \n",
      "4                  P04Oversized Vehicle        Haggart AVE   \n",
      "...                                 ...                ...   \n",
      "1836961                 P12L/Z Overtime         Graham AVE   \n",
      "1836964                P01Meter Expired            Good ST   \n",
      "1836969                P01Meter Expired        Lombard AVE   \n",
      "1837039          P69Annual Winter Route         Edison AVE   \n",
      "1837040          P69Annual Winter Route        St Mary AVE   \n",
      "\n",
      "                    Location  Discounted Fine  Full Fine        Date      Time  \n",
      "0        (49.8822, -97.1381)             52.5       70.0  2021-11-15  00:00:00  \n",
      "1        (49.8714, -97.1612)             52.5       70.0  2021-11-15  00:00:00  \n",
      "2        (49.8987, -97.0846)             52.5       70.0  2021-11-15  00:00:00  \n",
      "3         (49.873, -97.1171)             75.0      100.0  2021-11-15  00:00:00  \n",
      "4        (49.9497, -97.2169)             52.5       70.0  2021-11-15  00:00:00  \n",
      "...                      ...              ...        ...         ...       ...  \n",
      "1836961  (49.8905, -97.1489)             52.5       70.0  2022-12-21  00:00:00  \n",
      "1836964  (49.8895, -97.1515)             45.0       60.0  2022-12-21  00:00:00  \n",
      "1836969  (49.8958, -97.1362)             45.0       60.0  2022-12-21  00:00:00  \n",
      "1837039  (49.9344, -97.0692)             75.0      100.0  2023-02-26  00:00:00  \n",
      "1837040  (49.8902, -97.1441)             75.0      100.0  2023-02-26  00:00:00  \n",
      "\n",
      "[912455 rows x 7 columns]\n"
     ]
    }
   ],
   "source": [
    "# drop location rows that are null or have (0, 0)\n",
    "df.drop(df[df['Location'].isnull()].index, inplace = True)\n",
    "df.drop(df[df['Location']== \"(0.0, 0.0)\"].index, inplace = True)\n",
    "\n",
    "# drop the point column\n",
    "df = df.drop(\"Point\",axis=1)\n",
    "\n",
    "# separate date and time to two columns\n",
    "df['Date'] = pd.to_datetime(df['Issue Date']).dt.date\n",
    "df['Time'] = pd.to_datetime(df['Issue Date']).dt.time\n",
    "df = df.drop(\"Issue Date\",axis=1)\n",
    "\n",
    "print(df)"
   ]
  },
  {
   "cell_type": "code",
   "execution_count": 4,
   "metadata": {},
   "outputs": [
    {
     "name": "stdout",
     "output_type": "stream",
     "text": [
      "                              Violation             Street  \\\n",
      "0        P17Too close to a traffic sign         Mayfair PL   \n",
      "1        P17Too close to a traffic sign       Wentworth ST   \n",
      "2                            P16No Park  LOT128-960 THOMAS   \n",
      "3                       P13Fire Hydrant           Lloyd ST   \n",
      "4                  P04Oversized Vehicle        Haggart AVE   \n",
      "...                                 ...                ...   \n",
      "1836961                 P12L/Z Overtime         Graham AVE   \n",
      "1836964                P01Meter Expired            Good ST   \n",
      "1836969                P01Meter Expired        Lombard AVE   \n",
      "1837039          P69Annual Winter Route         Edison AVE   \n",
      "1837040          P69Annual Winter Route        St Mary AVE   \n",
      "\n",
      "                    Location  Discounted Fine  Full Fine        Date  \\\n",
      "0        (49.8822, -97.1381)             52.5       70.0  2021-11-15   \n",
      "1        (49.8714, -97.1612)             52.5       70.0  2021-11-15   \n",
      "2        (49.8987, -97.0846)             52.5       70.0  2021-11-15   \n",
      "3         (49.873, -97.1171)             75.0      100.0  2021-11-15   \n",
      "4        (49.9497, -97.2169)             52.5       70.0  2021-11-15   \n",
      "...                      ...              ...        ...         ...   \n",
      "1836961  (49.8905, -97.1489)             52.5       70.0  2022-12-21   \n",
      "1836964  (49.8895, -97.1515)             45.0       60.0  2022-12-21   \n",
      "1836969  (49.8958, -97.1362)             45.0       60.0  2022-12-21   \n",
      "1837039  (49.9344, -97.0692)             75.0      100.0  2023-02-26   \n",
      "1837040  (49.8902, -97.1441)             75.0      100.0  2023-02-26   \n",
      "\n",
      "             Time Violation Code        Violation Description  \n",
      "0        00:00:00            P17  Too close to a traffic sign  \n",
      "1        00:00:00            P17  Too close to a traffic sign  \n",
      "2        00:00:00            P16                      No Park  \n",
      "3        00:00:00            P13                 Fire Hydrant  \n",
      "4        00:00:00            P04            Oversized Vehicle  \n",
      "...           ...            ...                          ...  \n",
      "1836961  00:00:00            P12                 L/Z Overtime  \n",
      "1836964  00:00:00            P01                Meter Expired  \n",
      "1836969  00:00:00            P01                Meter Expired  \n",
      "1837039  00:00:00            P69          Annual Winter Route  \n",
      "1837040  00:00:00            P69          Annual Winter Route  \n",
      "\n",
      "[912455 rows x 9 columns]\n"
     ]
    }
   ],
   "source": [
    "# separate violation code and violation description to two columns\n",
    "df['Violation Code'] = df.loc[:, 'Violation']\n",
    "df['Violation Description'] = df.loc[:, 'Violation']\n",
    "\n",
    "mask = df['Violation Code'].str.startswith('M_CMI67(1)')\n",
    "df.loc[mask, 'Violation Code'] = \"M_CMI67(1)\"\n",
    "df.loc[mask, 'Violation Description'] = \"Noise nuisance\"\n",
    "\n",
    "mask = df['Violation Code'].str[0].str.isdigit()\n",
    "df.loc[mask, 'Violation Code'] = df.loc[mask, 'Violation Code'].str.slice(stop=2)\n",
    "df.loc[mask, 'Violation Description'] = df.loc[mask, 'Violation Description'].str.slice(start=2).str.strip()\n",
    "\n",
    "mask = df['Violation Code'].str.startswith('MP')\n",
    "df.loc[mask, 'Violation Code'] = df.loc[mask, 'Violation Code'].str.slice(stop=4)\n",
    "df.loc[mask, 'Violation Description'] = df.loc[mask, 'Violation Description'].str.slice(start=4).str.strip()\n",
    "\n",
    "mask = df['Violation Code'].str.startswith('P')\n",
    "df.loc[mask, 'Violation Code'] = df.loc[mask, 'Violation Code'].str.slice(stop=3)\n",
    "df.loc[mask, 'Violation Description'] = df.loc[mask, 'Violation Description'].str.slice(start=3).str.strip()\n",
    "\n",
    "print(df)"
   ]
  },
  {
   "cell_type": "code",
   "execution_count": 5,
   "metadata": {},
   "outputs": [
    {
     "name": "stdout",
     "output_type": "stream",
     "text": [
      "Index(['Street', 'Location', 'Discounted Fine', 'Full Fine', 'Date', 'Time',\n",
      "       'Violation Code', 'Violation Description'],\n",
      "      dtype='object')\n"
     ]
    }
   ],
   "source": [
    "# drop the Violation column\n",
    "df = df.drop(\"Violation\",axis=1)\n",
    "\n",
    "print(df.columns)"
   ]
  },
  {
   "cell_type": "code",
   "execution_count": 6,
   "metadata": {},
   "outputs": [
    {
     "name": "stdout",
     "output_type": "stream",
     "text": [
      "               Date      Time             Street             Location   Fine  \\\n",
      "0        2021-11-15  00:00:00         Mayfair PL  (49.8822, -97.1381)   70.0   \n",
      "1        2021-11-15  00:00:00       Wentworth ST  (49.8714, -97.1612)   70.0   \n",
      "2        2021-11-15  00:00:00  LOT128-960 THOMAS  (49.8987, -97.0846)   70.0   \n",
      "3        2021-11-15  00:00:00           Lloyd ST   (49.873, -97.1171)  100.0   \n",
      "4        2021-11-15  00:00:00        Haggart AVE  (49.9497, -97.2169)   70.0   \n",
      "...             ...       ...                ...                  ...    ...   \n",
      "1836961  2022-12-21  00:00:00         Graham AVE  (49.8905, -97.1489)   70.0   \n",
      "1836964  2022-12-21  00:00:00            Good ST  (49.8895, -97.1515)   60.0   \n",
      "1836969  2022-12-21  00:00:00        Lombard AVE  (49.8958, -97.1362)   60.0   \n",
      "1837039  2023-02-26  00:00:00         Edison AVE  (49.9344, -97.0692)  100.0   \n",
      "1837040  2023-02-26  00:00:00        St Mary AVE  (49.8902, -97.1441)  100.0   \n",
      "\n",
      "         Discounted Fine Violation Code        Violation Description  \n",
      "0                   52.5            P17  Too close to a traffic sign  \n",
      "1                   52.5            P17  Too close to a traffic sign  \n",
      "2                   52.5            P16                      No Park  \n",
      "3                   75.0            P13                 Fire Hydrant  \n",
      "4                   52.5            P04            Oversized Vehicle  \n",
      "...                  ...            ...                          ...  \n",
      "1836961             52.5            P12                 L/Z Overtime  \n",
      "1836964             45.0            P01                Meter Expired  \n",
      "1836969             45.0            P01                Meter Expired  \n",
      "1837039             75.0            P69          Annual Winter Route  \n",
      "1837040             75.0            P69          Annual Winter Route  \n",
      "\n",
      "[912455 rows x 8 columns]\n"
     ]
    }
   ],
   "source": [
    "# rename the Full Fine to Fine\n",
    "df.rename(columns={'Full Fine': 'Fine'}, inplace=True)\n",
    "\n",
    "# reorder the columns\n",
    "df = df[['Date', 'Time', 'Street', 'Location', 'Fine', 'Discounted Fine', 'Violation Code', 'Violation Description']]\n",
    "print(df)"
   ]
  },
  {
   "cell_type": "code",
   "execution_count": 7,
   "metadata": {},
   "outputs": [
    {
     "name": "stdout",
     "output_type": "stream",
     "text": [
      "              Date      Time             Street             Location   Fine  \\\n",
      "0       2021-11-15  00:00:00         Mayfair PL  (49.8822, -97.1381)   70.0   \n",
      "1       2021-11-15  00:00:00       Wentworth ST  (49.8714, -97.1612)   70.0   \n",
      "2       2021-11-15  00:00:00  LOT128-960 THOMAS  (49.8987, -97.0846)   70.0   \n",
      "3       2021-11-15  00:00:00           Lloyd ST   (49.873, -97.1171)  100.0   \n",
      "4       2021-11-15  00:00:00        Haggart AVE  (49.9497, -97.2169)   70.0   \n",
      "...            ...       ...                ...                  ...    ...   \n",
      "1836961 2022-12-21  00:00:00         Graham AVE  (49.8905, -97.1489)   70.0   \n",
      "1836964 2022-12-21  00:00:00            Good ST  (49.8895, -97.1515)   60.0   \n",
      "1836969 2022-12-21  00:00:00        Lombard AVE  (49.8958, -97.1362)   60.0   \n",
      "1837039 2023-02-26  00:00:00         Edison AVE  (49.9344, -97.0692)  100.0   \n",
      "1837040 2023-02-26  00:00:00        St Mary AVE  (49.8902, -97.1441)  100.0   \n",
      "\n",
      "         Discounted Fine Violation Code        Violation Description  \n",
      "0                   52.5            P17  Too close to a traffic sign  \n",
      "1                   52.5            P17  Too close to a traffic sign  \n",
      "2                   52.5            P16                      No Park  \n",
      "3                   75.0            P13                 Fire Hydrant  \n",
      "4                   52.5            P04            Oversized Vehicle  \n",
      "...                  ...            ...                          ...  \n",
      "1836961             52.5            P12                 L/Z Overtime  \n",
      "1836964             45.0            P01                Meter Expired  \n",
      "1836969             45.0            P01                Meter Expired  \n",
      "1837039             75.0            P69          Annual Winter Route  \n",
      "1837040             75.0            P69          Annual Winter Route  \n",
      "\n",
      "[592601 rows x 8 columns]\n"
     ]
    }
   ],
   "source": [
    "# remove rows before 2016\n",
    "df['Date'] = pd.to_datetime(df['Date']) \n",
    "\n",
    "df = df.loc[(df['Date'] >= '2016-01-01')]\n",
    "print(df)"
   ]
  },
  {
   "cell_type": "code",
   "execution_count": 8,
   "metadata": {},
   "outputs": [],
   "source": [
    "df[\"Day\"] = df[\"Date\"].dt.dayofweek"
   ]
  },
  {
   "cell_type": "code",
   "execution_count": 23,
   "metadata": {},
   "outputs": [],
   "source": [
    "index = df['Time'] != pd.Timestamp('00:00:00').time()\n",
    "dfNoMidnight = df[index]\n",
    "dfNoMidnight"
   ]
  },
  {
   "cell_type": "code",
   "execution_count": 9,
   "metadata": {},
   "outputs": [],
   "source": [
    "# convert df to csv file\n",
    "df.to_csv(\"../Data/2016_and_on.csv\")"
   ]
  },
  {
   "cell_type": "code",
   "execution_count": 27,
   "metadata": {},
   "outputs": [],
   "source": [
    "dfNoMidnight.to_csv(\"../Data/2016_and_on_no_Midnight.csv\", index=False)"
   ]
  },
  {
   "cell_type": "code",
   "execution_count": null,
   "metadata": {},
   "outputs": [],
   "source": []
  }
 ],
 "metadata": {
  "kernelspec": {
   "display_name": "Python 3",
   "language": "python",
   "name": "python3"
  },
  "language_info": {
   "codemirror_mode": {
    "name": "ipython",
    "version": 3
   },
   "file_extension": ".py",
   "mimetype": "text/x-python",
   "name": "python",
   "nbconvert_exporter": "python",
   "pygments_lexer": "ipython3",
   "version": "3.11.2"
  },
  "orig_nbformat": 4
 },
 "nbformat": 4,
 "nbformat_minor": 2
}
