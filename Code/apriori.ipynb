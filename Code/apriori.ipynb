{
 "cells": [
  {
   "cell_type": "code",
   "execution_count": 221,
   "metadata": {},
   "outputs": [],
   "source": [
    "import pandas as pd\n",
    "from efficient_apriori import apriori"
   ]
  },
  {
   "cell_type": "code",
   "execution_count": 222,
   "metadata": {},
   "outputs": [],
   "source": [
    "# get the preprocessed file with midnight times\n",
    "df = pd.read_csv('../Data/NoMidnightCleanedData.csv', low_memory=False)"
   ]
  },
  {
   "cell_type": "code",
   "execution_count": 223,
   "metadata": {},
   "outputs": [
    {
     "name": "stdout",
     "output_type": "stream",
     "text": [
      "Index(['Date', 'Time', 'Street', 'Violation Description', 'Day', 'Time Range'], dtype='object')\n"
     ]
    }
   ],
   "source": [
    "# drop any columns that are not factors\n",
    "df= df.drop('Fine', axis=1)\n",
    "df= df.drop('Discounted Fine', axis=1)\n",
    "#df= df.drop('Violation Description', axis=1)\n",
    "df= df.drop('Violation Code', axis=1)\n",
    "df= df.drop('Location', axis=1)\n",
    "\n",
    "\n",
    "print(df.columns)"
   ]
  },
  {
   "cell_type": "code",
   "execution_count": 224,
   "metadata": {},
   "outputs": [],
   "source": [
    "# convert day column to str\n",
    "df['Day'] = df['Day'].astype(str)\n",
    "\n",
    "# convert to list of tuples\n",
    "transaction = list(df.itertuples(index=False, name=None))"
   ]
  },
  {
   "cell_type": "code",
   "execution_count": 225,
   "metadata": {},
   "outputs": [
    {
     "name": "stdout",
     "output_type": "stream",
     "text": [
      "Generating itemsets.\n",
      " Counting itemsets of length 1.\n",
      "  Found 81853 candidate itemsets of length 1.\n",
      "  Found 31 large itemsets of length 1.\n",
      " Counting itemsets of length 2.\n",
      "  Found 465 candidate itemsets of length 2.\n",
      "  Found 37 large itemsets of length 2.\n",
      " Counting itemsets of length 3.\n",
      "  Found 9 candidate itemsets of length 3.\n",
      "  Found 5 large itemsets of length 3.\n",
      " Counting itemsets of length 4.\n",
      "  Found 0 candidate itemsets of length 4.\n",
      "Itemset generation terminated.\n",
      "\n",
      "Generating rules from itemsets.\n",
      " Generating rules of size 2.\n",
      " Generating rules of size 3.\n",
      "Rule generation terminated.\n",
      "\n"
     ]
    }
   ],
   "source": [
    "# run the apriori\n",
    "itemsets, rules = apriori(transaction, min_support=0.02, min_confidence=0.5, verbosity=1)"
   ]
  },
  {
   "cell_type": "code",
   "execution_count": 226,
   "metadata": {},
   "outputs": [
    {
     "name": "stdout",
     "output_type": "stream",
     "text": [
      "{4} -> {Daytime (9:00am-3:30pm)} (conf: 0.523, supp: 0.092, lift: 0.991, conv: 0.990)\n",
      "{3} -> {Daytime (9:00am-3:30pm)} (conf: 0.558, supp: 0.105, lift: 1.056, conv: 1.067)\n",
      "{0} -> {Daytime (9:00am-3:30pm)} (conf: 0.561, supp: 0.085, lift: 1.062, conv: 1.074)\n",
      "{2} -> {Daytime (9:00am-3:30pm)} (conf: 0.576, supp: 0.106, lift: 1.091, conv: 1.114)\n",
      "{1} -> {Daytime (9:00am-3:30pm)} (conf: 0.577, supp: 0.104, lift: 1.092, conv: 1.114)\n",
      "{Bannatyne AVE} -> {Daytime (9:00am-3:30pm)} (conf: 0.685, supp: 0.022, lift: 1.298, conv: 1.500)\n",
      "{McDermot AVE} -> {Daytime (9:00am-3:30pm)} (conf: 0.729, supp: 0.022, lift: 1.380, conv: 1.739)\n",
      "{4, Meter Expired} -> {Daytime (9:00am-3:30pm)} (conf: 0.751, supp: 0.039, lift: 1.422, conv: 1.893)\n",
      "{Meter Expired} -> {Daytime (9:00am-3:30pm)} (conf: 0.766, supp: 0.205, lift: 1.449, conv: 2.012)\n",
      "{2011 Parked -meter expi} -> {Daytime (9:00am-3:30pm)} (conf: 0.772, supp: 0.038, lift: 1.461, conv: 2.066)\n",
      "{2, Meter Expired} -> {Daytime (9:00am-3:30pm)} (conf: 0.776, supp: 0.042, lift: 1.470, conv: 2.110)\n",
      "{0, Meter Expired} -> {Daytime (9:00am-3:30pm)} (conf: 0.780, supp: 0.033, lift: 1.476, conv: 2.141)\n",
      "{3, Meter Expired} -> {Daytime (9:00am-3:30pm)} (conf: 0.780, supp: 0.042, lift: 1.477, conv: 2.145)\n",
      "{1, Meter Expired} -> {Daytime (9:00am-3:30pm)} (conf: 0.781, supp: 0.042, lift: 1.478, conv: 2.152)\n",
      "{Overtime} -> {Daytime (9:00am-3:30pm)} (conf: 0.855, supp: 0.073, lift: 1.619, conv: 3.258)\n",
      "{Snow Route} -> {Overnight (11:00pm-5:30am)} (conf: 0.961, supp: 0.068, lift: 5.876, conv: 21.305)\n",
      "{Rush Hour} -> {Rush Hour Evening (3:30pm-5:00pm)} (conf: 0.717, supp: 0.050, lift: 6.067, conv: 3.113)\n"
     ]
    }
   ],
   "source": [
    "# write to text file\n",
    "f = open('../Results/apriori_results.txt', 'w')\n",
    "for r in rules:\n",
    "    f.write(str(r) + '\\n')\n",
    "f.close()\n",
    "\n",
    "for rule in sorted(rules, key=lambda rule: rule.lift):\n",
    "    print(rule)"
   ]
  }
 ],
 "metadata": {
  "kernelspec": {
   "display_name": "Python 3",
   "language": "python",
   "name": "python3"
  },
  "language_info": {
   "codemirror_mode": {
    "name": "ipython",
    "version": 3
   },
   "file_extension": ".py",
   "mimetype": "text/x-python",
   "name": "python",
   "nbconvert_exporter": "python",
   "pygments_lexer": "ipython3",
   "version": "3.9.13"
  },
  "orig_nbformat": 4
 },
 "nbformat": 4,
 "nbformat_minor": 2
}
