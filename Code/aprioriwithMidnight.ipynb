{
 "cells": [
  {
   "cell_type": "code",
   "execution_count": 43,
   "metadata": {},
   "outputs": [],
   "source": [
    "import pandas as pd\n",
    "from efficient_apriori import apriori"
   ]
  },
  {
   "cell_type": "code",
   "execution_count": 44,
   "metadata": {},
   "outputs": [],
   "source": [
    "# get the preprocessed file with midnight times\n",
    "df = pd.read_csv('../Data/MidnightCleanedData.csv', low_memory=False)"
   ]
  },
  {
   "cell_type": "code",
   "execution_count": 45,
   "metadata": {},
   "outputs": [
    {
     "name": "stdout",
     "output_type": "stream",
     "text": [
      "Index(['Date', 'Time', 'Street', 'Violation Description', 'Day'], dtype='object')\n"
     ]
    }
   ],
   "source": [
    "# drop any columns that are not factors\n",
    "df= df.drop('Fine', axis=1)\n",
    "df= df.drop('Discounted Fine', axis=1)\n",
    "df= df.drop('Violation Code', axis=1)\n",
    "df= df.drop('Location', axis=1)\n",
    "\n",
    "print(df.columns)"
   ]
  },
  {
   "cell_type": "code",
   "execution_count": 46,
   "metadata": {},
   "outputs": [],
   "source": [
    "# convert day column to str\n",
    "df['Day'] = df['Day'].astype(str)\n",
    "\n",
    "# convert to list of tuples\n",
    "transaction = list(df.itertuples(index=False, name=None))"
   ]
  },
  {
   "cell_type": "code",
   "execution_count": 47,
   "metadata": {},
   "outputs": [],
   "source": [
    "# run the apriori\n",
    "itemsets, rules = apriori(transaction, min_support=0.005, min_confidence=0.5)"
   ]
  },
  {
   "cell_type": "code",
   "execution_count": 48,
   "metadata": {},
   "outputs": [
    {
     "name": "stdout",
     "output_type": "stream",
     "text": [
      "{Princess ST} -> {Meter Expired} (conf: 0.501, supp: 0.006, lift: 1.873, conv: 1.468)\n",
      "{Carlton ST} -> {Meter Expired} (conf: 0.529, supp: 0.010, lift: 1.977, conv: 1.555)\n",
      "{McDermot AVE} -> {Meter Expired} (conf: 0.530, supp: 0.015, lift: 1.980, conv: 1.557)\n",
      "{Fort ST} -> {Meter Expired} (conf: 0.559, supp: 0.009, lift: 2.090, conv: 1.662)\n",
      "{Hargrave ST} -> {Meter Expired} (conf: 0.571, supp: 0.017, lift: 2.134, conv: 1.707)\n",
      "{Kennedy ST} -> {Meter Expired} (conf: 0.573, supp: 0.013, lift: 2.141, conv: 1.715)\n",
      "{Edmonton ST} -> {Meter Expired} (conf: 0.580, supp: 0.012, lift: 2.167, conv: 1.743)\n",
      "{Adelaide ST} -> {Meter Expired} (conf: 0.650, supp: 0.007, lift: 2.428, conv: 2.091)\n",
      "{Annual Winter Route} -> {00:00:00} (conf: 1.000, supp: 0.010, lift: 5.951, conv: 831964509.004)\n",
      "{RUE DESPINS ST} -> {No Park} (conf: 0.900, supp: 0.007, lift: 19.447, conv: 9.494)\n"
     ]
    }
   ],
   "source": [
    "# write to text file\n",
    "f = open('../Results/apriori_with_midnight_results.txt', 'w')\n",
    "for r in rules:\n",
    "    f.write(str(r) + '\\n')\n",
    "f.close()\n",
    "\n",
    "for rule in sorted(rules, key=lambda rule: rule.lift):\n",
    "    print(rule)"
   ]
  }
 ],
 "metadata": {
  "kernelspec": {
   "display_name": "Python 3",
   "language": "python",
   "name": "python3"
  },
  "language_info": {
   "codemirror_mode": {
    "name": "ipython",
    "version": 3
   },
   "file_extension": ".py",
   "mimetype": "text/x-python",
   "name": "python",
   "nbconvert_exporter": "python",
   "pygments_lexer": "ipython3",
   "version": "3.9.13"
  },
  "orig_nbformat": 4
 },
 "nbformat": 4,
 "nbformat_minor": 2
}
