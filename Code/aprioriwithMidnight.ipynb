{
 "cells": [
  {
   "cell_type": "code",
   "execution_count": null,
   "metadata": {},
   "outputs": [],
   "source": [
    "import pandas as pd\n",
    "from efficient_apriori import apriori"
   ]
  },
  {
   "cell_type": "code",
   "execution_count": null,
   "metadata": {},
   "outputs": [],
   "source": [
    "# get the preprocessed file with midnight times\n",
    "df = pd.read_csv('../Data/MidnightCleanedData.csv', low_memory=False)"
   ]
  },
  {
   "cell_type": "code",
   "execution_count": null,
   "metadata": {},
   "outputs": [],
   "source": [
    "# drop any columns that are not factors\n",
    "df= df.drop('Fine', axis=1)\n",
    "df= df.drop('Discounted Fine', axis=1)\n",
    "df= df.drop('Violation Description', axis=1)\n",
    "\n",
    "print(df.columns)"
   ]
  },
  {
   "cell_type": "code",
   "execution_count": null,
   "metadata": {},
   "outputs": [],
   "source": [
    "# convert day column to str\n",
    "df['Day'] = df['Day'].astype(str)\n",
    "\n",
    "# convert to list of tuples\n",
    "transaction = list(df.itertuples(index=False, name=None))"
   ]
  },
  {
   "cell_type": "code",
   "execution_count": null,
   "metadata": {},
   "outputs": [],
   "source": [
    "# run the apriori\n",
    "itemsets, rules = apriori(transaction, min_support=0.001, min_confidence=0.003)"
   ]
  },
  {
   "cell_type": "code",
   "execution_count": null,
   "metadata": {},
   "outputs": [],
   "source": [
    "# write to text file\n",
    "f = open('../Results/apriori_with_midnight_results.txt', 'w')\n",
    "for r in rules:\n",
    "    f.write(str(r) + '\\n')\n",
    "f.close()\n",
    "\n",
    "print(rules)"
   ]
  }
 ],
 "metadata": {
  "kernelspec": {
   "display_name": "Python 3",
   "language": "python",
   "name": "python3"
  },
  "language_info": {
   "codemirror_mode": {
    "name": "ipython",
    "version": 3
   },
   "file_extension": ".py",
   "mimetype": "text/x-python",
   "name": "python",
   "nbconvert_exporter": "python",
   "pygments_lexer": "ipython3",
   "version": "3.11.2"
  },
  "orig_nbformat": 4
 },
 "nbformat": 4,
 "nbformat_minor": 2
}
