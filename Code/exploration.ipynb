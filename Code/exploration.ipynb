{
 "cells": [
  {
   "cell_type": "code",
   "execution_count": 31,
   "metadata": {},
   "outputs": [],
   "source": [
    "import pandas as pd"
   ]
  },
  {
   "cell_type": "code",
   "execution_count": 57,
   "metadata": {},
   "outputs": [],
   "source": [
    "df = pd.read_csv(\"../Data/2016_and_on.csv\")"
   ]
  },
  {
   "cell_type": "code",
   "execution_count": 58,
   "metadata": {},
   "outputs": [
    {
     "name": "stdout",
     "output_type": "stream",
     "text": [
      "0:00:00     97040\n",
      "15:32:46       60\n",
      "15:33:10       59\n",
      "15:32:58       57\n",
      "15:32:40       57\n",
      "            ...  \n",
      "5:37:48         1\n",
      "22:13:55        1\n",
      "19:09:20        1\n",
      "19:04:20        1\n",
      "17:22:05        1\n",
      "Name: Time, Length: 76434, dtype: int64\n"
     ]
    }
   ],
   "source": [
    "counts = df['Time'].value_counts()\n",
    "\n",
    "# print the counts\n",
    "print(counts)"
   ]
  },
  {
   "cell_type": "code",
   "execution_count": 59,
   "metadata": {},
   "outputs": [
    {
     "name": "stdout",
     "output_type": "stream",
     "text": [
      "15:32:46    60\n",
      "15:33:10    59\n",
      "15:32:58    57\n",
      "15:32:40    57\n",
      "15:32:52    56\n",
      "            ..\n",
      "5:37:48      1\n",
      "22:13:55     1\n",
      "19:09:20     1\n",
      "19:04:20     1\n",
      "17:22:05     1\n",
      "Name: Time, Length: 76433, dtype: int64\n"
     ]
    }
   ],
   "source": [
    "df = df[df['Time'] != '00:00:00']\n",
    "df = df[df['Time'] != '0:00:00']\n",
    "counts = df['Time'].value_counts()\n",
    "\n",
    "# print the counts\n",
    "print(counts)"
   ]
  },
  {
   "cell_type": "code",
   "execution_count": 60,
   "metadata": {},
   "outputs": [],
   "source": [
    "# convert the 'time' column to a datetime format\n",
    "df['Time'] = pd.to_datetime(df['Time'], format='%H:%M:%S')\n"
   ]
  },
  {
   "cell_type": "code",
   "execution_count": 61,
   "metadata": {},
   "outputs": [
    {
     "data": {
      "text/plain": [
       "Timestamp('1900-01-01 00:00:02')"
      ]
     },
     "execution_count": 61,
     "metadata": {},
     "output_type": "execute_result"
    }
   ],
   "source": [
    "df['Time'].min()"
   ]
  },
  {
   "cell_type": "code",
   "execution_count": 62,
   "metadata": {},
   "outputs": [
    {
     "data": {
      "text/plain": [
       "Timestamp('1900-01-01 23:59:59')"
      ]
     },
     "execution_count": 62,
     "metadata": {},
     "output_type": "execute_result"
    }
   ],
   "source": [
    "df['Time'].max()"
   ]
  },
  {
   "cell_type": "code",
   "execution_count": 71,
   "metadata": {},
   "outputs": [
    {
     "ename": "error",
     "evalue": "redefinition of group name 'H' as group 4; was group 1 at position 72",
     "output_type": "error",
     "traceback": [
      "\u001b[1;31m---------------------------------------------------------------------------\u001b[0m",
      "\u001b[1;31merror\u001b[0m                                     Traceback (most recent call last)",
      "Cell \u001b[1;32mIn[71], line 4\u001b[0m\n\u001b[0;32m      1\u001b[0m ranges \u001b[39m=\u001b[39m [\u001b[39m'\u001b[39m\u001b[39m00:05:30-07:29:59\u001b[39m\u001b[39m'\u001b[39m, \u001b[39m'\u001b[39m\u001b[39m07:30:00-08:59:59\u001b[39m\u001b[39m'\u001b[39m, \u001b[39m'\u001b[39m\u001b[39m09:00:00-15:29:59\u001b[39m\u001b[39m'\u001b[39m, \u001b[39m'\u001b[39m\u001b[39m15:30:00-16:59:59\u001b[39m\u001b[39m'\u001b[39m,\u001b[39m'\u001b[39m\u001b[39m17:00:00-22:59:59\u001b[39m\u001b[39m'\u001b[39m, \u001b[39m'\u001b[39m\u001b[39m23:00:00-05:29:29\u001b[39m\u001b[39m'\u001b[39m]\n\u001b[0;32m      3\u001b[0m df[\u001b[39m'\u001b[39m\u001b[39mTime Range\u001b[39m\u001b[39m'\u001b[39m] \u001b[39m=\u001b[39m pd\u001b[39m.\u001b[39mcut(df[\u001b[39m'\u001b[39m\u001b[39mTime\u001b[39m\u001b[39m'\u001b[39m]\u001b[39m.\u001b[39mdt\u001b[39m.\u001b[39mtime,\n\u001b[1;32m----> 4\u001b[0m                           pd\u001b[39m.\u001b[39;49mto_datetime(ranges, \u001b[39mformat\u001b[39;49m\u001b[39m=\u001b[39;49m\u001b[39m'\u001b[39;49m\u001b[39m%\u001b[39;49m\u001b[39mH:\u001b[39;49m\u001b[39m%\u001b[39;49m\u001b[39mM:\u001b[39;49m\u001b[39m%\u001b[39;49m\u001b[39mS-\u001b[39;49m\u001b[39m%\u001b[39;49m\u001b[39mH:\u001b[39;49m\u001b[39m%\u001b[39;49m\u001b[39mM:\u001b[39;49m\u001b[39m%\u001b[39;49m\u001b[39mS\u001b[39;49m\u001b[39m'\u001b[39;49m)\u001b[39m.\u001b[39mtime,\n\u001b[0;32m      5\u001b[0m                           labels\u001b[39m=\u001b[39m[\u001b[39m'\u001b[39m\u001b[39mEarly Morning (5:30am-7:30am)\u001b[39m\u001b[39m'\u001b[39m, \u001b[39m'\u001b[39m\u001b[39mRush Hour Morning (7:30am-9:00am)\u001b[39m\u001b[39m'\u001b[39m, \u001b[39m'\u001b[39m\u001b[39mDaytime (9:00am-3:30pm)\u001b[39m\u001b[39m'\u001b[39m, \u001b[39m'\u001b[39m\u001b[39mRush Hour Evening (3:30pm-5:00pm)\u001b[39m\u001b[39m'\u001b[39m, \u001b[39m'\u001b[39m\u001b[39mEvening (5:00pm-11:00pm)\u001b[39m\u001b[39m'\u001b[39m, \u001b[39m'\u001b[39m\u001b[39mOvernight (11:00pm-5:30am)\u001b[39m\u001b[39m'\u001b[39m])\n",
      "File \u001b[1;32mc:\\Users\\User\\AppData\\Local\\Programs\\Python\\Python311\\Lib\\site-packages\\pandas\\core\\tools\\datetimes.py:1100\u001b[0m, in \u001b[0;36mto_datetime\u001b[1;34m(arg, errors, dayfirst, yearfirst, utc, format, exact, unit, infer_datetime_format, origin, cache)\u001b[0m\n\u001b[0;32m   1098\u001b[0m         result \u001b[39m=\u001b[39m _convert_and_box_cache(argc, cache_array)\n\u001b[0;32m   1099\u001b[0m     \u001b[39melse\u001b[39;00m:\n\u001b[1;32m-> 1100\u001b[0m         result \u001b[39m=\u001b[39m convert_listlike(argc, \u001b[39mformat\u001b[39;49m)\n\u001b[0;32m   1101\u001b[0m \u001b[39melse\u001b[39;00m:\n\u001b[0;32m   1102\u001b[0m     result \u001b[39m=\u001b[39m convert_listlike(np\u001b[39m.\u001b[39marray([arg]), \u001b[39mformat\u001b[39m)[\u001b[39m0\u001b[39m]\n",
      "File \u001b[1;32mc:\\Users\\User\\AppData\\Local\\Programs\\Python\\Python311\\Lib\\site-packages\\pandas\\core\\tools\\datetimes.py:430\u001b[0m, in \u001b[0;36m_convert_listlike_datetimes\u001b[1;34m(arg, format, name, tz, unit, errors, infer_datetime_format, dayfirst, yearfirst, exact)\u001b[0m\n\u001b[0;32m    427\u001b[0m         \u001b[39mformat\u001b[39m \u001b[39m=\u001b[39m \u001b[39mNone\u001b[39;00m\n\u001b[0;32m    429\u001b[0m \u001b[39mif\u001b[39;00m \u001b[39mformat\u001b[39m \u001b[39mis\u001b[39;00m \u001b[39mnot\u001b[39;00m \u001b[39mNone\u001b[39;00m:\n\u001b[1;32m--> 430\u001b[0m     res \u001b[39m=\u001b[39m _to_datetime_with_format(\n\u001b[0;32m    431\u001b[0m         arg, orig_arg, name, tz, \u001b[39mformat\u001b[39;49m, exact, errors, infer_datetime_format\n\u001b[0;32m    432\u001b[0m     )\n\u001b[0;32m    433\u001b[0m     \u001b[39mif\u001b[39;00m res \u001b[39mis\u001b[39;00m \u001b[39mnot\u001b[39;00m \u001b[39mNone\u001b[39;00m:\n\u001b[0;32m    434\u001b[0m         \u001b[39mreturn\u001b[39;00m res\n",
      "File \u001b[1;32mc:\\Users\\User\\AppData\\Local\\Programs\\Python\\Python311\\Lib\\site-packages\\pandas\\core\\tools\\datetimes.py:538\u001b[0m, in \u001b[0;36m_to_datetime_with_format\u001b[1;34m(arg, orig_arg, name, tz, fmt, exact, errors, infer_datetime_format)\u001b[0m\n\u001b[0;32m    535\u001b[0m         \u001b[39mreturn\u001b[39;00m _box_as_indexlike(result, utc\u001b[39m=\u001b[39mutc, name\u001b[39m=\u001b[39mname)\n\u001b[0;32m    537\u001b[0m \u001b[39m# fallback\u001b[39;00m\n\u001b[1;32m--> 538\u001b[0m res \u001b[39m=\u001b[39m _array_strptime_with_fallback(\n\u001b[0;32m    539\u001b[0m     arg, name, tz, fmt, exact, errors, infer_datetime_format\n\u001b[0;32m    540\u001b[0m )\n\u001b[0;32m    541\u001b[0m \u001b[39mreturn\u001b[39;00m res\n",
      "File \u001b[1;32mc:\\Users\\User\\AppData\\Local\\Programs\\Python\\Python311\\Lib\\site-packages\\pandas\\core\\tools\\datetimes.py:473\u001b[0m, in \u001b[0;36m_array_strptime_with_fallback\u001b[1;34m(arg, name, tz, fmt, exact, errors, infer_datetime_format)\u001b[0m\n\u001b[0;32m    470\u001b[0m utc \u001b[39m=\u001b[39m tz \u001b[39m==\u001b[39m \u001b[39m\"\u001b[39m\u001b[39mutc\u001b[39m\u001b[39m\"\u001b[39m\n\u001b[0;32m    472\u001b[0m \u001b[39mtry\u001b[39;00m:\n\u001b[1;32m--> 473\u001b[0m     result, timezones \u001b[39m=\u001b[39m array_strptime(arg, fmt, exact\u001b[39m=\u001b[39;49mexact, errors\u001b[39m=\u001b[39;49merrors)\n\u001b[0;32m    474\u001b[0m \u001b[39mexcept\u001b[39;00m OutOfBoundsDatetime:\n\u001b[0;32m    475\u001b[0m     \u001b[39mif\u001b[39;00m errors \u001b[39m==\u001b[39m \u001b[39m\"\u001b[39m\u001b[39mraise\u001b[39m\u001b[39m\"\u001b[39m:\n",
      "File \u001b[1;32mc:\\Users\\User\\AppData\\Local\\Programs\\Python\\Python311\\Lib\\site-packages\\pandas\\_libs\\tslibs\\strptime.pyx:99\u001b[0m, in \u001b[0;36mpandas._libs.tslibs.strptime.array_strptime\u001b[1;34m()\u001b[0m\n",
      "File \u001b[1;32mc:\\Users\\User\\AppData\\Local\\Programs\\Python\\Python311\\Lib\\site-packages\\pandas\\_libs\\tslibs\\strptime.pyx:109\u001b[0m, in \u001b[0;36mpandas._libs.tslibs.strptime.array_strptime\u001b[1;34m()\u001b[0m\n",
      "File \u001b[1;32mc:\\Users\\User\\AppData\\Local\\Programs\\Python\\Python311\\Lib\\_strptime.py:263\u001b[0m, in \u001b[0;36mTimeRE.compile\u001b[1;34m(self, format)\u001b[0m\n\u001b[0;32m    261\u001b[0m \u001b[39mdef\u001b[39;00m \u001b[39mcompile\u001b[39m(\u001b[39mself\u001b[39m, \u001b[39mformat\u001b[39m):\n\u001b[0;32m    262\u001b[0m \u001b[39m    \u001b[39m\u001b[39m\"\"\"Return a compiled re object for the format string.\"\"\"\u001b[39;00m\n\u001b[1;32m--> 263\u001b[0m     \u001b[39mreturn\u001b[39;00m re_compile(\u001b[39mself\u001b[39;49m\u001b[39m.\u001b[39;49mpattern(\u001b[39mformat\u001b[39;49m), IGNORECASE)\n",
      "File \u001b[1;32mc:\\Users\\User\\AppData\\Local\\Programs\\Python\\Python311\\Lib\\re\\__init__.py:227\u001b[0m, in \u001b[0;36mcompile\u001b[1;34m(pattern, flags)\u001b[0m\n\u001b[0;32m    225\u001b[0m \u001b[39mdef\u001b[39;00m \u001b[39mcompile\u001b[39m(pattern, flags\u001b[39m=\u001b[39m\u001b[39m0\u001b[39m):\n\u001b[0;32m    226\u001b[0m     \u001b[39m\"\u001b[39m\u001b[39mCompile a regular expression pattern, returning a Pattern object.\u001b[39m\u001b[39m\"\u001b[39m\n\u001b[1;32m--> 227\u001b[0m     \u001b[39mreturn\u001b[39;00m _compile(pattern, flags)\n",
      "File \u001b[1;32mc:\\Users\\User\\AppData\\Local\\Programs\\Python\\Python311\\Lib\\re\\__init__.py:294\u001b[0m, in \u001b[0;36m_compile\u001b[1;34m(pattern, flags)\u001b[0m\n\u001b[0;32m    288\u001b[0m     \u001b[39mimport\u001b[39;00m \u001b[39mwarnings\u001b[39;00m\n\u001b[0;32m    289\u001b[0m     warnings\u001b[39m.\u001b[39mwarn(\u001b[39m\"\u001b[39m\u001b[39mThe re.TEMPLATE/re.T flag is deprecated \u001b[39m\u001b[39m\"\u001b[39m\n\u001b[0;32m    290\u001b[0m               \u001b[39m\"\u001b[39m\u001b[39mas it is an undocumented flag \u001b[39m\u001b[39m\"\u001b[39m\n\u001b[0;32m    291\u001b[0m               \u001b[39m\"\u001b[39m\u001b[39mwithout an obvious purpose. \u001b[39m\u001b[39m\"\u001b[39m\n\u001b[0;32m    292\u001b[0m               \u001b[39m\"\u001b[39m\u001b[39mDon\u001b[39m\u001b[39m'\u001b[39m\u001b[39mt use it.\u001b[39m\u001b[39m\"\u001b[39m,\n\u001b[0;32m    293\u001b[0m               \u001b[39mDeprecationWarning\u001b[39;00m)\n\u001b[1;32m--> 294\u001b[0m p \u001b[39m=\u001b[39m _compiler\u001b[39m.\u001b[39;49mcompile(pattern, flags)\n\u001b[0;32m    295\u001b[0m \u001b[39mif\u001b[39;00m \u001b[39mnot\u001b[39;00m (flags \u001b[39m&\u001b[39m DEBUG):\n\u001b[0;32m    296\u001b[0m     \u001b[39mif\u001b[39;00m \u001b[39mlen\u001b[39m(_cache) \u001b[39m>\u001b[39m\u001b[39m=\u001b[39m _MAXCACHE:\n\u001b[0;32m    297\u001b[0m         \u001b[39m# Drop the oldest item\u001b[39;00m\n",
      "File \u001b[1;32mc:\\Users\\User\\AppData\\Local\\Programs\\Python\\Python311\\Lib\\re\\_compiler.py:743\u001b[0m, in \u001b[0;36mcompile\u001b[1;34m(p, flags)\u001b[0m\n\u001b[0;32m    741\u001b[0m \u001b[39mif\u001b[39;00m isstring(p):\n\u001b[0;32m    742\u001b[0m     pattern \u001b[39m=\u001b[39m p\n\u001b[1;32m--> 743\u001b[0m     p \u001b[39m=\u001b[39m _parser\u001b[39m.\u001b[39;49mparse(p, flags)\n\u001b[0;32m    744\u001b[0m \u001b[39melse\u001b[39;00m:\n\u001b[0;32m    745\u001b[0m     pattern \u001b[39m=\u001b[39m \u001b[39mNone\u001b[39;00m\n",
      "File \u001b[1;32mc:\\Users\\User\\AppData\\Local\\Programs\\Python\\Python311\\Lib\\re\\_parser.py:980\u001b[0m, in \u001b[0;36mparse\u001b[1;34m(str, flags, state)\u001b[0m\n\u001b[0;32m    977\u001b[0m state\u001b[39m.\u001b[39mflags \u001b[39m=\u001b[39m flags\n\u001b[0;32m    978\u001b[0m state\u001b[39m.\u001b[39mstr \u001b[39m=\u001b[39m \u001b[39mstr\u001b[39m\n\u001b[1;32m--> 980\u001b[0m p \u001b[39m=\u001b[39m _parse_sub(source, state, flags \u001b[39m&\u001b[39;49m SRE_FLAG_VERBOSE, \u001b[39m0\u001b[39;49m)\n\u001b[0;32m    981\u001b[0m p\u001b[39m.\u001b[39mstate\u001b[39m.\u001b[39mflags \u001b[39m=\u001b[39m fix_flags(\u001b[39mstr\u001b[39m, p\u001b[39m.\u001b[39mstate\u001b[39m.\u001b[39mflags)\n\u001b[0;32m    983\u001b[0m \u001b[39mif\u001b[39;00m source\u001b[39m.\u001b[39mnext \u001b[39mis\u001b[39;00m \u001b[39mnot\u001b[39;00m \u001b[39mNone\u001b[39;00m:\n",
      "File \u001b[1;32mc:\\Users\\User\\AppData\\Local\\Programs\\Python\\Python311\\Lib\\re\\_parser.py:455\u001b[0m, in \u001b[0;36m_parse_sub\u001b[1;34m(source, state, verbose, nested)\u001b[0m\n\u001b[0;32m    453\u001b[0m start \u001b[39m=\u001b[39m source\u001b[39m.\u001b[39mtell()\n\u001b[0;32m    454\u001b[0m \u001b[39mwhile\u001b[39;00m \u001b[39mTrue\u001b[39;00m:\n\u001b[1;32m--> 455\u001b[0m     itemsappend(_parse(source, state, verbose, nested \u001b[39m+\u001b[39;49m \u001b[39m1\u001b[39;49m,\n\u001b[0;32m    456\u001b[0m                        \u001b[39mnot\u001b[39;49;00m nested \u001b[39mand\u001b[39;49;00m \u001b[39mnot\u001b[39;49;00m items))\n\u001b[0;32m    457\u001b[0m     \u001b[39mif\u001b[39;00m \u001b[39mnot\u001b[39;00m sourcematch(\u001b[39m\"\u001b[39m\u001b[39m|\u001b[39m\u001b[39m\"\u001b[39m):\n\u001b[0;32m    458\u001b[0m         \u001b[39mbreak\u001b[39;00m\n",
      "File \u001b[1;32mc:\\Users\\User\\AppData\\Local\\Programs\\Python\\Python311\\Lib\\re\\_parser.py:858\u001b[0m, in \u001b[0;36m_parse\u001b[1;34m(source, state, verbose, nested, first)\u001b[0m\n\u001b[0;32m    856\u001b[0m         group \u001b[39m=\u001b[39m state\u001b[39m.\u001b[39mopengroup(name)\n\u001b[0;32m    857\u001b[0m     \u001b[39mexcept\u001b[39;00m error \u001b[39mas\u001b[39;00m err:\n\u001b[1;32m--> 858\u001b[0m         \u001b[39mraise\u001b[39;00m source\u001b[39m.\u001b[39merror(err\u001b[39m.\u001b[39mmsg, \u001b[39mlen\u001b[39m(name) \u001b[39m+\u001b[39m \u001b[39m1\u001b[39m) \u001b[39mfrom\u001b[39;00m \u001b[39mNone\u001b[39m\n\u001b[0;32m    859\u001b[0m \u001b[39melse\u001b[39;00m:\n\u001b[0;32m    860\u001b[0m     group \u001b[39m=\u001b[39m \u001b[39mNone\u001b[39;00m\n",
      "\u001b[1;31merror\u001b[0m: redefinition of group name 'H' as group 4; was group 1 at position 72"
     ]
    }
   ],
   "source": [
    "import pandas as pd\n",
    "\n",
    "# create a sample DataFrame\n",
    "data = {'time': ['08:20:00', '12:10:00', '15:30:00', '19:40:00', '22:50:00']}\n",
    "df = pd.DataFrame(data)\n",
    "\n",
    "# convert the 'time' column to a datetime format\n",
    "df['time'] = pd.to_datetime(df['time'], format='%H:%M:%S')\n",
    "\n",
    "# define the time ranges\n",
    "time_ranges = [pd.to_datetime('00:00:00', format='%H:%M:%S'),\n",
    "               pd.to_datetime('05:30:00', format='%H:%M:%S'),\n",
    "               pd.to_datetime('07:30:00', format='%H:%M:%S'),\n",
    "               pd.to_datetime('09:00:00', format='%H:%M:%S'),\n",
    "               pd.to_datetime('15:30:00', format='%H:%M:%S'),\n",
    "               pd.to_datetime('17:00:00', format='%H:%M:%S'),\n",
    "               pd.to_datetime('23:00:00', format='%H:%M:%S'),\n",
    "               pd.to_datetime('23:59:59', format='%H:%M:%S')]\n",
    "\n",
    "# create a new column with the time ranges\n",
    "df['time_range'] = pd.cut(df['time'], bins=time_ranges, labels=['Overnight 2 (12:00am-5:30am)','Early Morning (5:30am-7:30am)','Rush Hour Morning (7:30am-9:00am)', 'Daytime (9:00am-3:30pm)' 'Rush Hour Evening (3:30pm-5:00pm)', 'Evening (5:00pm-11:00pm)', 'Overnight 1 (11:00pm-12:00am)'])\n",
    "\n",
    "# print the updated DataFrame\n",
    "print(df)\n"
   ]
  },
  {
   "cell_type": "code",
   "execution_count": 54,
   "metadata": {},
   "outputs": [
    {
     "data": {
      "text/html": [
       "<div>\n",
       "<style scoped>\n",
       "    .dataframe tbody tr th:only-of-type {\n",
       "        vertical-align: middle;\n",
       "    }\n",
       "\n",
       "    .dataframe tbody tr th {\n",
       "        vertical-align: top;\n",
       "    }\n",
       "\n",
       "    .dataframe thead th {\n",
       "        text-align: right;\n",
       "    }\n",
       "</style>\n",
       "<table border=\"1\" class=\"dataframe\">\n",
       "  <thead>\n",
       "    <tr style=\"text-align: right;\">\n",
       "      <th></th>\n",
       "      <th>Date</th>\n",
       "      <th>Street</th>\n",
       "      <th>Location</th>\n",
       "      <th>Fine</th>\n",
       "      <th>Discounted Fine</th>\n",
       "      <th>Violation Code</th>\n",
       "      <th>Violation Description</th>\n",
       "      <th>Time Range</th>\n",
       "    </tr>\n",
       "  </thead>\n",
       "  <tbody>\n",
       "    <tr>\n",
       "      <th>58621</th>\n",
       "      <td>2020-03-04</td>\n",
       "      <td>Hargrave ST</td>\n",
       "      <td>(49.8898, -97.1428)</td>\n",
       "      <td>60.0</td>\n",
       "      <td>45.0</td>\n",
       "      <td>P01</td>\n",
       "      <td>Meter Expired</td>\n",
       "      <td>Daytime (9:00am-3:30pm)Rush Hour Evening (3:30...</td>\n",
       "    </tr>\n",
       "    <tr>\n",
       "      <th>58626</th>\n",
       "      <td>2019-07-06</td>\n",
       "      <td>St Charles ST</td>\n",
       "      <td>(49.878495, -97.320433)</td>\n",
       "      <td>70.0</td>\n",
       "      <td>52.5</td>\n",
       "      <td>P04</td>\n",
       "      <td>Oversized Vehicle</td>\n",
       "      <td>NaN</td>\n",
       "    </tr>\n",
       "    <tr>\n",
       "      <th>58628</th>\n",
       "      <td>2020-03-10</td>\n",
       "      <td>Panet RD</td>\n",
       "      <td>(49.9022, -97.0701)</td>\n",
       "      <td>100.0</td>\n",
       "      <td>75.0</td>\n",
       "      <td>P09</td>\n",
       "      <td>Too close/in an intersection</td>\n",
       "      <td>Daytime (9:00am-3:30pm)Rush Hour Evening (3:30...</td>\n",
       "    </tr>\n",
       "    <tr>\n",
       "      <th>58639</th>\n",
       "      <td>2019-06-28</td>\n",
       "      <td>Corydon AVE</td>\n",
       "      <td>(49.87113, -97.152496)</td>\n",
       "      <td>70.0</td>\n",
       "      <td>52.5</td>\n",
       "      <td>P06</td>\n",
       "      <td>No Stop</td>\n",
       "      <td>Overnight (11:00pm-5:30am)</td>\n",
       "    </tr>\n",
       "    <tr>\n",
       "      <th>58648</th>\n",
       "      <td>2020-03-25</td>\n",
       "      <td>Hargrave ST</td>\n",
       "      <td>(49.8855, -97.1402)</td>\n",
       "      <td>60.0</td>\n",
       "      <td>45.0</td>\n",
       "      <td>P01</td>\n",
       "      <td>Meter Expired</td>\n",
       "      <td>Rush Hour Morning (7:30am-9:00am)</td>\n",
       "    </tr>\n",
       "    <tr>\n",
       "      <th>...</th>\n",
       "      <td>...</td>\n",
       "      <td>...</td>\n",
       "      <td>...</td>\n",
       "      <td>...</td>\n",
       "      <td>...</td>\n",
       "      <td>...</td>\n",
       "      <td>...</td>\n",
       "      <td>...</td>\n",
       "    </tr>\n",
       "    <tr>\n",
       "      <th>555142</th>\n",
       "      <td>2019-06-08</td>\n",
       "      <td>Pembina HWY</td>\n",
       "      <td>(49.8357733, -97.150816)</td>\n",
       "      <td>100.0</td>\n",
       "      <td>75.0</td>\n",
       "      <td>P09</td>\n",
       "      <td>Too close/in an intersection</td>\n",
       "      <td>Daytime (9:00am-3:30pm)Rush Hour Evening (3:30...</td>\n",
       "    </tr>\n",
       "    <tr>\n",
       "      <th>555143</th>\n",
       "      <td>2019-05-28</td>\n",
       "      <td>Martha ST</td>\n",
       "      <td>(49.9008383, -97.13548)</td>\n",
       "      <td>70.0</td>\n",
       "      <td>52.5</td>\n",
       "      <td>P17</td>\n",
       "      <td>Too close to a traffic sign</td>\n",
       "      <td>Overnight (11:00pm-5:30am)</td>\n",
       "    </tr>\n",
       "    <tr>\n",
       "      <th>555144</th>\n",
       "      <td>2019-06-05</td>\n",
       "      <td>Rothesay ST</td>\n",
       "      <td>(49.9374583, -97.080105)</td>\n",
       "      <td>70.0</td>\n",
       "      <td>52.5</td>\n",
       "      <td>P19</td>\n",
       "      <td>Crosswalk (MRKD/UNMRKD)</td>\n",
       "      <td>Overnight (11:00pm-5:30am)</td>\n",
       "    </tr>\n",
       "    <tr>\n",
       "      <th>555145</th>\n",
       "      <td>2019-05-16</td>\n",
       "      <td>McDermot AVE</td>\n",
       "      <td>(49.897315, -97.140835)</td>\n",
       "      <td>60.0</td>\n",
       "      <td>45.0</td>\n",
       "      <td>P01</td>\n",
       "      <td>Meter Expired</td>\n",
       "      <td>Evening (5:00pm-11:00pm)</td>\n",
       "    </tr>\n",
       "    <tr>\n",
       "      <th>555146</th>\n",
       "      <td>2019-06-12</td>\n",
       "      <td>Dagmar ST</td>\n",
       "      <td>(49.899025, -97.145611)</td>\n",
       "      <td>60.0</td>\n",
       "      <td>45.0</td>\n",
       "      <td>P01</td>\n",
       "      <td>Meter Expired</td>\n",
       "      <td>Evening (5:00pm-11:00pm)</td>\n",
       "    </tr>\n",
       "  </tbody>\n",
       "</table>\n",
       "<p>493023 rows × 8 columns</p>\n",
       "</div>"
      ],
      "text/plain": [
       "              Date         Street                  Location   Fine  \\\n",
       "58621   2020-03-04    Hargrave ST       (49.8898, -97.1428)   60.0   \n",
       "58626   2019-07-06  St Charles ST   (49.878495, -97.320433)   70.0   \n",
       "58628   2020-03-10       Panet RD       (49.9022, -97.0701)  100.0   \n",
       "58639   2019-06-28    Corydon AVE    (49.87113, -97.152496)   70.0   \n",
       "58648   2020-03-25    Hargrave ST       (49.8855, -97.1402)   60.0   \n",
       "...            ...            ...                       ...    ...   \n",
       "555142  2019-06-08    Pembina HWY  (49.8357733, -97.150816)  100.0   \n",
       "555143  2019-05-28      Martha ST   (49.9008383, -97.13548)   70.0   \n",
       "555144  2019-06-05    Rothesay ST  (49.9374583, -97.080105)   70.0   \n",
       "555145  2019-05-16   McDermot AVE   (49.897315, -97.140835)   60.0   \n",
       "555146  2019-06-12      Dagmar ST   (49.899025, -97.145611)   60.0   \n",
       "\n",
       "        Discounted Fine Violation Code         Violation Description  \\\n",
       "58621              45.0            P01                 Meter Expired   \n",
       "58626              52.5            P04             Oversized Vehicle   \n",
       "58628              75.0            P09  Too close/in an intersection   \n",
       "58639              52.5            P06                       No Stop   \n",
       "58648              45.0            P01                 Meter Expired   \n",
       "...                 ...            ...                           ...   \n",
       "555142             75.0            P09  Too close/in an intersection   \n",
       "555143             52.5            P17   Too close to a traffic sign   \n",
       "555144             52.5            P19       Crosswalk (MRKD/UNMRKD)   \n",
       "555145             45.0            P01                 Meter Expired   \n",
       "555146             45.0            P01                 Meter Expired   \n",
       "\n",
       "                                               Time Range  \n",
       "58621   Daytime (9:00am-3:30pm)Rush Hour Evening (3:30...  \n",
       "58626                                                 NaN  \n",
       "58628   Daytime (9:00am-3:30pm)Rush Hour Evening (3:30...  \n",
       "58639                          Overnight (11:00pm-5:30am)  \n",
       "58648                   Rush Hour Morning (7:30am-9:00am)  \n",
       "...                                                   ...  \n",
       "555142  Daytime (9:00am-3:30pm)Rush Hour Evening (3:30...  \n",
       "555143                         Overnight (11:00pm-5:30am)  \n",
       "555144                         Overnight (11:00pm-5:30am)  \n",
       "555145                           Evening (5:00pm-11:00pm)  \n",
       "555146                           Evening (5:00pm-11:00pm)  \n",
       "\n",
       "[493023 rows x 8 columns]"
      ]
     },
     "execution_count": 54,
     "metadata": {},
     "output_type": "execute_result"
    }
   ],
   "source": [
    "df = df.drop(['Unnamed: 0', 'Time'], axis=1)\n",
    "df"
   ]
  },
  {
   "cell_type": "code",
   "execution_count": 55,
   "metadata": {},
   "outputs": [],
   "source": [
    "df.to_csv(\"../Data/timeRangedData.csv\",index=False)"
   ]
  },
  {
   "cell_type": "code",
   "execution_count": null,
   "metadata": {},
   "outputs": [],
   "source": []
  }
 ],
 "metadata": {
  "kernelspec": {
   "display_name": "Python 3",
   "language": "python",
   "name": "python3"
  },
  "language_info": {
   "codemirror_mode": {
    "name": "ipython",
    "version": 3
   },
   "file_extension": ".py",
   "mimetype": "text/x-python",
   "name": "python",
   "nbconvert_exporter": "python",
   "pygments_lexer": "ipython3",
   "version": "3.11.2"
  },
  "orig_nbformat": 4
 },
 "nbformat": 4,
 "nbformat_minor": 2
}
