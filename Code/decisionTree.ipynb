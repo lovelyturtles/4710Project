{
 "cells": [
  {
   "cell_type": "code",
   "execution_count": null,
   "metadata": {},
   "outputs": [],
   "source": [
    "import pandas as pd\n",
    "from sklearn.tree import DecisionTreeClassifier\n",
    "from sklearn.model_selection import train_test_split\n",
    "from sklearn.metrics import accuracy_score\n",
    "from sklearn.ensemble import RandomForestClassifier\n",
    "from sklearn.model_selection import GridSearchCV\n",
    "from matplotlib import pyplot as plt\n",
    "from sklearn import tree"
   ]
  },
  {
   "cell_type": "code",
   "execution_count": null,
   "metadata": {},
   "outputs": [],
   "source": [
    "df = pd.read_csv('../Data/cleanedSampleNoMidnight.csv')\n",
    "df"
   ]
  },
  {
   "cell_type": "code",
   "execution_count": null,
   "metadata": {},
   "outputs": [],
   "source": [
    "X = df.drop(['Violation Code'], axis=1)\n",
    "y = df['Violation Code']"
   ]
  },
  {
   "cell_type": "code",
   "execution_count": null,
   "metadata": {},
   "outputs": [],
   "source": [
    "X = pd.get_dummies(X, columns=['Street', 'Day',\"Time Range\"])"
   ]
  },
  {
   "cell_type": "code",
   "execution_count": null,
   "metadata": {},
   "outputs": [],
   "source": [
    "X_train, X_test, y_train, y_test = train_test_split(X, y, test_size=0.2, random_state=0)"
   ]
  },
  {
   "cell_type": "code",
   "execution_count": null,
   "metadata": {},
   "outputs": [],
   "source": [
    "# Define the hyperparameters to tune\n",
    "param_grid = {\n",
    "    'max_depth': [2, 4, 6, 8],\n",
    "    'min_samples_split': [2, 5, 10],\n",
    "    'min_samples_leaf': [1, 2, 4]\n",
    "}\n",
    "\n",
    "# Create a GridSearchCV object and fit it on the training data\n",
    "grid_search = GridSearchCV(DecisionTreeClassifier(), param_grid=param_grid, cv=5)\n",
    "grid_search.fit(X_train, y_train)\n"
   ]
  },
  {
   "cell_type": "code",
   "execution_count": null,
   "metadata": {},
   "outputs": [],
   "source": [
    "# Print the best hyperparameters found\n",
    "print(grid_search.best_params_)\n",
    "\n",
    "# Make predictions on the testing data using the best model\n",
    "y_pred = grid_search.best_estimator_.predict(X_test)\n",
    "\n",
    "# Evaluate the performance of the classifier\n",
    "accuracy_score(y_test, y_pred)\n",
    "\n"
   ]
  },
  {
   "cell_type": "code",
   "execution_count": null,
   "metadata": {},
   "outputs": [],
   "source": [
    "accs = pd.DataFrame(columns=[\"Locations/No Locations\",\"Technique\",\"max_depth\",\"min_samples_leaf\",\"min_samples,split\",\"n_estimators\",\"Accuracy Score\"])\n",
    "\n",
    "accs.loc[len(accs)] = [\"With Locations\",\"Decision Tree\",*grid_search.best_params_.values(),\"N/A\",accuracy_score(y_test, y_pred)]\n",
    "accs"
   ]
  },
  {
   "cell_type": "code",
   "execution_count": null,
   "metadata": {},
   "outputs": [],
   "source": [
    "fig = plt.figure(figsize=(25,20))\n",
    "_ = tree.plot_tree(grid_search.best_estimator_,filled=True)"
   ]
  },
  {
   "cell_type": "code",
   "execution_count": null,
   "metadata": {},
   "outputs": [],
   "source": [
    "# Define the hyperparameters to tune\n",
    "param_grid = {\n",
    "    'n_estimators': [100, 200, 500],\n",
    "    'max_depth': [2, 4, 6, 8],\n",
    "    'min_samples_split': [2, 5, 10],\n",
    "    'min_samples_leaf': [1, 2, 4]\n",
    "}\n"
   ]
  },
  {
   "cell_type": "code",
   "execution_count": null,
   "metadata": {},
   "outputs": [],
   "source": [
    "# Create a GridSearchCV object and fit it on the training data\n",
    "grid_search2 = GridSearchCV(RandomForestClassifier(), param_grid=param_grid, cv=5)\n",
    "grid_search2.fit(X_train, y_train)\n",
    "\n",
    "# Print the best hyperparameters found\n",
    "print(grid_search2.best_params_)"
   ]
  },
  {
   "cell_type": "code",
   "execution_count": null,
   "metadata": {},
   "outputs": [],
   "source": [
    "# Make predictions on the testing data using the best model\n",
    "y_pred = grid_search2.best_estimator_.predict(X_test)\n",
    "\n",
    "# Evaluate the performance of the classifier\n",
    "accuracy_score(y_test, y_pred)\n",
    "\n",
    "accs.loc[len(accs)] = [\"With Locations\",\"Random Forest\",*grid_search2.best_params_.values(),accuracy_score(y_test, y_pred)]\n",
    "accs"
   ]
  },
  {
   "cell_type": "code",
   "execution_count": null,
   "metadata": {},
   "outputs": [],
   "source": [
    "rf = RandomForestClassifier(max_depth=8,min_samples_leaf=2,min_samples_split=10, n_estimators=100)\n",
    "rf.fit(X_train, y_train)# Make predictions on the testing data using the best model\n"
   ]
  },
  {
   "cell_type": "code",
   "execution_count": null,
   "metadata": {},
   "outputs": [],
   "source": [
    "dfnoLoc = df.drop([\"Longitude\",\"Latitude\"],axis=1)\n",
    "dfnoLoc"
   ]
  },
  {
   "cell_type": "code",
   "execution_count": null,
   "metadata": {},
   "outputs": [],
   "source": [
    "X2 = dfnoLoc.drop(['Violation Code'], axis=1)\n",
    "y2 = dfnoLoc['Violation Code']\n",
    "X2 = pd.get_dummies(X2, columns=['Street', 'Day',\"Time Range\"])\n",
    "X_train2, X_test2, y_train2, y_test2 = train_test_split(X2, y2, test_size=0.2, random_state=0)"
   ]
  },
  {
   "cell_type": "code",
   "execution_count": null,
   "metadata": {},
   "outputs": [],
   "source": [
    "# Define the hyperparameters to tune\n",
    "param_grid = {\n",
    "    'max_depth': [2, 4, 6, 8],\n",
    "    'min_samples_split': [2, 5, 10],\n",
    "    'min_samples_leaf': [1, 2, 4]\n",
    "}\n",
    "\n",
    "# Create a GridSearchCV object and fit it on the training data\n",
    "grid_search3 = GridSearchCV(DecisionTreeClassifier(), param_grid=param_grid, cv=5)\n",
    "grid_search3.fit(X_train2, y_train2)\n"
   ]
  },
  {
   "cell_type": "code",
   "execution_count": null,
   "metadata": {},
   "outputs": [],
   "source": [
    "# Print the best hyperparameters found\n",
    "print(grid_search.best_params_)\n",
    "\n",
    "# Make predictions on the testing data using the best model\n",
    "y_pred2 = grid_search3.best_estimator_.predict(X_test2)\n",
    "\n",
    "# Evaluate the performance of the classifier\n",
    "accuracy_score(y_test2, y_pred2)"
   ]
  },
  {
   "cell_type": "code",
   "execution_count": null,
   "metadata": {},
   "outputs": [],
   "source": [
    "accs.loc[len(accs)] = [\"Without Locations\",\"Decision Tree\",*grid_search3.best_params_.values(),\"N/A\",accuracy_score(y_test2, y_pred2)]\n",
    "accs"
   ]
  },
  {
   "cell_type": "code",
   "execution_count": null,
   "metadata": {},
   "outputs": [],
   "source": [
    "fig = plt.figure(figsize=(25,20))\n",
    "_ = tree.plot_tree(grid_search3.best_estimator_,filled=True)"
   ]
  },
  {
   "cell_type": "code",
   "execution_count": null,
   "metadata": {},
   "outputs": [],
   "source": [
    "# Define the hyperparameters to tune\n",
    "param_grid = {\n",
    "    'n_estimators': [100, 200, 500],\n",
    "    'max_depth': [2, 4, 6, 8],\n",
    "    'min_samples_split': [2, 5, 10],\n",
    "    'min_samples_leaf': [1, 2, 4]\n",
    "}\n"
   ]
  },
  {
   "cell_type": "code",
   "execution_count": null,
   "metadata": {},
   "outputs": [],
   "source": [
    "# Create a GridSearchCV object and fit it on the training data\n",
    "grid_search4 = GridSearchCV(RandomForestClassifier(), param_grid=param_grid, cv=5)\n",
    "grid_search4.fit(X_train2, y_train2)\n",
    "\n",
    "# Print the best hyperparameters found\n",
    "print(grid_search4.best_params_)"
   ]
  },
  {
   "cell_type": "code",
   "execution_count": null,
   "metadata": {},
   "outputs": [],
   "source": [
    "# Make predictions on the testing data using the best model\n",
    "y_pred2 = grid_search4.best_estimator_.predict(X_test2)\n",
    "\n",
    "# Evaluate the performance of the classifier\n",
    "accuracy_score(y_test2, y_pred2)\n",
    "\n",
    "accs.loc[len(accs)] = [\"Without Locations\",\"Random Forest\",*grid_search4.best_params_.values(),accuracy_score(y_test2, y_pred2)]\n",
    "accs"
   ]
  },
  {
   "cell_type": "code",
   "execution_count": null,
   "metadata": {},
   "outputs": [],
   "source": [
    "accs.to_csv(\"../Results/DecTreeandRanForestNoMidnight.csv\",index = False)"
   ]
  },
  {
   "cell_type": "code",
   "execution_count": null,
   "metadata": {},
   "outputs": [],
   "source": []
  }
 ],
 "metadata": {
  "kernelspec": {
   "display_name": "Python 3",
   "language": "python",
   "name": "python3"
  },
  "language_info": {
   "codemirror_mode": {
    "name": "ipython",
    "version": 3
   },
   "file_extension": ".py",
   "mimetype": "text/x-python",
   "name": "python",
   "nbconvert_exporter": "python",
   "pygments_lexer": "ipython3",
   "version": "3.11.2"
  },
  "orig_nbformat": 4
 },
 "nbformat": 4,
 "nbformat_minor": 2
}
