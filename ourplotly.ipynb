{
 "cells": [
  {
   "cell_type": "code",
   "execution_count": 3,
   "metadata": {
    "pycharm": {
     "name": "#%%\n"
    }
   },
   "outputs": [
    {
     "data": {
      "text/html": "        <script type=\"text/javascript\">\n        window.PlotlyConfig = {MathJaxConfig: 'local'};\n        if (window.MathJax && window.MathJax.Hub && window.MathJax.Hub.Config) {window.MathJax.Hub.Config({SVG: {font: \"STIX-Web\"}});}\n        if (typeof require !== 'undefined') {\n        require.undef(\"plotly\");\n        requirejs.config({\n            paths: {\n                'plotly': ['https://cdn.plot.ly/plotly-2.20.0.min']\n            }\n        });\n        require(['plotly'], function(Plotly) {\n            window._Plotly = Plotly;\n        });\n        }\n        </script>\n        "
     },
     "metadata": {},
     "output_type": "display_data"
    },
    {
     "data": {
      "text/html": "        <script type=\"text/javascript\">\n        window.PlotlyConfig = {MathJaxConfig: 'local'};\n        if (window.MathJax && window.MathJax.Hub && window.MathJax.Hub.Config) {window.MathJax.Hub.Config({SVG: {font: \"STIX-Web\"}});}\n        if (typeof require !== 'undefined') {\n        require.undef(\"plotly\");\n        requirejs.config({\n            paths: {\n                'plotly': ['https://cdn.plot.ly/plotly-2.20.0.min']\n            }\n        });\n        require(['plotly'], function(Plotly) {\n            window._Plotly = Plotly;\n        });\n        }\n        </script>\n        "
     },
     "metadata": {},
     "output_type": "display_data"
    }
   ],
   "source": [
    "import pandas as pd\n",
    "import numpy as np\n",
    "import chart_studio.plotly as py\n",
    "import cufflinks as cf\n",
    "import seaborn as sns\n",
    "import plotly.express as px\n",
    "%matplotlib inline\n",
    "\n",
    "from plotly.offline import download_plotlyjs, init_notebook_mode, plot, iplot\n",
    "init_notebook_mode(connected=True)\n",
    "cf.go_offline()"
   ]
  },
  {
   "cell_type": "code",
   "execution_count": 4,
   "metadata": {
    "pycharm": {
     "name": "#%%\n"
    }
   },
   "outputs": [
    {
     "data": {
      "text/plain": "         Date     Time             Street             Location  Full Fine  \\\n0  2021-11-15  0:00:00         Mayfair PL  (49.8822, -97.1381)       70.0   \n1  2021-11-15  0:00:00       Wentworth ST  (49.8714, -97.1612)       70.0   \n2  2021-11-15  0:00:00  LOT128-960 THOMAS  (49.8987, -97.0846)       70.0   \n3  2021-11-15  0:00:00           Lloyd ST   (49.873, -97.1171)      100.0   \n4  2021-11-15  0:00:00        Haggart AVE  (49.9497, -97.2169)       70.0   \n\n   Discounted Fine Violation Code        Violation Description  \n0             52.5            P17  Too close to a traffic sign  \n1             52.5            P17  Too close to a traffic sign  \n2             52.5            P16                      No Park  \n3             75.0            P13                 Fire Hydrant  \n4             52.5            P04            Oversized Vehicle  ",
      "text/html": "<div>\n<style scoped>\n    .dataframe tbody tr th:only-of-type {\n        vertical-align: middle;\n    }\n\n    .dataframe tbody tr th {\n        vertical-align: top;\n    }\n\n    .dataframe thead th {\n        text-align: right;\n    }\n</style>\n<table border=\"1\" class=\"dataframe\">\n  <thead>\n    <tr style=\"text-align: right;\">\n      <th></th>\n      <th>Date</th>\n      <th>Time</th>\n      <th>Street</th>\n      <th>Location</th>\n      <th>Full Fine</th>\n      <th>Discounted Fine</th>\n      <th>Violation Code</th>\n      <th>Violation Description</th>\n    </tr>\n  </thead>\n  <tbody>\n    <tr>\n      <th>0</th>\n      <td>2021-11-15</td>\n      <td>0:00:00</td>\n      <td>Mayfair PL</td>\n      <td>(49.8822, -97.1381)</td>\n      <td>70.0</td>\n      <td>52.5</td>\n      <td>P17</td>\n      <td>Too close to a traffic sign</td>\n    </tr>\n    <tr>\n      <th>1</th>\n      <td>2021-11-15</td>\n      <td>0:00:00</td>\n      <td>Wentworth ST</td>\n      <td>(49.8714, -97.1612)</td>\n      <td>70.0</td>\n      <td>52.5</td>\n      <td>P17</td>\n      <td>Too close to a traffic sign</td>\n    </tr>\n    <tr>\n      <th>2</th>\n      <td>2021-11-15</td>\n      <td>0:00:00</td>\n      <td>LOT128-960 THOMAS</td>\n      <td>(49.8987, -97.0846)</td>\n      <td>70.0</td>\n      <td>52.5</td>\n      <td>P16</td>\n      <td>No Park</td>\n    </tr>\n    <tr>\n      <th>3</th>\n      <td>2021-11-15</td>\n      <td>0:00:00</td>\n      <td>Lloyd ST</td>\n      <td>(49.873, -97.1171)</td>\n      <td>100.0</td>\n      <td>75.0</td>\n      <td>P13</td>\n      <td>Fire Hydrant</td>\n    </tr>\n    <tr>\n      <th>4</th>\n      <td>2021-11-15</td>\n      <td>0:00:00</td>\n      <td>Haggart AVE</td>\n      <td>(49.9497, -97.2169)</td>\n      <td>70.0</td>\n      <td>52.5</td>\n      <td>P04</td>\n      <td>Oversized Vehicle</td>\n    </tr>\n  </tbody>\n</table>\n</div>"
     },
     "execution_count": 4,
     "metadata": {},
     "output_type": "execute_result"
    }
   ],
   "source": [
    "park_data = pd.read_csv('dataCleaned1.csv', low_memory=False)\n",
    "park_data.head()"
   ]
  },
  {
   "cell_type": "code",
   "execution_count": 9,
   "metadata": {
    "pycharm": {
     "name": "#%%\n"
    }
   },
   "outputs": [
    {
     "data": {
      "application/vnd.plotly.v1+json": {
       "data": [
        {
         "alignmentgroup": "True",
         "hovertemplate": "Location=%{x}<br>Violation Code=%{text}<extra></extra>",
         "legendgroup": "(49.873, -97.1171)",
         "marker": {
          "color": "#636efa",
          "pattern": {
           "shape": ""
          }
         },
         "name": "(49.873, -97.1171)",
         "offsetgroup": "(49.873, -97.1171)",
         "orientation": "v",
         "showlegend": true,
         "text": [
          "P13"
         ],
         "textposition": "outside",
         "x": [
          "(49.873, -97.1171)"
         ],
         "xaxis": "x",
         "y": [
          "P13"
         ],
         "yaxis": "y",
         "type": "bar",
         "texttemplate": "%{text:.2s}"
        },
        {
         "alignmentgroup": "True",
         "hovertemplate": "Location=%{x}<br>Violation Code=%{text}<extra></extra>",
         "legendgroup": "(49.8733, -97.1173)",
         "marker": {
          "color": "#EF553B",
          "pattern": {
           "shape": ""
          }
         },
         "name": "(49.8733, -97.1173)",
         "offsetgroup": "(49.8733, -97.1173)",
         "orientation": "v",
         "showlegend": true,
         "text": [
          "P13",
          "P54"
         ],
         "textposition": "outside",
         "x": [
          "(49.8733, -97.1173)",
          "(49.8733, -97.1173)"
         ],
         "xaxis": "x",
         "y": [
          "P13",
          "P54"
         ],
         "yaxis": "y",
         "type": "bar",
         "texttemplate": "%{text:.2s}"
        },
        {
         "alignmentgroup": "True",
         "hovertemplate": "Location=%{x}<br>Violation Code=%{text}<extra></extra>",
         "legendgroup": "(49.8737, -97.1178)",
         "marker": {
          "color": "#00cc96",
          "pattern": {
           "shape": ""
          }
         },
         "name": "(49.8737, -97.1178)",
         "offsetgroup": "(49.8737, -97.1178)",
         "orientation": "v",
         "showlegend": true,
         "text": [
          "P13",
          "P13",
          "P13",
          "P13",
          "P13",
          "P54",
          "P13",
          "P13",
          "P54"
         ],
         "textposition": "outside",
         "x": [
          "(49.8737, -97.1178)",
          "(49.8737, -97.1178)",
          "(49.8737, -97.1178)",
          "(49.8737, -97.1178)",
          "(49.8737, -97.1178)",
          "(49.8737, -97.1178)",
          "(49.8737, -97.1178)",
          "(49.8737, -97.1178)",
          "(49.8737, -97.1178)"
         ],
         "xaxis": "x",
         "y": [
          "P13",
          "P13",
          "P13",
          "P13",
          "P13",
          "P54",
          "P13",
          "P13",
          "P54"
         ],
         "yaxis": "y",
         "type": "bar",
         "texttemplate": "%{text:.2s}"
        },
        {
         "alignmentgroup": "True",
         "hovertemplate": "Location=%{x}<br>Violation Code=%{text}<extra></extra>",
         "legendgroup": "(49.8737, -97.1177)",
         "marker": {
          "color": "#ab63fa",
          "pattern": {
           "shape": ""
          }
         },
         "name": "(49.8737, -97.1177)",
         "offsetgroup": "(49.8737, -97.1177)",
         "orientation": "v",
         "showlegend": true,
         "text": [
          "P13"
         ],
         "textposition": "outside",
         "x": [
          "(49.8737, -97.1177)"
         ],
         "xaxis": "x",
         "y": [
          "P13"
         ],
         "yaxis": "y",
         "type": "bar",
         "texttemplate": "%{text:.2s}"
        },
        {
         "alignmentgroup": "True",
         "hovertemplate": "Location=%{x}<br>Violation Code=%{text}<extra></extra>",
         "legendgroup": "(49.8735, -97.1175)",
         "marker": {
          "color": "#FFA15A",
          "pattern": {
           "shape": ""
          }
         },
         "name": "(49.8735, -97.1175)",
         "offsetgroup": "(49.8735, -97.1175)",
         "orientation": "v",
         "showlegend": true,
         "text": [
          "P54"
         ],
         "textposition": "outside",
         "x": [
          "(49.8735, -97.1175)"
         ],
         "xaxis": "x",
         "y": [
          "P54"
         ],
         "yaxis": "y",
         "type": "bar",
         "texttemplate": "%{text:.2s}"
        },
        {
         "alignmentgroup": "True",
         "hovertemplate": "Location=%{x}<br>Violation Code=%{text}<extra></extra>",
         "legendgroup": "(49.8745, -97.1188)",
         "marker": {
          "color": "#19d3f3",
          "pattern": {
           "shape": ""
          }
         },
         "name": "(49.8745, -97.1188)",
         "offsetgroup": "(49.8745, -97.1188)",
         "orientation": "v",
         "showlegend": true,
         "text": [
          "P09"
         ],
         "textposition": "outside",
         "x": [
          "(49.8745, -97.1188)"
         ],
         "xaxis": "x",
         "y": [
          "P09"
         ],
         "yaxis": "y",
         "type": "bar",
         "texttemplate": "%{text:.2s}"
        },
        {
         "alignmentgroup": "True",
         "hovertemplate": "Location=%{x}<br>Violation Code=%{text}<extra></extra>",
         "legendgroup": "(49.8436, -97.091)",
         "marker": {
          "color": "#FF6692",
          "pattern": {
           "shape": ""
          }
         },
         "name": "(49.8436, -97.091)",
         "offsetgroup": "(49.8436, -97.091)",
         "orientation": "v",
         "showlegend": true,
         "text": [
          "P13"
         ],
         "textposition": "outside",
         "x": [
          "(49.8436, -97.091)"
         ],
         "xaxis": "x",
         "y": [
          "P13"
         ],
         "yaxis": "y",
         "type": "bar",
         "texttemplate": "%{text:.2s}"
        },
        {
         "alignmentgroup": "True",
         "hovertemplate": "Location=%{x}<br>Violation Code=%{text}<extra></extra>",
         "legendgroup": "(49.8744, -97.1184)",
         "marker": {
          "color": "#B6E880",
          "pattern": {
           "shape": ""
          }
         },
         "name": "(49.8744, -97.1184)",
         "offsetgroup": "(49.8744, -97.1184)",
         "orientation": "v",
         "showlegend": true,
         "text": [
          "P11"
         ],
         "textposition": "outside",
         "x": [
          "(49.8744, -97.1184)"
         ],
         "xaxis": "x",
         "y": [
          "P11"
         ],
         "yaxis": "y",
         "type": "bar",
         "texttemplate": "%{text:.2s}"
        },
        {
         "alignmentgroup": "True",
         "hovertemplate": "Location=%{x}<br>Violation Code=%{text}<extra></extra>",
         "legendgroup": "(49.8733, -97.1171)",
         "marker": {
          "color": "#FF97FF",
          "pattern": {
           "shape": ""
          }
         },
         "name": "(49.8733, -97.1171)",
         "offsetgroup": "(49.8733, -97.1171)",
         "orientation": "v",
         "showlegend": true,
         "text": [
          "P13"
         ],
         "textposition": "outside",
         "x": [
          "(49.8733, -97.1171)"
         ],
         "xaxis": "x",
         "y": [
          "P13"
         ],
         "yaxis": "y",
         "type": "bar",
         "texttemplate": "%{text:.2s}"
        },
        {
         "alignmentgroup": "True",
         "hovertemplate": "Location=%{x}<br>Violation Code=%{text}<extra></extra>",
         "legendgroup": "(49.8736, -97.1177)",
         "marker": {
          "color": "#FECB52",
          "pattern": {
           "shape": ""
          }
         },
         "name": "(49.8736, -97.1177)",
         "offsetgroup": "(49.8736, -97.1177)",
         "orientation": "v",
         "showlegend": true,
         "text": [
          "P13"
         ],
         "textposition": "outside",
         "x": [
          "(49.8736, -97.1177)"
         ],
         "xaxis": "x",
         "y": [
          "P13"
         ],
         "yaxis": "y",
         "type": "bar",
         "texttemplate": "%{text:.2s}"
        },
        {
         "alignmentgroup": "True",
         "hovertemplate": "Location=%{x}<br>Violation Code=%{text}<extra></extra>",
         "legendgroup": "(49.873475, -97.117528)",
         "marker": {
          "color": "#636efa",
          "pattern": {
           "shape": ""
          }
         },
         "name": "(49.873475, -97.117528)",
         "offsetgroup": "(49.873475, -97.117528)",
         "orientation": "v",
         "showlegend": true,
         "text": [
          "P13"
         ],
         "textposition": "outside",
         "x": [
          "(49.873475, -97.117528)"
         ],
         "xaxis": "x",
         "y": [
          "P13"
         ],
         "yaxis": "y",
         "type": "bar",
         "texttemplate": "%{text:.2s}"
        },
        {
         "alignmentgroup": "True",
         "hovertemplate": "Location=%{x}<br>Violation Code=%{text}<extra></extra>",
         "legendgroup": "(49.8737916, -97.117953)",
         "marker": {
          "color": "#EF553B",
          "pattern": {
           "shape": ""
          }
         },
         "name": "(49.8737916, -97.117953)",
         "offsetgroup": "(49.8737916, -97.117953)",
         "orientation": "v",
         "showlegend": true,
         "text": [
          "P13"
         ],
         "textposition": "outside",
         "x": [
          "(49.8737916, -97.117953)"
         ],
         "xaxis": "x",
         "y": [
          "P13"
         ],
         "yaxis": "y",
         "type": "bar",
         "texttemplate": "%{text:.2s}"
        },
        {
         "alignmentgroup": "True",
         "hovertemplate": "Location=%{x}<br>Violation Code=%{text}<extra></extra>",
         "legendgroup": "(49.8736, -97.1176)",
         "marker": {
          "color": "#00cc96",
          "pattern": {
           "shape": ""
          }
         },
         "name": "(49.8736, -97.1176)",
         "offsetgroup": "(49.8736, -97.1176)",
         "orientation": "v",
         "showlegend": true,
         "text": [
          "P13",
          "P54"
         ],
         "textposition": "outside",
         "x": [
          "(49.8736, -97.1176)",
          "(49.8736, -97.1176)"
         ],
         "xaxis": "x",
         "y": [
          "P13",
          "P54"
         ],
         "yaxis": "y",
         "type": "bar",
         "texttemplate": "%{text:.2s}"
        },
        {
         "alignmentgroup": "True",
         "hovertemplate": "Location=%{x}<br>Violation Code=%{text}<extra></extra>",
         "legendgroup": "(49.874, -97.1187)",
         "marker": {
          "color": "#ab63fa",
          "pattern": {
           "shape": ""
          }
         },
         "name": "(49.874, -97.1187)",
         "offsetgroup": "(49.874, -97.1187)",
         "orientation": "v",
         "showlegend": true,
         "text": [
          "P12"
         ],
         "textposition": "outside",
         "x": [
          "(49.874, -97.1187)"
         ],
         "xaxis": "x",
         "y": [
          "P12"
         ],
         "yaxis": "y",
         "type": "bar",
         "texttemplate": "%{text:.2s}"
        },
        {
         "alignmentgroup": "True",
         "hovertemplate": "Location=%{x}<br>Violation Code=%{text}<extra></extra>",
         "legendgroup": "(49.8744, -97.1185)",
         "marker": {
          "color": "#FFA15A",
          "pattern": {
           "shape": ""
          }
         },
         "name": "(49.8744, -97.1185)",
         "offsetgroup": "(49.8744, -97.1185)",
         "orientation": "v",
         "showlegend": true,
         "text": [
          "P12"
         ],
         "textposition": "outside",
         "x": [
          "(49.8744, -97.1185)"
         ],
         "xaxis": "x",
         "y": [
          "P12"
         ],
         "yaxis": "y",
         "type": "bar",
         "texttemplate": "%{text:.2s}"
        },
        {
         "alignmentgroup": "True",
         "hovertemplate": "Location=%{x}<br>Violation Code=%{text}<extra></extra>",
         "legendgroup": "(49.874, -97.1186)",
         "marker": {
          "color": "#19d3f3",
          "pattern": {
           "shape": ""
          }
         },
         "name": "(49.874, -97.1186)",
         "offsetgroup": "(49.874, -97.1186)",
         "orientation": "v",
         "showlegend": true,
         "text": [
          "P17"
         ],
         "textposition": "outside",
         "x": [
          "(49.874, -97.1186)"
         ],
         "xaxis": "x",
         "y": [
          "P17"
         ],
         "yaxis": "y",
         "type": "bar",
         "texttemplate": "%{text:.2s}"
        },
        {
         "alignmentgroup": "True",
         "hovertemplate": "Location=%{x}<br>Violation Code=%{text}<extra></extra>",
         "legendgroup": "(49.8737, -97.1179)",
         "marker": {
          "color": "#FF6692",
          "pattern": {
           "shape": ""
          }
         },
         "name": "(49.8737, -97.1179)",
         "offsetgroup": "(49.8737, -97.1179)",
         "orientation": "v",
         "showlegend": true,
         "text": [
          "P13"
         ],
         "textposition": "outside",
         "x": [
          "(49.8737, -97.1179)"
         ],
         "xaxis": "x",
         "y": [
          "P13"
         ],
         "yaxis": "y",
         "type": "bar",
         "texttemplate": "%{text:.2s}"
        },
        {
         "alignmentgroup": "True",
         "hovertemplate": "Location=%{x}<br>Violation Code=%{text}<extra></extra>",
         "legendgroup": "(49.8744, -97.1187)",
         "marker": {
          "color": "#B6E880",
          "pattern": {
           "shape": ""
          }
         },
         "name": "(49.8744, -97.1187)",
         "offsetgroup": "(49.8744, -97.1187)",
         "orientation": "v",
         "showlegend": true,
         "text": [
          "P12"
         ],
         "textposition": "outside",
         "x": [
          "(49.8744, -97.1187)"
         ],
         "xaxis": "x",
         "y": [
          "P12"
         ],
         "yaxis": "y",
         "type": "bar",
         "texttemplate": "%{text:.2s}"
        },
        {
         "alignmentgroup": "True",
         "hovertemplate": "Location=%{x}<br>Violation Code=%{text}<extra></extra>",
         "legendgroup": "(49.8739, -97.1179)",
         "marker": {
          "color": "#FF97FF",
          "pattern": {
           "shape": ""
          }
         },
         "name": "(49.8739, -97.1179)",
         "offsetgroup": "(49.8739, -97.1179)",
         "orientation": "v",
         "showlegend": true,
         "text": [
          "P24"
         ],
         "textposition": "outside",
         "x": [
          "(49.8739, -97.1179)"
         ],
         "xaxis": "x",
         "y": [
          "P24"
         ],
         "yaxis": "y",
         "type": "bar",
         "texttemplate": "%{text:.2s}"
        },
        {
         "alignmentgroup": "True",
         "hovertemplate": "Location=%{x}<br>Violation Code=%{text}<extra></extra>",
         "legendgroup": "(49.8743466, -97.118556)",
         "marker": {
          "color": "#FECB52",
          "pattern": {
           "shape": ""
          }
         },
         "name": "(49.8743466, -97.118556)",
         "offsetgroup": "(49.8743466, -97.118556)",
         "orientation": "v",
         "showlegend": true,
         "text": [
          "11"
         ],
         "textposition": "outside",
         "x": [
          "(49.8743466, -97.118556)"
         ],
         "xaxis": "x",
         "y": [
          "11"
         ],
         "yaxis": "y",
         "type": "bar",
         "texttemplate": "%{text:.2s}"
        },
        {
         "alignmentgroup": "True",
         "hovertemplate": "Location=%{x}<br>Violation Code=%{text}<extra></extra>",
         "legendgroup": "(49.8752716, -97.119451)",
         "marker": {
          "color": "#636efa",
          "pattern": {
           "shape": ""
          }
         },
         "name": "(49.8752716, -97.119451)",
         "offsetgroup": "(49.8752716, -97.119451)",
         "orientation": "v",
         "showlegend": true,
         "text": [
          "11"
         ],
         "textposition": "outside",
         "x": [
          "(49.8752716, -97.119451)"
         ],
         "xaxis": "x",
         "y": [
          "11"
         ],
         "yaxis": "y",
         "type": "bar",
         "texttemplate": "%{text:.2s}"
        },
        {
         "alignmentgroup": "True",
         "hovertemplate": "Location=%{x}<br>Violation Code=%{text}<extra></extra>",
         "legendgroup": "(49.87426, -97.1185)",
         "marker": {
          "color": "#EF553B",
          "pattern": {
           "shape": ""
          }
         },
         "name": "(49.87426, -97.1185)",
         "offsetgroup": "(49.87426, -97.1185)",
         "orientation": "v",
         "showlegend": true,
         "text": [
          "11"
         ],
         "textposition": "outside",
         "x": [
          "(49.87426, -97.1185)"
         ],
         "xaxis": "x",
         "y": [
          "11"
         ],
         "yaxis": "y",
         "type": "bar",
         "texttemplate": "%{text:.2s}"
        },
        {
         "alignmentgroup": "True",
         "hovertemplate": "Location=%{x}<br>Violation Code=%{text}<extra></extra>",
         "legendgroup": "(49.8743633, -97.118573)",
         "marker": {
          "color": "#00cc96",
          "pattern": {
           "shape": ""
          }
         },
         "name": "(49.8743633, -97.118573)",
         "offsetgroup": "(49.8743633, -97.118573)",
         "orientation": "v",
         "showlegend": true,
         "text": [
          "11"
         ],
         "textposition": "outside",
         "x": [
          "(49.8743633, -97.118573)"
         ],
         "xaxis": "x",
         "y": [
          "11"
         ],
         "yaxis": "y",
         "type": "bar",
         "texttemplate": "%{text:.2s}"
        },
        {
         "alignmentgroup": "True",
         "hovertemplate": "Location=%{x}<br>Violation Code=%{text}<extra></extra>",
         "legendgroup": "(49.8730366, -97.117045)",
         "marker": {
          "color": "#ab63fa",
          "pattern": {
           "shape": ""
          }
         },
         "name": "(49.8730366, -97.117045)",
         "offsetgroup": "(49.8730366, -97.117045)",
         "orientation": "v",
         "showlegend": true,
         "text": [
          "34"
         ],
         "textposition": "outside",
         "x": [
          "(49.8730366, -97.117045)"
         ],
         "xaxis": "x",
         "y": [
          "34"
         ],
         "yaxis": "y",
         "type": "bar",
         "texttemplate": "%{text:.2s}"
        },
        {
         "alignmentgroup": "True",
         "hovertemplate": "Location=%{x}<br>Violation Code=%{text}<extra></extra>",
         "legendgroup": "(49.8727683, -97.116568)",
         "marker": {
          "color": "#FFA15A",
          "pattern": {
           "shape": ""
          }
         },
         "name": "(49.8727683, -97.116568)",
         "offsetgroup": "(49.8727683, -97.116568)",
         "orientation": "v",
         "showlegend": true,
         "text": [
          "34"
         ],
         "textposition": "outside",
         "x": [
          "(49.8727683, -97.116568)"
         ],
         "xaxis": "x",
         "y": [
          "34"
         ],
         "yaxis": "y",
         "type": "bar",
         "texttemplate": "%{text:.2s}"
        },
        {
         "alignmentgroup": "True",
         "hovertemplate": "Location=%{x}<br>Violation Code=%{text}<extra></extra>",
         "legendgroup": "(49.8730716, -97.116991)",
         "marker": {
          "color": "#19d3f3",
          "pattern": {
           "shape": ""
          }
         },
         "name": "(49.8730716, -97.116991)",
         "offsetgroup": "(49.8730716, -97.116991)",
         "orientation": "v",
         "showlegend": true,
         "text": [
          "34"
         ],
         "textposition": "outside",
         "x": [
          "(49.8730716, -97.116991)"
         ],
         "xaxis": "x",
         "y": [
          "34"
         ],
         "yaxis": "y",
         "type": "bar",
         "texttemplate": "%{text:.2s}"
        },
        {
         "alignmentgroup": "True",
         "hovertemplate": "Location=%{x}<br>Violation Code=%{text}<extra></extra>",
         "legendgroup": "(49.8728866, -97.116813)",
         "marker": {
          "color": "#FF6692",
          "pattern": {
           "shape": ""
          }
         },
         "name": "(49.8728866, -97.116813)",
         "offsetgroup": "(49.8728866, -97.116813)",
         "orientation": "v",
         "showlegend": true,
         "text": [
          "34"
         ],
         "textposition": "outside",
         "x": [
          "(49.8728866, -97.116813)"
         ],
         "xaxis": "x",
         "y": [
          "34"
         ],
         "yaxis": "y",
         "type": "bar",
         "texttemplate": "%{text:.2s}"
        },
        {
         "alignmentgroup": "True",
         "hovertemplate": "Location=%{x}<br>Violation Code=%{text}<extra></extra>",
         "legendgroup": "(49.8743466, -97.118581)",
         "marker": {
          "color": "#B6E880",
          "pattern": {
           "shape": ""
          }
         },
         "name": "(49.8743466, -97.118581)",
         "offsetgroup": "(49.8743466, -97.118581)",
         "orientation": "v",
         "showlegend": true,
         "text": [
          "11"
         ],
         "textposition": "outside",
         "x": [
          "(49.8743466, -97.118581)"
         ],
         "xaxis": "x",
         "y": [
          "11"
         ],
         "yaxis": "y",
         "type": "bar",
         "texttemplate": "%{text:.2s}"
        },
        {
         "alignmentgroup": "True",
         "hovertemplate": "Location=%{x}<br>Violation Code=%{text}<extra></extra>",
         "legendgroup": "(49.874145, -97.118418)",
         "marker": {
          "color": "#FF97FF",
          "pattern": {
           "shape": ""
          }
         },
         "name": "(49.874145, -97.118418)",
         "offsetgroup": "(49.874145, -97.118418)",
         "orientation": "v",
         "showlegend": true,
         "text": [
          "11"
         ],
         "textposition": "outside",
         "x": [
          "(49.874145, -97.118418)"
         ],
         "xaxis": "x",
         "y": [
          "11"
         ],
         "yaxis": "y",
         "type": "bar",
         "texttemplate": "%{text:.2s}"
        },
        {
         "alignmentgroup": "True",
         "hovertemplate": "Location=%{x}<br>Violation Code=%{text}<extra></extra>",
         "legendgroup": "(49.874195, -97.118496)",
         "marker": {
          "color": "#FECB52",
          "pattern": {
           "shape": ""
          }
         },
         "name": "(49.874195, -97.118496)",
         "offsetgroup": "(49.874195, -97.118496)",
         "orientation": "v",
         "showlegend": true,
         "text": [
          "11"
         ],
         "textposition": "outside",
         "x": [
          "(49.874195, -97.118496)"
         ],
         "xaxis": "x",
         "y": [
          "11"
         ],
         "yaxis": "y",
         "type": "bar",
         "texttemplate": "%{text:.2s}"
        },
        {
         "alignmentgroup": "True",
         "hovertemplate": "Location=%{x}<br>Violation Code=%{text}<extra></extra>",
         "legendgroup": "(49.8735, -97.117473)",
         "marker": {
          "color": "#636efa",
          "pattern": {
           "shape": ""
          }
         },
         "name": "(49.8735, -97.117473)",
         "offsetgroup": "(49.8735, -97.117473)",
         "orientation": "v",
         "showlegend": true,
         "text": [
          "10"
         ],
         "textposition": "outside",
         "x": [
          "(49.8735, -97.117473)"
         ],
         "xaxis": "x",
         "y": [
          "10"
         ],
         "yaxis": "y",
         "type": "bar",
         "texttemplate": "%{text:.2s}"
        },
        {
         "alignmentgroup": "True",
         "hovertemplate": "Location=%{x}<br>Violation Code=%{text}<extra></extra>",
         "legendgroup": "(49.8743766, -97.118613)",
         "marker": {
          "color": "#EF553B",
          "pattern": {
           "shape": ""
          }
         },
         "name": "(49.8743766, -97.118613)",
         "offsetgroup": "(49.8743766, -97.118613)",
         "orientation": "v",
         "showlegend": true,
         "text": [
          "10"
         ],
         "textposition": "outside",
         "x": [
          "(49.8743766, -97.118613)"
         ],
         "xaxis": "x",
         "y": [
          "10"
         ],
         "yaxis": "y",
         "type": "bar",
         "texttemplate": "%{text:.2s}"
        },
        {
         "alignmentgroup": "True",
         "hovertemplate": "Location=%{x}<br>Violation Code=%{text}<extra></extra>",
         "legendgroup": "(49.8742333, -97.118451)",
         "marker": {
          "color": "#00cc96",
          "pattern": {
           "shape": ""
          }
         },
         "name": "(49.8742333, -97.118451)",
         "offsetgroup": "(49.8742333, -97.118451)",
         "orientation": "v",
         "showlegend": true,
         "text": [
          "11"
         ],
         "textposition": "outside",
         "x": [
          "(49.8742333, -97.118451)"
         ],
         "xaxis": "x",
         "y": [
          "11"
         ],
         "yaxis": "y",
         "type": "bar",
         "texttemplate": "%{text:.2s}"
        },
        {
         "alignmentgroup": "True",
         "hovertemplate": "Location=%{x}<br>Violation Code=%{text}<extra></extra>",
         "legendgroup": "(49.8748216, -97.118965)",
         "marker": {
          "color": "#ab63fa",
          "pattern": {
           "shape": ""
          }
         },
         "name": "(49.8748216, -97.118965)",
         "offsetgroup": "(49.8748216, -97.118965)",
         "orientation": "v",
         "showlegend": true,
         "text": [
          "10"
         ],
         "textposition": "outside",
         "x": [
          "(49.8748216, -97.118965)"
         ],
         "xaxis": "x",
         "y": [
          "10"
         ],
         "yaxis": "y",
         "type": "bar",
         "texttemplate": "%{text:.2s}"
        },
        {
         "alignmentgroup": "True",
         "hovertemplate": "Location=%{x}<br>Violation Code=%{text}<extra></extra>",
         "legendgroup": "(49.8754866, -97.119853)",
         "marker": {
          "color": "#FFA15A",
          "pattern": {
           "shape": ""
          }
         },
         "name": "(49.8754866, -97.119853)",
         "offsetgroup": "(49.8754866, -97.119853)",
         "orientation": "v",
         "showlegend": true,
         "text": [
          "15"
         ],
         "textposition": "outside",
         "x": [
          "(49.8754866, -97.119853)"
         ],
         "xaxis": "x",
         "y": [
          "15"
         ],
         "yaxis": "y",
         "type": "bar",
         "texttemplate": "%{text:.2s}"
        },
        {
         "alignmentgroup": "True",
         "hovertemplate": "Location=%{x}<br>Violation Code=%{text}<extra></extra>",
         "legendgroup": "(49.8749683, -97.119215)",
         "marker": {
          "color": "#19d3f3",
          "pattern": {
           "shape": ""
          }
         },
         "name": "(49.8749683, -97.119215)",
         "offsetgroup": "(49.8749683, -97.119215)",
         "orientation": "v",
         "showlegend": true,
         "text": [
          "10"
         ],
         "textposition": "outside",
         "x": [
          "(49.8749683, -97.119215)"
         ],
         "xaxis": "x",
         "y": [
          "10"
         ],
         "yaxis": "y",
         "type": "bar",
         "texttemplate": "%{text:.2s}"
        },
        {
         "alignmentgroup": "True",
         "hovertemplate": "Location=%{x}<br>Violation Code=%{text}<extra></extra>",
         "legendgroup": "(49.8751833, -97.119511)",
         "marker": {
          "color": "#FF6692",
          "pattern": {
           "shape": ""
          }
         },
         "name": "(49.8751833, -97.119511)",
         "offsetgroup": "(49.8751833, -97.119511)",
         "orientation": "v",
         "showlegend": true,
         "text": [
          "10"
         ],
         "textposition": "outside",
         "x": [
          "(49.8751833, -97.119511)"
         ],
         "xaxis": "x",
         "y": [
          "10"
         ],
         "yaxis": "y",
         "type": "bar",
         "texttemplate": "%{text:.2s}"
        },
        {
         "alignmentgroup": "True",
         "hovertemplate": "Location=%{x}<br>Violation Code=%{text}<extra></extra>",
         "legendgroup": "(49.8748166, -97.119081)",
         "marker": {
          "color": "#B6E880",
          "pattern": {
           "shape": ""
          }
         },
         "name": "(49.8748166, -97.119081)",
         "offsetgroup": "(49.8748166, -97.119081)",
         "orientation": "v",
         "showlegend": true,
         "text": [
          "34"
         ],
         "textposition": "outside",
         "x": [
          "(49.8748166, -97.119081)"
         ],
         "xaxis": "x",
         "y": [
          "34"
         ],
         "yaxis": "y",
         "type": "bar",
         "texttemplate": "%{text:.2s}"
        },
        {
         "alignmentgroup": "True",
         "hovertemplate": "Location=%{x}<br>Violation Code=%{text}<extra></extra>",
         "legendgroup": "(49.8753833, -97.119613)",
         "marker": {
          "color": "#FF97FF",
          "pattern": {
           "shape": ""
          }
         },
         "name": "(49.8753833, -97.119613)",
         "offsetgroup": "(49.8753833, -97.119613)",
         "orientation": "v",
         "showlegend": true,
         "text": [
          "34"
         ],
         "textposition": "outside",
         "x": [
          "(49.8753833, -97.119613)"
         ],
         "xaxis": "x",
         "y": [
          "34"
         ],
         "yaxis": "y",
         "type": "bar",
         "texttemplate": "%{text:.2s}"
        },
        {
         "alignmentgroup": "True",
         "hovertemplate": "Location=%{x}<br>Violation Code=%{text}<extra></extra>",
         "legendgroup": "(49.87462, -97.118931)",
         "marker": {
          "color": "#FECB52",
          "pattern": {
           "shape": ""
          }
         },
         "name": "(49.87462, -97.118931)",
         "offsetgroup": "(49.87462, -97.118931)",
         "orientation": "v",
         "showlegend": true,
         "text": [
          "10"
         ],
         "textposition": "outside",
         "x": [
          "(49.87462, -97.118931)"
         ],
         "xaxis": "x",
         "y": [
          "10"
         ],
         "yaxis": "y",
         "type": "bar",
         "texttemplate": "%{text:.2s}"
        },
        {
         "alignmentgroup": "True",
         "hovertemplate": "Location=%{x}<br>Violation Code=%{text}<extra></extra>",
         "legendgroup": "(49.874935, -97.119171)",
         "marker": {
          "color": "#636efa",
          "pattern": {
           "shape": ""
          }
         },
         "name": "(49.874935, -97.119171)",
         "offsetgroup": "(49.874935, -97.119171)",
         "orientation": "v",
         "showlegend": true,
         "text": [
          "34"
         ],
         "textposition": "outside",
         "x": [
          "(49.874935, -97.119171)"
         ],
         "xaxis": "x",
         "y": [
          "34"
         ],
         "yaxis": "y",
         "type": "bar",
         "texttemplate": "%{text:.2s}"
        },
        {
         "alignmentgroup": "True",
         "hovertemplate": "Location=%{x}<br>Violation Code=%{text}<extra></extra>",
         "legendgroup": "(49.8745816, -97.118895)",
         "marker": {
          "color": "#EF553B",
          "pattern": {
           "shape": ""
          }
         },
         "name": "(49.8745816, -97.118895)",
         "offsetgroup": "(49.8745816, -97.118895)",
         "orientation": "v",
         "showlegend": true,
         "text": [
          "41"
         ],
         "textposition": "outside",
         "x": [
          "(49.8745816, -97.118895)"
         ],
         "xaxis": "x",
         "y": [
          "41"
         ],
         "yaxis": "y",
         "type": "bar",
         "texttemplate": "%{text:.2s}"
        },
        {
         "alignmentgroup": "True",
         "hovertemplate": "Location=%{x}<br>Violation Code=%{text}<extra></extra>",
         "legendgroup": "(49.8747716, -97.119058)",
         "marker": {
          "color": "#00cc96",
          "pattern": {
           "shape": ""
          }
         },
         "name": "(49.8747716, -97.119058)",
         "offsetgroup": "(49.8747716, -97.119058)",
         "orientation": "v",
         "showlegend": true,
         "text": [
          "34"
         ],
         "textposition": "outside",
         "x": [
          "(49.8747716, -97.119058)"
         ],
         "xaxis": "x",
         "y": [
          "34"
         ],
         "yaxis": "y",
         "type": "bar",
         "texttemplate": "%{text:.2s}"
        },
        {
         "alignmentgroup": "True",
         "hovertemplate": "Location=%{x}<br>Violation Code=%{text}<extra></extra>",
         "legendgroup": "(49.8742883, -97.118566)",
         "marker": {
          "color": "#ab63fa",
          "pattern": {
           "shape": ""
          }
         },
         "name": "(49.8742883, -97.118566)",
         "offsetgroup": "(49.8742883, -97.118566)",
         "orientation": "v",
         "showlegend": true,
         "text": [
          "11"
         ],
         "textposition": "outside",
         "x": [
          "(49.8742883, -97.118566)"
         ],
         "xaxis": "x",
         "y": [
          "11"
         ],
         "yaxis": "y",
         "type": "bar",
         "texttemplate": "%{text:.2s}"
        },
        {
         "alignmentgroup": "True",
         "hovertemplate": "Location=%{x}<br>Violation Code=%{text}<extra></extra>",
         "legendgroup": "(49.873435, -97.117408)",
         "marker": {
          "color": "#FFA15A",
          "pattern": {
           "shape": ""
          }
         },
         "name": "(49.873435, -97.117408)",
         "offsetgroup": "(49.873435, -97.117408)",
         "orientation": "v",
         "showlegend": true,
         "text": [
          "34"
         ],
         "textposition": "outside",
         "x": [
          "(49.873435, -97.117408)"
         ],
         "xaxis": "x",
         "y": [
          "34"
         ],
         "yaxis": "y",
         "type": "bar",
         "texttemplate": "%{text:.2s}"
        },
        {
         "alignmentgroup": "True",
         "hovertemplate": "Location=%{x}<br>Violation Code=%{text}<extra></extra>",
         "legendgroup": "(49.8731783, -97.117181)",
         "marker": {
          "color": "#19d3f3",
          "pattern": {
           "shape": ""
          }
         },
         "name": "(49.8731783, -97.117181)",
         "offsetgroup": "(49.8731783, -97.117181)",
         "orientation": "v",
         "showlegend": true,
         "text": [
          "34"
         ],
         "textposition": "outside",
         "x": [
          "(49.8731783, -97.117181)"
         ],
         "xaxis": "x",
         "y": [
          "34"
         ],
         "yaxis": "y",
         "type": "bar",
         "texttemplate": "%{text:.2s}"
        },
        {
         "alignmentgroup": "True",
         "hovertemplate": "Location=%{x}<br>Violation Code=%{text}<extra></extra>",
         "legendgroup": "(49.8734316, -97.117501)",
         "marker": {
          "color": "#FF6692",
          "pattern": {
           "shape": ""
          }
         },
         "name": "(49.8734316, -97.117501)",
         "offsetgroup": "(49.8734316, -97.117501)",
         "orientation": "v",
         "showlegend": true,
         "text": [
          "34"
         ],
         "textposition": "outside",
         "x": [
          "(49.8734316, -97.117501)"
         ],
         "xaxis": "x",
         "y": [
          "34"
         ],
         "yaxis": "y",
         "type": "bar",
         "texttemplate": "%{text:.2s}"
        },
        {
         "alignmentgroup": "True",
         "hovertemplate": "Location=%{x}<br>Violation Code=%{text}<extra></extra>",
         "legendgroup": "(49.873415, -97.117355)",
         "marker": {
          "color": "#B6E880",
          "pattern": {
           "shape": ""
          }
         },
         "name": "(49.873415, -97.117355)",
         "offsetgroup": "(49.873415, -97.117355)",
         "orientation": "v",
         "showlegend": true,
         "text": [
          "34"
         ],
         "textposition": "outside",
         "x": [
          "(49.873415, -97.117355)"
         ],
         "xaxis": "x",
         "y": [
          "34"
         ],
         "yaxis": "y",
         "type": "bar",
         "texttemplate": "%{text:.2s}"
        },
        {
         "alignmentgroup": "True",
         "hovertemplate": "Location=%{x}<br>Violation Code=%{text}<extra></extra>",
         "legendgroup": "(49.8728616, -97.116691)",
         "marker": {
          "color": "#FF97FF",
          "pattern": {
           "shape": ""
          }
         },
         "name": "(49.8728616, -97.116691)",
         "offsetgroup": "(49.8728616, -97.116691)",
         "orientation": "v",
         "showlegend": true,
         "text": [
          "34"
         ],
         "textposition": "outside",
         "x": [
          "(49.8728616, -97.116691)"
         ],
         "xaxis": "x",
         "y": [
          "34"
         ],
         "yaxis": "y",
         "type": "bar",
         "texttemplate": "%{text:.2s}"
        },
        {
         "alignmentgroup": "True",
         "hovertemplate": "Location=%{x}<br>Violation Code=%{text}<extra></extra>",
         "legendgroup": "(49.8743983, -97.11867)",
         "marker": {
          "color": "#FECB52",
          "pattern": {
           "shape": ""
          }
         },
         "name": "(49.8743983, -97.11867)",
         "offsetgroup": "(49.8743983, -97.11867)",
         "orientation": "v",
         "showlegend": true,
         "text": [
          "34"
         ],
         "textposition": "outside",
         "x": [
          "(49.8743983, -97.11867)"
         ],
         "xaxis": "x",
         "y": [
          "34"
         ],
         "yaxis": "y",
         "type": "bar",
         "texttemplate": "%{text:.2s}"
        },
        {
         "alignmentgroup": "True",
         "hovertemplate": "Location=%{x}<br>Violation Code=%{text}<extra></extra>",
         "legendgroup": "(49.872845, -97.1167)",
         "marker": {
          "color": "#636efa",
          "pattern": {
           "shape": ""
          }
         },
         "name": "(49.872845, -97.1167)",
         "offsetgroup": "(49.872845, -97.1167)",
         "orientation": "v",
         "showlegend": true,
         "text": [
          "34"
         ],
         "textposition": "outside",
         "x": [
          "(49.872845, -97.1167)"
         ],
         "xaxis": "x",
         "y": [
          "34"
         ],
         "yaxis": "y",
         "type": "bar",
         "texttemplate": "%{text:.2s}"
        },
        {
         "alignmentgroup": "True",
         "hovertemplate": "Location=%{x}<br>Violation Code=%{text}<extra></extra>",
         "legendgroup": "(49.8747016, -97.119011)",
         "marker": {
          "color": "#EF553B",
          "pattern": {
           "shape": ""
          }
         },
         "name": "(49.8747016, -97.119011)",
         "offsetgroup": "(49.8747016, -97.119011)",
         "orientation": "v",
         "showlegend": true,
         "text": [
          "34"
         ],
         "textposition": "outside",
         "x": [
          "(49.8747016, -97.119011)"
         ],
         "xaxis": "x",
         "y": [
          "34"
         ],
         "yaxis": "y",
         "type": "bar",
         "texttemplate": "%{text:.2s}"
        },
        {
         "alignmentgroup": "True",
         "hovertemplate": "Location=%{x}<br>Violation Code=%{text}<extra></extra>",
         "legendgroup": "(49.8739583, -97.118101)",
         "marker": {
          "color": "#00cc96",
          "pattern": {
           "shape": ""
          }
         },
         "name": "(49.8739583, -97.118101)",
         "offsetgroup": "(49.8739583, -97.118101)",
         "orientation": "v",
         "showlegend": true,
         "text": [
          "34"
         ],
         "textposition": "outside",
         "x": [
          "(49.8739583, -97.118101)"
         ],
         "xaxis": "x",
         "y": [
          "34"
         ],
         "yaxis": "y",
         "type": "bar",
         "texttemplate": "%{text:.2s}"
        },
        {
         "alignmentgroup": "True",
         "hovertemplate": "Location=%{x}<br>Violation Code=%{text}<extra></extra>",
         "legendgroup": "(49.8742883, -97.118725)",
         "marker": {
          "color": "#ab63fa",
          "pattern": {
           "shape": ""
          }
         },
         "name": "(49.8742883, -97.118725)",
         "offsetgroup": "(49.8742883, -97.118725)",
         "orientation": "v",
         "showlegend": true,
         "text": [
          "11"
         ],
         "textposition": "outside",
         "x": [
          "(49.8742883, -97.118725)"
         ],
         "xaxis": "x",
         "y": [
          "11"
         ],
         "yaxis": "y",
         "type": "bar",
         "texttemplate": "%{text:.2s}"
        },
        {
         "alignmentgroup": "True",
         "hovertemplate": "Location=%{x}<br>Violation Code=%{text}<extra></extra>",
         "legendgroup": "(49.8728033, -97.116733)",
         "marker": {
          "color": "#FFA15A",
          "pattern": {
           "shape": ""
          }
         },
         "name": "(49.8728033, -97.116733)",
         "offsetgroup": "(49.8728033, -97.116733)",
         "orientation": "v",
         "showlegend": true,
         "text": [
          "18"
         ],
         "textposition": "outside",
         "x": [
          "(49.8728033, -97.116733)"
         ],
         "xaxis": "x",
         "y": [
          "18"
         ],
         "yaxis": "y",
         "type": "bar",
         "texttemplate": "%{text:.2s}"
        },
        {
         "alignmentgroup": "True",
         "hovertemplate": "Location=%{x}<br>Violation Code=%{text}<extra></extra>",
         "legendgroup": "(49.8743683, -97.118788)",
         "marker": {
          "color": "#19d3f3",
          "pattern": {
           "shape": ""
          }
         },
         "name": "(49.8743683, -97.118788)",
         "offsetgroup": "(49.8743683, -97.118788)",
         "orientation": "v",
         "showlegend": true,
         "text": [
          "11"
         ],
         "textposition": "outside",
         "x": [
          "(49.8743683, -97.118788)"
         ],
         "xaxis": "x",
         "y": [
          "11"
         ],
         "yaxis": "y",
         "type": "bar",
         "texttemplate": "%{text:.2s}"
        },
        {
         "alignmentgroup": "True",
         "hovertemplate": "Location=%{x}<br>Violation Code=%{text}<extra></extra>",
         "legendgroup": "(49.8744366, -97.118726)",
         "marker": {
          "color": "#FF6692",
          "pattern": {
           "shape": ""
          }
         },
         "name": "(49.8744366, -97.118726)",
         "offsetgroup": "(49.8744366, -97.118726)",
         "orientation": "v",
         "showlegend": true,
         "text": [
          "11",
          "11"
         ],
         "textposition": "outside",
         "x": [
          "(49.8744366, -97.118726)",
          "(49.8744366, -97.118726)"
         ],
         "xaxis": "x",
         "y": [
          "11",
          "11"
         ],
         "yaxis": "y",
         "type": "bar",
         "texttemplate": "%{text:.2s}"
        },
        {
         "alignmentgroup": "True",
         "hovertemplate": "Location=%{x}<br>Violation Code=%{text}<extra></extra>",
         "legendgroup": "(49.8744433, -97.118761)",
         "marker": {
          "color": "#B6E880",
          "pattern": {
           "shape": ""
          }
         },
         "name": "(49.8744433, -97.118761)",
         "offsetgroup": "(49.8744433, -97.118761)",
         "orientation": "v",
         "showlegend": true,
         "text": [
          "11"
         ],
         "textposition": "outside",
         "x": [
          "(49.8744433, -97.118761)"
         ],
         "xaxis": "x",
         "y": [
          "11"
         ],
         "yaxis": "y",
         "type": "bar",
         "texttemplate": "%{text:.2s}"
        },
        {
         "alignmentgroup": "True",
         "hovertemplate": "Location=%{x}<br>Violation Code=%{text}<extra></extra>",
         "legendgroup": "(49.8751216, -97.119441)",
         "marker": {
          "color": "#FF97FF",
          "pattern": {
           "shape": ""
          }
         },
         "name": "(49.8751216, -97.119441)",
         "offsetgroup": "(49.8751216, -97.119441)",
         "orientation": "v",
         "showlegend": true,
         "text": [
          "10"
         ],
         "textposition": "outside",
         "x": [
          "(49.8751216, -97.119441)"
         ],
         "xaxis": "x",
         "y": [
          "10"
         ],
         "yaxis": "y",
         "type": "bar",
         "texttemplate": "%{text:.2s}"
        },
        {
         "alignmentgroup": "True",
         "hovertemplate": "Location=%{x}<br>Violation Code=%{text}<extra></extra>",
         "legendgroup": "(49.8738083, -97.117971)",
         "marker": {
          "color": "#FECB52",
          "pattern": {
           "shape": ""
          }
         },
         "name": "(49.8738083, -97.117971)",
         "offsetgroup": "(49.8738083, -97.117971)",
         "orientation": "v",
         "showlegend": true,
         "text": [
          "10"
         ],
         "textposition": "outside",
         "x": [
          "(49.8738083, -97.117971)"
         ],
         "xaxis": "x",
         "y": [
          "10"
         ],
         "yaxis": "y",
         "type": "bar",
         "texttemplate": "%{text:.2s}"
        },
        {
         "alignmentgroup": "True",
         "hovertemplate": "Location=%{x}<br>Violation Code=%{text}<extra></extra>",
         "legendgroup": "(49.8751966, -97.11934)",
         "marker": {
          "color": "#636efa",
          "pattern": {
           "shape": ""
          }
         },
         "name": "(49.8751966, -97.11934)",
         "offsetgroup": "(49.8751966, -97.11934)",
         "orientation": "v",
         "showlegend": true,
         "text": [
          "10"
         ],
         "textposition": "outside",
         "x": [
          "(49.8751966, -97.11934)"
         ],
         "xaxis": "x",
         "y": [
          "10"
         ],
         "yaxis": "y",
         "type": "bar",
         "texttemplate": "%{text:.2s}"
        },
        {
         "alignmentgroup": "True",
         "hovertemplate": "Location=%{x}<br>Violation Code=%{text}<extra></extra>",
         "legendgroup": "(49.874275, -97.118611)",
         "marker": {
          "color": "#EF553B",
          "pattern": {
           "shape": ""
          }
         },
         "name": "(49.874275, -97.118611)",
         "offsetgroup": "(49.874275, -97.118611)",
         "orientation": "v",
         "showlegend": true,
         "text": [
          "11"
         ],
         "textposition": "outside",
         "x": [
          "(49.874275, -97.118611)"
         ],
         "xaxis": "x",
         "y": [
          "11"
         ],
         "yaxis": "y",
         "type": "bar",
         "texttemplate": "%{text:.2s}"
        },
        {
         "alignmentgroup": "True",
         "hovertemplate": "Location=%{x}<br>Violation Code=%{text}<extra></extra>",
         "legendgroup": "(49.8742633, -97.11854)",
         "marker": {
          "color": "#00cc96",
          "pattern": {
           "shape": ""
          }
         },
         "name": "(49.8742633, -97.11854)",
         "offsetgroup": "(49.8742633, -97.11854)",
         "orientation": "v",
         "showlegend": true,
         "text": [
          "11"
         ],
         "textposition": "outside",
         "x": [
          "(49.8742633, -97.11854)"
         ],
         "xaxis": "x",
         "y": [
          "11"
         ],
         "yaxis": "y",
         "type": "bar",
         "texttemplate": "%{text:.2s}"
        },
        {
         "alignmentgroup": "True",
         "hovertemplate": "Location=%{x}<br>Violation Code=%{text}<extra></extra>",
         "legendgroup": "(49.8742833, -97.118488)",
         "marker": {
          "color": "#ab63fa",
          "pattern": {
           "shape": ""
          }
         },
         "name": "(49.8742833, -97.118488)",
         "offsetgroup": "(49.8742833, -97.118488)",
         "orientation": "v",
         "showlegend": true,
         "text": [
          "11"
         ],
         "textposition": "outside",
         "x": [
          "(49.8742833, -97.118488)"
         ],
         "xaxis": "x",
         "y": [
          "11"
         ],
         "yaxis": "y",
         "type": "bar",
         "texttemplate": "%{text:.2s}"
        },
        {
         "alignmentgroup": "True",
         "hovertemplate": "Location=%{x}<br>Violation Code=%{text}<extra></extra>",
         "legendgroup": "(49.8751216, -97.119378)",
         "marker": {
          "color": "#FFA15A",
          "pattern": {
           "shape": ""
          }
         },
         "name": "(49.8751216, -97.119378)",
         "offsetgroup": "(49.8751216, -97.119378)",
         "orientation": "v",
         "showlegend": true,
         "text": [
          "10"
         ],
         "textposition": "outside",
         "x": [
          "(49.8751216, -97.119378)"
         ],
         "xaxis": "x",
         "y": [
          "10"
         ],
         "yaxis": "y",
         "type": "bar",
         "texttemplate": "%{text:.2s}"
        },
        {
         "alignmentgroup": "True",
         "hovertemplate": "Location=%{x}<br>Violation Code=%{text}<extra></extra>",
         "legendgroup": "(49.8732833, -97.117331)",
         "marker": {
          "color": "#19d3f3",
          "pattern": {
           "shape": ""
          }
         },
         "name": "(49.8732833, -97.117331)",
         "offsetgroup": "(49.8732833, -97.117331)",
         "orientation": "v",
         "showlegend": true,
         "text": [
          "10"
         ],
         "textposition": "outside",
         "x": [
          "(49.8732833, -97.117331)"
         ],
         "xaxis": "x",
         "y": [
          "10"
         ],
         "yaxis": "y",
         "type": "bar",
         "texttemplate": "%{text:.2s}"
        },
        {
         "alignmentgroup": "True",
         "hovertemplate": "Location=%{x}<br>Violation Code=%{text}<extra></extra>",
         "legendgroup": "(49.8742683, -97.118568)",
         "marker": {
          "color": "#FF6692",
          "pattern": {
           "shape": ""
          }
         },
         "name": "(49.8742683, -97.118568)",
         "offsetgroup": "(49.8742683, -97.118568)",
         "orientation": "v",
         "showlegend": true,
         "text": [
          "11"
         ],
         "textposition": "outside",
         "x": [
          "(49.8742683, -97.118568)"
         ],
         "xaxis": "x",
         "y": [
          "11"
         ],
         "yaxis": "y",
         "type": "bar",
         "texttemplate": "%{text:.2s}"
        },
        {
         "alignmentgroup": "True",
         "hovertemplate": "Location=%{x}<br>Violation Code=%{text}<extra></extra>",
         "legendgroup": "(49.87434, -97.118623)",
         "marker": {
          "color": "#B6E880",
          "pattern": {
           "shape": ""
          }
         },
         "name": "(49.87434, -97.118623)",
         "offsetgroup": "(49.87434, -97.118623)",
         "orientation": "v",
         "showlegend": true,
         "text": [
          "11"
         ],
         "textposition": "outside",
         "x": [
          "(49.87434, -97.118623)"
         ],
         "xaxis": "x",
         "y": [
          "11"
         ],
         "yaxis": "y",
         "type": "bar",
         "texttemplate": "%{text:.2s}"
        },
        {
         "alignmentgroup": "True",
         "hovertemplate": "Location=%{x}<br>Violation Code=%{text}<extra></extra>",
         "legendgroup": "(49.87444, -97.118768)",
         "marker": {
          "color": "#FF97FF",
          "pattern": {
           "shape": ""
          }
         },
         "name": "(49.87444, -97.118768)",
         "offsetgroup": "(49.87444, -97.118768)",
         "orientation": "v",
         "showlegend": true,
         "text": [
          "12"
         ],
         "textposition": "outside",
         "x": [
          "(49.87444, -97.118768)"
         ],
         "xaxis": "x",
         "y": [
          "12"
         ],
         "yaxis": "y",
         "type": "bar",
         "texttemplate": "%{text:.2s}"
        },
        {
         "alignmentgroup": "True",
         "hovertemplate": "Location=%{x}<br>Violation Code=%{text}<extra></extra>",
         "legendgroup": "(49.87433, -97.11852)",
         "marker": {
          "color": "#FECB52",
          "pattern": {
           "shape": ""
          }
         },
         "name": "(49.87433, -97.11852)",
         "offsetgroup": "(49.87433, -97.11852)",
         "orientation": "v",
         "showlegend": true,
         "text": [
          "12"
         ],
         "textposition": "outside",
         "x": [
          "(49.87433, -97.11852)"
         ],
         "xaxis": "x",
         "y": [
          "12"
         ],
         "yaxis": "y",
         "type": "bar",
         "texttemplate": "%{text:.2s}"
        },
        {
         "alignmentgroup": "True",
         "hovertemplate": "Location=%{x}<br>Violation Code=%{text}<extra></extra>",
         "legendgroup": "(49.87444, -97.118786)",
         "marker": {
          "color": "#636efa",
          "pattern": {
           "shape": ""
          }
         },
         "name": "(49.87444, -97.118786)",
         "offsetgroup": "(49.87444, -97.118786)",
         "orientation": "v",
         "showlegend": true,
         "text": [
          "12"
         ],
         "textposition": "outside",
         "x": [
          "(49.87444, -97.118786)"
         ],
         "xaxis": "x",
         "y": [
          "12"
         ],
         "yaxis": "y",
         "type": "bar",
         "texttemplate": "%{text:.2s}"
        },
        {
         "alignmentgroup": "True",
         "hovertemplate": "Location=%{x}<br>Violation Code=%{text}<extra></extra>",
         "legendgroup": "(49.8724666, -97.116586)",
         "marker": {
          "color": "#EF553B",
          "pattern": {
           "shape": ""
          }
         },
         "name": "(49.8724666, -97.116586)",
         "offsetgroup": "(49.8724666, -97.116586)",
         "orientation": "v",
         "showlegend": true,
         "text": [
          "17"
         ],
         "textposition": "outside",
         "x": [
          "(49.8724666, -97.116586)"
         ],
         "xaxis": "x",
         "y": [
          "17"
         ],
         "yaxis": "y",
         "type": "bar",
         "texttemplate": "%{text:.2s}"
        },
        {
         "alignmentgroup": "True",
         "hovertemplate": "Location=%{x}<br>Violation Code=%{text}<extra></extra>",
         "legendgroup": "(49.8742233, -97.11842)",
         "marker": {
          "color": "#00cc96",
          "pattern": {
           "shape": ""
          }
         },
         "name": "(49.8742233, -97.11842)",
         "offsetgroup": "(49.8742233, -97.11842)",
         "orientation": "v",
         "showlegend": true,
         "text": [
          "11"
         ],
         "textposition": "outside",
         "x": [
          "(49.8742233, -97.11842)"
         ],
         "xaxis": "x",
         "y": [
          "11"
         ],
         "yaxis": "y",
         "type": "bar",
         "texttemplate": "%{text:.2s}"
        },
        {
         "alignmentgroup": "True",
         "hovertemplate": "Location=%{x}<br>Violation Code=%{text}<extra></extra>",
         "legendgroup": "(49.8744033, -97.118653)",
         "marker": {
          "color": "#ab63fa",
          "pattern": {
           "shape": ""
          }
         },
         "name": "(49.8744033, -97.118653)",
         "offsetgroup": "(49.8744033, -97.118653)",
         "orientation": "v",
         "showlegend": true,
         "text": [
          "9"
         ],
         "textposition": "outside",
         "x": [
          "(49.8744033, -97.118653)"
         ],
         "xaxis": "x",
         "y": [
          "9"
         ],
         "yaxis": "y",
         "type": "bar",
         "texttemplate": "%{text:.2s}"
        },
        {
         "alignmentgroup": "True",
         "hovertemplate": "Location=%{x}<br>Violation Code=%{text}<extra></extra>",
         "legendgroup": "(49.8743066, -97.11858)",
         "marker": {
          "color": "#FFA15A",
          "pattern": {
           "shape": ""
          }
         },
         "name": "(49.8743066, -97.11858)",
         "offsetgroup": "(49.8743066, -97.11858)",
         "orientation": "v",
         "showlegend": true,
         "text": [
          "12"
         ],
         "textposition": "outside",
         "x": [
          "(49.8743066, -97.11858)"
         ],
         "xaxis": "x",
         "y": [
          "12"
         ],
         "yaxis": "y",
         "type": "bar",
         "texttemplate": "%{text:.2s}"
        },
        {
         "alignmentgroup": "True",
         "hovertemplate": "Location=%{x}<br>Violation Code=%{text}<extra></extra>",
         "legendgroup": "(49.8753383, -97.119958)",
         "marker": {
          "color": "#19d3f3",
          "pattern": {
           "shape": ""
          }
         },
         "name": "(49.8753383, -97.119958)",
         "offsetgroup": "(49.8753383, -97.119958)",
         "orientation": "v",
         "showlegend": true,
         "text": [
          "9"
         ],
         "textposition": "outside",
         "x": [
          "(49.8753383, -97.119958)"
         ],
         "xaxis": "x",
         "y": [
          "9"
         ],
         "yaxis": "y",
         "type": "bar",
         "texttemplate": "%{text:.2s}"
        },
        {
         "alignmentgroup": "True",
         "hovertemplate": "Location=%{x}<br>Violation Code=%{text}<extra></extra>",
         "legendgroup": "(49.8728083, -97.116613)",
         "marker": {
          "color": "#FF6692",
          "pattern": {
           "shape": ""
          }
         },
         "name": "(49.8728083, -97.116613)",
         "offsetgroup": "(49.8728083, -97.116613)",
         "orientation": "v",
         "showlegend": true,
         "text": [
          "17"
         ],
         "textposition": "outside",
         "x": [
          "(49.8728083, -97.116613)"
         ],
         "xaxis": "x",
         "y": [
          "17"
         ],
         "yaxis": "y",
         "type": "bar",
         "texttemplate": "%{text:.2s}"
        },
        {
         "alignmentgroup": "True",
         "hovertemplate": "Location=%{x}<br>Violation Code=%{text}<extra></extra>",
         "legendgroup": "(49.8743516, -97.118526)",
         "marker": {
          "color": "#B6E880",
          "pattern": {
           "shape": ""
          }
         },
         "name": "(49.8743516, -97.118526)",
         "offsetgroup": "(49.8743516, -97.118526)",
         "orientation": "v",
         "showlegend": true,
         "text": [
          "9"
         ],
         "textposition": "outside",
         "x": [
          "(49.8743516, -97.118526)"
         ],
         "xaxis": "x",
         "y": [
          "9"
         ],
         "yaxis": "y",
         "type": "bar",
         "texttemplate": "%{text:.2s}"
        },
        {
         "alignmentgroup": "True",
         "hovertemplate": "Location=%{x}<br>Violation Code=%{text}<extra></extra>",
         "legendgroup": "(49.8740633, -97.118486)",
         "marker": {
          "color": "#FF97FF",
          "pattern": {
           "shape": ""
          }
         },
         "name": "(49.8740633, -97.118486)",
         "offsetgroup": "(49.8740633, -97.118486)",
         "orientation": "v",
         "showlegend": true,
         "text": [
          "17"
         ],
         "textposition": "outside",
         "x": [
          "(49.8740633, -97.118486)"
         ],
         "xaxis": "x",
         "y": [
          "17"
         ],
         "yaxis": "y",
         "type": "bar",
         "texttemplate": "%{text:.2s}"
        },
        {
         "alignmentgroup": "True",
         "hovertemplate": "Location=%{x}<br>Violation Code=%{text}<extra></extra>",
         "legendgroup": "(49.8737466, -97.117816)",
         "marker": {
          "color": "#FECB52",
          "pattern": {
           "shape": ""
          }
         },
         "name": "(49.8737466, -97.117816)",
         "offsetgroup": "(49.8737466, -97.117816)",
         "orientation": "v",
         "showlegend": true,
         "text": [
          "13"
         ],
         "textposition": "outside",
         "x": [
          "(49.8737466, -97.117816)"
         ],
         "xaxis": "x",
         "y": [
          "13"
         ],
         "yaxis": "y",
         "type": "bar",
         "texttemplate": "%{text:.2s}"
        },
        {
         "alignmentgroup": "True",
         "hovertemplate": "Location=%{x}<br>Violation Code=%{text}<extra></extra>",
         "legendgroup": "(49.87357, -97.117713)",
         "marker": {
          "color": "#636efa",
          "pattern": {
           "shape": ""
          }
         },
         "name": "(49.87357, -97.117713)",
         "offsetgroup": "(49.87357, -97.117713)",
         "orientation": "v",
         "showlegend": true,
         "text": [
          "13"
         ],
         "textposition": "outside",
         "x": [
          "(49.87357, -97.117713)"
         ],
         "xaxis": "x",
         "y": [
          "13"
         ],
         "yaxis": "y",
         "type": "bar",
         "texttemplate": "%{text:.2s}"
        },
        {
         "alignmentgroup": "True",
         "hovertemplate": "Location=%{x}<br>Violation Code=%{text}<extra></extra>",
         "legendgroup": "(49.8732016, -97.117183)",
         "marker": {
          "color": "#EF553B",
          "pattern": {
           "shape": ""
          }
         },
         "name": "(49.8732016, -97.117183)",
         "offsetgroup": "(49.8732016, -97.117183)",
         "orientation": "v",
         "showlegend": true,
         "text": [
          "13"
         ],
         "textposition": "outside",
         "x": [
          "(49.8732016, -97.117183)"
         ],
         "xaxis": "x",
         "y": [
          "13"
         ],
         "yaxis": "y",
         "type": "bar",
         "texttemplate": "%{text:.2s}"
        },
        {
         "alignmentgroup": "True",
         "hovertemplate": "Location=%{x}<br>Violation Code=%{text}<extra></extra>",
         "legendgroup": "(49.8732083, -97.117163)",
         "marker": {
          "color": "#00cc96",
          "pattern": {
           "shape": ""
          }
         },
         "name": "(49.8732083, -97.117163)",
         "offsetgroup": "(49.8732083, -97.117163)",
         "orientation": "v",
         "showlegend": true,
         "text": [
          "13"
         ],
         "textposition": "outside",
         "x": [
          "(49.8732083, -97.117163)"
         ],
         "xaxis": "x",
         "y": [
          "13"
         ],
         "yaxis": "y",
         "type": "bar",
         "texttemplate": "%{text:.2s}"
        },
        {
         "alignmentgroup": "True",
         "hovertemplate": "Location=%{x}<br>Violation Code=%{text}<extra></extra>",
         "legendgroup": "(49.8728033, -97.116751)",
         "marker": {
          "color": "#ab63fa",
          "pattern": {
           "shape": ""
          }
         },
         "name": "(49.8728033, -97.116751)",
         "offsetgroup": "(49.8728033, -97.116751)",
         "orientation": "v",
         "showlegend": true,
         "text": [
          "P13"
         ],
         "textposition": "outside",
         "x": [
          "(49.8728033, -97.116751)"
         ],
         "xaxis": "x",
         "y": [
          "P13"
         ],
         "yaxis": "y",
         "type": "bar",
         "texttemplate": "%{text:.2s}"
        },
        {
         "alignmentgroup": "True",
         "hovertemplate": "Location=%{x}<br>Violation Code=%{text}<extra></extra>",
         "legendgroup": "(49.8732483, -97.117198)",
         "marker": {
          "color": "#FFA15A",
          "pattern": {
           "shape": ""
          }
         },
         "name": "(49.8732483, -97.117198)",
         "offsetgroup": "(49.8732483, -97.117198)",
         "orientation": "v",
         "showlegend": true,
         "text": [
          "P13"
         ],
         "textposition": "outside",
         "x": [
          "(49.8732483, -97.117198)"
         ],
         "xaxis": "x",
         "y": [
          "P13"
         ],
         "yaxis": "y",
         "type": "bar",
         "texttemplate": "%{text:.2s}"
        },
        {
         "alignmentgroup": "True",
         "hovertemplate": "Location=%{x}<br>Violation Code=%{text}<extra></extra>",
         "legendgroup": "(49.8736533, -97.117665)",
         "marker": {
          "color": "#19d3f3",
          "pattern": {
           "shape": ""
          }
         },
         "name": "(49.8736533, -97.117665)",
         "offsetgroup": "(49.8736533, -97.117665)",
         "orientation": "v",
         "showlegend": true,
         "text": [
          "P13"
         ],
         "textposition": "outside",
         "x": [
          "(49.8736533, -97.117665)"
         ],
         "xaxis": "x",
         "y": [
          "P13"
         ],
         "yaxis": "y",
         "type": "bar",
         "texttemplate": "%{text:.2s}"
        },
        {
         "alignmentgroup": "True",
         "hovertemplate": "Location=%{x}<br>Violation Code=%{text}<extra></extra>",
         "legendgroup": "(49.87426, -97.11854)",
         "marker": {
          "color": "#FF6692",
          "pattern": {
           "shape": ""
          }
         },
         "name": "(49.87426, -97.11854)",
         "offsetgroup": "(49.87426, -97.11854)",
         "orientation": "v",
         "showlegend": true,
         "text": [
          "P12"
         ],
         "textposition": "outside",
         "x": [
          "(49.87426, -97.11854)"
         ],
         "xaxis": "x",
         "y": [
          "P12"
         ],
         "yaxis": "y",
         "type": "bar",
         "texttemplate": "%{text:.2s}"
        },
        {
         "alignmentgroup": "True",
         "hovertemplate": "Location=%{x}<br>Violation Code=%{text}<extra></extra>",
         "legendgroup": "(49.87432, -97.118493)",
         "marker": {
          "color": "#B6E880",
          "pattern": {
           "shape": ""
          }
         },
         "name": "(49.87432, -97.118493)",
         "offsetgroup": "(49.87432, -97.118493)",
         "orientation": "v",
         "showlegend": true,
         "text": [
          "P12"
         ],
         "textposition": "outside",
         "x": [
          "(49.87432, -97.118493)"
         ],
         "xaxis": "x",
         "y": [
          "P12"
         ],
         "yaxis": "y",
         "type": "bar",
         "texttemplate": "%{text:.2s}"
        },
        {
         "alignmentgroup": "True",
         "hovertemplate": "Location=%{x}<br>Violation Code=%{text}<extra></extra>",
         "legendgroup": "(49.8737166, -97.117825)",
         "marker": {
          "color": "#FF97FF",
          "pattern": {
           "shape": ""
          }
         },
         "name": "(49.8737166, -97.117825)",
         "offsetgroup": "(49.8737166, -97.117825)",
         "orientation": "v",
         "showlegend": true,
         "text": [
          "P13"
         ],
         "textposition": "outside",
         "x": [
          "(49.8737166, -97.117825)"
         ],
         "xaxis": "x",
         "y": [
          "P13"
         ],
         "yaxis": "y",
         "type": "bar",
         "texttemplate": "%{text:.2s}"
        },
        {
         "alignmentgroup": "True",
         "hovertemplate": "Location=%{x}<br>Violation Code=%{text}<extra></extra>",
         "legendgroup": "(49.8737083, -97.117821)",
         "marker": {
          "color": "#FECB52",
          "pattern": {
           "shape": ""
          }
         },
         "name": "(49.8737083, -97.117821)",
         "offsetgroup": "(49.8737083, -97.117821)",
         "orientation": "v",
         "showlegend": true,
         "text": [
          "P13"
         ],
         "textposition": "outside",
         "x": [
          "(49.8737083, -97.117821)"
         ],
         "xaxis": "x",
         "y": [
          "P13"
         ],
         "yaxis": "y",
         "type": "bar",
         "texttemplate": "%{text:.2s}"
        },
        {
         "alignmentgroup": "True",
         "hovertemplate": "Location=%{x}<br>Violation Code=%{text}<extra></extra>",
         "legendgroup": "(49.873245, -97.117128)",
         "marker": {
          "color": "#636efa",
          "pattern": {
           "shape": ""
          }
         },
         "name": "(49.873245, -97.117128)",
         "offsetgroup": "(49.873245, -97.117128)",
         "orientation": "v",
         "showlegend": true,
         "text": [
          "P13"
         ],
         "textposition": "outside",
         "x": [
          "(49.873245, -97.117128)"
         ],
         "xaxis": "x",
         "y": [
          "P13"
         ],
         "yaxis": "y",
         "type": "bar",
         "texttemplate": "%{text:.2s}"
        },
        {
         "alignmentgroup": "True",
         "hovertemplate": "Location=%{x}<br>Violation Code=%{text}<extra></extra>",
         "legendgroup": "(49.8728866, -97.116798)",
         "marker": {
          "color": "#EF553B",
          "pattern": {
           "shape": ""
          }
         },
         "name": "(49.8728866, -97.116798)",
         "offsetgroup": "(49.8728866, -97.116798)",
         "orientation": "v",
         "showlegend": true,
         "text": [
          "P13"
         ],
         "textposition": "outside",
         "x": [
          "(49.8728866, -97.116798)"
         ],
         "xaxis": "x",
         "y": [
          "P13"
         ],
         "yaxis": "y",
         "type": "bar",
         "texttemplate": "%{text:.2s}"
        },
        {
         "alignmentgroup": "True",
         "hovertemplate": "Location=%{x}<br>Violation Code=%{text}<extra></extra>",
         "legendgroup": "(49.8728, -97.116678)",
         "marker": {
          "color": "#00cc96",
          "pattern": {
           "shape": ""
          }
         },
         "name": "(49.8728, -97.116678)",
         "offsetgroup": "(49.8728, -97.116678)",
         "orientation": "v",
         "showlegend": true,
         "text": [
          "P13"
         ],
         "textposition": "outside",
         "x": [
          "(49.8728, -97.116678)"
         ],
         "xaxis": "x",
         "y": [
          "P13"
         ],
         "yaxis": "y",
         "type": "bar",
         "texttemplate": "%{text:.2s}"
        },
        {
         "alignmentgroup": "True",
         "hovertemplate": "Location=%{x}<br>Violation Code=%{text}<extra></extra>",
         "legendgroup": "(49.873735, -97.117835)",
         "marker": {
          "color": "#ab63fa",
          "pattern": {
           "shape": ""
          }
         },
         "name": "(49.873735, -97.117835)",
         "offsetgroup": "(49.873735, -97.117835)",
         "orientation": "v",
         "showlegend": true,
         "text": [
          "P13"
         ],
         "textposition": "outside",
         "x": [
          "(49.873735, -97.117835)"
         ],
         "xaxis": "x",
         "y": [
          "P13"
         ],
         "yaxis": "y",
         "type": "bar",
         "texttemplate": "%{text:.2s}"
        },
        {
         "alignmentgroup": "True",
         "hovertemplate": "Location=%{x}<br>Violation Code=%{text}<extra></extra>",
         "legendgroup": "(49.8742283, -97.11854)",
         "marker": {
          "color": "#FFA15A",
          "pattern": {
           "shape": ""
          }
         },
         "name": "(49.8742283, -97.11854)",
         "offsetgroup": "(49.8742283, -97.11854)",
         "orientation": "v",
         "showlegend": true,
         "text": [
          "P12"
         ],
         "textposition": "outside",
         "x": [
          "(49.8742283, -97.11854)"
         ],
         "xaxis": "x",
         "y": [
          "P12"
         ],
         "yaxis": "y",
         "type": "bar",
         "texttemplate": "%{text:.2s}"
        },
        {
         "alignmentgroup": "True",
         "hovertemplate": "Location=%{x}<br>Violation Code=%{text}<extra></extra>",
         "legendgroup": "(49.8736766, -97.117521)",
         "marker": {
          "color": "#19d3f3",
          "pattern": {
           "shape": ""
          }
         },
         "name": "(49.8736766, -97.117521)",
         "offsetgroup": "(49.8736766, -97.117521)",
         "orientation": "v",
         "showlegend": true,
         "text": [
          "P13"
         ],
         "textposition": "outside",
         "x": [
          "(49.8736766, -97.117521)"
         ],
         "xaxis": "x",
         "y": [
          "P13"
         ],
         "yaxis": "y",
         "type": "bar",
         "texttemplate": "%{text:.2s}"
        },
        {
         "alignmentgroup": "True",
         "hovertemplate": "Location=%{x}<br>Violation Code=%{text}<extra></extra>",
         "legendgroup": "(49.8743966, -97.118616)",
         "marker": {
          "color": "#FF6692",
          "pattern": {
           "shape": ""
          }
         },
         "name": "(49.8743966, -97.118616)",
         "offsetgroup": "(49.8743966, -97.118616)",
         "orientation": "v",
         "showlegend": true,
         "text": [
          "P09"
         ],
         "textposition": "outside",
         "x": [
          "(49.8743966, -97.118616)"
         ],
         "xaxis": "x",
         "y": [
          "P09"
         ],
         "yaxis": "y",
         "type": "bar",
         "texttemplate": "%{text:.2s}"
        },
        {
         "alignmentgroup": "True",
         "hovertemplate": "Location=%{x}<br>Violation Code=%{text}<extra></extra>",
         "legendgroup": "(49.87247, -97.116493)",
         "marker": {
          "color": "#B6E880",
          "pattern": {
           "shape": ""
          }
         },
         "name": "(49.87247, -97.116493)",
         "offsetgroup": "(49.87247, -97.116493)",
         "orientation": "v",
         "showlegend": true,
         "text": [
          "P17"
         ],
         "textposition": "outside",
         "x": [
          "(49.87247, -97.116493)"
         ],
         "xaxis": "x",
         "y": [
          "P17"
         ],
         "yaxis": "y",
         "type": "bar",
         "texttemplate": "%{text:.2s}"
        },
        {
         "alignmentgroup": "True",
         "hovertemplate": "Location=%{x}<br>Violation Code=%{text}<extra></extra>",
         "legendgroup": "(49.87309, -97.11701)",
         "marker": {
          "color": "#FF97FF",
          "pattern": {
           "shape": ""
          }
         },
         "name": "(49.87309, -97.11701)",
         "offsetgroup": "(49.87309, -97.11701)",
         "orientation": "v",
         "showlegend": true,
         "text": [
          "P13"
         ],
         "textposition": "outside",
         "x": [
          "(49.87309, -97.11701)"
         ],
         "xaxis": "x",
         "y": [
          "P13"
         ],
         "yaxis": "y",
         "type": "bar",
         "texttemplate": "%{text:.2s}"
        },
        {
         "alignmentgroup": "True",
         "hovertemplate": "Location=%{x}<br>Violation Code=%{text}<extra></extra>",
         "legendgroup": "(49.8743233, -97.118496)",
         "marker": {
          "color": "#FECB52",
          "pattern": {
           "shape": ""
          }
         },
         "name": "(49.8743233, -97.118496)",
         "offsetgroup": "(49.8743233, -97.118496)",
         "orientation": "v",
         "showlegend": true,
         "text": [
          "P09"
         ],
         "textposition": "outside",
         "x": [
          "(49.8743233, -97.118496)"
         ],
         "xaxis": "x",
         "y": [
          "P09"
         ],
         "yaxis": "y",
         "type": "bar",
         "texttemplate": "%{text:.2s}"
        },
        {
         "alignmentgroup": "True",
         "hovertemplate": "Location=%{x}<br>Violation Code=%{text}<extra></extra>",
         "legendgroup": "(49.8738416, -97.117991)",
         "marker": {
          "color": "#636efa",
          "pattern": {
           "shape": ""
          }
         },
         "name": "(49.8738416, -97.117991)",
         "offsetgroup": "(49.8738416, -97.117991)",
         "orientation": "v",
         "showlegend": true,
         "text": [
          "P13"
         ],
         "textposition": "outside",
         "x": [
          "(49.8738416, -97.117991)"
         ],
         "xaxis": "x",
         "y": [
          "P13"
         ],
         "yaxis": "y",
         "type": "bar",
         "texttemplate": "%{text:.2s}"
        },
        {
         "alignmentgroup": "True",
         "hovertemplate": "Location=%{x}<br>Violation Code=%{text}<extra></extra>",
         "legendgroup": "(49.8736333, -97.117696)",
         "marker": {
          "color": "#EF553B",
          "pattern": {
           "shape": ""
          }
         },
         "name": "(49.8736333, -97.117696)",
         "offsetgroup": "(49.8736333, -97.117696)",
         "orientation": "v",
         "showlegend": true,
         "text": [
          "P13"
         ],
         "textposition": "outside",
         "x": [
          "(49.8736333, -97.117696)"
         ],
         "xaxis": "x",
         "y": [
          "P13"
         ],
         "yaxis": "y",
         "type": "bar",
         "texttemplate": "%{text:.2s}"
        },
        {
         "alignmentgroup": "True",
         "hovertemplate": "Location=%{x}<br>Violation Code=%{text}<extra></extra>",
         "legendgroup": "(49.8736383, -97.11761)",
         "marker": {
          "color": "#00cc96",
          "pattern": {
           "shape": ""
          }
         },
         "name": "(49.8736383, -97.11761)",
         "offsetgroup": "(49.8736383, -97.11761)",
         "orientation": "v",
         "showlegend": true,
         "text": [
          "P13"
         ],
         "textposition": "outside",
         "x": [
          "(49.8736383, -97.11761)"
         ],
         "xaxis": "x",
         "y": [
          "P13"
         ],
         "yaxis": "y",
         "type": "bar",
         "texttemplate": "%{text:.2s}"
        },
        {
         "alignmentgroup": "True",
         "hovertemplate": "Location=%{x}<br>Violation Code=%{text}<extra></extra>",
         "legendgroup": "(49.8736266, -97.117665)",
         "marker": {
          "color": "#ab63fa",
          "pattern": {
           "shape": ""
          }
         },
         "name": "(49.8736266, -97.117665)",
         "offsetgroup": "(49.8736266, -97.117665)",
         "orientation": "v",
         "showlegend": true,
         "text": [
          "P13"
         ],
         "textposition": "outside",
         "x": [
          "(49.8736266, -97.117665)"
         ],
         "xaxis": "x",
         "y": [
          "P13"
         ],
         "yaxis": "y",
         "type": "bar",
         "texttemplate": "%{text:.2s}"
        },
        {
         "alignmentgroup": "True",
         "hovertemplate": "Location=%{x}<br>Violation Code=%{text}<extra></extra>",
         "legendgroup": "(49.8738183, -97.11803)",
         "marker": {
          "color": "#FFA15A",
          "pattern": {
           "shape": ""
          }
         },
         "name": "(49.8738183, -97.11803)",
         "offsetgroup": "(49.8738183, -97.11803)",
         "orientation": "v",
         "showlegend": true,
         "text": [
          "P13"
         ],
         "textposition": "outside",
         "x": [
          "(49.8738183, -97.11803)"
         ],
         "xaxis": "x",
         "y": [
          "P13"
         ],
         "yaxis": "y",
         "type": "bar",
         "texttemplate": "%{text:.2s}"
        },
        {
         "alignmentgroup": "True",
         "hovertemplate": "Location=%{x}<br>Violation Code=%{text}<extra></extra>",
         "legendgroup": "(49.874085, -97.118583)",
         "marker": {
          "color": "#19d3f3",
          "pattern": {
           "shape": ""
          }
         },
         "name": "(49.874085, -97.118583)",
         "offsetgroup": "(49.874085, -97.118583)",
         "orientation": "v",
         "showlegend": true,
         "text": [
          "P17"
         ],
         "textposition": "outside",
         "x": [
          "(49.874085, -97.118583)"
         ],
         "xaxis": "x",
         "y": [
          "P17"
         ],
         "yaxis": "y",
         "type": "bar",
         "texttemplate": "%{text:.2s}"
        },
        {
         "alignmentgroup": "True",
         "hovertemplate": "Location=%{x}<br>Violation Code=%{text}<extra></extra>",
         "legendgroup": "(49.8735383, -97.117498)",
         "marker": {
          "color": "#FF6692",
          "pattern": {
           "shape": ""
          }
         },
         "name": "(49.8735383, -97.117498)",
         "offsetgroup": "(49.8735383, -97.117498)",
         "orientation": "v",
         "showlegend": true,
         "text": [
          "P13"
         ],
         "textposition": "outside",
         "x": [
          "(49.8735383, -97.117498)"
         ],
         "xaxis": "x",
         "y": [
          "P13"
         ],
         "yaxis": "y",
         "type": "bar",
         "texttemplate": "%{text:.2s}"
        },
        {
         "alignmentgroup": "True",
         "hovertemplate": "Location=%{x}<br>Violation Code=%{text}<extra></extra>",
         "legendgroup": "(49.87336, -97.117305)",
         "marker": {
          "color": "#B6E880",
          "pattern": {
           "shape": ""
          }
         },
         "name": "(49.87336, -97.117305)",
         "offsetgroup": "(49.87336, -97.117305)",
         "orientation": "v",
         "showlegend": true,
         "text": [
          "P13"
         ],
         "textposition": "outside",
         "x": [
          "(49.87336, -97.117305)"
         ],
         "xaxis": "x",
         "y": [
          "P13"
         ],
         "yaxis": "y",
         "type": "bar",
         "texttemplate": "%{text:.2s}"
        },
        {
         "alignmentgroup": "True",
         "hovertemplate": "Location=%{x}<br>Violation Code=%{text}<extra></extra>",
         "legendgroup": "(49.87301, -97.116975)",
         "marker": {
          "color": "#FF97FF",
          "pattern": {
           "shape": ""
          }
         },
         "name": "(49.87301, -97.116975)",
         "offsetgroup": "(49.87301, -97.116975)",
         "orientation": "v",
         "showlegend": true,
         "text": [
          "P13"
         ],
         "textposition": "outside",
         "x": [
          "(49.87301, -97.116975)"
         ],
         "xaxis": "x",
         "y": [
          "P13"
         ],
         "yaxis": "y",
         "type": "bar",
         "texttemplate": "%{text:.2s}"
        },
        {
         "alignmentgroup": "True",
         "hovertemplate": "Location=%{x}<br>Violation Code=%{text}<extra></extra>",
         "legendgroup": "(49.8731, -97.1171)",
         "marker": {
          "color": "#FECB52",
          "pattern": {
           "shape": ""
          }
         },
         "name": "(49.8731, -97.1171)",
         "offsetgroup": "(49.8731, -97.1171)",
         "orientation": "v",
         "showlegend": true,
         "text": [
          "P13"
         ],
         "textposition": "outside",
         "x": [
          "(49.8731, -97.1171)"
         ],
         "xaxis": "x",
         "y": [
          "P13"
         ],
         "yaxis": "y",
         "type": "bar",
         "texttemplate": "%{text:.2s}"
        },
        {
         "alignmentgroup": "True",
         "hovertemplate": "Location=%{x}<br>Violation Code=%{text}<extra></extra>",
         "legendgroup": "(49.8732, -97.1171)",
         "marker": {
          "color": "#636efa",
          "pattern": {
           "shape": ""
          }
         },
         "name": "(49.8732, -97.1171)",
         "offsetgroup": "(49.8732, -97.1171)",
         "orientation": "v",
         "showlegend": true,
         "text": [
          "P13"
         ],
         "textposition": "outside",
         "x": [
          "(49.8732, -97.1171)"
         ],
         "xaxis": "x",
         "y": [
          "P13"
         ],
         "yaxis": "y",
         "type": "bar",
         "texttemplate": "%{text:.2s}"
        },
        {
         "alignmentgroup": "True",
         "hovertemplate": "Location=%{x}<br>Violation Code=%{text}<extra></extra>",
         "legendgroup": "(49.8728, -97.1167)",
         "marker": {
          "color": "#EF553B",
          "pattern": {
           "shape": ""
          }
         },
         "name": "(49.8728, -97.1167)",
         "offsetgroup": "(49.8728, -97.1167)",
         "orientation": "v",
         "showlegend": true,
         "text": [
          "P09"
         ],
         "textposition": "outside",
         "x": [
          "(49.8728, -97.1167)"
         ],
         "xaxis": "x",
         "y": [
          "P09"
         ],
         "yaxis": "y",
         "type": "bar",
         "texttemplate": "%{text:.2s}"
        },
        {
         "alignmentgroup": "True",
         "hovertemplate": "Location=%{x}<br>Violation Code=%{text}<extra></extra>",
         "legendgroup": "(49.8734, -97.1174)",
         "marker": {
          "color": "#00cc96",
          "pattern": {
           "shape": ""
          }
         },
         "name": "(49.8734, -97.1174)",
         "offsetgroup": "(49.8734, -97.1174)",
         "orientation": "v",
         "showlegend": true,
         "text": [
          "P54"
         ],
         "textposition": "outside",
         "x": [
          "(49.8734, -97.1174)"
         ],
         "xaxis": "x",
         "y": [
          "P54"
         ],
         "yaxis": "y",
         "type": "bar",
         "texttemplate": "%{text:.2s}"
        },
        {
         "alignmentgroup": "True",
         "hovertemplate": "Location=%{x}<br>Violation Code=%{text}<extra></extra>",
         "legendgroup": "(49.873, -97.117)",
         "marker": {
          "color": "#ab63fa",
          "pattern": {
           "shape": ""
          }
         },
         "name": "(49.873, -97.117)",
         "offsetgroup": "(49.873, -97.117)",
         "orientation": "v",
         "showlegend": true,
         "text": [
          "P13"
         ],
         "textposition": "outside",
         "x": [
          "(49.873, -97.117)"
         ],
         "xaxis": "x",
         "y": [
          "P13"
         ],
         "yaxis": "y",
         "type": "bar",
         "texttemplate": "%{text:.2s}"
        },
        {
         "alignmentgroup": "True",
         "hovertemplate": "Location=%{x}<br>Violation Code=%{text}<extra></extra>",
         "legendgroup": "(49.8731, -97.1172)",
         "marker": {
          "color": "#FFA15A",
          "pattern": {
           "shape": ""
          }
         },
         "name": "(49.8731, -97.1172)",
         "offsetgroup": "(49.8731, -97.1172)",
         "orientation": "v",
         "showlegend": true,
         "text": [
          "P54"
         ],
         "textposition": "outside",
         "x": [
          "(49.8731, -97.1172)"
         ],
         "xaxis": "x",
         "y": [
          "P54"
         ],
         "yaxis": "y",
         "type": "bar",
         "texttemplate": "%{text:.2s}"
        }
       ],
       "layout": {
        "template": {
         "data": {
          "histogram2dcontour": [
           {
            "type": "histogram2dcontour",
            "colorbar": {
             "outlinewidth": 0,
             "ticks": ""
            },
            "colorscale": [
             [
              0.0,
              "#0d0887"
             ],
             [
              0.1111111111111111,
              "#46039f"
             ],
             [
              0.2222222222222222,
              "#7201a8"
             ],
             [
              0.3333333333333333,
              "#9c179e"
             ],
             [
              0.4444444444444444,
              "#bd3786"
             ],
             [
              0.5555555555555556,
              "#d8576b"
             ],
             [
              0.6666666666666666,
              "#ed7953"
             ],
             [
              0.7777777777777778,
              "#fb9f3a"
             ],
             [
              0.8888888888888888,
              "#fdca26"
             ],
             [
              1.0,
              "#f0f921"
             ]
            ]
           }
          ],
          "choropleth": [
           {
            "type": "choropleth",
            "colorbar": {
             "outlinewidth": 0,
             "ticks": ""
            }
           }
          ],
          "histogram2d": [
           {
            "type": "histogram2d",
            "colorbar": {
             "outlinewidth": 0,
             "ticks": ""
            },
            "colorscale": [
             [
              0.0,
              "#0d0887"
             ],
             [
              0.1111111111111111,
              "#46039f"
             ],
             [
              0.2222222222222222,
              "#7201a8"
             ],
             [
              0.3333333333333333,
              "#9c179e"
             ],
             [
              0.4444444444444444,
              "#bd3786"
             ],
             [
              0.5555555555555556,
              "#d8576b"
             ],
             [
              0.6666666666666666,
              "#ed7953"
             ],
             [
              0.7777777777777778,
              "#fb9f3a"
             ],
             [
              0.8888888888888888,
              "#fdca26"
             ],
             [
              1.0,
              "#f0f921"
             ]
            ]
           }
          ],
          "heatmap": [
           {
            "type": "heatmap",
            "colorbar": {
             "outlinewidth": 0,
             "ticks": ""
            },
            "colorscale": [
             [
              0.0,
              "#0d0887"
             ],
             [
              0.1111111111111111,
              "#46039f"
             ],
             [
              0.2222222222222222,
              "#7201a8"
             ],
             [
              0.3333333333333333,
              "#9c179e"
             ],
             [
              0.4444444444444444,
              "#bd3786"
             ],
             [
              0.5555555555555556,
              "#d8576b"
             ],
             [
              0.6666666666666666,
              "#ed7953"
             ],
             [
              0.7777777777777778,
              "#fb9f3a"
             ],
             [
              0.8888888888888888,
              "#fdca26"
             ],
             [
              1.0,
              "#f0f921"
             ]
            ]
           }
          ],
          "heatmapgl": [
           {
            "type": "heatmapgl",
            "colorbar": {
             "outlinewidth": 0,
             "ticks": ""
            },
            "colorscale": [
             [
              0.0,
              "#0d0887"
             ],
             [
              0.1111111111111111,
              "#46039f"
             ],
             [
              0.2222222222222222,
              "#7201a8"
             ],
             [
              0.3333333333333333,
              "#9c179e"
             ],
             [
              0.4444444444444444,
              "#bd3786"
             ],
             [
              0.5555555555555556,
              "#d8576b"
             ],
             [
              0.6666666666666666,
              "#ed7953"
             ],
             [
              0.7777777777777778,
              "#fb9f3a"
             ],
             [
              0.8888888888888888,
              "#fdca26"
             ],
             [
              1.0,
              "#f0f921"
             ]
            ]
           }
          ],
          "contourcarpet": [
           {
            "type": "contourcarpet",
            "colorbar": {
             "outlinewidth": 0,
             "ticks": ""
            }
           }
          ],
          "contour": [
           {
            "type": "contour",
            "colorbar": {
             "outlinewidth": 0,
             "ticks": ""
            },
            "colorscale": [
             [
              0.0,
              "#0d0887"
             ],
             [
              0.1111111111111111,
              "#46039f"
             ],
             [
              0.2222222222222222,
              "#7201a8"
             ],
             [
              0.3333333333333333,
              "#9c179e"
             ],
             [
              0.4444444444444444,
              "#bd3786"
             ],
             [
              0.5555555555555556,
              "#d8576b"
             ],
             [
              0.6666666666666666,
              "#ed7953"
             ],
             [
              0.7777777777777778,
              "#fb9f3a"
             ],
             [
              0.8888888888888888,
              "#fdca26"
             ],
             [
              1.0,
              "#f0f921"
             ]
            ]
           }
          ],
          "surface": [
           {
            "type": "surface",
            "colorbar": {
             "outlinewidth": 0,
             "ticks": ""
            },
            "colorscale": [
             [
              0.0,
              "#0d0887"
             ],
             [
              0.1111111111111111,
              "#46039f"
             ],
             [
              0.2222222222222222,
              "#7201a8"
             ],
             [
              0.3333333333333333,
              "#9c179e"
             ],
             [
              0.4444444444444444,
              "#bd3786"
             ],
             [
              0.5555555555555556,
              "#d8576b"
             ],
             [
              0.6666666666666666,
              "#ed7953"
             ],
             [
              0.7777777777777778,
              "#fb9f3a"
             ],
             [
              0.8888888888888888,
              "#fdca26"
             ],
             [
              1.0,
              "#f0f921"
             ]
            ]
           }
          ],
          "mesh3d": [
           {
            "type": "mesh3d",
            "colorbar": {
             "outlinewidth": 0,
             "ticks": ""
            }
           }
          ],
          "scatter": [
           {
            "marker": {
             "line": {
              "color": "#283442"
             }
            },
            "type": "scatter"
           }
          ],
          "parcoords": [
           {
            "type": "parcoords",
            "line": {
             "colorbar": {
              "outlinewidth": 0,
              "ticks": ""
             }
            }
           }
          ],
          "scatterpolargl": [
           {
            "type": "scatterpolargl",
            "marker": {
             "colorbar": {
              "outlinewidth": 0,
              "ticks": ""
             }
            }
           }
          ],
          "bar": [
           {
            "error_x": {
             "color": "#f2f5fa"
            },
            "error_y": {
             "color": "#f2f5fa"
            },
            "marker": {
             "line": {
              "color": "rgb(17,17,17)",
              "width": 0.5
             },
             "pattern": {
              "fillmode": "overlay",
              "size": 10,
              "solidity": 0.2
             }
            },
            "type": "bar"
           }
          ],
          "scattergeo": [
           {
            "type": "scattergeo",
            "marker": {
             "colorbar": {
              "outlinewidth": 0,
              "ticks": ""
             }
            }
           }
          ],
          "scatterpolar": [
           {
            "type": "scatterpolar",
            "marker": {
             "colorbar": {
              "outlinewidth": 0,
              "ticks": ""
             }
            }
           }
          ],
          "histogram": [
           {
            "marker": {
             "pattern": {
              "fillmode": "overlay",
              "size": 10,
              "solidity": 0.2
             }
            },
            "type": "histogram"
           }
          ],
          "scattergl": [
           {
            "marker": {
             "line": {
              "color": "#283442"
             }
            },
            "type": "scattergl"
           }
          ],
          "scatter3d": [
           {
            "type": "scatter3d",
            "line": {
             "colorbar": {
              "outlinewidth": 0,
              "ticks": ""
             }
            },
            "marker": {
             "colorbar": {
              "outlinewidth": 0,
              "ticks": ""
             }
            }
           }
          ],
          "scattermapbox": [
           {
            "type": "scattermapbox",
            "marker": {
             "colorbar": {
              "outlinewidth": 0,
              "ticks": ""
             }
            }
           }
          ],
          "scatterternary": [
           {
            "type": "scatterternary",
            "marker": {
             "colorbar": {
              "outlinewidth": 0,
              "ticks": ""
             }
            }
           }
          ],
          "scattercarpet": [
           {
            "type": "scattercarpet",
            "marker": {
             "colorbar": {
              "outlinewidth": 0,
              "ticks": ""
             }
            }
           }
          ],
          "carpet": [
           {
            "aaxis": {
             "endlinecolor": "#A2B1C6",
             "gridcolor": "#506784",
             "linecolor": "#506784",
             "minorgridcolor": "#506784",
             "startlinecolor": "#A2B1C6"
            },
            "baxis": {
             "endlinecolor": "#A2B1C6",
             "gridcolor": "#506784",
             "linecolor": "#506784",
             "minorgridcolor": "#506784",
             "startlinecolor": "#A2B1C6"
            },
            "type": "carpet"
           }
          ],
          "table": [
           {
            "cells": {
             "fill": {
              "color": "#506784"
             },
             "line": {
              "color": "rgb(17,17,17)"
             }
            },
            "header": {
             "fill": {
              "color": "#2a3f5f"
             },
             "line": {
              "color": "rgb(17,17,17)"
             }
            },
            "type": "table"
           }
          ],
          "barpolar": [
           {
            "marker": {
             "line": {
              "color": "rgb(17,17,17)",
              "width": 0.5
             },
             "pattern": {
              "fillmode": "overlay",
              "size": 10,
              "solidity": 0.2
             }
            },
            "type": "barpolar"
           }
          ],
          "pie": [
           {
            "automargin": true,
            "type": "pie"
           }
          ]
         },
         "layout": {
          "autotypenumbers": "strict",
          "colorway": [
           "#636efa",
           "#EF553B",
           "#00cc96",
           "#ab63fa",
           "#FFA15A",
           "#19d3f3",
           "#FF6692",
           "#B6E880",
           "#FF97FF",
           "#FECB52"
          ],
          "font": {
           "color": "#f2f5fa"
          },
          "hovermode": "closest",
          "hoverlabel": {
           "align": "left"
          },
          "paper_bgcolor": "rgb(17,17,17)",
          "plot_bgcolor": "rgb(17,17,17)",
          "polar": {
           "bgcolor": "rgb(17,17,17)",
           "angularaxis": {
            "gridcolor": "#506784",
            "linecolor": "#506784",
            "ticks": ""
           },
           "radialaxis": {
            "gridcolor": "#506784",
            "linecolor": "#506784",
            "ticks": ""
           }
          },
          "ternary": {
           "bgcolor": "rgb(17,17,17)",
           "aaxis": {
            "gridcolor": "#506784",
            "linecolor": "#506784",
            "ticks": ""
           },
           "baxis": {
            "gridcolor": "#506784",
            "linecolor": "#506784",
            "ticks": ""
           },
           "caxis": {
            "gridcolor": "#506784",
            "linecolor": "#506784",
            "ticks": ""
           }
          },
          "coloraxis": {
           "colorbar": {
            "outlinewidth": 0,
            "ticks": ""
           }
          },
          "colorscale": {
           "sequential": [
            [
             0.0,
             "#0d0887"
            ],
            [
             0.1111111111111111,
             "#46039f"
            ],
            [
             0.2222222222222222,
             "#7201a8"
            ],
            [
             0.3333333333333333,
             "#9c179e"
            ],
            [
             0.4444444444444444,
             "#bd3786"
            ],
            [
             0.5555555555555556,
             "#d8576b"
            ],
            [
             0.6666666666666666,
             "#ed7953"
            ],
            [
             0.7777777777777778,
             "#fb9f3a"
            ],
            [
             0.8888888888888888,
             "#fdca26"
            ],
            [
             1.0,
             "#f0f921"
            ]
           ],
           "sequentialminus": [
            [
             0.0,
             "#0d0887"
            ],
            [
             0.1111111111111111,
             "#46039f"
            ],
            [
             0.2222222222222222,
             "#7201a8"
            ],
            [
             0.3333333333333333,
             "#9c179e"
            ],
            [
             0.4444444444444444,
             "#bd3786"
            ],
            [
             0.5555555555555556,
             "#d8576b"
            ],
            [
             0.6666666666666666,
             "#ed7953"
            ],
            [
             0.7777777777777778,
             "#fb9f3a"
            ],
            [
             0.8888888888888888,
             "#fdca26"
            ],
            [
             1.0,
             "#f0f921"
            ]
           ],
           "diverging": [
            [
             0,
             "#8e0152"
            ],
            [
             0.1,
             "#c51b7d"
            ],
            [
             0.2,
             "#de77ae"
            ],
            [
             0.3,
             "#f1b6da"
            ],
            [
             0.4,
             "#fde0ef"
            ],
            [
             0.5,
             "#f7f7f7"
            ],
            [
             0.6,
             "#e6f5d0"
            ],
            [
             0.7,
             "#b8e186"
            ],
            [
             0.8,
             "#7fbc41"
            ],
            [
             0.9,
             "#4d9221"
            ],
            [
             1,
             "#276419"
            ]
           ]
          },
          "xaxis": {
           "gridcolor": "#283442",
           "linecolor": "#506784",
           "ticks": "",
           "title": {
            "standoff": 15
           },
           "zerolinecolor": "#283442",
           "automargin": true,
           "zerolinewidth": 2
          },
          "yaxis": {
           "gridcolor": "#283442",
           "linecolor": "#506784",
           "ticks": "",
           "title": {
            "standoff": 15
           },
           "zerolinecolor": "#283442",
           "automargin": true,
           "zerolinewidth": 2
          },
          "scene": {
           "xaxis": {
            "backgroundcolor": "rgb(17,17,17)",
            "gridcolor": "#506784",
            "linecolor": "#506784",
            "showbackground": true,
            "ticks": "",
            "zerolinecolor": "#C8D4E3",
            "gridwidth": 2
           },
           "yaxis": {
            "backgroundcolor": "rgb(17,17,17)",
            "gridcolor": "#506784",
            "linecolor": "#506784",
            "showbackground": true,
            "ticks": "",
            "zerolinecolor": "#C8D4E3",
            "gridwidth": 2
           },
           "zaxis": {
            "backgroundcolor": "rgb(17,17,17)",
            "gridcolor": "#506784",
            "linecolor": "#506784",
            "showbackground": true,
            "ticks": "",
            "zerolinecolor": "#C8D4E3",
            "gridwidth": 2
           }
          },
          "shapedefaults": {
           "line": {
            "color": "#f2f5fa"
           }
          },
          "annotationdefaults": {
           "arrowcolor": "#f2f5fa",
           "arrowhead": 0,
           "arrowwidth": 1
          },
          "geo": {
           "bgcolor": "rgb(17,17,17)",
           "landcolor": "rgb(17,17,17)",
           "subunitcolor": "#506784",
           "showland": true,
           "showlakes": true,
           "lakecolor": "rgb(17,17,17)"
          },
          "title": {
           "x": 0.05
          },
          "updatemenudefaults": {
           "bgcolor": "#506784",
           "borderwidth": 0
          },
          "sliderdefaults": {
           "bgcolor": "#C8D4E3",
           "borderwidth": 1,
           "bordercolor": "rgb(17,17,17)",
           "tickwidth": 0
          },
          "mapbox": {
           "style": "dark"
          }
         }
        },
        "xaxis": {
         "anchor": "y",
         "domain": [
          0.0,
          1.0
         ],
         "title": {
          "text": "Location"
         },
         "categoryorder": "array",
         "categoryarray": [
          "(49.873, -97.1171)",
          "(49.8733, -97.1173)",
          "(49.8737, -97.1178)",
          "(49.8737, -97.1177)",
          "(49.8735, -97.1175)",
          "(49.8745, -97.1188)",
          "(49.8436, -97.091)",
          "(49.8744, -97.1184)",
          "(49.8733, -97.1171)",
          "(49.8736, -97.1177)",
          "(49.873475, -97.117528)",
          "(49.8737916, -97.117953)",
          "(49.8736, -97.1176)",
          "(49.874, -97.1187)",
          "(49.8744, -97.1185)",
          "(49.874, -97.1186)",
          "(49.8737, -97.1179)",
          "(49.8744, -97.1187)",
          "(49.8739, -97.1179)",
          "(49.8743466, -97.118556)",
          "(49.8752716, -97.119451)",
          "(49.87426, -97.1185)",
          "(49.8743633, -97.118573)",
          "(49.8730366, -97.117045)",
          "(49.8727683, -97.116568)",
          "(49.8730716, -97.116991)",
          "(49.8728866, -97.116813)",
          "(49.8743466, -97.118581)",
          "(49.874145, -97.118418)",
          "(49.874195, -97.118496)",
          "(49.8735, -97.117473)",
          "(49.8743766, -97.118613)",
          "(49.8742333, -97.118451)",
          "(49.8748216, -97.118965)",
          "(49.8754866, -97.119853)",
          "(49.8749683, -97.119215)",
          "(49.8751833, -97.119511)",
          "(49.8748166, -97.119081)",
          "(49.8753833, -97.119613)",
          "(49.87462, -97.118931)",
          "(49.874935, -97.119171)",
          "(49.8745816, -97.118895)",
          "(49.8747716, -97.119058)",
          "(49.8742883, -97.118566)",
          "(49.873435, -97.117408)",
          "(49.8731783, -97.117181)",
          "(49.8734316, -97.117501)",
          "(49.873415, -97.117355)",
          "(49.8728616, -97.116691)",
          "(49.8743983, -97.11867)",
          "(49.872845, -97.1167)",
          "(49.8747016, -97.119011)",
          "(49.8739583, -97.118101)",
          "(49.8742883, -97.118725)",
          "(49.8728033, -97.116733)",
          "(49.8743683, -97.118788)",
          "(49.8744366, -97.118726)",
          "(49.8744433, -97.118761)",
          "(49.8751216, -97.119441)",
          "(49.8738083, -97.117971)",
          "(49.8751966, -97.11934)",
          "(49.874275, -97.118611)",
          "(49.8742633, -97.11854)",
          "(49.8742833, -97.118488)",
          "(49.8751216, -97.119378)",
          "(49.8732833, -97.117331)",
          "(49.8742683, -97.118568)",
          "(49.87434, -97.118623)",
          "(49.87444, -97.118768)",
          "(49.87433, -97.11852)",
          "(49.87444, -97.118786)",
          "(49.8724666, -97.116586)",
          "(49.8742233, -97.11842)",
          "(49.8744033, -97.118653)",
          "(49.8743066, -97.11858)",
          "(49.8753383, -97.119958)",
          "(49.8728083, -97.116613)",
          "(49.8743516, -97.118526)",
          "(49.8740633, -97.118486)",
          "(49.8737466, -97.117816)",
          "(49.87357, -97.117713)",
          "(49.8732016, -97.117183)",
          "(49.8732083, -97.117163)",
          "(49.8728033, -97.116751)",
          "(49.8732483, -97.117198)",
          "(49.8736533, -97.117665)",
          "(49.87426, -97.11854)",
          "(49.87432, -97.118493)",
          "(49.8737166, -97.117825)",
          "(49.8737083, -97.117821)",
          "(49.873245, -97.117128)",
          "(49.8728866, -97.116798)",
          "(49.8728, -97.116678)",
          "(49.873735, -97.117835)",
          "(49.8742283, -97.11854)",
          "(49.8736766, -97.117521)",
          "(49.8743966, -97.118616)",
          "(49.87247, -97.116493)",
          "(49.87309, -97.11701)",
          "(49.8743233, -97.118496)",
          "(49.8738416, -97.117991)",
          "(49.8736333, -97.117696)",
          "(49.8736383, -97.11761)",
          "(49.8736266, -97.117665)",
          "(49.8738183, -97.11803)",
          "(49.874085, -97.118583)",
          "(49.8735383, -97.117498)",
          "(49.87336, -97.117305)",
          "(49.87301, -97.116975)",
          "(49.8731, -97.1171)",
          "(49.8732, -97.1171)",
          "(49.8728, -97.1167)",
          "(49.8734, -97.1174)",
          "(49.873, -97.117)",
          "(49.8731, -97.1172)"
         ],
         "tickangle": -45
        },
        "yaxis": {
         "anchor": "x",
         "domain": [
          0.0,
          1.0
         ],
         "title": {
          "text": "Violation Code"
         }
        },
        "legend": {
         "title": {
          "text": "Location"
         },
         "tracegroupgap": 0
        },
        "margin": {
         "t": 60
        },
        "barmode": "relative",
        "uniformtext": {
         "minsize": 8
        }
       },
       "config": {
        "plotlyServerURL": "https://plot.ly"
       }
      },
      "text/html": "<div>                            <div id=\"45e19910-8e1b-4773-a236-61e3752342ad\" class=\"plotly-graph-div\" style=\"height:525px; width:100%;\"></div>            <script type=\"text/javascript\">                require([\"plotly\"], function(Plotly) {                    window.PLOTLYENV=window.PLOTLYENV || {};                                    if (document.getElementById(\"45e19910-8e1b-4773-a236-61e3752342ad\")) {                    Plotly.newPlot(                        \"45e19910-8e1b-4773-a236-61e3752342ad\",                        [{\"alignmentgroup\":\"True\",\"hovertemplate\":\"Location=%{x}<br>Violation Code=%{text}<extra></extra>\",\"legendgroup\":\"(49.873, -97.1171)\",\"marker\":{\"color\":\"#636efa\",\"pattern\":{\"shape\":\"\"}},\"name\":\"(49.873, -97.1171)\",\"offsetgroup\":\"(49.873, -97.1171)\",\"orientation\":\"v\",\"showlegend\":true,\"text\":[\"P13\"],\"textposition\":\"outside\",\"x\":[\"(49.873, -97.1171)\"],\"xaxis\":\"x\",\"y\":[\"P13\"],\"yaxis\":\"y\",\"type\":\"bar\",\"texttemplate\":\"%{text:.2s}\"},{\"alignmentgroup\":\"True\",\"hovertemplate\":\"Location=%{x}<br>Violation Code=%{text}<extra></extra>\",\"legendgroup\":\"(49.8733, -97.1173)\",\"marker\":{\"color\":\"#EF553B\",\"pattern\":{\"shape\":\"\"}},\"name\":\"(49.8733, -97.1173)\",\"offsetgroup\":\"(49.8733, -97.1173)\",\"orientation\":\"v\",\"showlegend\":true,\"text\":[\"P13\",\"P54\"],\"textposition\":\"outside\",\"x\":[\"(49.8733, -97.1173)\",\"(49.8733, -97.1173)\"],\"xaxis\":\"x\",\"y\":[\"P13\",\"P54\"],\"yaxis\":\"y\",\"type\":\"bar\",\"texttemplate\":\"%{text:.2s}\"},{\"alignmentgroup\":\"True\",\"hovertemplate\":\"Location=%{x}<br>Violation Code=%{text}<extra></extra>\",\"legendgroup\":\"(49.8737, -97.1178)\",\"marker\":{\"color\":\"#00cc96\",\"pattern\":{\"shape\":\"\"}},\"name\":\"(49.8737, -97.1178)\",\"offsetgroup\":\"(49.8737, -97.1178)\",\"orientation\":\"v\",\"showlegend\":true,\"text\":[\"P13\",\"P13\",\"P13\",\"P13\",\"P13\",\"P54\",\"P13\",\"P13\",\"P54\"],\"textposition\":\"outside\",\"x\":[\"(49.8737, -97.1178)\",\"(49.8737, -97.1178)\",\"(49.8737, -97.1178)\",\"(49.8737, -97.1178)\",\"(49.8737, -97.1178)\",\"(49.8737, -97.1178)\",\"(49.8737, -97.1178)\",\"(49.8737, -97.1178)\",\"(49.8737, -97.1178)\"],\"xaxis\":\"x\",\"y\":[\"P13\",\"P13\",\"P13\",\"P13\",\"P13\",\"P54\",\"P13\",\"P13\",\"P54\"],\"yaxis\":\"y\",\"type\":\"bar\",\"texttemplate\":\"%{text:.2s}\"},{\"alignmentgroup\":\"True\",\"hovertemplate\":\"Location=%{x}<br>Violation Code=%{text}<extra></extra>\",\"legendgroup\":\"(49.8737, -97.1177)\",\"marker\":{\"color\":\"#ab63fa\",\"pattern\":{\"shape\":\"\"}},\"name\":\"(49.8737, -97.1177)\",\"offsetgroup\":\"(49.8737, -97.1177)\",\"orientation\":\"v\",\"showlegend\":true,\"text\":[\"P13\"],\"textposition\":\"outside\",\"x\":[\"(49.8737, -97.1177)\"],\"xaxis\":\"x\",\"y\":[\"P13\"],\"yaxis\":\"y\",\"type\":\"bar\",\"texttemplate\":\"%{text:.2s}\"},{\"alignmentgroup\":\"True\",\"hovertemplate\":\"Location=%{x}<br>Violation Code=%{text}<extra></extra>\",\"legendgroup\":\"(49.8735, -97.1175)\",\"marker\":{\"color\":\"#FFA15A\",\"pattern\":{\"shape\":\"\"}},\"name\":\"(49.8735, -97.1175)\",\"offsetgroup\":\"(49.8735, -97.1175)\",\"orientation\":\"v\",\"showlegend\":true,\"text\":[\"P54\"],\"textposition\":\"outside\",\"x\":[\"(49.8735, -97.1175)\"],\"xaxis\":\"x\",\"y\":[\"P54\"],\"yaxis\":\"y\",\"type\":\"bar\",\"texttemplate\":\"%{text:.2s}\"},{\"alignmentgroup\":\"True\",\"hovertemplate\":\"Location=%{x}<br>Violation Code=%{text}<extra></extra>\",\"legendgroup\":\"(49.8745, -97.1188)\",\"marker\":{\"color\":\"#19d3f3\",\"pattern\":{\"shape\":\"\"}},\"name\":\"(49.8745, -97.1188)\",\"offsetgroup\":\"(49.8745, -97.1188)\",\"orientation\":\"v\",\"showlegend\":true,\"text\":[\"P09\"],\"textposition\":\"outside\",\"x\":[\"(49.8745, -97.1188)\"],\"xaxis\":\"x\",\"y\":[\"P09\"],\"yaxis\":\"y\",\"type\":\"bar\",\"texttemplate\":\"%{text:.2s}\"},{\"alignmentgroup\":\"True\",\"hovertemplate\":\"Location=%{x}<br>Violation Code=%{text}<extra></extra>\",\"legendgroup\":\"(49.8436, -97.091)\",\"marker\":{\"color\":\"#FF6692\",\"pattern\":{\"shape\":\"\"}},\"name\":\"(49.8436, -97.091)\",\"offsetgroup\":\"(49.8436, -97.091)\",\"orientation\":\"v\",\"showlegend\":true,\"text\":[\"P13\"],\"textposition\":\"outside\",\"x\":[\"(49.8436, -97.091)\"],\"xaxis\":\"x\",\"y\":[\"P13\"],\"yaxis\":\"y\",\"type\":\"bar\",\"texttemplate\":\"%{text:.2s}\"},{\"alignmentgroup\":\"True\",\"hovertemplate\":\"Location=%{x}<br>Violation Code=%{text}<extra></extra>\",\"legendgroup\":\"(49.8744, -97.1184)\",\"marker\":{\"color\":\"#B6E880\",\"pattern\":{\"shape\":\"\"}},\"name\":\"(49.8744, -97.1184)\",\"offsetgroup\":\"(49.8744, -97.1184)\",\"orientation\":\"v\",\"showlegend\":true,\"text\":[\"P11\"],\"textposition\":\"outside\",\"x\":[\"(49.8744, -97.1184)\"],\"xaxis\":\"x\",\"y\":[\"P11\"],\"yaxis\":\"y\",\"type\":\"bar\",\"texttemplate\":\"%{text:.2s}\"},{\"alignmentgroup\":\"True\",\"hovertemplate\":\"Location=%{x}<br>Violation Code=%{text}<extra></extra>\",\"legendgroup\":\"(49.8733, -97.1171)\",\"marker\":{\"color\":\"#FF97FF\",\"pattern\":{\"shape\":\"\"}},\"name\":\"(49.8733, -97.1171)\",\"offsetgroup\":\"(49.8733, -97.1171)\",\"orientation\":\"v\",\"showlegend\":true,\"text\":[\"P13\"],\"textposition\":\"outside\",\"x\":[\"(49.8733, -97.1171)\"],\"xaxis\":\"x\",\"y\":[\"P13\"],\"yaxis\":\"y\",\"type\":\"bar\",\"texttemplate\":\"%{text:.2s}\"},{\"alignmentgroup\":\"True\",\"hovertemplate\":\"Location=%{x}<br>Violation Code=%{text}<extra></extra>\",\"legendgroup\":\"(49.8736, -97.1177)\",\"marker\":{\"color\":\"#FECB52\",\"pattern\":{\"shape\":\"\"}},\"name\":\"(49.8736, -97.1177)\",\"offsetgroup\":\"(49.8736, -97.1177)\",\"orientation\":\"v\",\"showlegend\":true,\"text\":[\"P13\"],\"textposition\":\"outside\",\"x\":[\"(49.8736, -97.1177)\"],\"xaxis\":\"x\",\"y\":[\"P13\"],\"yaxis\":\"y\",\"type\":\"bar\",\"texttemplate\":\"%{text:.2s}\"},{\"alignmentgroup\":\"True\",\"hovertemplate\":\"Location=%{x}<br>Violation Code=%{text}<extra></extra>\",\"legendgroup\":\"(49.873475, -97.117528)\",\"marker\":{\"color\":\"#636efa\",\"pattern\":{\"shape\":\"\"}},\"name\":\"(49.873475, -97.117528)\",\"offsetgroup\":\"(49.873475, -97.117528)\",\"orientation\":\"v\",\"showlegend\":true,\"text\":[\"P13\"],\"textposition\":\"outside\",\"x\":[\"(49.873475, -97.117528)\"],\"xaxis\":\"x\",\"y\":[\"P13\"],\"yaxis\":\"y\",\"type\":\"bar\",\"texttemplate\":\"%{text:.2s}\"},{\"alignmentgroup\":\"True\",\"hovertemplate\":\"Location=%{x}<br>Violation Code=%{text}<extra></extra>\",\"legendgroup\":\"(49.8737916, -97.117953)\",\"marker\":{\"color\":\"#EF553B\",\"pattern\":{\"shape\":\"\"}},\"name\":\"(49.8737916, -97.117953)\",\"offsetgroup\":\"(49.8737916, -97.117953)\",\"orientation\":\"v\",\"showlegend\":true,\"text\":[\"P13\"],\"textposition\":\"outside\",\"x\":[\"(49.8737916, -97.117953)\"],\"xaxis\":\"x\",\"y\":[\"P13\"],\"yaxis\":\"y\",\"type\":\"bar\",\"texttemplate\":\"%{text:.2s}\"},{\"alignmentgroup\":\"True\",\"hovertemplate\":\"Location=%{x}<br>Violation Code=%{text}<extra></extra>\",\"legendgroup\":\"(49.8736, -97.1176)\",\"marker\":{\"color\":\"#00cc96\",\"pattern\":{\"shape\":\"\"}},\"name\":\"(49.8736, -97.1176)\",\"offsetgroup\":\"(49.8736, -97.1176)\",\"orientation\":\"v\",\"showlegend\":true,\"text\":[\"P13\",\"P54\"],\"textposition\":\"outside\",\"x\":[\"(49.8736, -97.1176)\",\"(49.8736, -97.1176)\"],\"xaxis\":\"x\",\"y\":[\"P13\",\"P54\"],\"yaxis\":\"y\",\"type\":\"bar\",\"texttemplate\":\"%{text:.2s}\"},{\"alignmentgroup\":\"True\",\"hovertemplate\":\"Location=%{x}<br>Violation Code=%{text}<extra></extra>\",\"legendgroup\":\"(49.874, -97.1187)\",\"marker\":{\"color\":\"#ab63fa\",\"pattern\":{\"shape\":\"\"}},\"name\":\"(49.874, -97.1187)\",\"offsetgroup\":\"(49.874, -97.1187)\",\"orientation\":\"v\",\"showlegend\":true,\"text\":[\"P12\"],\"textposition\":\"outside\",\"x\":[\"(49.874, -97.1187)\"],\"xaxis\":\"x\",\"y\":[\"P12\"],\"yaxis\":\"y\",\"type\":\"bar\",\"texttemplate\":\"%{text:.2s}\"},{\"alignmentgroup\":\"True\",\"hovertemplate\":\"Location=%{x}<br>Violation Code=%{text}<extra></extra>\",\"legendgroup\":\"(49.8744, -97.1185)\",\"marker\":{\"color\":\"#FFA15A\",\"pattern\":{\"shape\":\"\"}},\"name\":\"(49.8744, -97.1185)\",\"offsetgroup\":\"(49.8744, -97.1185)\",\"orientation\":\"v\",\"showlegend\":true,\"text\":[\"P12\"],\"textposition\":\"outside\",\"x\":[\"(49.8744, -97.1185)\"],\"xaxis\":\"x\",\"y\":[\"P12\"],\"yaxis\":\"y\",\"type\":\"bar\",\"texttemplate\":\"%{text:.2s}\"},{\"alignmentgroup\":\"True\",\"hovertemplate\":\"Location=%{x}<br>Violation Code=%{text}<extra></extra>\",\"legendgroup\":\"(49.874, -97.1186)\",\"marker\":{\"color\":\"#19d3f3\",\"pattern\":{\"shape\":\"\"}},\"name\":\"(49.874, -97.1186)\",\"offsetgroup\":\"(49.874, -97.1186)\",\"orientation\":\"v\",\"showlegend\":true,\"text\":[\"P17\"],\"textposition\":\"outside\",\"x\":[\"(49.874, -97.1186)\"],\"xaxis\":\"x\",\"y\":[\"P17\"],\"yaxis\":\"y\",\"type\":\"bar\",\"texttemplate\":\"%{text:.2s}\"},{\"alignmentgroup\":\"True\",\"hovertemplate\":\"Location=%{x}<br>Violation Code=%{text}<extra></extra>\",\"legendgroup\":\"(49.8737, -97.1179)\",\"marker\":{\"color\":\"#FF6692\",\"pattern\":{\"shape\":\"\"}},\"name\":\"(49.8737, -97.1179)\",\"offsetgroup\":\"(49.8737, -97.1179)\",\"orientation\":\"v\",\"showlegend\":true,\"text\":[\"P13\"],\"textposition\":\"outside\",\"x\":[\"(49.8737, -97.1179)\"],\"xaxis\":\"x\",\"y\":[\"P13\"],\"yaxis\":\"y\",\"type\":\"bar\",\"texttemplate\":\"%{text:.2s}\"},{\"alignmentgroup\":\"True\",\"hovertemplate\":\"Location=%{x}<br>Violation Code=%{text}<extra></extra>\",\"legendgroup\":\"(49.8744, -97.1187)\",\"marker\":{\"color\":\"#B6E880\",\"pattern\":{\"shape\":\"\"}},\"name\":\"(49.8744, -97.1187)\",\"offsetgroup\":\"(49.8744, -97.1187)\",\"orientation\":\"v\",\"showlegend\":true,\"text\":[\"P12\"],\"textposition\":\"outside\",\"x\":[\"(49.8744, -97.1187)\"],\"xaxis\":\"x\",\"y\":[\"P12\"],\"yaxis\":\"y\",\"type\":\"bar\",\"texttemplate\":\"%{text:.2s}\"},{\"alignmentgroup\":\"True\",\"hovertemplate\":\"Location=%{x}<br>Violation Code=%{text}<extra></extra>\",\"legendgroup\":\"(49.8739, -97.1179)\",\"marker\":{\"color\":\"#FF97FF\",\"pattern\":{\"shape\":\"\"}},\"name\":\"(49.8739, -97.1179)\",\"offsetgroup\":\"(49.8739, -97.1179)\",\"orientation\":\"v\",\"showlegend\":true,\"text\":[\"P24\"],\"textposition\":\"outside\",\"x\":[\"(49.8739, -97.1179)\"],\"xaxis\":\"x\",\"y\":[\"P24\"],\"yaxis\":\"y\",\"type\":\"bar\",\"texttemplate\":\"%{text:.2s}\"},{\"alignmentgroup\":\"True\",\"hovertemplate\":\"Location=%{x}<br>Violation Code=%{text}<extra></extra>\",\"legendgroup\":\"(49.8743466, -97.118556)\",\"marker\":{\"color\":\"#FECB52\",\"pattern\":{\"shape\":\"\"}},\"name\":\"(49.8743466, -97.118556)\",\"offsetgroup\":\"(49.8743466, -97.118556)\",\"orientation\":\"v\",\"showlegend\":true,\"text\":[\"11\"],\"textposition\":\"outside\",\"x\":[\"(49.8743466, -97.118556)\"],\"xaxis\":\"x\",\"y\":[\"11\"],\"yaxis\":\"y\",\"type\":\"bar\",\"texttemplate\":\"%{text:.2s}\"},{\"alignmentgroup\":\"True\",\"hovertemplate\":\"Location=%{x}<br>Violation Code=%{text}<extra></extra>\",\"legendgroup\":\"(49.8752716, -97.119451)\",\"marker\":{\"color\":\"#636efa\",\"pattern\":{\"shape\":\"\"}},\"name\":\"(49.8752716, -97.119451)\",\"offsetgroup\":\"(49.8752716, -97.119451)\",\"orientation\":\"v\",\"showlegend\":true,\"text\":[\"11\"],\"textposition\":\"outside\",\"x\":[\"(49.8752716, -97.119451)\"],\"xaxis\":\"x\",\"y\":[\"11\"],\"yaxis\":\"y\",\"type\":\"bar\",\"texttemplate\":\"%{text:.2s}\"},{\"alignmentgroup\":\"True\",\"hovertemplate\":\"Location=%{x}<br>Violation Code=%{text}<extra></extra>\",\"legendgroup\":\"(49.87426, -97.1185)\",\"marker\":{\"color\":\"#EF553B\",\"pattern\":{\"shape\":\"\"}},\"name\":\"(49.87426, -97.1185)\",\"offsetgroup\":\"(49.87426, -97.1185)\",\"orientation\":\"v\",\"showlegend\":true,\"text\":[\"11\"],\"textposition\":\"outside\",\"x\":[\"(49.87426, -97.1185)\"],\"xaxis\":\"x\",\"y\":[\"11\"],\"yaxis\":\"y\",\"type\":\"bar\",\"texttemplate\":\"%{text:.2s}\"},{\"alignmentgroup\":\"True\",\"hovertemplate\":\"Location=%{x}<br>Violation Code=%{text}<extra></extra>\",\"legendgroup\":\"(49.8743633, -97.118573)\",\"marker\":{\"color\":\"#00cc96\",\"pattern\":{\"shape\":\"\"}},\"name\":\"(49.8743633, -97.118573)\",\"offsetgroup\":\"(49.8743633, -97.118573)\",\"orientation\":\"v\",\"showlegend\":true,\"text\":[\"11\"],\"textposition\":\"outside\",\"x\":[\"(49.8743633, -97.118573)\"],\"xaxis\":\"x\",\"y\":[\"11\"],\"yaxis\":\"y\",\"type\":\"bar\",\"texttemplate\":\"%{text:.2s}\"},{\"alignmentgroup\":\"True\",\"hovertemplate\":\"Location=%{x}<br>Violation Code=%{text}<extra></extra>\",\"legendgroup\":\"(49.8730366, -97.117045)\",\"marker\":{\"color\":\"#ab63fa\",\"pattern\":{\"shape\":\"\"}},\"name\":\"(49.8730366, -97.117045)\",\"offsetgroup\":\"(49.8730366, -97.117045)\",\"orientation\":\"v\",\"showlegend\":true,\"text\":[\"34\"],\"textposition\":\"outside\",\"x\":[\"(49.8730366, -97.117045)\"],\"xaxis\":\"x\",\"y\":[\"34\"],\"yaxis\":\"y\",\"type\":\"bar\",\"texttemplate\":\"%{text:.2s}\"},{\"alignmentgroup\":\"True\",\"hovertemplate\":\"Location=%{x}<br>Violation Code=%{text}<extra></extra>\",\"legendgroup\":\"(49.8727683, -97.116568)\",\"marker\":{\"color\":\"#FFA15A\",\"pattern\":{\"shape\":\"\"}},\"name\":\"(49.8727683, -97.116568)\",\"offsetgroup\":\"(49.8727683, -97.116568)\",\"orientation\":\"v\",\"showlegend\":true,\"text\":[\"34\"],\"textposition\":\"outside\",\"x\":[\"(49.8727683, -97.116568)\"],\"xaxis\":\"x\",\"y\":[\"34\"],\"yaxis\":\"y\",\"type\":\"bar\",\"texttemplate\":\"%{text:.2s}\"},{\"alignmentgroup\":\"True\",\"hovertemplate\":\"Location=%{x}<br>Violation Code=%{text}<extra></extra>\",\"legendgroup\":\"(49.8730716, -97.116991)\",\"marker\":{\"color\":\"#19d3f3\",\"pattern\":{\"shape\":\"\"}},\"name\":\"(49.8730716, -97.116991)\",\"offsetgroup\":\"(49.8730716, -97.116991)\",\"orientation\":\"v\",\"showlegend\":true,\"text\":[\"34\"],\"textposition\":\"outside\",\"x\":[\"(49.8730716, -97.116991)\"],\"xaxis\":\"x\",\"y\":[\"34\"],\"yaxis\":\"y\",\"type\":\"bar\",\"texttemplate\":\"%{text:.2s}\"},{\"alignmentgroup\":\"True\",\"hovertemplate\":\"Location=%{x}<br>Violation Code=%{text}<extra></extra>\",\"legendgroup\":\"(49.8728866, -97.116813)\",\"marker\":{\"color\":\"#FF6692\",\"pattern\":{\"shape\":\"\"}},\"name\":\"(49.8728866, -97.116813)\",\"offsetgroup\":\"(49.8728866, -97.116813)\",\"orientation\":\"v\",\"showlegend\":true,\"text\":[\"34\"],\"textposition\":\"outside\",\"x\":[\"(49.8728866, -97.116813)\"],\"xaxis\":\"x\",\"y\":[\"34\"],\"yaxis\":\"y\",\"type\":\"bar\",\"texttemplate\":\"%{text:.2s}\"},{\"alignmentgroup\":\"True\",\"hovertemplate\":\"Location=%{x}<br>Violation Code=%{text}<extra></extra>\",\"legendgroup\":\"(49.8743466, -97.118581)\",\"marker\":{\"color\":\"#B6E880\",\"pattern\":{\"shape\":\"\"}},\"name\":\"(49.8743466, -97.118581)\",\"offsetgroup\":\"(49.8743466, -97.118581)\",\"orientation\":\"v\",\"showlegend\":true,\"text\":[\"11\"],\"textposition\":\"outside\",\"x\":[\"(49.8743466, -97.118581)\"],\"xaxis\":\"x\",\"y\":[\"11\"],\"yaxis\":\"y\",\"type\":\"bar\",\"texttemplate\":\"%{text:.2s}\"},{\"alignmentgroup\":\"True\",\"hovertemplate\":\"Location=%{x}<br>Violation Code=%{text}<extra></extra>\",\"legendgroup\":\"(49.874145, -97.118418)\",\"marker\":{\"color\":\"#FF97FF\",\"pattern\":{\"shape\":\"\"}},\"name\":\"(49.874145, -97.118418)\",\"offsetgroup\":\"(49.874145, -97.118418)\",\"orientation\":\"v\",\"showlegend\":true,\"text\":[\"11\"],\"textposition\":\"outside\",\"x\":[\"(49.874145, -97.118418)\"],\"xaxis\":\"x\",\"y\":[\"11\"],\"yaxis\":\"y\",\"type\":\"bar\",\"texttemplate\":\"%{text:.2s}\"},{\"alignmentgroup\":\"True\",\"hovertemplate\":\"Location=%{x}<br>Violation Code=%{text}<extra></extra>\",\"legendgroup\":\"(49.874195, -97.118496)\",\"marker\":{\"color\":\"#FECB52\",\"pattern\":{\"shape\":\"\"}},\"name\":\"(49.874195, -97.118496)\",\"offsetgroup\":\"(49.874195, -97.118496)\",\"orientation\":\"v\",\"showlegend\":true,\"text\":[\"11\"],\"textposition\":\"outside\",\"x\":[\"(49.874195, -97.118496)\"],\"xaxis\":\"x\",\"y\":[\"11\"],\"yaxis\":\"y\",\"type\":\"bar\",\"texttemplate\":\"%{text:.2s}\"},{\"alignmentgroup\":\"True\",\"hovertemplate\":\"Location=%{x}<br>Violation Code=%{text}<extra></extra>\",\"legendgroup\":\"(49.8735, -97.117473)\",\"marker\":{\"color\":\"#636efa\",\"pattern\":{\"shape\":\"\"}},\"name\":\"(49.8735, -97.117473)\",\"offsetgroup\":\"(49.8735, -97.117473)\",\"orientation\":\"v\",\"showlegend\":true,\"text\":[\"10\"],\"textposition\":\"outside\",\"x\":[\"(49.8735, -97.117473)\"],\"xaxis\":\"x\",\"y\":[\"10\"],\"yaxis\":\"y\",\"type\":\"bar\",\"texttemplate\":\"%{text:.2s}\"},{\"alignmentgroup\":\"True\",\"hovertemplate\":\"Location=%{x}<br>Violation Code=%{text}<extra></extra>\",\"legendgroup\":\"(49.8743766, -97.118613)\",\"marker\":{\"color\":\"#EF553B\",\"pattern\":{\"shape\":\"\"}},\"name\":\"(49.8743766, -97.118613)\",\"offsetgroup\":\"(49.8743766, -97.118613)\",\"orientation\":\"v\",\"showlegend\":true,\"text\":[\"10\"],\"textposition\":\"outside\",\"x\":[\"(49.8743766, -97.118613)\"],\"xaxis\":\"x\",\"y\":[\"10\"],\"yaxis\":\"y\",\"type\":\"bar\",\"texttemplate\":\"%{text:.2s}\"},{\"alignmentgroup\":\"True\",\"hovertemplate\":\"Location=%{x}<br>Violation Code=%{text}<extra></extra>\",\"legendgroup\":\"(49.8742333, -97.118451)\",\"marker\":{\"color\":\"#00cc96\",\"pattern\":{\"shape\":\"\"}},\"name\":\"(49.8742333, -97.118451)\",\"offsetgroup\":\"(49.8742333, -97.118451)\",\"orientation\":\"v\",\"showlegend\":true,\"text\":[\"11\"],\"textposition\":\"outside\",\"x\":[\"(49.8742333, -97.118451)\"],\"xaxis\":\"x\",\"y\":[\"11\"],\"yaxis\":\"y\",\"type\":\"bar\",\"texttemplate\":\"%{text:.2s}\"},{\"alignmentgroup\":\"True\",\"hovertemplate\":\"Location=%{x}<br>Violation Code=%{text}<extra></extra>\",\"legendgroup\":\"(49.8748216, -97.118965)\",\"marker\":{\"color\":\"#ab63fa\",\"pattern\":{\"shape\":\"\"}},\"name\":\"(49.8748216, -97.118965)\",\"offsetgroup\":\"(49.8748216, -97.118965)\",\"orientation\":\"v\",\"showlegend\":true,\"text\":[\"10\"],\"textposition\":\"outside\",\"x\":[\"(49.8748216, -97.118965)\"],\"xaxis\":\"x\",\"y\":[\"10\"],\"yaxis\":\"y\",\"type\":\"bar\",\"texttemplate\":\"%{text:.2s}\"},{\"alignmentgroup\":\"True\",\"hovertemplate\":\"Location=%{x}<br>Violation Code=%{text}<extra></extra>\",\"legendgroup\":\"(49.8754866, -97.119853)\",\"marker\":{\"color\":\"#FFA15A\",\"pattern\":{\"shape\":\"\"}},\"name\":\"(49.8754866, -97.119853)\",\"offsetgroup\":\"(49.8754866, -97.119853)\",\"orientation\":\"v\",\"showlegend\":true,\"text\":[\"15\"],\"textposition\":\"outside\",\"x\":[\"(49.8754866, -97.119853)\"],\"xaxis\":\"x\",\"y\":[\"15\"],\"yaxis\":\"y\",\"type\":\"bar\",\"texttemplate\":\"%{text:.2s}\"},{\"alignmentgroup\":\"True\",\"hovertemplate\":\"Location=%{x}<br>Violation Code=%{text}<extra></extra>\",\"legendgroup\":\"(49.8749683, -97.119215)\",\"marker\":{\"color\":\"#19d3f3\",\"pattern\":{\"shape\":\"\"}},\"name\":\"(49.8749683, -97.119215)\",\"offsetgroup\":\"(49.8749683, -97.119215)\",\"orientation\":\"v\",\"showlegend\":true,\"text\":[\"10\"],\"textposition\":\"outside\",\"x\":[\"(49.8749683, -97.119215)\"],\"xaxis\":\"x\",\"y\":[\"10\"],\"yaxis\":\"y\",\"type\":\"bar\",\"texttemplate\":\"%{text:.2s}\"},{\"alignmentgroup\":\"True\",\"hovertemplate\":\"Location=%{x}<br>Violation Code=%{text}<extra></extra>\",\"legendgroup\":\"(49.8751833, -97.119511)\",\"marker\":{\"color\":\"#FF6692\",\"pattern\":{\"shape\":\"\"}},\"name\":\"(49.8751833, -97.119511)\",\"offsetgroup\":\"(49.8751833, -97.119511)\",\"orientation\":\"v\",\"showlegend\":true,\"text\":[\"10\"],\"textposition\":\"outside\",\"x\":[\"(49.8751833, -97.119511)\"],\"xaxis\":\"x\",\"y\":[\"10\"],\"yaxis\":\"y\",\"type\":\"bar\",\"texttemplate\":\"%{text:.2s}\"},{\"alignmentgroup\":\"True\",\"hovertemplate\":\"Location=%{x}<br>Violation Code=%{text}<extra></extra>\",\"legendgroup\":\"(49.8748166, -97.119081)\",\"marker\":{\"color\":\"#B6E880\",\"pattern\":{\"shape\":\"\"}},\"name\":\"(49.8748166, -97.119081)\",\"offsetgroup\":\"(49.8748166, -97.119081)\",\"orientation\":\"v\",\"showlegend\":true,\"text\":[\"34\"],\"textposition\":\"outside\",\"x\":[\"(49.8748166, -97.119081)\"],\"xaxis\":\"x\",\"y\":[\"34\"],\"yaxis\":\"y\",\"type\":\"bar\",\"texttemplate\":\"%{text:.2s}\"},{\"alignmentgroup\":\"True\",\"hovertemplate\":\"Location=%{x}<br>Violation Code=%{text}<extra></extra>\",\"legendgroup\":\"(49.8753833, -97.119613)\",\"marker\":{\"color\":\"#FF97FF\",\"pattern\":{\"shape\":\"\"}},\"name\":\"(49.8753833, -97.119613)\",\"offsetgroup\":\"(49.8753833, -97.119613)\",\"orientation\":\"v\",\"showlegend\":true,\"text\":[\"34\"],\"textposition\":\"outside\",\"x\":[\"(49.8753833, -97.119613)\"],\"xaxis\":\"x\",\"y\":[\"34\"],\"yaxis\":\"y\",\"type\":\"bar\",\"texttemplate\":\"%{text:.2s}\"},{\"alignmentgroup\":\"True\",\"hovertemplate\":\"Location=%{x}<br>Violation Code=%{text}<extra></extra>\",\"legendgroup\":\"(49.87462, -97.118931)\",\"marker\":{\"color\":\"#FECB52\",\"pattern\":{\"shape\":\"\"}},\"name\":\"(49.87462, -97.118931)\",\"offsetgroup\":\"(49.87462, -97.118931)\",\"orientation\":\"v\",\"showlegend\":true,\"text\":[\"10\"],\"textposition\":\"outside\",\"x\":[\"(49.87462, -97.118931)\"],\"xaxis\":\"x\",\"y\":[\"10\"],\"yaxis\":\"y\",\"type\":\"bar\",\"texttemplate\":\"%{text:.2s}\"},{\"alignmentgroup\":\"True\",\"hovertemplate\":\"Location=%{x}<br>Violation Code=%{text}<extra></extra>\",\"legendgroup\":\"(49.874935, -97.119171)\",\"marker\":{\"color\":\"#636efa\",\"pattern\":{\"shape\":\"\"}},\"name\":\"(49.874935, -97.119171)\",\"offsetgroup\":\"(49.874935, -97.119171)\",\"orientation\":\"v\",\"showlegend\":true,\"text\":[\"34\"],\"textposition\":\"outside\",\"x\":[\"(49.874935, -97.119171)\"],\"xaxis\":\"x\",\"y\":[\"34\"],\"yaxis\":\"y\",\"type\":\"bar\",\"texttemplate\":\"%{text:.2s}\"},{\"alignmentgroup\":\"True\",\"hovertemplate\":\"Location=%{x}<br>Violation Code=%{text}<extra></extra>\",\"legendgroup\":\"(49.8745816, -97.118895)\",\"marker\":{\"color\":\"#EF553B\",\"pattern\":{\"shape\":\"\"}},\"name\":\"(49.8745816, -97.118895)\",\"offsetgroup\":\"(49.8745816, -97.118895)\",\"orientation\":\"v\",\"showlegend\":true,\"text\":[\"41\"],\"textposition\":\"outside\",\"x\":[\"(49.8745816, -97.118895)\"],\"xaxis\":\"x\",\"y\":[\"41\"],\"yaxis\":\"y\",\"type\":\"bar\",\"texttemplate\":\"%{text:.2s}\"},{\"alignmentgroup\":\"True\",\"hovertemplate\":\"Location=%{x}<br>Violation Code=%{text}<extra></extra>\",\"legendgroup\":\"(49.8747716, -97.119058)\",\"marker\":{\"color\":\"#00cc96\",\"pattern\":{\"shape\":\"\"}},\"name\":\"(49.8747716, -97.119058)\",\"offsetgroup\":\"(49.8747716, -97.119058)\",\"orientation\":\"v\",\"showlegend\":true,\"text\":[\"34\"],\"textposition\":\"outside\",\"x\":[\"(49.8747716, -97.119058)\"],\"xaxis\":\"x\",\"y\":[\"34\"],\"yaxis\":\"y\",\"type\":\"bar\",\"texttemplate\":\"%{text:.2s}\"},{\"alignmentgroup\":\"True\",\"hovertemplate\":\"Location=%{x}<br>Violation Code=%{text}<extra></extra>\",\"legendgroup\":\"(49.8742883, -97.118566)\",\"marker\":{\"color\":\"#ab63fa\",\"pattern\":{\"shape\":\"\"}},\"name\":\"(49.8742883, -97.118566)\",\"offsetgroup\":\"(49.8742883, -97.118566)\",\"orientation\":\"v\",\"showlegend\":true,\"text\":[\"11\"],\"textposition\":\"outside\",\"x\":[\"(49.8742883, -97.118566)\"],\"xaxis\":\"x\",\"y\":[\"11\"],\"yaxis\":\"y\",\"type\":\"bar\",\"texttemplate\":\"%{text:.2s}\"},{\"alignmentgroup\":\"True\",\"hovertemplate\":\"Location=%{x}<br>Violation Code=%{text}<extra></extra>\",\"legendgroup\":\"(49.873435, -97.117408)\",\"marker\":{\"color\":\"#FFA15A\",\"pattern\":{\"shape\":\"\"}},\"name\":\"(49.873435, -97.117408)\",\"offsetgroup\":\"(49.873435, -97.117408)\",\"orientation\":\"v\",\"showlegend\":true,\"text\":[\"34\"],\"textposition\":\"outside\",\"x\":[\"(49.873435, -97.117408)\"],\"xaxis\":\"x\",\"y\":[\"34\"],\"yaxis\":\"y\",\"type\":\"bar\",\"texttemplate\":\"%{text:.2s}\"},{\"alignmentgroup\":\"True\",\"hovertemplate\":\"Location=%{x}<br>Violation Code=%{text}<extra></extra>\",\"legendgroup\":\"(49.8731783, -97.117181)\",\"marker\":{\"color\":\"#19d3f3\",\"pattern\":{\"shape\":\"\"}},\"name\":\"(49.8731783, -97.117181)\",\"offsetgroup\":\"(49.8731783, -97.117181)\",\"orientation\":\"v\",\"showlegend\":true,\"text\":[\"34\"],\"textposition\":\"outside\",\"x\":[\"(49.8731783, -97.117181)\"],\"xaxis\":\"x\",\"y\":[\"34\"],\"yaxis\":\"y\",\"type\":\"bar\",\"texttemplate\":\"%{text:.2s}\"},{\"alignmentgroup\":\"True\",\"hovertemplate\":\"Location=%{x}<br>Violation Code=%{text}<extra></extra>\",\"legendgroup\":\"(49.8734316, -97.117501)\",\"marker\":{\"color\":\"#FF6692\",\"pattern\":{\"shape\":\"\"}},\"name\":\"(49.8734316, -97.117501)\",\"offsetgroup\":\"(49.8734316, -97.117501)\",\"orientation\":\"v\",\"showlegend\":true,\"text\":[\"34\"],\"textposition\":\"outside\",\"x\":[\"(49.8734316, -97.117501)\"],\"xaxis\":\"x\",\"y\":[\"34\"],\"yaxis\":\"y\",\"type\":\"bar\",\"texttemplate\":\"%{text:.2s}\"},{\"alignmentgroup\":\"True\",\"hovertemplate\":\"Location=%{x}<br>Violation Code=%{text}<extra></extra>\",\"legendgroup\":\"(49.873415, -97.117355)\",\"marker\":{\"color\":\"#B6E880\",\"pattern\":{\"shape\":\"\"}},\"name\":\"(49.873415, -97.117355)\",\"offsetgroup\":\"(49.873415, -97.117355)\",\"orientation\":\"v\",\"showlegend\":true,\"text\":[\"34\"],\"textposition\":\"outside\",\"x\":[\"(49.873415, -97.117355)\"],\"xaxis\":\"x\",\"y\":[\"34\"],\"yaxis\":\"y\",\"type\":\"bar\",\"texttemplate\":\"%{text:.2s}\"},{\"alignmentgroup\":\"True\",\"hovertemplate\":\"Location=%{x}<br>Violation Code=%{text}<extra></extra>\",\"legendgroup\":\"(49.8728616, -97.116691)\",\"marker\":{\"color\":\"#FF97FF\",\"pattern\":{\"shape\":\"\"}},\"name\":\"(49.8728616, -97.116691)\",\"offsetgroup\":\"(49.8728616, -97.116691)\",\"orientation\":\"v\",\"showlegend\":true,\"text\":[\"34\"],\"textposition\":\"outside\",\"x\":[\"(49.8728616, -97.116691)\"],\"xaxis\":\"x\",\"y\":[\"34\"],\"yaxis\":\"y\",\"type\":\"bar\",\"texttemplate\":\"%{text:.2s}\"},{\"alignmentgroup\":\"True\",\"hovertemplate\":\"Location=%{x}<br>Violation Code=%{text}<extra></extra>\",\"legendgroup\":\"(49.8743983, -97.11867)\",\"marker\":{\"color\":\"#FECB52\",\"pattern\":{\"shape\":\"\"}},\"name\":\"(49.8743983, -97.11867)\",\"offsetgroup\":\"(49.8743983, -97.11867)\",\"orientation\":\"v\",\"showlegend\":true,\"text\":[\"34\"],\"textposition\":\"outside\",\"x\":[\"(49.8743983, -97.11867)\"],\"xaxis\":\"x\",\"y\":[\"34\"],\"yaxis\":\"y\",\"type\":\"bar\",\"texttemplate\":\"%{text:.2s}\"},{\"alignmentgroup\":\"True\",\"hovertemplate\":\"Location=%{x}<br>Violation Code=%{text}<extra></extra>\",\"legendgroup\":\"(49.872845, -97.1167)\",\"marker\":{\"color\":\"#636efa\",\"pattern\":{\"shape\":\"\"}},\"name\":\"(49.872845, -97.1167)\",\"offsetgroup\":\"(49.872845, -97.1167)\",\"orientation\":\"v\",\"showlegend\":true,\"text\":[\"34\"],\"textposition\":\"outside\",\"x\":[\"(49.872845, -97.1167)\"],\"xaxis\":\"x\",\"y\":[\"34\"],\"yaxis\":\"y\",\"type\":\"bar\",\"texttemplate\":\"%{text:.2s}\"},{\"alignmentgroup\":\"True\",\"hovertemplate\":\"Location=%{x}<br>Violation Code=%{text}<extra></extra>\",\"legendgroup\":\"(49.8747016, -97.119011)\",\"marker\":{\"color\":\"#EF553B\",\"pattern\":{\"shape\":\"\"}},\"name\":\"(49.8747016, -97.119011)\",\"offsetgroup\":\"(49.8747016, -97.119011)\",\"orientation\":\"v\",\"showlegend\":true,\"text\":[\"34\"],\"textposition\":\"outside\",\"x\":[\"(49.8747016, -97.119011)\"],\"xaxis\":\"x\",\"y\":[\"34\"],\"yaxis\":\"y\",\"type\":\"bar\",\"texttemplate\":\"%{text:.2s}\"},{\"alignmentgroup\":\"True\",\"hovertemplate\":\"Location=%{x}<br>Violation Code=%{text}<extra></extra>\",\"legendgroup\":\"(49.8739583, -97.118101)\",\"marker\":{\"color\":\"#00cc96\",\"pattern\":{\"shape\":\"\"}},\"name\":\"(49.8739583, -97.118101)\",\"offsetgroup\":\"(49.8739583, -97.118101)\",\"orientation\":\"v\",\"showlegend\":true,\"text\":[\"34\"],\"textposition\":\"outside\",\"x\":[\"(49.8739583, -97.118101)\"],\"xaxis\":\"x\",\"y\":[\"34\"],\"yaxis\":\"y\",\"type\":\"bar\",\"texttemplate\":\"%{text:.2s}\"},{\"alignmentgroup\":\"True\",\"hovertemplate\":\"Location=%{x}<br>Violation Code=%{text}<extra></extra>\",\"legendgroup\":\"(49.8742883, -97.118725)\",\"marker\":{\"color\":\"#ab63fa\",\"pattern\":{\"shape\":\"\"}},\"name\":\"(49.8742883, -97.118725)\",\"offsetgroup\":\"(49.8742883, -97.118725)\",\"orientation\":\"v\",\"showlegend\":true,\"text\":[\"11\"],\"textposition\":\"outside\",\"x\":[\"(49.8742883, -97.118725)\"],\"xaxis\":\"x\",\"y\":[\"11\"],\"yaxis\":\"y\",\"type\":\"bar\",\"texttemplate\":\"%{text:.2s}\"},{\"alignmentgroup\":\"True\",\"hovertemplate\":\"Location=%{x}<br>Violation Code=%{text}<extra></extra>\",\"legendgroup\":\"(49.8728033, -97.116733)\",\"marker\":{\"color\":\"#FFA15A\",\"pattern\":{\"shape\":\"\"}},\"name\":\"(49.8728033, -97.116733)\",\"offsetgroup\":\"(49.8728033, -97.116733)\",\"orientation\":\"v\",\"showlegend\":true,\"text\":[\"18\"],\"textposition\":\"outside\",\"x\":[\"(49.8728033, -97.116733)\"],\"xaxis\":\"x\",\"y\":[\"18\"],\"yaxis\":\"y\",\"type\":\"bar\",\"texttemplate\":\"%{text:.2s}\"},{\"alignmentgroup\":\"True\",\"hovertemplate\":\"Location=%{x}<br>Violation Code=%{text}<extra></extra>\",\"legendgroup\":\"(49.8743683, -97.118788)\",\"marker\":{\"color\":\"#19d3f3\",\"pattern\":{\"shape\":\"\"}},\"name\":\"(49.8743683, -97.118788)\",\"offsetgroup\":\"(49.8743683, -97.118788)\",\"orientation\":\"v\",\"showlegend\":true,\"text\":[\"11\"],\"textposition\":\"outside\",\"x\":[\"(49.8743683, -97.118788)\"],\"xaxis\":\"x\",\"y\":[\"11\"],\"yaxis\":\"y\",\"type\":\"bar\",\"texttemplate\":\"%{text:.2s}\"},{\"alignmentgroup\":\"True\",\"hovertemplate\":\"Location=%{x}<br>Violation Code=%{text}<extra></extra>\",\"legendgroup\":\"(49.8744366, -97.118726)\",\"marker\":{\"color\":\"#FF6692\",\"pattern\":{\"shape\":\"\"}},\"name\":\"(49.8744366, -97.118726)\",\"offsetgroup\":\"(49.8744366, -97.118726)\",\"orientation\":\"v\",\"showlegend\":true,\"text\":[\"11\",\"11\"],\"textposition\":\"outside\",\"x\":[\"(49.8744366, -97.118726)\",\"(49.8744366, -97.118726)\"],\"xaxis\":\"x\",\"y\":[\"11\",\"11\"],\"yaxis\":\"y\",\"type\":\"bar\",\"texttemplate\":\"%{text:.2s}\"},{\"alignmentgroup\":\"True\",\"hovertemplate\":\"Location=%{x}<br>Violation Code=%{text}<extra></extra>\",\"legendgroup\":\"(49.8744433, -97.118761)\",\"marker\":{\"color\":\"#B6E880\",\"pattern\":{\"shape\":\"\"}},\"name\":\"(49.8744433, -97.118761)\",\"offsetgroup\":\"(49.8744433, -97.118761)\",\"orientation\":\"v\",\"showlegend\":true,\"text\":[\"11\"],\"textposition\":\"outside\",\"x\":[\"(49.8744433, -97.118761)\"],\"xaxis\":\"x\",\"y\":[\"11\"],\"yaxis\":\"y\",\"type\":\"bar\",\"texttemplate\":\"%{text:.2s}\"},{\"alignmentgroup\":\"True\",\"hovertemplate\":\"Location=%{x}<br>Violation Code=%{text}<extra></extra>\",\"legendgroup\":\"(49.8751216, -97.119441)\",\"marker\":{\"color\":\"#FF97FF\",\"pattern\":{\"shape\":\"\"}},\"name\":\"(49.8751216, -97.119441)\",\"offsetgroup\":\"(49.8751216, -97.119441)\",\"orientation\":\"v\",\"showlegend\":true,\"text\":[\"10\"],\"textposition\":\"outside\",\"x\":[\"(49.8751216, -97.119441)\"],\"xaxis\":\"x\",\"y\":[\"10\"],\"yaxis\":\"y\",\"type\":\"bar\",\"texttemplate\":\"%{text:.2s}\"},{\"alignmentgroup\":\"True\",\"hovertemplate\":\"Location=%{x}<br>Violation Code=%{text}<extra></extra>\",\"legendgroup\":\"(49.8738083, -97.117971)\",\"marker\":{\"color\":\"#FECB52\",\"pattern\":{\"shape\":\"\"}},\"name\":\"(49.8738083, -97.117971)\",\"offsetgroup\":\"(49.8738083, -97.117971)\",\"orientation\":\"v\",\"showlegend\":true,\"text\":[\"10\"],\"textposition\":\"outside\",\"x\":[\"(49.8738083, -97.117971)\"],\"xaxis\":\"x\",\"y\":[\"10\"],\"yaxis\":\"y\",\"type\":\"bar\",\"texttemplate\":\"%{text:.2s}\"},{\"alignmentgroup\":\"True\",\"hovertemplate\":\"Location=%{x}<br>Violation Code=%{text}<extra></extra>\",\"legendgroup\":\"(49.8751966, -97.11934)\",\"marker\":{\"color\":\"#636efa\",\"pattern\":{\"shape\":\"\"}},\"name\":\"(49.8751966, -97.11934)\",\"offsetgroup\":\"(49.8751966, -97.11934)\",\"orientation\":\"v\",\"showlegend\":true,\"text\":[\"10\"],\"textposition\":\"outside\",\"x\":[\"(49.8751966, -97.11934)\"],\"xaxis\":\"x\",\"y\":[\"10\"],\"yaxis\":\"y\",\"type\":\"bar\",\"texttemplate\":\"%{text:.2s}\"},{\"alignmentgroup\":\"True\",\"hovertemplate\":\"Location=%{x}<br>Violation Code=%{text}<extra></extra>\",\"legendgroup\":\"(49.874275, -97.118611)\",\"marker\":{\"color\":\"#EF553B\",\"pattern\":{\"shape\":\"\"}},\"name\":\"(49.874275, -97.118611)\",\"offsetgroup\":\"(49.874275, -97.118611)\",\"orientation\":\"v\",\"showlegend\":true,\"text\":[\"11\"],\"textposition\":\"outside\",\"x\":[\"(49.874275, -97.118611)\"],\"xaxis\":\"x\",\"y\":[\"11\"],\"yaxis\":\"y\",\"type\":\"bar\",\"texttemplate\":\"%{text:.2s}\"},{\"alignmentgroup\":\"True\",\"hovertemplate\":\"Location=%{x}<br>Violation Code=%{text}<extra></extra>\",\"legendgroup\":\"(49.8742633, -97.11854)\",\"marker\":{\"color\":\"#00cc96\",\"pattern\":{\"shape\":\"\"}},\"name\":\"(49.8742633, -97.11854)\",\"offsetgroup\":\"(49.8742633, -97.11854)\",\"orientation\":\"v\",\"showlegend\":true,\"text\":[\"11\"],\"textposition\":\"outside\",\"x\":[\"(49.8742633, -97.11854)\"],\"xaxis\":\"x\",\"y\":[\"11\"],\"yaxis\":\"y\",\"type\":\"bar\",\"texttemplate\":\"%{text:.2s}\"},{\"alignmentgroup\":\"True\",\"hovertemplate\":\"Location=%{x}<br>Violation Code=%{text}<extra></extra>\",\"legendgroup\":\"(49.8742833, -97.118488)\",\"marker\":{\"color\":\"#ab63fa\",\"pattern\":{\"shape\":\"\"}},\"name\":\"(49.8742833, -97.118488)\",\"offsetgroup\":\"(49.8742833, -97.118488)\",\"orientation\":\"v\",\"showlegend\":true,\"text\":[\"11\"],\"textposition\":\"outside\",\"x\":[\"(49.8742833, -97.118488)\"],\"xaxis\":\"x\",\"y\":[\"11\"],\"yaxis\":\"y\",\"type\":\"bar\",\"texttemplate\":\"%{text:.2s}\"},{\"alignmentgroup\":\"True\",\"hovertemplate\":\"Location=%{x}<br>Violation Code=%{text}<extra></extra>\",\"legendgroup\":\"(49.8751216, -97.119378)\",\"marker\":{\"color\":\"#FFA15A\",\"pattern\":{\"shape\":\"\"}},\"name\":\"(49.8751216, -97.119378)\",\"offsetgroup\":\"(49.8751216, -97.119378)\",\"orientation\":\"v\",\"showlegend\":true,\"text\":[\"10\"],\"textposition\":\"outside\",\"x\":[\"(49.8751216, -97.119378)\"],\"xaxis\":\"x\",\"y\":[\"10\"],\"yaxis\":\"y\",\"type\":\"bar\",\"texttemplate\":\"%{text:.2s}\"},{\"alignmentgroup\":\"True\",\"hovertemplate\":\"Location=%{x}<br>Violation Code=%{text}<extra></extra>\",\"legendgroup\":\"(49.8732833, -97.117331)\",\"marker\":{\"color\":\"#19d3f3\",\"pattern\":{\"shape\":\"\"}},\"name\":\"(49.8732833, -97.117331)\",\"offsetgroup\":\"(49.8732833, -97.117331)\",\"orientation\":\"v\",\"showlegend\":true,\"text\":[\"10\"],\"textposition\":\"outside\",\"x\":[\"(49.8732833, -97.117331)\"],\"xaxis\":\"x\",\"y\":[\"10\"],\"yaxis\":\"y\",\"type\":\"bar\",\"texttemplate\":\"%{text:.2s}\"},{\"alignmentgroup\":\"True\",\"hovertemplate\":\"Location=%{x}<br>Violation Code=%{text}<extra></extra>\",\"legendgroup\":\"(49.8742683, -97.118568)\",\"marker\":{\"color\":\"#FF6692\",\"pattern\":{\"shape\":\"\"}},\"name\":\"(49.8742683, -97.118568)\",\"offsetgroup\":\"(49.8742683, -97.118568)\",\"orientation\":\"v\",\"showlegend\":true,\"text\":[\"11\"],\"textposition\":\"outside\",\"x\":[\"(49.8742683, -97.118568)\"],\"xaxis\":\"x\",\"y\":[\"11\"],\"yaxis\":\"y\",\"type\":\"bar\",\"texttemplate\":\"%{text:.2s}\"},{\"alignmentgroup\":\"True\",\"hovertemplate\":\"Location=%{x}<br>Violation Code=%{text}<extra></extra>\",\"legendgroup\":\"(49.87434, -97.118623)\",\"marker\":{\"color\":\"#B6E880\",\"pattern\":{\"shape\":\"\"}},\"name\":\"(49.87434, -97.118623)\",\"offsetgroup\":\"(49.87434, -97.118623)\",\"orientation\":\"v\",\"showlegend\":true,\"text\":[\"11\"],\"textposition\":\"outside\",\"x\":[\"(49.87434, -97.118623)\"],\"xaxis\":\"x\",\"y\":[\"11\"],\"yaxis\":\"y\",\"type\":\"bar\",\"texttemplate\":\"%{text:.2s}\"},{\"alignmentgroup\":\"True\",\"hovertemplate\":\"Location=%{x}<br>Violation Code=%{text}<extra></extra>\",\"legendgroup\":\"(49.87444, -97.118768)\",\"marker\":{\"color\":\"#FF97FF\",\"pattern\":{\"shape\":\"\"}},\"name\":\"(49.87444, -97.118768)\",\"offsetgroup\":\"(49.87444, -97.118768)\",\"orientation\":\"v\",\"showlegend\":true,\"text\":[\"12\"],\"textposition\":\"outside\",\"x\":[\"(49.87444, -97.118768)\"],\"xaxis\":\"x\",\"y\":[\"12\"],\"yaxis\":\"y\",\"type\":\"bar\",\"texttemplate\":\"%{text:.2s}\"},{\"alignmentgroup\":\"True\",\"hovertemplate\":\"Location=%{x}<br>Violation Code=%{text}<extra></extra>\",\"legendgroup\":\"(49.87433, -97.11852)\",\"marker\":{\"color\":\"#FECB52\",\"pattern\":{\"shape\":\"\"}},\"name\":\"(49.87433, -97.11852)\",\"offsetgroup\":\"(49.87433, -97.11852)\",\"orientation\":\"v\",\"showlegend\":true,\"text\":[\"12\"],\"textposition\":\"outside\",\"x\":[\"(49.87433, -97.11852)\"],\"xaxis\":\"x\",\"y\":[\"12\"],\"yaxis\":\"y\",\"type\":\"bar\",\"texttemplate\":\"%{text:.2s}\"},{\"alignmentgroup\":\"True\",\"hovertemplate\":\"Location=%{x}<br>Violation Code=%{text}<extra></extra>\",\"legendgroup\":\"(49.87444, -97.118786)\",\"marker\":{\"color\":\"#636efa\",\"pattern\":{\"shape\":\"\"}},\"name\":\"(49.87444, -97.118786)\",\"offsetgroup\":\"(49.87444, -97.118786)\",\"orientation\":\"v\",\"showlegend\":true,\"text\":[\"12\"],\"textposition\":\"outside\",\"x\":[\"(49.87444, -97.118786)\"],\"xaxis\":\"x\",\"y\":[\"12\"],\"yaxis\":\"y\",\"type\":\"bar\",\"texttemplate\":\"%{text:.2s}\"},{\"alignmentgroup\":\"True\",\"hovertemplate\":\"Location=%{x}<br>Violation Code=%{text}<extra></extra>\",\"legendgroup\":\"(49.8724666, -97.116586)\",\"marker\":{\"color\":\"#EF553B\",\"pattern\":{\"shape\":\"\"}},\"name\":\"(49.8724666, -97.116586)\",\"offsetgroup\":\"(49.8724666, -97.116586)\",\"orientation\":\"v\",\"showlegend\":true,\"text\":[\"17\"],\"textposition\":\"outside\",\"x\":[\"(49.8724666, -97.116586)\"],\"xaxis\":\"x\",\"y\":[\"17\"],\"yaxis\":\"y\",\"type\":\"bar\",\"texttemplate\":\"%{text:.2s}\"},{\"alignmentgroup\":\"True\",\"hovertemplate\":\"Location=%{x}<br>Violation Code=%{text}<extra></extra>\",\"legendgroup\":\"(49.8742233, -97.11842)\",\"marker\":{\"color\":\"#00cc96\",\"pattern\":{\"shape\":\"\"}},\"name\":\"(49.8742233, -97.11842)\",\"offsetgroup\":\"(49.8742233, -97.11842)\",\"orientation\":\"v\",\"showlegend\":true,\"text\":[\"11\"],\"textposition\":\"outside\",\"x\":[\"(49.8742233, -97.11842)\"],\"xaxis\":\"x\",\"y\":[\"11\"],\"yaxis\":\"y\",\"type\":\"bar\",\"texttemplate\":\"%{text:.2s}\"},{\"alignmentgroup\":\"True\",\"hovertemplate\":\"Location=%{x}<br>Violation Code=%{text}<extra></extra>\",\"legendgroup\":\"(49.8744033, -97.118653)\",\"marker\":{\"color\":\"#ab63fa\",\"pattern\":{\"shape\":\"\"}},\"name\":\"(49.8744033, -97.118653)\",\"offsetgroup\":\"(49.8744033, -97.118653)\",\"orientation\":\"v\",\"showlegend\":true,\"text\":[\"9\"],\"textposition\":\"outside\",\"x\":[\"(49.8744033, -97.118653)\"],\"xaxis\":\"x\",\"y\":[\"9\"],\"yaxis\":\"y\",\"type\":\"bar\",\"texttemplate\":\"%{text:.2s}\"},{\"alignmentgroup\":\"True\",\"hovertemplate\":\"Location=%{x}<br>Violation Code=%{text}<extra></extra>\",\"legendgroup\":\"(49.8743066, -97.11858)\",\"marker\":{\"color\":\"#FFA15A\",\"pattern\":{\"shape\":\"\"}},\"name\":\"(49.8743066, -97.11858)\",\"offsetgroup\":\"(49.8743066, -97.11858)\",\"orientation\":\"v\",\"showlegend\":true,\"text\":[\"12\"],\"textposition\":\"outside\",\"x\":[\"(49.8743066, -97.11858)\"],\"xaxis\":\"x\",\"y\":[\"12\"],\"yaxis\":\"y\",\"type\":\"bar\",\"texttemplate\":\"%{text:.2s}\"},{\"alignmentgroup\":\"True\",\"hovertemplate\":\"Location=%{x}<br>Violation Code=%{text}<extra></extra>\",\"legendgroup\":\"(49.8753383, -97.119958)\",\"marker\":{\"color\":\"#19d3f3\",\"pattern\":{\"shape\":\"\"}},\"name\":\"(49.8753383, -97.119958)\",\"offsetgroup\":\"(49.8753383, -97.119958)\",\"orientation\":\"v\",\"showlegend\":true,\"text\":[\"9\"],\"textposition\":\"outside\",\"x\":[\"(49.8753383, -97.119958)\"],\"xaxis\":\"x\",\"y\":[\"9\"],\"yaxis\":\"y\",\"type\":\"bar\",\"texttemplate\":\"%{text:.2s}\"},{\"alignmentgroup\":\"True\",\"hovertemplate\":\"Location=%{x}<br>Violation Code=%{text}<extra></extra>\",\"legendgroup\":\"(49.8728083, -97.116613)\",\"marker\":{\"color\":\"#FF6692\",\"pattern\":{\"shape\":\"\"}},\"name\":\"(49.8728083, -97.116613)\",\"offsetgroup\":\"(49.8728083, -97.116613)\",\"orientation\":\"v\",\"showlegend\":true,\"text\":[\"17\"],\"textposition\":\"outside\",\"x\":[\"(49.8728083, -97.116613)\"],\"xaxis\":\"x\",\"y\":[\"17\"],\"yaxis\":\"y\",\"type\":\"bar\",\"texttemplate\":\"%{text:.2s}\"},{\"alignmentgroup\":\"True\",\"hovertemplate\":\"Location=%{x}<br>Violation Code=%{text}<extra></extra>\",\"legendgroup\":\"(49.8743516, -97.118526)\",\"marker\":{\"color\":\"#B6E880\",\"pattern\":{\"shape\":\"\"}},\"name\":\"(49.8743516, -97.118526)\",\"offsetgroup\":\"(49.8743516, -97.118526)\",\"orientation\":\"v\",\"showlegend\":true,\"text\":[\"9\"],\"textposition\":\"outside\",\"x\":[\"(49.8743516, -97.118526)\"],\"xaxis\":\"x\",\"y\":[\"9\"],\"yaxis\":\"y\",\"type\":\"bar\",\"texttemplate\":\"%{text:.2s}\"},{\"alignmentgroup\":\"True\",\"hovertemplate\":\"Location=%{x}<br>Violation Code=%{text}<extra></extra>\",\"legendgroup\":\"(49.8740633, -97.118486)\",\"marker\":{\"color\":\"#FF97FF\",\"pattern\":{\"shape\":\"\"}},\"name\":\"(49.8740633, -97.118486)\",\"offsetgroup\":\"(49.8740633, -97.118486)\",\"orientation\":\"v\",\"showlegend\":true,\"text\":[\"17\"],\"textposition\":\"outside\",\"x\":[\"(49.8740633, -97.118486)\"],\"xaxis\":\"x\",\"y\":[\"17\"],\"yaxis\":\"y\",\"type\":\"bar\",\"texttemplate\":\"%{text:.2s}\"},{\"alignmentgroup\":\"True\",\"hovertemplate\":\"Location=%{x}<br>Violation Code=%{text}<extra></extra>\",\"legendgroup\":\"(49.8737466, -97.117816)\",\"marker\":{\"color\":\"#FECB52\",\"pattern\":{\"shape\":\"\"}},\"name\":\"(49.8737466, -97.117816)\",\"offsetgroup\":\"(49.8737466, -97.117816)\",\"orientation\":\"v\",\"showlegend\":true,\"text\":[\"13\"],\"textposition\":\"outside\",\"x\":[\"(49.8737466, -97.117816)\"],\"xaxis\":\"x\",\"y\":[\"13\"],\"yaxis\":\"y\",\"type\":\"bar\",\"texttemplate\":\"%{text:.2s}\"},{\"alignmentgroup\":\"True\",\"hovertemplate\":\"Location=%{x}<br>Violation Code=%{text}<extra></extra>\",\"legendgroup\":\"(49.87357, -97.117713)\",\"marker\":{\"color\":\"#636efa\",\"pattern\":{\"shape\":\"\"}},\"name\":\"(49.87357, -97.117713)\",\"offsetgroup\":\"(49.87357, -97.117713)\",\"orientation\":\"v\",\"showlegend\":true,\"text\":[\"13\"],\"textposition\":\"outside\",\"x\":[\"(49.87357, -97.117713)\"],\"xaxis\":\"x\",\"y\":[\"13\"],\"yaxis\":\"y\",\"type\":\"bar\",\"texttemplate\":\"%{text:.2s}\"},{\"alignmentgroup\":\"True\",\"hovertemplate\":\"Location=%{x}<br>Violation Code=%{text}<extra></extra>\",\"legendgroup\":\"(49.8732016, -97.117183)\",\"marker\":{\"color\":\"#EF553B\",\"pattern\":{\"shape\":\"\"}},\"name\":\"(49.8732016, -97.117183)\",\"offsetgroup\":\"(49.8732016, -97.117183)\",\"orientation\":\"v\",\"showlegend\":true,\"text\":[\"13\"],\"textposition\":\"outside\",\"x\":[\"(49.8732016, -97.117183)\"],\"xaxis\":\"x\",\"y\":[\"13\"],\"yaxis\":\"y\",\"type\":\"bar\",\"texttemplate\":\"%{text:.2s}\"},{\"alignmentgroup\":\"True\",\"hovertemplate\":\"Location=%{x}<br>Violation Code=%{text}<extra></extra>\",\"legendgroup\":\"(49.8732083, -97.117163)\",\"marker\":{\"color\":\"#00cc96\",\"pattern\":{\"shape\":\"\"}},\"name\":\"(49.8732083, -97.117163)\",\"offsetgroup\":\"(49.8732083, -97.117163)\",\"orientation\":\"v\",\"showlegend\":true,\"text\":[\"13\"],\"textposition\":\"outside\",\"x\":[\"(49.8732083, -97.117163)\"],\"xaxis\":\"x\",\"y\":[\"13\"],\"yaxis\":\"y\",\"type\":\"bar\",\"texttemplate\":\"%{text:.2s}\"},{\"alignmentgroup\":\"True\",\"hovertemplate\":\"Location=%{x}<br>Violation Code=%{text}<extra></extra>\",\"legendgroup\":\"(49.8728033, -97.116751)\",\"marker\":{\"color\":\"#ab63fa\",\"pattern\":{\"shape\":\"\"}},\"name\":\"(49.8728033, -97.116751)\",\"offsetgroup\":\"(49.8728033, -97.116751)\",\"orientation\":\"v\",\"showlegend\":true,\"text\":[\"P13\"],\"textposition\":\"outside\",\"x\":[\"(49.8728033, -97.116751)\"],\"xaxis\":\"x\",\"y\":[\"P13\"],\"yaxis\":\"y\",\"type\":\"bar\",\"texttemplate\":\"%{text:.2s}\"},{\"alignmentgroup\":\"True\",\"hovertemplate\":\"Location=%{x}<br>Violation Code=%{text}<extra></extra>\",\"legendgroup\":\"(49.8732483, -97.117198)\",\"marker\":{\"color\":\"#FFA15A\",\"pattern\":{\"shape\":\"\"}},\"name\":\"(49.8732483, -97.117198)\",\"offsetgroup\":\"(49.8732483, -97.117198)\",\"orientation\":\"v\",\"showlegend\":true,\"text\":[\"P13\"],\"textposition\":\"outside\",\"x\":[\"(49.8732483, -97.117198)\"],\"xaxis\":\"x\",\"y\":[\"P13\"],\"yaxis\":\"y\",\"type\":\"bar\",\"texttemplate\":\"%{text:.2s}\"},{\"alignmentgroup\":\"True\",\"hovertemplate\":\"Location=%{x}<br>Violation Code=%{text}<extra></extra>\",\"legendgroup\":\"(49.8736533, -97.117665)\",\"marker\":{\"color\":\"#19d3f3\",\"pattern\":{\"shape\":\"\"}},\"name\":\"(49.8736533, -97.117665)\",\"offsetgroup\":\"(49.8736533, -97.117665)\",\"orientation\":\"v\",\"showlegend\":true,\"text\":[\"P13\"],\"textposition\":\"outside\",\"x\":[\"(49.8736533, -97.117665)\"],\"xaxis\":\"x\",\"y\":[\"P13\"],\"yaxis\":\"y\",\"type\":\"bar\",\"texttemplate\":\"%{text:.2s}\"},{\"alignmentgroup\":\"True\",\"hovertemplate\":\"Location=%{x}<br>Violation Code=%{text}<extra></extra>\",\"legendgroup\":\"(49.87426, -97.11854)\",\"marker\":{\"color\":\"#FF6692\",\"pattern\":{\"shape\":\"\"}},\"name\":\"(49.87426, -97.11854)\",\"offsetgroup\":\"(49.87426, -97.11854)\",\"orientation\":\"v\",\"showlegend\":true,\"text\":[\"P12\"],\"textposition\":\"outside\",\"x\":[\"(49.87426, -97.11854)\"],\"xaxis\":\"x\",\"y\":[\"P12\"],\"yaxis\":\"y\",\"type\":\"bar\",\"texttemplate\":\"%{text:.2s}\"},{\"alignmentgroup\":\"True\",\"hovertemplate\":\"Location=%{x}<br>Violation Code=%{text}<extra></extra>\",\"legendgroup\":\"(49.87432, -97.118493)\",\"marker\":{\"color\":\"#B6E880\",\"pattern\":{\"shape\":\"\"}},\"name\":\"(49.87432, -97.118493)\",\"offsetgroup\":\"(49.87432, -97.118493)\",\"orientation\":\"v\",\"showlegend\":true,\"text\":[\"P12\"],\"textposition\":\"outside\",\"x\":[\"(49.87432, -97.118493)\"],\"xaxis\":\"x\",\"y\":[\"P12\"],\"yaxis\":\"y\",\"type\":\"bar\",\"texttemplate\":\"%{text:.2s}\"},{\"alignmentgroup\":\"True\",\"hovertemplate\":\"Location=%{x}<br>Violation Code=%{text}<extra></extra>\",\"legendgroup\":\"(49.8737166, -97.117825)\",\"marker\":{\"color\":\"#FF97FF\",\"pattern\":{\"shape\":\"\"}},\"name\":\"(49.8737166, -97.117825)\",\"offsetgroup\":\"(49.8737166, -97.117825)\",\"orientation\":\"v\",\"showlegend\":true,\"text\":[\"P13\"],\"textposition\":\"outside\",\"x\":[\"(49.8737166, -97.117825)\"],\"xaxis\":\"x\",\"y\":[\"P13\"],\"yaxis\":\"y\",\"type\":\"bar\",\"texttemplate\":\"%{text:.2s}\"},{\"alignmentgroup\":\"True\",\"hovertemplate\":\"Location=%{x}<br>Violation Code=%{text}<extra></extra>\",\"legendgroup\":\"(49.8737083, -97.117821)\",\"marker\":{\"color\":\"#FECB52\",\"pattern\":{\"shape\":\"\"}},\"name\":\"(49.8737083, -97.117821)\",\"offsetgroup\":\"(49.8737083, -97.117821)\",\"orientation\":\"v\",\"showlegend\":true,\"text\":[\"P13\"],\"textposition\":\"outside\",\"x\":[\"(49.8737083, -97.117821)\"],\"xaxis\":\"x\",\"y\":[\"P13\"],\"yaxis\":\"y\",\"type\":\"bar\",\"texttemplate\":\"%{text:.2s}\"},{\"alignmentgroup\":\"True\",\"hovertemplate\":\"Location=%{x}<br>Violation Code=%{text}<extra></extra>\",\"legendgroup\":\"(49.873245, -97.117128)\",\"marker\":{\"color\":\"#636efa\",\"pattern\":{\"shape\":\"\"}},\"name\":\"(49.873245, -97.117128)\",\"offsetgroup\":\"(49.873245, -97.117128)\",\"orientation\":\"v\",\"showlegend\":true,\"text\":[\"P13\"],\"textposition\":\"outside\",\"x\":[\"(49.873245, -97.117128)\"],\"xaxis\":\"x\",\"y\":[\"P13\"],\"yaxis\":\"y\",\"type\":\"bar\",\"texttemplate\":\"%{text:.2s}\"},{\"alignmentgroup\":\"True\",\"hovertemplate\":\"Location=%{x}<br>Violation Code=%{text}<extra></extra>\",\"legendgroup\":\"(49.8728866, -97.116798)\",\"marker\":{\"color\":\"#EF553B\",\"pattern\":{\"shape\":\"\"}},\"name\":\"(49.8728866, -97.116798)\",\"offsetgroup\":\"(49.8728866, -97.116798)\",\"orientation\":\"v\",\"showlegend\":true,\"text\":[\"P13\"],\"textposition\":\"outside\",\"x\":[\"(49.8728866, -97.116798)\"],\"xaxis\":\"x\",\"y\":[\"P13\"],\"yaxis\":\"y\",\"type\":\"bar\",\"texttemplate\":\"%{text:.2s}\"},{\"alignmentgroup\":\"True\",\"hovertemplate\":\"Location=%{x}<br>Violation Code=%{text}<extra></extra>\",\"legendgroup\":\"(49.8728, -97.116678)\",\"marker\":{\"color\":\"#00cc96\",\"pattern\":{\"shape\":\"\"}},\"name\":\"(49.8728, -97.116678)\",\"offsetgroup\":\"(49.8728, -97.116678)\",\"orientation\":\"v\",\"showlegend\":true,\"text\":[\"P13\"],\"textposition\":\"outside\",\"x\":[\"(49.8728, -97.116678)\"],\"xaxis\":\"x\",\"y\":[\"P13\"],\"yaxis\":\"y\",\"type\":\"bar\",\"texttemplate\":\"%{text:.2s}\"},{\"alignmentgroup\":\"True\",\"hovertemplate\":\"Location=%{x}<br>Violation Code=%{text}<extra></extra>\",\"legendgroup\":\"(49.873735, -97.117835)\",\"marker\":{\"color\":\"#ab63fa\",\"pattern\":{\"shape\":\"\"}},\"name\":\"(49.873735, -97.117835)\",\"offsetgroup\":\"(49.873735, -97.117835)\",\"orientation\":\"v\",\"showlegend\":true,\"text\":[\"P13\"],\"textposition\":\"outside\",\"x\":[\"(49.873735, -97.117835)\"],\"xaxis\":\"x\",\"y\":[\"P13\"],\"yaxis\":\"y\",\"type\":\"bar\",\"texttemplate\":\"%{text:.2s}\"},{\"alignmentgroup\":\"True\",\"hovertemplate\":\"Location=%{x}<br>Violation Code=%{text}<extra></extra>\",\"legendgroup\":\"(49.8742283, -97.11854)\",\"marker\":{\"color\":\"#FFA15A\",\"pattern\":{\"shape\":\"\"}},\"name\":\"(49.8742283, -97.11854)\",\"offsetgroup\":\"(49.8742283, -97.11854)\",\"orientation\":\"v\",\"showlegend\":true,\"text\":[\"P12\"],\"textposition\":\"outside\",\"x\":[\"(49.8742283, -97.11854)\"],\"xaxis\":\"x\",\"y\":[\"P12\"],\"yaxis\":\"y\",\"type\":\"bar\",\"texttemplate\":\"%{text:.2s}\"},{\"alignmentgroup\":\"True\",\"hovertemplate\":\"Location=%{x}<br>Violation Code=%{text}<extra></extra>\",\"legendgroup\":\"(49.8736766, -97.117521)\",\"marker\":{\"color\":\"#19d3f3\",\"pattern\":{\"shape\":\"\"}},\"name\":\"(49.8736766, -97.117521)\",\"offsetgroup\":\"(49.8736766, -97.117521)\",\"orientation\":\"v\",\"showlegend\":true,\"text\":[\"P13\"],\"textposition\":\"outside\",\"x\":[\"(49.8736766, -97.117521)\"],\"xaxis\":\"x\",\"y\":[\"P13\"],\"yaxis\":\"y\",\"type\":\"bar\",\"texttemplate\":\"%{text:.2s}\"},{\"alignmentgroup\":\"True\",\"hovertemplate\":\"Location=%{x}<br>Violation Code=%{text}<extra></extra>\",\"legendgroup\":\"(49.8743966, -97.118616)\",\"marker\":{\"color\":\"#FF6692\",\"pattern\":{\"shape\":\"\"}},\"name\":\"(49.8743966, -97.118616)\",\"offsetgroup\":\"(49.8743966, -97.118616)\",\"orientation\":\"v\",\"showlegend\":true,\"text\":[\"P09\"],\"textposition\":\"outside\",\"x\":[\"(49.8743966, -97.118616)\"],\"xaxis\":\"x\",\"y\":[\"P09\"],\"yaxis\":\"y\",\"type\":\"bar\",\"texttemplate\":\"%{text:.2s}\"},{\"alignmentgroup\":\"True\",\"hovertemplate\":\"Location=%{x}<br>Violation Code=%{text}<extra></extra>\",\"legendgroup\":\"(49.87247, -97.116493)\",\"marker\":{\"color\":\"#B6E880\",\"pattern\":{\"shape\":\"\"}},\"name\":\"(49.87247, -97.116493)\",\"offsetgroup\":\"(49.87247, -97.116493)\",\"orientation\":\"v\",\"showlegend\":true,\"text\":[\"P17\"],\"textposition\":\"outside\",\"x\":[\"(49.87247, -97.116493)\"],\"xaxis\":\"x\",\"y\":[\"P17\"],\"yaxis\":\"y\",\"type\":\"bar\",\"texttemplate\":\"%{text:.2s}\"},{\"alignmentgroup\":\"True\",\"hovertemplate\":\"Location=%{x}<br>Violation Code=%{text}<extra></extra>\",\"legendgroup\":\"(49.87309, -97.11701)\",\"marker\":{\"color\":\"#FF97FF\",\"pattern\":{\"shape\":\"\"}},\"name\":\"(49.87309, -97.11701)\",\"offsetgroup\":\"(49.87309, -97.11701)\",\"orientation\":\"v\",\"showlegend\":true,\"text\":[\"P13\"],\"textposition\":\"outside\",\"x\":[\"(49.87309, -97.11701)\"],\"xaxis\":\"x\",\"y\":[\"P13\"],\"yaxis\":\"y\",\"type\":\"bar\",\"texttemplate\":\"%{text:.2s}\"},{\"alignmentgroup\":\"True\",\"hovertemplate\":\"Location=%{x}<br>Violation Code=%{text}<extra></extra>\",\"legendgroup\":\"(49.8743233, -97.118496)\",\"marker\":{\"color\":\"#FECB52\",\"pattern\":{\"shape\":\"\"}},\"name\":\"(49.8743233, -97.118496)\",\"offsetgroup\":\"(49.8743233, -97.118496)\",\"orientation\":\"v\",\"showlegend\":true,\"text\":[\"P09\"],\"textposition\":\"outside\",\"x\":[\"(49.8743233, -97.118496)\"],\"xaxis\":\"x\",\"y\":[\"P09\"],\"yaxis\":\"y\",\"type\":\"bar\",\"texttemplate\":\"%{text:.2s}\"},{\"alignmentgroup\":\"True\",\"hovertemplate\":\"Location=%{x}<br>Violation Code=%{text}<extra></extra>\",\"legendgroup\":\"(49.8738416, -97.117991)\",\"marker\":{\"color\":\"#636efa\",\"pattern\":{\"shape\":\"\"}},\"name\":\"(49.8738416, -97.117991)\",\"offsetgroup\":\"(49.8738416, -97.117991)\",\"orientation\":\"v\",\"showlegend\":true,\"text\":[\"P13\"],\"textposition\":\"outside\",\"x\":[\"(49.8738416, -97.117991)\"],\"xaxis\":\"x\",\"y\":[\"P13\"],\"yaxis\":\"y\",\"type\":\"bar\",\"texttemplate\":\"%{text:.2s}\"},{\"alignmentgroup\":\"True\",\"hovertemplate\":\"Location=%{x}<br>Violation Code=%{text}<extra></extra>\",\"legendgroup\":\"(49.8736333, -97.117696)\",\"marker\":{\"color\":\"#EF553B\",\"pattern\":{\"shape\":\"\"}},\"name\":\"(49.8736333, -97.117696)\",\"offsetgroup\":\"(49.8736333, -97.117696)\",\"orientation\":\"v\",\"showlegend\":true,\"text\":[\"P13\"],\"textposition\":\"outside\",\"x\":[\"(49.8736333, -97.117696)\"],\"xaxis\":\"x\",\"y\":[\"P13\"],\"yaxis\":\"y\",\"type\":\"bar\",\"texttemplate\":\"%{text:.2s}\"},{\"alignmentgroup\":\"True\",\"hovertemplate\":\"Location=%{x}<br>Violation Code=%{text}<extra></extra>\",\"legendgroup\":\"(49.8736383, -97.11761)\",\"marker\":{\"color\":\"#00cc96\",\"pattern\":{\"shape\":\"\"}},\"name\":\"(49.8736383, -97.11761)\",\"offsetgroup\":\"(49.8736383, -97.11761)\",\"orientation\":\"v\",\"showlegend\":true,\"text\":[\"P13\"],\"textposition\":\"outside\",\"x\":[\"(49.8736383, -97.11761)\"],\"xaxis\":\"x\",\"y\":[\"P13\"],\"yaxis\":\"y\",\"type\":\"bar\",\"texttemplate\":\"%{text:.2s}\"},{\"alignmentgroup\":\"True\",\"hovertemplate\":\"Location=%{x}<br>Violation Code=%{text}<extra></extra>\",\"legendgroup\":\"(49.8736266, -97.117665)\",\"marker\":{\"color\":\"#ab63fa\",\"pattern\":{\"shape\":\"\"}},\"name\":\"(49.8736266, -97.117665)\",\"offsetgroup\":\"(49.8736266, -97.117665)\",\"orientation\":\"v\",\"showlegend\":true,\"text\":[\"P13\"],\"textposition\":\"outside\",\"x\":[\"(49.8736266, -97.117665)\"],\"xaxis\":\"x\",\"y\":[\"P13\"],\"yaxis\":\"y\",\"type\":\"bar\",\"texttemplate\":\"%{text:.2s}\"},{\"alignmentgroup\":\"True\",\"hovertemplate\":\"Location=%{x}<br>Violation Code=%{text}<extra></extra>\",\"legendgroup\":\"(49.8738183, -97.11803)\",\"marker\":{\"color\":\"#FFA15A\",\"pattern\":{\"shape\":\"\"}},\"name\":\"(49.8738183, -97.11803)\",\"offsetgroup\":\"(49.8738183, -97.11803)\",\"orientation\":\"v\",\"showlegend\":true,\"text\":[\"P13\"],\"textposition\":\"outside\",\"x\":[\"(49.8738183, -97.11803)\"],\"xaxis\":\"x\",\"y\":[\"P13\"],\"yaxis\":\"y\",\"type\":\"bar\",\"texttemplate\":\"%{text:.2s}\"},{\"alignmentgroup\":\"True\",\"hovertemplate\":\"Location=%{x}<br>Violation Code=%{text}<extra></extra>\",\"legendgroup\":\"(49.874085, -97.118583)\",\"marker\":{\"color\":\"#19d3f3\",\"pattern\":{\"shape\":\"\"}},\"name\":\"(49.874085, -97.118583)\",\"offsetgroup\":\"(49.874085, -97.118583)\",\"orientation\":\"v\",\"showlegend\":true,\"text\":[\"P17\"],\"textposition\":\"outside\",\"x\":[\"(49.874085, -97.118583)\"],\"xaxis\":\"x\",\"y\":[\"P17\"],\"yaxis\":\"y\",\"type\":\"bar\",\"texttemplate\":\"%{text:.2s}\"},{\"alignmentgroup\":\"True\",\"hovertemplate\":\"Location=%{x}<br>Violation Code=%{text}<extra></extra>\",\"legendgroup\":\"(49.8735383, -97.117498)\",\"marker\":{\"color\":\"#FF6692\",\"pattern\":{\"shape\":\"\"}},\"name\":\"(49.8735383, -97.117498)\",\"offsetgroup\":\"(49.8735383, -97.117498)\",\"orientation\":\"v\",\"showlegend\":true,\"text\":[\"P13\"],\"textposition\":\"outside\",\"x\":[\"(49.8735383, -97.117498)\"],\"xaxis\":\"x\",\"y\":[\"P13\"],\"yaxis\":\"y\",\"type\":\"bar\",\"texttemplate\":\"%{text:.2s}\"},{\"alignmentgroup\":\"True\",\"hovertemplate\":\"Location=%{x}<br>Violation Code=%{text}<extra></extra>\",\"legendgroup\":\"(49.87336, -97.117305)\",\"marker\":{\"color\":\"#B6E880\",\"pattern\":{\"shape\":\"\"}},\"name\":\"(49.87336, -97.117305)\",\"offsetgroup\":\"(49.87336, -97.117305)\",\"orientation\":\"v\",\"showlegend\":true,\"text\":[\"P13\"],\"textposition\":\"outside\",\"x\":[\"(49.87336, -97.117305)\"],\"xaxis\":\"x\",\"y\":[\"P13\"],\"yaxis\":\"y\",\"type\":\"bar\",\"texttemplate\":\"%{text:.2s}\"},{\"alignmentgroup\":\"True\",\"hovertemplate\":\"Location=%{x}<br>Violation Code=%{text}<extra></extra>\",\"legendgroup\":\"(49.87301, -97.116975)\",\"marker\":{\"color\":\"#FF97FF\",\"pattern\":{\"shape\":\"\"}},\"name\":\"(49.87301, -97.116975)\",\"offsetgroup\":\"(49.87301, -97.116975)\",\"orientation\":\"v\",\"showlegend\":true,\"text\":[\"P13\"],\"textposition\":\"outside\",\"x\":[\"(49.87301, -97.116975)\"],\"xaxis\":\"x\",\"y\":[\"P13\"],\"yaxis\":\"y\",\"type\":\"bar\",\"texttemplate\":\"%{text:.2s}\"},{\"alignmentgroup\":\"True\",\"hovertemplate\":\"Location=%{x}<br>Violation Code=%{text}<extra></extra>\",\"legendgroup\":\"(49.8731, -97.1171)\",\"marker\":{\"color\":\"#FECB52\",\"pattern\":{\"shape\":\"\"}},\"name\":\"(49.8731, -97.1171)\",\"offsetgroup\":\"(49.8731, -97.1171)\",\"orientation\":\"v\",\"showlegend\":true,\"text\":[\"P13\"],\"textposition\":\"outside\",\"x\":[\"(49.8731, -97.1171)\"],\"xaxis\":\"x\",\"y\":[\"P13\"],\"yaxis\":\"y\",\"type\":\"bar\",\"texttemplate\":\"%{text:.2s}\"},{\"alignmentgroup\":\"True\",\"hovertemplate\":\"Location=%{x}<br>Violation Code=%{text}<extra></extra>\",\"legendgroup\":\"(49.8732, -97.1171)\",\"marker\":{\"color\":\"#636efa\",\"pattern\":{\"shape\":\"\"}},\"name\":\"(49.8732, -97.1171)\",\"offsetgroup\":\"(49.8732, -97.1171)\",\"orientation\":\"v\",\"showlegend\":true,\"text\":[\"P13\"],\"textposition\":\"outside\",\"x\":[\"(49.8732, -97.1171)\"],\"xaxis\":\"x\",\"y\":[\"P13\"],\"yaxis\":\"y\",\"type\":\"bar\",\"texttemplate\":\"%{text:.2s}\"},{\"alignmentgroup\":\"True\",\"hovertemplate\":\"Location=%{x}<br>Violation Code=%{text}<extra></extra>\",\"legendgroup\":\"(49.8728, -97.1167)\",\"marker\":{\"color\":\"#EF553B\",\"pattern\":{\"shape\":\"\"}},\"name\":\"(49.8728, -97.1167)\",\"offsetgroup\":\"(49.8728, -97.1167)\",\"orientation\":\"v\",\"showlegend\":true,\"text\":[\"P09\"],\"textposition\":\"outside\",\"x\":[\"(49.8728, -97.1167)\"],\"xaxis\":\"x\",\"y\":[\"P09\"],\"yaxis\":\"y\",\"type\":\"bar\",\"texttemplate\":\"%{text:.2s}\"},{\"alignmentgroup\":\"True\",\"hovertemplate\":\"Location=%{x}<br>Violation Code=%{text}<extra></extra>\",\"legendgroup\":\"(49.8734, -97.1174)\",\"marker\":{\"color\":\"#00cc96\",\"pattern\":{\"shape\":\"\"}},\"name\":\"(49.8734, -97.1174)\",\"offsetgroup\":\"(49.8734, -97.1174)\",\"orientation\":\"v\",\"showlegend\":true,\"text\":[\"P54\"],\"textposition\":\"outside\",\"x\":[\"(49.8734, -97.1174)\"],\"xaxis\":\"x\",\"y\":[\"P54\"],\"yaxis\":\"y\",\"type\":\"bar\",\"texttemplate\":\"%{text:.2s}\"},{\"alignmentgroup\":\"True\",\"hovertemplate\":\"Location=%{x}<br>Violation Code=%{text}<extra></extra>\",\"legendgroup\":\"(49.873, -97.117)\",\"marker\":{\"color\":\"#ab63fa\",\"pattern\":{\"shape\":\"\"}},\"name\":\"(49.873, -97.117)\",\"offsetgroup\":\"(49.873, -97.117)\",\"orientation\":\"v\",\"showlegend\":true,\"text\":[\"P13\"],\"textposition\":\"outside\",\"x\":[\"(49.873, -97.117)\"],\"xaxis\":\"x\",\"y\":[\"P13\"],\"yaxis\":\"y\",\"type\":\"bar\",\"texttemplate\":\"%{text:.2s}\"},{\"alignmentgroup\":\"True\",\"hovertemplate\":\"Location=%{x}<br>Violation Code=%{text}<extra></extra>\",\"legendgroup\":\"(49.8731, -97.1172)\",\"marker\":{\"color\":\"#FFA15A\",\"pattern\":{\"shape\":\"\"}},\"name\":\"(49.8731, -97.1172)\",\"offsetgroup\":\"(49.8731, -97.1172)\",\"orientation\":\"v\",\"showlegend\":true,\"text\":[\"P54\"],\"textposition\":\"outside\",\"x\":[\"(49.8731, -97.1172)\"],\"xaxis\":\"x\",\"y\":[\"P54\"],\"yaxis\":\"y\",\"type\":\"bar\",\"texttemplate\":\"%{text:.2s}\"}],                        {\"template\":{\"data\":{\"histogram2dcontour\":[{\"type\":\"histogram2dcontour\",\"colorbar\":{\"outlinewidth\":0,\"ticks\":\"\"},\"colorscale\":[[0.0,\"#0d0887\"],[0.1111111111111111,\"#46039f\"],[0.2222222222222222,\"#7201a8\"],[0.3333333333333333,\"#9c179e\"],[0.4444444444444444,\"#bd3786\"],[0.5555555555555556,\"#d8576b\"],[0.6666666666666666,\"#ed7953\"],[0.7777777777777778,\"#fb9f3a\"],[0.8888888888888888,\"#fdca26\"],[1.0,\"#f0f921\"]]}],\"choropleth\":[{\"type\":\"choropleth\",\"colorbar\":{\"outlinewidth\":0,\"ticks\":\"\"}}],\"histogram2d\":[{\"type\":\"histogram2d\",\"colorbar\":{\"outlinewidth\":0,\"ticks\":\"\"},\"colorscale\":[[0.0,\"#0d0887\"],[0.1111111111111111,\"#46039f\"],[0.2222222222222222,\"#7201a8\"],[0.3333333333333333,\"#9c179e\"],[0.4444444444444444,\"#bd3786\"],[0.5555555555555556,\"#d8576b\"],[0.6666666666666666,\"#ed7953\"],[0.7777777777777778,\"#fb9f3a\"],[0.8888888888888888,\"#fdca26\"],[1.0,\"#f0f921\"]]}],\"heatmap\":[{\"type\":\"heatmap\",\"colorbar\":{\"outlinewidth\":0,\"ticks\":\"\"},\"colorscale\":[[0.0,\"#0d0887\"],[0.1111111111111111,\"#46039f\"],[0.2222222222222222,\"#7201a8\"],[0.3333333333333333,\"#9c179e\"],[0.4444444444444444,\"#bd3786\"],[0.5555555555555556,\"#d8576b\"],[0.6666666666666666,\"#ed7953\"],[0.7777777777777778,\"#fb9f3a\"],[0.8888888888888888,\"#fdca26\"],[1.0,\"#f0f921\"]]}],\"heatmapgl\":[{\"type\":\"heatmapgl\",\"colorbar\":{\"outlinewidth\":0,\"ticks\":\"\"},\"colorscale\":[[0.0,\"#0d0887\"],[0.1111111111111111,\"#46039f\"],[0.2222222222222222,\"#7201a8\"],[0.3333333333333333,\"#9c179e\"],[0.4444444444444444,\"#bd3786\"],[0.5555555555555556,\"#d8576b\"],[0.6666666666666666,\"#ed7953\"],[0.7777777777777778,\"#fb9f3a\"],[0.8888888888888888,\"#fdca26\"],[1.0,\"#f0f921\"]]}],\"contourcarpet\":[{\"type\":\"contourcarpet\",\"colorbar\":{\"outlinewidth\":0,\"ticks\":\"\"}}],\"contour\":[{\"type\":\"contour\",\"colorbar\":{\"outlinewidth\":0,\"ticks\":\"\"},\"colorscale\":[[0.0,\"#0d0887\"],[0.1111111111111111,\"#46039f\"],[0.2222222222222222,\"#7201a8\"],[0.3333333333333333,\"#9c179e\"],[0.4444444444444444,\"#bd3786\"],[0.5555555555555556,\"#d8576b\"],[0.6666666666666666,\"#ed7953\"],[0.7777777777777778,\"#fb9f3a\"],[0.8888888888888888,\"#fdca26\"],[1.0,\"#f0f921\"]]}],\"surface\":[{\"type\":\"surface\",\"colorbar\":{\"outlinewidth\":0,\"ticks\":\"\"},\"colorscale\":[[0.0,\"#0d0887\"],[0.1111111111111111,\"#46039f\"],[0.2222222222222222,\"#7201a8\"],[0.3333333333333333,\"#9c179e\"],[0.4444444444444444,\"#bd3786\"],[0.5555555555555556,\"#d8576b\"],[0.6666666666666666,\"#ed7953\"],[0.7777777777777778,\"#fb9f3a\"],[0.8888888888888888,\"#fdca26\"],[1.0,\"#f0f921\"]]}],\"mesh3d\":[{\"type\":\"mesh3d\",\"colorbar\":{\"outlinewidth\":0,\"ticks\":\"\"}}],\"scatter\":[{\"marker\":{\"line\":{\"color\":\"#283442\"}},\"type\":\"scatter\"}],\"parcoords\":[{\"type\":\"parcoords\",\"line\":{\"colorbar\":{\"outlinewidth\":0,\"ticks\":\"\"}}}],\"scatterpolargl\":[{\"type\":\"scatterpolargl\",\"marker\":{\"colorbar\":{\"outlinewidth\":0,\"ticks\":\"\"}}}],\"bar\":[{\"error_x\":{\"color\":\"#f2f5fa\"},\"error_y\":{\"color\":\"#f2f5fa\"},\"marker\":{\"line\":{\"color\":\"rgb(17,17,17)\",\"width\":0.5},\"pattern\":{\"fillmode\":\"overlay\",\"size\":10,\"solidity\":0.2}},\"type\":\"bar\"}],\"scattergeo\":[{\"type\":\"scattergeo\",\"marker\":{\"colorbar\":{\"outlinewidth\":0,\"ticks\":\"\"}}}],\"scatterpolar\":[{\"type\":\"scatterpolar\",\"marker\":{\"colorbar\":{\"outlinewidth\":0,\"ticks\":\"\"}}}],\"histogram\":[{\"marker\":{\"pattern\":{\"fillmode\":\"overlay\",\"size\":10,\"solidity\":0.2}},\"type\":\"histogram\"}],\"scattergl\":[{\"marker\":{\"line\":{\"color\":\"#283442\"}},\"type\":\"scattergl\"}],\"scatter3d\":[{\"type\":\"scatter3d\",\"line\":{\"colorbar\":{\"outlinewidth\":0,\"ticks\":\"\"}},\"marker\":{\"colorbar\":{\"outlinewidth\":0,\"ticks\":\"\"}}}],\"scattermapbox\":[{\"type\":\"scattermapbox\",\"marker\":{\"colorbar\":{\"outlinewidth\":0,\"ticks\":\"\"}}}],\"scatterternary\":[{\"type\":\"scatterternary\",\"marker\":{\"colorbar\":{\"outlinewidth\":0,\"ticks\":\"\"}}}],\"scattercarpet\":[{\"type\":\"scattercarpet\",\"marker\":{\"colorbar\":{\"outlinewidth\":0,\"ticks\":\"\"}}}],\"carpet\":[{\"aaxis\":{\"endlinecolor\":\"#A2B1C6\",\"gridcolor\":\"#506784\",\"linecolor\":\"#506784\",\"minorgridcolor\":\"#506784\",\"startlinecolor\":\"#A2B1C6\"},\"baxis\":{\"endlinecolor\":\"#A2B1C6\",\"gridcolor\":\"#506784\",\"linecolor\":\"#506784\",\"minorgridcolor\":\"#506784\",\"startlinecolor\":\"#A2B1C6\"},\"type\":\"carpet\"}],\"table\":[{\"cells\":{\"fill\":{\"color\":\"#506784\"},\"line\":{\"color\":\"rgb(17,17,17)\"}},\"header\":{\"fill\":{\"color\":\"#2a3f5f\"},\"line\":{\"color\":\"rgb(17,17,17)\"}},\"type\":\"table\"}],\"barpolar\":[{\"marker\":{\"line\":{\"color\":\"rgb(17,17,17)\",\"width\":0.5},\"pattern\":{\"fillmode\":\"overlay\",\"size\":10,\"solidity\":0.2}},\"type\":\"barpolar\"}],\"pie\":[{\"automargin\":true,\"type\":\"pie\"}]},\"layout\":{\"autotypenumbers\":\"strict\",\"colorway\":[\"#636efa\",\"#EF553B\",\"#00cc96\",\"#ab63fa\",\"#FFA15A\",\"#19d3f3\",\"#FF6692\",\"#B6E880\",\"#FF97FF\",\"#FECB52\"],\"font\":{\"color\":\"#f2f5fa\"},\"hovermode\":\"closest\",\"hoverlabel\":{\"align\":\"left\"},\"paper_bgcolor\":\"rgb(17,17,17)\",\"plot_bgcolor\":\"rgb(17,17,17)\",\"polar\":{\"bgcolor\":\"rgb(17,17,17)\",\"angularaxis\":{\"gridcolor\":\"#506784\",\"linecolor\":\"#506784\",\"ticks\":\"\"},\"radialaxis\":{\"gridcolor\":\"#506784\",\"linecolor\":\"#506784\",\"ticks\":\"\"}},\"ternary\":{\"bgcolor\":\"rgb(17,17,17)\",\"aaxis\":{\"gridcolor\":\"#506784\",\"linecolor\":\"#506784\",\"ticks\":\"\"},\"baxis\":{\"gridcolor\":\"#506784\",\"linecolor\":\"#506784\",\"ticks\":\"\"},\"caxis\":{\"gridcolor\":\"#506784\",\"linecolor\":\"#506784\",\"ticks\":\"\"}},\"coloraxis\":{\"colorbar\":{\"outlinewidth\":0,\"ticks\":\"\"}},\"colorscale\":{\"sequential\":[[0.0,\"#0d0887\"],[0.1111111111111111,\"#46039f\"],[0.2222222222222222,\"#7201a8\"],[0.3333333333333333,\"#9c179e\"],[0.4444444444444444,\"#bd3786\"],[0.5555555555555556,\"#d8576b\"],[0.6666666666666666,\"#ed7953\"],[0.7777777777777778,\"#fb9f3a\"],[0.8888888888888888,\"#fdca26\"],[1.0,\"#f0f921\"]],\"sequentialminus\":[[0.0,\"#0d0887\"],[0.1111111111111111,\"#46039f\"],[0.2222222222222222,\"#7201a8\"],[0.3333333333333333,\"#9c179e\"],[0.4444444444444444,\"#bd3786\"],[0.5555555555555556,\"#d8576b\"],[0.6666666666666666,\"#ed7953\"],[0.7777777777777778,\"#fb9f3a\"],[0.8888888888888888,\"#fdca26\"],[1.0,\"#f0f921\"]],\"diverging\":[[0,\"#8e0152\"],[0.1,\"#c51b7d\"],[0.2,\"#de77ae\"],[0.3,\"#f1b6da\"],[0.4,\"#fde0ef\"],[0.5,\"#f7f7f7\"],[0.6,\"#e6f5d0\"],[0.7,\"#b8e186\"],[0.8,\"#7fbc41\"],[0.9,\"#4d9221\"],[1,\"#276419\"]]},\"xaxis\":{\"gridcolor\":\"#283442\",\"linecolor\":\"#506784\",\"ticks\":\"\",\"title\":{\"standoff\":15},\"zerolinecolor\":\"#283442\",\"automargin\":true,\"zerolinewidth\":2},\"yaxis\":{\"gridcolor\":\"#283442\",\"linecolor\":\"#506784\",\"ticks\":\"\",\"title\":{\"standoff\":15},\"zerolinecolor\":\"#283442\",\"automargin\":true,\"zerolinewidth\":2},\"scene\":{\"xaxis\":{\"backgroundcolor\":\"rgb(17,17,17)\",\"gridcolor\":\"#506784\",\"linecolor\":\"#506784\",\"showbackground\":true,\"ticks\":\"\",\"zerolinecolor\":\"#C8D4E3\",\"gridwidth\":2},\"yaxis\":{\"backgroundcolor\":\"rgb(17,17,17)\",\"gridcolor\":\"#506784\",\"linecolor\":\"#506784\",\"showbackground\":true,\"ticks\":\"\",\"zerolinecolor\":\"#C8D4E3\",\"gridwidth\":2},\"zaxis\":{\"backgroundcolor\":\"rgb(17,17,17)\",\"gridcolor\":\"#506784\",\"linecolor\":\"#506784\",\"showbackground\":true,\"ticks\":\"\",\"zerolinecolor\":\"#C8D4E3\",\"gridwidth\":2}},\"shapedefaults\":{\"line\":{\"color\":\"#f2f5fa\"}},\"annotationdefaults\":{\"arrowcolor\":\"#f2f5fa\",\"arrowhead\":0,\"arrowwidth\":1},\"geo\":{\"bgcolor\":\"rgb(17,17,17)\",\"landcolor\":\"rgb(17,17,17)\",\"subunitcolor\":\"#506784\",\"showland\":true,\"showlakes\":true,\"lakecolor\":\"rgb(17,17,17)\"},\"title\":{\"x\":0.05},\"updatemenudefaults\":{\"bgcolor\":\"#506784\",\"borderwidth\":0},\"sliderdefaults\":{\"bgcolor\":\"#C8D4E3\",\"borderwidth\":1,\"bordercolor\":\"rgb(17,17,17)\",\"tickwidth\":0},\"mapbox\":{\"style\":\"dark\"}}},\"xaxis\":{\"anchor\":\"y\",\"domain\":[0.0,1.0],\"title\":{\"text\":\"Location\"},\"categoryorder\":\"array\",\"categoryarray\":[\"(49.873, -97.1171)\",\"(49.8733, -97.1173)\",\"(49.8737, -97.1178)\",\"(49.8737, -97.1177)\",\"(49.8735, -97.1175)\",\"(49.8745, -97.1188)\",\"(49.8436, -97.091)\",\"(49.8744, -97.1184)\",\"(49.8733, -97.1171)\",\"(49.8736, -97.1177)\",\"(49.873475, -97.117528)\",\"(49.8737916, -97.117953)\",\"(49.8736, -97.1176)\",\"(49.874, -97.1187)\",\"(49.8744, -97.1185)\",\"(49.874, -97.1186)\",\"(49.8737, -97.1179)\",\"(49.8744, -97.1187)\",\"(49.8739, -97.1179)\",\"(49.8743466, -97.118556)\",\"(49.8752716, -97.119451)\",\"(49.87426, -97.1185)\",\"(49.8743633, -97.118573)\",\"(49.8730366, -97.117045)\",\"(49.8727683, -97.116568)\",\"(49.8730716, -97.116991)\",\"(49.8728866, -97.116813)\",\"(49.8743466, -97.118581)\",\"(49.874145, -97.118418)\",\"(49.874195, -97.118496)\",\"(49.8735, -97.117473)\",\"(49.8743766, -97.118613)\",\"(49.8742333, -97.118451)\",\"(49.8748216, -97.118965)\",\"(49.8754866, -97.119853)\",\"(49.8749683, -97.119215)\",\"(49.8751833, -97.119511)\",\"(49.8748166, -97.119081)\",\"(49.8753833, -97.119613)\",\"(49.87462, -97.118931)\",\"(49.874935, -97.119171)\",\"(49.8745816, -97.118895)\",\"(49.8747716, -97.119058)\",\"(49.8742883, -97.118566)\",\"(49.873435, -97.117408)\",\"(49.8731783, -97.117181)\",\"(49.8734316, -97.117501)\",\"(49.873415, -97.117355)\",\"(49.8728616, -97.116691)\",\"(49.8743983, -97.11867)\",\"(49.872845, -97.1167)\",\"(49.8747016, -97.119011)\",\"(49.8739583, -97.118101)\",\"(49.8742883, -97.118725)\",\"(49.8728033, -97.116733)\",\"(49.8743683, -97.118788)\",\"(49.8744366, -97.118726)\",\"(49.8744433, -97.118761)\",\"(49.8751216, -97.119441)\",\"(49.8738083, -97.117971)\",\"(49.8751966, -97.11934)\",\"(49.874275, -97.118611)\",\"(49.8742633, -97.11854)\",\"(49.8742833, -97.118488)\",\"(49.8751216, -97.119378)\",\"(49.8732833, -97.117331)\",\"(49.8742683, -97.118568)\",\"(49.87434, -97.118623)\",\"(49.87444, -97.118768)\",\"(49.87433, -97.11852)\",\"(49.87444, -97.118786)\",\"(49.8724666, -97.116586)\",\"(49.8742233, -97.11842)\",\"(49.8744033, -97.118653)\",\"(49.8743066, -97.11858)\",\"(49.8753383, -97.119958)\",\"(49.8728083, -97.116613)\",\"(49.8743516, -97.118526)\",\"(49.8740633, -97.118486)\",\"(49.8737466, -97.117816)\",\"(49.87357, -97.117713)\",\"(49.8732016, -97.117183)\",\"(49.8732083, -97.117163)\",\"(49.8728033, -97.116751)\",\"(49.8732483, -97.117198)\",\"(49.8736533, -97.117665)\",\"(49.87426, -97.11854)\",\"(49.87432, -97.118493)\",\"(49.8737166, -97.117825)\",\"(49.8737083, -97.117821)\",\"(49.873245, -97.117128)\",\"(49.8728866, -97.116798)\",\"(49.8728, -97.116678)\",\"(49.873735, -97.117835)\",\"(49.8742283, -97.11854)\",\"(49.8736766, -97.117521)\",\"(49.8743966, -97.118616)\",\"(49.87247, -97.116493)\",\"(49.87309, -97.11701)\",\"(49.8743233, -97.118496)\",\"(49.8738416, -97.117991)\",\"(49.8736333, -97.117696)\",\"(49.8736383, -97.11761)\",\"(49.8736266, -97.117665)\",\"(49.8738183, -97.11803)\",\"(49.874085, -97.118583)\",\"(49.8735383, -97.117498)\",\"(49.87336, -97.117305)\",\"(49.87301, -97.116975)\",\"(49.8731, -97.1171)\",\"(49.8732, -97.1171)\",\"(49.8728, -97.1167)\",\"(49.8734, -97.1174)\",\"(49.873, -97.117)\",\"(49.8731, -97.1172)\"],\"tickangle\":-45},\"yaxis\":{\"anchor\":\"x\",\"domain\":[0.0,1.0],\"title\":{\"text\":\"Violation Code\"}},\"legend\":{\"title\":{\"text\":\"Location\"},\"tracegroupgap\":0},\"margin\":{\"t\":60},\"barmode\":\"relative\",\"uniformtext\":{\"minsize\":8}},                        {\"responsive\": true}                    ).then(function(){\n                            \nvar gd = document.getElementById('45e19910-8e1b-4773-a236-61e3752342ad');\nvar x = new MutationObserver(function (mutations, observer) {{\n        var display = window.getComputedStyle(gd).display;\n        if (!display || display === 'none') {{\n            console.log([gd, 'removed!']);\n            Plotly.purge(gd);\n            observer.disconnect();\n        }}\n}});\n\n// Listen for the removal of the full notebook cells\nvar notebookContainer = gd.closest('#notebook-container');\nif (notebookContainer) {{\n    x.observe(notebookContainer, {childList: true});\n}}\n\n// Listen for the clearing of the current output cell\nvar outputEl = gd.closest('.output');\nif (outputEl) {{\n    x.observe(outputEl, {childList: true});\n}}\n\n                        })                };                });            </script>        </div>"
     },
     "metadata": {},
     "output_type": "display_data"
    }
   ],
   "source": [
    "park_data['Date'] = pd.to_datetime(park_data['Date'])     # skip if your Date column already in datetime format\n",
    "park_data['Day of Week'] = park_data['Date'].dt.dayofweek\n",
    "hag_data = park_data.query(\"Street == 'Lloyd ST'\")\n",
    "fig = px.bar(hag_data, y='Violation Code', x='Location', text='Violation Code', color='Location')\n",
    "fig.update_traces(texttemplate='%{text:.2s}', textposition='outside')\n",
    "fig.update_layout(uniformtext_minsize=8)\n",
    "fig.update_layout(xaxis_tickangle=-45)\n",
    "fig"
   ]
  },
  {
   "cell_type": "code",
   "execution_count": 13,
   "metadata": {
    "pycharm": {
     "name": "#%%\n"
    }
   },
   "outputs": [
    {
     "data": {
      "application/vnd.plotly.v1+json": {
       "data": [
        {
         "alignmentgroup": "True",
         "hovertemplate": "Full Fine=%{x}<br>Day of Week=%{marker.color}<extra></extra>",
         "legendgroup": "",
         "marker": {
          "color": [
           0,
           3,
           1,
           3,
           2,
           6,
           1,
           6,
           4,
           0,
           1,
           1,
           6,
           4,
           3,
           4,
           4,
           3,
           6,
           2,
           4,
           2,
           1,
           6,
           5,
           0,
           6,
           5,
           3,
           3,
           3,
           3,
           5,
           1,
           6,
           2,
           2,
           0,
           2,
           3,
           1,
           1,
           5,
           5,
           1,
           5,
           6,
           5,
           6,
           5,
           5,
           5,
           5,
           5,
           5,
           5,
           5,
           5,
           4,
           1,
           6,
           5,
           6,
           4,
           4,
           4,
           4,
           6,
           1,
           0,
           4,
           4,
           6,
           5,
           2,
           2,
           1,
           1,
           6,
           4,
           5,
           0,
           0,
           2,
           1,
           0,
           5,
           6,
           2,
           3,
           2,
           2,
           6,
           2,
           2,
           5,
           5,
           2,
           5,
           3,
           4,
           5,
           3,
           5,
           2,
           2,
           1,
           1,
           5,
           5,
           4,
           5,
           0,
           4,
           1,
           5,
           0,
           1,
           0,
           4,
           2,
           5,
           1,
           1,
           4,
           6
          ],
          "coloraxis": "coloraxis",
          "pattern": {
           "shape": ""
          }
         },
         "name": "",
         "offsetgroup": "",
         "orientation": "v",
         "showlegend": false,
         "textposition": "auto",
         "x": [
          100.0,
          100.0,
          100.0,
          300.0,
          100.0,
          300.0,
          100.0,
          100.0,
          100.0,
          100.0,
          100.0,
          70.0,
          100.0,
          100.0,
          100.0,
          100.0,
          100.0,
          70.0,
          70.0,
          70.0,
          100.0,
          70.0,
          100.0,
          70.0,
          70.0,
          70.0,
          70.0,
          70.0,
          150.0,
          150.0,
          150.0,
          150.0,
          70.0,
          70.0,
          70.0,
          70.0,
          70.0,
          70.0,
          70.0,
          100.0,
          70.0,
          70.0,
          150.0,
          150.0,
          70.0,
          150.0,
          100.0,
          150.0,
          70.0,
          150.0,
          150.0,
          150.0,
          150.0,
          150.0,
          150.0,
          150.0,
          150.0,
          150.0,
          70.0,
          70.0,
          70.0,
          70.0,
          70.0,
          70.0,
          70.0,
          70.0,
          70.0,
          70.0,
          70.0,
          70.0,
          70.0,
          70.0,
          70.0,
          70.0,
          70.0,
          70.0,
          70.0,
          70.0,
          70.0,
          100.0,
          70.0,
          100.0,
          70.0,
          100.0,
          70.0,
          100.0,
          100.0,
          100.0,
          100.0,
          100.0,
          100.0,
          100.0,
          70.0,
          70.0,
          100.0,
          100.0,
          100.0,
          100.0,
          100.0,
          100.0,
          70.0,
          100.0,
          100.0,
          70.0,
          100.0,
          100.0,
          100.0,
          100.0,
          100.0,
          100.0,
          100.0,
          70.0,
          100.0,
          100.0,
          100.0,
          300.0,
          100.0,
          100.0,
          100.0,
          100.0,
          300.0,
          300.0,
          100.0,
          300.0,
          100.0,
          300.0
         ],
         "xaxis": "x",
         "y": [
          0,
          3,
          1,
          3,
          2,
          6,
          1,
          6,
          4,
          0,
          1,
          1,
          6,
          4,
          3,
          4,
          4,
          3,
          6,
          2,
          4,
          2,
          1,
          6,
          5,
          0,
          6,
          5,
          3,
          3,
          3,
          3,
          5,
          1,
          6,
          2,
          2,
          0,
          2,
          3,
          1,
          1,
          5,
          5,
          1,
          5,
          6,
          5,
          6,
          5,
          5,
          5,
          5,
          5,
          5,
          5,
          5,
          5,
          4,
          1,
          6,
          5,
          6,
          4,
          4,
          4,
          4,
          6,
          1,
          0,
          4,
          4,
          6,
          5,
          2,
          2,
          1,
          1,
          6,
          4,
          5,
          0,
          0,
          2,
          1,
          0,
          5,
          6,
          2,
          3,
          2,
          2,
          6,
          2,
          2,
          5,
          5,
          2,
          5,
          3,
          4,
          5,
          3,
          5,
          2,
          2,
          1,
          1,
          5,
          5,
          4,
          5,
          0,
          4,
          1,
          5,
          0,
          1,
          0,
          4,
          2,
          5,
          1,
          1,
          4,
          6
         ],
         "yaxis": "y",
         "type": "bar"
        }
       ],
       "layout": {
        "template": {
         "data": {
          "histogram2dcontour": [
           {
            "type": "histogram2dcontour",
            "colorbar": {
             "outlinewidth": 0,
             "ticks": ""
            },
            "colorscale": [
             [
              0.0,
              "#0d0887"
             ],
             [
              0.1111111111111111,
              "#46039f"
             ],
             [
              0.2222222222222222,
              "#7201a8"
             ],
             [
              0.3333333333333333,
              "#9c179e"
             ],
             [
              0.4444444444444444,
              "#bd3786"
             ],
             [
              0.5555555555555556,
              "#d8576b"
             ],
             [
              0.6666666666666666,
              "#ed7953"
             ],
             [
              0.7777777777777778,
              "#fb9f3a"
             ],
             [
              0.8888888888888888,
              "#fdca26"
             ],
             [
              1.0,
              "#f0f921"
             ]
            ]
           }
          ],
          "choropleth": [
           {
            "type": "choropleth",
            "colorbar": {
             "outlinewidth": 0,
             "ticks": ""
            }
           }
          ],
          "histogram2d": [
           {
            "type": "histogram2d",
            "colorbar": {
             "outlinewidth": 0,
             "ticks": ""
            },
            "colorscale": [
             [
              0.0,
              "#0d0887"
             ],
             [
              0.1111111111111111,
              "#46039f"
             ],
             [
              0.2222222222222222,
              "#7201a8"
             ],
             [
              0.3333333333333333,
              "#9c179e"
             ],
             [
              0.4444444444444444,
              "#bd3786"
             ],
             [
              0.5555555555555556,
              "#d8576b"
             ],
             [
              0.6666666666666666,
              "#ed7953"
             ],
             [
              0.7777777777777778,
              "#fb9f3a"
             ],
             [
              0.8888888888888888,
              "#fdca26"
             ],
             [
              1.0,
              "#f0f921"
             ]
            ]
           }
          ],
          "heatmap": [
           {
            "type": "heatmap",
            "colorbar": {
             "outlinewidth": 0,
             "ticks": ""
            },
            "colorscale": [
             [
              0.0,
              "#0d0887"
             ],
             [
              0.1111111111111111,
              "#46039f"
             ],
             [
              0.2222222222222222,
              "#7201a8"
             ],
             [
              0.3333333333333333,
              "#9c179e"
             ],
             [
              0.4444444444444444,
              "#bd3786"
             ],
             [
              0.5555555555555556,
              "#d8576b"
             ],
             [
              0.6666666666666666,
              "#ed7953"
             ],
             [
              0.7777777777777778,
              "#fb9f3a"
             ],
             [
              0.8888888888888888,
              "#fdca26"
             ],
             [
              1.0,
              "#f0f921"
             ]
            ]
           }
          ],
          "heatmapgl": [
           {
            "type": "heatmapgl",
            "colorbar": {
             "outlinewidth": 0,
             "ticks": ""
            },
            "colorscale": [
             [
              0.0,
              "#0d0887"
             ],
             [
              0.1111111111111111,
              "#46039f"
             ],
             [
              0.2222222222222222,
              "#7201a8"
             ],
             [
              0.3333333333333333,
              "#9c179e"
             ],
             [
              0.4444444444444444,
              "#bd3786"
             ],
             [
              0.5555555555555556,
              "#d8576b"
             ],
             [
              0.6666666666666666,
              "#ed7953"
             ],
             [
              0.7777777777777778,
              "#fb9f3a"
             ],
             [
              0.8888888888888888,
              "#fdca26"
             ],
             [
              1.0,
              "#f0f921"
             ]
            ]
           }
          ],
          "contourcarpet": [
           {
            "type": "contourcarpet",
            "colorbar": {
             "outlinewidth": 0,
             "ticks": ""
            }
           }
          ],
          "contour": [
           {
            "type": "contour",
            "colorbar": {
             "outlinewidth": 0,
             "ticks": ""
            },
            "colorscale": [
             [
              0.0,
              "#0d0887"
             ],
             [
              0.1111111111111111,
              "#46039f"
             ],
             [
              0.2222222222222222,
              "#7201a8"
             ],
             [
              0.3333333333333333,
              "#9c179e"
             ],
             [
              0.4444444444444444,
              "#bd3786"
             ],
             [
              0.5555555555555556,
              "#d8576b"
             ],
             [
              0.6666666666666666,
              "#ed7953"
             ],
             [
              0.7777777777777778,
              "#fb9f3a"
             ],
             [
              0.8888888888888888,
              "#fdca26"
             ],
             [
              1.0,
              "#f0f921"
             ]
            ]
           }
          ],
          "surface": [
           {
            "type": "surface",
            "colorbar": {
             "outlinewidth": 0,
             "ticks": ""
            },
            "colorscale": [
             [
              0.0,
              "#0d0887"
             ],
             [
              0.1111111111111111,
              "#46039f"
             ],
             [
              0.2222222222222222,
              "#7201a8"
             ],
             [
              0.3333333333333333,
              "#9c179e"
             ],
             [
              0.4444444444444444,
              "#bd3786"
             ],
             [
              0.5555555555555556,
              "#d8576b"
             ],
             [
              0.6666666666666666,
              "#ed7953"
             ],
             [
              0.7777777777777778,
              "#fb9f3a"
             ],
             [
              0.8888888888888888,
              "#fdca26"
             ],
             [
              1.0,
              "#f0f921"
             ]
            ]
           }
          ],
          "mesh3d": [
           {
            "type": "mesh3d",
            "colorbar": {
             "outlinewidth": 0,
             "ticks": ""
            }
           }
          ],
          "scatter": [
           {
            "marker": {
             "line": {
              "color": "#283442"
             }
            },
            "type": "scatter"
           }
          ],
          "parcoords": [
           {
            "type": "parcoords",
            "line": {
             "colorbar": {
              "outlinewidth": 0,
              "ticks": ""
             }
            }
           }
          ],
          "scatterpolargl": [
           {
            "type": "scatterpolargl",
            "marker": {
             "colorbar": {
              "outlinewidth": 0,
              "ticks": ""
             }
            }
           }
          ],
          "bar": [
           {
            "error_x": {
             "color": "#f2f5fa"
            },
            "error_y": {
             "color": "#f2f5fa"
            },
            "marker": {
             "line": {
              "color": "rgb(17,17,17)",
              "width": 0.5
             },
             "pattern": {
              "fillmode": "overlay",
              "size": 10,
              "solidity": 0.2
             }
            },
            "type": "bar"
           }
          ],
          "scattergeo": [
           {
            "type": "scattergeo",
            "marker": {
             "colorbar": {
              "outlinewidth": 0,
              "ticks": ""
             }
            }
           }
          ],
          "scatterpolar": [
           {
            "type": "scatterpolar",
            "marker": {
             "colorbar": {
              "outlinewidth": 0,
              "ticks": ""
             }
            }
           }
          ],
          "histogram": [
           {
            "marker": {
             "pattern": {
              "fillmode": "overlay",
              "size": 10,
              "solidity": 0.2
             }
            },
            "type": "histogram"
           }
          ],
          "scattergl": [
           {
            "marker": {
             "line": {
              "color": "#283442"
             }
            },
            "type": "scattergl"
           }
          ],
          "scatter3d": [
           {
            "type": "scatter3d",
            "line": {
             "colorbar": {
              "outlinewidth": 0,
              "ticks": ""
             }
            },
            "marker": {
             "colorbar": {
              "outlinewidth": 0,
              "ticks": ""
             }
            }
           }
          ],
          "scattermapbox": [
           {
            "type": "scattermapbox",
            "marker": {
             "colorbar": {
              "outlinewidth": 0,
              "ticks": ""
             }
            }
           }
          ],
          "scatterternary": [
           {
            "type": "scatterternary",
            "marker": {
             "colorbar": {
              "outlinewidth": 0,
              "ticks": ""
             }
            }
           }
          ],
          "scattercarpet": [
           {
            "type": "scattercarpet",
            "marker": {
             "colorbar": {
              "outlinewidth": 0,
              "ticks": ""
             }
            }
           }
          ],
          "carpet": [
           {
            "aaxis": {
             "endlinecolor": "#A2B1C6",
             "gridcolor": "#506784",
             "linecolor": "#506784",
             "minorgridcolor": "#506784",
             "startlinecolor": "#A2B1C6"
            },
            "baxis": {
             "endlinecolor": "#A2B1C6",
             "gridcolor": "#506784",
             "linecolor": "#506784",
             "minorgridcolor": "#506784",
             "startlinecolor": "#A2B1C6"
            },
            "type": "carpet"
           }
          ],
          "table": [
           {
            "cells": {
             "fill": {
              "color": "#506784"
             },
             "line": {
              "color": "rgb(17,17,17)"
             }
            },
            "header": {
             "fill": {
              "color": "#2a3f5f"
             },
             "line": {
              "color": "rgb(17,17,17)"
             }
            },
            "type": "table"
           }
          ],
          "barpolar": [
           {
            "marker": {
             "line": {
              "color": "rgb(17,17,17)",
              "width": 0.5
             },
             "pattern": {
              "fillmode": "overlay",
              "size": 10,
              "solidity": 0.2
             }
            },
            "type": "barpolar"
           }
          ],
          "pie": [
           {
            "automargin": true,
            "type": "pie"
           }
          ]
         },
         "layout": {
          "autotypenumbers": "strict",
          "colorway": [
           "#636efa",
           "#EF553B",
           "#00cc96",
           "#ab63fa",
           "#FFA15A",
           "#19d3f3",
           "#FF6692",
           "#B6E880",
           "#FF97FF",
           "#FECB52"
          ],
          "font": {
           "color": "#f2f5fa"
          },
          "hovermode": "closest",
          "hoverlabel": {
           "align": "left"
          },
          "paper_bgcolor": "rgb(17,17,17)",
          "plot_bgcolor": "rgb(17,17,17)",
          "polar": {
           "bgcolor": "rgb(17,17,17)",
           "angularaxis": {
            "gridcolor": "#506784",
            "linecolor": "#506784",
            "ticks": ""
           },
           "radialaxis": {
            "gridcolor": "#506784",
            "linecolor": "#506784",
            "ticks": ""
           }
          },
          "ternary": {
           "bgcolor": "rgb(17,17,17)",
           "aaxis": {
            "gridcolor": "#506784",
            "linecolor": "#506784",
            "ticks": ""
           },
           "baxis": {
            "gridcolor": "#506784",
            "linecolor": "#506784",
            "ticks": ""
           },
           "caxis": {
            "gridcolor": "#506784",
            "linecolor": "#506784",
            "ticks": ""
           }
          },
          "coloraxis": {
           "colorbar": {
            "outlinewidth": 0,
            "ticks": ""
           }
          },
          "colorscale": {
           "sequential": [
            [
             0.0,
             "#0d0887"
            ],
            [
             0.1111111111111111,
             "#46039f"
            ],
            [
             0.2222222222222222,
             "#7201a8"
            ],
            [
             0.3333333333333333,
             "#9c179e"
            ],
            [
             0.4444444444444444,
             "#bd3786"
            ],
            [
             0.5555555555555556,
             "#d8576b"
            ],
            [
             0.6666666666666666,
             "#ed7953"
            ],
            [
             0.7777777777777778,
             "#fb9f3a"
            ],
            [
             0.8888888888888888,
             "#fdca26"
            ],
            [
             1.0,
             "#f0f921"
            ]
           ],
           "sequentialminus": [
            [
             0.0,
             "#0d0887"
            ],
            [
             0.1111111111111111,
             "#46039f"
            ],
            [
             0.2222222222222222,
             "#7201a8"
            ],
            [
             0.3333333333333333,
             "#9c179e"
            ],
            [
             0.4444444444444444,
             "#bd3786"
            ],
            [
             0.5555555555555556,
             "#d8576b"
            ],
            [
             0.6666666666666666,
             "#ed7953"
            ],
            [
             0.7777777777777778,
             "#fb9f3a"
            ],
            [
             0.8888888888888888,
             "#fdca26"
            ],
            [
             1.0,
             "#f0f921"
            ]
           ],
           "diverging": [
            [
             0,
             "#8e0152"
            ],
            [
             0.1,
             "#c51b7d"
            ],
            [
             0.2,
             "#de77ae"
            ],
            [
             0.3,
             "#f1b6da"
            ],
            [
             0.4,
             "#fde0ef"
            ],
            [
             0.5,
             "#f7f7f7"
            ],
            [
             0.6,
             "#e6f5d0"
            ],
            [
             0.7,
             "#b8e186"
            ],
            [
             0.8,
             "#7fbc41"
            ],
            [
             0.9,
             "#4d9221"
            ],
            [
             1,
             "#276419"
            ]
           ]
          },
          "xaxis": {
           "gridcolor": "#283442",
           "linecolor": "#506784",
           "ticks": "",
           "title": {
            "standoff": 15
           },
           "zerolinecolor": "#283442",
           "automargin": true,
           "zerolinewidth": 2
          },
          "yaxis": {
           "gridcolor": "#283442",
           "linecolor": "#506784",
           "ticks": "",
           "title": {
            "standoff": 15
           },
           "zerolinecolor": "#283442",
           "automargin": true,
           "zerolinewidth": 2
          },
          "scene": {
           "xaxis": {
            "backgroundcolor": "rgb(17,17,17)",
            "gridcolor": "#506784",
            "linecolor": "#506784",
            "showbackground": true,
            "ticks": "",
            "zerolinecolor": "#C8D4E3",
            "gridwidth": 2
           },
           "yaxis": {
            "backgroundcolor": "rgb(17,17,17)",
            "gridcolor": "#506784",
            "linecolor": "#506784",
            "showbackground": true,
            "ticks": "",
            "zerolinecolor": "#C8D4E3",
            "gridwidth": 2
           },
           "zaxis": {
            "backgroundcolor": "rgb(17,17,17)",
            "gridcolor": "#506784",
            "linecolor": "#506784",
            "showbackground": true,
            "ticks": "",
            "zerolinecolor": "#C8D4E3",
            "gridwidth": 2
           }
          },
          "shapedefaults": {
           "line": {
            "color": "#f2f5fa"
           }
          },
          "annotationdefaults": {
           "arrowcolor": "#f2f5fa",
           "arrowhead": 0,
           "arrowwidth": 1
          },
          "geo": {
           "bgcolor": "rgb(17,17,17)",
           "landcolor": "rgb(17,17,17)",
           "subunitcolor": "#506784",
           "showland": true,
           "showlakes": true,
           "lakecolor": "rgb(17,17,17)"
          },
          "title": {
           "x": 0.05
          },
          "updatemenudefaults": {
           "bgcolor": "#506784",
           "borderwidth": 0
          },
          "sliderdefaults": {
           "bgcolor": "#C8D4E3",
           "borderwidth": 1,
           "bordercolor": "rgb(17,17,17)",
           "tickwidth": 0
          },
          "mapbox": {
           "style": "dark"
          }
         }
        },
        "xaxis": {
         "anchor": "y",
         "domain": [
          0.0,
          1.0
         ],
         "title": {
          "text": "Full Fine"
         },
         "tickangle": -45
        },
        "yaxis": {
         "anchor": "x",
         "domain": [
          0.0,
          1.0
         ],
         "title": {
          "text": "Day of Week"
         }
        },
        "coloraxis": {
         "colorbar": {
          "title": {
           "text": "Day of Week"
          }
         },
         "colorscale": [
          [
           0.0,
           "#0d0887"
          ],
          [
           0.1111111111111111,
           "#46039f"
          ],
          [
           0.2222222222222222,
           "#7201a8"
          ],
          [
           0.3333333333333333,
           "#9c179e"
          ],
          [
           0.4444444444444444,
           "#bd3786"
          ],
          [
           0.5555555555555556,
           "#d8576b"
          ],
          [
           0.6666666666666666,
           "#ed7953"
          ],
          [
           0.7777777777777778,
           "#fb9f3a"
          ],
          [
           0.8888888888888888,
           "#fdca26"
          ],
          [
           1.0,
           "#f0f921"
          ]
         ]
        },
        "legend": {
         "tracegroupgap": 0
        },
        "margin": {
         "t": 60
        },
        "barmode": "relative",
        "uniformtext": {
         "minsize": 8
        }
       },
       "config": {
        "plotlyServerURL": "https://plot.ly"
       }
      },
      "text/html": "<div>                            <div id=\"82bc4b7d-47a2-4a21-8d7a-699cc2190d27\" class=\"plotly-graph-div\" style=\"height:525px; width:100%;\"></div>            <script type=\"text/javascript\">                require([\"plotly\"], function(Plotly) {                    window.PLOTLYENV=window.PLOTLYENV || {};                                    if (document.getElementById(\"82bc4b7d-47a2-4a21-8d7a-699cc2190d27\")) {                    Plotly.newPlot(                        \"82bc4b7d-47a2-4a21-8d7a-699cc2190d27\",                        [{\"alignmentgroup\":\"True\",\"hovertemplate\":\"Full Fine=%{x}<br>Day of Week=%{marker.color}<extra></extra>\",\"legendgroup\":\"\",\"marker\":{\"color\":[0,3,1,3,2,6,1,6,4,0,1,1,6,4,3,4,4,3,6,2,4,2,1,6,5,0,6,5,3,3,3,3,5,1,6,2,2,0,2,3,1,1,5,5,1,5,6,5,6,5,5,5,5,5,5,5,5,5,4,1,6,5,6,4,4,4,4,6,1,0,4,4,6,5,2,2,1,1,6,4,5,0,0,2,1,0,5,6,2,3,2,2,6,2,2,5,5,2,5,3,4,5,3,5,2,2,1,1,5,5,4,5,0,4,1,5,0,1,0,4,2,5,1,1,4,6],\"coloraxis\":\"coloraxis\",\"pattern\":{\"shape\":\"\"}},\"name\":\"\",\"offsetgroup\":\"\",\"orientation\":\"v\",\"showlegend\":false,\"textposition\":\"auto\",\"x\":[100.0,100.0,100.0,300.0,100.0,300.0,100.0,100.0,100.0,100.0,100.0,70.0,100.0,100.0,100.0,100.0,100.0,70.0,70.0,70.0,100.0,70.0,100.0,70.0,70.0,70.0,70.0,70.0,150.0,150.0,150.0,150.0,70.0,70.0,70.0,70.0,70.0,70.0,70.0,100.0,70.0,70.0,150.0,150.0,70.0,150.0,100.0,150.0,70.0,150.0,150.0,150.0,150.0,150.0,150.0,150.0,150.0,150.0,70.0,70.0,70.0,70.0,70.0,70.0,70.0,70.0,70.0,70.0,70.0,70.0,70.0,70.0,70.0,70.0,70.0,70.0,70.0,70.0,70.0,100.0,70.0,100.0,70.0,100.0,70.0,100.0,100.0,100.0,100.0,100.0,100.0,100.0,70.0,70.0,100.0,100.0,100.0,100.0,100.0,100.0,70.0,100.0,100.0,70.0,100.0,100.0,100.0,100.0,100.0,100.0,100.0,70.0,100.0,100.0,100.0,300.0,100.0,100.0,100.0,100.0,300.0,300.0,100.0,300.0,100.0,300.0],\"xaxis\":\"x\",\"y\":[0,3,1,3,2,6,1,6,4,0,1,1,6,4,3,4,4,3,6,2,4,2,1,6,5,0,6,5,3,3,3,3,5,1,6,2,2,0,2,3,1,1,5,5,1,5,6,5,6,5,5,5,5,5,5,5,5,5,4,1,6,5,6,4,4,4,4,6,1,0,4,4,6,5,2,2,1,1,6,4,5,0,0,2,1,0,5,6,2,3,2,2,6,2,2,5,5,2,5,3,4,5,3,5,2,2,1,1,5,5,4,5,0,4,1,5,0,1,0,4,2,5,1,1,4,6],\"yaxis\":\"y\",\"type\":\"bar\"}],                        {\"template\":{\"data\":{\"histogram2dcontour\":[{\"type\":\"histogram2dcontour\",\"colorbar\":{\"outlinewidth\":0,\"ticks\":\"\"},\"colorscale\":[[0.0,\"#0d0887\"],[0.1111111111111111,\"#46039f\"],[0.2222222222222222,\"#7201a8\"],[0.3333333333333333,\"#9c179e\"],[0.4444444444444444,\"#bd3786\"],[0.5555555555555556,\"#d8576b\"],[0.6666666666666666,\"#ed7953\"],[0.7777777777777778,\"#fb9f3a\"],[0.8888888888888888,\"#fdca26\"],[1.0,\"#f0f921\"]]}],\"choropleth\":[{\"type\":\"choropleth\",\"colorbar\":{\"outlinewidth\":0,\"ticks\":\"\"}}],\"histogram2d\":[{\"type\":\"histogram2d\",\"colorbar\":{\"outlinewidth\":0,\"ticks\":\"\"},\"colorscale\":[[0.0,\"#0d0887\"],[0.1111111111111111,\"#46039f\"],[0.2222222222222222,\"#7201a8\"],[0.3333333333333333,\"#9c179e\"],[0.4444444444444444,\"#bd3786\"],[0.5555555555555556,\"#d8576b\"],[0.6666666666666666,\"#ed7953\"],[0.7777777777777778,\"#fb9f3a\"],[0.8888888888888888,\"#fdca26\"],[1.0,\"#f0f921\"]]}],\"heatmap\":[{\"type\":\"heatmap\",\"colorbar\":{\"outlinewidth\":0,\"ticks\":\"\"},\"colorscale\":[[0.0,\"#0d0887\"],[0.1111111111111111,\"#46039f\"],[0.2222222222222222,\"#7201a8\"],[0.3333333333333333,\"#9c179e\"],[0.4444444444444444,\"#bd3786\"],[0.5555555555555556,\"#d8576b\"],[0.6666666666666666,\"#ed7953\"],[0.7777777777777778,\"#fb9f3a\"],[0.8888888888888888,\"#fdca26\"],[1.0,\"#f0f921\"]]}],\"heatmapgl\":[{\"type\":\"heatmapgl\",\"colorbar\":{\"outlinewidth\":0,\"ticks\":\"\"},\"colorscale\":[[0.0,\"#0d0887\"],[0.1111111111111111,\"#46039f\"],[0.2222222222222222,\"#7201a8\"],[0.3333333333333333,\"#9c179e\"],[0.4444444444444444,\"#bd3786\"],[0.5555555555555556,\"#d8576b\"],[0.6666666666666666,\"#ed7953\"],[0.7777777777777778,\"#fb9f3a\"],[0.8888888888888888,\"#fdca26\"],[1.0,\"#f0f921\"]]}],\"contourcarpet\":[{\"type\":\"contourcarpet\",\"colorbar\":{\"outlinewidth\":0,\"ticks\":\"\"}}],\"contour\":[{\"type\":\"contour\",\"colorbar\":{\"outlinewidth\":0,\"ticks\":\"\"},\"colorscale\":[[0.0,\"#0d0887\"],[0.1111111111111111,\"#46039f\"],[0.2222222222222222,\"#7201a8\"],[0.3333333333333333,\"#9c179e\"],[0.4444444444444444,\"#bd3786\"],[0.5555555555555556,\"#d8576b\"],[0.6666666666666666,\"#ed7953\"],[0.7777777777777778,\"#fb9f3a\"],[0.8888888888888888,\"#fdca26\"],[1.0,\"#f0f921\"]]}],\"surface\":[{\"type\":\"surface\",\"colorbar\":{\"outlinewidth\":0,\"ticks\":\"\"},\"colorscale\":[[0.0,\"#0d0887\"],[0.1111111111111111,\"#46039f\"],[0.2222222222222222,\"#7201a8\"],[0.3333333333333333,\"#9c179e\"],[0.4444444444444444,\"#bd3786\"],[0.5555555555555556,\"#d8576b\"],[0.6666666666666666,\"#ed7953\"],[0.7777777777777778,\"#fb9f3a\"],[0.8888888888888888,\"#fdca26\"],[1.0,\"#f0f921\"]]}],\"mesh3d\":[{\"type\":\"mesh3d\",\"colorbar\":{\"outlinewidth\":0,\"ticks\":\"\"}}],\"scatter\":[{\"marker\":{\"line\":{\"color\":\"#283442\"}},\"type\":\"scatter\"}],\"parcoords\":[{\"type\":\"parcoords\",\"line\":{\"colorbar\":{\"outlinewidth\":0,\"ticks\":\"\"}}}],\"scatterpolargl\":[{\"type\":\"scatterpolargl\",\"marker\":{\"colorbar\":{\"outlinewidth\":0,\"ticks\":\"\"}}}],\"bar\":[{\"error_x\":{\"color\":\"#f2f5fa\"},\"error_y\":{\"color\":\"#f2f5fa\"},\"marker\":{\"line\":{\"color\":\"rgb(17,17,17)\",\"width\":0.5},\"pattern\":{\"fillmode\":\"overlay\",\"size\":10,\"solidity\":0.2}},\"type\":\"bar\"}],\"scattergeo\":[{\"type\":\"scattergeo\",\"marker\":{\"colorbar\":{\"outlinewidth\":0,\"ticks\":\"\"}}}],\"scatterpolar\":[{\"type\":\"scatterpolar\",\"marker\":{\"colorbar\":{\"outlinewidth\":0,\"ticks\":\"\"}}}],\"histogram\":[{\"marker\":{\"pattern\":{\"fillmode\":\"overlay\",\"size\":10,\"solidity\":0.2}},\"type\":\"histogram\"}],\"scattergl\":[{\"marker\":{\"line\":{\"color\":\"#283442\"}},\"type\":\"scattergl\"}],\"scatter3d\":[{\"type\":\"scatter3d\",\"line\":{\"colorbar\":{\"outlinewidth\":0,\"ticks\":\"\"}},\"marker\":{\"colorbar\":{\"outlinewidth\":0,\"ticks\":\"\"}}}],\"scattermapbox\":[{\"type\":\"scattermapbox\",\"marker\":{\"colorbar\":{\"outlinewidth\":0,\"ticks\":\"\"}}}],\"scatterternary\":[{\"type\":\"scatterternary\",\"marker\":{\"colorbar\":{\"outlinewidth\":0,\"ticks\":\"\"}}}],\"scattercarpet\":[{\"type\":\"scattercarpet\",\"marker\":{\"colorbar\":{\"outlinewidth\":0,\"ticks\":\"\"}}}],\"carpet\":[{\"aaxis\":{\"endlinecolor\":\"#A2B1C6\",\"gridcolor\":\"#506784\",\"linecolor\":\"#506784\",\"minorgridcolor\":\"#506784\",\"startlinecolor\":\"#A2B1C6\"},\"baxis\":{\"endlinecolor\":\"#A2B1C6\",\"gridcolor\":\"#506784\",\"linecolor\":\"#506784\",\"minorgridcolor\":\"#506784\",\"startlinecolor\":\"#A2B1C6\"},\"type\":\"carpet\"}],\"table\":[{\"cells\":{\"fill\":{\"color\":\"#506784\"},\"line\":{\"color\":\"rgb(17,17,17)\"}},\"header\":{\"fill\":{\"color\":\"#2a3f5f\"},\"line\":{\"color\":\"rgb(17,17,17)\"}},\"type\":\"table\"}],\"barpolar\":[{\"marker\":{\"line\":{\"color\":\"rgb(17,17,17)\",\"width\":0.5},\"pattern\":{\"fillmode\":\"overlay\",\"size\":10,\"solidity\":0.2}},\"type\":\"barpolar\"}],\"pie\":[{\"automargin\":true,\"type\":\"pie\"}]},\"layout\":{\"autotypenumbers\":\"strict\",\"colorway\":[\"#636efa\",\"#EF553B\",\"#00cc96\",\"#ab63fa\",\"#FFA15A\",\"#19d3f3\",\"#FF6692\",\"#B6E880\",\"#FF97FF\",\"#FECB52\"],\"font\":{\"color\":\"#f2f5fa\"},\"hovermode\":\"closest\",\"hoverlabel\":{\"align\":\"left\"},\"paper_bgcolor\":\"rgb(17,17,17)\",\"plot_bgcolor\":\"rgb(17,17,17)\",\"polar\":{\"bgcolor\":\"rgb(17,17,17)\",\"angularaxis\":{\"gridcolor\":\"#506784\",\"linecolor\":\"#506784\",\"ticks\":\"\"},\"radialaxis\":{\"gridcolor\":\"#506784\",\"linecolor\":\"#506784\",\"ticks\":\"\"}},\"ternary\":{\"bgcolor\":\"rgb(17,17,17)\",\"aaxis\":{\"gridcolor\":\"#506784\",\"linecolor\":\"#506784\",\"ticks\":\"\"},\"baxis\":{\"gridcolor\":\"#506784\",\"linecolor\":\"#506784\",\"ticks\":\"\"},\"caxis\":{\"gridcolor\":\"#506784\",\"linecolor\":\"#506784\",\"ticks\":\"\"}},\"coloraxis\":{\"colorbar\":{\"outlinewidth\":0,\"ticks\":\"\"}},\"colorscale\":{\"sequential\":[[0.0,\"#0d0887\"],[0.1111111111111111,\"#46039f\"],[0.2222222222222222,\"#7201a8\"],[0.3333333333333333,\"#9c179e\"],[0.4444444444444444,\"#bd3786\"],[0.5555555555555556,\"#d8576b\"],[0.6666666666666666,\"#ed7953\"],[0.7777777777777778,\"#fb9f3a\"],[0.8888888888888888,\"#fdca26\"],[1.0,\"#f0f921\"]],\"sequentialminus\":[[0.0,\"#0d0887\"],[0.1111111111111111,\"#46039f\"],[0.2222222222222222,\"#7201a8\"],[0.3333333333333333,\"#9c179e\"],[0.4444444444444444,\"#bd3786\"],[0.5555555555555556,\"#d8576b\"],[0.6666666666666666,\"#ed7953\"],[0.7777777777777778,\"#fb9f3a\"],[0.8888888888888888,\"#fdca26\"],[1.0,\"#f0f921\"]],\"diverging\":[[0,\"#8e0152\"],[0.1,\"#c51b7d\"],[0.2,\"#de77ae\"],[0.3,\"#f1b6da\"],[0.4,\"#fde0ef\"],[0.5,\"#f7f7f7\"],[0.6,\"#e6f5d0\"],[0.7,\"#b8e186\"],[0.8,\"#7fbc41\"],[0.9,\"#4d9221\"],[1,\"#276419\"]]},\"xaxis\":{\"gridcolor\":\"#283442\",\"linecolor\":\"#506784\",\"ticks\":\"\",\"title\":{\"standoff\":15},\"zerolinecolor\":\"#283442\",\"automargin\":true,\"zerolinewidth\":2},\"yaxis\":{\"gridcolor\":\"#283442\",\"linecolor\":\"#506784\",\"ticks\":\"\",\"title\":{\"standoff\":15},\"zerolinecolor\":\"#283442\",\"automargin\":true,\"zerolinewidth\":2},\"scene\":{\"xaxis\":{\"backgroundcolor\":\"rgb(17,17,17)\",\"gridcolor\":\"#506784\",\"linecolor\":\"#506784\",\"showbackground\":true,\"ticks\":\"\",\"zerolinecolor\":\"#C8D4E3\",\"gridwidth\":2},\"yaxis\":{\"backgroundcolor\":\"rgb(17,17,17)\",\"gridcolor\":\"#506784\",\"linecolor\":\"#506784\",\"showbackground\":true,\"ticks\":\"\",\"zerolinecolor\":\"#C8D4E3\",\"gridwidth\":2},\"zaxis\":{\"backgroundcolor\":\"rgb(17,17,17)\",\"gridcolor\":\"#506784\",\"linecolor\":\"#506784\",\"showbackground\":true,\"ticks\":\"\",\"zerolinecolor\":\"#C8D4E3\",\"gridwidth\":2}},\"shapedefaults\":{\"line\":{\"color\":\"#f2f5fa\"}},\"annotationdefaults\":{\"arrowcolor\":\"#f2f5fa\",\"arrowhead\":0,\"arrowwidth\":1},\"geo\":{\"bgcolor\":\"rgb(17,17,17)\",\"landcolor\":\"rgb(17,17,17)\",\"subunitcolor\":\"#506784\",\"showland\":true,\"showlakes\":true,\"lakecolor\":\"rgb(17,17,17)\"},\"title\":{\"x\":0.05},\"updatemenudefaults\":{\"bgcolor\":\"#506784\",\"borderwidth\":0},\"sliderdefaults\":{\"bgcolor\":\"#C8D4E3\",\"borderwidth\":1,\"bordercolor\":\"rgb(17,17,17)\",\"tickwidth\":0},\"mapbox\":{\"style\":\"dark\"}}},\"xaxis\":{\"anchor\":\"y\",\"domain\":[0.0,1.0],\"title\":{\"text\":\"Full Fine\"},\"tickangle\":-45},\"yaxis\":{\"anchor\":\"x\",\"domain\":[0.0,1.0],\"title\":{\"text\":\"Day of Week\"}},\"coloraxis\":{\"colorbar\":{\"title\":{\"text\":\"Day of Week\"}},\"colorscale\":[[0.0,\"#0d0887\"],[0.1111111111111111,\"#46039f\"],[0.2222222222222222,\"#7201a8\"],[0.3333333333333333,\"#9c179e\"],[0.4444444444444444,\"#bd3786\"],[0.5555555555555556,\"#d8576b\"],[0.6666666666666666,\"#ed7953\"],[0.7777777777777778,\"#fb9f3a\"],[0.8888888888888888,\"#fdca26\"],[1.0,\"#f0f921\"]]},\"legend\":{\"tracegroupgap\":0},\"margin\":{\"t\":60},\"barmode\":\"relative\",\"uniformtext\":{\"minsize\":8}},                        {\"responsive\": true}                    ).then(function(){\n                            \nvar gd = document.getElementById('82bc4b7d-47a2-4a21-8d7a-699cc2190d27');\nvar x = new MutationObserver(function (mutations, observer) {{\n        var display = window.getComputedStyle(gd).display;\n        if (!display || display === 'none') {{\n            console.log([gd, 'removed!']);\n            Plotly.purge(gd);\n            observer.disconnect();\n        }}\n}});\n\n// Listen for the removal of the full notebook cells\nvar notebookContainer = gd.closest('#notebook-container');\nif (notebookContainer) {{\n    x.observe(notebookContainer, {childList: true});\n}}\n\n// Listen for the clearing of the current output cell\nvar outputEl = gd.closest('.output');\nif (outputEl) {{\n    x.observe(outputEl, {childList: true});\n}}\n\n                        })                };                });            </script>        </div>"
     },
     "metadata": {},
     "output_type": "display_data"
    }
   ],
   "source": [
    "park_data['Date'] = pd.to_datetime(park_data['Date'])  # skip if your Date column already in datetime format\n",
    "park_data['Day of Week'] = park_data['Date'].dt.dayofweek\n",
    "hag_data = park_data.query(\"Street == 'Lloyd ST'\")\n",
    "fig = px.bar(hag_data, y='Day of Week', x='Full Fine', color='Day of Week')\n",
    "fig.update_layout(uniformtext_minsize=8)\n",
    "fig.update_layout(xaxis_tickangle=-45)\n",
    "fig"
   ]
  },
  {
   "cell_type": "code",
   "execution_count": 22,
   "outputs": [
    {
     "data": {
      "text/plain": "             Date      Time    Street                  Location  Full Fine  \\\n161129 2013-09-02   8:55:50  Lloyd ST  (49.8752716, -97.119451)       70.0   \n193115 2013-09-28   8:26:56  Lloyd ST  (49.8743633, -97.118573)       70.0   \n154803 2013-09-28   8:19:26  Lloyd ST  (49.8743466, -97.118556)       70.0   \n177710 2013-09-29  11:09:15  Lloyd ST      (49.87426, -97.1185)       70.0   \n224068 2013-12-12   2:22:00  Lloyd ST  (49.8728866, -97.116813)      150.0   \n\n        Discounted Fine Violation Code          Violation Description  \\\n161129             35.0             11      No parking - loading zone   \n193115             35.0             11      No parking - loading zone   \n154803             35.0             11      No parking - loading zone   \n177710             35.0             11      No parking - loading zone   \n224068             75.0             34  2011 Stand/stop/park in resid   \n\n        Day of Week  \n161129            0  \n193115            5  \n154803            5  \n177710            6  \n224068            3  ",
      "text/html": "<div>\n<style scoped>\n    .dataframe tbody tr th:only-of-type {\n        vertical-align: middle;\n    }\n\n    .dataframe tbody tr th {\n        vertical-align: top;\n    }\n\n    .dataframe thead th {\n        text-align: right;\n    }\n</style>\n<table border=\"1\" class=\"dataframe\">\n  <thead>\n    <tr style=\"text-align: right;\">\n      <th></th>\n      <th>Date</th>\n      <th>Time</th>\n      <th>Street</th>\n      <th>Location</th>\n      <th>Full Fine</th>\n      <th>Discounted Fine</th>\n      <th>Violation Code</th>\n      <th>Violation Description</th>\n      <th>Day of Week</th>\n    </tr>\n  </thead>\n  <tbody>\n    <tr>\n      <th>161129</th>\n      <td>2013-09-02</td>\n      <td>8:55:50</td>\n      <td>Lloyd ST</td>\n      <td>(49.8752716, -97.119451)</td>\n      <td>70.0</td>\n      <td>35.0</td>\n      <td>11</td>\n      <td>No parking - loading zone</td>\n      <td>0</td>\n    </tr>\n    <tr>\n      <th>193115</th>\n      <td>2013-09-28</td>\n      <td>8:26:56</td>\n      <td>Lloyd ST</td>\n      <td>(49.8743633, -97.118573)</td>\n      <td>70.0</td>\n      <td>35.0</td>\n      <td>11</td>\n      <td>No parking - loading zone</td>\n      <td>5</td>\n    </tr>\n    <tr>\n      <th>154803</th>\n      <td>2013-09-28</td>\n      <td>8:19:26</td>\n      <td>Lloyd ST</td>\n      <td>(49.8743466, -97.118556)</td>\n      <td>70.0</td>\n      <td>35.0</td>\n      <td>11</td>\n      <td>No parking - loading zone</td>\n      <td>5</td>\n    </tr>\n    <tr>\n      <th>177710</th>\n      <td>2013-09-29</td>\n      <td>11:09:15</td>\n      <td>Lloyd ST</td>\n      <td>(49.87426, -97.1185)</td>\n      <td>70.0</td>\n      <td>35.0</td>\n      <td>11</td>\n      <td>No parking - loading zone</td>\n      <td>6</td>\n    </tr>\n    <tr>\n      <th>224068</th>\n      <td>2013-12-12</td>\n      <td>2:22:00</td>\n      <td>Lloyd ST</td>\n      <td>(49.8728866, -97.116813)</td>\n      <td>150.0</td>\n      <td>75.0</td>\n      <td>34</td>\n      <td>2011 Stand/stop/park in resid</td>\n      <td>3</td>\n    </tr>\n  </tbody>\n</table>\n</div>"
     },
     "execution_count": 22,
     "metadata": {},
     "output_type": "execute_result"
    }
   ],
   "source": [
    "park_data['Date'] = pd.to_datetime(park_data['Date'])  # skip if your Date column already in datetime format\n",
    "park_data['Day of Week'] = park_data['Date'].dt.dayofweek\n",
    "hag_data = park_data.query(\"Street == 'Lloyd ST'\")\n",
    "sorted_hag = hag_data.sort_values(by=\"Date\")\n",
    "sorted_hag.head()"
   ],
   "metadata": {
    "collapsed": false,
    "pycharm": {
     "name": "#%%\n"
    }
   }
  },
  {
   "cell_type": "code",
   "execution_count": 21,
   "outputs": [
    {
     "data": {
      "application/vnd.plotly.v1+json": {
       "data": [
        {
         "hovertemplate": "Date=%{x}<br>Full Fine=%{y}<extra></extra>",
         "legendgroup": "",
         "marker": {
          "color": "#636efa",
          "symbol": "circle"
         },
         "mode": "markers",
         "name": "",
         "orientation": "v",
         "showlegend": false,
         "x": [
          "2013-09-02T00:00:00",
          "2013-09-28T00:00:00",
          "2013-09-28T00:00:00",
          "2013-09-29T00:00:00",
          "2013-12-12T00:00:00",
          "2013-12-12T00:00:00",
          "2013-12-12T00:00:00",
          "2013-12-12T00:00:00",
          "2014-02-18T00:00:00",
          "2014-04-05T00:00:00",
          "2014-04-28T00:00:00",
          "2014-05-14T00:00:00",
          "2014-05-14T00:00:00",
          "2014-05-14T00:00:00",
          "2014-05-18T00:00:00",
          "2014-09-11T00:00:00",
          "2014-11-04T00:00:00",
          "2014-11-04T00:00:00",
          "2014-11-04T00:00:00",
          "2014-12-28T00:00:00",
          "2014-12-28T00:00:00",
          "2015-02-14T00:00:00",
          "2015-02-14T00:00:00",
          "2015-02-14T00:00:00",
          "2015-02-14T00:00:00",
          "2015-02-14T00:00:00",
          "2015-02-14T00:00:00",
          "2015-02-14T00:00:00",
          "2015-02-14T00:00:00",
          "2015-02-14T00:00:00",
          "2015-02-14T00:00:00",
          "2015-02-14T00:00:00",
          "2015-02-14T00:00:00",
          "2015-02-14T00:00:00",
          "2015-07-03T00:00:00",
          "2015-10-06T00:00:00",
          "2015-11-01T00:00:00",
          "2015-11-01T00:00:00",
          "2015-11-14T00:00:00",
          "2016-05-13T00:00:00",
          "2016-05-13T00:00:00",
          "2016-05-13T00:00:00",
          "2016-05-13T00:00:00",
          "2016-05-13T00:00:00",
          "2016-05-29T00:00:00",
          "2016-07-01T00:00:00",
          "2016-07-11T00:00:00",
          "2016-07-19T00:00:00",
          "2016-07-23T00:00:00",
          "2016-07-24T00:00:00",
          "2016-12-13T00:00:00",
          "2017-01-11T00:00:00",
          "2017-01-15T00:00:00",
          "2017-01-17T00:00:00",
          "2017-01-25T00:00:00",
          "2017-04-15T00:00:00",
          "2017-06-26T00:00:00",
          "2017-08-09T00:00:00",
          "2017-08-14T00:00:00",
          "2017-08-18T00:00:00",
          "2017-10-03T00:00:00",
          "2017-12-11T00:00:00",
          "2017-12-24T00:00:00",
          "2017-12-30T00:00:00",
          "2018-03-07T00:00:00",
          "2018-07-11T00:00:00",
          "2018-07-11T00:00:00",
          "2018-07-11T00:00:00",
          "2018-07-18T00:00:00",
          "2018-07-19T00:00:00",
          "2018-07-28T00:00:00",
          "2018-07-28T00:00:00",
          "2018-08-02T00:00:00",
          "2018-08-04T00:00:00",
          "2018-08-09T00:00:00",
          "2018-08-11T00:00:00",
          "2018-08-19T00:00:00",
          "2018-08-22T00:00:00",
          "2018-09-01T00:00:00",
          "2018-09-25T00:00:00",
          "2018-10-09T00:00:00",
          "2018-10-17T00:00:00",
          "2018-10-17T00:00:00",
          "2018-11-17T00:00:00",
          "2018-11-24T00:00:00",
          "2018-11-24T00:00:00",
          "2019-01-11T00:00:00",
          "2019-03-22T00:00:00",
          "2019-04-08T00:00:00",
          "2019-04-12T00:00:00",
          "2019-05-28T00:00:00",
          "2019-07-25T00:00:00",
          "2019-07-26T00:00:00",
          "2019-09-15T00:00:00",
          "2019-09-27T00:00:00",
          "2019-10-15T00:00:00",
          "2019-11-24T00:00:00",
          "2020-01-21T00:00:00",
          "2020-01-22T00:00:00",
          "2020-01-22T00:00:00",
          "2020-01-23T00:00:00",
          "2020-01-31T00:00:00",
          "2020-06-14T00:00:00",
          "2020-06-19T00:00:00",
          "2020-07-17T00:00:00",
          "2020-08-03T00:00:00",
          "2020-09-01T00:00:00",
          "2020-09-01T00:00:00",
          "2020-12-10T00:00:00",
          "2020-12-13T00:00:00",
          "2021-03-03T00:00:00",
          "2021-04-06T00:00:00",
          "2021-07-18T00:00:00",
          "2021-11-15T00:00:00",
          "2022-03-03T00:00:00",
          "2022-08-01T00:00:00",
          "2022-09-02T00:00:00",
          "2022-09-06T00:00:00",
          "2022-09-06T00:00:00",
          "2022-09-09T00:00:00",
          "2022-09-11T00:00:00",
          "2022-10-29T00:00:00",
          "2022-11-09T00:00:00",
          "2022-11-12T00:00:00",
          "2022-12-19T00:00:00",
          "2022-12-20T00:00:00"
         ],
         "xaxis": "x",
         "y": [
          70.0,
          70.0,
          70.0,
          70.0,
          150.0,
          150.0,
          150.0,
          150.0,
          70.0,
          70.0,
          70.0,
          70.0,
          70.0,
          70.0,
          70.0,
          100.0,
          70.0,
          70.0,
          70.0,
          100.0,
          70.0,
          150.0,
          150.0,
          150.0,
          150.0,
          150.0,
          150.0,
          150.0,
          150.0,
          150.0,
          150.0,
          150.0,
          150.0,
          150.0,
          70.0,
          70.0,
          70.0,
          70.0,
          70.0,
          70.0,
          70.0,
          70.0,
          70.0,
          70.0,
          70.0,
          70.0,
          70.0,
          70.0,
          70.0,
          70.0,
          70.0,
          70.0,
          70.0,
          70.0,
          70.0,
          70.0,
          70.0,
          100.0,
          100.0,
          100.0,
          70.0,
          100.0,
          100.0,
          100.0,
          100.0,
          100.0,
          100.0,
          100.0,
          100.0,
          100.0,
          100.0,
          100.0,
          100.0,
          100.0,
          100.0,
          70.0,
          70.0,
          100.0,
          100.0,
          100.0,
          100.0,
          70.0,
          100.0,
          100.0,
          100.0,
          70.0,
          70.0,
          100.0,
          100.0,
          100.0,
          100.0,
          100.0,
          100.0,
          70.0,
          100.0,
          100.0,
          70.0,
          70.0,
          70.0,
          70.0,
          70.0,
          100.0,
          100.0,
          100.0,
          100.0,
          100.0,
          100.0,
          100.0,
          300.0,
          300.0,
          100.0,
          100.0,
          100.0,
          100.0,
          100.0,
          100.0,
          100.0,
          100.0,
          300.0,
          100.0,
          300.0,
          300.0,
          300.0,
          300.0,
          100.0,
          100.0
         ],
         "yaxis": "y",
         "type": "scatter"
        }
       ],
       "layout": {
        "template": {
         "data": {
          "histogram2dcontour": [
           {
            "type": "histogram2dcontour",
            "colorbar": {
             "outlinewidth": 0,
             "ticks": ""
            },
            "colorscale": [
             [
              0.0,
              "#0d0887"
             ],
             [
              0.1111111111111111,
              "#46039f"
             ],
             [
              0.2222222222222222,
              "#7201a8"
             ],
             [
              0.3333333333333333,
              "#9c179e"
             ],
             [
              0.4444444444444444,
              "#bd3786"
             ],
             [
              0.5555555555555556,
              "#d8576b"
             ],
             [
              0.6666666666666666,
              "#ed7953"
             ],
             [
              0.7777777777777778,
              "#fb9f3a"
             ],
             [
              0.8888888888888888,
              "#fdca26"
             ],
             [
              1.0,
              "#f0f921"
             ]
            ]
           }
          ],
          "choropleth": [
           {
            "type": "choropleth",
            "colorbar": {
             "outlinewidth": 0,
             "ticks": ""
            }
           }
          ],
          "histogram2d": [
           {
            "type": "histogram2d",
            "colorbar": {
             "outlinewidth": 0,
             "ticks": ""
            },
            "colorscale": [
             [
              0.0,
              "#0d0887"
             ],
             [
              0.1111111111111111,
              "#46039f"
             ],
             [
              0.2222222222222222,
              "#7201a8"
             ],
             [
              0.3333333333333333,
              "#9c179e"
             ],
             [
              0.4444444444444444,
              "#bd3786"
             ],
             [
              0.5555555555555556,
              "#d8576b"
             ],
             [
              0.6666666666666666,
              "#ed7953"
             ],
             [
              0.7777777777777778,
              "#fb9f3a"
             ],
             [
              0.8888888888888888,
              "#fdca26"
             ],
             [
              1.0,
              "#f0f921"
             ]
            ]
           }
          ],
          "heatmap": [
           {
            "type": "heatmap",
            "colorbar": {
             "outlinewidth": 0,
             "ticks": ""
            },
            "colorscale": [
             [
              0.0,
              "#0d0887"
             ],
             [
              0.1111111111111111,
              "#46039f"
             ],
             [
              0.2222222222222222,
              "#7201a8"
             ],
             [
              0.3333333333333333,
              "#9c179e"
             ],
             [
              0.4444444444444444,
              "#bd3786"
             ],
             [
              0.5555555555555556,
              "#d8576b"
             ],
             [
              0.6666666666666666,
              "#ed7953"
             ],
             [
              0.7777777777777778,
              "#fb9f3a"
             ],
             [
              0.8888888888888888,
              "#fdca26"
             ],
             [
              1.0,
              "#f0f921"
             ]
            ]
           }
          ],
          "heatmapgl": [
           {
            "type": "heatmapgl",
            "colorbar": {
             "outlinewidth": 0,
             "ticks": ""
            },
            "colorscale": [
             [
              0.0,
              "#0d0887"
             ],
             [
              0.1111111111111111,
              "#46039f"
             ],
             [
              0.2222222222222222,
              "#7201a8"
             ],
             [
              0.3333333333333333,
              "#9c179e"
             ],
             [
              0.4444444444444444,
              "#bd3786"
             ],
             [
              0.5555555555555556,
              "#d8576b"
             ],
             [
              0.6666666666666666,
              "#ed7953"
             ],
             [
              0.7777777777777778,
              "#fb9f3a"
             ],
             [
              0.8888888888888888,
              "#fdca26"
             ],
             [
              1.0,
              "#f0f921"
             ]
            ]
           }
          ],
          "contourcarpet": [
           {
            "type": "contourcarpet",
            "colorbar": {
             "outlinewidth": 0,
             "ticks": ""
            }
           }
          ],
          "contour": [
           {
            "type": "contour",
            "colorbar": {
             "outlinewidth": 0,
             "ticks": ""
            },
            "colorscale": [
             [
              0.0,
              "#0d0887"
             ],
             [
              0.1111111111111111,
              "#46039f"
             ],
             [
              0.2222222222222222,
              "#7201a8"
             ],
             [
              0.3333333333333333,
              "#9c179e"
             ],
             [
              0.4444444444444444,
              "#bd3786"
             ],
             [
              0.5555555555555556,
              "#d8576b"
             ],
             [
              0.6666666666666666,
              "#ed7953"
             ],
             [
              0.7777777777777778,
              "#fb9f3a"
             ],
             [
              0.8888888888888888,
              "#fdca26"
             ],
             [
              1.0,
              "#f0f921"
             ]
            ]
           }
          ],
          "surface": [
           {
            "type": "surface",
            "colorbar": {
             "outlinewidth": 0,
             "ticks": ""
            },
            "colorscale": [
             [
              0.0,
              "#0d0887"
             ],
             [
              0.1111111111111111,
              "#46039f"
             ],
             [
              0.2222222222222222,
              "#7201a8"
             ],
             [
              0.3333333333333333,
              "#9c179e"
             ],
             [
              0.4444444444444444,
              "#bd3786"
             ],
             [
              0.5555555555555556,
              "#d8576b"
             ],
             [
              0.6666666666666666,
              "#ed7953"
             ],
             [
              0.7777777777777778,
              "#fb9f3a"
             ],
             [
              0.8888888888888888,
              "#fdca26"
             ],
             [
              1.0,
              "#f0f921"
             ]
            ]
           }
          ],
          "mesh3d": [
           {
            "type": "mesh3d",
            "colorbar": {
             "outlinewidth": 0,
             "ticks": ""
            }
           }
          ],
          "scatter": [
           {
            "marker": {
             "line": {
              "color": "#283442"
             }
            },
            "type": "scatter"
           }
          ],
          "parcoords": [
           {
            "type": "parcoords",
            "line": {
             "colorbar": {
              "outlinewidth": 0,
              "ticks": ""
             }
            }
           }
          ],
          "scatterpolargl": [
           {
            "type": "scatterpolargl",
            "marker": {
             "colorbar": {
              "outlinewidth": 0,
              "ticks": ""
             }
            }
           }
          ],
          "bar": [
           {
            "error_x": {
             "color": "#f2f5fa"
            },
            "error_y": {
             "color": "#f2f5fa"
            },
            "marker": {
             "line": {
              "color": "rgb(17,17,17)",
              "width": 0.5
             },
             "pattern": {
              "fillmode": "overlay",
              "size": 10,
              "solidity": 0.2
             }
            },
            "type": "bar"
           }
          ],
          "scattergeo": [
           {
            "type": "scattergeo",
            "marker": {
             "colorbar": {
              "outlinewidth": 0,
              "ticks": ""
             }
            }
           }
          ],
          "scatterpolar": [
           {
            "type": "scatterpolar",
            "marker": {
             "colorbar": {
              "outlinewidth": 0,
              "ticks": ""
             }
            }
           }
          ],
          "histogram": [
           {
            "marker": {
             "pattern": {
              "fillmode": "overlay",
              "size": 10,
              "solidity": 0.2
             }
            },
            "type": "histogram"
           }
          ],
          "scattergl": [
           {
            "marker": {
             "line": {
              "color": "#283442"
             }
            },
            "type": "scattergl"
           }
          ],
          "scatter3d": [
           {
            "type": "scatter3d",
            "line": {
             "colorbar": {
              "outlinewidth": 0,
              "ticks": ""
             }
            },
            "marker": {
             "colorbar": {
              "outlinewidth": 0,
              "ticks": ""
             }
            }
           }
          ],
          "scattermapbox": [
           {
            "type": "scattermapbox",
            "marker": {
             "colorbar": {
              "outlinewidth": 0,
              "ticks": ""
             }
            }
           }
          ],
          "scatterternary": [
           {
            "type": "scatterternary",
            "marker": {
             "colorbar": {
              "outlinewidth": 0,
              "ticks": ""
             }
            }
           }
          ],
          "scattercarpet": [
           {
            "type": "scattercarpet",
            "marker": {
             "colorbar": {
              "outlinewidth": 0,
              "ticks": ""
             }
            }
           }
          ],
          "carpet": [
           {
            "aaxis": {
             "endlinecolor": "#A2B1C6",
             "gridcolor": "#506784",
             "linecolor": "#506784",
             "minorgridcolor": "#506784",
             "startlinecolor": "#A2B1C6"
            },
            "baxis": {
             "endlinecolor": "#A2B1C6",
             "gridcolor": "#506784",
             "linecolor": "#506784",
             "minorgridcolor": "#506784",
             "startlinecolor": "#A2B1C6"
            },
            "type": "carpet"
           }
          ],
          "table": [
           {
            "cells": {
             "fill": {
              "color": "#506784"
             },
             "line": {
              "color": "rgb(17,17,17)"
             }
            },
            "header": {
             "fill": {
              "color": "#2a3f5f"
             },
             "line": {
              "color": "rgb(17,17,17)"
             }
            },
            "type": "table"
           }
          ],
          "barpolar": [
           {
            "marker": {
             "line": {
              "color": "rgb(17,17,17)",
              "width": 0.5
             },
             "pattern": {
              "fillmode": "overlay",
              "size": 10,
              "solidity": 0.2
             }
            },
            "type": "barpolar"
           }
          ],
          "pie": [
           {
            "automargin": true,
            "type": "pie"
           }
          ]
         },
         "layout": {
          "autotypenumbers": "strict",
          "colorway": [
           "#636efa",
           "#EF553B",
           "#00cc96",
           "#ab63fa",
           "#FFA15A",
           "#19d3f3",
           "#FF6692",
           "#B6E880",
           "#FF97FF",
           "#FECB52"
          ],
          "font": {
           "color": "#f2f5fa"
          },
          "hovermode": "closest",
          "hoverlabel": {
           "align": "left"
          },
          "paper_bgcolor": "rgb(17,17,17)",
          "plot_bgcolor": "rgb(17,17,17)",
          "polar": {
           "bgcolor": "rgb(17,17,17)",
           "angularaxis": {
            "gridcolor": "#506784",
            "linecolor": "#506784",
            "ticks": ""
           },
           "radialaxis": {
            "gridcolor": "#506784",
            "linecolor": "#506784",
            "ticks": ""
           }
          },
          "ternary": {
           "bgcolor": "rgb(17,17,17)",
           "aaxis": {
            "gridcolor": "#506784",
            "linecolor": "#506784",
            "ticks": ""
           },
           "baxis": {
            "gridcolor": "#506784",
            "linecolor": "#506784",
            "ticks": ""
           },
           "caxis": {
            "gridcolor": "#506784",
            "linecolor": "#506784",
            "ticks": ""
           }
          },
          "coloraxis": {
           "colorbar": {
            "outlinewidth": 0,
            "ticks": ""
           }
          },
          "colorscale": {
           "sequential": [
            [
             0.0,
             "#0d0887"
            ],
            [
             0.1111111111111111,
             "#46039f"
            ],
            [
             0.2222222222222222,
             "#7201a8"
            ],
            [
             0.3333333333333333,
             "#9c179e"
            ],
            [
             0.4444444444444444,
             "#bd3786"
            ],
            [
             0.5555555555555556,
             "#d8576b"
            ],
            [
             0.6666666666666666,
             "#ed7953"
            ],
            [
             0.7777777777777778,
             "#fb9f3a"
            ],
            [
             0.8888888888888888,
             "#fdca26"
            ],
            [
             1.0,
             "#f0f921"
            ]
           ],
           "sequentialminus": [
            [
             0.0,
             "#0d0887"
            ],
            [
             0.1111111111111111,
             "#46039f"
            ],
            [
             0.2222222222222222,
             "#7201a8"
            ],
            [
             0.3333333333333333,
             "#9c179e"
            ],
            [
             0.4444444444444444,
             "#bd3786"
            ],
            [
             0.5555555555555556,
             "#d8576b"
            ],
            [
             0.6666666666666666,
             "#ed7953"
            ],
            [
             0.7777777777777778,
             "#fb9f3a"
            ],
            [
             0.8888888888888888,
             "#fdca26"
            ],
            [
             1.0,
             "#f0f921"
            ]
           ],
           "diverging": [
            [
             0,
             "#8e0152"
            ],
            [
             0.1,
             "#c51b7d"
            ],
            [
             0.2,
             "#de77ae"
            ],
            [
             0.3,
             "#f1b6da"
            ],
            [
             0.4,
             "#fde0ef"
            ],
            [
             0.5,
             "#f7f7f7"
            ],
            [
             0.6,
             "#e6f5d0"
            ],
            [
             0.7,
             "#b8e186"
            ],
            [
             0.8,
             "#7fbc41"
            ],
            [
             0.9,
             "#4d9221"
            ],
            [
             1,
             "#276419"
            ]
           ]
          },
          "xaxis": {
           "gridcolor": "#283442",
           "linecolor": "#506784",
           "ticks": "",
           "title": {
            "standoff": 15
           },
           "zerolinecolor": "#283442",
           "automargin": true,
           "zerolinewidth": 2
          },
          "yaxis": {
           "gridcolor": "#283442",
           "linecolor": "#506784",
           "ticks": "",
           "title": {
            "standoff": 15
           },
           "zerolinecolor": "#283442",
           "automargin": true,
           "zerolinewidth": 2
          },
          "scene": {
           "xaxis": {
            "backgroundcolor": "rgb(17,17,17)",
            "gridcolor": "#506784",
            "linecolor": "#506784",
            "showbackground": true,
            "ticks": "",
            "zerolinecolor": "#C8D4E3",
            "gridwidth": 2
           },
           "yaxis": {
            "backgroundcolor": "rgb(17,17,17)",
            "gridcolor": "#506784",
            "linecolor": "#506784",
            "showbackground": true,
            "ticks": "",
            "zerolinecolor": "#C8D4E3",
            "gridwidth": 2
           },
           "zaxis": {
            "backgroundcolor": "rgb(17,17,17)",
            "gridcolor": "#506784",
            "linecolor": "#506784",
            "showbackground": true,
            "ticks": "",
            "zerolinecolor": "#C8D4E3",
            "gridwidth": 2
           }
          },
          "shapedefaults": {
           "line": {
            "color": "#f2f5fa"
           }
          },
          "annotationdefaults": {
           "arrowcolor": "#f2f5fa",
           "arrowhead": 0,
           "arrowwidth": 1
          },
          "geo": {
           "bgcolor": "rgb(17,17,17)",
           "landcolor": "rgb(17,17,17)",
           "subunitcolor": "#506784",
           "showland": true,
           "showlakes": true,
           "lakecolor": "rgb(17,17,17)"
          },
          "title": {
           "x": 0.05
          },
          "updatemenudefaults": {
           "bgcolor": "#506784",
           "borderwidth": 0
          },
          "sliderdefaults": {
           "bgcolor": "#C8D4E3",
           "borderwidth": 1,
           "bordercolor": "rgb(17,17,17)",
           "tickwidth": 0
          },
          "mapbox": {
           "style": "dark"
          }
         }
        },
        "xaxis": {
         "anchor": "y",
         "domain": [
          0.0,
          1.0
         ],
         "title": {
          "text": "Date"
         }
        },
        "yaxis": {
         "anchor": "x",
         "domain": [
          0.0,
          1.0
         ],
         "title": {
          "text": "Full Fine"
         }
        },
        "legend": {
         "tracegroupgap": 0
        },
        "margin": {
         "t": 60
        }
       },
       "config": {
        "plotlyServerURL": "https://plot.ly"
       }
      },
      "text/html": "<div>                            <div id=\"bc984b24-d21d-431b-809d-31ab16b83d20\" class=\"plotly-graph-div\" style=\"height:525px; width:100%;\"></div>            <script type=\"text/javascript\">                require([\"plotly\"], function(Plotly) {                    window.PLOTLYENV=window.PLOTLYENV || {};                                    if (document.getElementById(\"bc984b24-d21d-431b-809d-31ab16b83d20\")) {                    Plotly.newPlot(                        \"bc984b24-d21d-431b-809d-31ab16b83d20\",                        [{\"hovertemplate\":\"Date=%{x}<br>Full Fine=%{y}<extra></extra>\",\"legendgroup\":\"\",\"marker\":{\"color\":\"#636efa\",\"symbol\":\"circle\"},\"mode\":\"markers\",\"name\":\"\",\"orientation\":\"v\",\"showlegend\":false,\"x\":[\"2013-09-02T00:00:00\",\"2013-09-28T00:00:00\",\"2013-09-28T00:00:00\",\"2013-09-29T00:00:00\",\"2013-12-12T00:00:00\",\"2013-12-12T00:00:00\",\"2013-12-12T00:00:00\",\"2013-12-12T00:00:00\",\"2014-02-18T00:00:00\",\"2014-04-05T00:00:00\",\"2014-04-28T00:00:00\",\"2014-05-14T00:00:00\",\"2014-05-14T00:00:00\",\"2014-05-14T00:00:00\",\"2014-05-18T00:00:00\",\"2014-09-11T00:00:00\",\"2014-11-04T00:00:00\",\"2014-11-04T00:00:00\",\"2014-11-04T00:00:00\",\"2014-12-28T00:00:00\",\"2014-12-28T00:00:00\",\"2015-02-14T00:00:00\",\"2015-02-14T00:00:00\",\"2015-02-14T00:00:00\",\"2015-02-14T00:00:00\",\"2015-02-14T00:00:00\",\"2015-02-14T00:00:00\",\"2015-02-14T00:00:00\",\"2015-02-14T00:00:00\",\"2015-02-14T00:00:00\",\"2015-02-14T00:00:00\",\"2015-02-14T00:00:00\",\"2015-02-14T00:00:00\",\"2015-02-14T00:00:00\",\"2015-07-03T00:00:00\",\"2015-10-06T00:00:00\",\"2015-11-01T00:00:00\",\"2015-11-01T00:00:00\",\"2015-11-14T00:00:00\",\"2016-05-13T00:00:00\",\"2016-05-13T00:00:00\",\"2016-05-13T00:00:00\",\"2016-05-13T00:00:00\",\"2016-05-13T00:00:00\",\"2016-05-29T00:00:00\",\"2016-07-01T00:00:00\",\"2016-07-11T00:00:00\",\"2016-07-19T00:00:00\",\"2016-07-23T00:00:00\",\"2016-07-24T00:00:00\",\"2016-12-13T00:00:00\",\"2017-01-11T00:00:00\",\"2017-01-15T00:00:00\",\"2017-01-17T00:00:00\",\"2017-01-25T00:00:00\",\"2017-04-15T00:00:00\",\"2017-06-26T00:00:00\",\"2017-08-09T00:00:00\",\"2017-08-14T00:00:00\",\"2017-08-18T00:00:00\",\"2017-10-03T00:00:00\",\"2017-12-11T00:00:00\",\"2017-12-24T00:00:00\",\"2017-12-30T00:00:00\",\"2018-03-07T00:00:00\",\"2018-07-11T00:00:00\",\"2018-07-11T00:00:00\",\"2018-07-11T00:00:00\",\"2018-07-18T00:00:00\",\"2018-07-19T00:00:00\",\"2018-07-28T00:00:00\",\"2018-07-28T00:00:00\",\"2018-08-02T00:00:00\",\"2018-08-04T00:00:00\",\"2018-08-09T00:00:00\",\"2018-08-11T00:00:00\",\"2018-08-19T00:00:00\",\"2018-08-22T00:00:00\",\"2018-09-01T00:00:00\",\"2018-09-25T00:00:00\",\"2018-10-09T00:00:00\",\"2018-10-17T00:00:00\",\"2018-10-17T00:00:00\",\"2018-11-17T00:00:00\",\"2018-11-24T00:00:00\",\"2018-11-24T00:00:00\",\"2019-01-11T00:00:00\",\"2019-03-22T00:00:00\",\"2019-04-08T00:00:00\",\"2019-04-12T00:00:00\",\"2019-05-28T00:00:00\",\"2019-07-25T00:00:00\",\"2019-07-26T00:00:00\",\"2019-09-15T00:00:00\",\"2019-09-27T00:00:00\",\"2019-10-15T00:00:00\",\"2019-11-24T00:00:00\",\"2020-01-21T00:00:00\",\"2020-01-22T00:00:00\",\"2020-01-22T00:00:00\",\"2020-01-23T00:00:00\",\"2020-01-31T00:00:00\",\"2020-06-14T00:00:00\",\"2020-06-19T00:00:00\",\"2020-07-17T00:00:00\",\"2020-08-03T00:00:00\",\"2020-09-01T00:00:00\",\"2020-09-01T00:00:00\",\"2020-12-10T00:00:00\",\"2020-12-13T00:00:00\",\"2021-03-03T00:00:00\",\"2021-04-06T00:00:00\",\"2021-07-18T00:00:00\",\"2021-11-15T00:00:00\",\"2022-03-03T00:00:00\",\"2022-08-01T00:00:00\",\"2022-09-02T00:00:00\",\"2022-09-06T00:00:00\",\"2022-09-06T00:00:00\",\"2022-09-09T00:00:00\",\"2022-09-11T00:00:00\",\"2022-10-29T00:00:00\",\"2022-11-09T00:00:00\",\"2022-11-12T00:00:00\",\"2022-12-19T00:00:00\",\"2022-12-20T00:00:00\"],\"xaxis\":\"x\",\"y\":[70.0,70.0,70.0,70.0,150.0,150.0,150.0,150.0,70.0,70.0,70.0,70.0,70.0,70.0,70.0,100.0,70.0,70.0,70.0,100.0,70.0,150.0,150.0,150.0,150.0,150.0,150.0,150.0,150.0,150.0,150.0,150.0,150.0,150.0,70.0,70.0,70.0,70.0,70.0,70.0,70.0,70.0,70.0,70.0,70.0,70.0,70.0,70.0,70.0,70.0,70.0,70.0,70.0,70.0,70.0,70.0,70.0,100.0,100.0,100.0,70.0,100.0,100.0,100.0,100.0,100.0,100.0,100.0,100.0,100.0,100.0,100.0,100.0,100.0,100.0,70.0,70.0,100.0,100.0,100.0,100.0,70.0,100.0,100.0,100.0,70.0,70.0,100.0,100.0,100.0,100.0,100.0,100.0,70.0,100.0,100.0,70.0,70.0,70.0,70.0,70.0,100.0,100.0,100.0,100.0,100.0,100.0,100.0,300.0,300.0,100.0,100.0,100.0,100.0,100.0,100.0,100.0,100.0,300.0,100.0,300.0,300.0,300.0,300.0,100.0,100.0],\"yaxis\":\"y\",\"type\":\"scatter\"}],                        {\"template\":{\"data\":{\"histogram2dcontour\":[{\"type\":\"histogram2dcontour\",\"colorbar\":{\"outlinewidth\":0,\"ticks\":\"\"},\"colorscale\":[[0.0,\"#0d0887\"],[0.1111111111111111,\"#46039f\"],[0.2222222222222222,\"#7201a8\"],[0.3333333333333333,\"#9c179e\"],[0.4444444444444444,\"#bd3786\"],[0.5555555555555556,\"#d8576b\"],[0.6666666666666666,\"#ed7953\"],[0.7777777777777778,\"#fb9f3a\"],[0.8888888888888888,\"#fdca26\"],[1.0,\"#f0f921\"]]}],\"choropleth\":[{\"type\":\"choropleth\",\"colorbar\":{\"outlinewidth\":0,\"ticks\":\"\"}}],\"histogram2d\":[{\"type\":\"histogram2d\",\"colorbar\":{\"outlinewidth\":0,\"ticks\":\"\"},\"colorscale\":[[0.0,\"#0d0887\"],[0.1111111111111111,\"#46039f\"],[0.2222222222222222,\"#7201a8\"],[0.3333333333333333,\"#9c179e\"],[0.4444444444444444,\"#bd3786\"],[0.5555555555555556,\"#d8576b\"],[0.6666666666666666,\"#ed7953\"],[0.7777777777777778,\"#fb9f3a\"],[0.8888888888888888,\"#fdca26\"],[1.0,\"#f0f921\"]]}],\"heatmap\":[{\"type\":\"heatmap\",\"colorbar\":{\"outlinewidth\":0,\"ticks\":\"\"},\"colorscale\":[[0.0,\"#0d0887\"],[0.1111111111111111,\"#46039f\"],[0.2222222222222222,\"#7201a8\"],[0.3333333333333333,\"#9c179e\"],[0.4444444444444444,\"#bd3786\"],[0.5555555555555556,\"#d8576b\"],[0.6666666666666666,\"#ed7953\"],[0.7777777777777778,\"#fb9f3a\"],[0.8888888888888888,\"#fdca26\"],[1.0,\"#f0f921\"]]}],\"heatmapgl\":[{\"type\":\"heatmapgl\",\"colorbar\":{\"outlinewidth\":0,\"ticks\":\"\"},\"colorscale\":[[0.0,\"#0d0887\"],[0.1111111111111111,\"#46039f\"],[0.2222222222222222,\"#7201a8\"],[0.3333333333333333,\"#9c179e\"],[0.4444444444444444,\"#bd3786\"],[0.5555555555555556,\"#d8576b\"],[0.6666666666666666,\"#ed7953\"],[0.7777777777777778,\"#fb9f3a\"],[0.8888888888888888,\"#fdca26\"],[1.0,\"#f0f921\"]]}],\"contourcarpet\":[{\"type\":\"contourcarpet\",\"colorbar\":{\"outlinewidth\":0,\"ticks\":\"\"}}],\"contour\":[{\"type\":\"contour\",\"colorbar\":{\"outlinewidth\":0,\"ticks\":\"\"},\"colorscale\":[[0.0,\"#0d0887\"],[0.1111111111111111,\"#46039f\"],[0.2222222222222222,\"#7201a8\"],[0.3333333333333333,\"#9c179e\"],[0.4444444444444444,\"#bd3786\"],[0.5555555555555556,\"#d8576b\"],[0.6666666666666666,\"#ed7953\"],[0.7777777777777778,\"#fb9f3a\"],[0.8888888888888888,\"#fdca26\"],[1.0,\"#f0f921\"]]}],\"surface\":[{\"type\":\"surface\",\"colorbar\":{\"outlinewidth\":0,\"ticks\":\"\"},\"colorscale\":[[0.0,\"#0d0887\"],[0.1111111111111111,\"#46039f\"],[0.2222222222222222,\"#7201a8\"],[0.3333333333333333,\"#9c179e\"],[0.4444444444444444,\"#bd3786\"],[0.5555555555555556,\"#d8576b\"],[0.6666666666666666,\"#ed7953\"],[0.7777777777777778,\"#fb9f3a\"],[0.8888888888888888,\"#fdca26\"],[1.0,\"#f0f921\"]]}],\"mesh3d\":[{\"type\":\"mesh3d\",\"colorbar\":{\"outlinewidth\":0,\"ticks\":\"\"}}],\"scatter\":[{\"marker\":{\"line\":{\"color\":\"#283442\"}},\"type\":\"scatter\"}],\"parcoords\":[{\"type\":\"parcoords\",\"line\":{\"colorbar\":{\"outlinewidth\":0,\"ticks\":\"\"}}}],\"scatterpolargl\":[{\"type\":\"scatterpolargl\",\"marker\":{\"colorbar\":{\"outlinewidth\":0,\"ticks\":\"\"}}}],\"bar\":[{\"error_x\":{\"color\":\"#f2f5fa\"},\"error_y\":{\"color\":\"#f2f5fa\"},\"marker\":{\"line\":{\"color\":\"rgb(17,17,17)\",\"width\":0.5},\"pattern\":{\"fillmode\":\"overlay\",\"size\":10,\"solidity\":0.2}},\"type\":\"bar\"}],\"scattergeo\":[{\"type\":\"scattergeo\",\"marker\":{\"colorbar\":{\"outlinewidth\":0,\"ticks\":\"\"}}}],\"scatterpolar\":[{\"type\":\"scatterpolar\",\"marker\":{\"colorbar\":{\"outlinewidth\":0,\"ticks\":\"\"}}}],\"histogram\":[{\"marker\":{\"pattern\":{\"fillmode\":\"overlay\",\"size\":10,\"solidity\":0.2}},\"type\":\"histogram\"}],\"scattergl\":[{\"marker\":{\"line\":{\"color\":\"#283442\"}},\"type\":\"scattergl\"}],\"scatter3d\":[{\"type\":\"scatter3d\",\"line\":{\"colorbar\":{\"outlinewidth\":0,\"ticks\":\"\"}},\"marker\":{\"colorbar\":{\"outlinewidth\":0,\"ticks\":\"\"}}}],\"scattermapbox\":[{\"type\":\"scattermapbox\",\"marker\":{\"colorbar\":{\"outlinewidth\":0,\"ticks\":\"\"}}}],\"scatterternary\":[{\"type\":\"scatterternary\",\"marker\":{\"colorbar\":{\"outlinewidth\":0,\"ticks\":\"\"}}}],\"scattercarpet\":[{\"type\":\"scattercarpet\",\"marker\":{\"colorbar\":{\"outlinewidth\":0,\"ticks\":\"\"}}}],\"carpet\":[{\"aaxis\":{\"endlinecolor\":\"#A2B1C6\",\"gridcolor\":\"#506784\",\"linecolor\":\"#506784\",\"minorgridcolor\":\"#506784\",\"startlinecolor\":\"#A2B1C6\"},\"baxis\":{\"endlinecolor\":\"#A2B1C6\",\"gridcolor\":\"#506784\",\"linecolor\":\"#506784\",\"minorgridcolor\":\"#506784\",\"startlinecolor\":\"#A2B1C6\"},\"type\":\"carpet\"}],\"table\":[{\"cells\":{\"fill\":{\"color\":\"#506784\"},\"line\":{\"color\":\"rgb(17,17,17)\"}},\"header\":{\"fill\":{\"color\":\"#2a3f5f\"},\"line\":{\"color\":\"rgb(17,17,17)\"}},\"type\":\"table\"}],\"barpolar\":[{\"marker\":{\"line\":{\"color\":\"rgb(17,17,17)\",\"width\":0.5},\"pattern\":{\"fillmode\":\"overlay\",\"size\":10,\"solidity\":0.2}},\"type\":\"barpolar\"}],\"pie\":[{\"automargin\":true,\"type\":\"pie\"}]},\"layout\":{\"autotypenumbers\":\"strict\",\"colorway\":[\"#636efa\",\"#EF553B\",\"#00cc96\",\"#ab63fa\",\"#FFA15A\",\"#19d3f3\",\"#FF6692\",\"#B6E880\",\"#FF97FF\",\"#FECB52\"],\"font\":{\"color\":\"#f2f5fa\"},\"hovermode\":\"closest\",\"hoverlabel\":{\"align\":\"left\"},\"paper_bgcolor\":\"rgb(17,17,17)\",\"plot_bgcolor\":\"rgb(17,17,17)\",\"polar\":{\"bgcolor\":\"rgb(17,17,17)\",\"angularaxis\":{\"gridcolor\":\"#506784\",\"linecolor\":\"#506784\",\"ticks\":\"\"},\"radialaxis\":{\"gridcolor\":\"#506784\",\"linecolor\":\"#506784\",\"ticks\":\"\"}},\"ternary\":{\"bgcolor\":\"rgb(17,17,17)\",\"aaxis\":{\"gridcolor\":\"#506784\",\"linecolor\":\"#506784\",\"ticks\":\"\"},\"baxis\":{\"gridcolor\":\"#506784\",\"linecolor\":\"#506784\",\"ticks\":\"\"},\"caxis\":{\"gridcolor\":\"#506784\",\"linecolor\":\"#506784\",\"ticks\":\"\"}},\"coloraxis\":{\"colorbar\":{\"outlinewidth\":0,\"ticks\":\"\"}},\"colorscale\":{\"sequential\":[[0.0,\"#0d0887\"],[0.1111111111111111,\"#46039f\"],[0.2222222222222222,\"#7201a8\"],[0.3333333333333333,\"#9c179e\"],[0.4444444444444444,\"#bd3786\"],[0.5555555555555556,\"#d8576b\"],[0.6666666666666666,\"#ed7953\"],[0.7777777777777778,\"#fb9f3a\"],[0.8888888888888888,\"#fdca26\"],[1.0,\"#f0f921\"]],\"sequentialminus\":[[0.0,\"#0d0887\"],[0.1111111111111111,\"#46039f\"],[0.2222222222222222,\"#7201a8\"],[0.3333333333333333,\"#9c179e\"],[0.4444444444444444,\"#bd3786\"],[0.5555555555555556,\"#d8576b\"],[0.6666666666666666,\"#ed7953\"],[0.7777777777777778,\"#fb9f3a\"],[0.8888888888888888,\"#fdca26\"],[1.0,\"#f0f921\"]],\"diverging\":[[0,\"#8e0152\"],[0.1,\"#c51b7d\"],[0.2,\"#de77ae\"],[0.3,\"#f1b6da\"],[0.4,\"#fde0ef\"],[0.5,\"#f7f7f7\"],[0.6,\"#e6f5d0\"],[0.7,\"#b8e186\"],[0.8,\"#7fbc41\"],[0.9,\"#4d9221\"],[1,\"#276419\"]]},\"xaxis\":{\"gridcolor\":\"#283442\",\"linecolor\":\"#506784\",\"ticks\":\"\",\"title\":{\"standoff\":15},\"zerolinecolor\":\"#283442\",\"automargin\":true,\"zerolinewidth\":2},\"yaxis\":{\"gridcolor\":\"#283442\",\"linecolor\":\"#506784\",\"ticks\":\"\",\"title\":{\"standoff\":15},\"zerolinecolor\":\"#283442\",\"automargin\":true,\"zerolinewidth\":2},\"scene\":{\"xaxis\":{\"backgroundcolor\":\"rgb(17,17,17)\",\"gridcolor\":\"#506784\",\"linecolor\":\"#506784\",\"showbackground\":true,\"ticks\":\"\",\"zerolinecolor\":\"#C8D4E3\",\"gridwidth\":2},\"yaxis\":{\"backgroundcolor\":\"rgb(17,17,17)\",\"gridcolor\":\"#506784\",\"linecolor\":\"#506784\",\"showbackground\":true,\"ticks\":\"\",\"zerolinecolor\":\"#C8D4E3\",\"gridwidth\":2},\"zaxis\":{\"backgroundcolor\":\"rgb(17,17,17)\",\"gridcolor\":\"#506784\",\"linecolor\":\"#506784\",\"showbackground\":true,\"ticks\":\"\",\"zerolinecolor\":\"#C8D4E3\",\"gridwidth\":2}},\"shapedefaults\":{\"line\":{\"color\":\"#f2f5fa\"}},\"annotationdefaults\":{\"arrowcolor\":\"#f2f5fa\",\"arrowhead\":0,\"arrowwidth\":1},\"geo\":{\"bgcolor\":\"rgb(17,17,17)\",\"landcolor\":\"rgb(17,17,17)\",\"subunitcolor\":\"#506784\",\"showland\":true,\"showlakes\":true,\"lakecolor\":\"rgb(17,17,17)\"},\"title\":{\"x\":0.05},\"updatemenudefaults\":{\"bgcolor\":\"#506784\",\"borderwidth\":0},\"sliderdefaults\":{\"bgcolor\":\"#C8D4E3\",\"borderwidth\":1,\"bordercolor\":\"rgb(17,17,17)\",\"tickwidth\":0},\"mapbox\":{\"style\":\"dark\"}}},\"xaxis\":{\"anchor\":\"y\",\"domain\":[0.0,1.0],\"title\":{\"text\":\"Date\"}},\"yaxis\":{\"anchor\":\"x\",\"domain\":[0.0,1.0],\"title\":{\"text\":\"Full Fine\"}},\"legend\":{\"tracegroupgap\":0},\"margin\":{\"t\":60}},                        {\"responsive\": true}                    ).then(function(){\n                            \nvar gd = document.getElementById('bc984b24-d21d-431b-809d-31ab16b83d20');\nvar x = new MutationObserver(function (mutations, observer) {{\n        var display = window.getComputedStyle(gd).display;\n        if (!display || display === 'none') {{\n            console.log([gd, 'removed!']);\n            Plotly.purge(gd);\n            observer.disconnect();\n        }}\n}});\n\n// Listen for the removal of the full notebook cells\nvar notebookContainer = gd.closest('#notebook-container');\nif (notebookContainer) {{\n    x.observe(notebookContainer, {childList: true});\n}}\n\n// Listen for the clearing of the current output cell\nvar outputEl = gd.closest('.output');\nif (outputEl) {{\n    x.observe(outputEl, {childList: true});\n}}\n\n                        })                };                });            </script>        </div>"
     },
     "metadata": {},
     "output_type": "display_data"
    }
   ],
   "source": [
    "fig = px.scatter(sorted_hag, x='Date', y=\"Full Fine\")\n",
    "fig.show()"
   ],
   "metadata": {
    "collapsed": false,
    "pycharm": {
     "name": "#%%\n"
    }
   }
  },
  {
   "cell_type": "code",
   "execution_count": 26,
   "outputs": [
    {
     "data": {
      "text/plain": "             Date      Time    Street                  Location  Full Fine  \\\n3      2021-11-15   0:00:00  Lloyd ST        (49.873, -97.1171)      100.0   \n661059 2017-06-26   9:19:37  Lloyd ST  (49.8728083, -97.116613)       70.0   \n659776 2017-08-14  10:42:04  Lloyd ST  (49.8753383, -97.119958)      100.0   \n848893 2019-04-08   4:29:19  Lloyd ST  (49.8735383, -97.117498)      100.0   \n526511 2016-07-11   7:47:18  Lloyd ST  (49.8742833, -97.118488)       70.0   \n\n        Discounted Fine Violation Code         Violation Description  \\\n3                  75.0            P13                  Fire Hydrant   \n661059             35.0             17   Too close to a traffic sign   \n659776             50.0              9  Too close/in an intersection   \n848893             75.0            P13                  Fire Hydrant   \n526511             35.0             11     No parking - loading zone   \n\n        Day of Week  \n3                 0  \n661059            0  \n659776            0  \n848893            0  \n526511            0  ",
      "text/html": "<div>\n<style scoped>\n    .dataframe tbody tr th:only-of-type {\n        vertical-align: middle;\n    }\n\n    .dataframe tbody tr th {\n        vertical-align: top;\n    }\n\n    .dataframe thead th {\n        text-align: right;\n    }\n</style>\n<table border=\"1\" class=\"dataframe\">\n  <thead>\n    <tr style=\"text-align: right;\">\n      <th></th>\n      <th>Date</th>\n      <th>Time</th>\n      <th>Street</th>\n      <th>Location</th>\n      <th>Full Fine</th>\n      <th>Discounted Fine</th>\n      <th>Violation Code</th>\n      <th>Violation Description</th>\n      <th>Day of Week</th>\n    </tr>\n  </thead>\n  <tbody>\n    <tr>\n      <th>3</th>\n      <td>2021-11-15</td>\n      <td>0:00:00</td>\n      <td>Lloyd ST</td>\n      <td>(49.873, -97.1171)</td>\n      <td>100.0</td>\n      <td>75.0</td>\n      <td>P13</td>\n      <td>Fire Hydrant</td>\n      <td>0</td>\n    </tr>\n    <tr>\n      <th>661059</th>\n      <td>2017-06-26</td>\n      <td>9:19:37</td>\n      <td>Lloyd ST</td>\n      <td>(49.8728083, -97.116613)</td>\n      <td>70.0</td>\n      <td>35.0</td>\n      <td>17</td>\n      <td>Too close to a traffic sign</td>\n      <td>0</td>\n    </tr>\n    <tr>\n      <th>659776</th>\n      <td>2017-08-14</td>\n      <td>10:42:04</td>\n      <td>Lloyd ST</td>\n      <td>(49.8753383, -97.119958)</td>\n      <td>100.0</td>\n      <td>50.0</td>\n      <td>9</td>\n      <td>Too close/in an intersection</td>\n      <td>0</td>\n    </tr>\n    <tr>\n      <th>848893</th>\n      <td>2019-04-08</td>\n      <td>4:29:19</td>\n      <td>Lloyd ST</td>\n      <td>(49.8735383, -97.117498)</td>\n      <td>100.0</td>\n      <td>75.0</td>\n      <td>P13</td>\n      <td>Fire Hydrant</td>\n      <td>0</td>\n    </tr>\n    <tr>\n      <th>526511</th>\n      <td>2016-07-11</td>\n      <td>7:47:18</td>\n      <td>Lloyd ST</td>\n      <td>(49.8742833, -97.118488)</td>\n      <td>70.0</td>\n      <td>35.0</td>\n      <td>11</td>\n      <td>No parking - loading zone</td>\n      <td>0</td>\n    </tr>\n  </tbody>\n</table>\n</div>"
     },
     "execution_count": 26,
     "metadata": {},
     "output_type": "execute_result"
    }
   ],
   "source": [
    "sorted_week = hag_data.sort_values(by=\"Day of Week\")\n",
    "sorted_week.head()"
   ],
   "metadata": {
    "collapsed": false,
    "pycharm": {
     "name": "#%%\n"
    }
   }
  },
  {
   "cell_type": "code",
   "execution_count": 25,
   "outputs": [
    {
     "data": {
      "application/vnd.plotly.v1+json": {
       "data": [
        {
         "hovertemplate": "Day of Week=%{x}<br>Full Fine=%{y}<extra></extra>",
         "legendgroup": "",
         "marker": {
          "color": "#636efa",
          "symbol": "circle"
         },
         "mode": "markers",
         "name": "",
         "orientation": "v",
         "showlegend": false,
         "x": [
          0,
          0,
          0,
          0,
          0,
          0,
          0,
          0,
          0,
          0,
          0,
          1,
          1,
          1,
          1,
          1,
          1,
          1,
          1,
          1,
          1,
          1,
          1,
          1,
          1,
          1,
          1,
          1,
          1,
          1,
          1,
          2,
          2,
          2,
          2,
          2,
          2,
          2,
          2,
          2,
          2,
          2,
          2,
          2,
          2,
          2,
          2,
          2,
          2,
          3,
          3,
          3,
          3,
          3,
          3,
          3,
          3,
          3,
          3,
          3,
          3,
          4,
          4,
          4,
          4,
          4,
          4,
          4,
          4,
          4,
          4,
          4,
          4,
          4,
          4,
          4,
          4,
          4,
          4,
          5,
          5,
          5,
          5,
          5,
          5,
          5,
          5,
          5,
          5,
          5,
          5,
          5,
          5,
          5,
          5,
          5,
          5,
          5,
          5,
          5,
          5,
          5,
          5,
          5,
          5,
          5,
          5,
          5,
          5,
          6,
          6,
          6,
          6,
          6,
          6,
          6,
          6,
          6,
          6,
          6,
          6,
          6,
          6,
          6,
          6,
          6
         ],
         "xaxis": "x",
         "y": [
          100.0,
          70.0,
          100.0,
          100.0,
          70.0,
          100.0,
          70.0,
          100.0,
          70.0,
          100.0,
          100.0,
          100.0,
          100.0,
          300.0,
          70.0,
          70.0,
          70.0,
          70.0,
          70.0,
          100.0,
          100.0,
          70.0,
          100.0,
          100.0,
          70.0,
          70.0,
          100.0,
          100.0,
          100.0,
          70.0,
          70.0,
          100.0,
          100.0,
          100.0,
          100.0,
          100.0,
          300.0,
          100.0,
          70.0,
          70.0,
          70.0,
          70.0,
          70.0,
          70.0,
          100.0,
          100.0,
          70.0,
          70.0,
          100.0,
          100.0,
          100.0,
          300.0,
          100.0,
          150.0,
          100.0,
          70.0,
          150.0,
          150.0,
          150.0,
          100.0,
          100.0,
          70.0,
          100.0,
          100.0,
          100.0,
          100.0,
          100.0,
          70.0,
          70.0,
          100.0,
          100.0,
          100.0,
          70.0,
          70.0,
          70.0,
          70.0,
          100.0,
          70.0,
          100.0,
          100.0,
          70.0,
          100.0,
          100.0,
          100.0,
          100.0,
          100.0,
          150.0,
          70.0,
          300.0,
          70.0,
          70.0,
          70.0,
          150.0,
          150.0,
          150.0,
          150.0,
          300.0,
          150.0,
          150.0,
          150.0,
          150.0,
          150.0,
          150.0,
          150.0,
          150.0,
          70.0,
          70.0,
          70.0,
          100.0,
          70.0,
          100.0,
          70.0,
          70.0,
          70.0,
          70.0,
          70.0,
          100.0,
          70.0,
          70.0,
          70.0,
          70.0,
          100.0,
          100.0,
          300.0,
          70.0,
          300.0
         ],
         "yaxis": "y",
         "type": "scatter"
        }
       ],
       "layout": {
        "template": {
         "data": {
          "histogram2dcontour": [
           {
            "type": "histogram2dcontour",
            "colorbar": {
             "outlinewidth": 0,
             "ticks": ""
            },
            "colorscale": [
             [
              0.0,
              "#0d0887"
             ],
             [
              0.1111111111111111,
              "#46039f"
             ],
             [
              0.2222222222222222,
              "#7201a8"
             ],
             [
              0.3333333333333333,
              "#9c179e"
             ],
             [
              0.4444444444444444,
              "#bd3786"
             ],
             [
              0.5555555555555556,
              "#d8576b"
             ],
             [
              0.6666666666666666,
              "#ed7953"
             ],
             [
              0.7777777777777778,
              "#fb9f3a"
             ],
             [
              0.8888888888888888,
              "#fdca26"
             ],
             [
              1.0,
              "#f0f921"
             ]
            ]
           }
          ],
          "choropleth": [
           {
            "type": "choropleth",
            "colorbar": {
             "outlinewidth": 0,
             "ticks": ""
            }
           }
          ],
          "histogram2d": [
           {
            "type": "histogram2d",
            "colorbar": {
             "outlinewidth": 0,
             "ticks": ""
            },
            "colorscale": [
             [
              0.0,
              "#0d0887"
             ],
             [
              0.1111111111111111,
              "#46039f"
             ],
             [
              0.2222222222222222,
              "#7201a8"
             ],
             [
              0.3333333333333333,
              "#9c179e"
             ],
             [
              0.4444444444444444,
              "#bd3786"
             ],
             [
              0.5555555555555556,
              "#d8576b"
             ],
             [
              0.6666666666666666,
              "#ed7953"
             ],
             [
              0.7777777777777778,
              "#fb9f3a"
             ],
             [
              0.8888888888888888,
              "#fdca26"
             ],
             [
              1.0,
              "#f0f921"
             ]
            ]
           }
          ],
          "heatmap": [
           {
            "type": "heatmap",
            "colorbar": {
             "outlinewidth": 0,
             "ticks": ""
            },
            "colorscale": [
             [
              0.0,
              "#0d0887"
             ],
             [
              0.1111111111111111,
              "#46039f"
             ],
             [
              0.2222222222222222,
              "#7201a8"
             ],
             [
              0.3333333333333333,
              "#9c179e"
             ],
             [
              0.4444444444444444,
              "#bd3786"
             ],
             [
              0.5555555555555556,
              "#d8576b"
             ],
             [
              0.6666666666666666,
              "#ed7953"
             ],
             [
              0.7777777777777778,
              "#fb9f3a"
             ],
             [
              0.8888888888888888,
              "#fdca26"
             ],
             [
              1.0,
              "#f0f921"
             ]
            ]
           }
          ],
          "heatmapgl": [
           {
            "type": "heatmapgl",
            "colorbar": {
             "outlinewidth": 0,
             "ticks": ""
            },
            "colorscale": [
             [
              0.0,
              "#0d0887"
             ],
             [
              0.1111111111111111,
              "#46039f"
             ],
             [
              0.2222222222222222,
              "#7201a8"
             ],
             [
              0.3333333333333333,
              "#9c179e"
             ],
             [
              0.4444444444444444,
              "#bd3786"
             ],
             [
              0.5555555555555556,
              "#d8576b"
             ],
             [
              0.6666666666666666,
              "#ed7953"
             ],
             [
              0.7777777777777778,
              "#fb9f3a"
             ],
             [
              0.8888888888888888,
              "#fdca26"
             ],
             [
              1.0,
              "#f0f921"
             ]
            ]
           }
          ],
          "contourcarpet": [
           {
            "type": "contourcarpet",
            "colorbar": {
             "outlinewidth": 0,
             "ticks": ""
            }
           }
          ],
          "contour": [
           {
            "type": "contour",
            "colorbar": {
             "outlinewidth": 0,
             "ticks": ""
            },
            "colorscale": [
             [
              0.0,
              "#0d0887"
             ],
             [
              0.1111111111111111,
              "#46039f"
             ],
             [
              0.2222222222222222,
              "#7201a8"
             ],
             [
              0.3333333333333333,
              "#9c179e"
             ],
             [
              0.4444444444444444,
              "#bd3786"
             ],
             [
              0.5555555555555556,
              "#d8576b"
             ],
             [
              0.6666666666666666,
              "#ed7953"
             ],
             [
              0.7777777777777778,
              "#fb9f3a"
             ],
             [
              0.8888888888888888,
              "#fdca26"
             ],
             [
              1.0,
              "#f0f921"
             ]
            ]
           }
          ],
          "surface": [
           {
            "type": "surface",
            "colorbar": {
             "outlinewidth": 0,
             "ticks": ""
            },
            "colorscale": [
             [
              0.0,
              "#0d0887"
             ],
             [
              0.1111111111111111,
              "#46039f"
             ],
             [
              0.2222222222222222,
              "#7201a8"
             ],
             [
              0.3333333333333333,
              "#9c179e"
             ],
             [
              0.4444444444444444,
              "#bd3786"
             ],
             [
              0.5555555555555556,
              "#d8576b"
             ],
             [
              0.6666666666666666,
              "#ed7953"
             ],
             [
              0.7777777777777778,
              "#fb9f3a"
             ],
             [
              0.8888888888888888,
              "#fdca26"
             ],
             [
              1.0,
              "#f0f921"
             ]
            ]
           }
          ],
          "mesh3d": [
           {
            "type": "mesh3d",
            "colorbar": {
             "outlinewidth": 0,
             "ticks": ""
            }
           }
          ],
          "scatter": [
           {
            "marker": {
             "line": {
              "color": "#283442"
             }
            },
            "type": "scatter"
           }
          ],
          "parcoords": [
           {
            "type": "parcoords",
            "line": {
             "colorbar": {
              "outlinewidth": 0,
              "ticks": ""
             }
            }
           }
          ],
          "scatterpolargl": [
           {
            "type": "scatterpolargl",
            "marker": {
             "colorbar": {
              "outlinewidth": 0,
              "ticks": ""
             }
            }
           }
          ],
          "bar": [
           {
            "error_x": {
             "color": "#f2f5fa"
            },
            "error_y": {
             "color": "#f2f5fa"
            },
            "marker": {
             "line": {
              "color": "rgb(17,17,17)",
              "width": 0.5
             },
             "pattern": {
              "fillmode": "overlay",
              "size": 10,
              "solidity": 0.2
             }
            },
            "type": "bar"
           }
          ],
          "scattergeo": [
           {
            "type": "scattergeo",
            "marker": {
             "colorbar": {
              "outlinewidth": 0,
              "ticks": ""
             }
            }
           }
          ],
          "scatterpolar": [
           {
            "type": "scatterpolar",
            "marker": {
             "colorbar": {
              "outlinewidth": 0,
              "ticks": ""
             }
            }
           }
          ],
          "histogram": [
           {
            "marker": {
             "pattern": {
              "fillmode": "overlay",
              "size": 10,
              "solidity": 0.2
             }
            },
            "type": "histogram"
           }
          ],
          "scattergl": [
           {
            "marker": {
             "line": {
              "color": "#283442"
             }
            },
            "type": "scattergl"
           }
          ],
          "scatter3d": [
           {
            "type": "scatter3d",
            "line": {
             "colorbar": {
              "outlinewidth": 0,
              "ticks": ""
             }
            },
            "marker": {
             "colorbar": {
              "outlinewidth": 0,
              "ticks": ""
             }
            }
           }
          ],
          "scattermapbox": [
           {
            "type": "scattermapbox",
            "marker": {
             "colorbar": {
              "outlinewidth": 0,
              "ticks": ""
             }
            }
           }
          ],
          "scatterternary": [
           {
            "type": "scatterternary",
            "marker": {
             "colorbar": {
              "outlinewidth": 0,
              "ticks": ""
             }
            }
           }
          ],
          "scattercarpet": [
           {
            "type": "scattercarpet",
            "marker": {
             "colorbar": {
              "outlinewidth": 0,
              "ticks": ""
             }
            }
           }
          ],
          "carpet": [
           {
            "aaxis": {
             "endlinecolor": "#A2B1C6",
             "gridcolor": "#506784",
             "linecolor": "#506784",
             "minorgridcolor": "#506784",
             "startlinecolor": "#A2B1C6"
            },
            "baxis": {
             "endlinecolor": "#A2B1C6",
             "gridcolor": "#506784",
             "linecolor": "#506784",
             "minorgridcolor": "#506784",
             "startlinecolor": "#A2B1C6"
            },
            "type": "carpet"
           }
          ],
          "table": [
           {
            "cells": {
             "fill": {
              "color": "#506784"
             },
             "line": {
              "color": "rgb(17,17,17)"
             }
            },
            "header": {
             "fill": {
              "color": "#2a3f5f"
             },
             "line": {
              "color": "rgb(17,17,17)"
             }
            },
            "type": "table"
           }
          ],
          "barpolar": [
           {
            "marker": {
             "line": {
              "color": "rgb(17,17,17)",
              "width": 0.5
             },
             "pattern": {
              "fillmode": "overlay",
              "size": 10,
              "solidity": 0.2
             }
            },
            "type": "barpolar"
           }
          ],
          "pie": [
           {
            "automargin": true,
            "type": "pie"
           }
          ]
         },
         "layout": {
          "autotypenumbers": "strict",
          "colorway": [
           "#636efa",
           "#EF553B",
           "#00cc96",
           "#ab63fa",
           "#FFA15A",
           "#19d3f3",
           "#FF6692",
           "#B6E880",
           "#FF97FF",
           "#FECB52"
          ],
          "font": {
           "color": "#f2f5fa"
          },
          "hovermode": "closest",
          "hoverlabel": {
           "align": "left"
          },
          "paper_bgcolor": "rgb(17,17,17)",
          "plot_bgcolor": "rgb(17,17,17)",
          "polar": {
           "bgcolor": "rgb(17,17,17)",
           "angularaxis": {
            "gridcolor": "#506784",
            "linecolor": "#506784",
            "ticks": ""
           },
           "radialaxis": {
            "gridcolor": "#506784",
            "linecolor": "#506784",
            "ticks": ""
           }
          },
          "ternary": {
           "bgcolor": "rgb(17,17,17)",
           "aaxis": {
            "gridcolor": "#506784",
            "linecolor": "#506784",
            "ticks": ""
           },
           "baxis": {
            "gridcolor": "#506784",
            "linecolor": "#506784",
            "ticks": ""
           },
           "caxis": {
            "gridcolor": "#506784",
            "linecolor": "#506784",
            "ticks": ""
           }
          },
          "coloraxis": {
           "colorbar": {
            "outlinewidth": 0,
            "ticks": ""
           }
          },
          "colorscale": {
           "sequential": [
            [
             0.0,
             "#0d0887"
            ],
            [
             0.1111111111111111,
             "#46039f"
            ],
            [
             0.2222222222222222,
             "#7201a8"
            ],
            [
             0.3333333333333333,
             "#9c179e"
            ],
            [
             0.4444444444444444,
             "#bd3786"
            ],
            [
             0.5555555555555556,
             "#d8576b"
            ],
            [
             0.6666666666666666,
             "#ed7953"
            ],
            [
             0.7777777777777778,
             "#fb9f3a"
            ],
            [
             0.8888888888888888,
             "#fdca26"
            ],
            [
             1.0,
             "#f0f921"
            ]
           ],
           "sequentialminus": [
            [
             0.0,
             "#0d0887"
            ],
            [
             0.1111111111111111,
             "#46039f"
            ],
            [
             0.2222222222222222,
             "#7201a8"
            ],
            [
             0.3333333333333333,
             "#9c179e"
            ],
            [
             0.4444444444444444,
             "#bd3786"
            ],
            [
             0.5555555555555556,
             "#d8576b"
            ],
            [
             0.6666666666666666,
             "#ed7953"
            ],
            [
             0.7777777777777778,
             "#fb9f3a"
            ],
            [
             0.8888888888888888,
             "#fdca26"
            ],
            [
             1.0,
             "#f0f921"
            ]
           ],
           "diverging": [
            [
             0,
             "#8e0152"
            ],
            [
             0.1,
             "#c51b7d"
            ],
            [
             0.2,
             "#de77ae"
            ],
            [
             0.3,
             "#f1b6da"
            ],
            [
             0.4,
             "#fde0ef"
            ],
            [
             0.5,
             "#f7f7f7"
            ],
            [
             0.6,
             "#e6f5d0"
            ],
            [
             0.7,
             "#b8e186"
            ],
            [
             0.8,
             "#7fbc41"
            ],
            [
             0.9,
             "#4d9221"
            ],
            [
             1,
             "#276419"
            ]
           ]
          },
          "xaxis": {
           "gridcolor": "#283442",
           "linecolor": "#506784",
           "ticks": "",
           "title": {
            "standoff": 15
           },
           "zerolinecolor": "#283442",
           "automargin": true,
           "zerolinewidth": 2
          },
          "yaxis": {
           "gridcolor": "#283442",
           "linecolor": "#506784",
           "ticks": "",
           "title": {
            "standoff": 15
           },
           "zerolinecolor": "#283442",
           "automargin": true,
           "zerolinewidth": 2
          },
          "scene": {
           "xaxis": {
            "backgroundcolor": "rgb(17,17,17)",
            "gridcolor": "#506784",
            "linecolor": "#506784",
            "showbackground": true,
            "ticks": "",
            "zerolinecolor": "#C8D4E3",
            "gridwidth": 2
           },
           "yaxis": {
            "backgroundcolor": "rgb(17,17,17)",
            "gridcolor": "#506784",
            "linecolor": "#506784",
            "showbackground": true,
            "ticks": "",
            "zerolinecolor": "#C8D4E3",
            "gridwidth": 2
           },
           "zaxis": {
            "backgroundcolor": "rgb(17,17,17)",
            "gridcolor": "#506784",
            "linecolor": "#506784",
            "showbackground": true,
            "ticks": "",
            "zerolinecolor": "#C8D4E3",
            "gridwidth": 2
           }
          },
          "shapedefaults": {
           "line": {
            "color": "#f2f5fa"
           }
          },
          "annotationdefaults": {
           "arrowcolor": "#f2f5fa",
           "arrowhead": 0,
           "arrowwidth": 1
          },
          "geo": {
           "bgcolor": "rgb(17,17,17)",
           "landcolor": "rgb(17,17,17)",
           "subunitcolor": "#506784",
           "showland": true,
           "showlakes": true,
           "lakecolor": "rgb(17,17,17)"
          },
          "title": {
           "x": 0.05
          },
          "updatemenudefaults": {
           "bgcolor": "#506784",
           "borderwidth": 0
          },
          "sliderdefaults": {
           "bgcolor": "#C8D4E3",
           "borderwidth": 1,
           "bordercolor": "rgb(17,17,17)",
           "tickwidth": 0
          },
          "mapbox": {
           "style": "dark"
          }
         }
        },
        "xaxis": {
         "anchor": "y",
         "domain": [
          0.0,
          1.0
         ],
         "title": {
          "text": "Day of Week"
         }
        },
        "yaxis": {
         "anchor": "x",
         "domain": [
          0.0,
          1.0
         ],
         "title": {
          "text": "Full Fine"
         }
        },
        "legend": {
         "tracegroupgap": 0
        },
        "margin": {
         "t": 60
        }
       },
       "config": {
        "plotlyServerURL": "https://plot.ly"
       }
      },
      "text/html": "<div>                            <div id=\"c836e7bf-c3f7-4368-a420-7121b523ef31\" class=\"plotly-graph-div\" style=\"height:525px; width:100%;\"></div>            <script type=\"text/javascript\">                require([\"plotly\"], function(Plotly) {                    window.PLOTLYENV=window.PLOTLYENV || {};                                    if (document.getElementById(\"c836e7bf-c3f7-4368-a420-7121b523ef31\")) {                    Plotly.newPlot(                        \"c836e7bf-c3f7-4368-a420-7121b523ef31\",                        [{\"hovertemplate\":\"Day of Week=%{x}<br>Full Fine=%{y}<extra></extra>\",\"legendgroup\":\"\",\"marker\":{\"color\":\"#636efa\",\"symbol\":\"circle\"},\"mode\":\"markers\",\"name\":\"\",\"orientation\":\"v\",\"showlegend\":false,\"x\":[0,0,0,0,0,0,0,0,0,0,0,1,1,1,1,1,1,1,1,1,1,1,1,1,1,1,1,1,1,1,1,2,2,2,2,2,2,2,2,2,2,2,2,2,2,2,2,2,2,3,3,3,3,3,3,3,3,3,3,3,3,4,4,4,4,4,4,4,4,4,4,4,4,4,4,4,4,4,4,5,5,5,5,5,5,5,5,5,5,5,5,5,5,5,5,5,5,5,5,5,5,5,5,5,5,5,5,5,5,6,6,6,6,6,6,6,6,6,6,6,6,6,6,6,6,6],\"xaxis\":\"x\",\"y\":[100.0,70.0,100.0,100.0,70.0,100.0,70.0,100.0,70.0,100.0,100.0,100.0,100.0,300.0,70.0,70.0,70.0,70.0,70.0,100.0,100.0,70.0,100.0,100.0,70.0,70.0,100.0,100.0,100.0,70.0,70.0,100.0,100.0,100.0,100.0,100.0,300.0,100.0,70.0,70.0,70.0,70.0,70.0,70.0,100.0,100.0,70.0,70.0,100.0,100.0,100.0,300.0,100.0,150.0,100.0,70.0,150.0,150.0,150.0,100.0,100.0,70.0,100.0,100.0,100.0,100.0,100.0,70.0,70.0,100.0,100.0,100.0,70.0,70.0,70.0,70.0,100.0,70.0,100.0,100.0,70.0,100.0,100.0,100.0,100.0,100.0,150.0,70.0,300.0,70.0,70.0,70.0,150.0,150.0,150.0,150.0,300.0,150.0,150.0,150.0,150.0,150.0,150.0,150.0,150.0,70.0,70.0,70.0,100.0,70.0,100.0,70.0,70.0,70.0,70.0,70.0,100.0,70.0,70.0,70.0,70.0,100.0,100.0,300.0,70.0,300.0],\"yaxis\":\"y\",\"type\":\"scatter\"}],                        {\"template\":{\"data\":{\"histogram2dcontour\":[{\"type\":\"histogram2dcontour\",\"colorbar\":{\"outlinewidth\":0,\"ticks\":\"\"},\"colorscale\":[[0.0,\"#0d0887\"],[0.1111111111111111,\"#46039f\"],[0.2222222222222222,\"#7201a8\"],[0.3333333333333333,\"#9c179e\"],[0.4444444444444444,\"#bd3786\"],[0.5555555555555556,\"#d8576b\"],[0.6666666666666666,\"#ed7953\"],[0.7777777777777778,\"#fb9f3a\"],[0.8888888888888888,\"#fdca26\"],[1.0,\"#f0f921\"]]}],\"choropleth\":[{\"type\":\"choropleth\",\"colorbar\":{\"outlinewidth\":0,\"ticks\":\"\"}}],\"histogram2d\":[{\"type\":\"histogram2d\",\"colorbar\":{\"outlinewidth\":0,\"ticks\":\"\"},\"colorscale\":[[0.0,\"#0d0887\"],[0.1111111111111111,\"#46039f\"],[0.2222222222222222,\"#7201a8\"],[0.3333333333333333,\"#9c179e\"],[0.4444444444444444,\"#bd3786\"],[0.5555555555555556,\"#d8576b\"],[0.6666666666666666,\"#ed7953\"],[0.7777777777777778,\"#fb9f3a\"],[0.8888888888888888,\"#fdca26\"],[1.0,\"#f0f921\"]]}],\"heatmap\":[{\"type\":\"heatmap\",\"colorbar\":{\"outlinewidth\":0,\"ticks\":\"\"},\"colorscale\":[[0.0,\"#0d0887\"],[0.1111111111111111,\"#46039f\"],[0.2222222222222222,\"#7201a8\"],[0.3333333333333333,\"#9c179e\"],[0.4444444444444444,\"#bd3786\"],[0.5555555555555556,\"#d8576b\"],[0.6666666666666666,\"#ed7953\"],[0.7777777777777778,\"#fb9f3a\"],[0.8888888888888888,\"#fdca26\"],[1.0,\"#f0f921\"]]}],\"heatmapgl\":[{\"type\":\"heatmapgl\",\"colorbar\":{\"outlinewidth\":0,\"ticks\":\"\"},\"colorscale\":[[0.0,\"#0d0887\"],[0.1111111111111111,\"#46039f\"],[0.2222222222222222,\"#7201a8\"],[0.3333333333333333,\"#9c179e\"],[0.4444444444444444,\"#bd3786\"],[0.5555555555555556,\"#d8576b\"],[0.6666666666666666,\"#ed7953\"],[0.7777777777777778,\"#fb9f3a\"],[0.8888888888888888,\"#fdca26\"],[1.0,\"#f0f921\"]]}],\"contourcarpet\":[{\"type\":\"contourcarpet\",\"colorbar\":{\"outlinewidth\":0,\"ticks\":\"\"}}],\"contour\":[{\"type\":\"contour\",\"colorbar\":{\"outlinewidth\":0,\"ticks\":\"\"},\"colorscale\":[[0.0,\"#0d0887\"],[0.1111111111111111,\"#46039f\"],[0.2222222222222222,\"#7201a8\"],[0.3333333333333333,\"#9c179e\"],[0.4444444444444444,\"#bd3786\"],[0.5555555555555556,\"#d8576b\"],[0.6666666666666666,\"#ed7953\"],[0.7777777777777778,\"#fb9f3a\"],[0.8888888888888888,\"#fdca26\"],[1.0,\"#f0f921\"]]}],\"surface\":[{\"type\":\"surface\",\"colorbar\":{\"outlinewidth\":0,\"ticks\":\"\"},\"colorscale\":[[0.0,\"#0d0887\"],[0.1111111111111111,\"#46039f\"],[0.2222222222222222,\"#7201a8\"],[0.3333333333333333,\"#9c179e\"],[0.4444444444444444,\"#bd3786\"],[0.5555555555555556,\"#d8576b\"],[0.6666666666666666,\"#ed7953\"],[0.7777777777777778,\"#fb9f3a\"],[0.8888888888888888,\"#fdca26\"],[1.0,\"#f0f921\"]]}],\"mesh3d\":[{\"type\":\"mesh3d\",\"colorbar\":{\"outlinewidth\":0,\"ticks\":\"\"}}],\"scatter\":[{\"marker\":{\"line\":{\"color\":\"#283442\"}},\"type\":\"scatter\"}],\"parcoords\":[{\"type\":\"parcoords\",\"line\":{\"colorbar\":{\"outlinewidth\":0,\"ticks\":\"\"}}}],\"scatterpolargl\":[{\"type\":\"scatterpolargl\",\"marker\":{\"colorbar\":{\"outlinewidth\":0,\"ticks\":\"\"}}}],\"bar\":[{\"error_x\":{\"color\":\"#f2f5fa\"},\"error_y\":{\"color\":\"#f2f5fa\"},\"marker\":{\"line\":{\"color\":\"rgb(17,17,17)\",\"width\":0.5},\"pattern\":{\"fillmode\":\"overlay\",\"size\":10,\"solidity\":0.2}},\"type\":\"bar\"}],\"scattergeo\":[{\"type\":\"scattergeo\",\"marker\":{\"colorbar\":{\"outlinewidth\":0,\"ticks\":\"\"}}}],\"scatterpolar\":[{\"type\":\"scatterpolar\",\"marker\":{\"colorbar\":{\"outlinewidth\":0,\"ticks\":\"\"}}}],\"histogram\":[{\"marker\":{\"pattern\":{\"fillmode\":\"overlay\",\"size\":10,\"solidity\":0.2}},\"type\":\"histogram\"}],\"scattergl\":[{\"marker\":{\"line\":{\"color\":\"#283442\"}},\"type\":\"scattergl\"}],\"scatter3d\":[{\"type\":\"scatter3d\",\"line\":{\"colorbar\":{\"outlinewidth\":0,\"ticks\":\"\"}},\"marker\":{\"colorbar\":{\"outlinewidth\":0,\"ticks\":\"\"}}}],\"scattermapbox\":[{\"type\":\"scattermapbox\",\"marker\":{\"colorbar\":{\"outlinewidth\":0,\"ticks\":\"\"}}}],\"scatterternary\":[{\"type\":\"scatterternary\",\"marker\":{\"colorbar\":{\"outlinewidth\":0,\"ticks\":\"\"}}}],\"scattercarpet\":[{\"type\":\"scattercarpet\",\"marker\":{\"colorbar\":{\"outlinewidth\":0,\"ticks\":\"\"}}}],\"carpet\":[{\"aaxis\":{\"endlinecolor\":\"#A2B1C6\",\"gridcolor\":\"#506784\",\"linecolor\":\"#506784\",\"minorgridcolor\":\"#506784\",\"startlinecolor\":\"#A2B1C6\"},\"baxis\":{\"endlinecolor\":\"#A2B1C6\",\"gridcolor\":\"#506784\",\"linecolor\":\"#506784\",\"minorgridcolor\":\"#506784\",\"startlinecolor\":\"#A2B1C6\"},\"type\":\"carpet\"}],\"table\":[{\"cells\":{\"fill\":{\"color\":\"#506784\"},\"line\":{\"color\":\"rgb(17,17,17)\"}},\"header\":{\"fill\":{\"color\":\"#2a3f5f\"},\"line\":{\"color\":\"rgb(17,17,17)\"}},\"type\":\"table\"}],\"barpolar\":[{\"marker\":{\"line\":{\"color\":\"rgb(17,17,17)\",\"width\":0.5},\"pattern\":{\"fillmode\":\"overlay\",\"size\":10,\"solidity\":0.2}},\"type\":\"barpolar\"}],\"pie\":[{\"automargin\":true,\"type\":\"pie\"}]},\"layout\":{\"autotypenumbers\":\"strict\",\"colorway\":[\"#636efa\",\"#EF553B\",\"#00cc96\",\"#ab63fa\",\"#FFA15A\",\"#19d3f3\",\"#FF6692\",\"#B6E880\",\"#FF97FF\",\"#FECB52\"],\"font\":{\"color\":\"#f2f5fa\"},\"hovermode\":\"closest\",\"hoverlabel\":{\"align\":\"left\"},\"paper_bgcolor\":\"rgb(17,17,17)\",\"plot_bgcolor\":\"rgb(17,17,17)\",\"polar\":{\"bgcolor\":\"rgb(17,17,17)\",\"angularaxis\":{\"gridcolor\":\"#506784\",\"linecolor\":\"#506784\",\"ticks\":\"\"},\"radialaxis\":{\"gridcolor\":\"#506784\",\"linecolor\":\"#506784\",\"ticks\":\"\"}},\"ternary\":{\"bgcolor\":\"rgb(17,17,17)\",\"aaxis\":{\"gridcolor\":\"#506784\",\"linecolor\":\"#506784\",\"ticks\":\"\"},\"baxis\":{\"gridcolor\":\"#506784\",\"linecolor\":\"#506784\",\"ticks\":\"\"},\"caxis\":{\"gridcolor\":\"#506784\",\"linecolor\":\"#506784\",\"ticks\":\"\"}},\"coloraxis\":{\"colorbar\":{\"outlinewidth\":0,\"ticks\":\"\"}},\"colorscale\":{\"sequential\":[[0.0,\"#0d0887\"],[0.1111111111111111,\"#46039f\"],[0.2222222222222222,\"#7201a8\"],[0.3333333333333333,\"#9c179e\"],[0.4444444444444444,\"#bd3786\"],[0.5555555555555556,\"#d8576b\"],[0.6666666666666666,\"#ed7953\"],[0.7777777777777778,\"#fb9f3a\"],[0.8888888888888888,\"#fdca26\"],[1.0,\"#f0f921\"]],\"sequentialminus\":[[0.0,\"#0d0887\"],[0.1111111111111111,\"#46039f\"],[0.2222222222222222,\"#7201a8\"],[0.3333333333333333,\"#9c179e\"],[0.4444444444444444,\"#bd3786\"],[0.5555555555555556,\"#d8576b\"],[0.6666666666666666,\"#ed7953\"],[0.7777777777777778,\"#fb9f3a\"],[0.8888888888888888,\"#fdca26\"],[1.0,\"#f0f921\"]],\"diverging\":[[0,\"#8e0152\"],[0.1,\"#c51b7d\"],[0.2,\"#de77ae\"],[0.3,\"#f1b6da\"],[0.4,\"#fde0ef\"],[0.5,\"#f7f7f7\"],[0.6,\"#e6f5d0\"],[0.7,\"#b8e186\"],[0.8,\"#7fbc41\"],[0.9,\"#4d9221\"],[1,\"#276419\"]]},\"xaxis\":{\"gridcolor\":\"#283442\",\"linecolor\":\"#506784\",\"ticks\":\"\",\"title\":{\"standoff\":15},\"zerolinecolor\":\"#283442\",\"automargin\":true,\"zerolinewidth\":2},\"yaxis\":{\"gridcolor\":\"#283442\",\"linecolor\":\"#506784\",\"ticks\":\"\",\"title\":{\"standoff\":15},\"zerolinecolor\":\"#283442\",\"automargin\":true,\"zerolinewidth\":2},\"scene\":{\"xaxis\":{\"backgroundcolor\":\"rgb(17,17,17)\",\"gridcolor\":\"#506784\",\"linecolor\":\"#506784\",\"showbackground\":true,\"ticks\":\"\",\"zerolinecolor\":\"#C8D4E3\",\"gridwidth\":2},\"yaxis\":{\"backgroundcolor\":\"rgb(17,17,17)\",\"gridcolor\":\"#506784\",\"linecolor\":\"#506784\",\"showbackground\":true,\"ticks\":\"\",\"zerolinecolor\":\"#C8D4E3\",\"gridwidth\":2},\"zaxis\":{\"backgroundcolor\":\"rgb(17,17,17)\",\"gridcolor\":\"#506784\",\"linecolor\":\"#506784\",\"showbackground\":true,\"ticks\":\"\",\"zerolinecolor\":\"#C8D4E3\",\"gridwidth\":2}},\"shapedefaults\":{\"line\":{\"color\":\"#f2f5fa\"}},\"annotationdefaults\":{\"arrowcolor\":\"#f2f5fa\",\"arrowhead\":0,\"arrowwidth\":1},\"geo\":{\"bgcolor\":\"rgb(17,17,17)\",\"landcolor\":\"rgb(17,17,17)\",\"subunitcolor\":\"#506784\",\"showland\":true,\"showlakes\":true,\"lakecolor\":\"rgb(17,17,17)\"},\"title\":{\"x\":0.05},\"updatemenudefaults\":{\"bgcolor\":\"#506784\",\"borderwidth\":0},\"sliderdefaults\":{\"bgcolor\":\"#C8D4E3\",\"borderwidth\":1,\"bordercolor\":\"rgb(17,17,17)\",\"tickwidth\":0},\"mapbox\":{\"style\":\"dark\"}}},\"xaxis\":{\"anchor\":\"y\",\"domain\":[0.0,1.0],\"title\":{\"text\":\"Day of Week\"}},\"yaxis\":{\"anchor\":\"x\",\"domain\":[0.0,1.0],\"title\":{\"text\":\"Full Fine\"}},\"legend\":{\"tracegroupgap\":0},\"margin\":{\"t\":60}},                        {\"responsive\": true}                    ).then(function(){\n                            \nvar gd = document.getElementById('c836e7bf-c3f7-4368-a420-7121b523ef31');\nvar x = new MutationObserver(function (mutations, observer) {{\n        var display = window.getComputedStyle(gd).display;\n        if (!display || display === 'none') {{\n            console.log([gd, 'removed!']);\n            Plotly.purge(gd);\n            observer.disconnect();\n        }}\n}});\n\n// Listen for the removal of the full notebook cells\nvar notebookContainer = gd.closest('#notebook-container');\nif (notebookContainer) {{\n    x.observe(notebookContainer, {childList: true});\n}}\n\n// Listen for the clearing of the current output cell\nvar outputEl = gd.closest('.output');\nif (outputEl) {{\n    x.observe(outputEl, {childList: true});\n}}\n\n                        })                };                });            </script>        </div>"
     },
     "metadata": {},
     "output_type": "display_data"
    }
   ],
   "source": [
    "fig = px.scatter(sorted_week, x='Day of Week', y=\"Full Fine\")\n",
    "fig.show()"
   ],
   "metadata": {
    "collapsed": false,
    "pycharm": {
     "name": "#%%\n"
    }
   }
  },
  {
   "cell_type": "code",
   "execution_count": 29,
   "outputs": [
    {
     "name": "stdout",
     "output_type": "stream",
     "text": [
      "No of Streets:  4087\n"
     ]
    }
   ],
   "source": [
    "n = len(pd.unique(park_data['Street']))\n",
    "print(\"No of Streets: \", n)"
   ],
   "metadata": {
    "collapsed": false,
    "pycharm": {
     "name": "#%%\n"
    }
   }
  },
  {
   "cell_type": "code",
   "execution_count": 34,
   "outputs": [
    {
     "name": "stdout",
     "output_type": "stream",
     "text": [
      "Street\n",
      "495 Portage Ave               5\n",
      "AT OR NEAR WINNIPEG, MB       1\n",
      "AV DE L'EGLISE AVE           22\n",
      "AV DE LA CATHEDRALE AVE     683\n",
      "AV DE LA DIGUE AVE            1\n",
      "                           ... \n",
      "Young ST                   6705\n",
      "Zawaly BAY                   27\n",
      "Zeglinski CRES                1\n",
      "Zoe LANE                      3\n",
      "Zylema COVE                   2\n",
      "Name: Street, Length: 4087, dtype: int64\n"
     ]
    }
   ],
   "source": [
    "df2 = park_data.groupby(['Street'])['Street'].count()\n",
    "print(df2)"
   ],
   "metadata": {
    "collapsed": false,
    "pycharm": {
     "name": "#%%\n"
    }
   }
  },
  {
   "cell_type": "code",
   "execution_count": 35,
   "outputs": [
    {
     "data": {
      "text/plain": "Street\n495 Portage Ave               5\nAT OR NEAR WINNIPEG, MB       1\nAV DE L'EGLISE AVE           22\nAV DE LA CATHEDRALE AVE     683\nAV DE LA DIGUE AVE            1\n                           ... \nYoung ST                   6705\nZawaly BAY                   27\nZeglinski CRES                1\nZoe LANE                      3\nZylema COVE                   2\nLength: 4087, dtype: int64"
     },
     "metadata": {},
     "output_type": "display_data"
    }
   ],
   "source": [
    "# count occurrences a particular column\n",
    "occur = park_data.groupby(['Street']).size()\n",
    "\n",
    "# display occurrences of a particular column\n",
    "display(occur)"
   ],
   "metadata": {
    "collapsed": false,
    "pycharm": {
     "name": "#%%\n"
    }
   }
  },
  {
   "cell_type": "code",
   "execution_count": 37,
   "outputs": [
    {
     "ename": "KeyError",
     "evalue": "'count'",
     "output_type": "error",
     "traceback": [
      "\u001B[0;31m---------------------------------------------------------------------------\u001B[0m",
      "\u001B[0;31mKeyError\u001B[0m                                  Traceback (most recent call last)",
      "Cell \u001B[0;32mIn[37], line 1\u001B[0m\n\u001B[0;32m----> 1\u001B[0m df2 \u001B[38;5;241m=\u001B[39m \u001B[43mpark_data\u001B[49m\u001B[38;5;241;43m.\u001B[39;49m\u001B[43mgroupby\u001B[49m\u001B[43m(\u001B[49m\u001B[43m[\u001B[49m\u001B[38;5;124;43m'\u001B[39;49m\u001B[38;5;124;43mStreet\u001B[39;49m\u001B[38;5;124;43m'\u001B[39;49m\u001B[43m]\u001B[49m\u001B[43m)\u001B[49m\u001B[38;5;241;43m.\u001B[39;49m\u001B[43mcount\u001B[49m\u001B[43m(\u001B[49m\u001B[43m)\u001B[49m\u001B[38;5;241;43m.\u001B[39;49m\u001B[43msort_values\u001B[49m\u001B[43m(\u001B[49m\u001B[43m[\u001B[49m\u001B[38;5;124;43m'\u001B[39;49m\u001B[38;5;124;43mcount\u001B[39;49m\u001B[38;5;124;43m'\u001B[39;49m\u001B[43m]\u001B[49m\u001B[43m,\u001B[49m\u001B[43m \u001B[49m\u001B[43mascending\u001B[49m\u001B[38;5;241;43m=\u001B[39;49m\u001B[38;5;28;43;01mFalse\u001B[39;49;00m\u001B[43m)\u001B[49m\u001B[38;5;241m.\u001B[39mhead(\u001B[38;5;241m5\u001B[39m)\n\u001B[1;32m      2\u001B[0m \u001B[38;5;28mprint\u001B[39m(df2)\n",
      "File \u001B[0;32m~/Developer/vis/lib/python3.9/site-packages/pandas/util/_decorators.py:331\u001B[0m, in \u001B[0;36mdeprecate_nonkeyword_arguments.<locals>.decorate.<locals>.wrapper\u001B[0;34m(*args, **kwargs)\u001B[0m\n\u001B[1;32m    325\u001B[0m \u001B[38;5;28;01mif\u001B[39;00m \u001B[38;5;28mlen\u001B[39m(args) \u001B[38;5;241m>\u001B[39m num_allow_args:\n\u001B[1;32m    326\u001B[0m     warnings\u001B[38;5;241m.\u001B[39mwarn(\n\u001B[1;32m    327\u001B[0m         msg\u001B[38;5;241m.\u001B[39mformat(arguments\u001B[38;5;241m=\u001B[39m_format_argument_list(allow_args)),\n\u001B[1;32m    328\u001B[0m         \u001B[38;5;167;01mFutureWarning\u001B[39;00m,\n\u001B[1;32m    329\u001B[0m         stacklevel\u001B[38;5;241m=\u001B[39mfind_stack_level(),\n\u001B[1;32m    330\u001B[0m     )\n\u001B[0;32m--> 331\u001B[0m \u001B[38;5;28;01mreturn\u001B[39;00m \u001B[43mfunc\u001B[49m\u001B[43m(\u001B[49m\u001B[38;5;241;43m*\u001B[39;49m\u001B[43margs\u001B[49m\u001B[43m,\u001B[49m\u001B[43m \u001B[49m\u001B[38;5;241;43m*\u001B[39;49m\u001B[38;5;241;43m*\u001B[39;49m\u001B[43mkwargs\u001B[49m\u001B[43m)\u001B[49m\n",
      "File \u001B[0;32m~/Developer/vis/lib/python3.9/site-packages/pandas/core/frame.py:6912\u001B[0m, in \u001B[0;36mDataFrame.sort_values\u001B[0;34m(self, by, axis, ascending, inplace, kind, na_position, ignore_index, key)\u001B[0m\n\u001B[1;32m   6908\u001B[0m \u001B[38;5;28;01melif\u001B[39;00m \u001B[38;5;28mlen\u001B[39m(by):\n\u001B[1;32m   6909\u001B[0m     \u001B[38;5;66;03m# len(by) == 1\u001B[39;00m\n\u001B[1;32m   6911\u001B[0m     by \u001B[38;5;241m=\u001B[39m by[\u001B[38;5;241m0\u001B[39m]\n\u001B[0;32m-> 6912\u001B[0m     k \u001B[38;5;241m=\u001B[39m \u001B[38;5;28;43mself\u001B[39;49m\u001B[38;5;241;43m.\u001B[39;49m\u001B[43m_get_label_or_level_values\u001B[49m\u001B[43m(\u001B[49m\u001B[43mby\u001B[49m\u001B[43m,\u001B[49m\u001B[43m \u001B[49m\u001B[43maxis\u001B[49m\u001B[38;5;241;43m=\u001B[39;49m\u001B[43maxis\u001B[49m\u001B[43m)\u001B[49m\n\u001B[1;32m   6914\u001B[0m     \u001B[38;5;66;03m# need to rewrap column in Series to apply key function\u001B[39;00m\n\u001B[1;32m   6915\u001B[0m     \u001B[38;5;28;01mif\u001B[39;00m key \u001B[38;5;129;01mis\u001B[39;00m \u001B[38;5;129;01mnot\u001B[39;00m \u001B[38;5;28;01mNone\u001B[39;00m:\n\u001B[1;32m   6916\u001B[0m         \u001B[38;5;66;03m# error: Incompatible types in assignment (expression has type\u001B[39;00m\n\u001B[1;32m   6917\u001B[0m         \u001B[38;5;66;03m# \"Series\", variable has type \"ndarray\")\u001B[39;00m\n",
      "File \u001B[0;32m~/Developer/vis/lib/python3.9/site-packages/pandas/core/generic.py:1850\u001B[0m, in \u001B[0;36mNDFrame._get_label_or_level_values\u001B[0;34m(self, key, axis)\u001B[0m\n\u001B[1;32m   1844\u001B[0m     values \u001B[38;5;241m=\u001B[39m (\n\u001B[1;32m   1845\u001B[0m         \u001B[38;5;28mself\u001B[39m\u001B[38;5;241m.\u001B[39maxes[axis]\n\u001B[1;32m   1846\u001B[0m         \u001B[38;5;241m.\u001B[39mget_level_values(key)  \u001B[38;5;66;03m# type: ignore[assignment]\u001B[39;00m\n\u001B[1;32m   1847\u001B[0m         \u001B[38;5;241m.\u001B[39m_values\n\u001B[1;32m   1848\u001B[0m     )\n\u001B[1;32m   1849\u001B[0m \u001B[38;5;28;01melse\u001B[39;00m:\n\u001B[0;32m-> 1850\u001B[0m     \u001B[38;5;28;01mraise\u001B[39;00m \u001B[38;5;167;01mKeyError\u001B[39;00m(key)\n\u001B[1;32m   1852\u001B[0m \u001B[38;5;66;03m# Check for duplicates\u001B[39;00m\n\u001B[1;32m   1853\u001B[0m \u001B[38;5;28;01mif\u001B[39;00m values\u001B[38;5;241m.\u001B[39mndim \u001B[38;5;241m>\u001B[39m \u001B[38;5;241m1\u001B[39m:\n",
      "\u001B[0;31mKeyError\u001B[0m: 'count'"
     ]
    }
   ],
   "source": [
    "df2 = park_data.groupby(['Street']).count().sort_values(['count'], ascending=False).head(5)\n",
    "print(df2)"
   ],
   "metadata": {
    "collapsed": false,
    "pycharm": {
     "name": "#%%\n"
    }
   }
  },
  {
   "cell_type": "code",
   "execution_count": 46,
   "outputs": [
    {
     "name": "stdout",
     "output_type": "stream",
     "text": [
      "                              Street  count\n",
      "242                    Bannatyne AVE  28532\n",
      "3971                     William AVE  28333\n",
      "2437                    McDermot AVE  26514\n",
      "1599                     Hargrave ST  26092\n",
      "1907                      Kennedy ST  22297\n",
      "1185                     Edmonton ST  18145\n",
      "657                       Carlton ST  17543\n",
      "1398                        Garry ST  17473\n",
      "1339                         Fort ST  15168\n",
      "530                         Broadway  15064\n",
      "3515                     St Mary AVE  14797\n",
      "1059                       Donald ST  13781\n",
      "2956                     Portage AVE  13735\n",
      "1948                         King ST  12804\n",
      "3439                        Smith ST  12775\n",
      "1368                        Furby ST  11198\n",
      "233                      Balmoral ST  10672\n",
      "2701                  Notre Dame AVE  10540\n",
      "3480                       Spence ST  10336\n",
      "3390                    Sherbrook ST  10297\n",
      "2988                     Princess ST  10153\n",
      "28                       Adelaide ST   9519\n",
      "3213                        Rorie ST   9048\n",
      "2958                    Portage Ave.   8848\n",
      "4079                        York AVE   8551\n",
      "73                             Alley   8098\n",
      "3156                       River AVE   7738\n",
      "880                      Corydon AVE   7711\n",
      "2122                     Langside ST   7256\n",
      "1200                       Elgin AVE   6958\n",
      "11                      AV TACHE AVE   6776\n",
      "4082                        Young ST   6705\n",
      "2374                      Market AVE   6672\n",
      "829                        Colony ST   6664\n",
      "3061                   RUE VALADE ST   6362\n",
      "1478                         Good ST   6159\n",
      "2232                     Lombard AVE   6040\n",
      "155                        Arthur ST   5997\n",
      "1829                       James AVE   5888\n",
      "50                         Albert ST   5663\n",
      "1997  LOT 109 - STRADBROOK & OSBORNE   5629\n",
      "1494                      Graham AVE   5403\n",
      "974                     Dartmouth DR   5340\n",
      "2755                      Osborne ST   5118\n",
      "2402                     Maryland ST   4869\n",
      "3031                  RUE DESPINS ST   4843\n",
      "4026                    Wolseley AVE   4512\n",
      "177                  Assiniboine AVE   4408\n",
      "3915                 Westminster AVE   4219\n",
      "3783                      Vaughan ST   4201\n"
     ]
    }
   ],
   "source": [
    "top_50_streets = park_data[['Street']].groupby(['Street'])['Street'] \\\n",
    "                             .count() \\\n",
    "                             .reset_index(name='count') \\\n",
    "                             .sort_values(['count'], ascending=False) \\\n",
    "                             .head(50)\n",
    "print(top_50_streets)"
   ],
   "metadata": {
    "collapsed": false,
    "pycharm": {
     "name": "#%%\n"
    }
   }
  },
  {
   "cell_type": "code",
   "execution_count": 93,
   "outputs": [
    {
     "data": {
      "application/vnd.plotly.v1+json": {
       "data": [
        {
         "alignmentgroup": "True",
         "hovertemplate": "Street=%{x}<br>Number of Tickets=%{y}<extra></extra>",
         "legendgroup": "Bannatyne AVE",
         "marker": {
          "color": "#636efa",
          "pattern": {
           "shape": ""
          }
         },
         "name": "Bannatyne AVE",
         "offsetgroup": "Bannatyne AVE",
         "orientation": "v",
         "showlegend": true,
         "textposition": "auto",
         "x": [
          "Bannatyne AVE"
         ],
         "xaxis": "x",
         "y": [
          28532
         ],
         "yaxis": "y",
         "type": "bar"
        },
        {
         "alignmentgroup": "True",
         "hovertemplate": "Street=%{x}<br>Number of Tickets=%{y}<extra></extra>",
         "legendgroup": "William AVE",
         "marker": {
          "color": "#EF553B",
          "pattern": {
           "shape": ""
          }
         },
         "name": "William AVE",
         "offsetgroup": "William AVE",
         "orientation": "v",
         "showlegend": true,
         "textposition": "auto",
         "x": [
          "William AVE"
         ],
         "xaxis": "x",
         "y": [
          28333
         ],
         "yaxis": "y",
         "type": "bar"
        },
        {
         "alignmentgroup": "True",
         "hovertemplate": "Street=%{x}<br>Number of Tickets=%{y}<extra></extra>",
         "legendgroup": "McDermot AVE",
         "marker": {
          "color": "#00cc96",
          "pattern": {
           "shape": ""
          }
         },
         "name": "McDermot AVE",
         "offsetgroup": "McDermot AVE",
         "orientation": "v",
         "showlegend": true,
         "textposition": "auto",
         "x": [
          "McDermot AVE"
         ],
         "xaxis": "x",
         "y": [
          26514
         ],
         "yaxis": "y",
         "type": "bar"
        },
        {
         "alignmentgroup": "True",
         "hovertemplate": "Street=%{x}<br>Number of Tickets=%{y}<extra></extra>",
         "legendgroup": "Hargrave ST",
         "marker": {
          "color": "#ab63fa",
          "pattern": {
           "shape": ""
          }
         },
         "name": "Hargrave ST",
         "offsetgroup": "Hargrave ST",
         "orientation": "v",
         "showlegend": true,
         "textposition": "auto",
         "x": [
          "Hargrave ST"
         ],
         "xaxis": "x",
         "y": [
          26092
         ],
         "yaxis": "y",
         "type": "bar"
        },
        {
         "alignmentgroup": "True",
         "hovertemplate": "Street=%{x}<br>Number of Tickets=%{y}<extra></extra>",
         "legendgroup": "Kennedy ST",
         "marker": {
          "color": "#FFA15A",
          "pattern": {
           "shape": ""
          }
         },
         "name": "Kennedy ST",
         "offsetgroup": "Kennedy ST",
         "orientation": "v",
         "showlegend": true,
         "textposition": "auto",
         "x": [
          "Kennedy ST"
         ],
         "xaxis": "x",
         "y": [
          22297
         ],
         "yaxis": "y",
         "type": "bar"
        },
        {
         "alignmentgroup": "True",
         "hovertemplate": "Street=%{x}<br>Number of Tickets=%{y}<extra></extra>",
         "legendgroup": "Edmonton ST",
         "marker": {
          "color": "#19d3f3",
          "pattern": {
           "shape": ""
          }
         },
         "name": "Edmonton ST",
         "offsetgroup": "Edmonton ST",
         "orientation": "v",
         "showlegend": true,
         "textposition": "auto",
         "x": [
          "Edmonton ST"
         ],
         "xaxis": "x",
         "y": [
          18145
         ],
         "yaxis": "y",
         "type": "bar"
        },
        {
         "alignmentgroup": "True",
         "hovertemplate": "Street=%{x}<br>Number of Tickets=%{y}<extra></extra>",
         "legendgroup": "Carlton ST",
         "marker": {
          "color": "#FF6692",
          "pattern": {
           "shape": ""
          }
         },
         "name": "Carlton ST",
         "offsetgroup": "Carlton ST",
         "orientation": "v",
         "showlegend": true,
         "textposition": "auto",
         "x": [
          "Carlton ST"
         ],
         "xaxis": "x",
         "y": [
          17543
         ],
         "yaxis": "y",
         "type": "bar"
        },
        {
         "alignmentgroup": "True",
         "hovertemplate": "Street=%{x}<br>Number of Tickets=%{y}<extra></extra>",
         "legendgroup": "Garry ST",
         "marker": {
          "color": "#B6E880",
          "pattern": {
           "shape": ""
          }
         },
         "name": "Garry ST",
         "offsetgroup": "Garry ST",
         "orientation": "v",
         "showlegend": true,
         "textposition": "auto",
         "x": [
          "Garry ST"
         ],
         "xaxis": "x",
         "y": [
          17473
         ],
         "yaxis": "y",
         "type": "bar"
        },
        {
         "alignmentgroup": "True",
         "hovertemplate": "Street=%{x}<br>Number of Tickets=%{y}<extra></extra>",
         "legendgroup": "Fort ST",
         "marker": {
          "color": "#FF97FF",
          "pattern": {
           "shape": ""
          }
         },
         "name": "Fort ST",
         "offsetgroup": "Fort ST",
         "orientation": "v",
         "showlegend": true,
         "textposition": "auto",
         "x": [
          "Fort ST"
         ],
         "xaxis": "x",
         "y": [
          15168
         ],
         "yaxis": "y",
         "type": "bar"
        },
        {
         "alignmentgroup": "True",
         "hovertemplate": "Street=%{x}<br>Number of Tickets=%{y}<extra></extra>",
         "legendgroup": "Broadway",
         "marker": {
          "color": "#FECB52",
          "pattern": {
           "shape": ""
          }
         },
         "name": "Broadway",
         "offsetgroup": "Broadway",
         "orientation": "v",
         "showlegend": true,
         "textposition": "auto",
         "x": [
          "Broadway"
         ],
         "xaxis": "x",
         "y": [
          15064
         ],
         "yaxis": "y",
         "type": "bar"
        },
        {
         "alignmentgroup": "True",
         "hovertemplate": "Street=%{x}<br>Number of Tickets=%{y}<extra></extra>",
         "legendgroup": "St Mary AVE",
         "marker": {
          "color": "#636efa",
          "pattern": {
           "shape": ""
          }
         },
         "name": "St Mary AVE",
         "offsetgroup": "St Mary AVE",
         "orientation": "v",
         "showlegend": true,
         "textposition": "auto",
         "x": [
          "St Mary AVE"
         ],
         "xaxis": "x",
         "y": [
          14797
         ],
         "yaxis": "y",
         "type": "bar"
        },
        {
         "alignmentgroup": "True",
         "hovertemplate": "Street=%{x}<br>Number of Tickets=%{y}<extra></extra>",
         "legendgroup": "Donald ST",
         "marker": {
          "color": "#EF553B",
          "pattern": {
           "shape": ""
          }
         },
         "name": "Donald ST",
         "offsetgroup": "Donald ST",
         "orientation": "v",
         "showlegend": true,
         "textposition": "auto",
         "x": [
          "Donald ST"
         ],
         "xaxis": "x",
         "y": [
          13781
         ],
         "yaxis": "y",
         "type": "bar"
        },
        {
         "alignmentgroup": "True",
         "hovertemplate": "Street=%{x}<br>Number of Tickets=%{y}<extra></extra>",
         "legendgroup": "Portage AVE",
         "marker": {
          "color": "#00cc96",
          "pattern": {
           "shape": ""
          }
         },
         "name": "Portage AVE",
         "offsetgroup": "Portage AVE",
         "orientation": "v",
         "showlegend": true,
         "textposition": "auto",
         "x": [
          "Portage AVE"
         ],
         "xaxis": "x",
         "y": [
          13735
         ],
         "yaxis": "y",
         "type": "bar"
        },
        {
         "alignmentgroup": "True",
         "hovertemplate": "Street=%{x}<br>Number of Tickets=%{y}<extra></extra>",
         "legendgroup": "King ST",
         "marker": {
          "color": "#ab63fa",
          "pattern": {
           "shape": ""
          }
         },
         "name": "King ST",
         "offsetgroup": "King ST",
         "orientation": "v",
         "showlegend": true,
         "textposition": "auto",
         "x": [
          "King ST"
         ],
         "xaxis": "x",
         "y": [
          12804
         ],
         "yaxis": "y",
         "type": "bar"
        },
        {
         "alignmentgroup": "True",
         "hovertemplate": "Street=%{x}<br>Number of Tickets=%{y}<extra></extra>",
         "legendgroup": "Smith ST",
         "marker": {
          "color": "#FFA15A",
          "pattern": {
           "shape": ""
          }
         },
         "name": "Smith ST",
         "offsetgroup": "Smith ST",
         "orientation": "v",
         "showlegend": true,
         "textposition": "auto",
         "x": [
          "Smith ST"
         ],
         "xaxis": "x",
         "y": [
          12775
         ],
         "yaxis": "y",
         "type": "bar"
        },
        {
         "alignmentgroup": "True",
         "hovertemplate": "Street=%{x}<br>Number of Tickets=%{y}<extra></extra>",
         "legendgroup": "Furby ST",
         "marker": {
          "color": "#19d3f3",
          "pattern": {
           "shape": ""
          }
         },
         "name": "Furby ST",
         "offsetgroup": "Furby ST",
         "orientation": "v",
         "showlegend": true,
         "textposition": "auto",
         "x": [
          "Furby ST"
         ],
         "xaxis": "x",
         "y": [
          11198
         ],
         "yaxis": "y",
         "type": "bar"
        },
        {
         "alignmentgroup": "True",
         "hovertemplate": "Street=%{x}<br>Number of Tickets=%{y}<extra></extra>",
         "legendgroup": "Balmoral ST",
         "marker": {
          "color": "#FF6692",
          "pattern": {
           "shape": ""
          }
         },
         "name": "Balmoral ST",
         "offsetgroup": "Balmoral ST",
         "orientation": "v",
         "showlegend": true,
         "textposition": "auto",
         "x": [
          "Balmoral ST"
         ],
         "xaxis": "x",
         "y": [
          10672
         ],
         "yaxis": "y",
         "type": "bar"
        },
        {
         "alignmentgroup": "True",
         "hovertemplate": "Street=%{x}<br>Number of Tickets=%{y}<extra></extra>",
         "legendgroup": "Notre Dame AVE",
         "marker": {
          "color": "#B6E880",
          "pattern": {
           "shape": ""
          }
         },
         "name": "Notre Dame AVE",
         "offsetgroup": "Notre Dame AVE",
         "orientation": "v",
         "showlegend": true,
         "textposition": "auto",
         "x": [
          "Notre Dame AVE"
         ],
         "xaxis": "x",
         "y": [
          10540
         ],
         "yaxis": "y",
         "type": "bar"
        },
        {
         "alignmentgroup": "True",
         "hovertemplate": "Street=%{x}<br>Number of Tickets=%{y}<extra></extra>",
         "legendgroup": "Spence ST",
         "marker": {
          "color": "#FF97FF",
          "pattern": {
           "shape": ""
          }
         },
         "name": "Spence ST",
         "offsetgroup": "Spence ST",
         "orientation": "v",
         "showlegend": true,
         "textposition": "auto",
         "x": [
          "Spence ST"
         ],
         "xaxis": "x",
         "y": [
          10336
         ],
         "yaxis": "y",
         "type": "bar"
        },
        {
         "alignmentgroup": "True",
         "hovertemplate": "Street=%{x}<br>Number of Tickets=%{y}<extra></extra>",
         "legendgroup": "Sherbrook ST",
         "marker": {
          "color": "#FECB52",
          "pattern": {
           "shape": ""
          }
         },
         "name": "Sherbrook ST",
         "offsetgroup": "Sherbrook ST",
         "orientation": "v",
         "showlegend": true,
         "textposition": "auto",
         "x": [
          "Sherbrook ST"
         ],
         "xaxis": "x",
         "y": [
          10297
         ],
         "yaxis": "y",
         "type": "bar"
        },
        {
         "alignmentgroup": "True",
         "hovertemplate": "Street=%{x}<br>Number of Tickets=%{y}<extra></extra>",
         "legendgroup": "Princess ST",
         "marker": {
          "color": "#636efa",
          "pattern": {
           "shape": ""
          }
         },
         "name": "Princess ST",
         "offsetgroup": "Princess ST",
         "orientation": "v",
         "showlegend": true,
         "textposition": "auto",
         "x": [
          "Princess ST"
         ],
         "xaxis": "x",
         "y": [
          10153
         ],
         "yaxis": "y",
         "type": "bar"
        },
        {
         "alignmentgroup": "True",
         "hovertemplate": "Street=%{x}<br>Number of Tickets=%{y}<extra></extra>",
         "legendgroup": "Adelaide ST",
         "marker": {
          "color": "#EF553B",
          "pattern": {
           "shape": ""
          }
         },
         "name": "Adelaide ST",
         "offsetgroup": "Adelaide ST",
         "orientation": "v",
         "showlegend": true,
         "textposition": "auto",
         "x": [
          "Adelaide ST"
         ],
         "xaxis": "x",
         "y": [
          9519
         ],
         "yaxis": "y",
         "type": "bar"
        },
        {
         "alignmentgroup": "True",
         "hovertemplate": "Street=%{x}<br>Number of Tickets=%{y}<extra></extra>",
         "legendgroup": "Rorie ST",
         "marker": {
          "color": "#00cc96",
          "pattern": {
           "shape": ""
          }
         },
         "name": "Rorie ST",
         "offsetgroup": "Rorie ST",
         "orientation": "v",
         "showlegend": true,
         "textposition": "auto",
         "x": [
          "Rorie ST"
         ],
         "xaxis": "x",
         "y": [
          9048
         ],
         "yaxis": "y",
         "type": "bar"
        },
        {
         "alignmentgroup": "True",
         "hovertemplate": "Street=%{x}<br>Number of Tickets=%{y}<extra></extra>",
         "legendgroup": "Portage Ave.",
         "marker": {
          "color": "#ab63fa",
          "pattern": {
           "shape": ""
          }
         },
         "name": "Portage Ave.",
         "offsetgroup": "Portage Ave.",
         "orientation": "v",
         "showlegend": true,
         "textposition": "auto",
         "x": [
          "Portage Ave."
         ],
         "xaxis": "x",
         "y": [
          8848
         ],
         "yaxis": "y",
         "type": "bar"
        },
        {
         "alignmentgroup": "True",
         "hovertemplate": "Street=%{x}<br>Number of Tickets=%{y}<extra></extra>",
         "legendgroup": "York AVE",
         "marker": {
          "color": "#FFA15A",
          "pattern": {
           "shape": ""
          }
         },
         "name": "York AVE",
         "offsetgroup": "York AVE",
         "orientation": "v",
         "showlegend": true,
         "textposition": "auto",
         "x": [
          "York AVE"
         ],
         "xaxis": "x",
         "y": [
          8551
         ],
         "yaxis": "y",
         "type": "bar"
        },
        {
         "alignmentgroup": "True",
         "hovertemplate": "Street=%{x}<br>Number of Tickets=%{y}<extra></extra>",
         "legendgroup": "Alley",
         "marker": {
          "color": "#19d3f3",
          "pattern": {
           "shape": ""
          }
         },
         "name": "Alley",
         "offsetgroup": "Alley",
         "orientation": "v",
         "showlegend": true,
         "textposition": "auto",
         "x": [
          "Alley"
         ],
         "xaxis": "x",
         "y": [
          8098
         ],
         "yaxis": "y",
         "type": "bar"
        },
        {
         "alignmentgroup": "True",
         "hovertemplate": "Street=%{x}<br>Number of Tickets=%{y}<extra></extra>",
         "legendgroup": "River AVE",
         "marker": {
          "color": "#FF6692",
          "pattern": {
           "shape": ""
          }
         },
         "name": "River AVE",
         "offsetgroup": "River AVE",
         "orientation": "v",
         "showlegend": true,
         "textposition": "auto",
         "x": [
          "River AVE"
         ],
         "xaxis": "x",
         "y": [
          7738
         ],
         "yaxis": "y",
         "type": "bar"
        },
        {
         "alignmentgroup": "True",
         "hovertemplate": "Street=%{x}<br>Number of Tickets=%{y}<extra></extra>",
         "legendgroup": "Corydon AVE",
         "marker": {
          "color": "#B6E880",
          "pattern": {
           "shape": ""
          }
         },
         "name": "Corydon AVE",
         "offsetgroup": "Corydon AVE",
         "orientation": "v",
         "showlegend": true,
         "textposition": "auto",
         "x": [
          "Corydon AVE"
         ],
         "xaxis": "x",
         "y": [
          7711
         ],
         "yaxis": "y",
         "type": "bar"
        },
        {
         "alignmentgroup": "True",
         "hovertemplate": "Street=%{x}<br>Number of Tickets=%{y}<extra></extra>",
         "legendgroup": "Langside ST",
         "marker": {
          "color": "#FF97FF",
          "pattern": {
           "shape": ""
          }
         },
         "name": "Langside ST",
         "offsetgroup": "Langside ST",
         "orientation": "v",
         "showlegend": true,
         "textposition": "auto",
         "x": [
          "Langside ST"
         ],
         "xaxis": "x",
         "y": [
          7256
         ],
         "yaxis": "y",
         "type": "bar"
        },
        {
         "alignmentgroup": "True",
         "hovertemplate": "Street=%{x}<br>Number of Tickets=%{y}<extra></extra>",
         "legendgroup": "Elgin AVE",
         "marker": {
          "color": "#FECB52",
          "pattern": {
           "shape": ""
          }
         },
         "name": "Elgin AVE",
         "offsetgroup": "Elgin AVE",
         "orientation": "v",
         "showlegend": true,
         "textposition": "auto",
         "x": [
          "Elgin AVE"
         ],
         "xaxis": "x",
         "y": [
          6958
         ],
         "yaxis": "y",
         "type": "bar"
        },
        {
         "alignmentgroup": "True",
         "hovertemplate": "Street=%{x}<br>Number of Tickets=%{y}<extra></extra>",
         "legendgroup": "AV TACHE AVE",
         "marker": {
          "color": "#636efa",
          "pattern": {
           "shape": ""
          }
         },
         "name": "AV TACHE AVE",
         "offsetgroup": "AV TACHE AVE",
         "orientation": "v",
         "showlegend": true,
         "textposition": "auto",
         "x": [
          "AV TACHE AVE"
         ],
         "xaxis": "x",
         "y": [
          6776
         ],
         "yaxis": "y",
         "type": "bar"
        },
        {
         "alignmentgroup": "True",
         "hovertemplate": "Street=%{x}<br>Number of Tickets=%{y}<extra></extra>",
         "legendgroup": "Young ST",
         "marker": {
          "color": "#EF553B",
          "pattern": {
           "shape": ""
          }
         },
         "name": "Young ST",
         "offsetgroup": "Young ST",
         "orientation": "v",
         "showlegend": true,
         "textposition": "auto",
         "x": [
          "Young ST"
         ],
         "xaxis": "x",
         "y": [
          6705
         ],
         "yaxis": "y",
         "type": "bar"
        },
        {
         "alignmentgroup": "True",
         "hovertemplate": "Street=%{x}<br>Number of Tickets=%{y}<extra></extra>",
         "legendgroup": "Market AVE",
         "marker": {
          "color": "#00cc96",
          "pattern": {
           "shape": ""
          }
         },
         "name": "Market AVE",
         "offsetgroup": "Market AVE",
         "orientation": "v",
         "showlegend": true,
         "textposition": "auto",
         "x": [
          "Market AVE"
         ],
         "xaxis": "x",
         "y": [
          6672
         ],
         "yaxis": "y",
         "type": "bar"
        },
        {
         "alignmentgroup": "True",
         "hovertemplate": "Street=%{x}<br>Number of Tickets=%{y}<extra></extra>",
         "legendgroup": "Colony ST",
         "marker": {
          "color": "#ab63fa",
          "pattern": {
           "shape": ""
          }
         },
         "name": "Colony ST",
         "offsetgroup": "Colony ST",
         "orientation": "v",
         "showlegend": true,
         "textposition": "auto",
         "x": [
          "Colony ST"
         ],
         "xaxis": "x",
         "y": [
          6664
         ],
         "yaxis": "y",
         "type": "bar"
        },
        {
         "alignmentgroup": "True",
         "hovertemplate": "Street=%{x}<br>Number of Tickets=%{y}<extra></extra>",
         "legendgroup": "RUE VALADE ST",
         "marker": {
          "color": "#FFA15A",
          "pattern": {
           "shape": ""
          }
         },
         "name": "RUE VALADE ST",
         "offsetgroup": "RUE VALADE ST",
         "orientation": "v",
         "showlegend": true,
         "textposition": "auto",
         "x": [
          "RUE VALADE ST"
         ],
         "xaxis": "x",
         "y": [
          6362
         ],
         "yaxis": "y",
         "type": "bar"
        },
        {
         "alignmentgroup": "True",
         "hovertemplate": "Street=%{x}<br>Number of Tickets=%{y}<extra></extra>",
         "legendgroup": "Good ST",
         "marker": {
          "color": "#19d3f3",
          "pattern": {
           "shape": ""
          }
         },
         "name": "Good ST",
         "offsetgroup": "Good ST",
         "orientation": "v",
         "showlegend": true,
         "textposition": "auto",
         "x": [
          "Good ST"
         ],
         "xaxis": "x",
         "y": [
          6159
         ],
         "yaxis": "y",
         "type": "bar"
        },
        {
         "alignmentgroup": "True",
         "hovertemplate": "Street=%{x}<br>Number of Tickets=%{y}<extra></extra>",
         "legendgroup": "Lombard AVE",
         "marker": {
          "color": "#FF6692",
          "pattern": {
           "shape": ""
          }
         },
         "name": "Lombard AVE",
         "offsetgroup": "Lombard AVE",
         "orientation": "v",
         "showlegend": true,
         "textposition": "auto",
         "x": [
          "Lombard AVE"
         ],
         "xaxis": "x",
         "y": [
          6040
         ],
         "yaxis": "y",
         "type": "bar"
        },
        {
         "alignmentgroup": "True",
         "hovertemplate": "Street=%{x}<br>Number of Tickets=%{y}<extra></extra>",
         "legendgroup": "Arthur ST",
         "marker": {
          "color": "#B6E880",
          "pattern": {
           "shape": ""
          }
         },
         "name": "Arthur ST",
         "offsetgroup": "Arthur ST",
         "orientation": "v",
         "showlegend": true,
         "textposition": "auto",
         "x": [
          "Arthur ST"
         ],
         "xaxis": "x",
         "y": [
          5997
         ],
         "yaxis": "y",
         "type": "bar"
        },
        {
         "alignmentgroup": "True",
         "hovertemplate": "Street=%{x}<br>Number of Tickets=%{y}<extra></extra>",
         "legendgroup": "James AVE",
         "marker": {
          "color": "#FF97FF",
          "pattern": {
           "shape": ""
          }
         },
         "name": "James AVE",
         "offsetgroup": "James AVE",
         "orientation": "v",
         "showlegend": true,
         "textposition": "auto",
         "x": [
          "James AVE"
         ],
         "xaxis": "x",
         "y": [
          5888
         ],
         "yaxis": "y",
         "type": "bar"
        },
        {
         "alignmentgroup": "True",
         "hovertemplate": "Street=%{x}<br>Number of Tickets=%{y}<extra></extra>",
         "legendgroup": "Albert ST",
         "marker": {
          "color": "#FECB52",
          "pattern": {
           "shape": ""
          }
         },
         "name": "Albert ST",
         "offsetgroup": "Albert ST",
         "orientation": "v",
         "showlegend": true,
         "textposition": "auto",
         "x": [
          "Albert ST"
         ],
         "xaxis": "x",
         "y": [
          5663
         ],
         "yaxis": "y",
         "type": "bar"
        },
        {
         "alignmentgroup": "True",
         "hovertemplate": "Street=%{x}<br>Number of Tickets=%{y}<extra></extra>",
         "legendgroup": "LOT 109 - STRADBROOK & OSBORNE",
         "marker": {
          "color": "#636efa",
          "pattern": {
           "shape": ""
          }
         },
         "name": "LOT 109 - STRADBROOK & OSBORNE",
         "offsetgroup": "LOT 109 - STRADBROOK & OSBORNE",
         "orientation": "v",
         "showlegend": true,
         "textposition": "auto",
         "x": [
          "LOT 109 - STRADBROOK & OSBORNE"
         ],
         "xaxis": "x",
         "y": [
          5629
         ],
         "yaxis": "y",
         "type": "bar"
        },
        {
         "alignmentgroup": "True",
         "hovertemplate": "Street=%{x}<br>Number of Tickets=%{y}<extra></extra>",
         "legendgroup": "Graham AVE",
         "marker": {
          "color": "#EF553B",
          "pattern": {
           "shape": ""
          }
         },
         "name": "Graham AVE",
         "offsetgroup": "Graham AVE",
         "orientation": "v",
         "showlegend": true,
         "textposition": "auto",
         "x": [
          "Graham AVE"
         ],
         "xaxis": "x",
         "y": [
          5403
         ],
         "yaxis": "y",
         "type": "bar"
        },
        {
         "alignmentgroup": "True",
         "hovertemplate": "Street=%{x}<br>Number of Tickets=%{y}<extra></extra>",
         "legendgroup": "Dartmouth DR",
         "marker": {
          "color": "#00cc96",
          "pattern": {
           "shape": ""
          }
         },
         "name": "Dartmouth DR",
         "offsetgroup": "Dartmouth DR",
         "orientation": "v",
         "showlegend": true,
         "textposition": "auto",
         "x": [
          "Dartmouth DR"
         ],
         "xaxis": "x",
         "y": [
          5340
         ],
         "yaxis": "y",
         "type": "bar"
        },
        {
         "alignmentgroup": "True",
         "hovertemplate": "Street=%{x}<br>Number of Tickets=%{y}<extra></extra>",
         "legendgroup": "Osborne ST",
         "marker": {
          "color": "#ab63fa",
          "pattern": {
           "shape": ""
          }
         },
         "name": "Osborne ST",
         "offsetgroup": "Osborne ST",
         "orientation": "v",
         "showlegend": true,
         "textposition": "auto",
         "x": [
          "Osborne ST"
         ],
         "xaxis": "x",
         "y": [
          5118
         ],
         "yaxis": "y",
         "type": "bar"
        },
        {
         "alignmentgroup": "True",
         "hovertemplate": "Street=%{x}<br>Number of Tickets=%{y}<extra></extra>",
         "legendgroup": "Maryland ST",
         "marker": {
          "color": "#FFA15A",
          "pattern": {
           "shape": ""
          }
         },
         "name": "Maryland ST",
         "offsetgroup": "Maryland ST",
         "orientation": "v",
         "showlegend": true,
         "textposition": "auto",
         "x": [
          "Maryland ST"
         ],
         "xaxis": "x",
         "y": [
          4869
         ],
         "yaxis": "y",
         "type": "bar"
        },
        {
         "alignmentgroup": "True",
         "hovertemplate": "Street=%{x}<br>Number of Tickets=%{y}<extra></extra>",
         "legendgroup": "RUE DESPINS ST",
         "marker": {
          "color": "#19d3f3",
          "pattern": {
           "shape": ""
          }
         },
         "name": "RUE DESPINS ST",
         "offsetgroup": "RUE DESPINS ST",
         "orientation": "v",
         "showlegend": true,
         "textposition": "auto",
         "x": [
          "RUE DESPINS ST"
         ],
         "xaxis": "x",
         "y": [
          4843
         ],
         "yaxis": "y",
         "type": "bar"
        },
        {
         "alignmentgroup": "True",
         "hovertemplate": "Street=%{x}<br>Number of Tickets=%{y}<extra></extra>",
         "legendgroup": "Wolseley AVE",
         "marker": {
          "color": "#FF6692",
          "pattern": {
           "shape": ""
          }
         },
         "name": "Wolseley AVE",
         "offsetgroup": "Wolseley AVE",
         "orientation": "v",
         "showlegend": true,
         "textposition": "auto",
         "x": [
          "Wolseley AVE"
         ],
         "xaxis": "x",
         "y": [
          4512
         ],
         "yaxis": "y",
         "type": "bar"
        },
        {
         "alignmentgroup": "True",
         "hovertemplate": "Street=%{x}<br>Number of Tickets=%{y}<extra></extra>",
         "legendgroup": "Assiniboine AVE",
         "marker": {
          "color": "#B6E880",
          "pattern": {
           "shape": ""
          }
         },
         "name": "Assiniboine AVE",
         "offsetgroup": "Assiniboine AVE",
         "orientation": "v",
         "showlegend": true,
         "textposition": "auto",
         "x": [
          "Assiniboine AVE"
         ],
         "xaxis": "x",
         "y": [
          4408
         ],
         "yaxis": "y",
         "type": "bar"
        },
        {
         "alignmentgroup": "True",
         "hovertemplate": "Street=%{x}<br>Number of Tickets=%{y}<extra></extra>",
         "legendgroup": "Westminster AVE",
         "marker": {
          "color": "#FF97FF",
          "pattern": {
           "shape": ""
          }
         },
         "name": "Westminster AVE",
         "offsetgroup": "Westminster AVE",
         "orientation": "v",
         "showlegend": true,
         "textposition": "auto",
         "x": [
          "Westminster AVE"
         ],
         "xaxis": "x",
         "y": [
          4219
         ],
         "yaxis": "y",
         "type": "bar"
        },
        {
         "alignmentgroup": "True",
         "hovertemplate": "Street=%{x}<br>Number of Tickets=%{y}<extra></extra>",
         "legendgroup": "Vaughan ST",
         "marker": {
          "color": "#FECB52",
          "pattern": {
           "shape": ""
          }
         },
         "name": "Vaughan ST",
         "offsetgroup": "Vaughan ST",
         "orientation": "v",
         "showlegend": true,
         "textposition": "auto",
         "x": [
          "Vaughan ST"
         ],
         "xaxis": "x",
         "y": [
          4201
         ],
         "yaxis": "y",
         "type": "bar"
        }
       ],
       "layout": {
        "template": {
         "data": {
          "histogram2dcontour": [
           {
            "type": "histogram2dcontour",
            "colorbar": {
             "outlinewidth": 0,
             "ticks": ""
            },
            "colorscale": [
             [
              0.0,
              "#0d0887"
             ],
             [
              0.1111111111111111,
              "#46039f"
             ],
             [
              0.2222222222222222,
              "#7201a8"
             ],
             [
              0.3333333333333333,
              "#9c179e"
             ],
             [
              0.4444444444444444,
              "#bd3786"
             ],
             [
              0.5555555555555556,
              "#d8576b"
             ],
             [
              0.6666666666666666,
              "#ed7953"
             ],
             [
              0.7777777777777778,
              "#fb9f3a"
             ],
             [
              0.8888888888888888,
              "#fdca26"
             ],
             [
              1.0,
              "#f0f921"
             ]
            ]
           }
          ],
          "choropleth": [
           {
            "type": "choropleth",
            "colorbar": {
             "outlinewidth": 0,
             "ticks": ""
            }
           }
          ],
          "histogram2d": [
           {
            "type": "histogram2d",
            "colorbar": {
             "outlinewidth": 0,
             "ticks": ""
            },
            "colorscale": [
             [
              0.0,
              "#0d0887"
             ],
             [
              0.1111111111111111,
              "#46039f"
             ],
             [
              0.2222222222222222,
              "#7201a8"
             ],
             [
              0.3333333333333333,
              "#9c179e"
             ],
             [
              0.4444444444444444,
              "#bd3786"
             ],
             [
              0.5555555555555556,
              "#d8576b"
             ],
             [
              0.6666666666666666,
              "#ed7953"
             ],
             [
              0.7777777777777778,
              "#fb9f3a"
             ],
             [
              0.8888888888888888,
              "#fdca26"
             ],
             [
              1.0,
              "#f0f921"
             ]
            ]
           }
          ],
          "heatmap": [
           {
            "type": "heatmap",
            "colorbar": {
             "outlinewidth": 0,
             "ticks": ""
            },
            "colorscale": [
             [
              0.0,
              "#0d0887"
             ],
             [
              0.1111111111111111,
              "#46039f"
             ],
             [
              0.2222222222222222,
              "#7201a8"
             ],
             [
              0.3333333333333333,
              "#9c179e"
             ],
             [
              0.4444444444444444,
              "#bd3786"
             ],
             [
              0.5555555555555556,
              "#d8576b"
             ],
             [
              0.6666666666666666,
              "#ed7953"
             ],
             [
              0.7777777777777778,
              "#fb9f3a"
             ],
             [
              0.8888888888888888,
              "#fdca26"
             ],
             [
              1.0,
              "#f0f921"
             ]
            ]
           }
          ],
          "heatmapgl": [
           {
            "type": "heatmapgl",
            "colorbar": {
             "outlinewidth": 0,
             "ticks": ""
            },
            "colorscale": [
             [
              0.0,
              "#0d0887"
             ],
             [
              0.1111111111111111,
              "#46039f"
             ],
             [
              0.2222222222222222,
              "#7201a8"
             ],
             [
              0.3333333333333333,
              "#9c179e"
             ],
             [
              0.4444444444444444,
              "#bd3786"
             ],
             [
              0.5555555555555556,
              "#d8576b"
             ],
             [
              0.6666666666666666,
              "#ed7953"
             ],
             [
              0.7777777777777778,
              "#fb9f3a"
             ],
             [
              0.8888888888888888,
              "#fdca26"
             ],
             [
              1.0,
              "#f0f921"
             ]
            ]
           }
          ],
          "contourcarpet": [
           {
            "type": "contourcarpet",
            "colorbar": {
             "outlinewidth": 0,
             "ticks": ""
            }
           }
          ],
          "contour": [
           {
            "type": "contour",
            "colorbar": {
             "outlinewidth": 0,
             "ticks": ""
            },
            "colorscale": [
             [
              0.0,
              "#0d0887"
             ],
             [
              0.1111111111111111,
              "#46039f"
             ],
             [
              0.2222222222222222,
              "#7201a8"
             ],
             [
              0.3333333333333333,
              "#9c179e"
             ],
             [
              0.4444444444444444,
              "#bd3786"
             ],
             [
              0.5555555555555556,
              "#d8576b"
             ],
             [
              0.6666666666666666,
              "#ed7953"
             ],
             [
              0.7777777777777778,
              "#fb9f3a"
             ],
             [
              0.8888888888888888,
              "#fdca26"
             ],
             [
              1.0,
              "#f0f921"
             ]
            ]
           }
          ],
          "surface": [
           {
            "type": "surface",
            "colorbar": {
             "outlinewidth": 0,
             "ticks": ""
            },
            "colorscale": [
             [
              0.0,
              "#0d0887"
             ],
             [
              0.1111111111111111,
              "#46039f"
             ],
             [
              0.2222222222222222,
              "#7201a8"
             ],
             [
              0.3333333333333333,
              "#9c179e"
             ],
             [
              0.4444444444444444,
              "#bd3786"
             ],
             [
              0.5555555555555556,
              "#d8576b"
             ],
             [
              0.6666666666666666,
              "#ed7953"
             ],
             [
              0.7777777777777778,
              "#fb9f3a"
             ],
             [
              0.8888888888888888,
              "#fdca26"
             ],
             [
              1.0,
              "#f0f921"
             ]
            ]
           }
          ],
          "mesh3d": [
           {
            "type": "mesh3d",
            "colorbar": {
             "outlinewidth": 0,
             "ticks": ""
            }
           }
          ],
          "scatter": [
           {
            "marker": {
             "line": {
              "color": "#283442"
             }
            },
            "type": "scatter"
           }
          ],
          "parcoords": [
           {
            "type": "parcoords",
            "line": {
             "colorbar": {
              "outlinewidth": 0,
              "ticks": ""
             }
            }
           }
          ],
          "scatterpolargl": [
           {
            "type": "scatterpolargl",
            "marker": {
             "colorbar": {
              "outlinewidth": 0,
              "ticks": ""
             }
            }
           }
          ],
          "bar": [
           {
            "error_x": {
             "color": "#f2f5fa"
            },
            "error_y": {
             "color": "#f2f5fa"
            },
            "marker": {
             "line": {
              "color": "rgb(17,17,17)",
              "width": 0.5
             },
             "pattern": {
              "fillmode": "overlay",
              "size": 10,
              "solidity": 0.2
             }
            },
            "type": "bar"
           }
          ],
          "scattergeo": [
           {
            "type": "scattergeo",
            "marker": {
             "colorbar": {
              "outlinewidth": 0,
              "ticks": ""
             }
            }
           }
          ],
          "scatterpolar": [
           {
            "type": "scatterpolar",
            "marker": {
             "colorbar": {
              "outlinewidth": 0,
              "ticks": ""
             }
            }
           }
          ],
          "histogram": [
           {
            "marker": {
             "pattern": {
              "fillmode": "overlay",
              "size": 10,
              "solidity": 0.2
             }
            },
            "type": "histogram"
           }
          ],
          "scattergl": [
           {
            "marker": {
             "line": {
              "color": "#283442"
             }
            },
            "type": "scattergl"
           }
          ],
          "scatter3d": [
           {
            "type": "scatter3d",
            "line": {
             "colorbar": {
              "outlinewidth": 0,
              "ticks": ""
             }
            },
            "marker": {
             "colorbar": {
              "outlinewidth": 0,
              "ticks": ""
             }
            }
           }
          ],
          "scattermapbox": [
           {
            "type": "scattermapbox",
            "marker": {
             "colorbar": {
              "outlinewidth": 0,
              "ticks": ""
             }
            }
           }
          ],
          "scatterternary": [
           {
            "type": "scatterternary",
            "marker": {
             "colorbar": {
              "outlinewidth": 0,
              "ticks": ""
             }
            }
           }
          ],
          "scattercarpet": [
           {
            "type": "scattercarpet",
            "marker": {
             "colorbar": {
              "outlinewidth": 0,
              "ticks": ""
             }
            }
           }
          ],
          "carpet": [
           {
            "aaxis": {
             "endlinecolor": "#A2B1C6",
             "gridcolor": "#506784",
             "linecolor": "#506784",
             "minorgridcolor": "#506784",
             "startlinecolor": "#A2B1C6"
            },
            "baxis": {
             "endlinecolor": "#A2B1C6",
             "gridcolor": "#506784",
             "linecolor": "#506784",
             "minorgridcolor": "#506784",
             "startlinecolor": "#A2B1C6"
            },
            "type": "carpet"
           }
          ],
          "table": [
           {
            "cells": {
             "fill": {
              "color": "#506784"
             },
             "line": {
              "color": "rgb(17,17,17)"
             }
            },
            "header": {
             "fill": {
              "color": "#2a3f5f"
             },
             "line": {
              "color": "rgb(17,17,17)"
             }
            },
            "type": "table"
           }
          ],
          "barpolar": [
           {
            "marker": {
             "line": {
              "color": "rgb(17,17,17)",
              "width": 0.5
             },
             "pattern": {
              "fillmode": "overlay",
              "size": 10,
              "solidity": 0.2
             }
            },
            "type": "barpolar"
           }
          ],
          "pie": [
           {
            "automargin": true,
            "type": "pie"
           }
          ]
         },
         "layout": {
          "autotypenumbers": "strict",
          "colorway": [
           "#636efa",
           "#EF553B",
           "#00cc96",
           "#ab63fa",
           "#FFA15A",
           "#19d3f3",
           "#FF6692",
           "#B6E880",
           "#FF97FF",
           "#FECB52"
          ],
          "font": {
           "color": "#f2f5fa"
          },
          "hovermode": "closest",
          "hoverlabel": {
           "align": "left"
          },
          "paper_bgcolor": "rgb(17,17,17)",
          "plot_bgcolor": "rgb(17,17,17)",
          "polar": {
           "bgcolor": "rgb(17,17,17)",
           "angularaxis": {
            "gridcolor": "#506784",
            "linecolor": "#506784",
            "ticks": ""
           },
           "radialaxis": {
            "gridcolor": "#506784",
            "linecolor": "#506784",
            "ticks": ""
           }
          },
          "ternary": {
           "bgcolor": "rgb(17,17,17)",
           "aaxis": {
            "gridcolor": "#506784",
            "linecolor": "#506784",
            "ticks": ""
           },
           "baxis": {
            "gridcolor": "#506784",
            "linecolor": "#506784",
            "ticks": ""
           },
           "caxis": {
            "gridcolor": "#506784",
            "linecolor": "#506784",
            "ticks": ""
           }
          },
          "coloraxis": {
           "colorbar": {
            "outlinewidth": 0,
            "ticks": ""
           }
          },
          "colorscale": {
           "sequential": [
            [
             0.0,
             "#0d0887"
            ],
            [
             0.1111111111111111,
             "#46039f"
            ],
            [
             0.2222222222222222,
             "#7201a8"
            ],
            [
             0.3333333333333333,
             "#9c179e"
            ],
            [
             0.4444444444444444,
             "#bd3786"
            ],
            [
             0.5555555555555556,
             "#d8576b"
            ],
            [
             0.6666666666666666,
             "#ed7953"
            ],
            [
             0.7777777777777778,
             "#fb9f3a"
            ],
            [
             0.8888888888888888,
             "#fdca26"
            ],
            [
             1.0,
             "#f0f921"
            ]
           ],
           "sequentialminus": [
            [
             0.0,
             "#0d0887"
            ],
            [
             0.1111111111111111,
             "#46039f"
            ],
            [
             0.2222222222222222,
             "#7201a8"
            ],
            [
             0.3333333333333333,
             "#9c179e"
            ],
            [
             0.4444444444444444,
             "#bd3786"
            ],
            [
             0.5555555555555556,
             "#d8576b"
            ],
            [
             0.6666666666666666,
             "#ed7953"
            ],
            [
             0.7777777777777778,
             "#fb9f3a"
            ],
            [
             0.8888888888888888,
             "#fdca26"
            ],
            [
             1.0,
             "#f0f921"
            ]
           ],
           "diverging": [
            [
             0,
             "#8e0152"
            ],
            [
             0.1,
             "#c51b7d"
            ],
            [
             0.2,
             "#de77ae"
            ],
            [
             0.3,
             "#f1b6da"
            ],
            [
             0.4,
             "#fde0ef"
            ],
            [
             0.5,
             "#f7f7f7"
            ],
            [
             0.6,
             "#e6f5d0"
            ],
            [
             0.7,
             "#b8e186"
            ],
            [
             0.8,
             "#7fbc41"
            ],
            [
             0.9,
             "#4d9221"
            ],
            [
             1,
             "#276419"
            ]
           ]
          },
          "xaxis": {
           "gridcolor": "#283442",
           "linecolor": "#506784",
           "ticks": "",
           "title": {
            "standoff": 15
           },
           "zerolinecolor": "#283442",
           "automargin": true,
           "zerolinewidth": 2
          },
          "yaxis": {
           "gridcolor": "#283442",
           "linecolor": "#506784",
           "ticks": "",
           "title": {
            "standoff": 15
           },
           "zerolinecolor": "#283442",
           "automargin": true,
           "zerolinewidth": 2
          },
          "scene": {
           "xaxis": {
            "backgroundcolor": "rgb(17,17,17)",
            "gridcolor": "#506784",
            "linecolor": "#506784",
            "showbackground": true,
            "ticks": "",
            "zerolinecolor": "#C8D4E3",
            "gridwidth": 2
           },
           "yaxis": {
            "backgroundcolor": "rgb(17,17,17)",
            "gridcolor": "#506784",
            "linecolor": "#506784",
            "showbackground": true,
            "ticks": "",
            "zerolinecolor": "#C8D4E3",
            "gridwidth": 2
           },
           "zaxis": {
            "backgroundcolor": "rgb(17,17,17)",
            "gridcolor": "#506784",
            "linecolor": "#506784",
            "showbackground": true,
            "ticks": "",
            "zerolinecolor": "#C8D4E3",
            "gridwidth": 2
           }
          },
          "shapedefaults": {
           "line": {
            "color": "#f2f5fa"
           }
          },
          "annotationdefaults": {
           "arrowcolor": "#f2f5fa",
           "arrowhead": 0,
           "arrowwidth": 1
          },
          "geo": {
           "bgcolor": "rgb(17,17,17)",
           "landcolor": "rgb(17,17,17)",
           "subunitcolor": "#506784",
           "showland": true,
           "showlakes": true,
           "lakecolor": "rgb(17,17,17)"
          },
          "title": {
           "x": 0.05
          },
          "updatemenudefaults": {
           "bgcolor": "#506784",
           "borderwidth": 0
          },
          "sliderdefaults": {
           "bgcolor": "#C8D4E3",
           "borderwidth": 1,
           "bordercolor": "rgb(17,17,17)",
           "tickwidth": 0
          },
          "mapbox": {
           "style": "dark"
          }
         }
        },
        "xaxis": {
         "anchor": "y",
         "domain": [
          0.0,
          1.0
         ],
         "title": {
          "text": "Street"
         },
         "categoryorder": "array",
         "categoryarray": [
          "Bannatyne AVE",
          "William AVE",
          "McDermot AVE",
          "Hargrave ST",
          "Kennedy ST",
          "Edmonton ST",
          "Carlton ST",
          "Garry ST",
          "Fort ST",
          "Broadway",
          "St Mary AVE",
          "Donald ST",
          "Portage AVE",
          "King ST",
          "Smith ST",
          "Furby ST",
          "Balmoral ST",
          "Notre Dame AVE",
          "Spence ST",
          "Sherbrook ST",
          "Princess ST",
          "Adelaide ST",
          "Rorie ST",
          "Portage Ave.",
          "York AVE",
          "Alley",
          "River AVE",
          "Corydon AVE",
          "Langside ST",
          "Elgin AVE",
          "AV TACHE AVE",
          "Young ST",
          "Market AVE",
          "Colony ST",
          "RUE VALADE ST",
          "Good ST",
          "Lombard AVE",
          "Arthur ST",
          "James AVE",
          "Albert ST",
          "LOT 109 - STRADBROOK & OSBORNE",
          "Graham AVE",
          "Dartmouth DR",
          "Osborne ST",
          "Maryland ST",
          "RUE DESPINS ST",
          "Wolseley AVE",
          "Assiniboine AVE",
          "Westminster AVE",
          "Vaughan ST"
         ],
         "tickangle": -45
        },
        "yaxis": {
         "anchor": "x",
         "domain": [
          0.0,
          1.0
         ],
         "title": {
          "text": "Number of Tickets"
         }
        },
        "legend": {
         "title": {
          "text": "Street"
         },
         "tracegroupgap": 0
        },
        "title": {
         "text": "Top 50 Streets with Most Parking Tickets"
        },
        "barmode": "relative",
        "uniformtext": {
         "minsize": 8
        }
       },
       "config": {
        "plotlyServerURL": "https://plot.ly"
       }
      },
      "text/html": "<div>                            <div id=\"0da70267-079b-4fac-bafd-49435016c746\" class=\"plotly-graph-div\" style=\"height:525px; width:100%;\"></div>            <script type=\"text/javascript\">                require([\"plotly\"], function(Plotly) {                    window.PLOTLYENV=window.PLOTLYENV || {};                                    if (document.getElementById(\"0da70267-079b-4fac-bafd-49435016c746\")) {                    Plotly.newPlot(                        \"0da70267-079b-4fac-bafd-49435016c746\",                        [{\"alignmentgroup\":\"True\",\"hovertemplate\":\"Street=%{x}<br>Number of Tickets=%{y}<extra></extra>\",\"legendgroup\":\"Bannatyne AVE\",\"marker\":{\"color\":\"#636efa\",\"pattern\":{\"shape\":\"\"}},\"name\":\"Bannatyne AVE\",\"offsetgroup\":\"Bannatyne AVE\",\"orientation\":\"v\",\"showlegend\":true,\"textposition\":\"auto\",\"x\":[\"Bannatyne AVE\"],\"xaxis\":\"x\",\"y\":[28532],\"yaxis\":\"y\",\"type\":\"bar\"},{\"alignmentgroup\":\"True\",\"hovertemplate\":\"Street=%{x}<br>Number of Tickets=%{y}<extra></extra>\",\"legendgroup\":\"William AVE\",\"marker\":{\"color\":\"#EF553B\",\"pattern\":{\"shape\":\"\"}},\"name\":\"William AVE\",\"offsetgroup\":\"William AVE\",\"orientation\":\"v\",\"showlegend\":true,\"textposition\":\"auto\",\"x\":[\"William AVE\"],\"xaxis\":\"x\",\"y\":[28333],\"yaxis\":\"y\",\"type\":\"bar\"},{\"alignmentgroup\":\"True\",\"hovertemplate\":\"Street=%{x}<br>Number of Tickets=%{y}<extra></extra>\",\"legendgroup\":\"McDermot AVE\",\"marker\":{\"color\":\"#00cc96\",\"pattern\":{\"shape\":\"\"}},\"name\":\"McDermot AVE\",\"offsetgroup\":\"McDermot AVE\",\"orientation\":\"v\",\"showlegend\":true,\"textposition\":\"auto\",\"x\":[\"McDermot AVE\"],\"xaxis\":\"x\",\"y\":[26514],\"yaxis\":\"y\",\"type\":\"bar\"},{\"alignmentgroup\":\"True\",\"hovertemplate\":\"Street=%{x}<br>Number of Tickets=%{y}<extra></extra>\",\"legendgroup\":\"Hargrave ST\",\"marker\":{\"color\":\"#ab63fa\",\"pattern\":{\"shape\":\"\"}},\"name\":\"Hargrave ST\",\"offsetgroup\":\"Hargrave ST\",\"orientation\":\"v\",\"showlegend\":true,\"textposition\":\"auto\",\"x\":[\"Hargrave ST\"],\"xaxis\":\"x\",\"y\":[26092],\"yaxis\":\"y\",\"type\":\"bar\"},{\"alignmentgroup\":\"True\",\"hovertemplate\":\"Street=%{x}<br>Number of Tickets=%{y}<extra></extra>\",\"legendgroup\":\"Kennedy ST\",\"marker\":{\"color\":\"#FFA15A\",\"pattern\":{\"shape\":\"\"}},\"name\":\"Kennedy ST\",\"offsetgroup\":\"Kennedy ST\",\"orientation\":\"v\",\"showlegend\":true,\"textposition\":\"auto\",\"x\":[\"Kennedy ST\"],\"xaxis\":\"x\",\"y\":[22297],\"yaxis\":\"y\",\"type\":\"bar\"},{\"alignmentgroup\":\"True\",\"hovertemplate\":\"Street=%{x}<br>Number of Tickets=%{y}<extra></extra>\",\"legendgroup\":\"Edmonton ST\",\"marker\":{\"color\":\"#19d3f3\",\"pattern\":{\"shape\":\"\"}},\"name\":\"Edmonton ST\",\"offsetgroup\":\"Edmonton ST\",\"orientation\":\"v\",\"showlegend\":true,\"textposition\":\"auto\",\"x\":[\"Edmonton ST\"],\"xaxis\":\"x\",\"y\":[18145],\"yaxis\":\"y\",\"type\":\"bar\"},{\"alignmentgroup\":\"True\",\"hovertemplate\":\"Street=%{x}<br>Number of Tickets=%{y}<extra></extra>\",\"legendgroup\":\"Carlton ST\",\"marker\":{\"color\":\"#FF6692\",\"pattern\":{\"shape\":\"\"}},\"name\":\"Carlton ST\",\"offsetgroup\":\"Carlton ST\",\"orientation\":\"v\",\"showlegend\":true,\"textposition\":\"auto\",\"x\":[\"Carlton ST\"],\"xaxis\":\"x\",\"y\":[17543],\"yaxis\":\"y\",\"type\":\"bar\"},{\"alignmentgroup\":\"True\",\"hovertemplate\":\"Street=%{x}<br>Number of Tickets=%{y}<extra></extra>\",\"legendgroup\":\"Garry ST\",\"marker\":{\"color\":\"#B6E880\",\"pattern\":{\"shape\":\"\"}},\"name\":\"Garry ST\",\"offsetgroup\":\"Garry ST\",\"orientation\":\"v\",\"showlegend\":true,\"textposition\":\"auto\",\"x\":[\"Garry ST\"],\"xaxis\":\"x\",\"y\":[17473],\"yaxis\":\"y\",\"type\":\"bar\"},{\"alignmentgroup\":\"True\",\"hovertemplate\":\"Street=%{x}<br>Number of Tickets=%{y}<extra></extra>\",\"legendgroup\":\"Fort ST\",\"marker\":{\"color\":\"#FF97FF\",\"pattern\":{\"shape\":\"\"}},\"name\":\"Fort ST\",\"offsetgroup\":\"Fort ST\",\"orientation\":\"v\",\"showlegend\":true,\"textposition\":\"auto\",\"x\":[\"Fort ST\"],\"xaxis\":\"x\",\"y\":[15168],\"yaxis\":\"y\",\"type\":\"bar\"},{\"alignmentgroup\":\"True\",\"hovertemplate\":\"Street=%{x}<br>Number of Tickets=%{y}<extra></extra>\",\"legendgroup\":\"Broadway\",\"marker\":{\"color\":\"#FECB52\",\"pattern\":{\"shape\":\"\"}},\"name\":\"Broadway\",\"offsetgroup\":\"Broadway\",\"orientation\":\"v\",\"showlegend\":true,\"textposition\":\"auto\",\"x\":[\"Broadway\"],\"xaxis\":\"x\",\"y\":[15064],\"yaxis\":\"y\",\"type\":\"bar\"},{\"alignmentgroup\":\"True\",\"hovertemplate\":\"Street=%{x}<br>Number of Tickets=%{y}<extra></extra>\",\"legendgroup\":\"St Mary AVE\",\"marker\":{\"color\":\"#636efa\",\"pattern\":{\"shape\":\"\"}},\"name\":\"St Mary AVE\",\"offsetgroup\":\"St Mary AVE\",\"orientation\":\"v\",\"showlegend\":true,\"textposition\":\"auto\",\"x\":[\"St Mary AVE\"],\"xaxis\":\"x\",\"y\":[14797],\"yaxis\":\"y\",\"type\":\"bar\"},{\"alignmentgroup\":\"True\",\"hovertemplate\":\"Street=%{x}<br>Number of Tickets=%{y}<extra></extra>\",\"legendgroup\":\"Donald ST\",\"marker\":{\"color\":\"#EF553B\",\"pattern\":{\"shape\":\"\"}},\"name\":\"Donald ST\",\"offsetgroup\":\"Donald ST\",\"orientation\":\"v\",\"showlegend\":true,\"textposition\":\"auto\",\"x\":[\"Donald ST\"],\"xaxis\":\"x\",\"y\":[13781],\"yaxis\":\"y\",\"type\":\"bar\"},{\"alignmentgroup\":\"True\",\"hovertemplate\":\"Street=%{x}<br>Number of Tickets=%{y}<extra></extra>\",\"legendgroup\":\"Portage AVE\",\"marker\":{\"color\":\"#00cc96\",\"pattern\":{\"shape\":\"\"}},\"name\":\"Portage AVE\",\"offsetgroup\":\"Portage AVE\",\"orientation\":\"v\",\"showlegend\":true,\"textposition\":\"auto\",\"x\":[\"Portage AVE\"],\"xaxis\":\"x\",\"y\":[13735],\"yaxis\":\"y\",\"type\":\"bar\"},{\"alignmentgroup\":\"True\",\"hovertemplate\":\"Street=%{x}<br>Number of Tickets=%{y}<extra></extra>\",\"legendgroup\":\"King ST\",\"marker\":{\"color\":\"#ab63fa\",\"pattern\":{\"shape\":\"\"}},\"name\":\"King ST\",\"offsetgroup\":\"King ST\",\"orientation\":\"v\",\"showlegend\":true,\"textposition\":\"auto\",\"x\":[\"King ST\"],\"xaxis\":\"x\",\"y\":[12804],\"yaxis\":\"y\",\"type\":\"bar\"},{\"alignmentgroup\":\"True\",\"hovertemplate\":\"Street=%{x}<br>Number of Tickets=%{y}<extra></extra>\",\"legendgroup\":\"Smith ST\",\"marker\":{\"color\":\"#FFA15A\",\"pattern\":{\"shape\":\"\"}},\"name\":\"Smith ST\",\"offsetgroup\":\"Smith ST\",\"orientation\":\"v\",\"showlegend\":true,\"textposition\":\"auto\",\"x\":[\"Smith ST\"],\"xaxis\":\"x\",\"y\":[12775],\"yaxis\":\"y\",\"type\":\"bar\"},{\"alignmentgroup\":\"True\",\"hovertemplate\":\"Street=%{x}<br>Number of Tickets=%{y}<extra></extra>\",\"legendgroup\":\"Furby ST\",\"marker\":{\"color\":\"#19d3f3\",\"pattern\":{\"shape\":\"\"}},\"name\":\"Furby ST\",\"offsetgroup\":\"Furby ST\",\"orientation\":\"v\",\"showlegend\":true,\"textposition\":\"auto\",\"x\":[\"Furby ST\"],\"xaxis\":\"x\",\"y\":[11198],\"yaxis\":\"y\",\"type\":\"bar\"},{\"alignmentgroup\":\"True\",\"hovertemplate\":\"Street=%{x}<br>Number of Tickets=%{y}<extra></extra>\",\"legendgroup\":\"Balmoral ST\",\"marker\":{\"color\":\"#FF6692\",\"pattern\":{\"shape\":\"\"}},\"name\":\"Balmoral ST\",\"offsetgroup\":\"Balmoral ST\",\"orientation\":\"v\",\"showlegend\":true,\"textposition\":\"auto\",\"x\":[\"Balmoral ST\"],\"xaxis\":\"x\",\"y\":[10672],\"yaxis\":\"y\",\"type\":\"bar\"},{\"alignmentgroup\":\"True\",\"hovertemplate\":\"Street=%{x}<br>Number of Tickets=%{y}<extra></extra>\",\"legendgroup\":\"Notre Dame AVE\",\"marker\":{\"color\":\"#B6E880\",\"pattern\":{\"shape\":\"\"}},\"name\":\"Notre Dame AVE\",\"offsetgroup\":\"Notre Dame AVE\",\"orientation\":\"v\",\"showlegend\":true,\"textposition\":\"auto\",\"x\":[\"Notre Dame AVE\"],\"xaxis\":\"x\",\"y\":[10540],\"yaxis\":\"y\",\"type\":\"bar\"},{\"alignmentgroup\":\"True\",\"hovertemplate\":\"Street=%{x}<br>Number of Tickets=%{y}<extra></extra>\",\"legendgroup\":\"Spence ST\",\"marker\":{\"color\":\"#FF97FF\",\"pattern\":{\"shape\":\"\"}},\"name\":\"Spence ST\",\"offsetgroup\":\"Spence ST\",\"orientation\":\"v\",\"showlegend\":true,\"textposition\":\"auto\",\"x\":[\"Spence ST\"],\"xaxis\":\"x\",\"y\":[10336],\"yaxis\":\"y\",\"type\":\"bar\"},{\"alignmentgroup\":\"True\",\"hovertemplate\":\"Street=%{x}<br>Number of Tickets=%{y}<extra></extra>\",\"legendgroup\":\"Sherbrook ST\",\"marker\":{\"color\":\"#FECB52\",\"pattern\":{\"shape\":\"\"}},\"name\":\"Sherbrook ST\",\"offsetgroup\":\"Sherbrook ST\",\"orientation\":\"v\",\"showlegend\":true,\"textposition\":\"auto\",\"x\":[\"Sherbrook ST\"],\"xaxis\":\"x\",\"y\":[10297],\"yaxis\":\"y\",\"type\":\"bar\"},{\"alignmentgroup\":\"True\",\"hovertemplate\":\"Street=%{x}<br>Number of Tickets=%{y}<extra></extra>\",\"legendgroup\":\"Princess ST\",\"marker\":{\"color\":\"#636efa\",\"pattern\":{\"shape\":\"\"}},\"name\":\"Princess ST\",\"offsetgroup\":\"Princess ST\",\"orientation\":\"v\",\"showlegend\":true,\"textposition\":\"auto\",\"x\":[\"Princess ST\"],\"xaxis\":\"x\",\"y\":[10153],\"yaxis\":\"y\",\"type\":\"bar\"},{\"alignmentgroup\":\"True\",\"hovertemplate\":\"Street=%{x}<br>Number of Tickets=%{y}<extra></extra>\",\"legendgroup\":\"Adelaide ST\",\"marker\":{\"color\":\"#EF553B\",\"pattern\":{\"shape\":\"\"}},\"name\":\"Adelaide ST\",\"offsetgroup\":\"Adelaide ST\",\"orientation\":\"v\",\"showlegend\":true,\"textposition\":\"auto\",\"x\":[\"Adelaide ST\"],\"xaxis\":\"x\",\"y\":[9519],\"yaxis\":\"y\",\"type\":\"bar\"},{\"alignmentgroup\":\"True\",\"hovertemplate\":\"Street=%{x}<br>Number of Tickets=%{y}<extra></extra>\",\"legendgroup\":\"Rorie ST\",\"marker\":{\"color\":\"#00cc96\",\"pattern\":{\"shape\":\"\"}},\"name\":\"Rorie ST\",\"offsetgroup\":\"Rorie ST\",\"orientation\":\"v\",\"showlegend\":true,\"textposition\":\"auto\",\"x\":[\"Rorie ST\"],\"xaxis\":\"x\",\"y\":[9048],\"yaxis\":\"y\",\"type\":\"bar\"},{\"alignmentgroup\":\"True\",\"hovertemplate\":\"Street=%{x}<br>Number of Tickets=%{y}<extra></extra>\",\"legendgroup\":\"Portage Ave.\",\"marker\":{\"color\":\"#ab63fa\",\"pattern\":{\"shape\":\"\"}},\"name\":\"Portage Ave.\",\"offsetgroup\":\"Portage Ave.\",\"orientation\":\"v\",\"showlegend\":true,\"textposition\":\"auto\",\"x\":[\"Portage Ave.\"],\"xaxis\":\"x\",\"y\":[8848],\"yaxis\":\"y\",\"type\":\"bar\"},{\"alignmentgroup\":\"True\",\"hovertemplate\":\"Street=%{x}<br>Number of Tickets=%{y}<extra></extra>\",\"legendgroup\":\"York AVE\",\"marker\":{\"color\":\"#FFA15A\",\"pattern\":{\"shape\":\"\"}},\"name\":\"York AVE\",\"offsetgroup\":\"York AVE\",\"orientation\":\"v\",\"showlegend\":true,\"textposition\":\"auto\",\"x\":[\"York AVE\"],\"xaxis\":\"x\",\"y\":[8551],\"yaxis\":\"y\",\"type\":\"bar\"},{\"alignmentgroup\":\"True\",\"hovertemplate\":\"Street=%{x}<br>Number of Tickets=%{y}<extra></extra>\",\"legendgroup\":\"Alley\",\"marker\":{\"color\":\"#19d3f3\",\"pattern\":{\"shape\":\"\"}},\"name\":\"Alley\",\"offsetgroup\":\"Alley\",\"orientation\":\"v\",\"showlegend\":true,\"textposition\":\"auto\",\"x\":[\"Alley\"],\"xaxis\":\"x\",\"y\":[8098],\"yaxis\":\"y\",\"type\":\"bar\"},{\"alignmentgroup\":\"True\",\"hovertemplate\":\"Street=%{x}<br>Number of Tickets=%{y}<extra></extra>\",\"legendgroup\":\"River AVE\",\"marker\":{\"color\":\"#FF6692\",\"pattern\":{\"shape\":\"\"}},\"name\":\"River AVE\",\"offsetgroup\":\"River AVE\",\"orientation\":\"v\",\"showlegend\":true,\"textposition\":\"auto\",\"x\":[\"River AVE\"],\"xaxis\":\"x\",\"y\":[7738],\"yaxis\":\"y\",\"type\":\"bar\"},{\"alignmentgroup\":\"True\",\"hovertemplate\":\"Street=%{x}<br>Number of Tickets=%{y}<extra></extra>\",\"legendgroup\":\"Corydon AVE\",\"marker\":{\"color\":\"#B6E880\",\"pattern\":{\"shape\":\"\"}},\"name\":\"Corydon AVE\",\"offsetgroup\":\"Corydon AVE\",\"orientation\":\"v\",\"showlegend\":true,\"textposition\":\"auto\",\"x\":[\"Corydon AVE\"],\"xaxis\":\"x\",\"y\":[7711],\"yaxis\":\"y\",\"type\":\"bar\"},{\"alignmentgroup\":\"True\",\"hovertemplate\":\"Street=%{x}<br>Number of Tickets=%{y}<extra></extra>\",\"legendgroup\":\"Langside ST\",\"marker\":{\"color\":\"#FF97FF\",\"pattern\":{\"shape\":\"\"}},\"name\":\"Langside ST\",\"offsetgroup\":\"Langside ST\",\"orientation\":\"v\",\"showlegend\":true,\"textposition\":\"auto\",\"x\":[\"Langside ST\"],\"xaxis\":\"x\",\"y\":[7256],\"yaxis\":\"y\",\"type\":\"bar\"},{\"alignmentgroup\":\"True\",\"hovertemplate\":\"Street=%{x}<br>Number of Tickets=%{y}<extra></extra>\",\"legendgroup\":\"Elgin AVE\",\"marker\":{\"color\":\"#FECB52\",\"pattern\":{\"shape\":\"\"}},\"name\":\"Elgin AVE\",\"offsetgroup\":\"Elgin AVE\",\"orientation\":\"v\",\"showlegend\":true,\"textposition\":\"auto\",\"x\":[\"Elgin AVE\"],\"xaxis\":\"x\",\"y\":[6958],\"yaxis\":\"y\",\"type\":\"bar\"},{\"alignmentgroup\":\"True\",\"hovertemplate\":\"Street=%{x}<br>Number of Tickets=%{y}<extra></extra>\",\"legendgroup\":\"AV TACHE AVE\",\"marker\":{\"color\":\"#636efa\",\"pattern\":{\"shape\":\"\"}},\"name\":\"AV TACHE AVE\",\"offsetgroup\":\"AV TACHE AVE\",\"orientation\":\"v\",\"showlegend\":true,\"textposition\":\"auto\",\"x\":[\"AV TACHE AVE\"],\"xaxis\":\"x\",\"y\":[6776],\"yaxis\":\"y\",\"type\":\"bar\"},{\"alignmentgroup\":\"True\",\"hovertemplate\":\"Street=%{x}<br>Number of Tickets=%{y}<extra></extra>\",\"legendgroup\":\"Young ST\",\"marker\":{\"color\":\"#EF553B\",\"pattern\":{\"shape\":\"\"}},\"name\":\"Young ST\",\"offsetgroup\":\"Young ST\",\"orientation\":\"v\",\"showlegend\":true,\"textposition\":\"auto\",\"x\":[\"Young ST\"],\"xaxis\":\"x\",\"y\":[6705],\"yaxis\":\"y\",\"type\":\"bar\"},{\"alignmentgroup\":\"True\",\"hovertemplate\":\"Street=%{x}<br>Number of Tickets=%{y}<extra></extra>\",\"legendgroup\":\"Market AVE\",\"marker\":{\"color\":\"#00cc96\",\"pattern\":{\"shape\":\"\"}},\"name\":\"Market AVE\",\"offsetgroup\":\"Market AVE\",\"orientation\":\"v\",\"showlegend\":true,\"textposition\":\"auto\",\"x\":[\"Market AVE\"],\"xaxis\":\"x\",\"y\":[6672],\"yaxis\":\"y\",\"type\":\"bar\"},{\"alignmentgroup\":\"True\",\"hovertemplate\":\"Street=%{x}<br>Number of Tickets=%{y}<extra></extra>\",\"legendgroup\":\"Colony ST\",\"marker\":{\"color\":\"#ab63fa\",\"pattern\":{\"shape\":\"\"}},\"name\":\"Colony ST\",\"offsetgroup\":\"Colony ST\",\"orientation\":\"v\",\"showlegend\":true,\"textposition\":\"auto\",\"x\":[\"Colony ST\"],\"xaxis\":\"x\",\"y\":[6664],\"yaxis\":\"y\",\"type\":\"bar\"},{\"alignmentgroup\":\"True\",\"hovertemplate\":\"Street=%{x}<br>Number of Tickets=%{y}<extra></extra>\",\"legendgroup\":\"RUE VALADE ST\",\"marker\":{\"color\":\"#FFA15A\",\"pattern\":{\"shape\":\"\"}},\"name\":\"RUE VALADE ST\",\"offsetgroup\":\"RUE VALADE ST\",\"orientation\":\"v\",\"showlegend\":true,\"textposition\":\"auto\",\"x\":[\"RUE VALADE ST\"],\"xaxis\":\"x\",\"y\":[6362],\"yaxis\":\"y\",\"type\":\"bar\"},{\"alignmentgroup\":\"True\",\"hovertemplate\":\"Street=%{x}<br>Number of Tickets=%{y}<extra></extra>\",\"legendgroup\":\"Good ST\",\"marker\":{\"color\":\"#19d3f3\",\"pattern\":{\"shape\":\"\"}},\"name\":\"Good ST\",\"offsetgroup\":\"Good ST\",\"orientation\":\"v\",\"showlegend\":true,\"textposition\":\"auto\",\"x\":[\"Good ST\"],\"xaxis\":\"x\",\"y\":[6159],\"yaxis\":\"y\",\"type\":\"bar\"},{\"alignmentgroup\":\"True\",\"hovertemplate\":\"Street=%{x}<br>Number of Tickets=%{y}<extra></extra>\",\"legendgroup\":\"Lombard AVE\",\"marker\":{\"color\":\"#FF6692\",\"pattern\":{\"shape\":\"\"}},\"name\":\"Lombard AVE\",\"offsetgroup\":\"Lombard AVE\",\"orientation\":\"v\",\"showlegend\":true,\"textposition\":\"auto\",\"x\":[\"Lombard AVE\"],\"xaxis\":\"x\",\"y\":[6040],\"yaxis\":\"y\",\"type\":\"bar\"},{\"alignmentgroup\":\"True\",\"hovertemplate\":\"Street=%{x}<br>Number of Tickets=%{y}<extra></extra>\",\"legendgroup\":\"Arthur ST\",\"marker\":{\"color\":\"#B6E880\",\"pattern\":{\"shape\":\"\"}},\"name\":\"Arthur ST\",\"offsetgroup\":\"Arthur ST\",\"orientation\":\"v\",\"showlegend\":true,\"textposition\":\"auto\",\"x\":[\"Arthur ST\"],\"xaxis\":\"x\",\"y\":[5997],\"yaxis\":\"y\",\"type\":\"bar\"},{\"alignmentgroup\":\"True\",\"hovertemplate\":\"Street=%{x}<br>Number of Tickets=%{y}<extra></extra>\",\"legendgroup\":\"James AVE\",\"marker\":{\"color\":\"#FF97FF\",\"pattern\":{\"shape\":\"\"}},\"name\":\"James AVE\",\"offsetgroup\":\"James AVE\",\"orientation\":\"v\",\"showlegend\":true,\"textposition\":\"auto\",\"x\":[\"James AVE\"],\"xaxis\":\"x\",\"y\":[5888],\"yaxis\":\"y\",\"type\":\"bar\"},{\"alignmentgroup\":\"True\",\"hovertemplate\":\"Street=%{x}<br>Number of Tickets=%{y}<extra></extra>\",\"legendgroup\":\"Albert ST\",\"marker\":{\"color\":\"#FECB52\",\"pattern\":{\"shape\":\"\"}},\"name\":\"Albert ST\",\"offsetgroup\":\"Albert ST\",\"orientation\":\"v\",\"showlegend\":true,\"textposition\":\"auto\",\"x\":[\"Albert ST\"],\"xaxis\":\"x\",\"y\":[5663],\"yaxis\":\"y\",\"type\":\"bar\"},{\"alignmentgroup\":\"True\",\"hovertemplate\":\"Street=%{x}<br>Number of Tickets=%{y}<extra></extra>\",\"legendgroup\":\"LOT 109 - STRADBROOK & OSBORNE\",\"marker\":{\"color\":\"#636efa\",\"pattern\":{\"shape\":\"\"}},\"name\":\"LOT 109 - STRADBROOK & OSBORNE\",\"offsetgroup\":\"LOT 109 - STRADBROOK & OSBORNE\",\"orientation\":\"v\",\"showlegend\":true,\"textposition\":\"auto\",\"x\":[\"LOT 109 - STRADBROOK & OSBORNE\"],\"xaxis\":\"x\",\"y\":[5629],\"yaxis\":\"y\",\"type\":\"bar\"},{\"alignmentgroup\":\"True\",\"hovertemplate\":\"Street=%{x}<br>Number of Tickets=%{y}<extra></extra>\",\"legendgroup\":\"Graham AVE\",\"marker\":{\"color\":\"#EF553B\",\"pattern\":{\"shape\":\"\"}},\"name\":\"Graham AVE\",\"offsetgroup\":\"Graham AVE\",\"orientation\":\"v\",\"showlegend\":true,\"textposition\":\"auto\",\"x\":[\"Graham AVE\"],\"xaxis\":\"x\",\"y\":[5403],\"yaxis\":\"y\",\"type\":\"bar\"},{\"alignmentgroup\":\"True\",\"hovertemplate\":\"Street=%{x}<br>Number of Tickets=%{y}<extra></extra>\",\"legendgroup\":\"Dartmouth DR\",\"marker\":{\"color\":\"#00cc96\",\"pattern\":{\"shape\":\"\"}},\"name\":\"Dartmouth DR\",\"offsetgroup\":\"Dartmouth DR\",\"orientation\":\"v\",\"showlegend\":true,\"textposition\":\"auto\",\"x\":[\"Dartmouth DR\"],\"xaxis\":\"x\",\"y\":[5340],\"yaxis\":\"y\",\"type\":\"bar\"},{\"alignmentgroup\":\"True\",\"hovertemplate\":\"Street=%{x}<br>Number of Tickets=%{y}<extra></extra>\",\"legendgroup\":\"Osborne ST\",\"marker\":{\"color\":\"#ab63fa\",\"pattern\":{\"shape\":\"\"}},\"name\":\"Osborne ST\",\"offsetgroup\":\"Osborne ST\",\"orientation\":\"v\",\"showlegend\":true,\"textposition\":\"auto\",\"x\":[\"Osborne ST\"],\"xaxis\":\"x\",\"y\":[5118],\"yaxis\":\"y\",\"type\":\"bar\"},{\"alignmentgroup\":\"True\",\"hovertemplate\":\"Street=%{x}<br>Number of Tickets=%{y}<extra></extra>\",\"legendgroup\":\"Maryland ST\",\"marker\":{\"color\":\"#FFA15A\",\"pattern\":{\"shape\":\"\"}},\"name\":\"Maryland ST\",\"offsetgroup\":\"Maryland ST\",\"orientation\":\"v\",\"showlegend\":true,\"textposition\":\"auto\",\"x\":[\"Maryland ST\"],\"xaxis\":\"x\",\"y\":[4869],\"yaxis\":\"y\",\"type\":\"bar\"},{\"alignmentgroup\":\"True\",\"hovertemplate\":\"Street=%{x}<br>Number of Tickets=%{y}<extra></extra>\",\"legendgroup\":\"RUE DESPINS ST\",\"marker\":{\"color\":\"#19d3f3\",\"pattern\":{\"shape\":\"\"}},\"name\":\"RUE DESPINS ST\",\"offsetgroup\":\"RUE DESPINS ST\",\"orientation\":\"v\",\"showlegend\":true,\"textposition\":\"auto\",\"x\":[\"RUE DESPINS ST\"],\"xaxis\":\"x\",\"y\":[4843],\"yaxis\":\"y\",\"type\":\"bar\"},{\"alignmentgroup\":\"True\",\"hovertemplate\":\"Street=%{x}<br>Number of Tickets=%{y}<extra></extra>\",\"legendgroup\":\"Wolseley AVE\",\"marker\":{\"color\":\"#FF6692\",\"pattern\":{\"shape\":\"\"}},\"name\":\"Wolseley AVE\",\"offsetgroup\":\"Wolseley AVE\",\"orientation\":\"v\",\"showlegend\":true,\"textposition\":\"auto\",\"x\":[\"Wolseley AVE\"],\"xaxis\":\"x\",\"y\":[4512],\"yaxis\":\"y\",\"type\":\"bar\"},{\"alignmentgroup\":\"True\",\"hovertemplate\":\"Street=%{x}<br>Number of Tickets=%{y}<extra></extra>\",\"legendgroup\":\"Assiniboine AVE\",\"marker\":{\"color\":\"#B6E880\",\"pattern\":{\"shape\":\"\"}},\"name\":\"Assiniboine AVE\",\"offsetgroup\":\"Assiniboine AVE\",\"orientation\":\"v\",\"showlegend\":true,\"textposition\":\"auto\",\"x\":[\"Assiniboine AVE\"],\"xaxis\":\"x\",\"y\":[4408],\"yaxis\":\"y\",\"type\":\"bar\"},{\"alignmentgroup\":\"True\",\"hovertemplate\":\"Street=%{x}<br>Number of Tickets=%{y}<extra></extra>\",\"legendgroup\":\"Westminster AVE\",\"marker\":{\"color\":\"#FF97FF\",\"pattern\":{\"shape\":\"\"}},\"name\":\"Westminster AVE\",\"offsetgroup\":\"Westminster AVE\",\"orientation\":\"v\",\"showlegend\":true,\"textposition\":\"auto\",\"x\":[\"Westminster AVE\"],\"xaxis\":\"x\",\"y\":[4219],\"yaxis\":\"y\",\"type\":\"bar\"},{\"alignmentgroup\":\"True\",\"hovertemplate\":\"Street=%{x}<br>Number of Tickets=%{y}<extra></extra>\",\"legendgroup\":\"Vaughan ST\",\"marker\":{\"color\":\"#FECB52\",\"pattern\":{\"shape\":\"\"}},\"name\":\"Vaughan ST\",\"offsetgroup\":\"Vaughan ST\",\"orientation\":\"v\",\"showlegend\":true,\"textposition\":\"auto\",\"x\":[\"Vaughan ST\"],\"xaxis\":\"x\",\"y\":[4201],\"yaxis\":\"y\",\"type\":\"bar\"}],                        {\"template\":{\"data\":{\"histogram2dcontour\":[{\"type\":\"histogram2dcontour\",\"colorbar\":{\"outlinewidth\":0,\"ticks\":\"\"},\"colorscale\":[[0.0,\"#0d0887\"],[0.1111111111111111,\"#46039f\"],[0.2222222222222222,\"#7201a8\"],[0.3333333333333333,\"#9c179e\"],[0.4444444444444444,\"#bd3786\"],[0.5555555555555556,\"#d8576b\"],[0.6666666666666666,\"#ed7953\"],[0.7777777777777778,\"#fb9f3a\"],[0.8888888888888888,\"#fdca26\"],[1.0,\"#f0f921\"]]}],\"choropleth\":[{\"type\":\"choropleth\",\"colorbar\":{\"outlinewidth\":0,\"ticks\":\"\"}}],\"histogram2d\":[{\"type\":\"histogram2d\",\"colorbar\":{\"outlinewidth\":0,\"ticks\":\"\"},\"colorscale\":[[0.0,\"#0d0887\"],[0.1111111111111111,\"#46039f\"],[0.2222222222222222,\"#7201a8\"],[0.3333333333333333,\"#9c179e\"],[0.4444444444444444,\"#bd3786\"],[0.5555555555555556,\"#d8576b\"],[0.6666666666666666,\"#ed7953\"],[0.7777777777777778,\"#fb9f3a\"],[0.8888888888888888,\"#fdca26\"],[1.0,\"#f0f921\"]]}],\"heatmap\":[{\"type\":\"heatmap\",\"colorbar\":{\"outlinewidth\":0,\"ticks\":\"\"},\"colorscale\":[[0.0,\"#0d0887\"],[0.1111111111111111,\"#46039f\"],[0.2222222222222222,\"#7201a8\"],[0.3333333333333333,\"#9c179e\"],[0.4444444444444444,\"#bd3786\"],[0.5555555555555556,\"#d8576b\"],[0.6666666666666666,\"#ed7953\"],[0.7777777777777778,\"#fb9f3a\"],[0.8888888888888888,\"#fdca26\"],[1.0,\"#f0f921\"]]}],\"heatmapgl\":[{\"type\":\"heatmapgl\",\"colorbar\":{\"outlinewidth\":0,\"ticks\":\"\"},\"colorscale\":[[0.0,\"#0d0887\"],[0.1111111111111111,\"#46039f\"],[0.2222222222222222,\"#7201a8\"],[0.3333333333333333,\"#9c179e\"],[0.4444444444444444,\"#bd3786\"],[0.5555555555555556,\"#d8576b\"],[0.6666666666666666,\"#ed7953\"],[0.7777777777777778,\"#fb9f3a\"],[0.8888888888888888,\"#fdca26\"],[1.0,\"#f0f921\"]]}],\"contourcarpet\":[{\"type\":\"contourcarpet\",\"colorbar\":{\"outlinewidth\":0,\"ticks\":\"\"}}],\"contour\":[{\"type\":\"contour\",\"colorbar\":{\"outlinewidth\":0,\"ticks\":\"\"},\"colorscale\":[[0.0,\"#0d0887\"],[0.1111111111111111,\"#46039f\"],[0.2222222222222222,\"#7201a8\"],[0.3333333333333333,\"#9c179e\"],[0.4444444444444444,\"#bd3786\"],[0.5555555555555556,\"#d8576b\"],[0.6666666666666666,\"#ed7953\"],[0.7777777777777778,\"#fb9f3a\"],[0.8888888888888888,\"#fdca26\"],[1.0,\"#f0f921\"]]}],\"surface\":[{\"type\":\"surface\",\"colorbar\":{\"outlinewidth\":0,\"ticks\":\"\"},\"colorscale\":[[0.0,\"#0d0887\"],[0.1111111111111111,\"#46039f\"],[0.2222222222222222,\"#7201a8\"],[0.3333333333333333,\"#9c179e\"],[0.4444444444444444,\"#bd3786\"],[0.5555555555555556,\"#d8576b\"],[0.6666666666666666,\"#ed7953\"],[0.7777777777777778,\"#fb9f3a\"],[0.8888888888888888,\"#fdca26\"],[1.0,\"#f0f921\"]]}],\"mesh3d\":[{\"type\":\"mesh3d\",\"colorbar\":{\"outlinewidth\":0,\"ticks\":\"\"}}],\"scatter\":[{\"marker\":{\"line\":{\"color\":\"#283442\"}},\"type\":\"scatter\"}],\"parcoords\":[{\"type\":\"parcoords\",\"line\":{\"colorbar\":{\"outlinewidth\":0,\"ticks\":\"\"}}}],\"scatterpolargl\":[{\"type\":\"scatterpolargl\",\"marker\":{\"colorbar\":{\"outlinewidth\":0,\"ticks\":\"\"}}}],\"bar\":[{\"error_x\":{\"color\":\"#f2f5fa\"},\"error_y\":{\"color\":\"#f2f5fa\"},\"marker\":{\"line\":{\"color\":\"rgb(17,17,17)\",\"width\":0.5},\"pattern\":{\"fillmode\":\"overlay\",\"size\":10,\"solidity\":0.2}},\"type\":\"bar\"}],\"scattergeo\":[{\"type\":\"scattergeo\",\"marker\":{\"colorbar\":{\"outlinewidth\":0,\"ticks\":\"\"}}}],\"scatterpolar\":[{\"type\":\"scatterpolar\",\"marker\":{\"colorbar\":{\"outlinewidth\":0,\"ticks\":\"\"}}}],\"histogram\":[{\"marker\":{\"pattern\":{\"fillmode\":\"overlay\",\"size\":10,\"solidity\":0.2}},\"type\":\"histogram\"}],\"scattergl\":[{\"marker\":{\"line\":{\"color\":\"#283442\"}},\"type\":\"scattergl\"}],\"scatter3d\":[{\"type\":\"scatter3d\",\"line\":{\"colorbar\":{\"outlinewidth\":0,\"ticks\":\"\"}},\"marker\":{\"colorbar\":{\"outlinewidth\":0,\"ticks\":\"\"}}}],\"scattermapbox\":[{\"type\":\"scattermapbox\",\"marker\":{\"colorbar\":{\"outlinewidth\":0,\"ticks\":\"\"}}}],\"scatterternary\":[{\"type\":\"scatterternary\",\"marker\":{\"colorbar\":{\"outlinewidth\":0,\"ticks\":\"\"}}}],\"scattercarpet\":[{\"type\":\"scattercarpet\",\"marker\":{\"colorbar\":{\"outlinewidth\":0,\"ticks\":\"\"}}}],\"carpet\":[{\"aaxis\":{\"endlinecolor\":\"#A2B1C6\",\"gridcolor\":\"#506784\",\"linecolor\":\"#506784\",\"minorgridcolor\":\"#506784\",\"startlinecolor\":\"#A2B1C6\"},\"baxis\":{\"endlinecolor\":\"#A2B1C6\",\"gridcolor\":\"#506784\",\"linecolor\":\"#506784\",\"minorgridcolor\":\"#506784\",\"startlinecolor\":\"#A2B1C6\"},\"type\":\"carpet\"}],\"table\":[{\"cells\":{\"fill\":{\"color\":\"#506784\"},\"line\":{\"color\":\"rgb(17,17,17)\"}},\"header\":{\"fill\":{\"color\":\"#2a3f5f\"},\"line\":{\"color\":\"rgb(17,17,17)\"}},\"type\":\"table\"}],\"barpolar\":[{\"marker\":{\"line\":{\"color\":\"rgb(17,17,17)\",\"width\":0.5},\"pattern\":{\"fillmode\":\"overlay\",\"size\":10,\"solidity\":0.2}},\"type\":\"barpolar\"}],\"pie\":[{\"automargin\":true,\"type\":\"pie\"}]},\"layout\":{\"autotypenumbers\":\"strict\",\"colorway\":[\"#636efa\",\"#EF553B\",\"#00cc96\",\"#ab63fa\",\"#FFA15A\",\"#19d3f3\",\"#FF6692\",\"#B6E880\",\"#FF97FF\",\"#FECB52\"],\"font\":{\"color\":\"#f2f5fa\"},\"hovermode\":\"closest\",\"hoverlabel\":{\"align\":\"left\"},\"paper_bgcolor\":\"rgb(17,17,17)\",\"plot_bgcolor\":\"rgb(17,17,17)\",\"polar\":{\"bgcolor\":\"rgb(17,17,17)\",\"angularaxis\":{\"gridcolor\":\"#506784\",\"linecolor\":\"#506784\",\"ticks\":\"\"},\"radialaxis\":{\"gridcolor\":\"#506784\",\"linecolor\":\"#506784\",\"ticks\":\"\"}},\"ternary\":{\"bgcolor\":\"rgb(17,17,17)\",\"aaxis\":{\"gridcolor\":\"#506784\",\"linecolor\":\"#506784\",\"ticks\":\"\"},\"baxis\":{\"gridcolor\":\"#506784\",\"linecolor\":\"#506784\",\"ticks\":\"\"},\"caxis\":{\"gridcolor\":\"#506784\",\"linecolor\":\"#506784\",\"ticks\":\"\"}},\"coloraxis\":{\"colorbar\":{\"outlinewidth\":0,\"ticks\":\"\"}},\"colorscale\":{\"sequential\":[[0.0,\"#0d0887\"],[0.1111111111111111,\"#46039f\"],[0.2222222222222222,\"#7201a8\"],[0.3333333333333333,\"#9c179e\"],[0.4444444444444444,\"#bd3786\"],[0.5555555555555556,\"#d8576b\"],[0.6666666666666666,\"#ed7953\"],[0.7777777777777778,\"#fb9f3a\"],[0.8888888888888888,\"#fdca26\"],[1.0,\"#f0f921\"]],\"sequentialminus\":[[0.0,\"#0d0887\"],[0.1111111111111111,\"#46039f\"],[0.2222222222222222,\"#7201a8\"],[0.3333333333333333,\"#9c179e\"],[0.4444444444444444,\"#bd3786\"],[0.5555555555555556,\"#d8576b\"],[0.6666666666666666,\"#ed7953\"],[0.7777777777777778,\"#fb9f3a\"],[0.8888888888888888,\"#fdca26\"],[1.0,\"#f0f921\"]],\"diverging\":[[0,\"#8e0152\"],[0.1,\"#c51b7d\"],[0.2,\"#de77ae\"],[0.3,\"#f1b6da\"],[0.4,\"#fde0ef\"],[0.5,\"#f7f7f7\"],[0.6,\"#e6f5d0\"],[0.7,\"#b8e186\"],[0.8,\"#7fbc41\"],[0.9,\"#4d9221\"],[1,\"#276419\"]]},\"xaxis\":{\"gridcolor\":\"#283442\",\"linecolor\":\"#506784\",\"ticks\":\"\",\"title\":{\"standoff\":15},\"zerolinecolor\":\"#283442\",\"automargin\":true,\"zerolinewidth\":2},\"yaxis\":{\"gridcolor\":\"#283442\",\"linecolor\":\"#506784\",\"ticks\":\"\",\"title\":{\"standoff\":15},\"zerolinecolor\":\"#283442\",\"automargin\":true,\"zerolinewidth\":2},\"scene\":{\"xaxis\":{\"backgroundcolor\":\"rgb(17,17,17)\",\"gridcolor\":\"#506784\",\"linecolor\":\"#506784\",\"showbackground\":true,\"ticks\":\"\",\"zerolinecolor\":\"#C8D4E3\",\"gridwidth\":2},\"yaxis\":{\"backgroundcolor\":\"rgb(17,17,17)\",\"gridcolor\":\"#506784\",\"linecolor\":\"#506784\",\"showbackground\":true,\"ticks\":\"\",\"zerolinecolor\":\"#C8D4E3\",\"gridwidth\":2},\"zaxis\":{\"backgroundcolor\":\"rgb(17,17,17)\",\"gridcolor\":\"#506784\",\"linecolor\":\"#506784\",\"showbackground\":true,\"ticks\":\"\",\"zerolinecolor\":\"#C8D4E3\",\"gridwidth\":2}},\"shapedefaults\":{\"line\":{\"color\":\"#f2f5fa\"}},\"annotationdefaults\":{\"arrowcolor\":\"#f2f5fa\",\"arrowhead\":0,\"arrowwidth\":1},\"geo\":{\"bgcolor\":\"rgb(17,17,17)\",\"landcolor\":\"rgb(17,17,17)\",\"subunitcolor\":\"#506784\",\"showland\":true,\"showlakes\":true,\"lakecolor\":\"rgb(17,17,17)\"},\"title\":{\"x\":0.05},\"updatemenudefaults\":{\"bgcolor\":\"#506784\",\"borderwidth\":0},\"sliderdefaults\":{\"bgcolor\":\"#C8D4E3\",\"borderwidth\":1,\"bordercolor\":\"rgb(17,17,17)\",\"tickwidth\":0},\"mapbox\":{\"style\":\"dark\"}}},\"xaxis\":{\"anchor\":\"y\",\"domain\":[0.0,1.0],\"title\":{\"text\":\"Street\"},\"categoryorder\":\"array\",\"categoryarray\":[\"Bannatyne AVE\",\"William AVE\",\"McDermot AVE\",\"Hargrave ST\",\"Kennedy ST\",\"Edmonton ST\",\"Carlton ST\",\"Garry ST\",\"Fort ST\",\"Broadway\",\"St Mary AVE\",\"Donald ST\",\"Portage AVE\",\"King ST\",\"Smith ST\",\"Furby ST\",\"Balmoral ST\",\"Notre Dame AVE\",\"Spence ST\",\"Sherbrook ST\",\"Princess ST\",\"Adelaide ST\",\"Rorie ST\",\"Portage Ave.\",\"York AVE\",\"Alley\",\"River AVE\",\"Corydon AVE\",\"Langside ST\",\"Elgin AVE\",\"AV TACHE AVE\",\"Young ST\",\"Market AVE\",\"Colony ST\",\"RUE VALADE ST\",\"Good ST\",\"Lombard AVE\",\"Arthur ST\",\"James AVE\",\"Albert ST\",\"LOT 109 - STRADBROOK & OSBORNE\",\"Graham AVE\",\"Dartmouth DR\",\"Osborne ST\",\"Maryland ST\",\"RUE DESPINS ST\",\"Wolseley AVE\",\"Assiniboine AVE\",\"Westminster AVE\",\"Vaughan ST\"],\"tickangle\":-45},\"yaxis\":{\"anchor\":\"x\",\"domain\":[0.0,1.0],\"title\":{\"text\":\"Number of Tickets\"}},\"legend\":{\"title\":{\"text\":\"Street\"},\"tracegroupgap\":0},\"title\":{\"text\":\"Top 50 Streets with Most Parking Tickets\"},\"barmode\":\"relative\",\"uniformtext\":{\"minsize\":8}},                        {\"responsive\": true}                    ).then(function(){\n                            \nvar gd = document.getElementById('0da70267-079b-4fac-bafd-49435016c746');\nvar x = new MutationObserver(function (mutations, observer) {{\n        var display = window.getComputedStyle(gd).display;\n        if (!display || display === 'none') {{\n            console.log([gd, 'removed!']);\n            Plotly.purge(gd);\n            observer.disconnect();\n        }}\n}});\n\n// Listen for the removal of the full notebook cells\nvar notebookContainer = gd.closest('#notebook-container');\nif (notebookContainer) {{\n    x.observe(notebookContainer, {childList: true});\n}}\n\n// Listen for the clearing of the current output cell\nvar outputEl = gd.closest('.output');\nif (outputEl) {{\n    x.observe(outputEl, {childList: true});\n}}\n\n                        })                };                });            </script>        </div>"
     },
     "metadata": {},
     "output_type": "display_data"
    }
   ],
   "source": [
    "fig = px.bar(top_50_streets, x='Street',y='count', color='Street',\n",
    "             title='Top 50 Streets with Most Parking Tickets',\n",
    "             labels={'count': 'Number of Tickets'})\n",
    "fig.update_layout(uniformtext_minsize=8)\n",
    "fig.update_layout(xaxis_tickangle=-45)\n",
    "fig"
   ],
   "metadata": {
    "collapsed": false,
    "pycharm": {
     "name": "#%%\n"
    }
   }
  },
  {
   "cell_type": "code",
   "execution_count": 51,
   "outputs": [
    {
     "name": "stdout",
     "output_type": "stream",
     "text": [
      "   Day of Week   count\n",
      "3            3  167057\n",
      "2            2  164516\n",
      "1            1  163375\n",
      "4            4  158115\n",
      "0            0  141352\n",
      "5            5   61072\n",
      "6            6   54430\n"
     ]
    }
   ],
   "source": [
    "tickets_by_day = park_data[['Day of Week']].groupby(['Day of Week'])['Day of Week'] \\\n",
    "                             .count() \\\n",
    "                             .reset_index(name='count') \\\n",
    "                             .sort_values(['count'], ascending=False) \\\n",
    "                             .head(50)\n",
    "print(tickets_by_day)"
   ],
   "metadata": {
    "collapsed": false,
    "pycharm": {
     "name": "#%%\n"
    }
   }
  },
  {
   "cell_type": "code",
   "execution_count": 98,
   "outputs": [
    {
     "data": {
      "application/vnd.plotly.v1+json": {
       "data": [
        {
         "alignmentgroup": "True",
         "hovertemplate": "Day of Week=%{marker.color}<br>Number of Tickets=%{y}<extra></extra>",
         "legendgroup": "",
         "marker": {
          "color": [
           3,
           2,
           1,
           4,
           0,
           5,
           6
          ],
          "coloraxis": "coloraxis",
          "pattern": {
           "shape": ""
          }
         },
         "name": "",
         "offsetgroup": "",
         "orientation": "v",
         "showlegend": false,
         "textposition": "auto",
         "x": [
          3,
          2,
          1,
          4,
          0,
          5,
          6
         ],
         "xaxis": "x",
         "y": [
          167057,
          164516,
          163375,
          158115,
          141352,
          61072,
          54430
         ],
         "yaxis": "y",
         "type": "bar"
        }
       ],
       "layout": {
        "template": {
         "data": {
          "histogram2dcontour": [
           {
            "type": "histogram2dcontour",
            "colorbar": {
             "outlinewidth": 0,
             "ticks": ""
            },
            "colorscale": [
             [
              0.0,
              "#0d0887"
             ],
             [
              0.1111111111111111,
              "#46039f"
             ],
             [
              0.2222222222222222,
              "#7201a8"
             ],
             [
              0.3333333333333333,
              "#9c179e"
             ],
             [
              0.4444444444444444,
              "#bd3786"
             ],
             [
              0.5555555555555556,
              "#d8576b"
             ],
             [
              0.6666666666666666,
              "#ed7953"
             ],
             [
              0.7777777777777778,
              "#fb9f3a"
             ],
             [
              0.8888888888888888,
              "#fdca26"
             ],
             [
              1.0,
              "#f0f921"
             ]
            ]
           }
          ],
          "choropleth": [
           {
            "type": "choropleth",
            "colorbar": {
             "outlinewidth": 0,
             "ticks": ""
            }
           }
          ],
          "histogram2d": [
           {
            "type": "histogram2d",
            "colorbar": {
             "outlinewidth": 0,
             "ticks": ""
            },
            "colorscale": [
             [
              0.0,
              "#0d0887"
             ],
             [
              0.1111111111111111,
              "#46039f"
             ],
             [
              0.2222222222222222,
              "#7201a8"
             ],
             [
              0.3333333333333333,
              "#9c179e"
             ],
             [
              0.4444444444444444,
              "#bd3786"
             ],
             [
              0.5555555555555556,
              "#d8576b"
             ],
             [
              0.6666666666666666,
              "#ed7953"
             ],
             [
              0.7777777777777778,
              "#fb9f3a"
             ],
             [
              0.8888888888888888,
              "#fdca26"
             ],
             [
              1.0,
              "#f0f921"
             ]
            ]
           }
          ],
          "heatmap": [
           {
            "type": "heatmap",
            "colorbar": {
             "outlinewidth": 0,
             "ticks": ""
            },
            "colorscale": [
             [
              0.0,
              "#0d0887"
             ],
             [
              0.1111111111111111,
              "#46039f"
             ],
             [
              0.2222222222222222,
              "#7201a8"
             ],
             [
              0.3333333333333333,
              "#9c179e"
             ],
             [
              0.4444444444444444,
              "#bd3786"
             ],
             [
              0.5555555555555556,
              "#d8576b"
             ],
             [
              0.6666666666666666,
              "#ed7953"
             ],
             [
              0.7777777777777778,
              "#fb9f3a"
             ],
             [
              0.8888888888888888,
              "#fdca26"
             ],
             [
              1.0,
              "#f0f921"
             ]
            ]
           }
          ],
          "heatmapgl": [
           {
            "type": "heatmapgl",
            "colorbar": {
             "outlinewidth": 0,
             "ticks": ""
            },
            "colorscale": [
             [
              0.0,
              "#0d0887"
             ],
             [
              0.1111111111111111,
              "#46039f"
             ],
             [
              0.2222222222222222,
              "#7201a8"
             ],
             [
              0.3333333333333333,
              "#9c179e"
             ],
             [
              0.4444444444444444,
              "#bd3786"
             ],
             [
              0.5555555555555556,
              "#d8576b"
             ],
             [
              0.6666666666666666,
              "#ed7953"
             ],
             [
              0.7777777777777778,
              "#fb9f3a"
             ],
             [
              0.8888888888888888,
              "#fdca26"
             ],
             [
              1.0,
              "#f0f921"
             ]
            ]
           }
          ],
          "contourcarpet": [
           {
            "type": "contourcarpet",
            "colorbar": {
             "outlinewidth": 0,
             "ticks": ""
            }
           }
          ],
          "contour": [
           {
            "type": "contour",
            "colorbar": {
             "outlinewidth": 0,
             "ticks": ""
            },
            "colorscale": [
             [
              0.0,
              "#0d0887"
             ],
             [
              0.1111111111111111,
              "#46039f"
             ],
             [
              0.2222222222222222,
              "#7201a8"
             ],
             [
              0.3333333333333333,
              "#9c179e"
             ],
             [
              0.4444444444444444,
              "#bd3786"
             ],
             [
              0.5555555555555556,
              "#d8576b"
             ],
             [
              0.6666666666666666,
              "#ed7953"
             ],
             [
              0.7777777777777778,
              "#fb9f3a"
             ],
             [
              0.8888888888888888,
              "#fdca26"
             ],
             [
              1.0,
              "#f0f921"
             ]
            ]
           }
          ],
          "surface": [
           {
            "type": "surface",
            "colorbar": {
             "outlinewidth": 0,
             "ticks": ""
            },
            "colorscale": [
             [
              0.0,
              "#0d0887"
             ],
             [
              0.1111111111111111,
              "#46039f"
             ],
             [
              0.2222222222222222,
              "#7201a8"
             ],
             [
              0.3333333333333333,
              "#9c179e"
             ],
             [
              0.4444444444444444,
              "#bd3786"
             ],
             [
              0.5555555555555556,
              "#d8576b"
             ],
             [
              0.6666666666666666,
              "#ed7953"
             ],
             [
              0.7777777777777778,
              "#fb9f3a"
             ],
             [
              0.8888888888888888,
              "#fdca26"
             ],
             [
              1.0,
              "#f0f921"
             ]
            ]
           }
          ],
          "mesh3d": [
           {
            "type": "mesh3d",
            "colorbar": {
             "outlinewidth": 0,
             "ticks": ""
            }
           }
          ],
          "scatter": [
           {
            "marker": {
             "line": {
              "color": "#283442"
             }
            },
            "type": "scatter"
           }
          ],
          "parcoords": [
           {
            "type": "parcoords",
            "line": {
             "colorbar": {
              "outlinewidth": 0,
              "ticks": ""
             }
            }
           }
          ],
          "scatterpolargl": [
           {
            "type": "scatterpolargl",
            "marker": {
             "colorbar": {
              "outlinewidth": 0,
              "ticks": ""
             }
            }
           }
          ],
          "bar": [
           {
            "error_x": {
             "color": "#f2f5fa"
            },
            "error_y": {
             "color": "#f2f5fa"
            },
            "marker": {
             "line": {
              "color": "rgb(17,17,17)",
              "width": 0.5
             },
             "pattern": {
              "fillmode": "overlay",
              "size": 10,
              "solidity": 0.2
             }
            },
            "type": "bar"
           }
          ],
          "scattergeo": [
           {
            "type": "scattergeo",
            "marker": {
             "colorbar": {
              "outlinewidth": 0,
              "ticks": ""
             }
            }
           }
          ],
          "scatterpolar": [
           {
            "type": "scatterpolar",
            "marker": {
             "colorbar": {
              "outlinewidth": 0,
              "ticks": ""
             }
            }
           }
          ],
          "histogram": [
           {
            "marker": {
             "pattern": {
              "fillmode": "overlay",
              "size": 10,
              "solidity": 0.2
             }
            },
            "type": "histogram"
           }
          ],
          "scattergl": [
           {
            "marker": {
             "line": {
              "color": "#283442"
             }
            },
            "type": "scattergl"
           }
          ],
          "scatter3d": [
           {
            "type": "scatter3d",
            "line": {
             "colorbar": {
              "outlinewidth": 0,
              "ticks": ""
             }
            },
            "marker": {
             "colorbar": {
              "outlinewidth": 0,
              "ticks": ""
             }
            }
           }
          ],
          "scattermapbox": [
           {
            "type": "scattermapbox",
            "marker": {
             "colorbar": {
              "outlinewidth": 0,
              "ticks": ""
             }
            }
           }
          ],
          "scatterternary": [
           {
            "type": "scatterternary",
            "marker": {
             "colorbar": {
              "outlinewidth": 0,
              "ticks": ""
             }
            }
           }
          ],
          "scattercarpet": [
           {
            "type": "scattercarpet",
            "marker": {
             "colorbar": {
              "outlinewidth": 0,
              "ticks": ""
             }
            }
           }
          ],
          "carpet": [
           {
            "aaxis": {
             "endlinecolor": "#A2B1C6",
             "gridcolor": "#506784",
             "linecolor": "#506784",
             "minorgridcolor": "#506784",
             "startlinecolor": "#A2B1C6"
            },
            "baxis": {
             "endlinecolor": "#A2B1C6",
             "gridcolor": "#506784",
             "linecolor": "#506784",
             "minorgridcolor": "#506784",
             "startlinecolor": "#A2B1C6"
            },
            "type": "carpet"
           }
          ],
          "table": [
           {
            "cells": {
             "fill": {
              "color": "#506784"
             },
             "line": {
              "color": "rgb(17,17,17)"
             }
            },
            "header": {
             "fill": {
              "color": "#2a3f5f"
             },
             "line": {
              "color": "rgb(17,17,17)"
             }
            },
            "type": "table"
           }
          ],
          "barpolar": [
           {
            "marker": {
             "line": {
              "color": "rgb(17,17,17)",
              "width": 0.5
             },
             "pattern": {
              "fillmode": "overlay",
              "size": 10,
              "solidity": 0.2
             }
            },
            "type": "barpolar"
           }
          ],
          "pie": [
           {
            "automargin": true,
            "type": "pie"
           }
          ]
         },
         "layout": {
          "autotypenumbers": "strict",
          "colorway": [
           "#636efa",
           "#EF553B",
           "#00cc96",
           "#ab63fa",
           "#FFA15A",
           "#19d3f3",
           "#FF6692",
           "#B6E880",
           "#FF97FF",
           "#FECB52"
          ],
          "font": {
           "color": "#f2f5fa"
          },
          "hovermode": "closest",
          "hoverlabel": {
           "align": "left"
          },
          "paper_bgcolor": "rgb(17,17,17)",
          "plot_bgcolor": "rgb(17,17,17)",
          "polar": {
           "bgcolor": "rgb(17,17,17)",
           "angularaxis": {
            "gridcolor": "#506784",
            "linecolor": "#506784",
            "ticks": ""
           },
           "radialaxis": {
            "gridcolor": "#506784",
            "linecolor": "#506784",
            "ticks": ""
           }
          },
          "ternary": {
           "bgcolor": "rgb(17,17,17)",
           "aaxis": {
            "gridcolor": "#506784",
            "linecolor": "#506784",
            "ticks": ""
           },
           "baxis": {
            "gridcolor": "#506784",
            "linecolor": "#506784",
            "ticks": ""
           },
           "caxis": {
            "gridcolor": "#506784",
            "linecolor": "#506784",
            "ticks": ""
           }
          },
          "coloraxis": {
           "colorbar": {
            "outlinewidth": 0,
            "ticks": ""
           }
          },
          "colorscale": {
           "sequential": [
            [
             0.0,
             "#0d0887"
            ],
            [
             0.1111111111111111,
             "#46039f"
            ],
            [
             0.2222222222222222,
             "#7201a8"
            ],
            [
             0.3333333333333333,
             "#9c179e"
            ],
            [
             0.4444444444444444,
             "#bd3786"
            ],
            [
             0.5555555555555556,
             "#d8576b"
            ],
            [
             0.6666666666666666,
             "#ed7953"
            ],
            [
             0.7777777777777778,
             "#fb9f3a"
            ],
            [
             0.8888888888888888,
             "#fdca26"
            ],
            [
             1.0,
             "#f0f921"
            ]
           ],
           "sequentialminus": [
            [
             0.0,
             "#0d0887"
            ],
            [
             0.1111111111111111,
             "#46039f"
            ],
            [
             0.2222222222222222,
             "#7201a8"
            ],
            [
             0.3333333333333333,
             "#9c179e"
            ],
            [
             0.4444444444444444,
             "#bd3786"
            ],
            [
             0.5555555555555556,
             "#d8576b"
            ],
            [
             0.6666666666666666,
             "#ed7953"
            ],
            [
             0.7777777777777778,
             "#fb9f3a"
            ],
            [
             0.8888888888888888,
             "#fdca26"
            ],
            [
             1.0,
             "#f0f921"
            ]
           ],
           "diverging": [
            [
             0,
             "#8e0152"
            ],
            [
             0.1,
             "#c51b7d"
            ],
            [
             0.2,
             "#de77ae"
            ],
            [
             0.3,
             "#f1b6da"
            ],
            [
             0.4,
             "#fde0ef"
            ],
            [
             0.5,
             "#f7f7f7"
            ],
            [
             0.6,
             "#e6f5d0"
            ],
            [
             0.7,
             "#b8e186"
            ],
            [
             0.8,
             "#7fbc41"
            ],
            [
             0.9,
             "#4d9221"
            ],
            [
             1,
             "#276419"
            ]
           ]
          },
          "xaxis": {
           "gridcolor": "#283442",
           "linecolor": "#506784",
           "ticks": "",
           "title": {
            "standoff": 15
           },
           "zerolinecolor": "#283442",
           "automargin": true,
           "zerolinewidth": 2
          },
          "yaxis": {
           "gridcolor": "#283442",
           "linecolor": "#506784",
           "ticks": "",
           "title": {
            "standoff": 15
           },
           "zerolinecolor": "#283442",
           "automargin": true,
           "zerolinewidth": 2
          },
          "scene": {
           "xaxis": {
            "backgroundcolor": "rgb(17,17,17)",
            "gridcolor": "#506784",
            "linecolor": "#506784",
            "showbackground": true,
            "ticks": "",
            "zerolinecolor": "#C8D4E3",
            "gridwidth": 2
           },
           "yaxis": {
            "backgroundcolor": "rgb(17,17,17)",
            "gridcolor": "#506784",
            "linecolor": "#506784",
            "showbackground": true,
            "ticks": "",
            "zerolinecolor": "#C8D4E3",
            "gridwidth": 2
           },
           "zaxis": {
            "backgroundcolor": "rgb(17,17,17)",
            "gridcolor": "#506784",
            "linecolor": "#506784",
            "showbackground": true,
            "ticks": "",
            "zerolinecolor": "#C8D4E3",
            "gridwidth": 2
           }
          },
          "shapedefaults": {
           "line": {
            "color": "#f2f5fa"
           }
          },
          "annotationdefaults": {
           "arrowcolor": "#f2f5fa",
           "arrowhead": 0,
           "arrowwidth": 1
          },
          "geo": {
           "bgcolor": "rgb(17,17,17)",
           "landcolor": "rgb(17,17,17)",
           "subunitcolor": "#506784",
           "showland": true,
           "showlakes": true,
           "lakecolor": "rgb(17,17,17)"
          },
          "title": {
           "x": 0.05
          },
          "updatemenudefaults": {
           "bgcolor": "#506784",
           "borderwidth": 0
          },
          "sliderdefaults": {
           "bgcolor": "#C8D4E3",
           "borderwidth": 1,
           "bordercolor": "rgb(17,17,17)",
           "tickwidth": 0
          },
          "mapbox": {
           "style": "dark"
          }
         }
        },
        "xaxis": {
         "anchor": "y",
         "domain": [
          0.0,
          1.0
         ],
         "title": {
          "text": "Day of Week"
         },
         "tickmode": "array",
         "tickvals": [
          0,
          1,
          2,
          3,
          4,
          5,
          6
         ],
         "ticktext": [
          "Monday",
          "Tuesday",
          "Wednesday",
          "Thursday",
          "Friday",
          "Saturday",
          "Sunday"
         ]
        },
        "yaxis": {
         "anchor": "x",
         "domain": [
          0.0,
          1.0
         ],
         "title": {
          "text": "Number of Tickets"
         }
        },
        "coloraxis": {
         "colorbar": {
          "title": {
           "text": "Day of Week"
          }
         },
         "colorscale": [
          [
           0.0,
           "#0d0887"
          ],
          [
           0.1111111111111111,
           "#46039f"
          ],
          [
           0.2222222222222222,
           "#7201a8"
          ],
          [
           0.3333333333333333,
           "#9c179e"
          ],
          [
           0.4444444444444444,
           "#bd3786"
          ],
          [
           0.5555555555555556,
           "#d8576b"
          ],
          [
           0.6666666666666666,
           "#ed7953"
          ],
          [
           0.7777777777777778,
           "#fb9f3a"
          ],
          [
           0.8888888888888888,
           "#fdca26"
          ],
          [
           1.0,
           "#f0f921"
          ]
         ]
        },
        "legend": {
         "tracegroupgap": 0
        },
        "title": {
         "text": "Number of Tickets Issued by Day of Week"
        },
        "barmode": "relative"
       },
       "config": {
        "plotlyServerURL": "https://plot.ly"
       }
      },
      "text/html": "<div>                            <div id=\"4947f029-3f32-46d0-b30a-6b995b666e90\" class=\"plotly-graph-div\" style=\"height:525px; width:100%;\"></div>            <script type=\"text/javascript\">                require([\"plotly\"], function(Plotly) {                    window.PLOTLYENV=window.PLOTLYENV || {};                                    if (document.getElementById(\"4947f029-3f32-46d0-b30a-6b995b666e90\")) {                    Plotly.newPlot(                        \"4947f029-3f32-46d0-b30a-6b995b666e90\",                        [{\"alignmentgroup\":\"True\",\"hovertemplate\":\"Day of Week=%{marker.color}<br>Number of Tickets=%{y}<extra></extra>\",\"legendgroup\":\"\",\"marker\":{\"color\":[3,2,1,4,0,5,6],\"coloraxis\":\"coloraxis\",\"pattern\":{\"shape\":\"\"}},\"name\":\"\",\"offsetgroup\":\"\",\"orientation\":\"v\",\"showlegend\":false,\"textposition\":\"auto\",\"x\":[3,2,1,4,0,5,6],\"xaxis\":\"x\",\"y\":[167057,164516,163375,158115,141352,61072,54430],\"yaxis\":\"y\",\"type\":\"bar\"}],                        {\"template\":{\"data\":{\"histogram2dcontour\":[{\"type\":\"histogram2dcontour\",\"colorbar\":{\"outlinewidth\":0,\"ticks\":\"\"},\"colorscale\":[[0.0,\"#0d0887\"],[0.1111111111111111,\"#46039f\"],[0.2222222222222222,\"#7201a8\"],[0.3333333333333333,\"#9c179e\"],[0.4444444444444444,\"#bd3786\"],[0.5555555555555556,\"#d8576b\"],[0.6666666666666666,\"#ed7953\"],[0.7777777777777778,\"#fb9f3a\"],[0.8888888888888888,\"#fdca26\"],[1.0,\"#f0f921\"]]}],\"choropleth\":[{\"type\":\"choropleth\",\"colorbar\":{\"outlinewidth\":0,\"ticks\":\"\"}}],\"histogram2d\":[{\"type\":\"histogram2d\",\"colorbar\":{\"outlinewidth\":0,\"ticks\":\"\"},\"colorscale\":[[0.0,\"#0d0887\"],[0.1111111111111111,\"#46039f\"],[0.2222222222222222,\"#7201a8\"],[0.3333333333333333,\"#9c179e\"],[0.4444444444444444,\"#bd3786\"],[0.5555555555555556,\"#d8576b\"],[0.6666666666666666,\"#ed7953\"],[0.7777777777777778,\"#fb9f3a\"],[0.8888888888888888,\"#fdca26\"],[1.0,\"#f0f921\"]]}],\"heatmap\":[{\"type\":\"heatmap\",\"colorbar\":{\"outlinewidth\":0,\"ticks\":\"\"},\"colorscale\":[[0.0,\"#0d0887\"],[0.1111111111111111,\"#46039f\"],[0.2222222222222222,\"#7201a8\"],[0.3333333333333333,\"#9c179e\"],[0.4444444444444444,\"#bd3786\"],[0.5555555555555556,\"#d8576b\"],[0.6666666666666666,\"#ed7953\"],[0.7777777777777778,\"#fb9f3a\"],[0.8888888888888888,\"#fdca26\"],[1.0,\"#f0f921\"]]}],\"heatmapgl\":[{\"type\":\"heatmapgl\",\"colorbar\":{\"outlinewidth\":0,\"ticks\":\"\"},\"colorscale\":[[0.0,\"#0d0887\"],[0.1111111111111111,\"#46039f\"],[0.2222222222222222,\"#7201a8\"],[0.3333333333333333,\"#9c179e\"],[0.4444444444444444,\"#bd3786\"],[0.5555555555555556,\"#d8576b\"],[0.6666666666666666,\"#ed7953\"],[0.7777777777777778,\"#fb9f3a\"],[0.8888888888888888,\"#fdca26\"],[1.0,\"#f0f921\"]]}],\"contourcarpet\":[{\"type\":\"contourcarpet\",\"colorbar\":{\"outlinewidth\":0,\"ticks\":\"\"}}],\"contour\":[{\"type\":\"contour\",\"colorbar\":{\"outlinewidth\":0,\"ticks\":\"\"},\"colorscale\":[[0.0,\"#0d0887\"],[0.1111111111111111,\"#46039f\"],[0.2222222222222222,\"#7201a8\"],[0.3333333333333333,\"#9c179e\"],[0.4444444444444444,\"#bd3786\"],[0.5555555555555556,\"#d8576b\"],[0.6666666666666666,\"#ed7953\"],[0.7777777777777778,\"#fb9f3a\"],[0.8888888888888888,\"#fdca26\"],[1.0,\"#f0f921\"]]}],\"surface\":[{\"type\":\"surface\",\"colorbar\":{\"outlinewidth\":0,\"ticks\":\"\"},\"colorscale\":[[0.0,\"#0d0887\"],[0.1111111111111111,\"#46039f\"],[0.2222222222222222,\"#7201a8\"],[0.3333333333333333,\"#9c179e\"],[0.4444444444444444,\"#bd3786\"],[0.5555555555555556,\"#d8576b\"],[0.6666666666666666,\"#ed7953\"],[0.7777777777777778,\"#fb9f3a\"],[0.8888888888888888,\"#fdca26\"],[1.0,\"#f0f921\"]]}],\"mesh3d\":[{\"type\":\"mesh3d\",\"colorbar\":{\"outlinewidth\":0,\"ticks\":\"\"}}],\"scatter\":[{\"marker\":{\"line\":{\"color\":\"#283442\"}},\"type\":\"scatter\"}],\"parcoords\":[{\"type\":\"parcoords\",\"line\":{\"colorbar\":{\"outlinewidth\":0,\"ticks\":\"\"}}}],\"scatterpolargl\":[{\"type\":\"scatterpolargl\",\"marker\":{\"colorbar\":{\"outlinewidth\":0,\"ticks\":\"\"}}}],\"bar\":[{\"error_x\":{\"color\":\"#f2f5fa\"},\"error_y\":{\"color\":\"#f2f5fa\"},\"marker\":{\"line\":{\"color\":\"rgb(17,17,17)\",\"width\":0.5},\"pattern\":{\"fillmode\":\"overlay\",\"size\":10,\"solidity\":0.2}},\"type\":\"bar\"}],\"scattergeo\":[{\"type\":\"scattergeo\",\"marker\":{\"colorbar\":{\"outlinewidth\":0,\"ticks\":\"\"}}}],\"scatterpolar\":[{\"type\":\"scatterpolar\",\"marker\":{\"colorbar\":{\"outlinewidth\":0,\"ticks\":\"\"}}}],\"histogram\":[{\"marker\":{\"pattern\":{\"fillmode\":\"overlay\",\"size\":10,\"solidity\":0.2}},\"type\":\"histogram\"}],\"scattergl\":[{\"marker\":{\"line\":{\"color\":\"#283442\"}},\"type\":\"scattergl\"}],\"scatter3d\":[{\"type\":\"scatter3d\",\"line\":{\"colorbar\":{\"outlinewidth\":0,\"ticks\":\"\"}},\"marker\":{\"colorbar\":{\"outlinewidth\":0,\"ticks\":\"\"}}}],\"scattermapbox\":[{\"type\":\"scattermapbox\",\"marker\":{\"colorbar\":{\"outlinewidth\":0,\"ticks\":\"\"}}}],\"scatterternary\":[{\"type\":\"scatterternary\",\"marker\":{\"colorbar\":{\"outlinewidth\":0,\"ticks\":\"\"}}}],\"scattercarpet\":[{\"type\":\"scattercarpet\",\"marker\":{\"colorbar\":{\"outlinewidth\":0,\"ticks\":\"\"}}}],\"carpet\":[{\"aaxis\":{\"endlinecolor\":\"#A2B1C6\",\"gridcolor\":\"#506784\",\"linecolor\":\"#506784\",\"minorgridcolor\":\"#506784\",\"startlinecolor\":\"#A2B1C6\"},\"baxis\":{\"endlinecolor\":\"#A2B1C6\",\"gridcolor\":\"#506784\",\"linecolor\":\"#506784\",\"minorgridcolor\":\"#506784\",\"startlinecolor\":\"#A2B1C6\"},\"type\":\"carpet\"}],\"table\":[{\"cells\":{\"fill\":{\"color\":\"#506784\"},\"line\":{\"color\":\"rgb(17,17,17)\"}},\"header\":{\"fill\":{\"color\":\"#2a3f5f\"},\"line\":{\"color\":\"rgb(17,17,17)\"}},\"type\":\"table\"}],\"barpolar\":[{\"marker\":{\"line\":{\"color\":\"rgb(17,17,17)\",\"width\":0.5},\"pattern\":{\"fillmode\":\"overlay\",\"size\":10,\"solidity\":0.2}},\"type\":\"barpolar\"}],\"pie\":[{\"automargin\":true,\"type\":\"pie\"}]},\"layout\":{\"autotypenumbers\":\"strict\",\"colorway\":[\"#636efa\",\"#EF553B\",\"#00cc96\",\"#ab63fa\",\"#FFA15A\",\"#19d3f3\",\"#FF6692\",\"#B6E880\",\"#FF97FF\",\"#FECB52\"],\"font\":{\"color\":\"#f2f5fa\"},\"hovermode\":\"closest\",\"hoverlabel\":{\"align\":\"left\"},\"paper_bgcolor\":\"rgb(17,17,17)\",\"plot_bgcolor\":\"rgb(17,17,17)\",\"polar\":{\"bgcolor\":\"rgb(17,17,17)\",\"angularaxis\":{\"gridcolor\":\"#506784\",\"linecolor\":\"#506784\",\"ticks\":\"\"},\"radialaxis\":{\"gridcolor\":\"#506784\",\"linecolor\":\"#506784\",\"ticks\":\"\"}},\"ternary\":{\"bgcolor\":\"rgb(17,17,17)\",\"aaxis\":{\"gridcolor\":\"#506784\",\"linecolor\":\"#506784\",\"ticks\":\"\"},\"baxis\":{\"gridcolor\":\"#506784\",\"linecolor\":\"#506784\",\"ticks\":\"\"},\"caxis\":{\"gridcolor\":\"#506784\",\"linecolor\":\"#506784\",\"ticks\":\"\"}},\"coloraxis\":{\"colorbar\":{\"outlinewidth\":0,\"ticks\":\"\"}},\"colorscale\":{\"sequential\":[[0.0,\"#0d0887\"],[0.1111111111111111,\"#46039f\"],[0.2222222222222222,\"#7201a8\"],[0.3333333333333333,\"#9c179e\"],[0.4444444444444444,\"#bd3786\"],[0.5555555555555556,\"#d8576b\"],[0.6666666666666666,\"#ed7953\"],[0.7777777777777778,\"#fb9f3a\"],[0.8888888888888888,\"#fdca26\"],[1.0,\"#f0f921\"]],\"sequentialminus\":[[0.0,\"#0d0887\"],[0.1111111111111111,\"#46039f\"],[0.2222222222222222,\"#7201a8\"],[0.3333333333333333,\"#9c179e\"],[0.4444444444444444,\"#bd3786\"],[0.5555555555555556,\"#d8576b\"],[0.6666666666666666,\"#ed7953\"],[0.7777777777777778,\"#fb9f3a\"],[0.8888888888888888,\"#fdca26\"],[1.0,\"#f0f921\"]],\"diverging\":[[0,\"#8e0152\"],[0.1,\"#c51b7d\"],[0.2,\"#de77ae\"],[0.3,\"#f1b6da\"],[0.4,\"#fde0ef\"],[0.5,\"#f7f7f7\"],[0.6,\"#e6f5d0\"],[0.7,\"#b8e186\"],[0.8,\"#7fbc41\"],[0.9,\"#4d9221\"],[1,\"#276419\"]]},\"xaxis\":{\"gridcolor\":\"#283442\",\"linecolor\":\"#506784\",\"ticks\":\"\",\"title\":{\"standoff\":15},\"zerolinecolor\":\"#283442\",\"automargin\":true,\"zerolinewidth\":2},\"yaxis\":{\"gridcolor\":\"#283442\",\"linecolor\":\"#506784\",\"ticks\":\"\",\"title\":{\"standoff\":15},\"zerolinecolor\":\"#283442\",\"automargin\":true,\"zerolinewidth\":2},\"scene\":{\"xaxis\":{\"backgroundcolor\":\"rgb(17,17,17)\",\"gridcolor\":\"#506784\",\"linecolor\":\"#506784\",\"showbackground\":true,\"ticks\":\"\",\"zerolinecolor\":\"#C8D4E3\",\"gridwidth\":2},\"yaxis\":{\"backgroundcolor\":\"rgb(17,17,17)\",\"gridcolor\":\"#506784\",\"linecolor\":\"#506784\",\"showbackground\":true,\"ticks\":\"\",\"zerolinecolor\":\"#C8D4E3\",\"gridwidth\":2},\"zaxis\":{\"backgroundcolor\":\"rgb(17,17,17)\",\"gridcolor\":\"#506784\",\"linecolor\":\"#506784\",\"showbackground\":true,\"ticks\":\"\",\"zerolinecolor\":\"#C8D4E3\",\"gridwidth\":2}},\"shapedefaults\":{\"line\":{\"color\":\"#f2f5fa\"}},\"annotationdefaults\":{\"arrowcolor\":\"#f2f5fa\",\"arrowhead\":0,\"arrowwidth\":1},\"geo\":{\"bgcolor\":\"rgb(17,17,17)\",\"landcolor\":\"rgb(17,17,17)\",\"subunitcolor\":\"#506784\",\"showland\":true,\"showlakes\":true,\"lakecolor\":\"rgb(17,17,17)\"},\"title\":{\"x\":0.05},\"updatemenudefaults\":{\"bgcolor\":\"#506784\",\"borderwidth\":0},\"sliderdefaults\":{\"bgcolor\":\"#C8D4E3\",\"borderwidth\":1,\"bordercolor\":\"rgb(17,17,17)\",\"tickwidth\":0},\"mapbox\":{\"style\":\"dark\"}}},\"xaxis\":{\"anchor\":\"y\",\"domain\":[0.0,1.0],\"title\":{\"text\":\"Day of Week\"},\"tickmode\":\"array\",\"tickvals\":[0,1,2,3,4,5,6],\"ticktext\":[\"Monday\",\"Tuesday\",\"Wednesday\",\"Thursday\",\"Friday\",\"Saturday\",\"Sunday\"]},\"yaxis\":{\"anchor\":\"x\",\"domain\":[0.0,1.0],\"title\":{\"text\":\"Number of Tickets\"}},\"coloraxis\":{\"colorbar\":{\"title\":{\"text\":\"Day of Week\"}},\"colorscale\":[[0.0,\"#0d0887\"],[0.1111111111111111,\"#46039f\"],[0.2222222222222222,\"#7201a8\"],[0.3333333333333333,\"#9c179e\"],[0.4444444444444444,\"#bd3786\"],[0.5555555555555556,\"#d8576b\"],[0.6666666666666666,\"#ed7953\"],[0.7777777777777778,\"#fb9f3a\"],[0.8888888888888888,\"#fdca26\"],[1.0,\"#f0f921\"]]},\"legend\":{\"tracegroupgap\":0},\"title\":{\"text\":\"Number of Tickets Issued by Day of Week\"},\"barmode\":\"relative\"},                        {\"responsive\": true}                    ).then(function(){\n                            \nvar gd = document.getElementById('4947f029-3f32-46d0-b30a-6b995b666e90');\nvar x = new MutationObserver(function (mutations, observer) {{\n        var display = window.getComputedStyle(gd).display;\n        if (!display || display === 'none') {{\n            console.log([gd, 'removed!']);\n            Plotly.purge(gd);\n            observer.disconnect();\n        }}\n}});\n\n// Listen for the removal of the full notebook cells\nvar notebookContainer = gd.closest('#notebook-container');\nif (notebookContainer) {{\n    x.observe(notebookContainer, {childList: true});\n}}\n\n// Listen for the clearing of the current output cell\nvar outputEl = gd.closest('.output');\nif (outputEl) {{\n    x.observe(outputEl, {childList: true});\n}}\n\n                        })                };                });            </script>        </div>"
     },
     "metadata": {},
     "output_type": "display_data"
    }
   ],
   "source": [
    "fig = px.bar(tickets_by_day, x='Day of Week',y='count', color='Day of Week',\n",
    "             title='Number of Tickets Issued by Day of Week',\n",
    "             labels={'count': 'Number of Tickets'})\n",
    "fig.update_layout(\n",
    "    xaxis=dict(\n",
    "        tickmode='array',\n",
    "        tickvals=[0, 1, 2, 3, 4, 5, 6],\n",
    "        ticktext=['Monday', 'Tuesday', 'Wednesday', 'Thursday', 'Friday', 'Saturday', 'Sunday']\n",
    "    )\n",
    ")\n",
    "fig"
   ],
   "metadata": {
    "collapsed": false,
    "pycharm": {
     "name": "#%%\n"
    }
   }
  },
  {
   "cell_type": "code",
   "execution_count": 54,
   "outputs": [
    {
     "data": {
      "text/plain": "        Date     Time             Street             Location  Full Fine  \\\n0 2021-11-15  0:00:00         Mayfair PL  (49.8822, -97.1381)       70.0   \n1 2021-11-15  0:00:00       Wentworth ST  (49.8714, -97.1612)       70.0   \n2 2021-11-15  0:00:00  LOT128-960 THOMAS  (49.8987, -97.0846)       70.0   \n3 2021-11-15  0:00:00           Lloyd ST   (49.873, -97.1171)      100.0   \n4 2021-11-15  0:00:00        Haggart AVE  (49.9497, -97.2169)       70.0   \n\n   Discounted Fine Violation Code        Violation Description  Day of Week  \\\n0             52.5            P17  Too close to a traffic sign            0   \n1             52.5            P17  Too close to a traffic sign            0   \n2             52.5            P16                      No Park            0   \n3             75.0            P13                 Fire Hydrant            0   \n4             52.5            P04            Oversized Vehicle            0   \n\n   Year  Month  \n0  2021     11  \n1  2021     11  \n2  2021     11  \n3  2021     11  \n4  2021     11  ",
      "text/html": "<div>\n<style scoped>\n    .dataframe tbody tr th:only-of-type {\n        vertical-align: middle;\n    }\n\n    .dataframe tbody tr th {\n        vertical-align: top;\n    }\n\n    .dataframe thead th {\n        text-align: right;\n    }\n</style>\n<table border=\"1\" class=\"dataframe\">\n  <thead>\n    <tr style=\"text-align: right;\">\n      <th></th>\n      <th>Date</th>\n      <th>Time</th>\n      <th>Street</th>\n      <th>Location</th>\n      <th>Full Fine</th>\n      <th>Discounted Fine</th>\n      <th>Violation Code</th>\n      <th>Violation Description</th>\n      <th>Day of Week</th>\n      <th>Year</th>\n      <th>Month</th>\n    </tr>\n  </thead>\n  <tbody>\n    <tr>\n      <th>0</th>\n      <td>2021-11-15</td>\n      <td>0:00:00</td>\n      <td>Mayfair PL</td>\n      <td>(49.8822, -97.1381)</td>\n      <td>70.0</td>\n      <td>52.5</td>\n      <td>P17</td>\n      <td>Too close to a traffic sign</td>\n      <td>0</td>\n      <td>2021</td>\n      <td>11</td>\n    </tr>\n    <tr>\n      <th>1</th>\n      <td>2021-11-15</td>\n      <td>0:00:00</td>\n      <td>Wentworth ST</td>\n      <td>(49.8714, -97.1612)</td>\n      <td>70.0</td>\n      <td>52.5</td>\n      <td>P17</td>\n      <td>Too close to a traffic sign</td>\n      <td>0</td>\n      <td>2021</td>\n      <td>11</td>\n    </tr>\n    <tr>\n      <th>2</th>\n      <td>2021-11-15</td>\n      <td>0:00:00</td>\n      <td>LOT128-960 THOMAS</td>\n      <td>(49.8987, -97.0846)</td>\n      <td>70.0</td>\n      <td>52.5</td>\n      <td>P16</td>\n      <td>No Park</td>\n      <td>0</td>\n      <td>2021</td>\n      <td>11</td>\n    </tr>\n    <tr>\n      <th>3</th>\n      <td>2021-11-15</td>\n      <td>0:00:00</td>\n      <td>Lloyd ST</td>\n      <td>(49.873, -97.1171)</td>\n      <td>100.0</td>\n      <td>75.0</td>\n      <td>P13</td>\n      <td>Fire Hydrant</td>\n      <td>0</td>\n      <td>2021</td>\n      <td>11</td>\n    </tr>\n    <tr>\n      <th>4</th>\n      <td>2021-11-15</td>\n      <td>0:00:00</td>\n      <td>Haggart AVE</td>\n      <td>(49.9497, -97.2169)</td>\n      <td>70.0</td>\n      <td>52.5</td>\n      <td>P04</td>\n      <td>Oversized Vehicle</td>\n      <td>0</td>\n      <td>2021</td>\n      <td>11</td>\n    </tr>\n  </tbody>\n</table>\n</div>"
     },
     "execution_count": 54,
     "metadata": {},
     "output_type": "execute_result"
    }
   ],
   "source": [
    "park_data['Year'], park_data['Month'] = park_data['Date'].dt.year, park_data['Date'].dt.month\n",
    "park_data.head()"
   ],
   "metadata": {
    "collapsed": false,
    "pycharm": {
     "name": "#%%\n"
    }
   }
  },
  {
   "cell_type": "code",
   "execution_count": 55,
   "outputs": [
    {
     "name": "stdout",
     "output_type": "stream",
     "text": [
      "    Month  count\n",
      "0       1  82851\n",
      "1       2  89655\n",
      "2       3  64615\n",
      "3       4  62436\n",
      "4       5  65544\n",
      "5       6  67868\n",
      "6       7  72744\n",
      "7       8  77259\n",
      "8       9  81512\n",
      "9      10  80907\n",
      "10     11  68850\n",
      "11     12  95676\n"
     ]
    }
   ],
   "source": [
    "tickets_by_month = park_data[['Month']].groupby(['Month'])['Month'] \\\n",
    "                             .count() \\\n",
    "                             .reset_index(name='count') \\\n",
    "                             .head(50)\n",
    "print(tickets_by_month)"
   ],
   "metadata": {
    "collapsed": false,
    "pycharm": {
     "name": "#%%\n"
    }
   }
  },
  {
   "cell_type": "code",
   "execution_count": 67,
   "outputs": [
    {
     "data": {
      "application/vnd.plotly.v1+json": {
       "data": [
        {
         "alignmentgroup": "True",
         "hovertemplate": "Month=%{marker.color}<br>Number of Violations=%{y}<extra></extra>",
         "legendgroup": "",
         "marker": {
          "color": [
           1,
           2,
           3,
           4,
           5,
           6,
           7,
           8,
           9,
           10,
           11,
           12
          ],
          "coloraxis": "coloraxis",
          "pattern": {
           "shape": ""
          }
         },
         "name": "",
         "offsetgroup": "",
         "orientation": "v",
         "showlegend": false,
         "textposition": "auto",
         "x": [
          1,
          2,
          3,
          4,
          5,
          6,
          7,
          8,
          9,
          10,
          11,
          12
         ],
         "xaxis": "x",
         "y": [
          82851,
          89655,
          64615,
          62436,
          65544,
          67868,
          72744,
          77259,
          81512,
          80907,
          68850,
          95676
         ],
         "yaxis": "y",
         "type": "bar"
        }
       ],
       "layout": {
        "template": {
         "data": {
          "histogram2dcontour": [
           {
            "type": "histogram2dcontour",
            "colorbar": {
             "outlinewidth": 0,
             "ticks": ""
            },
            "colorscale": [
             [
              0.0,
              "#0d0887"
             ],
             [
              0.1111111111111111,
              "#46039f"
             ],
             [
              0.2222222222222222,
              "#7201a8"
             ],
             [
              0.3333333333333333,
              "#9c179e"
             ],
             [
              0.4444444444444444,
              "#bd3786"
             ],
             [
              0.5555555555555556,
              "#d8576b"
             ],
             [
              0.6666666666666666,
              "#ed7953"
             ],
             [
              0.7777777777777778,
              "#fb9f3a"
             ],
             [
              0.8888888888888888,
              "#fdca26"
             ],
             [
              1.0,
              "#f0f921"
             ]
            ]
           }
          ],
          "choropleth": [
           {
            "type": "choropleth",
            "colorbar": {
             "outlinewidth": 0,
             "ticks": ""
            }
           }
          ],
          "histogram2d": [
           {
            "type": "histogram2d",
            "colorbar": {
             "outlinewidth": 0,
             "ticks": ""
            },
            "colorscale": [
             [
              0.0,
              "#0d0887"
             ],
             [
              0.1111111111111111,
              "#46039f"
             ],
             [
              0.2222222222222222,
              "#7201a8"
             ],
             [
              0.3333333333333333,
              "#9c179e"
             ],
             [
              0.4444444444444444,
              "#bd3786"
             ],
             [
              0.5555555555555556,
              "#d8576b"
             ],
             [
              0.6666666666666666,
              "#ed7953"
             ],
             [
              0.7777777777777778,
              "#fb9f3a"
             ],
             [
              0.8888888888888888,
              "#fdca26"
             ],
             [
              1.0,
              "#f0f921"
             ]
            ]
           }
          ],
          "heatmap": [
           {
            "type": "heatmap",
            "colorbar": {
             "outlinewidth": 0,
             "ticks": ""
            },
            "colorscale": [
             [
              0.0,
              "#0d0887"
             ],
             [
              0.1111111111111111,
              "#46039f"
             ],
             [
              0.2222222222222222,
              "#7201a8"
             ],
             [
              0.3333333333333333,
              "#9c179e"
             ],
             [
              0.4444444444444444,
              "#bd3786"
             ],
             [
              0.5555555555555556,
              "#d8576b"
             ],
             [
              0.6666666666666666,
              "#ed7953"
             ],
             [
              0.7777777777777778,
              "#fb9f3a"
             ],
             [
              0.8888888888888888,
              "#fdca26"
             ],
             [
              1.0,
              "#f0f921"
             ]
            ]
           }
          ],
          "heatmapgl": [
           {
            "type": "heatmapgl",
            "colorbar": {
             "outlinewidth": 0,
             "ticks": ""
            },
            "colorscale": [
             [
              0.0,
              "#0d0887"
             ],
             [
              0.1111111111111111,
              "#46039f"
             ],
             [
              0.2222222222222222,
              "#7201a8"
             ],
             [
              0.3333333333333333,
              "#9c179e"
             ],
             [
              0.4444444444444444,
              "#bd3786"
             ],
             [
              0.5555555555555556,
              "#d8576b"
             ],
             [
              0.6666666666666666,
              "#ed7953"
             ],
             [
              0.7777777777777778,
              "#fb9f3a"
             ],
             [
              0.8888888888888888,
              "#fdca26"
             ],
             [
              1.0,
              "#f0f921"
             ]
            ]
           }
          ],
          "contourcarpet": [
           {
            "type": "contourcarpet",
            "colorbar": {
             "outlinewidth": 0,
             "ticks": ""
            }
           }
          ],
          "contour": [
           {
            "type": "contour",
            "colorbar": {
             "outlinewidth": 0,
             "ticks": ""
            },
            "colorscale": [
             [
              0.0,
              "#0d0887"
             ],
             [
              0.1111111111111111,
              "#46039f"
             ],
             [
              0.2222222222222222,
              "#7201a8"
             ],
             [
              0.3333333333333333,
              "#9c179e"
             ],
             [
              0.4444444444444444,
              "#bd3786"
             ],
             [
              0.5555555555555556,
              "#d8576b"
             ],
             [
              0.6666666666666666,
              "#ed7953"
             ],
             [
              0.7777777777777778,
              "#fb9f3a"
             ],
             [
              0.8888888888888888,
              "#fdca26"
             ],
             [
              1.0,
              "#f0f921"
             ]
            ]
           }
          ],
          "surface": [
           {
            "type": "surface",
            "colorbar": {
             "outlinewidth": 0,
             "ticks": ""
            },
            "colorscale": [
             [
              0.0,
              "#0d0887"
             ],
             [
              0.1111111111111111,
              "#46039f"
             ],
             [
              0.2222222222222222,
              "#7201a8"
             ],
             [
              0.3333333333333333,
              "#9c179e"
             ],
             [
              0.4444444444444444,
              "#bd3786"
             ],
             [
              0.5555555555555556,
              "#d8576b"
             ],
             [
              0.6666666666666666,
              "#ed7953"
             ],
             [
              0.7777777777777778,
              "#fb9f3a"
             ],
             [
              0.8888888888888888,
              "#fdca26"
             ],
             [
              1.0,
              "#f0f921"
             ]
            ]
           }
          ],
          "mesh3d": [
           {
            "type": "mesh3d",
            "colorbar": {
             "outlinewidth": 0,
             "ticks": ""
            }
           }
          ],
          "scatter": [
           {
            "marker": {
             "line": {
              "color": "#283442"
             }
            },
            "type": "scatter"
           }
          ],
          "parcoords": [
           {
            "type": "parcoords",
            "line": {
             "colorbar": {
              "outlinewidth": 0,
              "ticks": ""
             }
            }
           }
          ],
          "scatterpolargl": [
           {
            "type": "scatterpolargl",
            "marker": {
             "colorbar": {
              "outlinewidth": 0,
              "ticks": ""
             }
            }
           }
          ],
          "bar": [
           {
            "error_x": {
             "color": "#f2f5fa"
            },
            "error_y": {
             "color": "#f2f5fa"
            },
            "marker": {
             "line": {
              "color": "rgb(17,17,17)",
              "width": 0.5
             },
             "pattern": {
              "fillmode": "overlay",
              "size": 10,
              "solidity": 0.2
             }
            },
            "type": "bar"
           }
          ],
          "scattergeo": [
           {
            "type": "scattergeo",
            "marker": {
             "colorbar": {
              "outlinewidth": 0,
              "ticks": ""
             }
            }
           }
          ],
          "scatterpolar": [
           {
            "type": "scatterpolar",
            "marker": {
             "colorbar": {
              "outlinewidth": 0,
              "ticks": ""
             }
            }
           }
          ],
          "histogram": [
           {
            "marker": {
             "pattern": {
              "fillmode": "overlay",
              "size": 10,
              "solidity": 0.2
             }
            },
            "type": "histogram"
           }
          ],
          "scattergl": [
           {
            "marker": {
             "line": {
              "color": "#283442"
             }
            },
            "type": "scattergl"
           }
          ],
          "scatter3d": [
           {
            "type": "scatter3d",
            "line": {
             "colorbar": {
              "outlinewidth": 0,
              "ticks": ""
             }
            },
            "marker": {
             "colorbar": {
              "outlinewidth": 0,
              "ticks": ""
             }
            }
           }
          ],
          "scattermapbox": [
           {
            "type": "scattermapbox",
            "marker": {
             "colorbar": {
              "outlinewidth": 0,
              "ticks": ""
             }
            }
           }
          ],
          "scatterternary": [
           {
            "type": "scatterternary",
            "marker": {
             "colorbar": {
              "outlinewidth": 0,
              "ticks": ""
             }
            }
           }
          ],
          "scattercarpet": [
           {
            "type": "scattercarpet",
            "marker": {
             "colorbar": {
              "outlinewidth": 0,
              "ticks": ""
             }
            }
           }
          ],
          "carpet": [
           {
            "aaxis": {
             "endlinecolor": "#A2B1C6",
             "gridcolor": "#506784",
             "linecolor": "#506784",
             "minorgridcolor": "#506784",
             "startlinecolor": "#A2B1C6"
            },
            "baxis": {
             "endlinecolor": "#A2B1C6",
             "gridcolor": "#506784",
             "linecolor": "#506784",
             "minorgridcolor": "#506784",
             "startlinecolor": "#A2B1C6"
            },
            "type": "carpet"
           }
          ],
          "table": [
           {
            "cells": {
             "fill": {
              "color": "#506784"
             },
             "line": {
              "color": "rgb(17,17,17)"
             }
            },
            "header": {
             "fill": {
              "color": "#2a3f5f"
             },
             "line": {
              "color": "rgb(17,17,17)"
             }
            },
            "type": "table"
           }
          ],
          "barpolar": [
           {
            "marker": {
             "line": {
              "color": "rgb(17,17,17)",
              "width": 0.5
             },
             "pattern": {
              "fillmode": "overlay",
              "size": 10,
              "solidity": 0.2
             }
            },
            "type": "barpolar"
           }
          ],
          "pie": [
           {
            "automargin": true,
            "type": "pie"
           }
          ]
         },
         "layout": {
          "autotypenumbers": "strict",
          "colorway": [
           "#636efa",
           "#EF553B",
           "#00cc96",
           "#ab63fa",
           "#FFA15A",
           "#19d3f3",
           "#FF6692",
           "#B6E880",
           "#FF97FF",
           "#FECB52"
          ],
          "font": {
           "color": "#f2f5fa"
          },
          "hovermode": "closest",
          "hoverlabel": {
           "align": "left"
          },
          "paper_bgcolor": "rgb(17,17,17)",
          "plot_bgcolor": "rgb(17,17,17)",
          "polar": {
           "bgcolor": "rgb(17,17,17)",
           "angularaxis": {
            "gridcolor": "#506784",
            "linecolor": "#506784",
            "ticks": ""
           },
           "radialaxis": {
            "gridcolor": "#506784",
            "linecolor": "#506784",
            "ticks": ""
           }
          },
          "ternary": {
           "bgcolor": "rgb(17,17,17)",
           "aaxis": {
            "gridcolor": "#506784",
            "linecolor": "#506784",
            "ticks": ""
           },
           "baxis": {
            "gridcolor": "#506784",
            "linecolor": "#506784",
            "ticks": ""
           },
           "caxis": {
            "gridcolor": "#506784",
            "linecolor": "#506784",
            "ticks": ""
           }
          },
          "coloraxis": {
           "colorbar": {
            "outlinewidth": 0,
            "ticks": ""
           }
          },
          "colorscale": {
           "sequential": [
            [
             0.0,
             "#0d0887"
            ],
            [
             0.1111111111111111,
             "#46039f"
            ],
            [
             0.2222222222222222,
             "#7201a8"
            ],
            [
             0.3333333333333333,
             "#9c179e"
            ],
            [
             0.4444444444444444,
             "#bd3786"
            ],
            [
             0.5555555555555556,
             "#d8576b"
            ],
            [
             0.6666666666666666,
             "#ed7953"
            ],
            [
             0.7777777777777778,
             "#fb9f3a"
            ],
            [
             0.8888888888888888,
             "#fdca26"
            ],
            [
             1.0,
             "#f0f921"
            ]
           ],
           "sequentialminus": [
            [
             0.0,
             "#0d0887"
            ],
            [
             0.1111111111111111,
             "#46039f"
            ],
            [
             0.2222222222222222,
             "#7201a8"
            ],
            [
             0.3333333333333333,
             "#9c179e"
            ],
            [
             0.4444444444444444,
             "#bd3786"
            ],
            [
             0.5555555555555556,
             "#d8576b"
            ],
            [
             0.6666666666666666,
             "#ed7953"
            ],
            [
             0.7777777777777778,
             "#fb9f3a"
            ],
            [
             0.8888888888888888,
             "#fdca26"
            ],
            [
             1.0,
             "#f0f921"
            ]
           ],
           "diverging": [
            [
             0,
             "#8e0152"
            ],
            [
             0.1,
             "#c51b7d"
            ],
            [
             0.2,
             "#de77ae"
            ],
            [
             0.3,
             "#f1b6da"
            ],
            [
             0.4,
             "#fde0ef"
            ],
            [
             0.5,
             "#f7f7f7"
            ],
            [
             0.6,
             "#e6f5d0"
            ],
            [
             0.7,
             "#b8e186"
            ],
            [
             0.8,
             "#7fbc41"
            ],
            [
             0.9,
             "#4d9221"
            ],
            [
             1,
             "#276419"
            ]
           ]
          },
          "xaxis": {
           "gridcolor": "#283442",
           "linecolor": "#506784",
           "ticks": "",
           "title": {
            "standoff": 15
           },
           "zerolinecolor": "#283442",
           "automargin": true,
           "zerolinewidth": 2
          },
          "yaxis": {
           "gridcolor": "#283442",
           "linecolor": "#506784",
           "ticks": "",
           "title": {
            "standoff": 15
           },
           "zerolinecolor": "#283442",
           "automargin": true,
           "zerolinewidth": 2
          },
          "scene": {
           "xaxis": {
            "backgroundcolor": "rgb(17,17,17)",
            "gridcolor": "#506784",
            "linecolor": "#506784",
            "showbackground": true,
            "ticks": "",
            "zerolinecolor": "#C8D4E3",
            "gridwidth": 2
           },
           "yaxis": {
            "backgroundcolor": "rgb(17,17,17)",
            "gridcolor": "#506784",
            "linecolor": "#506784",
            "showbackground": true,
            "ticks": "",
            "zerolinecolor": "#C8D4E3",
            "gridwidth": 2
           },
           "zaxis": {
            "backgroundcolor": "rgb(17,17,17)",
            "gridcolor": "#506784",
            "linecolor": "#506784",
            "showbackground": true,
            "ticks": "",
            "zerolinecolor": "#C8D4E3",
            "gridwidth": 2
           }
          },
          "shapedefaults": {
           "line": {
            "color": "#f2f5fa"
           }
          },
          "annotationdefaults": {
           "arrowcolor": "#f2f5fa",
           "arrowhead": 0,
           "arrowwidth": 1
          },
          "geo": {
           "bgcolor": "rgb(17,17,17)",
           "landcolor": "rgb(17,17,17)",
           "subunitcolor": "#506784",
           "showland": true,
           "showlakes": true,
           "lakecolor": "rgb(17,17,17)"
          },
          "title": {
           "x": 0.05
          },
          "updatemenudefaults": {
           "bgcolor": "#506784",
           "borderwidth": 0
          },
          "sliderdefaults": {
           "bgcolor": "#C8D4E3",
           "borderwidth": 1,
           "bordercolor": "rgb(17,17,17)",
           "tickwidth": 0
          },
          "mapbox": {
           "style": "dark"
          }
         }
        },
        "xaxis": {
         "anchor": "y",
         "domain": [
          0.0,
          1.0
         ],
         "title": {
          "text": "Month"
         },
         "showticklabels": true,
         "type": "category",
         "tickmode": "array",
         "tickvals": [
          1,
          2,
          3,
          4,
          5,
          6,
          7,
          8,
          9,
          10,
          11,
          12
         ],
         "ticktext": [
          "Jan",
          "Feb",
          "Mar",
          "Apr",
          "May",
          "Jun",
          "Jul",
          "Aug",
          "Sep",
          "Oct",
          "Nov",
          "Dec"
         ]
        },
        "yaxis": {
         "anchor": "x",
         "domain": [
          0.0,
          1.0
         ],
         "title": {
          "text": "Number of Violations"
         }
        },
        "coloraxis": {
         "colorbar": {
          "title": {
           "text": "Month"
          }
         },
         "colorscale": [
          [
           0.0,
           "#0d0887"
          ],
          [
           0.1111111111111111,
           "#46039f"
          ],
          [
           0.2222222222222222,
           "#7201a8"
          ],
          [
           0.3333333333333333,
           "#9c179e"
          ],
          [
           0.4444444444444444,
           "#bd3786"
          ],
          [
           0.5555555555555556,
           "#d8576b"
          ],
          [
           0.6666666666666666,
           "#ed7953"
          ],
          [
           0.7777777777777778,
           "#fb9f3a"
          ],
          [
           0.8888888888888888,
           "#fdca26"
          ],
          [
           1.0,
           "#f0f921"
          ]
         ]
        },
        "legend": {
         "tracegroupgap": 0
        },
        "title": {
         "text": "Number of Tickets by Month"
        },
        "barmode": "relative"
       },
       "config": {
        "plotlyServerURL": "https://plot.ly"
       }
      },
      "text/html": "<div>                            <div id=\"3bb7ef94-6dc8-4a39-aafb-e2f7d9069cde\" class=\"plotly-graph-div\" style=\"height:525px; width:100%;\"></div>            <script type=\"text/javascript\">                require([\"plotly\"], function(Plotly) {                    window.PLOTLYENV=window.PLOTLYENV || {};                                    if (document.getElementById(\"3bb7ef94-6dc8-4a39-aafb-e2f7d9069cde\")) {                    Plotly.newPlot(                        \"3bb7ef94-6dc8-4a39-aafb-e2f7d9069cde\",                        [{\"alignmentgroup\":\"True\",\"hovertemplate\":\"Month=%{marker.color}<br>Number of Violations=%{y}<extra></extra>\",\"legendgroup\":\"\",\"marker\":{\"color\":[1,2,3,4,5,6,7,8,9,10,11,12],\"coloraxis\":\"coloraxis\",\"pattern\":{\"shape\":\"\"}},\"name\":\"\",\"offsetgroup\":\"\",\"orientation\":\"v\",\"showlegend\":false,\"textposition\":\"auto\",\"x\":[1,2,3,4,5,6,7,8,9,10,11,12],\"xaxis\":\"x\",\"y\":[82851,89655,64615,62436,65544,67868,72744,77259,81512,80907,68850,95676],\"yaxis\":\"y\",\"type\":\"bar\"}],                        {\"template\":{\"data\":{\"histogram2dcontour\":[{\"type\":\"histogram2dcontour\",\"colorbar\":{\"outlinewidth\":0,\"ticks\":\"\"},\"colorscale\":[[0.0,\"#0d0887\"],[0.1111111111111111,\"#46039f\"],[0.2222222222222222,\"#7201a8\"],[0.3333333333333333,\"#9c179e\"],[0.4444444444444444,\"#bd3786\"],[0.5555555555555556,\"#d8576b\"],[0.6666666666666666,\"#ed7953\"],[0.7777777777777778,\"#fb9f3a\"],[0.8888888888888888,\"#fdca26\"],[1.0,\"#f0f921\"]]}],\"choropleth\":[{\"type\":\"choropleth\",\"colorbar\":{\"outlinewidth\":0,\"ticks\":\"\"}}],\"histogram2d\":[{\"type\":\"histogram2d\",\"colorbar\":{\"outlinewidth\":0,\"ticks\":\"\"},\"colorscale\":[[0.0,\"#0d0887\"],[0.1111111111111111,\"#46039f\"],[0.2222222222222222,\"#7201a8\"],[0.3333333333333333,\"#9c179e\"],[0.4444444444444444,\"#bd3786\"],[0.5555555555555556,\"#d8576b\"],[0.6666666666666666,\"#ed7953\"],[0.7777777777777778,\"#fb9f3a\"],[0.8888888888888888,\"#fdca26\"],[1.0,\"#f0f921\"]]}],\"heatmap\":[{\"type\":\"heatmap\",\"colorbar\":{\"outlinewidth\":0,\"ticks\":\"\"},\"colorscale\":[[0.0,\"#0d0887\"],[0.1111111111111111,\"#46039f\"],[0.2222222222222222,\"#7201a8\"],[0.3333333333333333,\"#9c179e\"],[0.4444444444444444,\"#bd3786\"],[0.5555555555555556,\"#d8576b\"],[0.6666666666666666,\"#ed7953\"],[0.7777777777777778,\"#fb9f3a\"],[0.8888888888888888,\"#fdca26\"],[1.0,\"#f0f921\"]]}],\"heatmapgl\":[{\"type\":\"heatmapgl\",\"colorbar\":{\"outlinewidth\":0,\"ticks\":\"\"},\"colorscale\":[[0.0,\"#0d0887\"],[0.1111111111111111,\"#46039f\"],[0.2222222222222222,\"#7201a8\"],[0.3333333333333333,\"#9c179e\"],[0.4444444444444444,\"#bd3786\"],[0.5555555555555556,\"#d8576b\"],[0.6666666666666666,\"#ed7953\"],[0.7777777777777778,\"#fb9f3a\"],[0.8888888888888888,\"#fdca26\"],[1.0,\"#f0f921\"]]}],\"contourcarpet\":[{\"type\":\"contourcarpet\",\"colorbar\":{\"outlinewidth\":0,\"ticks\":\"\"}}],\"contour\":[{\"type\":\"contour\",\"colorbar\":{\"outlinewidth\":0,\"ticks\":\"\"},\"colorscale\":[[0.0,\"#0d0887\"],[0.1111111111111111,\"#46039f\"],[0.2222222222222222,\"#7201a8\"],[0.3333333333333333,\"#9c179e\"],[0.4444444444444444,\"#bd3786\"],[0.5555555555555556,\"#d8576b\"],[0.6666666666666666,\"#ed7953\"],[0.7777777777777778,\"#fb9f3a\"],[0.8888888888888888,\"#fdca26\"],[1.0,\"#f0f921\"]]}],\"surface\":[{\"type\":\"surface\",\"colorbar\":{\"outlinewidth\":0,\"ticks\":\"\"},\"colorscale\":[[0.0,\"#0d0887\"],[0.1111111111111111,\"#46039f\"],[0.2222222222222222,\"#7201a8\"],[0.3333333333333333,\"#9c179e\"],[0.4444444444444444,\"#bd3786\"],[0.5555555555555556,\"#d8576b\"],[0.6666666666666666,\"#ed7953\"],[0.7777777777777778,\"#fb9f3a\"],[0.8888888888888888,\"#fdca26\"],[1.0,\"#f0f921\"]]}],\"mesh3d\":[{\"type\":\"mesh3d\",\"colorbar\":{\"outlinewidth\":0,\"ticks\":\"\"}}],\"scatter\":[{\"marker\":{\"line\":{\"color\":\"#283442\"}},\"type\":\"scatter\"}],\"parcoords\":[{\"type\":\"parcoords\",\"line\":{\"colorbar\":{\"outlinewidth\":0,\"ticks\":\"\"}}}],\"scatterpolargl\":[{\"type\":\"scatterpolargl\",\"marker\":{\"colorbar\":{\"outlinewidth\":0,\"ticks\":\"\"}}}],\"bar\":[{\"error_x\":{\"color\":\"#f2f5fa\"},\"error_y\":{\"color\":\"#f2f5fa\"},\"marker\":{\"line\":{\"color\":\"rgb(17,17,17)\",\"width\":0.5},\"pattern\":{\"fillmode\":\"overlay\",\"size\":10,\"solidity\":0.2}},\"type\":\"bar\"}],\"scattergeo\":[{\"type\":\"scattergeo\",\"marker\":{\"colorbar\":{\"outlinewidth\":0,\"ticks\":\"\"}}}],\"scatterpolar\":[{\"type\":\"scatterpolar\",\"marker\":{\"colorbar\":{\"outlinewidth\":0,\"ticks\":\"\"}}}],\"histogram\":[{\"marker\":{\"pattern\":{\"fillmode\":\"overlay\",\"size\":10,\"solidity\":0.2}},\"type\":\"histogram\"}],\"scattergl\":[{\"marker\":{\"line\":{\"color\":\"#283442\"}},\"type\":\"scattergl\"}],\"scatter3d\":[{\"type\":\"scatter3d\",\"line\":{\"colorbar\":{\"outlinewidth\":0,\"ticks\":\"\"}},\"marker\":{\"colorbar\":{\"outlinewidth\":0,\"ticks\":\"\"}}}],\"scattermapbox\":[{\"type\":\"scattermapbox\",\"marker\":{\"colorbar\":{\"outlinewidth\":0,\"ticks\":\"\"}}}],\"scatterternary\":[{\"type\":\"scatterternary\",\"marker\":{\"colorbar\":{\"outlinewidth\":0,\"ticks\":\"\"}}}],\"scattercarpet\":[{\"type\":\"scattercarpet\",\"marker\":{\"colorbar\":{\"outlinewidth\":0,\"ticks\":\"\"}}}],\"carpet\":[{\"aaxis\":{\"endlinecolor\":\"#A2B1C6\",\"gridcolor\":\"#506784\",\"linecolor\":\"#506784\",\"minorgridcolor\":\"#506784\",\"startlinecolor\":\"#A2B1C6\"},\"baxis\":{\"endlinecolor\":\"#A2B1C6\",\"gridcolor\":\"#506784\",\"linecolor\":\"#506784\",\"minorgridcolor\":\"#506784\",\"startlinecolor\":\"#A2B1C6\"},\"type\":\"carpet\"}],\"table\":[{\"cells\":{\"fill\":{\"color\":\"#506784\"},\"line\":{\"color\":\"rgb(17,17,17)\"}},\"header\":{\"fill\":{\"color\":\"#2a3f5f\"},\"line\":{\"color\":\"rgb(17,17,17)\"}},\"type\":\"table\"}],\"barpolar\":[{\"marker\":{\"line\":{\"color\":\"rgb(17,17,17)\",\"width\":0.5},\"pattern\":{\"fillmode\":\"overlay\",\"size\":10,\"solidity\":0.2}},\"type\":\"barpolar\"}],\"pie\":[{\"automargin\":true,\"type\":\"pie\"}]},\"layout\":{\"autotypenumbers\":\"strict\",\"colorway\":[\"#636efa\",\"#EF553B\",\"#00cc96\",\"#ab63fa\",\"#FFA15A\",\"#19d3f3\",\"#FF6692\",\"#B6E880\",\"#FF97FF\",\"#FECB52\"],\"font\":{\"color\":\"#f2f5fa\"},\"hovermode\":\"closest\",\"hoverlabel\":{\"align\":\"left\"},\"paper_bgcolor\":\"rgb(17,17,17)\",\"plot_bgcolor\":\"rgb(17,17,17)\",\"polar\":{\"bgcolor\":\"rgb(17,17,17)\",\"angularaxis\":{\"gridcolor\":\"#506784\",\"linecolor\":\"#506784\",\"ticks\":\"\"},\"radialaxis\":{\"gridcolor\":\"#506784\",\"linecolor\":\"#506784\",\"ticks\":\"\"}},\"ternary\":{\"bgcolor\":\"rgb(17,17,17)\",\"aaxis\":{\"gridcolor\":\"#506784\",\"linecolor\":\"#506784\",\"ticks\":\"\"},\"baxis\":{\"gridcolor\":\"#506784\",\"linecolor\":\"#506784\",\"ticks\":\"\"},\"caxis\":{\"gridcolor\":\"#506784\",\"linecolor\":\"#506784\",\"ticks\":\"\"}},\"coloraxis\":{\"colorbar\":{\"outlinewidth\":0,\"ticks\":\"\"}},\"colorscale\":{\"sequential\":[[0.0,\"#0d0887\"],[0.1111111111111111,\"#46039f\"],[0.2222222222222222,\"#7201a8\"],[0.3333333333333333,\"#9c179e\"],[0.4444444444444444,\"#bd3786\"],[0.5555555555555556,\"#d8576b\"],[0.6666666666666666,\"#ed7953\"],[0.7777777777777778,\"#fb9f3a\"],[0.8888888888888888,\"#fdca26\"],[1.0,\"#f0f921\"]],\"sequentialminus\":[[0.0,\"#0d0887\"],[0.1111111111111111,\"#46039f\"],[0.2222222222222222,\"#7201a8\"],[0.3333333333333333,\"#9c179e\"],[0.4444444444444444,\"#bd3786\"],[0.5555555555555556,\"#d8576b\"],[0.6666666666666666,\"#ed7953\"],[0.7777777777777778,\"#fb9f3a\"],[0.8888888888888888,\"#fdca26\"],[1.0,\"#f0f921\"]],\"diverging\":[[0,\"#8e0152\"],[0.1,\"#c51b7d\"],[0.2,\"#de77ae\"],[0.3,\"#f1b6da\"],[0.4,\"#fde0ef\"],[0.5,\"#f7f7f7\"],[0.6,\"#e6f5d0\"],[0.7,\"#b8e186\"],[0.8,\"#7fbc41\"],[0.9,\"#4d9221\"],[1,\"#276419\"]]},\"xaxis\":{\"gridcolor\":\"#283442\",\"linecolor\":\"#506784\",\"ticks\":\"\",\"title\":{\"standoff\":15},\"zerolinecolor\":\"#283442\",\"automargin\":true,\"zerolinewidth\":2},\"yaxis\":{\"gridcolor\":\"#283442\",\"linecolor\":\"#506784\",\"ticks\":\"\",\"title\":{\"standoff\":15},\"zerolinecolor\":\"#283442\",\"automargin\":true,\"zerolinewidth\":2},\"scene\":{\"xaxis\":{\"backgroundcolor\":\"rgb(17,17,17)\",\"gridcolor\":\"#506784\",\"linecolor\":\"#506784\",\"showbackground\":true,\"ticks\":\"\",\"zerolinecolor\":\"#C8D4E3\",\"gridwidth\":2},\"yaxis\":{\"backgroundcolor\":\"rgb(17,17,17)\",\"gridcolor\":\"#506784\",\"linecolor\":\"#506784\",\"showbackground\":true,\"ticks\":\"\",\"zerolinecolor\":\"#C8D4E3\",\"gridwidth\":2},\"zaxis\":{\"backgroundcolor\":\"rgb(17,17,17)\",\"gridcolor\":\"#506784\",\"linecolor\":\"#506784\",\"showbackground\":true,\"ticks\":\"\",\"zerolinecolor\":\"#C8D4E3\",\"gridwidth\":2}},\"shapedefaults\":{\"line\":{\"color\":\"#f2f5fa\"}},\"annotationdefaults\":{\"arrowcolor\":\"#f2f5fa\",\"arrowhead\":0,\"arrowwidth\":1},\"geo\":{\"bgcolor\":\"rgb(17,17,17)\",\"landcolor\":\"rgb(17,17,17)\",\"subunitcolor\":\"#506784\",\"showland\":true,\"showlakes\":true,\"lakecolor\":\"rgb(17,17,17)\"},\"title\":{\"x\":0.05},\"updatemenudefaults\":{\"bgcolor\":\"#506784\",\"borderwidth\":0},\"sliderdefaults\":{\"bgcolor\":\"#C8D4E3\",\"borderwidth\":1,\"bordercolor\":\"rgb(17,17,17)\",\"tickwidth\":0},\"mapbox\":{\"style\":\"dark\"}}},\"xaxis\":{\"anchor\":\"y\",\"domain\":[0.0,1.0],\"title\":{\"text\":\"Month\"},\"showticklabels\":true,\"type\":\"category\",\"tickmode\":\"array\",\"tickvals\":[1,2,3,4,5,6,7,8,9,10,11,12],\"ticktext\":[\"Jan\",\"Feb\",\"Mar\",\"Apr\",\"May\",\"Jun\",\"Jul\",\"Aug\",\"Sep\",\"Oct\",\"Nov\",\"Dec\"]},\"yaxis\":{\"anchor\":\"x\",\"domain\":[0.0,1.0],\"title\":{\"text\":\"Number of Violations\"}},\"coloraxis\":{\"colorbar\":{\"title\":{\"text\":\"Month\"}},\"colorscale\":[[0.0,\"#0d0887\"],[0.1111111111111111,\"#46039f\"],[0.2222222222222222,\"#7201a8\"],[0.3333333333333333,\"#9c179e\"],[0.4444444444444444,\"#bd3786\"],[0.5555555555555556,\"#d8576b\"],[0.6666666666666666,\"#ed7953\"],[0.7777777777777778,\"#fb9f3a\"],[0.8888888888888888,\"#fdca26\"],[1.0,\"#f0f921\"]]},\"legend\":{\"tracegroupgap\":0},\"title\":{\"text\":\"Number of Tickets by Month\"},\"barmode\":\"relative\"},                        {\"responsive\": true}                    ).then(function(){\n                            \nvar gd = document.getElementById('3bb7ef94-6dc8-4a39-aafb-e2f7d9069cde');\nvar x = new MutationObserver(function (mutations, observer) {{\n        var display = window.getComputedStyle(gd).display;\n        if (!display || display === 'none') {{\n            console.log([gd, 'removed!']);\n            Plotly.purge(gd);\n            observer.disconnect();\n        }}\n}});\n\n// Listen for the removal of the full notebook cells\nvar notebookContainer = gd.closest('#notebook-container');\nif (notebookContainer) {{\n    x.observe(notebookContainer, {childList: true});\n}}\n\n// Listen for the clearing of the current output cell\nvar outputEl = gd.closest('.output');\nif (outputEl) {{\n    x.observe(outputEl, {childList: true});\n}}\n\n                        })                };                });            </script>        </div>"
     },
     "metadata": {},
     "output_type": "display_data"
    }
   ],
   "source": [
    "fig = px.bar(tickets_by_month, x='Month',y='count', color='Month',\n",
    "             title='Number of Tickets Issued by Month',\n",
    "             labels={'count': 'Number of Violations'})\n",
    "fig.update_layout(\n",
    "    xaxis=dict(\n",
    "        showticklabels=True,\n",
    "        type='category',\n",
    "        tickmode='array',\n",
    "        tickvals=[1, 2, 3, 4, 5, 6, 7, 8, 9, 10, 11, 12],\n",
    "        ticktext=['Jan', 'Feb', 'Mar', 'Apr', 'May', 'Jun', 'Jul', 'Aug', 'Sep', 'Oct', 'Nov', 'Dec']\n",
    "    )\n",
    ")\n",
    "fig"
   ],
   "metadata": {
    "collapsed": false,
    "pycharm": {
     "name": "#%%\n"
    }
   }
  },
  {
   "cell_type": "code",
   "execution_count": 59,
   "outputs": [
    {
     "data": {
      "application/vnd.plotly.v1+json": {
       "data": [
        {
         "hovertemplate": "Month=%{x}<br>count=%{y}<extra></extra>",
         "legendgroup": "",
         "line": {
          "color": "#636efa",
          "dash": "solid"
         },
         "marker": {
          "symbol": "circle"
         },
         "mode": "lines",
         "name": "",
         "orientation": "v",
         "showlegend": false,
         "x": [
          1,
          2,
          3,
          4,
          5,
          6,
          7,
          8,
          9,
          10,
          11,
          12
         ],
         "xaxis": "x",
         "y": [
          82851,
          89655,
          64615,
          62436,
          65544,
          67868,
          72744,
          77259,
          81512,
          80907,
          68850,
          95676
         ],
         "yaxis": "y",
         "type": "scatter"
        }
       ],
       "layout": {
        "template": {
         "data": {
          "histogram2dcontour": [
           {
            "type": "histogram2dcontour",
            "colorbar": {
             "outlinewidth": 0,
             "ticks": ""
            },
            "colorscale": [
             [
              0.0,
              "#0d0887"
             ],
             [
              0.1111111111111111,
              "#46039f"
             ],
             [
              0.2222222222222222,
              "#7201a8"
             ],
             [
              0.3333333333333333,
              "#9c179e"
             ],
             [
              0.4444444444444444,
              "#bd3786"
             ],
             [
              0.5555555555555556,
              "#d8576b"
             ],
             [
              0.6666666666666666,
              "#ed7953"
             ],
             [
              0.7777777777777778,
              "#fb9f3a"
             ],
             [
              0.8888888888888888,
              "#fdca26"
             ],
             [
              1.0,
              "#f0f921"
             ]
            ]
           }
          ],
          "choropleth": [
           {
            "type": "choropleth",
            "colorbar": {
             "outlinewidth": 0,
             "ticks": ""
            }
           }
          ],
          "histogram2d": [
           {
            "type": "histogram2d",
            "colorbar": {
             "outlinewidth": 0,
             "ticks": ""
            },
            "colorscale": [
             [
              0.0,
              "#0d0887"
             ],
             [
              0.1111111111111111,
              "#46039f"
             ],
             [
              0.2222222222222222,
              "#7201a8"
             ],
             [
              0.3333333333333333,
              "#9c179e"
             ],
             [
              0.4444444444444444,
              "#bd3786"
             ],
             [
              0.5555555555555556,
              "#d8576b"
             ],
             [
              0.6666666666666666,
              "#ed7953"
             ],
             [
              0.7777777777777778,
              "#fb9f3a"
             ],
             [
              0.8888888888888888,
              "#fdca26"
             ],
             [
              1.0,
              "#f0f921"
             ]
            ]
           }
          ],
          "heatmap": [
           {
            "type": "heatmap",
            "colorbar": {
             "outlinewidth": 0,
             "ticks": ""
            },
            "colorscale": [
             [
              0.0,
              "#0d0887"
             ],
             [
              0.1111111111111111,
              "#46039f"
             ],
             [
              0.2222222222222222,
              "#7201a8"
             ],
             [
              0.3333333333333333,
              "#9c179e"
             ],
             [
              0.4444444444444444,
              "#bd3786"
             ],
             [
              0.5555555555555556,
              "#d8576b"
             ],
             [
              0.6666666666666666,
              "#ed7953"
             ],
             [
              0.7777777777777778,
              "#fb9f3a"
             ],
             [
              0.8888888888888888,
              "#fdca26"
             ],
             [
              1.0,
              "#f0f921"
             ]
            ]
           }
          ],
          "heatmapgl": [
           {
            "type": "heatmapgl",
            "colorbar": {
             "outlinewidth": 0,
             "ticks": ""
            },
            "colorscale": [
             [
              0.0,
              "#0d0887"
             ],
             [
              0.1111111111111111,
              "#46039f"
             ],
             [
              0.2222222222222222,
              "#7201a8"
             ],
             [
              0.3333333333333333,
              "#9c179e"
             ],
             [
              0.4444444444444444,
              "#bd3786"
             ],
             [
              0.5555555555555556,
              "#d8576b"
             ],
             [
              0.6666666666666666,
              "#ed7953"
             ],
             [
              0.7777777777777778,
              "#fb9f3a"
             ],
             [
              0.8888888888888888,
              "#fdca26"
             ],
             [
              1.0,
              "#f0f921"
             ]
            ]
           }
          ],
          "contourcarpet": [
           {
            "type": "contourcarpet",
            "colorbar": {
             "outlinewidth": 0,
             "ticks": ""
            }
           }
          ],
          "contour": [
           {
            "type": "contour",
            "colorbar": {
             "outlinewidth": 0,
             "ticks": ""
            },
            "colorscale": [
             [
              0.0,
              "#0d0887"
             ],
             [
              0.1111111111111111,
              "#46039f"
             ],
             [
              0.2222222222222222,
              "#7201a8"
             ],
             [
              0.3333333333333333,
              "#9c179e"
             ],
             [
              0.4444444444444444,
              "#bd3786"
             ],
             [
              0.5555555555555556,
              "#d8576b"
             ],
             [
              0.6666666666666666,
              "#ed7953"
             ],
             [
              0.7777777777777778,
              "#fb9f3a"
             ],
             [
              0.8888888888888888,
              "#fdca26"
             ],
             [
              1.0,
              "#f0f921"
             ]
            ]
           }
          ],
          "surface": [
           {
            "type": "surface",
            "colorbar": {
             "outlinewidth": 0,
             "ticks": ""
            },
            "colorscale": [
             [
              0.0,
              "#0d0887"
             ],
             [
              0.1111111111111111,
              "#46039f"
             ],
             [
              0.2222222222222222,
              "#7201a8"
             ],
             [
              0.3333333333333333,
              "#9c179e"
             ],
             [
              0.4444444444444444,
              "#bd3786"
             ],
             [
              0.5555555555555556,
              "#d8576b"
             ],
             [
              0.6666666666666666,
              "#ed7953"
             ],
             [
              0.7777777777777778,
              "#fb9f3a"
             ],
             [
              0.8888888888888888,
              "#fdca26"
             ],
             [
              1.0,
              "#f0f921"
             ]
            ]
           }
          ],
          "mesh3d": [
           {
            "type": "mesh3d",
            "colorbar": {
             "outlinewidth": 0,
             "ticks": ""
            }
           }
          ],
          "scatter": [
           {
            "marker": {
             "line": {
              "color": "#283442"
             }
            },
            "type": "scatter"
           }
          ],
          "parcoords": [
           {
            "type": "parcoords",
            "line": {
             "colorbar": {
              "outlinewidth": 0,
              "ticks": ""
             }
            }
           }
          ],
          "scatterpolargl": [
           {
            "type": "scatterpolargl",
            "marker": {
             "colorbar": {
              "outlinewidth": 0,
              "ticks": ""
             }
            }
           }
          ],
          "bar": [
           {
            "error_x": {
             "color": "#f2f5fa"
            },
            "error_y": {
             "color": "#f2f5fa"
            },
            "marker": {
             "line": {
              "color": "rgb(17,17,17)",
              "width": 0.5
             },
             "pattern": {
              "fillmode": "overlay",
              "size": 10,
              "solidity": 0.2
             }
            },
            "type": "bar"
           }
          ],
          "scattergeo": [
           {
            "type": "scattergeo",
            "marker": {
             "colorbar": {
              "outlinewidth": 0,
              "ticks": ""
             }
            }
           }
          ],
          "scatterpolar": [
           {
            "type": "scatterpolar",
            "marker": {
             "colorbar": {
              "outlinewidth": 0,
              "ticks": ""
             }
            }
           }
          ],
          "histogram": [
           {
            "marker": {
             "pattern": {
              "fillmode": "overlay",
              "size": 10,
              "solidity": 0.2
             }
            },
            "type": "histogram"
           }
          ],
          "scattergl": [
           {
            "marker": {
             "line": {
              "color": "#283442"
             }
            },
            "type": "scattergl"
           }
          ],
          "scatter3d": [
           {
            "type": "scatter3d",
            "line": {
             "colorbar": {
              "outlinewidth": 0,
              "ticks": ""
             }
            },
            "marker": {
             "colorbar": {
              "outlinewidth": 0,
              "ticks": ""
             }
            }
           }
          ],
          "scattermapbox": [
           {
            "type": "scattermapbox",
            "marker": {
             "colorbar": {
              "outlinewidth": 0,
              "ticks": ""
             }
            }
           }
          ],
          "scatterternary": [
           {
            "type": "scatterternary",
            "marker": {
             "colorbar": {
              "outlinewidth": 0,
              "ticks": ""
             }
            }
           }
          ],
          "scattercarpet": [
           {
            "type": "scattercarpet",
            "marker": {
             "colorbar": {
              "outlinewidth": 0,
              "ticks": ""
             }
            }
           }
          ],
          "carpet": [
           {
            "aaxis": {
             "endlinecolor": "#A2B1C6",
             "gridcolor": "#506784",
             "linecolor": "#506784",
             "minorgridcolor": "#506784",
             "startlinecolor": "#A2B1C6"
            },
            "baxis": {
             "endlinecolor": "#A2B1C6",
             "gridcolor": "#506784",
             "linecolor": "#506784",
             "minorgridcolor": "#506784",
             "startlinecolor": "#A2B1C6"
            },
            "type": "carpet"
           }
          ],
          "table": [
           {
            "cells": {
             "fill": {
              "color": "#506784"
             },
             "line": {
              "color": "rgb(17,17,17)"
             }
            },
            "header": {
             "fill": {
              "color": "#2a3f5f"
             },
             "line": {
              "color": "rgb(17,17,17)"
             }
            },
            "type": "table"
           }
          ],
          "barpolar": [
           {
            "marker": {
             "line": {
              "color": "rgb(17,17,17)",
              "width": 0.5
             },
             "pattern": {
              "fillmode": "overlay",
              "size": 10,
              "solidity": 0.2
             }
            },
            "type": "barpolar"
           }
          ],
          "pie": [
           {
            "automargin": true,
            "type": "pie"
           }
          ]
         },
         "layout": {
          "autotypenumbers": "strict",
          "colorway": [
           "#636efa",
           "#EF553B",
           "#00cc96",
           "#ab63fa",
           "#FFA15A",
           "#19d3f3",
           "#FF6692",
           "#B6E880",
           "#FF97FF",
           "#FECB52"
          ],
          "font": {
           "color": "#f2f5fa"
          },
          "hovermode": "closest",
          "hoverlabel": {
           "align": "left"
          },
          "paper_bgcolor": "rgb(17,17,17)",
          "plot_bgcolor": "rgb(17,17,17)",
          "polar": {
           "bgcolor": "rgb(17,17,17)",
           "angularaxis": {
            "gridcolor": "#506784",
            "linecolor": "#506784",
            "ticks": ""
           },
           "radialaxis": {
            "gridcolor": "#506784",
            "linecolor": "#506784",
            "ticks": ""
           }
          },
          "ternary": {
           "bgcolor": "rgb(17,17,17)",
           "aaxis": {
            "gridcolor": "#506784",
            "linecolor": "#506784",
            "ticks": ""
           },
           "baxis": {
            "gridcolor": "#506784",
            "linecolor": "#506784",
            "ticks": ""
           },
           "caxis": {
            "gridcolor": "#506784",
            "linecolor": "#506784",
            "ticks": ""
           }
          },
          "coloraxis": {
           "colorbar": {
            "outlinewidth": 0,
            "ticks": ""
           }
          },
          "colorscale": {
           "sequential": [
            [
             0.0,
             "#0d0887"
            ],
            [
             0.1111111111111111,
             "#46039f"
            ],
            [
             0.2222222222222222,
             "#7201a8"
            ],
            [
             0.3333333333333333,
             "#9c179e"
            ],
            [
             0.4444444444444444,
             "#bd3786"
            ],
            [
             0.5555555555555556,
             "#d8576b"
            ],
            [
             0.6666666666666666,
             "#ed7953"
            ],
            [
             0.7777777777777778,
             "#fb9f3a"
            ],
            [
             0.8888888888888888,
             "#fdca26"
            ],
            [
             1.0,
             "#f0f921"
            ]
           ],
           "sequentialminus": [
            [
             0.0,
             "#0d0887"
            ],
            [
             0.1111111111111111,
             "#46039f"
            ],
            [
             0.2222222222222222,
             "#7201a8"
            ],
            [
             0.3333333333333333,
             "#9c179e"
            ],
            [
             0.4444444444444444,
             "#bd3786"
            ],
            [
             0.5555555555555556,
             "#d8576b"
            ],
            [
             0.6666666666666666,
             "#ed7953"
            ],
            [
             0.7777777777777778,
             "#fb9f3a"
            ],
            [
             0.8888888888888888,
             "#fdca26"
            ],
            [
             1.0,
             "#f0f921"
            ]
           ],
           "diverging": [
            [
             0,
             "#8e0152"
            ],
            [
             0.1,
             "#c51b7d"
            ],
            [
             0.2,
             "#de77ae"
            ],
            [
             0.3,
             "#f1b6da"
            ],
            [
             0.4,
             "#fde0ef"
            ],
            [
             0.5,
             "#f7f7f7"
            ],
            [
             0.6,
             "#e6f5d0"
            ],
            [
             0.7,
             "#b8e186"
            ],
            [
             0.8,
             "#7fbc41"
            ],
            [
             0.9,
             "#4d9221"
            ],
            [
             1,
             "#276419"
            ]
           ]
          },
          "xaxis": {
           "gridcolor": "#283442",
           "linecolor": "#506784",
           "ticks": "",
           "title": {
            "standoff": 15
           },
           "zerolinecolor": "#283442",
           "automargin": true,
           "zerolinewidth": 2
          },
          "yaxis": {
           "gridcolor": "#283442",
           "linecolor": "#506784",
           "ticks": "",
           "title": {
            "standoff": 15
           },
           "zerolinecolor": "#283442",
           "automargin": true,
           "zerolinewidth": 2
          },
          "scene": {
           "xaxis": {
            "backgroundcolor": "rgb(17,17,17)",
            "gridcolor": "#506784",
            "linecolor": "#506784",
            "showbackground": true,
            "ticks": "",
            "zerolinecolor": "#C8D4E3",
            "gridwidth": 2
           },
           "yaxis": {
            "backgroundcolor": "rgb(17,17,17)",
            "gridcolor": "#506784",
            "linecolor": "#506784",
            "showbackground": true,
            "ticks": "",
            "zerolinecolor": "#C8D4E3",
            "gridwidth": 2
           },
           "zaxis": {
            "backgroundcolor": "rgb(17,17,17)",
            "gridcolor": "#506784",
            "linecolor": "#506784",
            "showbackground": true,
            "ticks": "",
            "zerolinecolor": "#C8D4E3",
            "gridwidth": 2
           }
          },
          "shapedefaults": {
           "line": {
            "color": "#f2f5fa"
           }
          },
          "annotationdefaults": {
           "arrowcolor": "#f2f5fa",
           "arrowhead": 0,
           "arrowwidth": 1
          },
          "geo": {
           "bgcolor": "rgb(17,17,17)",
           "landcolor": "rgb(17,17,17)",
           "subunitcolor": "#506784",
           "showland": true,
           "showlakes": true,
           "lakecolor": "rgb(17,17,17)"
          },
          "title": {
           "x": 0.05
          },
          "updatemenudefaults": {
           "bgcolor": "#506784",
           "borderwidth": 0
          },
          "sliderdefaults": {
           "bgcolor": "#C8D4E3",
           "borderwidth": 1,
           "bordercolor": "rgb(17,17,17)",
           "tickwidth": 0
          },
          "mapbox": {
           "style": "dark"
          }
         }
        },
        "xaxis": {
         "anchor": "y",
         "domain": [
          0.0,
          1.0
         ],
         "title": {
          "text": "Month"
         }
        },
        "yaxis": {
         "anchor": "x",
         "domain": [
          0.0,
          1.0
         ],
         "title": {
          "text": "count"
         }
        },
        "legend": {
         "tracegroupgap": 0
        },
        "margin": {
         "t": 60
        }
       },
       "config": {
        "plotlyServerURL": "https://plot.ly"
       }
      },
      "text/html": "<div>                            <div id=\"969d47e6-8969-4709-9ee9-0e8706b7d4bc\" class=\"plotly-graph-div\" style=\"height:525px; width:100%;\"></div>            <script type=\"text/javascript\">                require([\"plotly\"], function(Plotly) {                    window.PLOTLYENV=window.PLOTLYENV || {};                                    if (document.getElementById(\"969d47e6-8969-4709-9ee9-0e8706b7d4bc\")) {                    Plotly.newPlot(                        \"969d47e6-8969-4709-9ee9-0e8706b7d4bc\",                        [{\"hovertemplate\":\"Month=%{x}<br>count=%{y}<extra></extra>\",\"legendgroup\":\"\",\"line\":{\"color\":\"#636efa\",\"dash\":\"solid\"},\"marker\":{\"symbol\":\"circle\"},\"mode\":\"lines\",\"name\":\"\",\"orientation\":\"v\",\"showlegend\":false,\"x\":[1,2,3,4,5,6,7,8,9,10,11,12],\"xaxis\":\"x\",\"y\":[82851,89655,64615,62436,65544,67868,72744,77259,81512,80907,68850,95676],\"yaxis\":\"y\",\"type\":\"scatter\"}],                        {\"template\":{\"data\":{\"histogram2dcontour\":[{\"type\":\"histogram2dcontour\",\"colorbar\":{\"outlinewidth\":0,\"ticks\":\"\"},\"colorscale\":[[0.0,\"#0d0887\"],[0.1111111111111111,\"#46039f\"],[0.2222222222222222,\"#7201a8\"],[0.3333333333333333,\"#9c179e\"],[0.4444444444444444,\"#bd3786\"],[0.5555555555555556,\"#d8576b\"],[0.6666666666666666,\"#ed7953\"],[0.7777777777777778,\"#fb9f3a\"],[0.8888888888888888,\"#fdca26\"],[1.0,\"#f0f921\"]]}],\"choropleth\":[{\"type\":\"choropleth\",\"colorbar\":{\"outlinewidth\":0,\"ticks\":\"\"}}],\"histogram2d\":[{\"type\":\"histogram2d\",\"colorbar\":{\"outlinewidth\":0,\"ticks\":\"\"},\"colorscale\":[[0.0,\"#0d0887\"],[0.1111111111111111,\"#46039f\"],[0.2222222222222222,\"#7201a8\"],[0.3333333333333333,\"#9c179e\"],[0.4444444444444444,\"#bd3786\"],[0.5555555555555556,\"#d8576b\"],[0.6666666666666666,\"#ed7953\"],[0.7777777777777778,\"#fb9f3a\"],[0.8888888888888888,\"#fdca26\"],[1.0,\"#f0f921\"]]}],\"heatmap\":[{\"type\":\"heatmap\",\"colorbar\":{\"outlinewidth\":0,\"ticks\":\"\"},\"colorscale\":[[0.0,\"#0d0887\"],[0.1111111111111111,\"#46039f\"],[0.2222222222222222,\"#7201a8\"],[0.3333333333333333,\"#9c179e\"],[0.4444444444444444,\"#bd3786\"],[0.5555555555555556,\"#d8576b\"],[0.6666666666666666,\"#ed7953\"],[0.7777777777777778,\"#fb9f3a\"],[0.8888888888888888,\"#fdca26\"],[1.0,\"#f0f921\"]]}],\"heatmapgl\":[{\"type\":\"heatmapgl\",\"colorbar\":{\"outlinewidth\":0,\"ticks\":\"\"},\"colorscale\":[[0.0,\"#0d0887\"],[0.1111111111111111,\"#46039f\"],[0.2222222222222222,\"#7201a8\"],[0.3333333333333333,\"#9c179e\"],[0.4444444444444444,\"#bd3786\"],[0.5555555555555556,\"#d8576b\"],[0.6666666666666666,\"#ed7953\"],[0.7777777777777778,\"#fb9f3a\"],[0.8888888888888888,\"#fdca26\"],[1.0,\"#f0f921\"]]}],\"contourcarpet\":[{\"type\":\"contourcarpet\",\"colorbar\":{\"outlinewidth\":0,\"ticks\":\"\"}}],\"contour\":[{\"type\":\"contour\",\"colorbar\":{\"outlinewidth\":0,\"ticks\":\"\"},\"colorscale\":[[0.0,\"#0d0887\"],[0.1111111111111111,\"#46039f\"],[0.2222222222222222,\"#7201a8\"],[0.3333333333333333,\"#9c179e\"],[0.4444444444444444,\"#bd3786\"],[0.5555555555555556,\"#d8576b\"],[0.6666666666666666,\"#ed7953\"],[0.7777777777777778,\"#fb9f3a\"],[0.8888888888888888,\"#fdca26\"],[1.0,\"#f0f921\"]]}],\"surface\":[{\"type\":\"surface\",\"colorbar\":{\"outlinewidth\":0,\"ticks\":\"\"},\"colorscale\":[[0.0,\"#0d0887\"],[0.1111111111111111,\"#46039f\"],[0.2222222222222222,\"#7201a8\"],[0.3333333333333333,\"#9c179e\"],[0.4444444444444444,\"#bd3786\"],[0.5555555555555556,\"#d8576b\"],[0.6666666666666666,\"#ed7953\"],[0.7777777777777778,\"#fb9f3a\"],[0.8888888888888888,\"#fdca26\"],[1.0,\"#f0f921\"]]}],\"mesh3d\":[{\"type\":\"mesh3d\",\"colorbar\":{\"outlinewidth\":0,\"ticks\":\"\"}}],\"scatter\":[{\"marker\":{\"line\":{\"color\":\"#283442\"}},\"type\":\"scatter\"}],\"parcoords\":[{\"type\":\"parcoords\",\"line\":{\"colorbar\":{\"outlinewidth\":0,\"ticks\":\"\"}}}],\"scatterpolargl\":[{\"type\":\"scatterpolargl\",\"marker\":{\"colorbar\":{\"outlinewidth\":0,\"ticks\":\"\"}}}],\"bar\":[{\"error_x\":{\"color\":\"#f2f5fa\"},\"error_y\":{\"color\":\"#f2f5fa\"},\"marker\":{\"line\":{\"color\":\"rgb(17,17,17)\",\"width\":0.5},\"pattern\":{\"fillmode\":\"overlay\",\"size\":10,\"solidity\":0.2}},\"type\":\"bar\"}],\"scattergeo\":[{\"type\":\"scattergeo\",\"marker\":{\"colorbar\":{\"outlinewidth\":0,\"ticks\":\"\"}}}],\"scatterpolar\":[{\"type\":\"scatterpolar\",\"marker\":{\"colorbar\":{\"outlinewidth\":0,\"ticks\":\"\"}}}],\"histogram\":[{\"marker\":{\"pattern\":{\"fillmode\":\"overlay\",\"size\":10,\"solidity\":0.2}},\"type\":\"histogram\"}],\"scattergl\":[{\"marker\":{\"line\":{\"color\":\"#283442\"}},\"type\":\"scattergl\"}],\"scatter3d\":[{\"type\":\"scatter3d\",\"line\":{\"colorbar\":{\"outlinewidth\":0,\"ticks\":\"\"}},\"marker\":{\"colorbar\":{\"outlinewidth\":0,\"ticks\":\"\"}}}],\"scattermapbox\":[{\"type\":\"scattermapbox\",\"marker\":{\"colorbar\":{\"outlinewidth\":0,\"ticks\":\"\"}}}],\"scatterternary\":[{\"type\":\"scatterternary\",\"marker\":{\"colorbar\":{\"outlinewidth\":0,\"ticks\":\"\"}}}],\"scattercarpet\":[{\"type\":\"scattercarpet\",\"marker\":{\"colorbar\":{\"outlinewidth\":0,\"ticks\":\"\"}}}],\"carpet\":[{\"aaxis\":{\"endlinecolor\":\"#A2B1C6\",\"gridcolor\":\"#506784\",\"linecolor\":\"#506784\",\"minorgridcolor\":\"#506784\",\"startlinecolor\":\"#A2B1C6\"},\"baxis\":{\"endlinecolor\":\"#A2B1C6\",\"gridcolor\":\"#506784\",\"linecolor\":\"#506784\",\"minorgridcolor\":\"#506784\",\"startlinecolor\":\"#A2B1C6\"},\"type\":\"carpet\"}],\"table\":[{\"cells\":{\"fill\":{\"color\":\"#506784\"},\"line\":{\"color\":\"rgb(17,17,17)\"}},\"header\":{\"fill\":{\"color\":\"#2a3f5f\"},\"line\":{\"color\":\"rgb(17,17,17)\"}},\"type\":\"table\"}],\"barpolar\":[{\"marker\":{\"line\":{\"color\":\"rgb(17,17,17)\",\"width\":0.5},\"pattern\":{\"fillmode\":\"overlay\",\"size\":10,\"solidity\":0.2}},\"type\":\"barpolar\"}],\"pie\":[{\"automargin\":true,\"type\":\"pie\"}]},\"layout\":{\"autotypenumbers\":\"strict\",\"colorway\":[\"#636efa\",\"#EF553B\",\"#00cc96\",\"#ab63fa\",\"#FFA15A\",\"#19d3f3\",\"#FF6692\",\"#B6E880\",\"#FF97FF\",\"#FECB52\"],\"font\":{\"color\":\"#f2f5fa\"},\"hovermode\":\"closest\",\"hoverlabel\":{\"align\":\"left\"},\"paper_bgcolor\":\"rgb(17,17,17)\",\"plot_bgcolor\":\"rgb(17,17,17)\",\"polar\":{\"bgcolor\":\"rgb(17,17,17)\",\"angularaxis\":{\"gridcolor\":\"#506784\",\"linecolor\":\"#506784\",\"ticks\":\"\"},\"radialaxis\":{\"gridcolor\":\"#506784\",\"linecolor\":\"#506784\",\"ticks\":\"\"}},\"ternary\":{\"bgcolor\":\"rgb(17,17,17)\",\"aaxis\":{\"gridcolor\":\"#506784\",\"linecolor\":\"#506784\",\"ticks\":\"\"},\"baxis\":{\"gridcolor\":\"#506784\",\"linecolor\":\"#506784\",\"ticks\":\"\"},\"caxis\":{\"gridcolor\":\"#506784\",\"linecolor\":\"#506784\",\"ticks\":\"\"}},\"coloraxis\":{\"colorbar\":{\"outlinewidth\":0,\"ticks\":\"\"}},\"colorscale\":{\"sequential\":[[0.0,\"#0d0887\"],[0.1111111111111111,\"#46039f\"],[0.2222222222222222,\"#7201a8\"],[0.3333333333333333,\"#9c179e\"],[0.4444444444444444,\"#bd3786\"],[0.5555555555555556,\"#d8576b\"],[0.6666666666666666,\"#ed7953\"],[0.7777777777777778,\"#fb9f3a\"],[0.8888888888888888,\"#fdca26\"],[1.0,\"#f0f921\"]],\"sequentialminus\":[[0.0,\"#0d0887\"],[0.1111111111111111,\"#46039f\"],[0.2222222222222222,\"#7201a8\"],[0.3333333333333333,\"#9c179e\"],[0.4444444444444444,\"#bd3786\"],[0.5555555555555556,\"#d8576b\"],[0.6666666666666666,\"#ed7953\"],[0.7777777777777778,\"#fb9f3a\"],[0.8888888888888888,\"#fdca26\"],[1.0,\"#f0f921\"]],\"diverging\":[[0,\"#8e0152\"],[0.1,\"#c51b7d\"],[0.2,\"#de77ae\"],[0.3,\"#f1b6da\"],[0.4,\"#fde0ef\"],[0.5,\"#f7f7f7\"],[0.6,\"#e6f5d0\"],[0.7,\"#b8e186\"],[0.8,\"#7fbc41\"],[0.9,\"#4d9221\"],[1,\"#276419\"]]},\"xaxis\":{\"gridcolor\":\"#283442\",\"linecolor\":\"#506784\",\"ticks\":\"\",\"title\":{\"standoff\":15},\"zerolinecolor\":\"#283442\",\"automargin\":true,\"zerolinewidth\":2},\"yaxis\":{\"gridcolor\":\"#283442\",\"linecolor\":\"#506784\",\"ticks\":\"\",\"title\":{\"standoff\":15},\"zerolinecolor\":\"#283442\",\"automargin\":true,\"zerolinewidth\":2},\"scene\":{\"xaxis\":{\"backgroundcolor\":\"rgb(17,17,17)\",\"gridcolor\":\"#506784\",\"linecolor\":\"#506784\",\"showbackground\":true,\"ticks\":\"\",\"zerolinecolor\":\"#C8D4E3\",\"gridwidth\":2},\"yaxis\":{\"backgroundcolor\":\"rgb(17,17,17)\",\"gridcolor\":\"#506784\",\"linecolor\":\"#506784\",\"showbackground\":true,\"ticks\":\"\",\"zerolinecolor\":\"#C8D4E3\",\"gridwidth\":2},\"zaxis\":{\"backgroundcolor\":\"rgb(17,17,17)\",\"gridcolor\":\"#506784\",\"linecolor\":\"#506784\",\"showbackground\":true,\"ticks\":\"\",\"zerolinecolor\":\"#C8D4E3\",\"gridwidth\":2}},\"shapedefaults\":{\"line\":{\"color\":\"#f2f5fa\"}},\"annotationdefaults\":{\"arrowcolor\":\"#f2f5fa\",\"arrowhead\":0,\"arrowwidth\":1},\"geo\":{\"bgcolor\":\"rgb(17,17,17)\",\"landcolor\":\"rgb(17,17,17)\",\"subunitcolor\":\"#506784\",\"showland\":true,\"showlakes\":true,\"lakecolor\":\"rgb(17,17,17)\"},\"title\":{\"x\":0.05},\"updatemenudefaults\":{\"bgcolor\":\"#506784\",\"borderwidth\":0},\"sliderdefaults\":{\"bgcolor\":\"#C8D4E3\",\"borderwidth\":1,\"bordercolor\":\"rgb(17,17,17)\",\"tickwidth\":0},\"mapbox\":{\"style\":\"dark\"}}},\"xaxis\":{\"anchor\":\"y\",\"domain\":[0.0,1.0],\"title\":{\"text\":\"Month\"}},\"yaxis\":{\"anchor\":\"x\",\"domain\":[0.0,1.0],\"title\":{\"text\":\"count\"}},\"legend\":{\"tracegroupgap\":0},\"margin\":{\"t\":60}},                        {\"responsive\": true}                    ).then(function(){\n                            \nvar gd = document.getElementById('969d47e6-8969-4709-9ee9-0e8706b7d4bc');\nvar x = new MutationObserver(function (mutations, observer) {{\n        var display = window.getComputedStyle(gd).display;\n        if (!display || display === 'none') {{\n            console.log([gd, 'removed!']);\n            Plotly.purge(gd);\n            observer.disconnect();\n        }}\n}});\n\n// Listen for the removal of the full notebook cells\nvar notebookContainer = gd.closest('#notebook-container');\nif (notebookContainer) {{\n    x.observe(notebookContainer, {childList: true});\n}}\n\n// Listen for the clearing of the current output cell\nvar outputEl = gd.closest('.output');\nif (outputEl) {{\n    x.observe(outputEl, {childList: true});\n}}\n\n                        })                };                });            </script>        </div>"
     },
     "metadata": {},
     "output_type": "display_data"
    }
   ],
   "source": [
    "px.line(tickets_by_month, x='Month', y='count', labels={'x': 'Month', 'y': 'Number of Violations'})"
   ],
   "metadata": {
    "collapsed": false,
    "pycharm": {
     "name": "#%%\n"
    }
   }
  },
  {
   "cell_type": "code",
   "execution_count": 95,
   "outputs": [
    {
     "data": {
      "application/vnd.plotly.v1+json": {
       "data": [
        {
         "hovertemplate": "Month=%{x}<br>Number of Violations=%{y}<extra></extra>",
         "legendgroup": "",
         "line": {
          "color": "#636efa",
          "dash": "solid"
         },
         "marker": {
          "symbol": "circle"
         },
         "mode": "lines",
         "name": "",
         "orientation": "v",
         "showlegend": false,
         "x": [
          1,
          2,
          3,
          4,
          5,
          6,
          7,
          8,
          9,
          10,
          11,
          12
         ],
         "xaxis": "x",
         "y": [
          82851,
          89655,
          64615,
          62436,
          65544,
          67868,
          72744,
          77259,
          81512,
          80907,
          68850,
          95676
         ],
         "yaxis": "y",
         "type": "scatter"
        }
       ],
       "layout": {
        "template": {
         "data": {
          "histogram2dcontour": [
           {
            "type": "histogram2dcontour",
            "colorbar": {
             "outlinewidth": 0,
             "ticks": ""
            },
            "colorscale": [
             [
              0.0,
              "#0d0887"
             ],
             [
              0.1111111111111111,
              "#46039f"
             ],
             [
              0.2222222222222222,
              "#7201a8"
             ],
             [
              0.3333333333333333,
              "#9c179e"
             ],
             [
              0.4444444444444444,
              "#bd3786"
             ],
             [
              0.5555555555555556,
              "#d8576b"
             ],
             [
              0.6666666666666666,
              "#ed7953"
             ],
             [
              0.7777777777777778,
              "#fb9f3a"
             ],
             [
              0.8888888888888888,
              "#fdca26"
             ],
             [
              1.0,
              "#f0f921"
             ]
            ]
           }
          ],
          "choropleth": [
           {
            "type": "choropleth",
            "colorbar": {
             "outlinewidth": 0,
             "ticks": ""
            }
           }
          ],
          "histogram2d": [
           {
            "type": "histogram2d",
            "colorbar": {
             "outlinewidth": 0,
             "ticks": ""
            },
            "colorscale": [
             [
              0.0,
              "#0d0887"
             ],
             [
              0.1111111111111111,
              "#46039f"
             ],
             [
              0.2222222222222222,
              "#7201a8"
             ],
             [
              0.3333333333333333,
              "#9c179e"
             ],
             [
              0.4444444444444444,
              "#bd3786"
             ],
             [
              0.5555555555555556,
              "#d8576b"
             ],
             [
              0.6666666666666666,
              "#ed7953"
             ],
             [
              0.7777777777777778,
              "#fb9f3a"
             ],
             [
              0.8888888888888888,
              "#fdca26"
             ],
             [
              1.0,
              "#f0f921"
             ]
            ]
           }
          ],
          "heatmap": [
           {
            "type": "heatmap",
            "colorbar": {
             "outlinewidth": 0,
             "ticks": ""
            },
            "colorscale": [
             [
              0.0,
              "#0d0887"
             ],
             [
              0.1111111111111111,
              "#46039f"
             ],
             [
              0.2222222222222222,
              "#7201a8"
             ],
             [
              0.3333333333333333,
              "#9c179e"
             ],
             [
              0.4444444444444444,
              "#bd3786"
             ],
             [
              0.5555555555555556,
              "#d8576b"
             ],
             [
              0.6666666666666666,
              "#ed7953"
             ],
             [
              0.7777777777777778,
              "#fb9f3a"
             ],
             [
              0.8888888888888888,
              "#fdca26"
             ],
             [
              1.0,
              "#f0f921"
             ]
            ]
           }
          ],
          "heatmapgl": [
           {
            "type": "heatmapgl",
            "colorbar": {
             "outlinewidth": 0,
             "ticks": ""
            },
            "colorscale": [
             [
              0.0,
              "#0d0887"
             ],
             [
              0.1111111111111111,
              "#46039f"
             ],
             [
              0.2222222222222222,
              "#7201a8"
             ],
             [
              0.3333333333333333,
              "#9c179e"
             ],
             [
              0.4444444444444444,
              "#bd3786"
             ],
             [
              0.5555555555555556,
              "#d8576b"
             ],
             [
              0.6666666666666666,
              "#ed7953"
             ],
             [
              0.7777777777777778,
              "#fb9f3a"
             ],
             [
              0.8888888888888888,
              "#fdca26"
             ],
             [
              1.0,
              "#f0f921"
             ]
            ]
           }
          ],
          "contourcarpet": [
           {
            "type": "contourcarpet",
            "colorbar": {
             "outlinewidth": 0,
             "ticks": ""
            }
           }
          ],
          "contour": [
           {
            "type": "contour",
            "colorbar": {
             "outlinewidth": 0,
             "ticks": ""
            },
            "colorscale": [
             [
              0.0,
              "#0d0887"
             ],
             [
              0.1111111111111111,
              "#46039f"
             ],
             [
              0.2222222222222222,
              "#7201a8"
             ],
             [
              0.3333333333333333,
              "#9c179e"
             ],
             [
              0.4444444444444444,
              "#bd3786"
             ],
             [
              0.5555555555555556,
              "#d8576b"
             ],
             [
              0.6666666666666666,
              "#ed7953"
             ],
             [
              0.7777777777777778,
              "#fb9f3a"
             ],
             [
              0.8888888888888888,
              "#fdca26"
             ],
             [
              1.0,
              "#f0f921"
             ]
            ]
           }
          ],
          "surface": [
           {
            "type": "surface",
            "colorbar": {
             "outlinewidth": 0,
             "ticks": ""
            },
            "colorscale": [
             [
              0.0,
              "#0d0887"
             ],
             [
              0.1111111111111111,
              "#46039f"
             ],
             [
              0.2222222222222222,
              "#7201a8"
             ],
             [
              0.3333333333333333,
              "#9c179e"
             ],
             [
              0.4444444444444444,
              "#bd3786"
             ],
             [
              0.5555555555555556,
              "#d8576b"
             ],
             [
              0.6666666666666666,
              "#ed7953"
             ],
             [
              0.7777777777777778,
              "#fb9f3a"
             ],
             [
              0.8888888888888888,
              "#fdca26"
             ],
             [
              1.0,
              "#f0f921"
             ]
            ]
           }
          ],
          "mesh3d": [
           {
            "type": "mesh3d",
            "colorbar": {
             "outlinewidth": 0,
             "ticks": ""
            }
           }
          ],
          "scatter": [
           {
            "marker": {
             "line": {
              "color": "#283442"
             }
            },
            "type": "scatter"
           }
          ],
          "parcoords": [
           {
            "type": "parcoords",
            "line": {
             "colorbar": {
              "outlinewidth": 0,
              "ticks": ""
             }
            }
           }
          ],
          "scatterpolargl": [
           {
            "type": "scatterpolargl",
            "marker": {
             "colorbar": {
              "outlinewidth": 0,
              "ticks": ""
             }
            }
           }
          ],
          "bar": [
           {
            "error_x": {
             "color": "#f2f5fa"
            },
            "error_y": {
             "color": "#f2f5fa"
            },
            "marker": {
             "line": {
              "color": "rgb(17,17,17)",
              "width": 0.5
             },
             "pattern": {
              "fillmode": "overlay",
              "size": 10,
              "solidity": 0.2
             }
            },
            "type": "bar"
           }
          ],
          "scattergeo": [
           {
            "type": "scattergeo",
            "marker": {
             "colorbar": {
              "outlinewidth": 0,
              "ticks": ""
             }
            }
           }
          ],
          "scatterpolar": [
           {
            "type": "scatterpolar",
            "marker": {
             "colorbar": {
              "outlinewidth": 0,
              "ticks": ""
             }
            }
           }
          ],
          "histogram": [
           {
            "marker": {
             "pattern": {
              "fillmode": "overlay",
              "size": 10,
              "solidity": 0.2
             }
            },
            "type": "histogram"
           }
          ],
          "scattergl": [
           {
            "marker": {
             "line": {
              "color": "#283442"
             }
            },
            "type": "scattergl"
           }
          ],
          "scatter3d": [
           {
            "type": "scatter3d",
            "line": {
             "colorbar": {
              "outlinewidth": 0,
              "ticks": ""
             }
            },
            "marker": {
             "colorbar": {
              "outlinewidth": 0,
              "ticks": ""
             }
            }
           }
          ],
          "scattermapbox": [
           {
            "type": "scattermapbox",
            "marker": {
             "colorbar": {
              "outlinewidth": 0,
              "ticks": ""
             }
            }
           }
          ],
          "scatterternary": [
           {
            "type": "scatterternary",
            "marker": {
             "colorbar": {
              "outlinewidth": 0,
              "ticks": ""
             }
            }
           }
          ],
          "scattercarpet": [
           {
            "type": "scattercarpet",
            "marker": {
             "colorbar": {
              "outlinewidth": 0,
              "ticks": ""
             }
            }
           }
          ],
          "carpet": [
           {
            "aaxis": {
             "endlinecolor": "#A2B1C6",
             "gridcolor": "#506784",
             "linecolor": "#506784",
             "minorgridcolor": "#506784",
             "startlinecolor": "#A2B1C6"
            },
            "baxis": {
             "endlinecolor": "#A2B1C6",
             "gridcolor": "#506784",
             "linecolor": "#506784",
             "minorgridcolor": "#506784",
             "startlinecolor": "#A2B1C6"
            },
            "type": "carpet"
           }
          ],
          "table": [
           {
            "cells": {
             "fill": {
              "color": "#506784"
             },
             "line": {
              "color": "rgb(17,17,17)"
             }
            },
            "header": {
             "fill": {
              "color": "#2a3f5f"
             },
             "line": {
              "color": "rgb(17,17,17)"
             }
            },
            "type": "table"
           }
          ],
          "barpolar": [
           {
            "marker": {
             "line": {
              "color": "rgb(17,17,17)",
              "width": 0.5
             },
             "pattern": {
              "fillmode": "overlay",
              "size": 10,
              "solidity": 0.2
             }
            },
            "type": "barpolar"
           }
          ],
          "pie": [
           {
            "automargin": true,
            "type": "pie"
           }
          ]
         },
         "layout": {
          "autotypenumbers": "strict",
          "colorway": [
           "#636efa",
           "#EF553B",
           "#00cc96",
           "#ab63fa",
           "#FFA15A",
           "#19d3f3",
           "#FF6692",
           "#B6E880",
           "#FF97FF",
           "#FECB52"
          ],
          "font": {
           "color": "#f2f5fa"
          },
          "hovermode": "closest",
          "hoverlabel": {
           "align": "left"
          },
          "paper_bgcolor": "rgb(17,17,17)",
          "plot_bgcolor": "rgb(17,17,17)",
          "polar": {
           "bgcolor": "rgb(17,17,17)",
           "angularaxis": {
            "gridcolor": "#506784",
            "linecolor": "#506784",
            "ticks": ""
           },
           "radialaxis": {
            "gridcolor": "#506784",
            "linecolor": "#506784",
            "ticks": ""
           }
          },
          "ternary": {
           "bgcolor": "rgb(17,17,17)",
           "aaxis": {
            "gridcolor": "#506784",
            "linecolor": "#506784",
            "ticks": ""
           },
           "baxis": {
            "gridcolor": "#506784",
            "linecolor": "#506784",
            "ticks": ""
           },
           "caxis": {
            "gridcolor": "#506784",
            "linecolor": "#506784",
            "ticks": ""
           }
          },
          "coloraxis": {
           "colorbar": {
            "outlinewidth": 0,
            "ticks": ""
           }
          },
          "colorscale": {
           "sequential": [
            [
             0.0,
             "#0d0887"
            ],
            [
             0.1111111111111111,
             "#46039f"
            ],
            [
             0.2222222222222222,
             "#7201a8"
            ],
            [
             0.3333333333333333,
             "#9c179e"
            ],
            [
             0.4444444444444444,
             "#bd3786"
            ],
            [
             0.5555555555555556,
             "#d8576b"
            ],
            [
             0.6666666666666666,
             "#ed7953"
            ],
            [
             0.7777777777777778,
             "#fb9f3a"
            ],
            [
             0.8888888888888888,
             "#fdca26"
            ],
            [
             1.0,
             "#f0f921"
            ]
           ],
           "sequentialminus": [
            [
             0.0,
             "#0d0887"
            ],
            [
             0.1111111111111111,
             "#46039f"
            ],
            [
             0.2222222222222222,
             "#7201a8"
            ],
            [
             0.3333333333333333,
             "#9c179e"
            ],
            [
             0.4444444444444444,
             "#bd3786"
            ],
            [
             0.5555555555555556,
             "#d8576b"
            ],
            [
             0.6666666666666666,
             "#ed7953"
            ],
            [
             0.7777777777777778,
             "#fb9f3a"
            ],
            [
             0.8888888888888888,
             "#fdca26"
            ],
            [
             1.0,
             "#f0f921"
            ]
           ],
           "diverging": [
            [
             0,
             "#8e0152"
            ],
            [
             0.1,
             "#c51b7d"
            ],
            [
             0.2,
             "#de77ae"
            ],
            [
             0.3,
             "#f1b6da"
            ],
            [
             0.4,
             "#fde0ef"
            ],
            [
             0.5,
             "#f7f7f7"
            ],
            [
             0.6,
             "#e6f5d0"
            ],
            [
             0.7,
             "#b8e186"
            ],
            [
             0.8,
             "#7fbc41"
            ],
            [
             0.9,
             "#4d9221"
            ],
            [
             1,
             "#276419"
            ]
           ]
          },
          "xaxis": {
           "gridcolor": "#283442",
           "linecolor": "#506784",
           "ticks": "",
           "title": {
            "standoff": 15
           },
           "zerolinecolor": "#283442",
           "automargin": true,
           "zerolinewidth": 2
          },
          "yaxis": {
           "gridcolor": "#283442",
           "linecolor": "#506784",
           "ticks": "",
           "title": {
            "standoff": 15
           },
           "zerolinecolor": "#283442",
           "automargin": true,
           "zerolinewidth": 2
          },
          "scene": {
           "xaxis": {
            "backgroundcolor": "rgb(17,17,17)",
            "gridcolor": "#506784",
            "linecolor": "#506784",
            "showbackground": true,
            "ticks": "",
            "zerolinecolor": "#C8D4E3",
            "gridwidth": 2
           },
           "yaxis": {
            "backgroundcolor": "rgb(17,17,17)",
            "gridcolor": "#506784",
            "linecolor": "#506784",
            "showbackground": true,
            "ticks": "",
            "zerolinecolor": "#C8D4E3",
            "gridwidth": 2
           },
           "zaxis": {
            "backgroundcolor": "rgb(17,17,17)",
            "gridcolor": "#506784",
            "linecolor": "#506784",
            "showbackground": true,
            "ticks": "",
            "zerolinecolor": "#C8D4E3",
            "gridwidth": 2
           }
          },
          "shapedefaults": {
           "line": {
            "color": "#f2f5fa"
           }
          },
          "annotationdefaults": {
           "arrowcolor": "#f2f5fa",
           "arrowhead": 0,
           "arrowwidth": 1
          },
          "geo": {
           "bgcolor": "rgb(17,17,17)",
           "landcolor": "rgb(17,17,17)",
           "subunitcolor": "#506784",
           "showland": true,
           "showlakes": true,
           "lakecolor": "rgb(17,17,17)"
          },
          "title": {
           "x": 0.05
          },
          "updatemenudefaults": {
           "bgcolor": "#506784",
           "borderwidth": 0
          },
          "sliderdefaults": {
           "bgcolor": "#C8D4E3",
           "borderwidth": 1,
           "bordercolor": "rgb(17,17,17)",
           "tickwidth": 0
          },
          "mapbox": {
           "style": "dark"
          }
         }
        },
        "xaxis": {
         "anchor": "y",
         "domain": [
          0.0,
          1.0
         ],
         "title": {
          "text": "Month"
         },
         "showline": true,
         "showgrid": false,
         "showticklabels": true,
         "type": "category",
         "tickmode": "array",
         "tickvals": [
          1,
          2,
          3,
          4,
          5,
          6,
          7,
          8,
          9,
          10,
          11,
          12
         ],
         "ticktext": [
          "Jan",
          "Feb",
          "Mar",
          "Apr",
          "May",
          "Jun",
          "Jul",
          "Aug",
          "Sep",
          "Oct",
          "Nov",
          "Dec"
         ]
        },
        "yaxis": {
         "anchor": "x",
         "domain": [
          0.0,
          1.0
         ],
         "title": {
          "text": "Number of Violations"
         }
        },
        "legend": {
         "tracegroupgap": 0
        },
        "title": {
         "text": "Number of Tickets Issued by Month"
        }
       },
       "config": {
        "plotlyServerURL": "https://plot.ly"
       }
      },
      "text/html": "<div>                            <div id=\"d82abe18-194c-40ee-9c4b-54fefd5e3fbe\" class=\"plotly-graph-div\" style=\"height:525px; width:100%;\"></div>            <script type=\"text/javascript\">                require([\"plotly\"], function(Plotly) {                    window.PLOTLYENV=window.PLOTLYENV || {};                                    if (document.getElementById(\"d82abe18-194c-40ee-9c4b-54fefd5e3fbe\")) {                    Plotly.newPlot(                        \"d82abe18-194c-40ee-9c4b-54fefd5e3fbe\",                        [{\"hovertemplate\":\"Month=%{x}<br>Number of Violations=%{y}<extra></extra>\",\"legendgroup\":\"\",\"line\":{\"color\":\"#636efa\",\"dash\":\"solid\"},\"marker\":{\"symbol\":\"circle\"},\"mode\":\"lines\",\"name\":\"\",\"orientation\":\"v\",\"showlegend\":false,\"x\":[1,2,3,4,5,6,7,8,9,10,11,12],\"xaxis\":\"x\",\"y\":[82851,89655,64615,62436,65544,67868,72744,77259,81512,80907,68850,95676],\"yaxis\":\"y\",\"type\":\"scatter\"}],                        {\"template\":{\"data\":{\"histogram2dcontour\":[{\"type\":\"histogram2dcontour\",\"colorbar\":{\"outlinewidth\":0,\"ticks\":\"\"},\"colorscale\":[[0.0,\"#0d0887\"],[0.1111111111111111,\"#46039f\"],[0.2222222222222222,\"#7201a8\"],[0.3333333333333333,\"#9c179e\"],[0.4444444444444444,\"#bd3786\"],[0.5555555555555556,\"#d8576b\"],[0.6666666666666666,\"#ed7953\"],[0.7777777777777778,\"#fb9f3a\"],[0.8888888888888888,\"#fdca26\"],[1.0,\"#f0f921\"]]}],\"choropleth\":[{\"type\":\"choropleth\",\"colorbar\":{\"outlinewidth\":0,\"ticks\":\"\"}}],\"histogram2d\":[{\"type\":\"histogram2d\",\"colorbar\":{\"outlinewidth\":0,\"ticks\":\"\"},\"colorscale\":[[0.0,\"#0d0887\"],[0.1111111111111111,\"#46039f\"],[0.2222222222222222,\"#7201a8\"],[0.3333333333333333,\"#9c179e\"],[0.4444444444444444,\"#bd3786\"],[0.5555555555555556,\"#d8576b\"],[0.6666666666666666,\"#ed7953\"],[0.7777777777777778,\"#fb9f3a\"],[0.8888888888888888,\"#fdca26\"],[1.0,\"#f0f921\"]]}],\"heatmap\":[{\"type\":\"heatmap\",\"colorbar\":{\"outlinewidth\":0,\"ticks\":\"\"},\"colorscale\":[[0.0,\"#0d0887\"],[0.1111111111111111,\"#46039f\"],[0.2222222222222222,\"#7201a8\"],[0.3333333333333333,\"#9c179e\"],[0.4444444444444444,\"#bd3786\"],[0.5555555555555556,\"#d8576b\"],[0.6666666666666666,\"#ed7953\"],[0.7777777777777778,\"#fb9f3a\"],[0.8888888888888888,\"#fdca26\"],[1.0,\"#f0f921\"]]}],\"heatmapgl\":[{\"type\":\"heatmapgl\",\"colorbar\":{\"outlinewidth\":0,\"ticks\":\"\"},\"colorscale\":[[0.0,\"#0d0887\"],[0.1111111111111111,\"#46039f\"],[0.2222222222222222,\"#7201a8\"],[0.3333333333333333,\"#9c179e\"],[0.4444444444444444,\"#bd3786\"],[0.5555555555555556,\"#d8576b\"],[0.6666666666666666,\"#ed7953\"],[0.7777777777777778,\"#fb9f3a\"],[0.8888888888888888,\"#fdca26\"],[1.0,\"#f0f921\"]]}],\"contourcarpet\":[{\"type\":\"contourcarpet\",\"colorbar\":{\"outlinewidth\":0,\"ticks\":\"\"}}],\"contour\":[{\"type\":\"contour\",\"colorbar\":{\"outlinewidth\":0,\"ticks\":\"\"},\"colorscale\":[[0.0,\"#0d0887\"],[0.1111111111111111,\"#46039f\"],[0.2222222222222222,\"#7201a8\"],[0.3333333333333333,\"#9c179e\"],[0.4444444444444444,\"#bd3786\"],[0.5555555555555556,\"#d8576b\"],[0.6666666666666666,\"#ed7953\"],[0.7777777777777778,\"#fb9f3a\"],[0.8888888888888888,\"#fdca26\"],[1.0,\"#f0f921\"]]}],\"surface\":[{\"type\":\"surface\",\"colorbar\":{\"outlinewidth\":0,\"ticks\":\"\"},\"colorscale\":[[0.0,\"#0d0887\"],[0.1111111111111111,\"#46039f\"],[0.2222222222222222,\"#7201a8\"],[0.3333333333333333,\"#9c179e\"],[0.4444444444444444,\"#bd3786\"],[0.5555555555555556,\"#d8576b\"],[0.6666666666666666,\"#ed7953\"],[0.7777777777777778,\"#fb9f3a\"],[0.8888888888888888,\"#fdca26\"],[1.0,\"#f0f921\"]]}],\"mesh3d\":[{\"type\":\"mesh3d\",\"colorbar\":{\"outlinewidth\":0,\"ticks\":\"\"}}],\"scatter\":[{\"marker\":{\"line\":{\"color\":\"#283442\"}},\"type\":\"scatter\"}],\"parcoords\":[{\"type\":\"parcoords\",\"line\":{\"colorbar\":{\"outlinewidth\":0,\"ticks\":\"\"}}}],\"scatterpolargl\":[{\"type\":\"scatterpolargl\",\"marker\":{\"colorbar\":{\"outlinewidth\":0,\"ticks\":\"\"}}}],\"bar\":[{\"error_x\":{\"color\":\"#f2f5fa\"},\"error_y\":{\"color\":\"#f2f5fa\"},\"marker\":{\"line\":{\"color\":\"rgb(17,17,17)\",\"width\":0.5},\"pattern\":{\"fillmode\":\"overlay\",\"size\":10,\"solidity\":0.2}},\"type\":\"bar\"}],\"scattergeo\":[{\"type\":\"scattergeo\",\"marker\":{\"colorbar\":{\"outlinewidth\":0,\"ticks\":\"\"}}}],\"scatterpolar\":[{\"type\":\"scatterpolar\",\"marker\":{\"colorbar\":{\"outlinewidth\":0,\"ticks\":\"\"}}}],\"histogram\":[{\"marker\":{\"pattern\":{\"fillmode\":\"overlay\",\"size\":10,\"solidity\":0.2}},\"type\":\"histogram\"}],\"scattergl\":[{\"marker\":{\"line\":{\"color\":\"#283442\"}},\"type\":\"scattergl\"}],\"scatter3d\":[{\"type\":\"scatter3d\",\"line\":{\"colorbar\":{\"outlinewidth\":0,\"ticks\":\"\"}},\"marker\":{\"colorbar\":{\"outlinewidth\":0,\"ticks\":\"\"}}}],\"scattermapbox\":[{\"type\":\"scattermapbox\",\"marker\":{\"colorbar\":{\"outlinewidth\":0,\"ticks\":\"\"}}}],\"scatterternary\":[{\"type\":\"scatterternary\",\"marker\":{\"colorbar\":{\"outlinewidth\":0,\"ticks\":\"\"}}}],\"scattercarpet\":[{\"type\":\"scattercarpet\",\"marker\":{\"colorbar\":{\"outlinewidth\":0,\"ticks\":\"\"}}}],\"carpet\":[{\"aaxis\":{\"endlinecolor\":\"#A2B1C6\",\"gridcolor\":\"#506784\",\"linecolor\":\"#506784\",\"minorgridcolor\":\"#506784\",\"startlinecolor\":\"#A2B1C6\"},\"baxis\":{\"endlinecolor\":\"#A2B1C6\",\"gridcolor\":\"#506784\",\"linecolor\":\"#506784\",\"minorgridcolor\":\"#506784\",\"startlinecolor\":\"#A2B1C6\"},\"type\":\"carpet\"}],\"table\":[{\"cells\":{\"fill\":{\"color\":\"#506784\"},\"line\":{\"color\":\"rgb(17,17,17)\"}},\"header\":{\"fill\":{\"color\":\"#2a3f5f\"},\"line\":{\"color\":\"rgb(17,17,17)\"}},\"type\":\"table\"}],\"barpolar\":[{\"marker\":{\"line\":{\"color\":\"rgb(17,17,17)\",\"width\":0.5},\"pattern\":{\"fillmode\":\"overlay\",\"size\":10,\"solidity\":0.2}},\"type\":\"barpolar\"}],\"pie\":[{\"automargin\":true,\"type\":\"pie\"}]},\"layout\":{\"autotypenumbers\":\"strict\",\"colorway\":[\"#636efa\",\"#EF553B\",\"#00cc96\",\"#ab63fa\",\"#FFA15A\",\"#19d3f3\",\"#FF6692\",\"#B6E880\",\"#FF97FF\",\"#FECB52\"],\"font\":{\"color\":\"#f2f5fa\"},\"hovermode\":\"closest\",\"hoverlabel\":{\"align\":\"left\"},\"paper_bgcolor\":\"rgb(17,17,17)\",\"plot_bgcolor\":\"rgb(17,17,17)\",\"polar\":{\"bgcolor\":\"rgb(17,17,17)\",\"angularaxis\":{\"gridcolor\":\"#506784\",\"linecolor\":\"#506784\",\"ticks\":\"\"},\"radialaxis\":{\"gridcolor\":\"#506784\",\"linecolor\":\"#506784\",\"ticks\":\"\"}},\"ternary\":{\"bgcolor\":\"rgb(17,17,17)\",\"aaxis\":{\"gridcolor\":\"#506784\",\"linecolor\":\"#506784\",\"ticks\":\"\"},\"baxis\":{\"gridcolor\":\"#506784\",\"linecolor\":\"#506784\",\"ticks\":\"\"},\"caxis\":{\"gridcolor\":\"#506784\",\"linecolor\":\"#506784\",\"ticks\":\"\"}},\"coloraxis\":{\"colorbar\":{\"outlinewidth\":0,\"ticks\":\"\"}},\"colorscale\":{\"sequential\":[[0.0,\"#0d0887\"],[0.1111111111111111,\"#46039f\"],[0.2222222222222222,\"#7201a8\"],[0.3333333333333333,\"#9c179e\"],[0.4444444444444444,\"#bd3786\"],[0.5555555555555556,\"#d8576b\"],[0.6666666666666666,\"#ed7953\"],[0.7777777777777778,\"#fb9f3a\"],[0.8888888888888888,\"#fdca26\"],[1.0,\"#f0f921\"]],\"sequentialminus\":[[0.0,\"#0d0887\"],[0.1111111111111111,\"#46039f\"],[0.2222222222222222,\"#7201a8\"],[0.3333333333333333,\"#9c179e\"],[0.4444444444444444,\"#bd3786\"],[0.5555555555555556,\"#d8576b\"],[0.6666666666666666,\"#ed7953\"],[0.7777777777777778,\"#fb9f3a\"],[0.8888888888888888,\"#fdca26\"],[1.0,\"#f0f921\"]],\"diverging\":[[0,\"#8e0152\"],[0.1,\"#c51b7d\"],[0.2,\"#de77ae\"],[0.3,\"#f1b6da\"],[0.4,\"#fde0ef\"],[0.5,\"#f7f7f7\"],[0.6,\"#e6f5d0\"],[0.7,\"#b8e186\"],[0.8,\"#7fbc41\"],[0.9,\"#4d9221\"],[1,\"#276419\"]]},\"xaxis\":{\"gridcolor\":\"#283442\",\"linecolor\":\"#506784\",\"ticks\":\"\",\"title\":{\"standoff\":15},\"zerolinecolor\":\"#283442\",\"automargin\":true,\"zerolinewidth\":2},\"yaxis\":{\"gridcolor\":\"#283442\",\"linecolor\":\"#506784\",\"ticks\":\"\",\"title\":{\"standoff\":15},\"zerolinecolor\":\"#283442\",\"automargin\":true,\"zerolinewidth\":2},\"scene\":{\"xaxis\":{\"backgroundcolor\":\"rgb(17,17,17)\",\"gridcolor\":\"#506784\",\"linecolor\":\"#506784\",\"showbackground\":true,\"ticks\":\"\",\"zerolinecolor\":\"#C8D4E3\",\"gridwidth\":2},\"yaxis\":{\"backgroundcolor\":\"rgb(17,17,17)\",\"gridcolor\":\"#506784\",\"linecolor\":\"#506784\",\"showbackground\":true,\"ticks\":\"\",\"zerolinecolor\":\"#C8D4E3\",\"gridwidth\":2},\"zaxis\":{\"backgroundcolor\":\"rgb(17,17,17)\",\"gridcolor\":\"#506784\",\"linecolor\":\"#506784\",\"showbackground\":true,\"ticks\":\"\",\"zerolinecolor\":\"#C8D4E3\",\"gridwidth\":2}},\"shapedefaults\":{\"line\":{\"color\":\"#f2f5fa\"}},\"annotationdefaults\":{\"arrowcolor\":\"#f2f5fa\",\"arrowhead\":0,\"arrowwidth\":1},\"geo\":{\"bgcolor\":\"rgb(17,17,17)\",\"landcolor\":\"rgb(17,17,17)\",\"subunitcolor\":\"#506784\",\"showland\":true,\"showlakes\":true,\"lakecolor\":\"rgb(17,17,17)\"},\"title\":{\"x\":0.05},\"updatemenudefaults\":{\"bgcolor\":\"#506784\",\"borderwidth\":0},\"sliderdefaults\":{\"bgcolor\":\"#C8D4E3\",\"borderwidth\":1,\"bordercolor\":\"rgb(17,17,17)\",\"tickwidth\":0},\"mapbox\":{\"style\":\"dark\"}}},\"xaxis\":{\"anchor\":\"y\",\"domain\":[0.0,1.0],\"title\":{\"text\":\"Month\"},\"showline\":true,\"showgrid\":false,\"showticklabels\":true,\"type\":\"category\",\"tickmode\":\"array\",\"tickvals\":[1,2,3,4,5,6,7,8,9,10,11,12],\"ticktext\":[\"Jan\",\"Feb\",\"Mar\",\"Apr\",\"May\",\"Jun\",\"Jul\",\"Aug\",\"Sep\",\"Oct\",\"Nov\",\"Dec\"]},\"yaxis\":{\"anchor\":\"x\",\"domain\":[0.0,1.0],\"title\":{\"text\":\"Number of Violations\"}},\"legend\":{\"tracegroupgap\":0},\"title\":{\"text\":\"Number of Tickets Issued by Month\"}},                        {\"responsive\": true}                    ).then(function(){\n                            \nvar gd = document.getElementById('d82abe18-194c-40ee-9c4b-54fefd5e3fbe');\nvar x = new MutationObserver(function (mutations, observer) {{\n        var display = window.getComputedStyle(gd).display;\n        if (!display || display === 'none') {{\n            console.log([gd, 'removed!']);\n            Plotly.purge(gd);\n            observer.disconnect();\n        }}\n}});\n\n// Listen for the removal of the full notebook cells\nvar notebookContainer = gd.closest('#notebook-container');\nif (notebookContainer) {{\n    x.observe(notebookContainer, {childList: true});\n}}\n\n// Listen for the clearing of the current output cell\nvar outputEl = gd.closest('.output');\nif (outputEl) {{\n    x.observe(outputEl, {childList: true});\n}}\n\n                        })                };                });            </script>        </div>"
     },
     "metadata": {},
     "output_type": "display_data"
    }
   ],
   "source": [
    "fig = px.line(tickets_by_month, x='Month',y='count',\n",
    "             title='Number of Tickets Issued by Month',\n",
    "             labels={'count': 'Number of Violations'},\n",
    "              )\n",
    "fig.update_layout(\n",
    "    xaxis=dict(\n",
    "        showline=True,\n",
    "        showgrid=False,\n",
    "        showticklabels=True,\n",
    "        type='category',\n",
    "        tickmode='array',\n",
    "        tickvals=[1, 2, 3, 4, 5, 6, 7, 8, 9, 10, 11, 12],\n",
    "        ticktext=['Jan', 'Feb', 'Mar', 'Apr', 'May', 'Jun', 'Jul', 'Aug', 'Sep', 'Oct', 'Nov', 'Dec']\n",
    "    )\n",
    ")\n",
    "fig"
   ],
   "metadata": {
    "collapsed": false,
    "pycharm": {
     "name": "#%%\n"
    }
   }
  },
  {
   "cell_type": "code",
   "execution_count": null,
   "outputs": [],
   "source": [],
   "metadata": {
    "collapsed": false,
    "pycharm": {
     "name": "#%%\n"
    }
   }
  },
  {
   "cell_type": "code",
   "execution_count": 76,
   "outputs": [],
   "source": [
    "import plotly.graph_objects as go"
   ],
   "metadata": {
    "collapsed": false,
    "pycharm": {
     "name": "#%%\n"
    }
   }
  },
  {
   "cell_type": "code",
   "execution_count": 90,
   "outputs": [
    {
     "data": {
      "application/vnd.plotly.v1+json": {
       "data": [
        {
         "hovertemplate": "Month=%{x}<br>Number of Tickets=%{y}<extra></extra>",
         "legendgroup": "",
         "line": {
          "color": "#636efa",
          "dash": "solid"
         },
         "marker": {
          "symbol": "circle"
         },
         "mode": "lines+markers",
         "name": "",
         "orientation": "v",
         "showlegend": false,
         "x": [
          1,
          2,
          3,
          4,
          5,
          6,
          7,
          8,
          9,
          10,
          11,
          12
         ],
         "xaxis": "x",
         "y": [
          82851,
          89655,
          64615,
          62436,
          65544,
          67868,
          72744,
          77259,
          81512,
          80907,
          68850,
          95676
         ],
         "yaxis": "y",
         "type": "scatter"
        }
       ],
       "layout": {
        "template": {
         "data": {
          "histogram2dcontour": [
           {
            "type": "histogram2dcontour",
            "colorbar": {
             "outlinewidth": 0,
             "ticks": ""
            },
            "colorscale": [
             [
              0.0,
              "#0d0887"
             ],
             [
              0.1111111111111111,
              "#46039f"
             ],
             [
              0.2222222222222222,
              "#7201a8"
             ],
             [
              0.3333333333333333,
              "#9c179e"
             ],
             [
              0.4444444444444444,
              "#bd3786"
             ],
             [
              0.5555555555555556,
              "#d8576b"
             ],
             [
              0.6666666666666666,
              "#ed7953"
             ],
             [
              0.7777777777777778,
              "#fb9f3a"
             ],
             [
              0.8888888888888888,
              "#fdca26"
             ],
             [
              1.0,
              "#f0f921"
             ]
            ]
           }
          ],
          "choropleth": [
           {
            "type": "choropleth",
            "colorbar": {
             "outlinewidth": 0,
             "ticks": ""
            }
           }
          ],
          "histogram2d": [
           {
            "type": "histogram2d",
            "colorbar": {
             "outlinewidth": 0,
             "ticks": ""
            },
            "colorscale": [
             [
              0.0,
              "#0d0887"
             ],
             [
              0.1111111111111111,
              "#46039f"
             ],
             [
              0.2222222222222222,
              "#7201a8"
             ],
             [
              0.3333333333333333,
              "#9c179e"
             ],
             [
              0.4444444444444444,
              "#bd3786"
             ],
             [
              0.5555555555555556,
              "#d8576b"
             ],
             [
              0.6666666666666666,
              "#ed7953"
             ],
             [
              0.7777777777777778,
              "#fb9f3a"
             ],
             [
              0.8888888888888888,
              "#fdca26"
             ],
             [
              1.0,
              "#f0f921"
             ]
            ]
           }
          ],
          "heatmap": [
           {
            "type": "heatmap",
            "colorbar": {
             "outlinewidth": 0,
             "ticks": ""
            },
            "colorscale": [
             [
              0.0,
              "#0d0887"
             ],
             [
              0.1111111111111111,
              "#46039f"
             ],
             [
              0.2222222222222222,
              "#7201a8"
             ],
             [
              0.3333333333333333,
              "#9c179e"
             ],
             [
              0.4444444444444444,
              "#bd3786"
             ],
             [
              0.5555555555555556,
              "#d8576b"
             ],
             [
              0.6666666666666666,
              "#ed7953"
             ],
             [
              0.7777777777777778,
              "#fb9f3a"
             ],
             [
              0.8888888888888888,
              "#fdca26"
             ],
             [
              1.0,
              "#f0f921"
             ]
            ]
           }
          ],
          "heatmapgl": [
           {
            "type": "heatmapgl",
            "colorbar": {
             "outlinewidth": 0,
             "ticks": ""
            },
            "colorscale": [
             [
              0.0,
              "#0d0887"
             ],
             [
              0.1111111111111111,
              "#46039f"
             ],
             [
              0.2222222222222222,
              "#7201a8"
             ],
             [
              0.3333333333333333,
              "#9c179e"
             ],
             [
              0.4444444444444444,
              "#bd3786"
             ],
             [
              0.5555555555555556,
              "#d8576b"
             ],
             [
              0.6666666666666666,
              "#ed7953"
             ],
             [
              0.7777777777777778,
              "#fb9f3a"
             ],
             [
              0.8888888888888888,
              "#fdca26"
             ],
             [
              1.0,
              "#f0f921"
             ]
            ]
           }
          ],
          "contourcarpet": [
           {
            "type": "contourcarpet",
            "colorbar": {
             "outlinewidth": 0,
             "ticks": ""
            }
           }
          ],
          "contour": [
           {
            "type": "contour",
            "colorbar": {
             "outlinewidth": 0,
             "ticks": ""
            },
            "colorscale": [
             [
              0.0,
              "#0d0887"
             ],
             [
              0.1111111111111111,
              "#46039f"
             ],
             [
              0.2222222222222222,
              "#7201a8"
             ],
             [
              0.3333333333333333,
              "#9c179e"
             ],
             [
              0.4444444444444444,
              "#bd3786"
             ],
             [
              0.5555555555555556,
              "#d8576b"
             ],
             [
              0.6666666666666666,
              "#ed7953"
             ],
             [
              0.7777777777777778,
              "#fb9f3a"
             ],
             [
              0.8888888888888888,
              "#fdca26"
             ],
             [
              1.0,
              "#f0f921"
             ]
            ]
           }
          ],
          "surface": [
           {
            "type": "surface",
            "colorbar": {
             "outlinewidth": 0,
             "ticks": ""
            },
            "colorscale": [
             [
              0.0,
              "#0d0887"
             ],
             [
              0.1111111111111111,
              "#46039f"
             ],
             [
              0.2222222222222222,
              "#7201a8"
             ],
             [
              0.3333333333333333,
              "#9c179e"
             ],
             [
              0.4444444444444444,
              "#bd3786"
             ],
             [
              0.5555555555555556,
              "#d8576b"
             ],
             [
              0.6666666666666666,
              "#ed7953"
             ],
             [
              0.7777777777777778,
              "#fb9f3a"
             ],
             [
              0.8888888888888888,
              "#fdca26"
             ],
             [
              1.0,
              "#f0f921"
             ]
            ]
           }
          ],
          "mesh3d": [
           {
            "type": "mesh3d",
            "colorbar": {
             "outlinewidth": 0,
             "ticks": ""
            }
           }
          ],
          "scatter": [
           {
            "marker": {
             "line": {
              "color": "#283442"
             }
            },
            "type": "scatter"
           }
          ],
          "parcoords": [
           {
            "type": "parcoords",
            "line": {
             "colorbar": {
              "outlinewidth": 0,
              "ticks": ""
             }
            }
           }
          ],
          "scatterpolargl": [
           {
            "type": "scatterpolargl",
            "marker": {
             "colorbar": {
              "outlinewidth": 0,
              "ticks": ""
             }
            }
           }
          ],
          "bar": [
           {
            "error_x": {
             "color": "#f2f5fa"
            },
            "error_y": {
             "color": "#f2f5fa"
            },
            "marker": {
             "line": {
              "color": "rgb(17,17,17)",
              "width": 0.5
             },
             "pattern": {
              "fillmode": "overlay",
              "size": 10,
              "solidity": 0.2
             }
            },
            "type": "bar"
           }
          ],
          "scattergeo": [
           {
            "type": "scattergeo",
            "marker": {
             "colorbar": {
              "outlinewidth": 0,
              "ticks": ""
             }
            }
           }
          ],
          "scatterpolar": [
           {
            "type": "scatterpolar",
            "marker": {
             "colorbar": {
              "outlinewidth": 0,
              "ticks": ""
             }
            }
           }
          ],
          "histogram": [
           {
            "marker": {
             "pattern": {
              "fillmode": "overlay",
              "size": 10,
              "solidity": 0.2
             }
            },
            "type": "histogram"
           }
          ],
          "scattergl": [
           {
            "marker": {
             "line": {
              "color": "#283442"
             }
            },
            "type": "scattergl"
           }
          ],
          "scatter3d": [
           {
            "type": "scatter3d",
            "line": {
             "colorbar": {
              "outlinewidth": 0,
              "ticks": ""
             }
            },
            "marker": {
             "colorbar": {
              "outlinewidth": 0,
              "ticks": ""
             }
            }
           }
          ],
          "scattermapbox": [
           {
            "type": "scattermapbox",
            "marker": {
             "colorbar": {
              "outlinewidth": 0,
              "ticks": ""
             }
            }
           }
          ],
          "scatterternary": [
           {
            "type": "scatterternary",
            "marker": {
             "colorbar": {
              "outlinewidth": 0,
              "ticks": ""
             }
            }
           }
          ],
          "scattercarpet": [
           {
            "type": "scattercarpet",
            "marker": {
             "colorbar": {
              "outlinewidth": 0,
              "ticks": ""
             }
            }
           }
          ],
          "carpet": [
           {
            "aaxis": {
             "endlinecolor": "#A2B1C6",
             "gridcolor": "#506784",
             "linecolor": "#506784",
             "minorgridcolor": "#506784",
             "startlinecolor": "#A2B1C6"
            },
            "baxis": {
             "endlinecolor": "#A2B1C6",
             "gridcolor": "#506784",
             "linecolor": "#506784",
             "minorgridcolor": "#506784",
             "startlinecolor": "#A2B1C6"
            },
            "type": "carpet"
           }
          ],
          "table": [
           {
            "cells": {
             "fill": {
              "color": "#506784"
             },
             "line": {
              "color": "rgb(17,17,17)"
             }
            },
            "header": {
             "fill": {
              "color": "#2a3f5f"
             },
             "line": {
              "color": "rgb(17,17,17)"
             }
            },
            "type": "table"
           }
          ],
          "barpolar": [
           {
            "marker": {
             "line": {
              "color": "rgb(17,17,17)",
              "width": 0.5
             },
             "pattern": {
              "fillmode": "overlay",
              "size": 10,
              "solidity": 0.2
             }
            },
            "type": "barpolar"
           }
          ],
          "pie": [
           {
            "automargin": true,
            "type": "pie"
           }
          ]
         },
         "layout": {
          "autotypenumbers": "strict",
          "colorway": [
           "#636efa",
           "#EF553B",
           "#00cc96",
           "#ab63fa",
           "#FFA15A",
           "#19d3f3",
           "#FF6692",
           "#B6E880",
           "#FF97FF",
           "#FECB52"
          ],
          "font": {
           "color": "#f2f5fa"
          },
          "hovermode": "closest",
          "hoverlabel": {
           "align": "left"
          },
          "paper_bgcolor": "rgb(17,17,17)",
          "plot_bgcolor": "rgb(17,17,17)",
          "polar": {
           "bgcolor": "rgb(17,17,17)",
           "angularaxis": {
            "gridcolor": "#506784",
            "linecolor": "#506784",
            "ticks": ""
           },
           "radialaxis": {
            "gridcolor": "#506784",
            "linecolor": "#506784",
            "ticks": ""
           }
          },
          "ternary": {
           "bgcolor": "rgb(17,17,17)",
           "aaxis": {
            "gridcolor": "#506784",
            "linecolor": "#506784",
            "ticks": ""
           },
           "baxis": {
            "gridcolor": "#506784",
            "linecolor": "#506784",
            "ticks": ""
           },
           "caxis": {
            "gridcolor": "#506784",
            "linecolor": "#506784",
            "ticks": ""
           }
          },
          "coloraxis": {
           "colorbar": {
            "outlinewidth": 0,
            "ticks": ""
           }
          },
          "colorscale": {
           "sequential": [
            [
             0.0,
             "#0d0887"
            ],
            [
             0.1111111111111111,
             "#46039f"
            ],
            [
             0.2222222222222222,
             "#7201a8"
            ],
            [
             0.3333333333333333,
             "#9c179e"
            ],
            [
             0.4444444444444444,
             "#bd3786"
            ],
            [
             0.5555555555555556,
             "#d8576b"
            ],
            [
             0.6666666666666666,
             "#ed7953"
            ],
            [
             0.7777777777777778,
             "#fb9f3a"
            ],
            [
             0.8888888888888888,
             "#fdca26"
            ],
            [
             1.0,
             "#f0f921"
            ]
           ],
           "sequentialminus": [
            [
             0.0,
             "#0d0887"
            ],
            [
             0.1111111111111111,
             "#46039f"
            ],
            [
             0.2222222222222222,
             "#7201a8"
            ],
            [
             0.3333333333333333,
             "#9c179e"
            ],
            [
             0.4444444444444444,
             "#bd3786"
            ],
            [
             0.5555555555555556,
             "#d8576b"
            ],
            [
             0.6666666666666666,
             "#ed7953"
            ],
            [
             0.7777777777777778,
             "#fb9f3a"
            ],
            [
             0.8888888888888888,
             "#fdca26"
            ],
            [
             1.0,
             "#f0f921"
            ]
           ],
           "diverging": [
            [
             0,
             "#8e0152"
            ],
            [
             0.1,
             "#c51b7d"
            ],
            [
             0.2,
             "#de77ae"
            ],
            [
             0.3,
             "#f1b6da"
            ],
            [
             0.4,
             "#fde0ef"
            ],
            [
             0.5,
             "#f7f7f7"
            ],
            [
             0.6,
             "#e6f5d0"
            ],
            [
             0.7,
             "#b8e186"
            ],
            [
             0.8,
             "#7fbc41"
            ],
            [
             0.9,
             "#4d9221"
            ],
            [
             1,
             "#276419"
            ]
           ]
          },
          "xaxis": {
           "gridcolor": "#283442",
           "linecolor": "#506784",
           "ticks": "",
           "title": {
            "standoff": 15
           },
           "zerolinecolor": "#283442",
           "automargin": true,
           "zerolinewidth": 2
          },
          "yaxis": {
           "gridcolor": "#283442",
           "linecolor": "#506784",
           "ticks": "",
           "title": {
            "standoff": 15
           },
           "zerolinecolor": "#283442",
           "automargin": true,
           "zerolinewidth": 2
          },
          "scene": {
           "xaxis": {
            "backgroundcolor": "rgb(17,17,17)",
            "gridcolor": "#506784",
            "linecolor": "#506784",
            "showbackground": true,
            "ticks": "",
            "zerolinecolor": "#C8D4E3",
            "gridwidth": 2
           },
           "yaxis": {
            "backgroundcolor": "rgb(17,17,17)",
            "gridcolor": "#506784",
            "linecolor": "#506784",
            "showbackground": true,
            "ticks": "",
            "zerolinecolor": "#C8D4E3",
            "gridwidth": 2
           },
           "zaxis": {
            "backgroundcolor": "rgb(17,17,17)",
            "gridcolor": "#506784",
            "linecolor": "#506784",
            "showbackground": true,
            "ticks": "",
            "zerolinecolor": "#C8D4E3",
            "gridwidth": 2
           }
          },
          "shapedefaults": {
           "line": {
            "color": "#f2f5fa"
           }
          },
          "annotationdefaults": {
           "arrowcolor": "#f2f5fa",
           "arrowhead": 0,
           "arrowwidth": 1
          },
          "geo": {
           "bgcolor": "rgb(17,17,17)",
           "landcolor": "rgb(17,17,17)",
           "subunitcolor": "#506784",
           "showland": true,
           "showlakes": true,
           "lakecolor": "rgb(17,17,17)"
          },
          "title": {
           "x": 0.05
          },
          "updatemenudefaults": {
           "bgcolor": "#506784",
           "borderwidth": 0
          },
          "sliderdefaults": {
           "bgcolor": "#C8D4E3",
           "borderwidth": 1,
           "bordercolor": "rgb(17,17,17)",
           "tickwidth": 0
          },
          "mapbox": {
           "style": "dark"
          }
         }
        },
        "xaxis": {
         "anchor": "y",
         "domain": [
          0.0,
          1.0
         ],
         "title": {
          "text": "Month"
         },
         "showline": true,
         "showgrid": false,
         "showticklabels": true,
         "type": "category",
         "tickmode": "array",
         "tickvals": [
          1,
          2,
          3,
          4,
          5,
          6,
          7,
          8,
          9,
          10,
          11,
          12
         ],
         "ticktext": [
          "Jan",
          "Feb",
          "Mar",
          "Apr",
          "May",
          "Jun",
          "Jul",
          "Aug",
          "Sep",
          "Oct",
          "Nov",
          "Dec"
         ]
        },
        "yaxis": {
         "anchor": "x",
         "domain": [
          0.0,
          1.0
         ],
         "title": {
          "text": "Number of Tickets"
         }
        },
        "legend": {
         "tracegroupgap": 0
        },
        "title": {
         "text": "Number of Parking Tickets Issued by Month"
        }
       },
       "config": {
        "plotlyServerURL": "https://plot.ly"
       }
      },
      "text/html": "<div>                            <div id=\"d3f2b594-7f14-498a-81c9-c110e48472a8\" class=\"plotly-graph-div\" style=\"height:525px; width:100%;\"></div>            <script type=\"text/javascript\">                require([\"plotly\"], function(Plotly) {                    window.PLOTLYENV=window.PLOTLYENV || {};                                    if (document.getElementById(\"d3f2b594-7f14-498a-81c9-c110e48472a8\")) {                    Plotly.newPlot(                        \"d3f2b594-7f14-498a-81c9-c110e48472a8\",                        [{\"hovertemplate\":\"Month=%{x}<br>Number of Tickets=%{y}<extra></extra>\",\"legendgroup\":\"\",\"line\":{\"color\":\"#636efa\",\"dash\":\"solid\"},\"marker\":{\"symbol\":\"circle\"},\"mode\":\"lines+markers\",\"name\":\"\",\"orientation\":\"v\",\"showlegend\":false,\"x\":[1,2,3,4,5,6,7,8,9,10,11,12],\"xaxis\":\"x\",\"y\":[82851,89655,64615,62436,65544,67868,72744,77259,81512,80907,68850,95676],\"yaxis\":\"y\",\"type\":\"scatter\"}],                        {\"template\":{\"data\":{\"histogram2dcontour\":[{\"type\":\"histogram2dcontour\",\"colorbar\":{\"outlinewidth\":0,\"ticks\":\"\"},\"colorscale\":[[0.0,\"#0d0887\"],[0.1111111111111111,\"#46039f\"],[0.2222222222222222,\"#7201a8\"],[0.3333333333333333,\"#9c179e\"],[0.4444444444444444,\"#bd3786\"],[0.5555555555555556,\"#d8576b\"],[0.6666666666666666,\"#ed7953\"],[0.7777777777777778,\"#fb9f3a\"],[0.8888888888888888,\"#fdca26\"],[1.0,\"#f0f921\"]]}],\"choropleth\":[{\"type\":\"choropleth\",\"colorbar\":{\"outlinewidth\":0,\"ticks\":\"\"}}],\"histogram2d\":[{\"type\":\"histogram2d\",\"colorbar\":{\"outlinewidth\":0,\"ticks\":\"\"},\"colorscale\":[[0.0,\"#0d0887\"],[0.1111111111111111,\"#46039f\"],[0.2222222222222222,\"#7201a8\"],[0.3333333333333333,\"#9c179e\"],[0.4444444444444444,\"#bd3786\"],[0.5555555555555556,\"#d8576b\"],[0.6666666666666666,\"#ed7953\"],[0.7777777777777778,\"#fb9f3a\"],[0.8888888888888888,\"#fdca26\"],[1.0,\"#f0f921\"]]}],\"heatmap\":[{\"type\":\"heatmap\",\"colorbar\":{\"outlinewidth\":0,\"ticks\":\"\"},\"colorscale\":[[0.0,\"#0d0887\"],[0.1111111111111111,\"#46039f\"],[0.2222222222222222,\"#7201a8\"],[0.3333333333333333,\"#9c179e\"],[0.4444444444444444,\"#bd3786\"],[0.5555555555555556,\"#d8576b\"],[0.6666666666666666,\"#ed7953\"],[0.7777777777777778,\"#fb9f3a\"],[0.8888888888888888,\"#fdca26\"],[1.0,\"#f0f921\"]]}],\"heatmapgl\":[{\"type\":\"heatmapgl\",\"colorbar\":{\"outlinewidth\":0,\"ticks\":\"\"},\"colorscale\":[[0.0,\"#0d0887\"],[0.1111111111111111,\"#46039f\"],[0.2222222222222222,\"#7201a8\"],[0.3333333333333333,\"#9c179e\"],[0.4444444444444444,\"#bd3786\"],[0.5555555555555556,\"#d8576b\"],[0.6666666666666666,\"#ed7953\"],[0.7777777777777778,\"#fb9f3a\"],[0.8888888888888888,\"#fdca26\"],[1.0,\"#f0f921\"]]}],\"contourcarpet\":[{\"type\":\"contourcarpet\",\"colorbar\":{\"outlinewidth\":0,\"ticks\":\"\"}}],\"contour\":[{\"type\":\"contour\",\"colorbar\":{\"outlinewidth\":0,\"ticks\":\"\"},\"colorscale\":[[0.0,\"#0d0887\"],[0.1111111111111111,\"#46039f\"],[0.2222222222222222,\"#7201a8\"],[0.3333333333333333,\"#9c179e\"],[0.4444444444444444,\"#bd3786\"],[0.5555555555555556,\"#d8576b\"],[0.6666666666666666,\"#ed7953\"],[0.7777777777777778,\"#fb9f3a\"],[0.8888888888888888,\"#fdca26\"],[1.0,\"#f0f921\"]]}],\"surface\":[{\"type\":\"surface\",\"colorbar\":{\"outlinewidth\":0,\"ticks\":\"\"},\"colorscale\":[[0.0,\"#0d0887\"],[0.1111111111111111,\"#46039f\"],[0.2222222222222222,\"#7201a8\"],[0.3333333333333333,\"#9c179e\"],[0.4444444444444444,\"#bd3786\"],[0.5555555555555556,\"#d8576b\"],[0.6666666666666666,\"#ed7953\"],[0.7777777777777778,\"#fb9f3a\"],[0.8888888888888888,\"#fdca26\"],[1.0,\"#f0f921\"]]}],\"mesh3d\":[{\"type\":\"mesh3d\",\"colorbar\":{\"outlinewidth\":0,\"ticks\":\"\"}}],\"scatter\":[{\"marker\":{\"line\":{\"color\":\"#283442\"}},\"type\":\"scatter\"}],\"parcoords\":[{\"type\":\"parcoords\",\"line\":{\"colorbar\":{\"outlinewidth\":0,\"ticks\":\"\"}}}],\"scatterpolargl\":[{\"type\":\"scatterpolargl\",\"marker\":{\"colorbar\":{\"outlinewidth\":0,\"ticks\":\"\"}}}],\"bar\":[{\"error_x\":{\"color\":\"#f2f5fa\"},\"error_y\":{\"color\":\"#f2f5fa\"},\"marker\":{\"line\":{\"color\":\"rgb(17,17,17)\",\"width\":0.5},\"pattern\":{\"fillmode\":\"overlay\",\"size\":10,\"solidity\":0.2}},\"type\":\"bar\"}],\"scattergeo\":[{\"type\":\"scattergeo\",\"marker\":{\"colorbar\":{\"outlinewidth\":0,\"ticks\":\"\"}}}],\"scatterpolar\":[{\"type\":\"scatterpolar\",\"marker\":{\"colorbar\":{\"outlinewidth\":0,\"ticks\":\"\"}}}],\"histogram\":[{\"marker\":{\"pattern\":{\"fillmode\":\"overlay\",\"size\":10,\"solidity\":0.2}},\"type\":\"histogram\"}],\"scattergl\":[{\"marker\":{\"line\":{\"color\":\"#283442\"}},\"type\":\"scattergl\"}],\"scatter3d\":[{\"type\":\"scatter3d\",\"line\":{\"colorbar\":{\"outlinewidth\":0,\"ticks\":\"\"}},\"marker\":{\"colorbar\":{\"outlinewidth\":0,\"ticks\":\"\"}}}],\"scattermapbox\":[{\"type\":\"scattermapbox\",\"marker\":{\"colorbar\":{\"outlinewidth\":0,\"ticks\":\"\"}}}],\"scatterternary\":[{\"type\":\"scatterternary\",\"marker\":{\"colorbar\":{\"outlinewidth\":0,\"ticks\":\"\"}}}],\"scattercarpet\":[{\"type\":\"scattercarpet\",\"marker\":{\"colorbar\":{\"outlinewidth\":0,\"ticks\":\"\"}}}],\"carpet\":[{\"aaxis\":{\"endlinecolor\":\"#A2B1C6\",\"gridcolor\":\"#506784\",\"linecolor\":\"#506784\",\"minorgridcolor\":\"#506784\",\"startlinecolor\":\"#A2B1C6\"},\"baxis\":{\"endlinecolor\":\"#A2B1C6\",\"gridcolor\":\"#506784\",\"linecolor\":\"#506784\",\"minorgridcolor\":\"#506784\",\"startlinecolor\":\"#A2B1C6\"},\"type\":\"carpet\"}],\"table\":[{\"cells\":{\"fill\":{\"color\":\"#506784\"},\"line\":{\"color\":\"rgb(17,17,17)\"}},\"header\":{\"fill\":{\"color\":\"#2a3f5f\"},\"line\":{\"color\":\"rgb(17,17,17)\"}},\"type\":\"table\"}],\"barpolar\":[{\"marker\":{\"line\":{\"color\":\"rgb(17,17,17)\",\"width\":0.5},\"pattern\":{\"fillmode\":\"overlay\",\"size\":10,\"solidity\":0.2}},\"type\":\"barpolar\"}],\"pie\":[{\"automargin\":true,\"type\":\"pie\"}]},\"layout\":{\"autotypenumbers\":\"strict\",\"colorway\":[\"#636efa\",\"#EF553B\",\"#00cc96\",\"#ab63fa\",\"#FFA15A\",\"#19d3f3\",\"#FF6692\",\"#B6E880\",\"#FF97FF\",\"#FECB52\"],\"font\":{\"color\":\"#f2f5fa\"},\"hovermode\":\"closest\",\"hoverlabel\":{\"align\":\"left\"},\"paper_bgcolor\":\"rgb(17,17,17)\",\"plot_bgcolor\":\"rgb(17,17,17)\",\"polar\":{\"bgcolor\":\"rgb(17,17,17)\",\"angularaxis\":{\"gridcolor\":\"#506784\",\"linecolor\":\"#506784\",\"ticks\":\"\"},\"radialaxis\":{\"gridcolor\":\"#506784\",\"linecolor\":\"#506784\",\"ticks\":\"\"}},\"ternary\":{\"bgcolor\":\"rgb(17,17,17)\",\"aaxis\":{\"gridcolor\":\"#506784\",\"linecolor\":\"#506784\",\"ticks\":\"\"},\"baxis\":{\"gridcolor\":\"#506784\",\"linecolor\":\"#506784\",\"ticks\":\"\"},\"caxis\":{\"gridcolor\":\"#506784\",\"linecolor\":\"#506784\",\"ticks\":\"\"}},\"coloraxis\":{\"colorbar\":{\"outlinewidth\":0,\"ticks\":\"\"}},\"colorscale\":{\"sequential\":[[0.0,\"#0d0887\"],[0.1111111111111111,\"#46039f\"],[0.2222222222222222,\"#7201a8\"],[0.3333333333333333,\"#9c179e\"],[0.4444444444444444,\"#bd3786\"],[0.5555555555555556,\"#d8576b\"],[0.6666666666666666,\"#ed7953\"],[0.7777777777777778,\"#fb9f3a\"],[0.8888888888888888,\"#fdca26\"],[1.0,\"#f0f921\"]],\"sequentialminus\":[[0.0,\"#0d0887\"],[0.1111111111111111,\"#46039f\"],[0.2222222222222222,\"#7201a8\"],[0.3333333333333333,\"#9c179e\"],[0.4444444444444444,\"#bd3786\"],[0.5555555555555556,\"#d8576b\"],[0.6666666666666666,\"#ed7953\"],[0.7777777777777778,\"#fb9f3a\"],[0.8888888888888888,\"#fdca26\"],[1.0,\"#f0f921\"]],\"diverging\":[[0,\"#8e0152\"],[0.1,\"#c51b7d\"],[0.2,\"#de77ae\"],[0.3,\"#f1b6da\"],[0.4,\"#fde0ef\"],[0.5,\"#f7f7f7\"],[0.6,\"#e6f5d0\"],[0.7,\"#b8e186\"],[0.8,\"#7fbc41\"],[0.9,\"#4d9221\"],[1,\"#276419\"]]},\"xaxis\":{\"gridcolor\":\"#283442\",\"linecolor\":\"#506784\",\"ticks\":\"\",\"title\":{\"standoff\":15},\"zerolinecolor\":\"#283442\",\"automargin\":true,\"zerolinewidth\":2},\"yaxis\":{\"gridcolor\":\"#283442\",\"linecolor\":\"#506784\",\"ticks\":\"\",\"title\":{\"standoff\":15},\"zerolinecolor\":\"#283442\",\"automargin\":true,\"zerolinewidth\":2},\"scene\":{\"xaxis\":{\"backgroundcolor\":\"rgb(17,17,17)\",\"gridcolor\":\"#506784\",\"linecolor\":\"#506784\",\"showbackground\":true,\"ticks\":\"\",\"zerolinecolor\":\"#C8D4E3\",\"gridwidth\":2},\"yaxis\":{\"backgroundcolor\":\"rgb(17,17,17)\",\"gridcolor\":\"#506784\",\"linecolor\":\"#506784\",\"showbackground\":true,\"ticks\":\"\",\"zerolinecolor\":\"#C8D4E3\",\"gridwidth\":2},\"zaxis\":{\"backgroundcolor\":\"rgb(17,17,17)\",\"gridcolor\":\"#506784\",\"linecolor\":\"#506784\",\"showbackground\":true,\"ticks\":\"\",\"zerolinecolor\":\"#C8D4E3\",\"gridwidth\":2}},\"shapedefaults\":{\"line\":{\"color\":\"#f2f5fa\"}},\"annotationdefaults\":{\"arrowcolor\":\"#f2f5fa\",\"arrowhead\":0,\"arrowwidth\":1},\"geo\":{\"bgcolor\":\"rgb(17,17,17)\",\"landcolor\":\"rgb(17,17,17)\",\"subunitcolor\":\"#506784\",\"showland\":true,\"showlakes\":true,\"lakecolor\":\"rgb(17,17,17)\"},\"title\":{\"x\":0.05},\"updatemenudefaults\":{\"bgcolor\":\"#506784\",\"borderwidth\":0},\"sliderdefaults\":{\"bgcolor\":\"#C8D4E3\",\"borderwidth\":1,\"bordercolor\":\"rgb(17,17,17)\",\"tickwidth\":0},\"mapbox\":{\"style\":\"dark\"}}},\"xaxis\":{\"anchor\":\"y\",\"domain\":[0.0,1.0],\"title\":{\"text\":\"Month\"},\"showline\":true,\"showgrid\":false,\"showticklabels\":true,\"type\":\"category\",\"tickmode\":\"array\",\"tickvals\":[1,2,3,4,5,6,7,8,9,10,11,12],\"ticktext\":[\"Jan\",\"Feb\",\"Mar\",\"Apr\",\"May\",\"Jun\",\"Jul\",\"Aug\",\"Sep\",\"Oct\",\"Nov\",\"Dec\"]},\"yaxis\":{\"anchor\":\"x\",\"domain\":[0.0,1.0],\"title\":{\"text\":\"Number of Tickets\"}},\"legend\":{\"tracegroupgap\":0},\"title\":{\"text\":\"Number of Parking Tickets Issued by Month\"}},                        {\"responsive\": true}                    ).then(function(){\n                            \nvar gd = document.getElementById('d3f2b594-7f14-498a-81c9-c110e48472a8');\nvar x = new MutationObserver(function (mutations, observer) {{\n        var display = window.getComputedStyle(gd).display;\n        if (!display || display === 'none') {{\n            console.log([gd, 'removed!']);\n            Plotly.purge(gd);\n            observer.disconnect();\n        }}\n}});\n\n// Listen for the removal of the full notebook cells\nvar notebookContainer = gd.closest('#notebook-container');\nif (notebookContainer) {{\n    x.observe(notebookContainer, {childList: true});\n}}\n\n// Listen for the clearing of the current output cell\nvar outputEl = gd.closest('.output');\nif (outputEl) {{\n    x.observe(outputEl, {childList: true});\n}}\n\n                        })                };                });            </script>        </div>"
     },
     "metadata": {},
     "output_type": "display_data"
    }
   ],
   "source": [
    "fig = px.line(tickets_by_month,\n",
    "              x='Month',\n",
    "              y='count',\n",
    "              title='Number of Parking Tickets Issued by Month',\n",
    "              labels={'count': 'Number of Tickets'},\n",
    "              markers=True\n",
    "              )\n",
    "fig.update_layout(\n",
    "    xaxis=dict(\n",
    "        showline=True,\n",
    "        showgrid=False,\n",
    "        showticklabels=True,\n",
    "        type='category',\n",
    "        tickmode='array',\n",
    "        tickvals=[1, 2, 3, 4, 5, 6, 7, 8, 9, 10, 11, 12],\n",
    "        ticktext=['Jan', 'Feb', 'Mar', 'Apr', 'May', 'Jun', 'Jul', 'Aug', 'Sep', 'Oct', 'Nov', 'Dec'],\n",
    "    )\n",
    ")\n",
    "fig\n"
   ],
   "metadata": {
    "collapsed": false,
    "pycharm": {
     "name": "#%%\n"
    }
   }
  },
  {
   "cell_type": "code",
   "execution_count": 87,
   "outputs": [
    {
     "name": "stdout",
     "output_type": "stream",
     "text": [
      "    Year   count\n",
      "0   2011      24\n",
      "1   2013   58715\n",
      "2   2014  133775\n",
      "3   2015  127340\n",
      "4   2016  116409\n",
      "5   2017  127463\n",
      "6   2018  112286\n",
      "7   2019   98287\n",
      "8   2020   48969\n",
      "9   2021   31803\n",
      "10  2022   45949\n",
      "11  2023    8897\n"
     ]
    }
   ],
   "source": [
    "tickets_by_year = park_data[['Year']].groupby(['Year'])['Year'] \\\n",
    "                             .count() \\\n",
    "                             .reset_index(name='count') \\\n",
    "                             .head(50)\n",
    "print(tickets_by_year)"
   ],
   "metadata": {
    "collapsed": false,
    "pycharm": {
     "name": "#%%\n"
    }
   }
  },
  {
   "cell_type": "code",
   "execution_count": 89,
   "outputs": [
    {
     "data": {
      "application/vnd.plotly.v1+json": {
       "data": [
        {
         "hovertemplate": "Year=%{x}<br>Number of Tickets=%{y}<extra></extra>",
         "legendgroup": "",
         "line": {
          "color": "#636efa",
          "dash": "solid"
         },
         "marker": {
          "symbol": "circle"
         },
         "mode": "lines+markers",
         "name": "",
         "orientation": "v",
         "showlegend": false,
         "x": [
          2011,
          2013,
          2014,
          2015,
          2016,
          2017,
          2018,
          2019,
          2020,
          2021,
          2022,
          2023
         ],
         "xaxis": "x",
         "y": [
          24,
          58715,
          133775,
          127340,
          116409,
          127463,
          112286,
          98287,
          48969,
          31803,
          45949,
          8897
         ],
         "yaxis": "y",
         "type": "scatter"
        }
       ],
       "layout": {
        "template": {
         "data": {
          "histogram2dcontour": [
           {
            "type": "histogram2dcontour",
            "colorbar": {
             "outlinewidth": 0,
             "ticks": ""
            },
            "colorscale": [
             [
              0.0,
              "#0d0887"
             ],
             [
              0.1111111111111111,
              "#46039f"
             ],
             [
              0.2222222222222222,
              "#7201a8"
             ],
             [
              0.3333333333333333,
              "#9c179e"
             ],
             [
              0.4444444444444444,
              "#bd3786"
             ],
             [
              0.5555555555555556,
              "#d8576b"
             ],
             [
              0.6666666666666666,
              "#ed7953"
             ],
             [
              0.7777777777777778,
              "#fb9f3a"
             ],
             [
              0.8888888888888888,
              "#fdca26"
             ],
             [
              1.0,
              "#f0f921"
             ]
            ]
           }
          ],
          "choropleth": [
           {
            "type": "choropleth",
            "colorbar": {
             "outlinewidth": 0,
             "ticks": ""
            }
           }
          ],
          "histogram2d": [
           {
            "type": "histogram2d",
            "colorbar": {
             "outlinewidth": 0,
             "ticks": ""
            },
            "colorscale": [
             [
              0.0,
              "#0d0887"
             ],
             [
              0.1111111111111111,
              "#46039f"
             ],
             [
              0.2222222222222222,
              "#7201a8"
             ],
             [
              0.3333333333333333,
              "#9c179e"
             ],
             [
              0.4444444444444444,
              "#bd3786"
             ],
             [
              0.5555555555555556,
              "#d8576b"
             ],
             [
              0.6666666666666666,
              "#ed7953"
             ],
             [
              0.7777777777777778,
              "#fb9f3a"
             ],
             [
              0.8888888888888888,
              "#fdca26"
             ],
             [
              1.0,
              "#f0f921"
             ]
            ]
           }
          ],
          "heatmap": [
           {
            "type": "heatmap",
            "colorbar": {
             "outlinewidth": 0,
             "ticks": ""
            },
            "colorscale": [
             [
              0.0,
              "#0d0887"
             ],
             [
              0.1111111111111111,
              "#46039f"
             ],
             [
              0.2222222222222222,
              "#7201a8"
             ],
             [
              0.3333333333333333,
              "#9c179e"
             ],
             [
              0.4444444444444444,
              "#bd3786"
             ],
             [
              0.5555555555555556,
              "#d8576b"
             ],
             [
              0.6666666666666666,
              "#ed7953"
             ],
             [
              0.7777777777777778,
              "#fb9f3a"
             ],
             [
              0.8888888888888888,
              "#fdca26"
             ],
             [
              1.0,
              "#f0f921"
             ]
            ]
           }
          ],
          "heatmapgl": [
           {
            "type": "heatmapgl",
            "colorbar": {
             "outlinewidth": 0,
             "ticks": ""
            },
            "colorscale": [
             [
              0.0,
              "#0d0887"
             ],
             [
              0.1111111111111111,
              "#46039f"
             ],
             [
              0.2222222222222222,
              "#7201a8"
             ],
             [
              0.3333333333333333,
              "#9c179e"
             ],
             [
              0.4444444444444444,
              "#bd3786"
             ],
             [
              0.5555555555555556,
              "#d8576b"
             ],
             [
              0.6666666666666666,
              "#ed7953"
             ],
             [
              0.7777777777777778,
              "#fb9f3a"
             ],
             [
              0.8888888888888888,
              "#fdca26"
             ],
             [
              1.0,
              "#f0f921"
             ]
            ]
           }
          ],
          "contourcarpet": [
           {
            "type": "contourcarpet",
            "colorbar": {
             "outlinewidth": 0,
             "ticks": ""
            }
           }
          ],
          "contour": [
           {
            "type": "contour",
            "colorbar": {
             "outlinewidth": 0,
             "ticks": ""
            },
            "colorscale": [
             [
              0.0,
              "#0d0887"
             ],
             [
              0.1111111111111111,
              "#46039f"
             ],
             [
              0.2222222222222222,
              "#7201a8"
             ],
             [
              0.3333333333333333,
              "#9c179e"
             ],
             [
              0.4444444444444444,
              "#bd3786"
             ],
             [
              0.5555555555555556,
              "#d8576b"
             ],
             [
              0.6666666666666666,
              "#ed7953"
             ],
             [
              0.7777777777777778,
              "#fb9f3a"
             ],
             [
              0.8888888888888888,
              "#fdca26"
             ],
             [
              1.0,
              "#f0f921"
             ]
            ]
           }
          ],
          "surface": [
           {
            "type": "surface",
            "colorbar": {
             "outlinewidth": 0,
             "ticks": ""
            },
            "colorscale": [
             [
              0.0,
              "#0d0887"
             ],
             [
              0.1111111111111111,
              "#46039f"
             ],
             [
              0.2222222222222222,
              "#7201a8"
             ],
             [
              0.3333333333333333,
              "#9c179e"
             ],
             [
              0.4444444444444444,
              "#bd3786"
             ],
             [
              0.5555555555555556,
              "#d8576b"
             ],
             [
              0.6666666666666666,
              "#ed7953"
             ],
             [
              0.7777777777777778,
              "#fb9f3a"
             ],
             [
              0.8888888888888888,
              "#fdca26"
             ],
             [
              1.0,
              "#f0f921"
             ]
            ]
           }
          ],
          "mesh3d": [
           {
            "type": "mesh3d",
            "colorbar": {
             "outlinewidth": 0,
             "ticks": ""
            }
           }
          ],
          "scatter": [
           {
            "marker": {
             "line": {
              "color": "#283442"
             }
            },
            "type": "scatter"
           }
          ],
          "parcoords": [
           {
            "type": "parcoords",
            "line": {
             "colorbar": {
              "outlinewidth": 0,
              "ticks": ""
             }
            }
           }
          ],
          "scatterpolargl": [
           {
            "type": "scatterpolargl",
            "marker": {
             "colorbar": {
              "outlinewidth": 0,
              "ticks": ""
             }
            }
           }
          ],
          "bar": [
           {
            "error_x": {
             "color": "#f2f5fa"
            },
            "error_y": {
             "color": "#f2f5fa"
            },
            "marker": {
             "line": {
              "color": "rgb(17,17,17)",
              "width": 0.5
             },
             "pattern": {
              "fillmode": "overlay",
              "size": 10,
              "solidity": 0.2
             }
            },
            "type": "bar"
           }
          ],
          "scattergeo": [
           {
            "type": "scattergeo",
            "marker": {
             "colorbar": {
              "outlinewidth": 0,
              "ticks": ""
             }
            }
           }
          ],
          "scatterpolar": [
           {
            "type": "scatterpolar",
            "marker": {
             "colorbar": {
              "outlinewidth": 0,
              "ticks": ""
             }
            }
           }
          ],
          "histogram": [
           {
            "marker": {
             "pattern": {
              "fillmode": "overlay",
              "size": 10,
              "solidity": 0.2
             }
            },
            "type": "histogram"
           }
          ],
          "scattergl": [
           {
            "marker": {
             "line": {
              "color": "#283442"
             }
            },
            "type": "scattergl"
           }
          ],
          "scatter3d": [
           {
            "type": "scatter3d",
            "line": {
             "colorbar": {
              "outlinewidth": 0,
              "ticks": ""
             }
            },
            "marker": {
             "colorbar": {
              "outlinewidth": 0,
              "ticks": ""
             }
            }
           }
          ],
          "scattermapbox": [
           {
            "type": "scattermapbox",
            "marker": {
             "colorbar": {
              "outlinewidth": 0,
              "ticks": ""
             }
            }
           }
          ],
          "scatterternary": [
           {
            "type": "scatterternary",
            "marker": {
             "colorbar": {
              "outlinewidth": 0,
              "ticks": ""
             }
            }
           }
          ],
          "scattercarpet": [
           {
            "type": "scattercarpet",
            "marker": {
             "colorbar": {
              "outlinewidth": 0,
              "ticks": ""
             }
            }
           }
          ],
          "carpet": [
           {
            "aaxis": {
             "endlinecolor": "#A2B1C6",
             "gridcolor": "#506784",
             "linecolor": "#506784",
             "minorgridcolor": "#506784",
             "startlinecolor": "#A2B1C6"
            },
            "baxis": {
             "endlinecolor": "#A2B1C6",
             "gridcolor": "#506784",
             "linecolor": "#506784",
             "minorgridcolor": "#506784",
             "startlinecolor": "#A2B1C6"
            },
            "type": "carpet"
           }
          ],
          "table": [
           {
            "cells": {
             "fill": {
              "color": "#506784"
             },
             "line": {
              "color": "rgb(17,17,17)"
             }
            },
            "header": {
             "fill": {
              "color": "#2a3f5f"
             },
             "line": {
              "color": "rgb(17,17,17)"
             }
            },
            "type": "table"
           }
          ],
          "barpolar": [
           {
            "marker": {
             "line": {
              "color": "rgb(17,17,17)",
              "width": 0.5
             },
             "pattern": {
              "fillmode": "overlay",
              "size": 10,
              "solidity": 0.2
             }
            },
            "type": "barpolar"
           }
          ],
          "pie": [
           {
            "automargin": true,
            "type": "pie"
           }
          ]
         },
         "layout": {
          "autotypenumbers": "strict",
          "colorway": [
           "#636efa",
           "#EF553B",
           "#00cc96",
           "#ab63fa",
           "#FFA15A",
           "#19d3f3",
           "#FF6692",
           "#B6E880",
           "#FF97FF",
           "#FECB52"
          ],
          "font": {
           "color": "#f2f5fa"
          },
          "hovermode": "closest",
          "hoverlabel": {
           "align": "left"
          },
          "paper_bgcolor": "rgb(17,17,17)",
          "plot_bgcolor": "rgb(17,17,17)",
          "polar": {
           "bgcolor": "rgb(17,17,17)",
           "angularaxis": {
            "gridcolor": "#506784",
            "linecolor": "#506784",
            "ticks": ""
           },
           "radialaxis": {
            "gridcolor": "#506784",
            "linecolor": "#506784",
            "ticks": ""
           }
          },
          "ternary": {
           "bgcolor": "rgb(17,17,17)",
           "aaxis": {
            "gridcolor": "#506784",
            "linecolor": "#506784",
            "ticks": ""
           },
           "baxis": {
            "gridcolor": "#506784",
            "linecolor": "#506784",
            "ticks": ""
           },
           "caxis": {
            "gridcolor": "#506784",
            "linecolor": "#506784",
            "ticks": ""
           }
          },
          "coloraxis": {
           "colorbar": {
            "outlinewidth": 0,
            "ticks": ""
           }
          },
          "colorscale": {
           "sequential": [
            [
             0.0,
             "#0d0887"
            ],
            [
             0.1111111111111111,
             "#46039f"
            ],
            [
             0.2222222222222222,
             "#7201a8"
            ],
            [
             0.3333333333333333,
             "#9c179e"
            ],
            [
             0.4444444444444444,
             "#bd3786"
            ],
            [
             0.5555555555555556,
             "#d8576b"
            ],
            [
             0.6666666666666666,
             "#ed7953"
            ],
            [
             0.7777777777777778,
             "#fb9f3a"
            ],
            [
             0.8888888888888888,
             "#fdca26"
            ],
            [
             1.0,
             "#f0f921"
            ]
           ],
           "sequentialminus": [
            [
             0.0,
             "#0d0887"
            ],
            [
             0.1111111111111111,
             "#46039f"
            ],
            [
             0.2222222222222222,
             "#7201a8"
            ],
            [
             0.3333333333333333,
             "#9c179e"
            ],
            [
             0.4444444444444444,
             "#bd3786"
            ],
            [
             0.5555555555555556,
             "#d8576b"
            ],
            [
             0.6666666666666666,
             "#ed7953"
            ],
            [
             0.7777777777777778,
             "#fb9f3a"
            ],
            [
             0.8888888888888888,
             "#fdca26"
            ],
            [
             1.0,
             "#f0f921"
            ]
           ],
           "diverging": [
            [
             0,
             "#8e0152"
            ],
            [
             0.1,
             "#c51b7d"
            ],
            [
             0.2,
             "#de77ae"
            ],
            [
             0.3,
             "#f1b6da"
            ],
            [
             0.4,
             "#fde0ef"
            ],
            [
             0.5,
             "#f7f7f7"
            ],
            [
             0.6,
             "#e6f5d0"
            ],
            [
             0.7,
             "#b8e186"
            ],
            [
             0.8,
             "#7fbc41"
            ],
            [
             0.9,
             "#4d9221"
            ],
            [
             1,
             "#276419"
            ]
           ]
          },
          "xaxis": {
           "gridcolor": "#283442",
           "linecolor": "#506784",
           "ticks": "",
           "title": {
            "standoff": 15
           },
           "zerolinecolor": "#283442",
           "automargin": true,
           "zerolinewidth": 2
          },
          "yaxis": {
           "gridcolor": "#283442",
           "linecolor": "#506784",
           "ticks": "",
           "title": {
            "standoff": 15
           },
           "zerolinecolor": "#283442",
           "automargin": true,
           "zerolinewidth": 2
          },
          "scene": {
           "xaxis": {
            "backgroundcolor": "rgb(17,17,17)",
            "gridcolor": "#506784",
            "linecolor": "#506784",
            "showbackground": true,
            "ticks": "",
            "zerolinecolor": "#C8D4E3",
            "gridwidth": 2
           },
           "yaxis": {
            "backgroundcolor": "rgb(17,17,17)",
            "gridcolor": "#506784",
            "linecolor": "#506784",
            "showbackground": true,
            "ticks": "",
            "zerolinecolor": "#C8D4E3",
            "gridwidth": 2
           },
           "zaxis": {
            "backgroundcolor": "rgb(17,17,17)",
            "gridcolor": "#506784",
            "linecolor": "#506784",
            "showbackground": true,
            "ticks": "",
            "zerolinecolor": "#C8D4E3",
            "gridwidth": 2
           }
          },
          "shapedefaults": {
           "line": {
            "color": "#f2f5fa"
           }
          },
          "annotationdefaults": {
           "arrowcolor": "#f2f5fa",
           "arrowhead": 0,
           "arrowwidth": 1
          },
          "geo": {
           "bgcolor": "rgb(17,17,17)",
           "landcolor": "rgb(17,17,17)",
           "subunitcolor": "#506784",
           "showland": true,
           "showlakes": true,
           "lakecolor": "rgb(17,17,17)"
          },
          "title": {
           "x": 0.05
          },
          "updatemenudefaults": {
           "bgcolor": "#506784",
           "borderwidth": 0
          },
          "sliderdefaults": {
           "bgcolor": "#C8D4E3",
           "borderwidth": 1,
           "bordercolor": "rgb(17,17,17)",
           "tickwidth": 0
          },
          "mapbox": {
           "style": "dark"
          }
         }
        },
        "xaxis": {
         "anchor": "y",
         "domain": [
          0.0,
          1.0
         ],
         "title": {
          "text": "Year"
         },
         "showline": true,
         "showgrid": false,
         "showticklabels": true,
         "type": "category"
        },
        "yaxis": {
         "anchor": "x",
         "domain": [
          0.0,
          1.0
         ],
         "title": {
          "text": "Number of Tickets"
         }
        },
        "legend": {
         "tracegroupgap": 0
        },
        "title": {
         "text": "Number of Parking Tickets Issued by Year"
        }
       },
       "config": {
        "plotlyServerURL": "https://plot.ly"
       }
      },
      "text/html": "<div>                            <div id=\"9b9cf25b-a768-4130-9009-dcd9c93ad4c8\" class=\"plotly-graph-div\" style=\"height:525px; width:100%;\"></div>            <script type=\"text/javascript\">                require([\"plotly\"], function(Plotly) {                    window.PLOTLYENV=window.PLOTLYENV || {};                                    if (document.getElementById(\"9b9cf25b-a768-4130-9009-dcd9c93ad4c8\")) {                    Plotly.newPlot(                        \"9b9cf25b-a768-4130-9009-dcd9c93ad4c8\",                        [{\"hovertemplate\":\"Year=%{x}<br>Number of Tickets=%{y}<extra></extra>\",\"legendgroup\":\"\",\"line\":{\"color\":\"#636efa\",\"dash\":\"solid\"},\"marker\":{\"symbol\":\"circle\"},\"mode\":\"lines+markers\",\"name\":\"\",\"orientation\":\"v\",\"showlegend\":false,\"x\":[2011,2013,2014,2015,2016,2017,2018,2019,2020,2021,2022,2023],\"xaxis\":\"x\",\"y\":[24,58715,133775,127340,116409,127463,112286,98287,48969,31803,45949,8897],\"yaxis\":\"y\",\"type\":\"scatter\"}],                        {\"template\":{\"data\":{\"histogram2dcontour\":[{\"type\":\"histogram2dcontour\",\"colorbar\":{\"outlinewidth\":0,\"ticks\":\"\"},\"colorscale\":[[0.0,\"#0d0887\"],[0.1111111111111111,\"#46039f\"],[0.2222222222222222,\"#7201a8\"],[0.3333333333333333,\"#9c179e\"],[0.4444444444444444,\"#bd3786\"],[0.5555555555555556,\"#d8576b\"],[0.6666666666666666,\"#ed7953\"],[0.7777777777777778,\"#fb9f3a\"],[0.8888888888888888,\"#fdca26\"],[1.0,\"#f0f921\"]]}],\"choropleth\":[{\"type\":\"choropleth\",\"colorbar\":{\"outlinewidth\":0,\"ticks\":\"\"}}],\"histogram2d\":[{\"type\":\"histogram2d\",\"colorbar\":{\"outlinewidth\":0,\"ticks\":\"\"},\"colorscale\":[[0.0,\"#0d0887\"],[0.1111111111111111,\"#46039f\"],[0.2222222222222222,\"#7201a8\"],[0.3333333333333333,\"#9c179e\"],[0.4444444444444444,\"#bd3786\"],[0.5555555555555556,\"#d8576b\"],[0.6666666666666666,\"#ed7953\"],[0.7777777777777778,\"#fb9f3a\"],[0.8888888888888888,\"#fdca26\"],[1.0,\"#f0f921\"]]}],\"heatmap\":[{\"type\":\"heatmap\",\"colorbar\":{\"outlinewidth\":0,\"ticks\":\"\"},\"colorscale\":[[0.0,\"#0d0887\"],[0.1111111111111111,\"#46039f\"],[0.2222222222222222,\"#7201a8\"],[0.3333333333333333,\"#9c179e\"],[0.4444444444444444,\"#bd3786\"],[0.5555555555555556,\"#d8576b\"],[0.6666666666666666,\"#ed7953\"],[0.7777777777777778,\"#fb9f3a\"],[0.8888888888888888,\"#fdca26\"],[1.0,\"#f0f921\"]]}],\"heatmapgl\":[{\"type\":\"heatmapgl\",\"colorbar\":{\"outlinewidth\":0,\"ticks\":\"\"},\"colorscale\":[[0.0,\"#0d0887\"],[0.1111111111111111,\"#46039f\"],[0.2222222222222222,\"#7201a8\"],[0.3333333333333333,\"#9c179e\"],[0.4444444444444444,\"#bd3786\"],[0.5555555555555556,\"#d8576b\"],[0.6666666666666666,\"#ed7953\"],[0.7777777777777778,\"#fb9f3a\"],[0.8888888888888888,\"#fdca26\"],[1.0,\"#f0f921\"]]}],\"contourcarpet\":[{\"type\":\"contourcarpet\",\"colorbar\":{\"outlinewidth\":0,\"ticks\":\"\"}}],\"contour\":[{\"type\":\"contour\",\"colorbar\":{\"outlinewidth\":0,\"ticks\":\"\"},\"colorscale\":[[0.0,\"#0d0887\"],[0.1111111111111111,\"#46039f\"],[0.2222222222222222,\"#7201a8\"],[0.3333333333333333,\"#9c179e\"],[0.4444444444444444,\"#bd3786\"],[0.5555555555555556,\"#d8576b\"],[0.6666666666666666,\"#ed7953\"],[0.7777777777777778,\"#fb9f3a\"],[0.8888888888888888,\"#fdca26\"],[1.0,\"#f0f921\"]]}],\"surface\":[{\"type\":\"surface\",\"colorbar\":{\"outlinewidth\":0,\"ticks\":\"\"},\"colorscale\":[[0.0,\"#0d0887\"],[0.1111111111111111,\"#46039f\"],[0.2222222222222222,\"#7201a8\"],[0.3333333333333333,\"#9c179e\"],[0.4444444444444444,\"#bd3786\"],[0.5555555555555556,\"#d8576b\"],[0.6666666666666666,\"#ed7953\"],[0.7777777777777778,\"#fb9f3a\"],[0.8888888888888888,\"#fdca26\"],[1.0,\"#f0f921\"]]}],\"mesh3d\":[{\"type\":\"mesh3d\",\"colorbar\":{\"outlinewidth\":0,\"ticks\":\"\"}}],\"scatter\":[{\"marker\":{\"line\":{\"color\":\"#283442\"}},\"type\":\"scatter\"}],\"parcoords\":[{\"type\":\"parcoords\",\"line\":{\"colorbar\":{\"outlinewidth\":0,\"ticks\":\"\"}}}],\"scatterpolargl\":[{\"type\":\"scatterpolargl\",\"marker\":{\"colorbar\":{\"outlinewidth\":0,\"ticks\":\"\"}}}],\"bar\":[{\"error_x\":{\"color\":\"#f2f5fa\"},\"error_y\":{\"color\":\"#f2f5fa\"},\"marker\":{\"line\":{\"color\":\"rgb(17,17,17)\",\"width\":0.5},\"pattern\":{\"fillmode\":\"overlay\",\"size\":10,\"solidity\":0.2}},\"type\":\"bar\"}],\"scattergeo\":[{\"type\":\"scattergeo\",\"marker\":{\"colorbar\":{\"outlinewidth\":0,\"ticks\":\"\"}}}],\"scatterpolar\":[{\"type\":\"scatterpolar\",\"marker\":{\"colorbar\":{\"outlinewidth\":0,\"ticks\":\"\"}}}],\"histogram\":[{\"marker\":{\"pattern\":{\"fillmode\":\"overlay\",\"size\":10,\"solidity\":0.2}},\"type\":\"histogram\"}],\"scattergl\":[{\"marker\":{\"line\":{\"color\":\"#283442\"}},\"type\":\"scattergl\"}],\"scatter3d\":[{\"type\":\"scatter3d\",\"line\":{\"colorbar\":{\"outlinewidth\":0,\"ticks\":\"\"}},\"marker\":{\"colorbar\":{\"outlinewidth\":0,\"ticks\":\"\"}}}],\"scattermapbox\":[{\"type\":\"scattermapbox\",\"marker\":{\"colorbar\":{\"outlinewidth\":0,\"ticks\":\"\"}}}],\"scatterternary\":[{\"type\":\"scatterternary\",\"marker\":{\"colorbar\":{\"outlinewidth\":0,\"ticks\":\"\"}}}],\"scattercarpet\":[{\"type\":\"scattercarpet\",\"marker\":{\"colorbar\":{\"outlinewidth\":0,\"ticks\":\"\"}}}],\"carpet\":[{\"aaxis\":{\"endlinecolor\":\"#A2B1C6\",\"gridcolor\":\"#506784\",\"linecolor\":\"#506784\",\"minorgridcolor\":\"#506784\",\"startlinecolor\":\"#A2B1C6\"},\"baxis\":{\"endlinecolor\":\"#A2B1C6\",\"gridcolor\":\"#506784\",\"linecolor\":\"#506784\",\"minorgridcolor\":\"#506784\",\"startlinecolor\":\"#A2B1C6\"},\"type\":\"carpet\"}],\"table\":[{\"cells\":{\"fill\":{\"color\":\"#506784\"},\"line\":{\"color\":\"rgb(17,17,17)\"}},\"header\":{\"fill\":{\"color\":\"#2a3f5f\"},\"line\":{\"color\":\"rgb(17,17,17)\"}},\"type\":\"table\"}],\"barpolar\":[{\"marker\":{\"line\":{\"color\":\"rgb(17,17,17)\",\"width\":0.5},\"pattern\":{\"fillmode\":\"overlay\",\"size\":10,\"solidity\":0.2}},\"type\":\"barpolar\"}],\"pie\":[{\"automargin\":true,\"type\":\"pie\"}]},\"layout\":{\"autotypenumbers\":\"strict\",\"colorway\":[\"#636efa\",\"#EF553B\",\"#00cc96\",\"#ab63fa\",\"#FFA15A\",\"#19d3f3\",\"#FF6692\",\"#B6E880\",\"#FF97FF\",\"#FECB52\"],\"font\":{\"color\":\"#f2f5fa\"},\"hovermode\":\"closest\",\"hoverlabel\":{\"align\":\"left\"},\"paper_bgcolor\":\"rgb(17,17,17)\",\"plot_bgcolor\":\"rgb(17,17,17)\",\"polar\":{\"bgcolor\":\"rgb(17,17,17)\",\"angularaxis\":{\"gridcolor\":\"#506784\",\"linecolor\":\"#506784\",\"ticks\":\"\"},\"radialaxis\":{\"gridcolor\":\"#506784\",\"linecolor\":\"#506784\",\"ticks\":\"\"}},\"ternary\":{\"bgcolor\":\"rgb(17,17,17)\",\"aaxis\":{\"gridcolor\":\"#506784\",\"linecolor\":\"#506784\",\"ticks\":\"\"},\"baxis\":{\"gridcolor\":\"#506784\",\"linecolor\":\"#506784\",\"ticks\":\"\"},\"caxis\":{\"gridcolor\":\"#506784\",\"linecolor\":\"#506784\",\"ticks\":\"\"}},\"coloraxis\":{\"colorbar\":{\"outlinewidth\":0,\"ticks\":\"\"}},\"colorscale\":{\"sequential\":[[0.0,\"#0d0887\"],[0.1111111111111111,\"#46039f\"],[0.2222222222222222,\"#7201a8\"],[0.3333333333333333,\"#9c179e\"],[0.4444444444444444,\"#bd3786\"],[0.5555555555555556,\"#d8576b\"],[0.6666666666666666,\"#ed7953\"],[0.7777777777777778,\"#fb9f3a\"],[0.8888888888888888,\"#fdca26\"],[1.0,\"#f0f921\"]],\"sequentialminus\":[[0.0,\"#0d0887\"],[0.1111111111111111,\"#46039f\"],[0.2222222222222222,\"#7201a8\"],[0.3333333333333333,\"#9c179e\"],[0.4444444444444444,\"#bd3786\"],[0.5555555555555556,\"#d8576b\"],[0.6666666666666666,\"#ed7953\"],[0.7777777777777778,\"#fb9f3a\"],[0.8888888888888888,\"#fdca26\"],[1.0,\"#f0f921\"]],\"diverging\":[[0,\"#8e0152\"],[0.1,\"#c51b7d\"],[0.2,\"#de77ae\"],[0.3,\"#f1b6da\"],[0.4,\"#fde0ef\"],[0.5,\"#f7f7f7\"],[0.6,\"#e6f5d0\"],[0.7,\"#b8e186\"],[0.8,\"#7fbc41\"],[0.9,\"#4d9221\"],[1,\"#276419\"]]},\"xaxis\":{\"gridcolor\":\"#283442\",\"linecolor\":\"#506784\",\"ticks\":\"\",\"title\":{\"standoff\":15},\"zerolinecolor\":\"#283442\",\"automargin\":true,\"zerolinewidth\":2},\"yaxis\":{\"gridcolor\":\"#283442\",\"linecolor\":\"#506784\",\"ticks\":\"\",\"title\":{\"standoff\":15},\"zerolinecolor\":\"#283442\",\"automargin\":true,\"zerolinewidth\":2},\"scene\":{\"xaxis\":{\"backgroundcolor\":\"rgb(17,17,17)\",\"gridcolor\":\"#506784\",\"linecolor\":\"#506784\",\"showbackground\":true,\"ticks\":\"\",\"zerolinecolor\":\"#C8D4E3\",\"gridwidth\":2},\"yaxis\":{\"backgroundcolor\":\"rgb(17,17,17)\",\"gridcolor\":\"#506784\",\"linecolor\":\"#506784\",\"showbackground\":true,\"ticks\":\"\",\"zerolinecolor\":\"#C8D4E3\",\"gridwidth\":2},\"zaxis\":{\"backgroundcolor\":\"rgb(17,17,17)\",\"gridcolor\":\"#506784\",\"linecolor\":\"#506784\",\"showbackground\":true,\"ticks\":\"\",\"zerolinecolor\":\"#C8D4E3\",\"gridwidth\":2}},\"shapedefaults\":{\"line\":{\"color\":\"#f2f5fa\"}},\"annotationdefaults\":{\"arrowcolor\":\"#f2f5fa\",\"arrowhead\":0,\"arrowwidth\":1},\"geo\":{\"bgcolor\":\"rgb(17,17,17)\",\"landcolor\":\"rgb(17,17,17)\",\"subunitcolor\":\"#506784\",\"showland\":true,\"showlakes\":true,\"lakecolor\":\"rgb(17,17,17)\"},\"title\":{\"x\":0.05},\"updatemenudefaults\":{\"bgcolor\":\"#506784\",\"borderwidth\":0},\"sliderdefaults\":{\"bgcolor\":\"#C8D4E3\",\"borderwidth\":1,\"bordercolor\":\"rgb(17,17,17)\",\"tickwidth\":0},\"mapbox\":{\"style\":\"dark\"}}},\"xaxis\":{\"anchor\":\"y\",\"domain\":[0.0,1.0],\"title\":{\"text\":\"Year\"},\"showline\":true,\"showgrid\":false,\"showticklabels\":true,\"type\":\"category\"},\"yaxis\":{\"anchor\":\"x\",\"domain\":[0.0,1.0],\"title\":{\"text\":\"Number of Tickets\"}},\"legend\":{\"tracegroupgap\":0},\"title\":{\"text\":\"Number of Parking Tickets Issued by Year\"}},                        {\"responsive\": true}                    ).then(function(){\n                            \nvar gd = document.getElementById('9b9cf25b-a768-4130-9009-dcd9c93ad4c8');\nvar x = new MutationObserver(function (mutations, observer) {{\n        var display = window.getComputedStyle(gd).display;\n        if (!display || display === 'none') {{\n            console.log([gd, 'removed!']);\n            Plotly.purge(gd);\n            observer.disconnect();\n        }}\n}});\n\n// Listen for the removal of the full notebook cells\nvar notebookContainer = gd.closest('#notebook-container');\nif (notebookContainer) {{\n    x.observe(notebookContainer, {childList: true});\n}}\n\n// Listen for the clearing of the current output cell\nvar outputEl = gd.closest('.output');\nif (outputEl) {{\n    x.observe(outputEl, {childList: true});\n}}\n\n                        })                };                });            </script>        </div>"
     },
     "metadata": {},
     "output_type": "display_data"
    }
   ],
   "source": [
    "fig = px.line(tickets_by_year,\n",
    "              x='Year',\n",
    "              y='count',\n",
    "              title='Number of Parking Tickets Issued by Year',\n",
    "              labels={'count': 'Number of Tickets'},\n",
    "              markers=True\n",
    "              )\n",
    "fig.update_layout(\n",
    "    xaxis=dict(\n",
    "        showline=True,\n",
    "        showgrid=False,\n",
    "        showticklabels=True,\n",
    "        type='category'\n",
    "    )\n",
    ")\n",
    "fig"
   ],
   "metadata": {
    "collapsed": false,
    "pycharm": {
     "name": "#%%\n"
    }
   }
  },
  {
   "cell_type": "code",
   "execution_count": 103,
   "outputs": [
    {
     "name": "stdout",
     "output_type": "stream",
     "text": [
      "           Violation Description   count\n",
      "51                 Meter Expired  157837\n",
      "18       2011 Parked -meter expi  110710\n",
      "14         2010 Overtime Parking   51469\n",
      "76                      Overtime   46700\n",
      "87                     Rush Hour   46126\n",
      "89                    Snow Route   43328\n",
      "61                       No Stop   40854\n",
      "20  2011 Stand/stop/park on snow   31303\n",
      "72           No stopping anytime   27422\n",
      "58                       No Park   27259\n"
     ]
    }
   ],
   "source": [
    "top_5_violations = park_data[['Violation Description']].groupby(['Violation Description'])['Violation Description'] \\\n",
    "                             .count() \\\n",
    "                             .reset_index(name='count') \\\n",
    "                             .sort_values(['count'], ascending=False) \\\n",
    "                             .head(10)\n",
    "print(top_5_violations)"
   ],
   "metadata": {
    "collapsed": false,
    "pycharm": {
     "name": "#%%\n"
    }
   }
  },
  {
   "cell_type": "code",
   "execution_count": 105,
   "outputs": [
    {
     "data": {
      "application/vnd.plotly.v1+json": {
       "data": [
        {
         "alignmentgroup": "True",
         "hovertemplate": "Violation Description=%{x}<br>Number of Tickets=%{y}<extra></extra>",
         "legendgroup": "Meter Expired",
         "marker": {
          "color": "#636efa",
          "pattern": {
           "shape": ""
          }
         },
         "name": "Meter Expired",
         "offsetgroup": "Meter Expired",
         "orientation": "v",
         "showlegend": true,
         "textposition": "auto",
         "x": [
          "Meter Expired"
         ],
         "xaxis": "x",
         "y": [
          157837
         ],
         "yaxis": "y",
         "type": "bar"
        },
        {
         "alignmentgroup": "True",
         "hovertemplate": "Violation Description=%{x}<br>Number of Tickets=%{y}<extra></extra>",
         "legendgroup": "2011 Parked -meter expi",
         "marker": {
          "color": "#EF553B",
          "pattern": {
           "shape": ""
          }
         },
         "name": "2011 Parked -meter expi",
         "offsetgroup": "2011 Parked -meter expi",
         "orientation": "v",
         "showlegend": true,
         "textposition": "auto",
         "x": [
          "2011 Parked -meter expi"
         ],
         "xaxis": "x",
         "y": [
          110710
         ],
         "yaxis": "y",
         "type": "bar"
        },
        {
         "alignmentgroup": "True",
         "hovertemplate": "Violation Description=%{x}<br>Number of Tickets=%{y}<extra></extra>",
         "legendgroup": "2010 Overtime Parking",
         "marker": {
          "color": "#00cc96",
          "pattern": {
           "shape": ""
          }
         },
         "name": "2010 Overtime Parking",
         "offsetgroup": "2010 Overtime Parking",
         "orientation": "v",
         "showlegend": true,
         "textposition": "auto",
         "x": [
          "2010 Overtime Parking"
         ],
         "xaxis": "x",
         "y": [
          51469
         ],
         "yaxis": "y",
         "type": "bar"
        },
        {
         "alignmentgroup": "True",
         "hovertemplate": "Violation Description=%{x}<br>Number of Tickets=%{y}<extra></extra>",
         "legendgroup": "Overtime",
         "marker": {
          "color": "#ab63fa",
          "pattern": {
           "shape": ""
          }
         },
         "name": "Overtime",
         "offsetgroup": "Overtime",
         "orientation": "v",
         "showlegend": true,
         "textposition": "auto",
         "x": [
          "Overtime"
         ],
         "xaxis": "x",
         "y": [
          46700
         ],
         "yaxis": "y",
         "type": "bar"
        },
        {
         "alignmentgroup": "True",
         "hovertemplate": "Violation Description=%{x}<br>Number of Tickets=%{y}<extra></extra>",
         "legendgroup": "Rush Hour",
         "marker": {
          "color": "#FFA15A",
          "pattern": {
           "shape": ""
          }
         },
         "name": "Rush Hour",
         "offsetgroup": "Rush Hour",
         "orientation": "v",
         "showlegend": true,
         "textposition": "auto",
         "x": [
          "Rush Hour"
         ],
         "xaxis": "x",
         "y": [
          46126
         ],
         "yaxis": "y",
         "type": "bar"
        },
        {
         "alignmentgroup": "True",
         "hovertemplate": "Violation Description=%{x}<br>Number of Tickets=%{y}<extra></extra>",
         "legendgroup": "Snow Route",
         "marker": {
          "color": "#19d3f3",
          "pattern": {
           "shape": ""
          }
         },
         "name": "Snow Route",
         "offsetgroup": "Snow Route",
         "orientation": "v",
         "showlegend": true,
         "textposition": "auto",
         "x": [
          "Snow Route"
         ],
         "xaxis": "x",
         "y": [
          43328
         ],
         "yaxis": "y",
         "type": "bar"
        },
        {
         "alignmentgroup": "True",
         "hovertemplate": "Violation Description=%{x}<br>Number of Tickets=%{y}<extra></extra>",
         "legendgroup": "No Stop",
         "marker": {
          "color": "#FF6692",
          "pattern": {
           "shape": ""
          }
         },
         "name": "No Stop",
         "offsetgroup": "No Stop",
         "orientation": "v",
         "showlegend": true,
         "textposition": "auto",
         "x": [
          "No Stop"
         ],
         "xaxis": "x",
         "y": [
          40854
         ],
         "yaxis": "y",
         "type": "bar"
        },
        {
         "alignmentgroup": "True",
         "hovertemplate": "Violation Description=%{x}<br>Number of Tickets=%{y}<extra></extra>",
         "legendgroup": "2011 Stand/stop/park on snow",
         "marker": {
          "color": "#B6E880",
          "pattern": {
           "shape": ""
          }
         },
         "name": "2011 Stand/stop/park on snow",
         "offsetgroup": "2011 Stand/stop/park on snow",
         "orientation": "v",
         "showlegend": true,
         "textposition": "auto",
         "x": [
          "2011 Stand/stop/park on snow"
         ],
         "xaxis": "x",
         "y": [
          31303
         ],
         "yaxis": "y",
         "type": "bar"
        },
        {
         "alignmentgroup": "True",
         "hovertemplate": "Violation Description=%{x}<br>Number of Tickets=%{y}<extra></extra>",
         "legendgroup": "No stopping anytime",
         "marker": {
          "color": "#FF97FF",
          "pattern": {
           "shape": ""
          }
         },
         "name": "No stopping anytime",
         "offsetgroup": "No stopping anytime",
         "orientation": "v",
         "showlegend": true,
         "textposition": "auto",
         "x": [
          "No stopping anytime"
         ],
         "xaxis": "x",
         "y": [
          27422
         ],
         "yaxis": "y",
         "type": "bar"
        },
        {
         "alignmentgroup": "True",
         "hovertemplate": "Violation Description=%{x}<br>Number of Tickets=%{y}<extra></extra>",
         "legendgroup": "No Park",
         "marker": {
          "color": "#FECB52",
          "pattern": {
           "shape": ""
          }
         },
         "name": "No Park",
         "offsetgroup": "No Park",
         "orientation": "v",
         "showlegend": true,
         "textposition": "auto",
         "x": [
          "No Park"
         ],
         "xaxis": "x",
         "y": [
          27259
         ],
         "yaxis": "y",
         "type": "bar"
        }
       ],
       "layout": {
        "template": {
         "data": {
          "histogram2dcontour": [
           {
            "type": "histogram2dcontour",
            "colorbar": {
             "outlinewidth": 0,
             "ticks": ""
            },
            "colorscale": [
             [
              0.0,
              "#0d0887"
             ],
             [
              0.1111111111111111,
              "#46039f"
             ],
             [
              0.2222222222222222,
              "#7201a8"
             ],
             [
              0.3333333333333333,
              "#9c179e"
             ],
             [
              0.4444444444444444,
              "#bd3786"
             ],
             [
              0.5555555555555556,
              "#d8576b"
             ],
             [
              0.6666666666666666,
              "#ed7953"
             ],
             [
              0.7777777777777778,
              "#fb9f3a"
             ],
             [
              0.8888888888888888,
              "#fdca26"
             ],
             [
              1.0,
              "#f0f921"
             ]
            ]
           }
          ],
          "choropleth": [
           {
            "type": "choropleth",
            "colorbar": {
             "outlinewidth": 0,
             "ticks": ""
            }
           }
          ],
          "histogram2d": [
           {
            "type": "histogram2d",
            "colorbar": {
             "outlinewidth": 0,
             "ticks": ""
            },
            "colorscale": [
             [
              0.0,
              "#0d0887"
             ],
             [
              0.1111111111111111,
              "#46039f"
             ],
             [
              0.2222222222222222,
              "#7201a8"
             ],
             [
              0.3333333333333333,
              "#9c179e"
             ],
             [
              0.4444444444444444,
              "#bd3786"
             ],
             [
              0.5555555555555556,
              "#d8576b"
             ],
             [
              0.6666666666666666,
              "#ed7953"
             ],
             [
              0.7777777777777778,
              "#fb9f3a"
             ],
             [
              0.8888888888888888,
              "#fdca26"
             ],
             [
              1.0,
              "#f0f921"
             ]
            ]
           }
          ],
          "heatmap": [
           {
            "type": "heatmap",
            "colorbar": {
             "outlinewidth": 0,
             "ticks": ""
            },
            "colorscale": [
             [
              0.0,
              "#0d0887"
             ],
             [
              0.1111111111111111,
              "#46039f"
             ],
             [
              0.2222222222222222,
              "#7201a8"
             ],
             [
              0.3333333333333333,
              "#9c179e"
             ],
             [
              0.4444444444444444,
              "#bd3786"
             ],
             [
              0.5555555555555556,
              "#d8576b"
             ],
             [
              0.6666666666666666,
              "#ed7953"
             ],
             [
              0.7777777777777778,
              "#fb9f3a"
             ],
             [
              0.8888888888888888,
              "#fdca26"
             ],
             [
              1.0,
              "#f0f921"
             ]
            ]
           }
          ],
          "heatmapgl": [
           {
            "type": "heatmapgl",
            "colorbar": {
             "outlinewidth": 0,
             "ticks": ""
            },
            "colorscale": [
             [
              0.0,
              "#0d0887"
             ],
             [
              0.1111111111111111,
              "#46039f"
             ],
             [
              0.2222222222222222,
              "#7201a8"
             ],
             [
              0.3333333333333333,
              "#9c179e"
             ],
             [
              0.4444444444444444,
              "#bd3786"
             ],
             [
              0.5555555555555556,
              "#d8576b"
             ],
             [
              0.6666666666666666,
              "#ed7953"
             ],
             [
              0.7777777777777778,
              "#fb9f3a"
             ],
             [
              0.8888888888888888,
              "#fdca26"
             ],
             [
              1.0,
              "#f0f921"
             ]
            ]
           }
          ],
          "contourcarpet": [
           {
            "type": "contourcarpet",
            "colorbar": {
             "outlinewidth": 0,
             "ticks": ""
            }
           }
          ],
          "contour": [
           {
            "type": "contour",
            "colorbar": {
             "outlinewidth": 0,
             "ticks": ""
            },
            "colorscale": [
             [
              0.0,
              "#0d0887"
             ],
             [
              0.1111111111111111,
              "#46039f"
             ],
             [
              0.2222222222222222,
              "#7201a8"
             ],
             [
              0.3333333333333333,
              "#9c179e"
             ],
             [
              0.4444444444444444,
              "#bd3786"
             ],
             [
              0.5555555555555556,
              "#d8576b"
             ],
             [
              0.6666666666666666,
              "#ed7953"
             ],
             [
              0.7777777777777778,
              "#fb9f3a"
             ],
             [
              0.8888888888888888,
              "#fdca26"
             ],
             [
              1.0,
              "#f0f921"
             ]
            ]
           }
          ],
          "surface": [
           {
            "type": "surface",
            "colorbar": {
             "outlinewidth": 0,
             "ticks": ""
            },
            "colorscale": [
             [
              0.0,
              "#0d0887"
             ],
             [
              0.1111111111111111,
              "#46039f"
             ],
             [
              0.2222222222222222,
              "#7201a8"
             ],
             [
              0.3333333333333333,
              "#9c179e"
             ],
             [
              0.4444444444444444,
              "#bd3786"
             ],
             [
              0.5555555555555556,
              "#d8576b"
             ],
             [
              0.6666666666666666,
              "#ed7953"
             ],
             [
              0.7777777777777778,
              "#fb9f3a"
             ],
             [
              0.8888888888888888,
              "#fdca26"
             ],
             [
              1.0,
              "#f0f921"
             ]
            ]
           }
          ],
          "mesh3d": [
           {
            "type": "mesh3d",
            "colorbar": {
             "outlinewidth": 0,
             "ticks": ""
            }
           }
          ],
          "scatter": [
           {
            "marker": {
             "line": {
              "color": "#283442"
             }
            },
            "type": "scatter"
           }
          ],
          "parcoords": [
           {
            "type": "parcoords",
            "line": {
             "colorbar": {
              "outlinewidth": 0,
              "ticks": ""
             }
            }
           }
          ],
          "scatterpolargl": [
           {
            "type": "scatterpolargl",
            "marker": {
             "colorbar": {
              "outlinewidth": 0,
              "ticks": ""
             }
            }
           }
          ],
          "bar": [
           {
            "error_x": {
             "color": "#f2f5fa"
            },
            "error_y": {
             "color": "#f2f5fa"
            },
            "marker": {
             "line": {
              "color": "rgb(17,17,17)",
              "width": 0.5
             },
             "pattern": {
              "fillmode": "overlay",
              "size": 10,
              "solidity": 0.2
             }
            },
            "type": "bar"
           }
          ],
          "scattergeo": [
           {
            "type": "scattergeo",
            "marker": {
             "colorbar": {
              "outlinewidth": 0,
              "ticks": ""
             }
            }
           }
          ],
          "scatterpolar": [
           {
            "type": "scatterpolar",
            "marker": {
             "colorbar": {
              "outlinewidth": 0,
              "ticks": ""
             }
            }
           }
          ],
          "histogram": [
           {
            "marker": {
             "pattern": {
              "fillmode": "overlay",
              "size": 10,
              "solidity": 0.2
             }
            },
            "type": "histogram"
           }
          ],
          "scattergl": [
           {
            "marker": {
             "line": {
              "color": "#283442"
             }
            },
            "type": "scattergl"
           }
          ],
          "scatter3d": [
           {
            "type": "scatter3d",
            "line": {
             "colorbar": {
              "outlinewidth": 0,
              "ticks": ""
             }
            },
            "marker": {
             "colorbar": {
              "outlinewidth": 0,
              "ticks": ""
             }
            }
           }
          ],
          "scattermapbox": [
           {
            "type": "scattermapbox",
            "marker": {
             "colorbar": {
              "outlinewidth": 0,
              "ticks": ""
             }
            }
           }
          ],
          "scatterternary": [
           {
            "type": "scatterternary",
            "marker": {
             "colorbar": {
              "outlinewidth": 0,
              "ticks": ""
             }
            }
           }
          ],
          "scattercarpet": [
           {
            "type": "scattercarpet",
            "marker": {
             "colorbar": {
              "outlinewidth": 0,
              "ticks": ""
             }
            }
           }
          ],
          "carpet": [
           {
            "aaxis": {
             "endlinecolor": "#A2B1C6",
             "gridcolor": "#506784",
             "linecolor": "#506784",
             "minorgridcolor": "#506784",
             "startlinecolor": "#A2B1C6"
            },
            "baxis": {
             "endlinecolor": "#A2B1C6",
             "gridcolor": "#506784",
             "linecolor": "#506784",
             "minorgridcolor": "#506784",
             "startlinecolor": "#A2B1C6"
            },
            "type": "carpet"
           }
          ],
          "table": [
           {
            "cells": {
             "fill": {
              "color": "#506784"
             },
             "line": {
              "color": "rgb(17,17,17)"
             }
            },
            "header": {
             "fill": {
              "color": "#2a3f5f"
             },
             "line": {
              "color": "rgb(17,17,17)"
             }
            },
            "type": "table"
           }
          ],
          "barpolar": [
           {
            "marker": {
             "line": {
              "color": "rgb(17,17,17)",
              "width": 0.5
             },
             "pattern": {
              "fillmode": "overlay",
              "size": 10,
              "solidity": 0.2
             }
            },
            "type": "barpolar"
           }
          ],
          "pie": [
           {
            "automargin": true,
            "type": "pie"
           }
          ]
         },
         "layout": {
          "autotypenumbers": "strict",
          "colorway": [
           "#636efa",
           "#EF553B",
           "#00cc96",
           "#ab63fa",
           "#FFA15A",
           "#19d3f3",
           "#FF6692",
           "#B6E880",
           "#FF97FF",
           "#FECB52"
          ],
          "font": {
           "color": "#f2f5fa"
          },
          "hovermode": "closest",
          "hoverlabel": {
           "align": "left"
          },
          "paper_bgcolor": "rgb(17,17,17)",
          "plot_bgcolor": "rgb(17,17,17)",
          "polar": {
           "bgcolor": "rgb(17,17,17)",
           "angularaxis": {
            "gridcolor": "#506784",
            "linecolor": "#506784",
            "ticks": ""
           },
           "radialaxis": {
            "gridcolor": "#506784",
            "linecolor": "#506784",
            "ticks": ""
           }
          },
          "ternary": {
           "bgcolor": "rgb(17,17,17)",
           "aaxis": {
            "gridcolor": "#506784",
            "linecolor": "#506784",
            "ticks": ""
           },
           "baxis": {
            "gridcolor": "#506784",
            "linecolor": "#506784",
            "ticks": ""
           },
           "caxis": {
            "gridcolor": "#506784",
            "linecolor": "#506784",
            "ticks": ""
           }
          },
          "coloraxis": {
           "colorbar": {
            "outlinewidth": 0,
            "ticks": ""
           }
          },
          "colorscale": {
           "sequential": [
            [
             0.0,
             "#0d0887"
            ],
            [
             0.1111111111111111,
             "#46039f"
            ],
            [
             0.2222222222222222,
             "#7201a8"
            ],
            [
             0.3333333333333333,
             "#9c179e"
            ],
            [
             0.4444444444444444,
             "#bd3786"
            ],
            [
             0.5555555555555556,
             "#d8576b"
            ],
            [
             0.6666666666666666,
             "#ed7953"
            ],
            [
             0.7777777777777778,
             "#fb9f3a"
            ],
            [
             0.8888888888888888,
             "#fdca26"
            ],
            [
             1.0,
             "#f0f921"
            ]
           ],
           "sequentialminus": [
            [
             0.0,
             "#0d0887"
            ],
            [
             0.1111111111111111,
             "#46039f"
            ],
            [
             0.2222222222222222,
             "#7201a8"
            ],
            [
             0.3333333333333333,
             "#9c179e"
            ],
            [
             0.4444444444444444,
             "#bd3786"
            ],
            [
             0.5555555555555556,
             "#d8576b"
            ],
            [
             0.6666666666666666,
             "#ed7953"
            ],
            [
             0.7777777777777778,
             "#fb9f3a"
            ],
            [
             0.8888888888888888,
             "#fdca26"
            ],
            [
             1.0,
             "#f0f921"
            ]
           ],
           "diverging": [
            [
             0,
             "#8e0152"
            ],
            [
             0.1,
             "#c51b7d"
            ],
            [
             0.2,
             "#de77ae"
            ],
            [
             0.3,
             "#f1b6da"
            ],
            [
             0.4,
             "#fde0ef"
            ],
            [
             0.5,
             "#f7f7f7"
            ],
            [
             0.6,
             "#e6f5d0"
            ],
            [
             0.7,
             "#b8e186"
            ],
            [
             0.8,
             "#7fbc41"
            ],
            [
             0.9,
             "#4d9221"
            ],
            [
             1,
             "#276419"
            ]
           ]
          },
          "xaxis": {
           "gridcolor": "#283442",
           "linecolor": "#506784",
           "ticks": "",
           "title": {
            "standoff": 15
           },
           "zerolinecolor": "#283442",
           "automargin": true,
           "zerolinewidth": 2
          },
          "yaxis": {
           "gridcolor": "#283442",
           "linecolor": "#506784",
           "ticks": "",
           "title": {
            "standoff": 15
           },
           "zerolinecolor": "#283442",
           "automargin": true,
           "zerolinewidth": 2
          },
          "scene": {
           "xaxis": {
            "backgroundcolor": "rgb(17,17,17)",
            "gridcolor": "#506784",
            "linecolor": "#506784",
            "showbackground": true,
            "ticks": "",
            "zerolinecolor": "#C8D4E3",
            "gridwidth": 2
           },
           "yaxis": {
            "backgroundcolor": "rgb(17,17,17)",
            "gridcolor": "#506784",
            "linecolor": "#506784",
            "showbackground": true,
            "ticks": "",
            "zerolinecolor": "#C8D4E3",
            "gridwidth": 2
           },
           "zaxis": {
            "backgroundcolor": "rgb(17,17,17)",
            "gridcolor": "#506784",
            "linecolor": "#506784",
            "showbackground": true,
            "ticks": "",
            "zerolinecolor": "#C8D4E3",
            "gridwidth": 2
           }
          },
          "shapedefaults": {
           "line": {
            "color": "#f2f5fa"
           }
          },
          "annotationdefaults": {
           "arrowcolor": "#f2f5fa",
           "arrowhead": 0,
           "arrowwidth": 1
          },
          "geo": {
           "bgcolor": "rgb(17,17,17)",
           "landcolor": "rgb(17,17,17)",
           "subunitcolor": "#506784",
           "showland": true,
           "showlakes": true,
           "lakecolor": "rgb(17,17,17)"
          },
          "title": {
           "x": 0.05
          },
          "updatemenudefaults": {
           "bgcolor": "#506784",
           "borderwidth": 0
          },
          "sliderdefaults": {
           "bgcolor": "#C8D4E3",
           "borderwidth": 1,
           "bordercolor": "rgb(17,17,17)",
           "tickwidth": 0
          },
          "mapbox": {
           "style": "dark"
          }
         }
        },
        "xaxis": {
         "anchor": "y",
         "domain": [
          0.0,
          1.0
         ],
         "title": {
          "text": "Violation Description"
         },
         "categoryorder": "array",
         "categoryarray": [
          "Meter Expired",
          "2011 Parked -meter expi",
          "2010 Overtime Parking",
          "Overtime",
          "Rush Hour",
          "Snow Route",
          "No Stop",
          "2011 Stand/stop/park on snow",
          "No stopping anytime",
          "No Park"
         ]
        },
        "yaxis": {
         "anchor": "x",
         "domain": [
          0.0,
          1.0
         ],
         "title": {
          "text": "Number of Tickets"
         }
        },
        "legend": {
         "title": {
          "text": "Violation Description"
         },
         "tracegroupgap": 0
        },
        "title": {
         "text": "Top 10 Parking Violations"
        },
        "barmode": "relative"
       },
       "config": {
        "plotlyServerURL": "https://plot.ly"
       }
      },
      "text/html": "<div>                            <div id=\"a08844be-289f-4a18-a211-890587187041\" class=\"plotly-graph-div\" style=\"height:525px; width:100%;\"></div>            <script type=\"text/javascript\">                require([\"plotly\"], function(Plotly) {                    window.PLOTLYENV=window.PLOTLYENV || {};                                    if (document.getElementById(\"a08844be-289f-4a18-a211-890587187041\")) {                    Plotly.newPlot(                        \"a08844be-289f-4a18-a211-890587187041\",                        [{\"alignmentgroup\":\"True\",\"hovertemplate\":\"Violation Description=%{x}<br>Number of Tickets=%{y}<extra></extra>\",\"legendgroup\":\"Meter Expired\",\"marker\":{\"color\":\"#636efa\",\"pattern\":{\"shape\":\"\"}},\"name\":\"Meter Expired\",\"offsetgroup\":\"Meter Expired\",\"orientation\":\"v\",\"showlegend\":true,\"textposition\":\"auto\",\"x\":[\"Meter Expired\"],\"xaxis\":\"x\",\"y\":[157837],\"yaxis\":\"y\",\"type\":\"bar\"},{\"alignmentgroup\":\"True\",\"hovertemplate\":\"Violation Description=%{x}<br>Number of Tickets=%{y}<extra></extra>\",\"legendgroup\":\"2011 Parked -meter expi\",\"marker\":{\"color\":\"#EF553B\",\"pattern\":{\"shape\":\"\"}},\"name\":\"2011 Parked -meter expi\",\"offsetgroup\":\"2011 Parked -meter expi\",\"orientation\":\"v\",\"showlegend\":true,\"textposition\":\"auto\",\"x\":[\"2011 Parked -meter expi\"],\"xaxis\":\"x\",\"y\":[110710],\"yaxis\":\"y\",\"type\":\"bar\"},{\"alignmentgroup\":\"True\",\"hovertemplate\":\"Violation Description=%{x}<br>Number of Tickets=%{y}<extra></extra>\",\"legendgroup\":\"2010 Overtime Parking\",\"marker\":{\"color\":\"#00cc96\",\"pattern\":{\"shape\":\"\"}},\"name\":\"2010 Overtime Parking\",\"offsetgroup\":\"2010 Overtime Parking\",\"orientation\":\"v\",\"showlegend\":true,\"textposition\":\"auto\",\"x\":[\"2010 Overtime Parking\"],\"xaxis\":\"x\",\"y\":[51469],\"yaxis\":\"y\",\"type\":\"bar\"},{\"alignmentgroup\":\"True\",\"hovertemplate\":\"Violation Description=%{x}<br>Number of Tickets=%{y}<extra></extra>\",\"legendgroup\":\"Overtime\",\"marker\":{\"color\":\"#ab63fa\",\"pattern\":{\"shape\":\"\"}},\"name\":\"Overtime\",\"offsetgroup\":\"Overtime\",\"orientation\":\"v\",\"showlegend\":true,\"textposition\":\"auto\",\"x\":[\"Overtime\"],\"xaxis\":\"x\",\"y\":[46700],\"yaxis\":\"y\",\"type\":\"bar\"},{\"alignmentgroup\":\"True\",\"hovertemplate\":\"Violation Description=%{x}<br>Number of Tickets=%{y}<extra></extra>\",\"legendgroup\":\"Rush Hour\",\"marker\":{\"color\":\"#FFA15A\",\"pattern\":{\"shape\":\"\"}},\"name\":\"Rush Hour\",\"offsetgroup\":\"Rush Hour\",\"orientation\":\"v\",\"showlegend\":true,\"textposition\":\"auto\",\"x\":[\"Rush Hour\"],\"xaxis\":\"x\",\"y\":[46126],\"yaxis\":\"y\",\"type\":\"bar\"},{\"alignmentgroup\":\"True\",\"hovertemplate\":\"Violation Description=%{x}<br>Number of Tickets=%{y}<extra></extra>\",\"legendgroup\":\"Snow Route\",\"marker\":{\"color\":\"#19d3f3\",\"pattern\":{\"shape\":\"\"}},\"name\":\"Snow Route\",\"offsetgroup\":\"Snow Route\",\"orientation\":\"v\",\"showlegend\":true,\"textposition\":\"auto\",\"x\":[\"Snow Route\"],\"xaxis\":\"x\",\"y\":[43328],\"yaxis\":\"y\",\"type\":\"bar\"},{\"alignmentgroup\":\"True\",\"hovertemplate\":\"Violation Description=%{x}<br>Number of Tickets=%{y}<extra></extra>\",\"legendgroup\":\"No Stop\",\"marker\":{\"color\":\"#FF6692\",\"pattern\":{\"shape\":\"\"}},\"name\":\"No Stop\",\"offsetgroup\":\"No Stop\",\"orientation\":\"v\",\"showlegend\":true,\"textposition\":\"auto\",\"x\":[\"No Stop\"],\"xaxis\":\"x\",\"y\":[40854],\"yaxis\":\"y\",\"type\":\"bar\"},{\"alignmentgroup\":\"True\",\"hovertemplate\":\"Violation Description=%{x}<br>Number of Tickets=%{y}<extra></extra>\",\"legendgroup\":\"2011 Stand/stop/park on snow\",\"marker\":{\"color\":\"#B6E880\",\"pattern\":{\"shape\":\"\"}},\"name\":\"2011 Stand/stop/park on snow\",\"offsetgroup\":\"2011 Stand/stop/park on snow\",\"orientation\":\"v\",\"showlegend\":true,\"textposition\":\"auto\",\"x\":[\"2011 Stand/stop/park on snow\"],\"xaxis\":\"x\",\"y\":[31303],\"yaxis\":\"y\",\"type\":\"bar\"},{\"alignmentgroup\":\"True\",\"hovertemplate\":\"Violation Description=%{x}<br>Number of Tickets=%{y}<extra></extra>\",\"legendgroup\":\"No stopping anytime\",\"marker\":{\"color\":\"#FF97FF\",\"pattern\":{\"shape\":\"\"}},\"name\":\"No stopping anytime\",\"offsetgroup\":\"No stopping anytime\",\"orientation\":\"v\",\"showlegend\":true,\"textposition\":\"auto\",\"x\":[\"No stopping anytime\"],\"xaxis\":\"x\",\"y\":[27422],\"yaxis\":\"y\",\"type\":\"bar\"},{\"alignmentgroup\":\"True\",\"hovertemplate\":\"Violation Description=%{x}<br>Number of Tickets=%{y}<extra></extra>\",\"legendgroup\":\"No Park\",\"marker\":{\"color\":\"#FECB52\",\"pattern\":{\"shape\":\"\"}},\"name\":\"No Park\",\"offsetgroup\":\"No Park\",\"orientation\":\"v\",\"showlegend\":true,\"textposition\":\"auto\",\"x\":[\"No Park\"],\"xaxis\":\"x\",\"y\":[27259],\"yaxis\":\"y\",\"type\":\"bar\"}],                        {\"template\":{\"data\":{\"histogram2dcontour\":[{\"type\":\"histogram2dcontour\",\"colorbar\":{\"outlinewidth\":0,\"ticks\":\"\"},\"colorscale\":[[0.0,\"#0d0887\"],[0.1111111111111111,\"#46039f\"],[0.2222222222222222,\"#7201a8\"],[0.3333333333333333,\"#9c179e\"],[0.4444444444444444,\"#bd3786\"],[0.5555555555555556,\"#d8576b\"],[0.6666666666666666,\"#ed7953\"],[0.7777777777777778,\"#fb9f3a\"],[0.8888888888888888,\"#fdca26\"],[1.0,\"#f0f921\"]]}],\"choropleth\":[{\"type\":\"choropleth\",\"colorbar\":{\"outlinewidth\":0,\"ticks\":\"\"}}],\"histogram2d\":[{\"type\":\"histogram2d\",\"colorbar\":{\"outlinewidth\":0,\"ticks\":\"\"},\"colorscale\":[[0.0,\"#0d0887\"],[0.1111111111111111,\"#46039f\"],[0.2222222222222222,\"#7201a8\"],[0.3333333333333333,\"#9c179e\"],[0.4444444444444444,\"#bd3786\"],[0.5555555555555556,\"#d8576b\"],[0.6666666666666666,\"#ed7953\"],[0.7777777777777778,\"#fb9f3a\"],[0.8888888888888888,\"#fdca26\"],[1.0,\"#f0f921\"]]}],\"heatmap\":[{\"type\":\"heatmap\",\"colorbar\":{\"outlinewidth\":0,\"ticks\":\"\"},\"colorscale\":[[0.0,\"#0d0887\"],[0.1111111111111111,\"#46039f\"],[0.2222222222222222,\"#7201a8\"],[0.3333333333333333,\"#9c179e\"],[0.4444444444444444,\"#bd3786\"],[0.5555555555555556,\"#d8576b\"],[0.6666666666666666,\"#ed7953\"],[0.7777777777777778,\"#fb9f3a\"],[0.8888888888888888,\"#fdca26\"],[1.0,\"#f0f921\"]]}],\"heatmapgl\":[{\"type\":\"heatmapgl\",\"colorbar\":{\"outlinewidth\":0,\"ticks\":\"\"},\"colorscale\":[[0.0,\"#0d0887\"],[0.1111111111111111,\"#46039f\"],[0.2222222222222222,\"#7201a8\"],[0.3333333333333333,\"#9c179e\"],[0.4444444444444444,\"#bd3786\"],[0.5555555555555556,\"#d8576b\"],[0.6666666666666666,\"#ed7953\"],[0.7777777777777778,\"#fb9f3a\"],[0.8888888888888888,\"#fdca26\"],[1.0,\"#f0f921\"]]}],\"contourcarpet\":[{\"type\":\"contourcarpet\",\"colorbar\":{\"outlinewidth\":0,\"ticks\":\"\"}}],\"contour\":[{\"type\":\"contour\",\"colorbar\":{\"outlinewidth\":0,\"ticks\":\"\"},\"colorscale\":[[0.0,\"#0d0887\"],[0.1111111111111111,\"#46039f\"],[0.2222222222222222,\"#7201a8\"],[0.3333333333333333,\"#9c179e\"],[0.4444444444444444,\"#bd3786\"],[0.5555555555555556,\"#d8576b\"],[0.6666666666666666,\"#ed7953\"],[0.7777777777777778,\"#fb9f3a\"],[0.8888888888888888,\"#fdca26\"],[1.0,\"#f0f921\"]]}],\"surface\":[{\"type\":\"surface\",\"colorbar\":{\"outlinewidth\":0,\"ticks\":\"\"},\"colorscale\":[[0.0,\"#0d0887\"],[0.1111111111111111,\"#46039f\"],[0.2222222222222222,\"#7201a8\"],[0.3333333333333333,\"#9c179e\"],[0.4444444444444444,\"#bd3786\"],[0.5555555555555556,\"#d8576b\"],[0.6666666666666666,\"#ed7953\"],[0.7777777777777778,\"#fb9f3a\"],[0.8888888888888888,\"#fdca26\"],[1.0,\"#f0f921\"]]}],\"mesh3d\":[{\"type\":\"mesh3d\",\"colorbar\":{\"outlinewidth\":0,\"ticks\":\"\"}}],\"scatter\":[{\"marker\":{\"line\":{\"color\":\"#283442\"}},\"type\":\"scatter\"}],\"parcoords\":[{\"type\":\"parcoords\",\"line\":{\"colorbar\":{\"outlinewidth\":0,\"ticks\":\"\"}}}],\"scatterpolargl\":[{\"type\":\"scatterpolargl\",\"marker\":{\"colorbar\":{\"outlinewidth\":0,\"ticks\":\"\"}}}],\"bar\":[{\"error_x\":{\"color\":\"#f2f5fa\"},\"error_y\":{\"color\":\"#f2f5fa\"},\"marker\":{\"line\":{\"color\":\"rgb(17,17,17)\",\"width\":0.5},\"pattern\":{\"fillmode\":\"overlay\",\"size\":10,\"solidity\":0.2}},\"type\":\"bar\"}],\"scattergeo\":[{\"type\":\"scattergeo\",\"marker\":{\"colorbar\":{\"outlinewidth\":0,\"ticks\":\"\"}}}],\"scatterpolar\":[{\"type\":\"scatterpolar\",\"marker\":{\"colorbar\":{\"outlinewidth\":0,\"ticks\":\"\"}}}],\"histogram\":[{\"marker\":{\"pattern\":{\"fillmode\":\"overlay\",\"size\":10,\"solidity\":0.2}},\"type\":\"histogram\"}],\"scattergl\":[{\"marker\":{\"line\":{\"color\":\"#283442\"}},\"type\":\"scattergl\"}],\"scatter3d\":[{\"type\":\"scatter3d\",\"line\":{\"colorbar\":{\"outlinewidth\":0,\"ticks\":\"\"}},\"marker\":{\"colorbar\":{\"outlinewidth\":0,\"ticks\":\"\"}}}],\"scattermapbox\":[{\"type\":\"scattermapbox\",\"marker\":{\"colorbar\":{\"outlinewidth\":0,\"ticks\":\"\"}}}],\"scatterternary\":[{\"type\":\"scatterternary\",\"marker\":{\"colorbar\":{\"outlinewidth\":0,\"ticks\":\"\"}}}],\"scattercarpet\":[{\"type\":\"scattercarpet\",\"marker\":{\"colorbar\":{\"outlinewidth\":0,\"ticks\":\"\"}}}],\"carpet\":[{\"aaxis\":{\"endlinecolor\":\"#A2B1C6\",\"gridcolor\":\"#506784\",\"linecolor\":\"#506784\",\"minorgridcolor\":\"#506784\",\"startlinecolor\":\"#A2B1C6\"},\"baxis\":{\"endlinecolor\":\"#A2B1C6\",\"gridcolor\":\"#506784\",\"linecolor\":\"#506784\",\"minorgridcolor\":\"#506784\",\"startlinecolor\":\"#A2B1C6\"},\"type\":\"carpet\"}],\"table\":[{\"cells\":{\"fill\":{\"color\":\"#506784\"},\"line\":{\"color\":\"rgb(17,17,17)\"}},\"header\":{\"fill\":{\"color\":\"#2a3f5f\"},\"line\":{\"color\":\"rgb(17,17,17)\"}},\"type\":\"table\"}],\"barpolar\":[{\"marker\":{\"line\":{\"color\":\"rgb(17,17,17)\",\"width\":0.5},\"pattern\":{\"fillmode\":\"overlay\",\"size\":10,\"solidity\":0.2}},\"type\":\"barpolar\"}],\"pie\":[{\"automargin\":true,\"type\":\"pie\"}]},\"layout\":{\"autotypenumbers\":\"strict\",\"colorway\":[\"#636efa\",\"#EF553B\",\"#00cc96\",\"#ab63fa\",\"#FFA15A\",\"#19d3f3\",\"#FF6692\",\"#B6E880\",\"#FF97FF\",\"#FECB52\"],\"font\":{\"color\":\"#f2f5fa\"},\"hovermode\":\"closest\",\"hoverlabel\":{\"align\":\"left\"},\"paper_bgcolor\":\"rgb(17,17,17)\",\"plot_bgcolor\":\"rgb(17,17,17)\",\"polar\":{\"bgcolor\":\"rgb(17,17,17)\",\"angularaxis\":{\"gridcolor\":\"#506784\",\"linecolor\":\"#506784\",\"ticks\":\"\"},\"radialaxis\":{\"gridcolor\":\"#506784\",\"linecolor\":\"#506784\",\"ticks\":\"\"}},\"ternary\":{\"bgcolor\":\"rgb(17,17,17)\",\"aaxis\":{\"gridcolor\":\"#506784\",\"linecolor\":\"#506784\",\"ticks\":\"\"},\"baxis\":{\"gridcolor\":\"#506784\",\"linecolor\":\"#506784\",\"ticks\":\"\"},\"caxis\":{\"gridcolor\":\"#506784\",\"linecolor\":\"#506784\",\"ticks\":\"\"}},\"coloraxis\":{\"colorbar\":{\"outlinewidth\":0,\"ticks\":\"\"}},\"colorscale\":{\"sequential\":[[0.0,\"#0d0887\"],[0.1111111111111111,\"#46039f\"],[0.2222222222222222,\"#7201a8\"],[0.3333333333333333,\"#9c179e\"],[0.4444444444444444,\"#bd3786\"],[0.5555555555555556,\"#d8576b\"],[0.6666666666666666,\"#ed7953\"],[0.7777777777777778,\"#fb9f3a\"],[0.8888888888888888,\"#fdca26\"],[1.0,\"#f0f921\"]],\"sequentialminus\":[[0.0,\"#0d0887\"],[0.1111111111111111,\"#46039f\"],[0.2222222222222222,\"#7201a8\"],[0.3333333333333333,\"#9c179e\"],[0.4444444444444444,\"#bd3786\"],[0.5555555555555556,\"#d8576b\"],[0.6666666666666666,\"#ed7953\"],[0.7777777777777778,\"#fb9f3a\"],[0.8888888888888888,\"#fdca26\"],[1.0,\"#f0f921\"]],\"diverging\":[[0,\"#8e0152\"],[0.1,\"#c51b7d\"],[0.2,\"#de77ae\"],[0.3,\"#f1b6da\"],[0.4,\"#fde0ef\"],[0.5,\"#f7f7f7\"],[0.6,\"#e6f5d0\"],[0.7,\"#b8e186\"],[0.8,\"#7fbc41\"],[0.9,\"#4d9221\"],[1,\"#276419\"]]},\"xaxis\":{\"gridcolor\":\"#283442\",\"linecolor\":\"#506784\",\"ticks\":\"\",\"title\":{\"standoff\":15},\"zerolinecolor\":\"#283442\",\"automargin\":true,\"zerolinewidth\":2},\"yaxis\":{\"gridcolor\":\"#283442\",\"linecolor\":\"#506784\",\"ticks\":\"\",\"title\":{\"standoff\":15},\"zerolinecolor\":\"#283442\",\"automargin\":true,\"zerolinewidth\":2},\"scene\":{\"xaxis\":{\"backgroundcolor\":\"rgb(17,17,17)\",\"gridcolor\":\"#506784\",\"linecolor\":\"#506784\",\"showbackground\":true,\"ticks\":\"\",\"zerolinecolor\":\"#C8D4E3\",\"gridwidth\":2},\"yaxis\":{\"backgroundcolor\":\"rgb(17,17,17)\",\"gridcolor\":\"#506784\",\"linecolor\":\"#506784\",\"showbackground\":true,\"ticks\":\"\",\"zerolinecolor\":\"#C8D4E3\",\"gridwidth\":2},\"zaxis\":{\"backgroundcolor\":\"rgb(17,17,17)\",\"gridcolor\":\"#506784\",\"linecolor\":\"#506784\",\"showbackground\":true,\"ticks\":\"\",\"zerolinecolor\":\"#C8D4E3\",\"gridwidth\":2}},\"shapedefaults\":{\"line\":{\"color\":\"#f2f5fa\"}},\"annotationdefaults\":{\"arrowcolor\":\"#f2f5fa\",\"arrowhead\":0,\"arrowwidth\":1},\"geo\":{\"bgcolor\":\"rgb(17,17,17)\",\"landcolor\":\"rgb(17,17,17)\",\"subunitcolor\":\"#506784\",\"showland\":true,\"showlakes\":true,\"lakecolor\":\"rgb(17,17,17)\"},\"title\":{\"x\":0.05},\"updatemenudefaults\":{\"bgcolor\":\"#506784\",\"borderwidth\":0},\"sliderdefaults\":{\"bgcolor\":\"#C8D4E3\",\"borderwidth\":1,\"bordercolor\":\"rgb(17,17,17)\",\"tickwidth\":0},\"mapbox\":{\"style\":\"dark\"}}},\"xaxis\":{\"anchor\":\"y\",\"domain\":[0.0,1.0],\"title\":{\"text\":\"Violation Description\"},\"categoryorder\":\"array\",\"categoryarray\":[\"Meter Expired\",\"2011 Parked -meter expi\",\"2010 Overtime Parking\",\"Overtime\",\"Rush Hour\",\"Snow Route\",\"No Stop\",\"2011 Stand/stop/park on snow\",\"No stopping anytime\",\"No Park\"]},\"yaxis\":{\"anchor\":\"x\",\"domain\":[0.0,1.0],\"title\":{\"text\":\"Number of Tickets\"}},\"legend\":{\"title\":{\"text\":\"Violation Description\"},\"tracegroupgap\":0},\"title\":{\"text\":\"Top 10 Parking Violations\"},\"barmode\":\"relative\"},                        {\"responsive\": true}                    ).then(function(){\n                            \nvar gd = document.getElementById('a08844be-289f-4a18-a211-890587187041');\nvar x = new MutationObserver(function (mutations, observer) {{\n        var display = window.getComputedStyle(gd).display;\n        if (!display || display === 'none') {{\n            console.log([gd, 'removed!']);\n            Plotly.purge(gd);\n            observer.disconnect();\n        }}\n}});\n\n// Listen for the removal of the full notebook cells\nvar notebookContainer = gd.closest('#notebook-container');\nif (notebookContainer) {{\n    x.observe(notebookContainer, {childList: true});\n}}\n\n// Listen for the clearing of the current output cell\nvar outputEl = gd.closest('.output');\nif (outputEl) {{\n    x.observe(outputEl, {childList: true});\n}}\n\n                        })                };                });            </script>        </div>"
     },
     "metadata": {},
     "output_type": "display_data"
    }
   ],
   "source": [
    "fig = px.bar(top_5_violations, x='Violation Description',y='count', color='Violation Description',\n",
    "             title='Top 10 Parking Violations',\n",
    "             labels={'count': 'Number of Tickets'})\n",
    "fig"
   ],
   "metadata": {
    "collapsed": false,
    "pycharm": {
     "name": "#%%\n"
    }
   }
  },
  {
   "cell_type": "code",
   "execution_count": null,
   "outputs": [],
   "source": [],
   "metadata": {
    "collapsed": false,
    "pycharm": {
     "name": "#%%\n"
    }
   }
  }
 ],
 "metadata": {
  "kernelspec": {
   "display_name": "Python 3 (ipykernel)",
   "language": "python",
   "name": "python3"
  },
  "language_info": {
   "codemirror_mode": {
    "name": "ipython",
    "version": 3
   },
   "file_extension": ".py",
   "mimetype": "text/x-python",
   "name": "python",
   "nbconvert_exporter": "python",
   "pygments_lexer": "ipython3",
   "version": "3.9.13"
  }
 },
 "nbformat": 4,
 "nbformat_minor": 1
}