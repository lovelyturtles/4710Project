{
 "cells": [
  {
   "cell_type": "code",
   "execution_count": 1,
   "metadata": {},
   "outputs": [],
   "source": [
    "import pandas as pd\n",
    "import numpy as np"
   ]
  },
  {
   "cell_type": "code",
   "execution_count": 2,
   "metadata": {},
   "outputs": [],
   "source": [
    "df = pd.read_csv('violations_merged.csv',low_memory=False)"
   ]
  },
  {
   "cell_type": "code",
   "execution_count": 3,
   "metadata": {},
   "outputs": [],
   "source": [
    "df = df.sample(n=100000, random_state=1)"
   ]
  },
  {
   "cell_type": "code",
   "execution_count": 4,
   "metadata": {},
   "outputs": [],
   "source": [
    "df['Date'] = pd.to_datetime(df['Date'])\n",
    "df['Day'] = df['Date'].dt.day_name()\n",
    "df[['Longitude', 'Latitude']] = df['Location'].str.split(',', n=1, expand=True)\n",
    "df['Longitude'] = df['Longitude'].str[1:]\n",
    "df['Latitude'] = df['Latitude'].str[:-1]"
   ]
  },
  {
   "cell_type": "code",
   "execution_count": 6,
   "metadata": {},
   "outputs": [],
   "source": [
    "df[\"Violation Code\"] = df[\"Violation Code\"].astype(str)"
   ]
  },
  {
   "cell_type": "code",
   "execution_count": 7,
   "metadata": {},
   "outputs": [],
   "source": [
    "df = df[[\"Longitude\",\"Latitude\",\"Street\",\"Day\",\"Violation Code\"]]"
   ]
  },
  {
   "cell_type": "code",
   "execution_count": 8,
   "metadata": {},
   "outputs": [],
   "source": [
    "df.to_csv(\"cleanedSample.csv\",index=False)"
   ]
  },
  {
   "cell_type": "code",
   "execution_count": 9,
   "metadata": {},
   "outputs": [
    {
     "data": {
      "text/html": [
       "<div>\n",
       "<style scoped>\n",
       "    .dataframe tbody tr th:only-of-type {\n",
       "        vertical-align: middle;\n",
       "    }\n",
       "\n",
       "    .dataframe tbody tr th {\n",
       "        vertical-align: top;\n",
       "    }\n",
       "\n",
       "    .dataframe thead th {\n",
       "        text-align: right;\n",
       "    }\n",
       "</style>\n",
       "<table border=\"1\" class=\"dataframe\">\n",
       "  <thead>\n",
       "    <tr style=\"text-align: right;\">\n",
       "      <th></th>\n",
       "      <th>Longitude</th>\n",
       "      <th>Latitude</th>\n",
       "      <th>Street</th>\n",
       "      <th>Day</th>\n",
       "      <th>Violation Code</th>\n",
       "    </tr>\n",
       "  </thead>\n",
       "  <tbody>\n",
       "    <tr>\n",
       "      <th>365711</th>\n",
       "      <td>49.9330483</td>\n",
       "      <td>-97.142763</td>\n",
       "      <td>Parr ST</td>\n",
       "      <td>Sunday</td>\n",
       "      <td>34</td>\n",
       "    </tr>\n",
       "    <tr>\n",
       "      <th>297951</th>\n",
       "      <td>49.8768583</td>\n",
       "      <td>-97.14131</td>\n",
       "      <td>Gertrude AVE</td>\n",
       "      <td>Monday</td>\n",
       "      <td>38</td>\n",
       "    </tr>\n",
       "    <tr>\n",
       "      <th>394914</th>\n",
       "      <td>49.8841083</td>\n",
       "      <td>-97.141716</td>\n",
       "      <td>Assiniboine Ave.</td>\n",
       "      <td>Wednesday</td>\n",
       "      <td>1</td>\n",
       "    </tr>\n",
       "    <tr>\n",
       "      <th>420408</th>\n",
       "      <td>49.8895783</td>\n",
       "      <td>-97.263586</td>\n",
       "      <td>Strauss DR</td>\n",
       "      <td>Wednesday</td>\n",
       "      <td>20</td>\n",
       "    </tr>\n",
       "    <tr>\n",
       "      <th>147169</th>\n",
       "      <td>49.8991</td>\n",
       "      <td>-97.1403</td>\n",
       "      <td>King ST</td>\n",
       "      <td>Monday</td>\n",
       "      <td>1</td>\n",
       "    </tr>\n",
       "    <tr>\n",
       "      <th>...</th>\n",
       "      <td>...</td>\n",
       "      <td>...</td>\n",
       "      <td>...</td>\n",
       "      <td>...</td>\n",
       "      <td>...</td>\n",
       "    </tr>\n",
       "    <tr>\n",
       "      <th>523967</th>\n",
       "      <td>49.883975</td>\n",
       "      <td>-97.158071</td>\n",
       "      <td>Furby ST</td>\n",
       "      <td>Wednesday</td>\n",
       "      <td>5</td>\n",
       "    </tr>\n",
       "    <tr>\n",
       "      <th>650948</th>\n",
       "      <td>49.8941283</td>\n",
       "      <td>-97.136073</td>\n",
       "      <td>Pioneer AVE</td>\n",
       "      <td>Monday</td>\n",
       "      <td>1</td>\n",
       "    </tr>\n",
       "    <tr>\n",
       "      <th>739317</th>\n",
       "      <td>49.90475</td>\n",
       "      <td>-97.15773</td>\n",
       "      <td>William AVE</td>\n",
       "      <td>Wednesday</td>\n",
       "      <td>16</td>\n",
       "    </tr>\n",
       "    <tr>\n",
       "      <th>870617</th>\n",
       "      <td>49.8971566</td>\n",
       "      <td>-97.13466</td>\n",
       "      <td>Bannatyne AVE</td>\n",
       "      <td>Friday</td>\n",
       "      <td>1</td>\n",
       "    </tr>\n",
       "    <tr>\n",
       "      <th>788411</th>\n",
       "      <td>49.870405</td>\n",
       "      <td>-97.17998</td>\n",
       "      <td>Elm ST</td>\n",
       "      <td>Wednesday</td>\n",
       "      <td>17</td>\n",
       "    </tr>\n",
       "  </tbody>\n",
       "</table>\n",
       "<p>100000 rows × 5 columns</p>\n",
       "</div>"
      ],
      "text/plain": [
       "         Longitude     Latitude            Street        Day Violation Code\n",
       "365711  49.9330483   -97.142763           Parr ST     Sunday             34\n",
       "297951  49.8768583    -97.14131      Gertrude AVE     Monday             38\n",
       "394914  49.8841083   -97.141716  Assiniboine Ave.  Wednesday              1\n",
       "420408  49.8895783   -97.263586        Strauss DR  Wednesday             20\n",
       "147169     49.8991     -97.1403           King ST     Monday              1\n",
       "...            ...          ...               ...        ...            ...\n",
       "523967   49.883975   -97.158071          Furby ST  Wednesday              5\n",
       "650948  49.8941283   -97.136073       Pioneer AVE     Monday              1\n",
       "739317    49.90475    -97.15773       William AVE  Wednesday             16\n",
       "870617  49.8971566    -97.13466     Bannatyne AVE     Friday              1\n",
       "788411   49.870405    -97.17998            Elm ST  Wednesday             17\n",
       "\n",
       "[100000 rows x 5 columns]"
      ]
     },
     "execution_count": 9,
     "metadata": {},
     "output_type": "execute_result"
    }
   ],
   "source": [
    "df"
   ]
  },
  {
   "cell_type": "code",
   "execution_count": null,
   "metadata": {},
   "outputs": [],
   "source": []
  }
 ],
 "metadata": {
  "kernelspec": {
   "display_name": "Python 3",
   "language": "python",
   "name": "python3"
  },
  "language_info": {
   "codemirror_mode": {
    "name": "ipython",
    "version": 3
   },
   "file_extension": ".py",
   "mimetype": "text/x-python",
   "name": "python",
   "nbconvert_exporter": "python",
   "pygments_lexer": "ipython3",
   "version": "3.11.2"
  },
  "orig_nbformat": 4
 },
 "nbformat": 4,
 "nbformat_minor": 2
}
